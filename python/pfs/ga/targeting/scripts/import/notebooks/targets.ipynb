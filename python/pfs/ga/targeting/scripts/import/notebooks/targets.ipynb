{
 "cells": [
  {
   "cell_type": "code",
   "execution_count": 0,
   "metadata": {},
   "outputs": [],
   "source": [
    "DEBUG = False\n",
    "CONFIG_FILE = '/datascope/subaru/data/targeting/m31/m31_PFS_22_SSP/import/m31_PFS_22_SSP_099/ga-import_20250830213515.config'\n",
    "OUTPUT_PATH = '/datascope/subaru/data/targeting/m31/m31_PFS_22_SSP/import/m31_PFS_22_SSP_099'"
   ]
  },
  {
   "cell_type": "markdown",
   "metadata": {},
   "source": [
    "# Plot the cross-matched target list"
   ]
  },
  {
   "cell_type": "code",
   "execution_count": 0,
   "metadata": {},
   "outputs": [],
   "source": [
    "import os, sys\n",
    "from glob import glob\n",
    "import numpy as np\n",
    "import pandas as pd\n",
    "import matplotlib.pyplot as plt"
   ]
  },
  {
   "cell_type": "code",
   "execution_count": 0,
   "metadata": {},
   "outputs": [],
   "source": [
    "plt.rc('font', size=6) #controls default text size"
   ]
  },
  {
   "cell_type": "code",
   "execution_count": 0,
   "metadata": {},
   "outputs": [],
   "source": [
    "%load_ext autoreload\n",
    "%autoreload 2"
   ]
  },
  {
   "cell_type": "code",
   "execution_count": 0,
   "metadata": {},
   "outputs": [],
   "source": [
    "if DEBUG and 'debug' not in globals():\n",
    "    import debugpy\n",
    "    debugpy.listen(('0.0.0.0', int(os.environ['PFS_TARGETING_DEBUGPORT'])))\n",
    "    debug = True"
   ]
  },
  {
   "cell_type": "markdown",
   "metadata": {},
   "source": [
    "# Imports"
   ]
  },
  {
   "cell_type": "code",
   "execution_count": 0,
   "metadata": {},
   "outputs": [],
   "source": [
    "import pfs.utils\n",
    "from pfs.ga.targeting.instrument import *\n",
    "from notebooks import *"
   ]
  },
  {
   "cell_type": "markdown",
   "metadata": {},
   "source": [
    "# Load the netflow config file"
   ]
  },
  {
   "cell_type": "code",
   "execution_count": 0,
   "metadata": {},
   "outputs": [],
   "source": [
    "# Load the configuration\n",
    "config = load_netflow_config(CONFIG_FILE)"
   ]
  },
  {
   "cell_type": "code",
   "execution_count": 0,
   "metadata": {},
   "outputs": [],
   "source": [
    "config.targets['fluxstd'].mask"
   ]
  },
  {
   "cell_type": "markdown",
   "metadata": {},
   "source": [
    "# Load the cross-matched target list"
   ]
  },
  {
   "cell_type": "code",
   "execution_count": 0,
   "metadata": {},
   "outputs": [],
   "source": [
    "fn = os.path.expandvars(os.path.join(OUTPUT_PATH, 'netflow_targets.feather'))\n",
    "targets = pd.read_feather(fn)"
   ]
  },
  {
   "cell_type": "code",
   "execution_count": 0,
   "metadata": {},
   "outputs": [],
   "source": [
    "targets.columns"
   ]
  },
  {
   "cell_type": "code",
   "execution_count": 0,
   "metadata": {},
   "outputs": [],
   "source": [
    "targets['key'].unique()"
   ]
  },
  {
   "cell_type": "code",
   "execution_count": 0,
   "metadata": {},
   "outputs": [],
   "source": [
    "# Number of targets in each target list\n",
    "# Target lists are processed in order, each target is considered from a catalog when\n",
    "# it first appears among the targets. If a target in a further target list has a match\n",
    "# in the main target list, it's not added again but rather, the missing columns are\n",
    "# updated.\n",
    "\n",
    "for key in targets['key'].unique():\n",
    "    mask = (targets['key'] == key)\n",
    "    print(key, mask.sum())"
   ]
  },
  {
   "cell_type": "code",
   "execution_count": 0,
   "metadata": {},
   "outputs": [],
   "source": [
    "# Histogram of proper motion\n",
    "\n",
    "for key in targets['key'].unique():\n",
    "    mask = (targets['key'] == key) & ~(targets['pmra'].isna())\n",
    "\n",
    "    f, ax = plt.subplots()\n",
    "\n",
    "    hist, bins = np.histogram(targets[mask]['pmra'])\n",
    "    ax.step(0.5 * (bins[1:] + bins[:-1]), hist, where='mid')\n",
    "\n",
    "    hist, bins = np.histogram(targets[mask]['pmdec'])\n",
    "    ax.step(0.5 * (bins[1:] + bins[:-1]), hist, where='mid')\n",
    "\n",
    "    ax.set_title(key)"
   ]
  },
  {
   "cell_type": "code",
   "execution_count": 0,
   "metadata": {},
   "outputs": [],
   "source": [
    "# Fraction of stars with proper motion\n",
    "\n",
    "keys = targets['key'].unique()\n",
    "hist = np.zeros(keys.size, dtype=float)\n",
    "bins = np.arange(keys.size)\n",
    "for i, key in enumerate(keys):\n",
    "    mask = (targets['key'] == key) & ~(targets['pmra'].isna())\n",
    "    hist[i] = mask.sum() / mask.size\n",
    "\n",
    "f, ax = plt.subplots(dpi=240)\n",
    "\n",
    "ax.bar(bins, hist)\n",
    "ax.set_xticks(bins)\n",
    "ax.set_xticklabels(keys)"
   ]
  },
  {
   "cell_type": "markdown",
   "metadata": {},
   "source": [
    "# Plot the target list"
   ]
  },
  {
   "cell_type": "code",
   "execution_count": 0,
   "metadata": {},
   "outputs": [],
   "source": [
    "if config.field.center is not None:\n",
    "    center = config.field.center.get_pointing()\n",
    "else:\n",
    "    center = config.pointings[0].get_pointing()\n",
    "\n",
    "if config.pointings is not None:\n",
    "    pointings = [ p.get_pointing() for p in config.pointings ]\n",
    "else:\n",
    "    pointings = None\n",
    "\n",
    "pointings, center"
   ]
  },
  {
   "cell_type": "code",
   "execution_count": 0,
   "metadata": {},
   "outputs": [],
   "source": [
    "# Create the PFI instrument. This will load the instrument calibration data.\n",
    "pfi = SubaruPFI(instrument_options=config.instrument_options)"
   ]
  },
  {
   "cell_type": "code",
   "execution_count": 0,
   "metadata": {},
   "outputs": [],
   "source": [
    "f, ax = plt.subplots()"
   ]
  }
 ],
 "metadata": {
  "kernelspec": {
   "display_name": "dobos-torch",
   "language": "python",
   "name": "python3"
  },
  "language_info": {
   "codemirror_mode": {
    "name": "ipython",
    "version": 3
   },
   "file_extension": ".py",
   "mimetype": "text/x-python",
   "name": "python",
   "nbconvert_exporter": "python",
   "pygments_lexer": "ipython3",
   "version": "3.10.15"
  }
 },
 "nbformat": 4,
 "nbformat_minor": 2
}