{
 "cells": [
  {
   "cell_type": "code",
   "execution_count": 0,
   "metadata": {},
   "outputs": [],
   "source": [
    "DEBUG = False\n",
    "CONFIG_FILE = '/datascope/subaru/data/targeting/dSph/ursaminor/sample/ursaminor_nb_3/ga-sample_20250310113949.config'\n",
    "OUTPUT_PATH = '/datascope/subaru/data/targeting/dSph/ursaminor/sample/ursaminor_nb_3'"
   ]
  },
  {
   "cell_type": "markdown",
   "metadata": {},
   "source": [
    "# Plot the selection and priority of targets"
   ]
  },
  {
   "cell_type": "code",
   "execution_count": 0,
   "metadata": {},
   "outputs": [],
   "source": [
    "import os, sys\n",
    "from glob import glob\n",
    "import numpy as np\n",
    "import matplotlib.pyplot as plt\n",
    "import commentjson as json"
   ]
  },
  {
   "cell_type": "code",
   "execution_count": 0,
   "metadata": {},
   "outputs": [],
   "source": [
    "plt.rc('font', size=6) #controls default text size"
   ]
  },
  {
   "cell_type": "code",
   "execution_count": 0,
   "metadata": {},
   "outputs": [],
   "source": [
    "%load_ext autoreload\n",
    "%autoreload 2"
   ]
  },
  {
   "cell_type": "code",
   "execution_count": 0,
   "metadata": {},
   "outputs": [],
   "source": [
    "if DEBUG and 'debug' not in globals():\n",
    "    import debugpy\n",
    "    debugpy.listen(('0.0.0.0', int(os.environ['PFS_TARGETING_DEBUGPORT'])))\n",
    "    debug = True"
   ]
  },
  {
   "cell_type": "markdown",
   "metadata": {},
   "source": [
    "# Imports"
   ]
  },
  {
   "cell_type": "code",
   "execution_count": 0,
   "metadata": {},
   "outputs": [],
   "source": [
    "import pfs.utils\n",
    "\n",
    "from pfs.ga.targeting.scripts.sample.notebooks.notebooks import *\n",
    "from pfs.ga.targeting.targets.dsph import GALAXIES as DSPH_FIELDS\n",
    "from pfs.ga.targeting.targets.m31 import M31_FIELDS\n",
    "from pfs.ga.targeting import ProbabilityMap\n",
    "from pfs.ga.targeting.instrument import *\n",
    "from pfs.ga.targeting.diagram import CMD, CCD, FOV, FP, ColorAxis, MagnitudeAxis\n",
    "from pfs.ga.targeting.photometry import Photometry, Magnitude, Color\n",
    "from pfs.ga.targeting.projection import WcsProjection, Pointing\n",
    "from pfs.ga.targeting.netflow import Netflow\n",
    "from pfs.ga.targeting.io import DataFrameSerializer, ObservationSerializer"
   ]
  },
  {
   "cell_type": "markdown",
   "metadata": {},
   "source": [
    "# Load the config and args files"
   ]
  },
  {
   "cell_type": "code",
   "execution_count": 0,
   "metadata": {},
   "outputs": [],
   "source": [
    "# Load the configuration\n",
    "config = load_sample_config(CONFIG_FILE)"
   ]
  },
  {
   "cell_type": "code",
   "execution_count": 0,
   "metadata": {},
   "outputs": [],
   "source": [
    "args_file = os.path.splitext(CONFIG_FILE)[0] + '.args'\n",
    "with open(args_file) as f:\n",
    "    args = json.load(f)"
   ]
  },
  {
   "cell_type": "markdown",
   "metadata": {},
   "source": [
    "# Plot definitions"
   ]
  },
  {
   "cell_type": "code",
   "execution_count": 0,
   "metadata": {},
   "outputs": [],
   "source": [
    "if 'dsph' in args and args['dsph'] is not None:\n",
    "    field = DSPH_FIELDS[args['dsph']]\n",
    "\n",
    "hsc = field.get_photometry()\n",
    "cmd = field.get_cmd()\n",
    "ccd = field.get_ccd()"
   ]
  },
  {
   "cell_type": "code",
   "execution_count": 0,
   "metadata": {},
   "outputs": [],
   "source": [
    "pointings = field.get_pointings(SubaruPFI)\n",
    "pointing = pointings[0]\n",
    "\n",
    "for p in pointings:\n",
    "    print(p.ra, p.dec, p.posang)"
   ]
  },
  {
   "cell_type": "code",
   "execution_count": 0,
   "metadata": {},
   "outputs": [],
   "source": [
    "pfi = SubaruPFI(instrument_options={ 'layout': 'calibration' })\n",
    "wcs = WcsProjection(Pointing(field.pos), proj='TAN')\n",
    "wfc = SubaruWFC(pointing)\n",
    "fov = FOV(projection=wcs)\n",
    "fp = FP(wfc)"
   ]
  },
  {
   "cell_type": "markdown",
   "metadata": {},
   "source": [
    "# Load the original and the pre-processed target lists"
   ]
  },
  {
   "cell_type": "code",
   "execution_count": 0,
   "metadata": {},
   "outputs": [],
   "source": [
    "obs = load_observations(field, config)\n",
    "\n",
    "obs.data.columns"
   ]
  },
  {
   "cell_type": "code",
   "execution_count": 0,
   "metadata": {},
   "outputs": [],
   "source": [
    "fn = os.path.expandvars(os.path.join(OUTPUT_PATH, f'hsc_{field.ID}_priorities.feather'))\n",
    "sample = ObservationSerializer().read(fn)\n",
    "\n",
    "sample.data.columns"
   ]
  },
  {
   "cell_type": "markdown",
   "metadata": {},
   "source": [
    "# Plot"
   ]
  },
  {
   "cell_type": "code",
   "execution_count": 0,
   "metadata": {},
   "outputs": [],
   "source": [
    "plot_sample(field, obs, None, cmd, ccd, pfi, fov, wcs, color_by='priority', cmap='tab10',\n",
    "            label='target priority', title='Full HSC sample')"
   ]
  },
  {
   "cell_type": "code",
   "execution_count": 0,
   "metadata": {},
   "outputs": [],
   "source": [
    "plot_sample(field, obs, sample, cmd, ccd, pfi, fov, wcs,\n",
    "            label='target priority', title='All HSC targets')"
   ]
  },
  {
   "cell_type": "markdown",
   "metadata": {},
   "source": [
    "# Plot priority classes"
   ]
  },
  {
   "cell_type": "code",
   "execution_count": 0,
   "metadata": {},
   "outputs": [],
   "source": [
    "plot_sample(field, obs, sample, cmd, ccd, pfi, fov, wcs, color_by='priority', cmap='tab10',\n",
    "            label='target priority', title='All HSC targets')"
   ]
  },
  {
   "cell_type": "code",
   "execution_count": 0,
   "metadata": {},
   "outputs": [],
   "source": [
    "hist = np.bincount(sample.data['priority'])\n",
    "bins = np.arange(len(hist))\n",
    "\n",
    "f, ax = plt.subplots(1, 1, figsize=(4, 3), dpi=240)\n",
    "\n",
    "ax.bar(bins, hist)\n",
    "ax.set_title('Distribution of priority classes')\n",
    "\n",
    "# Add the number of targets to the top of each bar\n",
    "for i, v in enumerate(np.histogram(sample.data['priority'])[0]):\n",
    "    plt.text(i, v + 1, str(v), ha='center', va='bottom')"
   ]
  },
  {
   "cell_type": "code",
   "execution_count": 0,
   "metadata": {},
   "outputs": [],
   "source": [
    "for pp in np.sort(sample.data['priority'].unique()):\n",
    "    mask = sample.data['priority'] == pp\n",
    "    plot_sample(field, obs, sample, cmd, ccd, pfi, fov, wcs, mask=mask, title=f'Priority {pp}', size=1)"
   ]
  },
  {
   "cell_type": "code",
   "execution_count": 0,
   "metadata": {},
   "outputs": [],
   "source": [
    "sample.data.columns"
   ]
  },
  {
   "cell_type": "code",
   "execution_count": 0,
   "metadata": {},
   "outputs": [],
   "source": [
    "pp = np.sort(sample.data['priority'][sample.data['priority'] >= 0].unique())\n",
    "for p in pp:\n",
    "\n",
    "    f, axs = plt.subplots(1, 2, figsize=(6, 2.5), dpi=240)\n",
    "\n",
    "    mask = (sample.data['priority'] == p) & (~sample.data['p_member'].isna())\n",
    "    bins = np.linspace(0, 1.0, 31)\n",
    "    hist, _ = np.histogram(sample.data['p_member'][mask], bins=bins)\n",
    "    axs[0].step(0.5 * (bins[1:] + bins[:-1]), hist, where='mid')\n",
    "    axs[0].set_title(f'Distribution of p_member')\n",
    "\n",
    "    bins = np.linspace(17, 23, 31)\n",
    "    g, _ = sample.get_magnitude(hsc.magnitudes['g'])\n",
    "    hist, _ = np.histogram(g[mask], bins=bins)\n",
    "    axs[1].step(0.5 * (bins[1:] + bins[:-1]), hist, where='mid')\n",
    "    axs[1].set_title(f'Distribution of HSC g manitude')\n",
    "\n",
    "    f.suptitle(f'Priority {p}')"
   ]
  },
  {
   "cell_type": "markdown",
   "metadata": {},
   "source": [
    "# Plot exposure time"
   ]
  },
  {
   "cell_type": "code",
   "execution_count": 0,
   "metadata": {},
   "outputs": [],
   "source": [
    "bins = np.unique(sample.data['exp_time'])\n",
    "hist = np.empty_like(bins, dtype=int)\n",
    "for i, v in enumerate(bins):\n",
    "    hist[i] = np.sum(sample.data['exp_time'] == v)\n",
    "\n",
    "f, ax = plt.subplots(1, 1, figsize=(4, 3), dpi=240)\n",
    "\n",
    "ax.bar(bins, hist, width=900)\n",
    "ax.set_title('Distribution of exposure time')\n",
    "\n",
    "ax.set_xticks(bins)\n",
    "\n",
    "# Add the number of targets to the top of each bar\n",
    "for i, v in enumerate(hist):\n",
    "    plt.text(bins[i], v + 1, str(v), ha='center', va='bottom')"
   ]
  },
  {
   "cell_type": "code",
   "execution_count": 0,
   "metadata": {},
   "outputs": [],
   "source": [
    "plot_sample(field, None, sample, cmd, ccd, pfi, fov, wcs, color_by='exp_time', cmap='viridis', label='exposure time [s]')"
   ]
  },
  {
   "cell_type": "code",
   "execution_count": 0,
   "metadata": {},
   "outputs": [],
   "source": []
  }
 ],
 "metadata": {
  "kernelspec": {
   "display_name": "dobos-torch",
   "language": "python",
   "name": "python3"
  },
  "language_info": {
   "codemirror_mode": {
    "name": "ipython",
    "version": 3
   },
   "file_extension": ".py",
   "mimetype": "text/x-python",
   "name": "python",
   "nbconvert_exporter": "python",
   "pygments_lexer": "ipython3",
   "version": "3.10.15"
  }
 },
 "nbformat": 4,
 "nbformat_minor": 2
}