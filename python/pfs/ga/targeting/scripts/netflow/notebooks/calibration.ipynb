{
 "cells": [
  {
   "cell_type": "code",
   "execution_count": 0,
   "metadata": {},
   "outputs": [],
   "source": [
    "DEBUG = True\n",
    "CONFIG_FILE = '/datascope/subaru/data/targeting/dSph/draco/netflow/SSP/draco_6_002/ga-netflow_20250314094811.config'\n",
    "OUTPUT_PATH = '/datascope/subaru/data/targeting/dSph/draco/netflow/SSP/draco_6_002'"
   ]
  },
  {
   "cell_type": "markdown",
   "metadata": {},
   "source": [
    "# Calibration target distribution\n",
    "\n",
    "Plot the distribution of the calibration targets with cobra regions (sky and instrument) to verify that there are enough flux standards and sky positions to solve the netflow problem."
   ]
  },
  {
   "cell_type": "code",
   "execution_count": 0,
   "metadata": {},
   "outputs": [],
   "source": [
    "import os, sys\n",
    "from glob import glob\n",
    "import numpy as np\n",
    "import matplotlib.pyplot as plt\n",
    "from collections import defaultdict"
   ]
  },
  {
   "cell_type": "code",
   "execution_count": 0,
   "metadata": {},
   "outputs": [],
   "source": [
    "plt.rc('font', size=6)"
   ]
  },
  {
   "cell_type": "code",
   "execution_count": 0,
   "metadata": {},
   "outputs": [],
   "source": [
    "%load_ext autoreload\n",
    "%autoreload 2"
   ]
  },
  {
   "cell_type": "code",
   "execution_count": 0,
   "metadata": {},
   "outputs": [],
   "source": [
    "if DEBUG and 'debug' not in globals():\n",
    "    import debugpy\n",
    "    debugpy.listen(('0.0.0.0', int(os.environ['PFS_TARGETING_DEBUGPORT'])))\n",
    "    debug = True"
   ]
  },
  {
   "cell_type": "markdown",
   "metadata": {},
   "source": [
    "# Imports"
   ]
  },
  {
   "cell_type": "code",
   "execution_count": 0,
   "metadata": {},
   "outputs": [],
   "source": [
    "import pfs.utils\n",
    "\n",
    "from ics.cobraOps.TargetGroup import TargetGroup\n",
    "from ics.cobraOps.TargetSelector import TargetSelector\n",
    "\n",
    "from pfs.ga.targeting.scripts.netflow.notebooks.notebooks import *\n",
    "from pfs.ga.targeting.io import ObservationSerializer\n",
    "from pfs.ga.targeting.instrument import *\n",
    "\n",
    "from pfs.ga.targeting.config.netflow import NetflowConfig\n",
    "from pfs.ga.targeting.targets.dsph import *\n",
    "from pfs.ga.targeting.instrument import *\n",
    "from pfs.ga.targeting.diagram import CMD, CCD, FOV, FP, ColorAxis, MagnitudeAxis\n",
    "from pfs.ga.targeting.photometry import Photometry, Magnitude, Color\n",
    "from pfs.ga.targeting.projection import WcsProjection, Pointing\n",
    "from pfs.ga.targeting.netflow import Netflow\n",
    "from pfs.ga.targeting.io import DataFrameSerializer\n",
    "from pfs.ga.targeting.io import ObservationSerializer\n",
    "from pfs.ga.targeting.scripts.netflow.netflowscript import NetflowScript\n",
    "\n",
    "from astropy.time import Time, TimeDelta"
   ]
  },
  {
   "cell_type": "code",
   "execution_count": 0,
   "metadata": {},
   "outputs": [],
   "source": [
    "import pfs.utils\n",
    "\n",
    "from pfs.ga.targeting.scripts.netflow.notebooks.notebooks import *\n",
    "from pfs.ga.targeting.instrument import *"
   ]
  },
  {
   "cell_type": "markdown",
   "metadata": {},
   "source": [
    "# Load the netflow config file"
   ]
  },
  {
   "cell_type": "code",
   "execution_count": 0,
   "metadata": {},
   "outputs": [],
   "source": [
    "# Load the configuration\n",
    "config = load_netflow_config(CONFIG_FILE)"
   ]
  },
  {
   "cell_type": "markdown",
   "metadata": {},
   "source": [
    "# Load the calibration target lists"
   ]
  },
  {
   "cell_type": "code",
   "execution_count": 0,
   "metadata": {},
   "outputs": [],
   "source": [
    "print_target_list_config(config)"
   ]
  },
  {
   "cell_type": "code",
   "execution_count": 0,
   "metadata": {},
   "outputs": [],
   "source": [
    "target_lists = load_target_lists(config, OUTPUT_PATH, prefix=[ 'cal', 'sky' ])\n",
    "len(target_lists)"
   ]
  },
  {
   "cell_type": "code",
   "execution_count": 0,
   "metadata": {},
   "outputs": [],
   "source": [
    "for key, target_list in target_lists.items():\n",
    "    print(f'{key}: {len(target_list)}')"
   ]
  },
  {
   "cell_type": "code",
   "execution_count": 0,
   "metadata": {},
   "outputs": [],
   "source": [
    "# List available photometry for each target list\n",
    "print_photometry(target_lists)"
   ]
  },
  {
   "cell_type": "markdown",
   "metadata": {},
   "source": [
    "# Plot calibration target coverage"
   ]
  },
  {
   "cell_type": "code",
   "execution_count": 0,
   "metadata": {},
   "outputs": [],
   "source": [
    "# Create the PFI instrument. This will load the instrument calibration data.\n",
    "pfi = SubaruPFI(instrument_options=config.instrument_options)"
   ]
  },
  {
   "cell_type": "code",
   "execution_count": 0,
   "metadata": {},
   "outputs": [],
   "source": [
    "config.field.obs_time"
   ]
  },
  {
   "cell_type": "code",
   "execution_count": 0,
   "metadata": {},
   "outputs": [],
   "source": [
    "for k in config.netflow_options.cobra_groups:\n",
    "    print(k, len(np.unique(config.netflow_options.cobra_groups[k].groups)))"
   ]
  },
  {
   "cell_type": "code",
   "execution_count": 0,
   "metadata": {},
   "outputs": [],
   "source": [
    "def get_visible(pointing, target_list):\n",
    "    # Calculate focal plane coordinates\n",
    "    pointing.obs_time = Time(pointing.obs_time if pointing.obs_time is not None else config.field.obs_time)\n",
    "    print(pointing.ra, pointing.dec, pointing.obs_time)\n",
    "\n",
    "    fp_pos = pfi.radec_to_fp_pos(*target_list.get_coords(), pointing=pointing)\n",
    "    fp_mask = np.abs(fp_pos) < pfi.bench.radius + 10\n",
    "    # print(fp_pos.shape, (np.abs(fp_pos) < 200).sum())\n",
    "\n",
    "    # Calculate the visibility of the targets\n",
    "    class DummyTargetSelector(TargetSelector):\n",
    "        def run(self):\n",
    "            return\n",
    "\n",
    "        def selectTargets(self):\n",
    "            return\n",
    "        \n",
    "    tgroup = TargetGroup(fp_pos[fp_mask])\n",
    "    tselect = DummyTargetSelector(pfi.bench, tgroup)\n",
    "    tselect.calculateAccessibleTargets()\n",
    "    targets = tselect.accessibleTargetIndices   # shape: (cobras, targets), padded with -1\n",
    "\n",
    "    visible = defaultdict(list)\n",
    "\n",
    "    for cidx in range(targets.shape[0]):\n",
    "        for i, fpidx in enumerate(targets[cidx, :]):\n",
    "            if fpidx >= 0:\n",
    "                visible[cidx].append(fpidx)\n",
    "\n",
    "    # Create a list of all visible targets\n",
    "    visible_targets = []\n",
    "    for cidx in visible:\n",
    "        visible_targets.extend(visible[cidx])\n",
    "    visible_targets = np.unique(np.array(visible_targets))\n",
    "\n",
    "    return visible_targets, fp_pos, fp_mask, visible"
   ]
  },
  {
   "cell_type": "code",
   "execution_count": 0,
   "metadata": {},
   "outputs": [],
   "source": [
    "def plot_visible(pointing, target_list, prefix, title):\n",
    "\n",
    "    wcs = WcsProjection(pointing, proj='TAN')\n",
    "    wfc = SubaruWFC(pointing)\n",
    "    fov = FOV(projection=wcs)\n",
    "    fp = FP(wfc)\n",
    "\n",
    "    visible_targets, fp_pos, fp_mask, visible = get_visible(pointing, target_list)\n",
    "\n",
    "    # print(targets.shape, visible_targets.shape)\n",
    "\n",
    "    # Plot the visible targets on the focal plane\n",
    "    f, axs = plt.subplots(1, 3, figsize=(12, 4), dpi=240)\n",
    "\n",
    "    # Plot the visible targets on the focal plane\n",
    "    if visible_targets.sum() > 0:\n",
    "        fp.plot(axs[0], fp_pos[fp_mask].real[visible_targets], fp_pos[fp_mask].imag[visible_targets], ms=1.0, native_frame='pixel', alpha=0.5)\n",
    "    else:\n",
    "        # Print the text in the middle of the axes\n",
    "        axs[0].text(0.5, 0.5, 'No targets visible',\n",
    "                    horizontalalignment='center',\n",
    "                    verticalalignment='center',\n",
    "                    transform=axs[0].transAxes)\n",
    "    pfi.plot_focal_plane(axs[0], fp, corners=True, projection=SubaruWFC(p))\n",
    "\n",
    "    # Plot number of visible targets per cobra\n",
    "    visible_count = {cidx: len(visible[cidx]) for cidx in visible}\n",
    "    visible_count.update({ cidx: 0 for cidx in range(pfi.bench.cobras.nCobras) if cidx not in visible_count })\n",
    "    hist = np.bincount(np.array([ v for v in visible_count.values() ]))\n",
    "    axs[1].bar(np.arange(len(hist)), hist)\n",
    "    axs[1].set_xlabel('Number of visible targets by cobra')\n",
    "    axs[1].set_ylabel('Number of cobras')\n",
    "    \n",
    "    # Plot number of visible targets per cobra group\n",
    "    for name, cobra_group in config.netflow_options.cobra_groups.items():\n",
    "        if prefix in cobra_group.target_classes and cobra_group.groups is not None:\n",
    "            # print(cobra_group.groups.min(), cobra_group.groups.max())\n",
    "\n",
    "            # Sum up the number of visible targets per cobra group, ie. where the group identifier is the same\n",
    "            group_visible = defaultdict(list)\n",
    "            for cidx in visible_count:\n",
    "                gidx = cobra_group.groups[cidx]\n",
    "                group_visible[gidx].append(visible_count[cidx])\n",
    "\n",
    "            group_visible_count = [ np.sum(group_visible[g]) for g in sorted(group_visible) ]\n",
    "            # print(len(group_visible_count))\n",
    "\n",
    "            axs[2].bar(np.arange(len(group_visible_count)), group_visible_count, label=name)\n",
    "\n",
    "    axs[2].set_xlabel('Cobra group')\n",
    "    axs[2].set_ylabel('Number of visible targets')\n",
    "    axs[2].legend()\n",
    "\n",
    "    f.suptitle(title)\n",
    "    f.show()"
   ]
  },
  {
   "cell_type": "code",
   "execution_count": 0,
   "metadata": {},
   "outputs": [],
   "source": [
    "for k in config.targets:\n",
    "    for i, p in enumerate(config.pointings):\n",
    "        print(p.ra, p.dec, p.posang, p.obs_time)\n",
    "        if k in target_lists:\n",
    "            plot_visible(p, target_lists[k], prefix=config.targets[k].prefix, title=f'Visible {k} targets for pointing {i}')"
   ]
  },
  {
   "cell_type": "code",
   "execution_count": 0,
   "metadata": {},
   "outputs": [],
   "source": []
  }
 ],
 "metadata": {
  "kernelspec": {
   "display_name": "dobos-torch",
   "language": "python",
   "name": "python3"
  },
  "language_info": {
   "codemirror_mode": {
    "name": "ipython",
    "version": 3
   },
   "file_extension": ".py",
   "mimetype": "text/x-python",
   "name": "python",
   "nbconvert_exporter": "python",
   "pygments_lexer": "ipython3",
   "version": "3.10.15"
  }
 },
 "nbformat": 4,
 "nbformat_minor": 2
}