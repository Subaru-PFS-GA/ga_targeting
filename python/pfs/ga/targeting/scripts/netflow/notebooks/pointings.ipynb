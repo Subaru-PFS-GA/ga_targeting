{
 "cells": [
  {
   "cell_type": "code",
   "execution_count": 0,
   "metadata": {},
   "outputs": [],
   "source": [
    "DEBUG = False\n",
    "CONFIG_FILE = '/datascope/subaru/data/targeting/dSph/ursaminor/netflow/SSP/ursaminor_6_013/ga-netflow_20250310115104.config'\n",
    "OUTPUT_PATH = '/datascope/subaru/data/targeting/dSph/ursaminor/netflow/SSP/ursaminor_6_013'"
   ]
  },
  {
   "cell_type": "code",
   "execution_count": 0,
   "metadata": {},
   "outputs": [],
   "source": [
    "import os, sys\n",
    "from datetime import datetime\n",
    "import numpy as np\n",
    "import pandas as pd\n",
    "import matplotlib as mpl\n",
    "import matplotlib.pyplot as plt\n",
    "from matplotlib.gridspec import GridSpec\n",
    "from matplotlib.colors import LinearSegmentedColormap\n",
    "from matplotlib.patches import Ellipse, Circle\n",
    "from matplotlib.gridspec import GridSpec\n",
    "import commentjson as json"
   ]
  },
  {
   "cell_type": "code",
   "execution_count": 0,
   "metadata": {},
   "outputs": [],
   "source": [
    "plt.rc('font', size=6)"
   ]
  },
  {
   "cell_type": "code",
   "execution_count": 0,
   "metadata": {},
   "outputs": [],
   "source": [
    "%load_ext autoreload\n",
    "%autoreload 2"
   ]
  },
  {
   "cell_type": "code",
   "execution_count": 0,
   "metadata": {},
   "outputs": [],
   "source": [
    "if DEBUG and 'debug' not in globals():\n",
    "    import debugpy\n",
    "    debugpy.listen(('0.0.0.0', 5698))\n",
    "    debug = True"
   ]
  },
  {
   "cell_type": "markdown",
   "metadata": {},
   "source": [
    "# Imports"
   ]
  },
  {
   "cell_type": "code",
   "execution_count": 0,
   "metadata": {},
   "outputs": [],
   "source": [
    "import pfs.utils\n",
    "from pfs.datamodel import TargetType\n",
    "\n",
    "from pfs.ga.targeting.config.netflow import NetflowConfig\n",
    "from pfs.ga.targeting.scripts.netflow.netflowscript import NetflowScript\n",
    "from pfs.ga.targeting.io import DataFrameSerializer, ObservationSerializer\n",
    "from pfs.ga.targeting.targets.dsph import *\n",
    "from pfs.ga.targeting.instrument import *\n",
    "from pfs.ga.targeting.diagram import CMD, CCD, FOV, FP, ColorAxis, MagnitudeAxis\n",
    "from pfs.ga.targeting.photometry import Photometry, Magnitude, Color\n",
    "from pfs.ga.targeting.projection import WcsProjection, Pointing\n",
    "from pfs.ga.targeting.netflow import Netflow\n",
    "from pfs.ga.targeting.io import DataFrameSerializer\n",
    "from pfs.ga.targeting.targets.dsph import GALAXIES as DSPH_FIELDS\n",
    "from pfs.ga.targeting.targets.m31 import M31_FIELDS"
   ]
  },
  {
   "cell_type": "markdown",
   "metadata": {},
   "source": [
    "# Load the netflow config file and args file"
   ]
  },
  {
   "cell_type": "code",
   "execution_count": 0,
   "metadata": {},
   "outputs": [],
   "source": [
    "# Load the configuration\n",
    "config = NetflowConfig.default()\n",
    "config.load(CONFIG_FILE, ignore_collisions=True, format='.json')\n",
    "\n",
    "print(config.targets.keys())"
   ]
  },
  {
   "cell_type": "code",
   "execution_count": 0,
   "metadata": {},
   "outputs": [],
   "source": [
    "config.pointings"
   ]
  },
  {
   "cell_type": "code",
   "execution_count": 0,
   "metadata": {},
   "outputs": [],
   "source": [
    "with open(os.path.splitext(CONFIG_FILE)[0] + '.args', 'r') as f:\n",
    "    args = json.load(f)"
   ]
  },
  {
   "cell_type": "code",
   "execution_count": 0,
   "metadata": {},
   "outputs": [],
   "source": [
    "args"
   ]
  },
  {
   "cell_type": "markdown",
   "metadata": {},
   "source": [
    "# Load the target lists"
   ]
  },
  {
   "cell_type": "code",
   "execution_count": 0,
   "metadata": {},
   "outputs": [],
   "source": [
    "target_lists = {}\n",
    "\n",
    "for key in config.targets:\n",
    "    fn = os.path.join(OUTPUT_PATH, f'{config.field.key}_targets_{key}.feather')\n",
    "    target_lists[key] = NetflowScript.load_target_list(key, config.targets[key], fn)\n",
    "    print(key, config.targets[key].prefix, config.targets[key].path)"
   ]
  },
  {
   "cell_type": "markdown",
   "metadata": {},
   "source": [
    "# Load the assignments"
   ]
  },
  {
   "cell_type": "code",
   "execution_count": 0,
   "metadata": {},
   "outputs": [],
   "source": [
    "# Load the assignments\n",
    "\n",
    "fn = os.path.join(OUTPUT_PATH, f'{config.field.key}_assignments_all.feather')\n",
    "assignments = DataFrameSerializer().read(fn)\n",
    "\n",
    "print(assignments.shape)\n",
    "for c in assignments.columns:\n",
    "    print(c, assignments[c].dtype)"
   ]
  },
  {
   "cell_type": "code",
   "execution_count": 0,
   "metadata": {},
   "outputs": [],
   "source": [
    "if 'dsph' in args:\n",
    "    field = DSPH_FIELDS[args['dsph']]\n",
    "else:\n",
    "    raise NotImplementedError()\n",
    "\n",
    "field"
   ]
  },
  {
   "cell_type": "code",
   "execution_count": 0,
   "metadata": {},
   "outputs": [],
   "source": [
    "hsc = field.get_photometry()\n",
    "cmd = field.get_cmd()\n",
    "ccd = field.get_ccd()"
   ]
  },
  {
   "cell_type": "code",
   "execution_count": 0,
   "metadata": {},
   "outputs": [],
   "source": [
    "pointing = field.get_center()\n",
    "pointing"
   ]
  },
  {
   "cell_type": "code",
   "execution_count": 0,
   "metadata": {},
   "outputs": [],
   "source": [
    "wcs = WcsProjection(pointing, proj='TAN')\n",
    "fov = FOV(projection=wcs)"
   ]
  },
  {
   "cell_type": "markdown",
   "metadata": {},
   "source": [
    "# Calculate the whitening matrix\n",
    "\n",
    "This basically determines the second moments of the coordinate distribution\n",
    "and yield the axes of the ellipsoid and the position angle"
   ]
  },
  {
   "cell_type": "code",
   "execution_count": 0,
   "metadata": {},
   "outputs": [],
   "source": [
    "from pfs.ga.targeting.projection import Whitening\n",
    "from pfs.ga.targeting.radialprofile import King"
   ]
  },
  {
   "cell_type": "code",
   "execution_count": 0,
   "metadata": {},
   "outputs": [],
   "source": [
    "# obs = target_lists[list(target_lists.keys())[0]]\n",
    "obs = target_lists['hsc']"
   ]
  },
  {
   "cell_type": "code",
   "execution_count": 0,
   "metadata": {},
   "outputs": [],
   "source": [
    "# Iteratively determine a whitening matrix that converts the\n",
    "# spherical coordinates into deprojected coordinates\n",
    "\n",
    "w = Whitening(projection=wcs)\n",
    "w_mask = w.create(obs, iterations=100, s_cut=2.3)\n",
    "\n",
    "w.M, w.reverse(w.M), field.pos"
   ]
  },
  {
   "cell_type": "code",
   "execution_count": 0,
   "metadata": {},
   "outputs": [],
   "source": [
    "[dsph_maj, dsph_min] = w.S\n",
    "dsph_pa = np.degrees(np.angle(w.Vh[0, 0] + 1j * w.Vh[1, 0]))\n",
    "dsph_maj, dsph_min, dsph_pa"
   ]
  },
  {
   "cell_type": "code",
   "execution_count": 0,
   "metadata": {},
   "outputs": [],
   "source": [
    "f, ax = plt.subplots(1, 1, figsize=(8, 8), dpi=240)\n",
    "\n",
    "(wx, wy) = w.apply(obs.get_coords())\n",
    "ax.plot(wx, wy, '.', ms=0.1)\n",
    "ax.plot(wx[w_mask], wy[w_mask], '.', ms=0.1)\n",
    "ax.set_aspect('equal')\n",
    "ax.grid()"
   ]
  },
  {
   "cell_type": "code",
   "execution_count": 0,
   "metadata": {},
   "outputs": [],
   "source": [
    "w.M, w.W, w.reverse(w.M)"
   ]
  },
  {
   "cell_type": "code",
   "execution_count": 0,
   "metadata": {},
   "outputs": [],
   "source": [
    "# Fit profile to all stars within the color cut\n",
    "\n",
    "king = King(transformation=w, R_max=7.5, bins=30)\n",
    "king.histogram(obs) #, mask=w_mask)\n",
    "[S_b, S_0, R_c, R_t], pcov = king.fit()\n",
    "\n",
    "S_b, S_0, R_c, R_t"
   ]
  },
  {
   "cell_type": "code",
   "execution_count": 0,
   "metadata": {},
   "outputs": [],
   "source": [
    "# Verify the King profile fit\n",
    "\n",
    "f, ax = plt.subplots(1, 1, figsize=(3.4, 2.5), dpi=120)\n",
    "\n",
    "R, log_S, log_S_sigma = king.get_log_S()\n",
    "\n",
    "ax.errorbar(R, log_S, 3 * log_S_sigma)\n",
    "ax.set_xlabel('deprojected R')\n",
    "ax.set_ylabel(r'$\\log \\Sigma$')\n",
    "\n",
    "R = np.linspace(0, 7.5, 200)\n",
    "log_S = king.log_eval(R)\n",
    "ax.plot(R, log_S)"
   ]
  },
  {
   "cell_type": "markdown",
   "metadata": {},
   "source": [
    "# Define pointings"
   ]
  },
  {
   "cell_type": "code",
   "execution_count": 0,
   "metadata": {},
   "outputs": [],
   "source": [
    "from astropy.time import Time"
   ]
  },
  {
   "cell_type": "code",
   "execution_count": 0,
   "metadata": {},
   "outputs": [],
   "source": [
    "center = field.get_center()\n",
    "obs_time = Time('2025-03-25T10:00:00')        # midnight in Hawaii\n",
    "\n",
    "# Use the field defaults\n",
    "# pointings = field.get_pointings(SubaruPFI)\n",
    "\n",
    "# Use the config file\n",
    "pointings = [ p.get_pointing(obs_time=obs_time) for p in config.pointings ]\n"
   ]
  },
  {
   "cell_type": "markdown",
   "metadata": {},
   "source": [
    "# Plot"
   ]
  },
  {
   "cell_type": "code",
   "execution_count": 0,
   "metadata": {},
   "outputs": [],
   "source": [
    "f, ax = plt.subplots(1, 1, figsize=(8, 8), dpi=240, subplot_kw=dict(projection=wcs.wcs))\n",
    "\n",
    "fov.plot_observation(ax, obs, c='black', size=0.5)\n",
    "\n",
    "# Plot the tidal radius from the King profile fit\n",
    "ell = king.get_ellipse(R_t)\n",
    "fov.plot(ax, ell, native_frame='world', ls='--', lw=1, c='k')\n",
    "ell = king.get_ellipse(R_t * 2)\n",
    "fov.plot(ax, ell, native_frame='world', ls='--', lw=0.5, c='k')\n",
    "ell = king.get_ellipse(R_t * 3)\n",
    "fov.plot(ax, ell, native_frame='world', ls='--', lw=0.5, c='k')\n",
    "ell = king.get_ellipse(R_c)\n",
    "fov.plot(ax, ell, native_frame='world', ls='-', lw=1, c='k')\n",
    "\n",
    "# Plot the poiting center\n",
    "# fov.plot(ax, [field.pos.ra.value], [field.pos.dec.value], fmt='+r', ms=10, native_frame='world')\n",
    "\n",
    "for pp in pointings:\n",
    "    wfc = SubaruWFC(pp)\n",
    "    pfi = SubaruPFI(wfc, instrument_options=config.instrument_options)\n",
    "\n",
    "    pfi.plot_focal_plane(ax, fov, corners=True, c='r', ls='-', lw=1)\n",
    "    pfi.plot_focal_plane(ax, fov, fill=True, alpha=0.2)\n",
    "\n",
    "ax.set_xlim(1, -3)\n",
    "ax.set_ylim(-3, 1)\n",
    "ax.grid()"
   ]
  },
  {
   "cell_type": "markdown",
   "metadata": {},
   "source": [
    "# Plot the radial distribution of the assigned targets"
   ]
  },
  {
   "cell_type": "code",
   "execution_count": 0,
   "metadata": {},
   "outputs": [],
   "source": [
    "R_c, R_t"
   ]
  },
  {
   "cell_type": "code",
   "execution_count": 0,
   "metadata": {},
   "outputs": [],
   "source": [
    "f, ax = plt.subplots(1, 1, figsize=(4, 3), dpi=240)\n",
    "\n",
    "# Non-filler targets\n",
    "mask = (assignments['prefix'] == 'sci') & ((assignments['priority'] < 5) | (assignments['priority'] == 8))\n",
    "mask &= assignments[mask].duplicated(['__target_idx'], keep='first')\n",
    "(x, y) = w.apply(assignments['RA'][mask], assignments['Dec'][mask])\n",
    "r = np.sqrt(x**2 + y**2)\n",
    "hist, bins = np.histogram(r / R_t, bins=100)\n",
    "ax.step(0.5 * (bins[1:] + bins[:-1]), hist, where='mid', label='non filler')\n",
    "\n",
    "# All science targets\n",
    "mask = (assignments['prefix'] == 'sci')\n",
    "mask &= assignments[mask].duplicated(['__target_idx'], keep='first')\n",
    "(x, y) = w.apply(assignments['RA'][mask], assignments['Dec'][mask])\n",
    "r = np.sqrt(x**2 + y**2)\n",
    "hist, bins = np.histogram(r / R_t, bins=100)\n",
    "ax.step(0.5 * (bins[1:] + bins[:-1]), hist, where='mid', lw=0.5, label='all science')\n",
    "\n",
    "ax.set_xlabel('$R / R_T$')\n",
    "ax.set_ylabel('assigned target count')\n",
    "\n",
    "ax.set_xlim(0, 3.25)\n",
    "ax.set_ylim(0, 1800)\n",
    "\n",
    "ax.set_title('Distribution of assigned targets according to elliptical distance')\n",
    "ax.legend()"
   ]
  },
  {
   "cell_type": "code",
   "execution_count": 0,
   "metadata": {},
   "outputs": [],
   "source": []
  }
 ],
 "metadata": {
  "kernelspec": {
   "display_name": "dobos-torch",
   "language": "python",
   "name": "python3"
  },
  "language_info": {
   "codemirror_mode": {
    "name": "ipython",
    "version": 3
   },
   "file_extension": ".py",
   "mimetype": "text/x-python",
   "name": "python",
   "nbconvert_exporter": "python",
   "pygments_lexer": "ipython3",
   "version": "3.10.15"
  }
 },
 "nbformat": 4,
 "nbformat_minor": 2
}