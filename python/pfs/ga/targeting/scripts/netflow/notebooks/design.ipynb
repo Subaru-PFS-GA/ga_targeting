{
 "cells": [
  {
   "cell_type": "code",
   "execution_count": 0,
   "metadata": {},
   "outputs": [],
   "source": [
    "DEBUG = False\n",
    "CONFIG_FILE = '/datascope/subaru/data/targeting/MW/outerdisk_l180_b22_ENG/netflow/outerdisk_l180_b22_faint_004/ga-netflow_20250123033847.cmd'\n",
    "OUTPUT_PATH = '/datascope/subaru/data/targeting/MW/outerdisk_l180_b22_ENG/netflow/outerdisk_l180_b22_faint_004/'"
   ]
  },
  {
   "cell_type": "markdown",
   "metadata": {},
   "source": [
    "# Plot the design files"
   ]
  },
  {
   "cell_type": "code",
   "execution_count": 0,
   "metadata": {},
   "outputs": [],
   "source": [
    "import os, sys, re\n",
    "from glob import glob\n",
    "import numpy as np\n",
    "import matplotlib.pyplot as plt"
   ]
  },
  {
   "cell_type": "code",
   "execution_count": 0,
   "metadata": {},
   "outputs": [],
   "source": [
    "plt.rc('font', size=6) #controls default text size"
   ]
  },
  {
   "cell_type": "code",
   "execution_count": 0,
   "metadata": {},
   "outputs": [],
   "source": [
    "%load_ext autoreload\n",
    "%autoreload 2"
   ]
  },
  {
   "cell_type": "code",
   "execution_count": 0,
   "metadata": {},
   "outputs": [],
   "source": [
    "if DEBUG and 'debug' not in globals():\n",
    "    import debugpy\n",
    "    debugpy.listen(('0.0.0.0', int(os.environ['PFS_TARGETING_DEBUGPORT'])))\n",
    "    debug = True"
   ]
  },
  {
   "cell_type": "markdown",
   "metadata": {},
   "source": [
    "# Imports"
   ]
  },
  {
   "cell_type": "code",
   "execution_count": 0,
   "metadata": {},
   "outputs": [],
   "source": [
    "import pfs.utils\n",
    "from pfs.datamodel import PfsDesign, FiberStatus, TargetType\n",
    "\n",
    "from pfs.ga.targeting.scripts.netflow.notebooks.notebooks import *\n",
    "from pfs.ga.targeting.instrument import *\n",
    "from pfs.ga.targeting.util.astro import *"
   ]
  },
  {
   "cell_type": "markdown",
   "metadata": {},
   "source": [
    "# Load the netflow config file"
   ]
  },
  {
   "cell_type": "code",
   "execution_count": 0,
   "metadata": {},
   "outputs": [],
   "source": [
    "# Load the configuration\n",
    "config = load_netflow_config(CONFIG_FILE)"
   ]
  },
  {
   "cell_type": "markdown",
   "metadata": {},
   "source": [
    "# Plot the design files"
   ]
  },
  {
   "cell_type": "code",
   "execution_count": 0,
   "metadata": {},
   "outputs": [],
   "source": [
    "# Create the PFI instrument. This will load the instrument calibration data.\n",
    "pfi = SubaruPFI(instrument_options=config.instrument_options)"
   ]
  },
  {
   "cell_type": "code",
   "execution_count": 0,
   "metadata": {},
   "outputs": [],
   "source": [
    "# Find and load the design files in the output directory\n",
    "designs = {}\n",
    "design_files = glob(os.path.join(OUTPUT_PATH, 'pfsDesign*.fits'))\n",
    "for fn in design_files:\n",
    "    pfsDesignId = int(re.search(r'0x[0-9a-f]+', fn).group(0), 16)\n",
    "    design = PfsDesign.read(pfsDesignId, dirName=os.path.dirname(fn))\n",
    "    designs[pfsDesignId] = design\n",
    "    print(f'Loaded design 0x{pfsDesignId:016x}')"
   ]
  },
  {
   "cell_type": "code",
   "execution_count": 0,
   "metadata": {},
   "outputs": [],
   "source": [
    "# Verify that there are no duplicate fiberIds\n",
    "for pfsDesignId, design in designs.items():\n",
    "    counts = np.bincount(design.fiberId)\n",
    "    print(f'0x{pfsDesignId:016x}', np.where(counts > 1))"
   ]
  },
  {
   "cell_type": "code",
   "execution_count": 0,
   "metadata": {},
   "outputs": [],
   "source": [
    "for pfsDesignId, design in designs.items():\n",
    "        f, ax = plt.subplots(1, 1, figsize=(4, 4), dpi=240)\n",
    "\n",
    "        # Broken cobras or fibers\n",
    "        mask = (design.fiberStatus != FiberStatus.GOOD)\n",
    "        ax.plot(design.pfiNominal[mask][..., 0], design.pfiNominal[mask][..., 1], 'x', ms=2, label='broken',\n",
    "                color='black', markeredgewidth=0.5)\n",
    "\n",
    "        # Unassigned good cobras\n",
    "        mask = (design.fiberStatus == FiberStatus.GOOD) & (design.targetType == TargetType.UNASSIGNED)\n",
    "        ax.plot(design.pfiNominal[mask][..., 0], design.pfiNominal[mask][..., 1], 'o', ms=2, label='unassigned',\n",
    "                markerfacecolor='none', markeredgecolor='black', markeredgewidth=0.2)\n",
    "\n",
    "        # Good science targets\n",
    "        mask = (design.fiberStatus == FiberStatus.GOOD) & (design.targetType == TargetType.SCIENCE)\n",
    "        ax.plot(design.pfiNominal[mask][..., 0], design.pfiNominal[mask][..., 1], 'o', ms=1, label='science', color='green')\n",
    "\n",
    "        # Good sky fibers\n",
    "        mask = (design.fiberStatus == FiberStatus.GOOD) & (design.targetType == TargetType.SKY)\n",
    "        ax.plot(design.pfiNominal[mask][..., 0], design.pfiNominal[mask][..., 1], 'o', ms=1, label='sky', color='lightblue')\n",
    "\n",
    "        # Good flux standards\n",
    "        mask = (design.fiberStatus == FiberStatus.GOOD) & (design.targetType == TargetType.FLUXSTD)\n",
    "        ax.plot(design.pfiNominal[mask][..., 0], design.pfiNominal[mask][..., 1], 'o', ms=1, label='fluxstd', color='red')\n",
    "\n",
    "        # Cobra centers\n",
    "        ax.scatter(pfi.bench.cobras.centers.real, pfi.bench.cobras.centers.imag, \n",
    "                   s=0.2, color='black', edgecolors='none')\n",
    "\n",
    "        ax.set_title(\n",
    "                f'designId=0x{pfsDesignId:016x} ({design.raBoresight:0.02f}, {design.decBoresight:0.02f}, PA={design.posAng:0.01f})\\n'\n",
    "                f'{design.designName}')\n",
    "\n",
    "        # Make legend horizontal\n",
    "        ax.legend(loc='upper right', ncol=2, fontsize='small')\n",
    "\n",
    "        f.tight_layout()"
   ]
  },
  {
   "cell_type": "code",
   "execution_count": 0,
   "metadata": {},
   "outputs": [],
   "source": [
    "cmap = plt.get_cmap('tab10')\n",
    "\n",
    "for pfsDesignId, design in designs.items():\n",
    "    f, ax = plt.subplots(1, 1, figsize=(3.5, 2), dpi=240)\n",
    "    for j, target_type in enumerate([TargetType.SCIENCE, TargetType.SKY, TargetType.FLUXSTD]):\n",
    "        idx = np.where((design.fiberStatus == FiberStatus.GOOD) & (design.targetType == target_type))[0]\n",
    "        flux = np.array([ design.fiberFlux[i][0] for i in idx if len(design.fiberFlux[i]) > 0 ])\n",
    "        mag = nJy_to_ABmag(flux)\n",
    "        \n",
    "        ax.hist(mag, color=cmap(j), label=target_type)\n",
    "        \n",
    "    ax.set_xlim(13.1, 24.9)"
   ]
  },
  {
   "cell_type": "code",
   "execution_count": 0,
   "metadata": {},
   "outputs": [],
   "source": [
    "# Unique catIds\n",
    "for pfsDesignId, design in designs.items():\n",
    "    print(f'0x{pfsDesignId:016x}', np.unique(design.catId))"
   ]
  },
  {
   "cell_type": "code",
   "execution_count": 0,
   "metadata": {},
   "outputs": [],
   "source": [
    "# Unique proposalIds\n",
    "for pfsDesignId, design in designs.items():\n",
    "    print(f'0x{pfsDesignId:016x}', np.unique(design.catId))"
   ]
  },
  {
   "cell_type": "code",
   "execution_count": 0,
   "metadata": {},
   "outputs": [],
   "source": [
    "# objId ranges\n",
    "for pfsDesignId, design in designs.items():\n",
    "    for target_type in [TargetType.SCIENCE, TargetType.SKY, TargetType.FLUXSTD]:\n",
    "        mask = (design.fiberStatus == FiberStatus.GOOD) & (design.targetType == target_type)\n",
    "        if mask.sum() > 0:\n",
    "            print(f'0x{pfsDesignId:016x}', target_type, design.objId[mask].min(), design.objId[mask].max())\n",
    "        else:\n",
    "            print(f'0x{pfsDesignId:016x}', target_type, 'no such targets in design')"
   ]
  },
  {
   "cell_type": "code",
   "execution_count": 0,
   "metadata": {},
   "outputs": [],
   "source": []
  }
 ],
 "metadata": {
  "kernelspec": {
   "display_name": "dobos-torch",
   "language": "python",
   "name": "python3"
  },
  "language_info": {
   "codemirror_mode": {
    "name": "ipython",
    "version": 3
   },
   "file_extension": ".py",
   "mimetype": "text/x-python",
   "name": "python",
   "nbconvert_exporter": "python",
   "pygments_lexer": "ipython3",
   "version": "3.10.15"
  }
 },
 "nbformat": 4,
 "nbformat_minor": 2
}