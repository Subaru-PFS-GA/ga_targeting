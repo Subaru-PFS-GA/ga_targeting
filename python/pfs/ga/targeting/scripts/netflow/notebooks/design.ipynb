{
 "cells": [
  {
   "cell_type": "code",
   "execution_count": 0,
   "metadata": {},
   "outputs": [],
   "source": [
    "DEBUG = False\n",
    "CONFIG_FILE = '/datascope/subaru/data/targeting/dSph/draco/netflow/TEST/draco_6_1_021/ga-netflow_20250320085318.config'\n",
    "OUTPUT_PATH = '/datascope/subaru/data/targeting/dSph/draco/netflow/TEST/draco_6_1_021/'"
   ]
  },
  {
   "cell_type": "markdown",
   "metadata": {},
   "source": [
    "# Plot the design files"
   ]
  },
  {
   "cell_type": "code",
   "execution_count": 0,
   "metadata": {},
   "outputs": [],
   "source": [
    "import os, sys, re\n",
    "from glob import glob\n",
    "import numpy as np\n",
    "from scipy.spatial import distance_matrix\n",
    "import matplotlib.pyplot as plt"
   ]
  },
  {
   "cell_type": "code",
   "execution_count": 0,
   "metadata": {},
   "outputs": [],
   "source": [
    "plt.rc('font', size=6) #controls default text size"
   ]
  },
  {
   "cell_type": "code",
   "execution_count": 0,
   "metadata": {},
   "outputs": [],
   "source": [
    "%load_ext autoreload\n",
    "%autoreload 2"
   ]
  },
  {
   "cell_type": "code",
   "execution_count": 0,
   "metadata": {},
   "outputs": [],
   "source": [
    "if DEBUG and 'debug' not in globals():\n",
    "    import debugpy\n",
    "    debugpy.listen(('0.0.0.0', int(os.environ['PFS_TARGETING_DEBUGPORT'])))\n",
    "    debug = True"
   ]
  },
  {
   "cell_type": "markdown",
   "metadata": {},
   "source": [
    "# Imports"
   ]
  },
  {
   "cell_type": "code",
   "execution_count": 0,
   "metadata": {},
   "outputs": [],
   "source": [
    "import pfs.utils\n",
    "from pfs.datamodel import PfsDesign, FiberStatus, TargetType\n",
    "\n",
    "from pfs.ga.targeting.scripts.netflow.notebooks.notebooks import *\n",
    "from pfs.ga.targeting.instrument import *\n",
    "from pfs.ga.targeting.util.astro import *\n",
    "from pfs.ga.targeting.io import GaiaReader"
   ]
  },
  {
   "cell_type": "markdown",
   "metadata": {},
   "source": [
    "# Load the netflow config file"
   ]
  },
  {
   "cell_type": "code",
   "execution_count": 0,
   "metadata": {},
   "outputs": [],
   "source": [
    "# Load the configuration\n",
    "config = load_netflow_config(CONFIG_FILE)"
   ]
  },
  {
   "cell_type": "markdown",
   "metadata": {},
   "source": [
    "# Plot the design files"
   ]
  },
  {
   "cell_type": "code",
   "execution_count": 0,
   "metadata": {},
   "outputs": [],
   "source": [
    "# Create the PFI instrument. This will load the instrument calibration data.\n",
    "pfi = SubaruPFI(instrument_options=config.instrument_options)"
   ]
  },
  {
   "cell_type": "code",
   "execution_count": 0,
   "metadata": {},
   "outputs": [],
   "source": [
    "# Find and load the design files in the output directory\n",
    "designs = {}\n",
    "design_files = glob(os.path.join(OUTPUT_PATH, 'pfsDesign*.fits'))\n",
    "for fn in design_files:\n",
    "    pfsDesignId = int(re.search(r'0x[0-9a-f]+', fn).group(0), 16)\n",
    "    design = PfsDesign.read(pfsDesignId, dirName=os.path.dirname(fn))\n",
    "    designs[pfsDesignId] = design\n",
    "    print(f'Loaded design 0x{pfsDesignId:016x}')"
   ]
  },
  {
   "cell_type": "code",
   "execution_count": 0,
   "metadata": {},
   "outputs": [],
   "source": [
    "# Verify that there are no duplicate fiberIds\n",
    "for pfsDesignId, design in designs.items():\n",
    "    counts = np.bincount(design.fiberId)\n",
    "    print(f'0x{pfsDesignId:016x}', np.where(counts > 1))"
   ]
  },
  {
   "cell_type": "code",
   "execution_count": 0,
   "metadata": {},
   "outputs": [],
   "source": [
    "cmap = plt.get_cmap('tab10')\n",
    "\n",
    "for pfsDesignId, design in designs.items():\n",
    "\n",
    "        f = plt.figure(figsize=(6, 5), dpi=240)\n",
    "        gs = GridSpec(3, 2, width_ratios=(3, 1), wspace=0.2, hspace=0.55)\n",
    "        \n",
    "        axs = [ f.add_subplot(gs[:, 0]), f.add_subplot(gs[0, 1]), f.add_subplot(gs[1, 1]), f.add_subplot(gs[2, 1])]\n",
    "\n",
    "        # Query the GAIA database for bright stars\n",
    "        ra, dec = design.raBoresight, design.decBoresight\n",
    "        r = GaiaReader(\n",
    "        limits = { 'gaia_g': [ -10, 16 ] }\n",
    "        )\n",
    "\n",
    "        gaia = r.cone_search((ra, dec), 50)\n",
    "        print(gaia.shape)\n",
    "\n",
    "        # Conver GAIA star positions into focal plane positions\n",
    "        pointing = Pointing(design.raBoresight, design.decBoresight, posang=design.posAng,\n",
    "                        obs_time=config.field.obs_time)\n",
    "\n",
    "        parallax = np.array(gaia.data['parallax'])\n",
    "        parallax[parallax < 1e-7] = 1e-7\n",
    "\n",
    "        gaia_fp_pos = pfi.radec_to_fp_pos(\n",
    "                *gaia.get_coords(),\n",
    "                pointing=pointing,\n",
    "                epoch=2016.0,\n",
    "                pmra=np.array(gaia.data['pmra']),\n",
    "                pmdec=np.array(gaia.data['pmdec']),\n",
    "                parallax=np.array(gaia.data['parallax']),\n",
    "                rv=np.array(gaia.data['rv'])\n",
    "                )\n",
    "\n",
    "        # MAGNITUDE DISTRIBUTION OF THE TARGETS\n",
    "\n",
    "        ax = axs[1]\n",
    "\n",
    "        for j, target_type in enumerate([TargetType.SCIENCE, TargetType.SKY, TargetType.FLUXSTD]):\n",
    "                idx = np.where((design.fiberStatus == FiberStatus.GOOD) & (design.targetType == target_type))[0]\n",
    "                flux = np.array([ design.fiberFlux[i][0] for i in idx if len(design.fiberFlux[i]) > 0 ])\n",
    "                mag = nJy_to_ABmag(flux)\n",
    "                \n",
    "                ax.hist(mag, color=cmap(j), label=target_type)\n",
    "                \n",
    "        ax.set_xlim(13.1, 24.9)\n",
    "\n",
    "        ax.set_xlabel('mag')            # Filter varies by source\n",
    "        ax.set_ylabel('count')\n",
    "\n",
    "        ax.set_title('Science targets and flux std')\n",
    "\n",
    "        # MAGNITUDE DISTRIBUTION OF THE BRIGHT POINT SOURCES\n",
    "\n",
    "        ax = axs[2]\n",
    "\n",
    "        m, _ = gaia.get_magnitude(gaia.photometry['gaia'].magnitudes['g'])\n",
    "        ax.hist(m)\n",
    "\n",
    "        ax.set_xlabel('GAIA mag g')\n",
    "        ax.set_ylabel('count')\n",
    "        ax.set_title('Bright stars')\n",
    "\n",
    "\n",
    "        # DISTRIBUTION OF FIBER DISTANCE FROM BRIGHT SOURCES\n",
    "\n",
    "        ax = axs[3]\n",
    "\n",
    "        # Ignore fibers without cobras\n",
    "        mask = pfi.fiber_map.cobraId[design.fiberId - 1] != 65535\n",
    "\n",
    "        d = distance_matrix(design.pfiNominal[mask], np.stack([gaia_fp_pos.real, gaia_fp_pos.imag], axis=-1))\n",
    "        d.shape\n",
    "\n",
    "        bins = np.linspace(0, 10, 20)\n",
    "        hist, bins = np.histogram(d.ravel(), bins=bins)\n",
    "\n",
    "        ax.step(0.5 * (bins[1:] + bins[:-1]), hist, where='mid')\n",
    "\n",
    "        ax.set_xlabel('distance to bright star [mm]')\n",
    "        ax.set_ylabel('fiber count')\n",
    "\n",
    "\n",
    "        # PLOT THE COBRAS\n",
    "        ax = axs[0]\n",
    "\n",
    "        ms = 6\n",
    "\n",
    "        # Broken fibers\n",
    "        mask = (design.fiberStatus == FiberStatus.BROKENFIBER)\n",
    "        ax.scatter(design.pfiNominal[mask][..., 0], design.pfiNominal[mask][..., 1], marker='x', s=ms, label='broken',\n",
    "                color='black', edgecolors='none', linewidth=0.5)\n",
    "\n",
    "        # Draw circle around broken cobras with working fibers\n",
    "        mask = (design.fiberStatus == FiberStatus.BROKENCOBRA) & (design.fiberStatus != FiberStatus.BROKENFIBER)\n",
    "        ax.scatter(design.pfiNominal[mask][..., 0], design.pfiNominal[mask][..., 1], marker='o', s=16, label='broken',\n",
    "                color='none', edgecolors='k', linewidth=0.5)\n",
    "\n",
    "        # Unassigned fibers\n",
    "        mask = (design.fiberStatus != FiberStatus.BROKENFIBER) & (design.targetType == TargetType.UNASSIGNED)\n",
    "        ax.scatter(design.pfiNominal[mask][..., 0], design.pfiNominal[mask][..., 1], marker='o', s=ms, label='unassigned',\n",
    "                color='none', edgecolors='black', linewidth=0.5)\n",
    "\n",
    "        # Good science targets\n",
    "        mask = (design.fiberStatus != FiberStatus.BROKENFIBER) & (design.targetType == TargetType.SCIENCE)\n",
    "        ax.scatter(design.pfiNominal[mask][..., 0], design.pfiNominal[mask][..., 1], marker='o', s=ms, label='science',\n",
    "                color='green', edgecolors='none')\n",
    "\n",
    "        # Good sky fibers\n",
    "        mask = (design.fiberStatus != FiberStatus.BROKENFIBER) & (design.targetType == TargetType.SKY)\n",
    "        ax.scatter(design.pfiNominal[mask][..., 0], design.pfiNominal[mask][..., 1], marker='o', s=ms, label='sky',\n",
    "                color='cyan', edgecolors='none')\n",
    "\n",
    "        # Good flux standards\n",
    "        mask = (design.fiberStatus != FiberStatus.BROKENFIBER) & (design.targetType == TargetType.FLUXSTD)\n",
    "        ax.scatter(design.pfiNominal[mask][..., 0], design.pfiNominal[mask][..., 1], marker='o', s=ms, label='fluxstd',\n",
    "                color='red', edgecolors='none')\n",
    "\n",
    "        # Cobra centers\n",
    "        ax.scatter(pfi.bench.cobras.centers.real, pfi.bench.cobras.centers.imag, \n",
    "                s=0.2, color='black', edgecolors='none')\n",
    "\n",
    "\n",
    "        # Bright stars\n",
    "        ax.scatter(gaia_fp_pos.real, gaia_fp_pos.imag, marker='o', s=10, label='bright',\n",
    "                color='none', edgecolors='red')\n",
    "\n",
    "        ax.set_xlabel('x [mm]')\n",
    "        ax.set_ylabel('y [mm]')\n",
    "\n",
    "        ax.set_title(\n",
    "                f'designId=0x{pfsDesignId:016x} ({design.raBoresight:0.02f}, {design.decBoresight:0.02f}, PA={design.posAng:0.01f})\\n'\n",
    "                f'{design.designName}')\n",
    "\n",
    "        ax.set_aspect('equal', adjustable='datalim')\n",
    "\n",
    "        # Make legend horizontal\n",
    "        ax.legend(loc='upper right', ncol=2, fontsize='small')\n",
    "\n",
    "        # f.tight_layout()"
   ]
  },
  {
   "cell_type": "code",
   "execution_count": 0,
   "metadata": {},
   "outputs": [],
   "source": [
    "# Unique catIds\n",
    "for pfsDesignId, design in designs.items():\n",
    "    print(f'0x{pfsDesignId:016x}', np.unique(design.catId))"
   ]
  },
  {
   "cell_type": "code",
   "execution_count": 0,
   "metadata": {},
   "outputs": [],
   "source": [
    "# Unique proposalIds\n",
    "for pfsDesignId, design in designs.items():\n",
    "    print(f'0x{pfsDesignId:016x}', np.unique(design.catId))"
   ]
  },
  {
   "cell_type": "code",
   "execution_count": 0,
   "metadata": {},
   "outputs": [],
   "source": [
    "# objId ranges\n",
    "for pfsDesignId, design in designs.items():\n",
    "    for target_type in [TargetType.SCIENCE, TargetType.SKY, TargetType.FLUXSTD]:\n",
    "        mask = (design.fiberStatus == FiberStatus.GOOD) & (design.targetType == target_type)\n",
    "        if mask.sum() > 0:\n",
    "            print(f'0x{pfsDesignId:016x}', target_type, design.objId[mask].min(), design.objId[mask].max())\n",
    "        else:\n",
    "            print(f'0x{pfsDesignId:016x}', target_type, 'no such targets in design')"
   ]
  },
  {
   "cell_type": "code",
   "execution_count": 0,
   "metadata": {},
   "outputs": [],
   "source": []
  }
 ],
 "metadata": {
  "kernelspec": {
   "display_name": "dobos-torch",
   "language": "python",
   "name": "python3"
  },
  "language_info": {
   "codemirror_mode": {
    "name": "ipython",
    "version": 3
   },
   "file_extension": ".py",
   "mimetype": "text/x-python",
   "name": "python",
   "nbconvert_exporter": "python",
   "pygments_lexer": "ipython3",
   "version": "3.10.15"
  }
 },
 "nbformat": 4,
 "nbformat_minor": 2
}