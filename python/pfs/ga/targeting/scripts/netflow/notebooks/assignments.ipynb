{
 "cells": [
  {
   "cell_type": "code",
   "execution_count": 0,
   "metadata": {},
   "outputs": [],
   "source": [
    "DEBUG = False\n",
    "CONFIG_FILE = '/datascope/subaru/data/targeting/dSph/draco/netflow/SSP/draco_6_1_007/ga-netflow_20250315155504.config'\n",
    "OUTPUT_PATH = '/datascope/subaru/data/targeting/dSph/draco/netflow/SSP/draco_6_1_007'"
   ]
  },
  {
   "cell_type": "markdown",
   "metadata": {
    "vscode": {
     "languageId": "plaintext"
    }
   },
   "source": [
    "# Plot the assigned targets\n",
    "\n",
    "Load the data and plot the assigned targets for each pointing and visit."
   ]
  },
  {
   "cell_type": "code",
   "execution_count": 0,
   "metadata": {},
   "outputs": [],
   "source": [
    "import os, sys\n",
    "from glob import glob\n",
    "from datetime import datetime\n",
    "import numpy as np\n",
    "import pandas as pd\n",
    "import matplotlib as mpl\n",
    "import matplotlib.pyplot as plt"
   ]
  },
  {
   "cell_type": "code",
   "execution_count": 0,
   "metadata": {},
   "outputs": [],
   "source": [
    "plt.rc('font', size=6)"
   ]
  },
  {
   "cell_type": "code",
   "execution_count": 0,
   "metadata": {},
   "outputs": [],
   "source": [
    "%load_ext autoreload\n",
    "%autoreload 2"
   ]
  },
  {
   "cell_type": "code",
   "execution_count": 0,
   "metadata": {},
   "outputs": [],
   "source": [
    "if DEBUG and 'debug' not in globals():\n",
    "    import debugpy\n",
    "    debugpy.listen(('0.0.0.0', int(os.environ['PFS_TARGETING_DEBUGPORT'])))\n",
    "    debug = True"
   ]
  },
  {
   "cell_type": "markdown",
   "metadata": {},
   "source": [
    "# Imports"
   ]
  },
  {
   "cell_type": "code",
   "execution_count": 0,
   "metadata": {},
   "outputs": [],
   "source": [
    "import pfs.utils\n",
    "from pfs.datamodel import TargetType\n",
    "\n",
    "from pfs.ga.targeting.config.netflow import NetflowConfig\n",
    "from pfs.ga.targeting.scripts.netflow.netflowscript import NetflowScript\n",
    "from pfs.ga.targeting.io import DataFrameSerializer, ObservationSerializer\n",
    "from pfs.ga.targeting.targets.dsph import *\n",
    "from pfs.ga.targeting.instrument import *\n",
    "from pfs.ga.targeting.diagram import CMD, CCD, FOV, FP, ColorAxis, MagnitudeAxis\n",
    "from pfs.ga.targeting.photometry import Photometry, Magnitude, Color\n",
    "from pfs.ga.targeting.projection import WcsProjection, Pointing\n",
    "from pfs.ga.targeting.netflow import Netflow\n",
    "from pfs.ga.targeting.io import DataFrameSerializer"
   ]
  },
  {
   "cell_type": "markdown",
   "metadata": {},
   "source": [
    "# Load the netflow config file"
   ]
  },
  {
   "cell_type": "code",
   "execution_count": 0,
   "metadata": {},
   "outputs": [],
   "source": [
    "# Load the configuration\n",
    "config = NetflowConfig.default()\n",
    "config.load(CONFIG_FILE, ignore_collisions=True, format='.json')\n",
    "\n",
    "print(config.targets.keys())"
   ]
  },
  {
   "cell_type": "markdown",
   "metadata": {},
   "source": [
    "# Load the target lists"
   ]
  },
  {
   "cell_type": "code",
   "execution_count": 0,
   "metadata": {},
   "outputs": [],
   "source": [
    "target_lists = {}\n",
    "\n",
    "for key in config.targets:\n",
    "    fn = os.path.join(OUTPUT_PATH, f'{config.field.key}_targets_{key}.feather')\n",
    "    target_lists[key] = NetflowScript.load_target_list(key, config.targets[key], fn)\n",
    "    print(key, config.targets[key].prefix, config.targets[key].path)"
   ]
  },
  {
   "cell_type": "code",
   "execution_count": 0,
   "metadata": {},
   "outputs": [],
   "source": [
    "# Print the priority classes for each target list\n",
    "for k, target_list in target_lists.items():\n",
    "    print(k)\n",
    "    if 'priority' in target_list.data:\n",
    "        print(target_list.data['priority'].unique())"
   ]
  },
  {
   "cell_type": "code",
   "execution_count": 0,
   "metadata": {},
   "outputs": [],
   "source": [
    "# List available photometry for each target list\n",
    "for k, target_list in target_lists.items():\n",
    "    print(k)\n",
    "    for p in target_list.photometry:\n",
    "        print(' ', p)\n",
    "        for m in target_list.photometry[p].magnitudes:\n",
    "            print('    ', m)"
   ]
  },
  {
   "cell_type": "code",
   "execution_count": 0,
   "metadata": {},
   "outputs": [],
   "source": [
    "for k, target_list in target_lists.items():\n",
    "    print(k)\n",
    "    print(target_list.data.columns)"
   ]
  },
  {
   "cell_type": "markdown",
   "metadata": {},
   "source": [
    "# Load the assignments"
   ]
  },
  {
   "cell_type": "code",
   "execution_count": 0,
   "metadata": {},
   "outputs": [],
   "source": [
    "# Load the assignments\n",
    "\n",
    "fn = os.path.join(OUTPUT_PATH, f'{config.field.key}_assignments.feather')\n",
    "assignments = DataFrameSerializer().read(fn)\n",
    "\n",
    "print(assignments.shape)\n",
    "for c in assignments.columns:\n",
    "    print(c, assignments[c].dtype)"
   ]
  },
  {
   "cell_type": "code",
   "execution_count": 0,
   "metadata": {},
   "outputs": [],
   "source": [
    "# Print the unique pointing and visit indices\n",
    "assignments['pointing_idx'].unique(), assignments['visit_idx'].unique()"
   ]
  },
  {
   "cell_type": "code",
   "execution_count": 0,
   "metadata": {},
   "outputs": [],
   "source": [
    "# Load the assignment summary\n",
    "\n",
    "fn = os.path.join(OUTPUT_PATH, f'{config.field.key}_summary.feather')\n",
    "summary = DataFrameSerializer().read(fn)\n",
    "\n",
    "print(summary.shape)\n",
    "for c in assignments.columns:\n",
    "    print(c, assignments[c].dtype)"
   ]
  },
  {
   "cell_type": "markdown",
   "metadata": {},
   "source": [
    "# Plot assigned targets"
   ]
  },
  {
   "cell_type": "code",
   "execution_count": 0,
   "metadata": {},
   "outputs": [],
   "source": [
    "pfi = SubaruPFI(instrument_options=config.instrument_options)"
   ]
  },
  {
   "cell_type": "code",
   "execution_count": 0,
   "metadata": {},
   "outputs": [],
   "source": [
    "def get_photometry_all():\n",
    "    # Get unique photometric systems from all target lists\n",
    "    photometry = {}\n",
    "    for k, target_list in target_lists.items():\n",
    "        for p, phot in target_list.photometry.items():\n",
    "            if p not in photometry and len(phot.magnitudes) > 1:\n",
    "                    photometry[p] = phot\n",
    "\n",
    "    return photometry\n",
    "\n",
    "def create_fov(pointing):\n",
    "    wcs = WcsProjection(pointing, proj='TAN')\n",
    "    wfc = SubaruWFC(pointing)\n",
    "    fov = FOV(projection=wcs)\n",
    "\n",
    "    return wcs, fov\n",
    "\n",
    "def create_cmd(photometry):\n",
    "    # Create a color-magnitude diagram using the first two filters of the photometric systems\n",
    "    cmd = {}\n",
    "    for p, phot in photometry.items():\n",
    "        if len(phot.magnitudes) > 1:\n",
    "            mm = list(phot.magnitudes.keys())\n",
    "            m1, m2 = phot.magnitudes[mm[0]], phot.magnitudes[mm[1]]\n",
    "            cmd[p] = CMD([ColorAxis(Color([m1, m2])), MagnitudeAxis(m2)])\n",
    "    return cmd\n",
    "\n",
    "def plot_assignments(f, gs, cmd, target_lists,\n",
    "                     pointing, pointing_idx=None, visit_idx=None,\n",
    "                     plot_background=False, plot_all=True, plot_assigned=False, plot_unassigned=False,\n",
    "                     color_by_priority=False, color_by_target_list=False,\n",
    "                     priority=None,\n",
    "                     title=None):\n",
    "    \n",
    "    cmap = plt.get_cmap('tab10')\n",
    "\n",
    "    # Create the field-of-view plot\n",
    "    wcs, fov = create_fov(pointing)\n",
    "\n",
    "    # Create subplots\n",
    "    axs = [ f.add_subplot(gs[0], projection=wcs.wcs) ]\n",
    "    for i, c in enumerate(cmd):\n",
    "        axs.append(f.add_subplot(gs[i + 1]))\n",
    "\n",
    "    # Filter for the current visit\n",
    "    mask = ((pointing_idx is None) | (assignments['pointing_idx'] == pointing_idx)) \\\n",
    "         & ((visit_idx is None) | (assignments['visit_idx'] == visit_idx))\n",
    "\n",
    "    unique_targets = assignments['target_idx'][mask].unique()\n",
    "    # print(unique_targets.shape)\n",
    "\n",
    "    # Plot the full list of science targets in the background in grey\n",
    "    for j, (k, target_list) in enumerate(target_lists.items()):\n",
    "        if config.targets[k].prefix == 'sci':\n",
    "            for i in range(4):\n",
    "                if i == 0 and plot_background:\n",
    "                    mask = None\n",
    "                    color = 'lightgrey'\n",
    "                    alpha = 0.3\n",
    "                    scalex, scaley = False, False\n",
    "                elif i == 0:\n",
    "                    continue\n",
    "\n",
    "                if i == 1 and plot_all:\n",
    "                    mask = None\n",
    "                    alpha = 1.0\n",
    "                    scalex, scaley = True, True\n",
    "                elif i == 1:\n",
    "                    continue\n",
    "\n",
    "                if i == 2 and plot_assigned:\n",
    "                    mask = target_list.data['__target_idx'].isin(unique_targets)\n",
    "                    alpha = 1.0\n",
    "                    scalex, scaley = True, True\n",
    "                elif i == 2:\n",
    "                    continue\n",
    "\n",
    "                if i == 3 and plot_unassigned:\n",
    "                    mask = ~target_list.data['__target_idx'].isin(unique_targets)\n",
    "                    alpha = 1.0\n",
    "                    scalex, scaley = True, True\n",
    "                elif i == 3:\n",
    "                    continue\n",
    "\n",
    "                if i > 0 and priority is not None:\n",
    "                    priority_mask = target_list.data['priority'].isin(priority)\n",
    "                    if mask is None:\n",
    "                        mask = priority_mask\n",
    "                    else:\n",
    "                        mask &= priority_mask\n",
    "\n",
    "                if i > 0:\n",
    "                    if color_by_priority:\n",
    "                        color = cmap(target_list.data['priority'].values[mask])\n",
    "                    elif color_by_target_list:\n",
    "                        color = cmap(j)\n",
    "                    else:\n",
    "                        color = 'red'\n",
    "\n",
    "                fov.plot_catalog(axs[0], target_list, mask=mask, observed=True, c=color, alpha=alpha, size=0.5,\n",
    "                                 scalex=scalex, scaley=scaley)\n",
    "\n",
    "                for i, (_, c) in enumerate(cmd.items()):\n",
    "                    if target_list.has_diagram_values(c, observed=True):\n",
    "                        c.plot_catalog(axs[i + 1], target_list, mask=mask, observed=True, c=color, alpha=alpha, size=0.5)\n",
    "\n",
    "        # if target_list.has_diagram_values(ccd, observed=True):\n",
    "        #     ccd.plot_catalog(axs[1], target_list, observed=True, color='grey', alpha=1.0)\n",
    "\n",
    "    # ax.set_title(target_list.name)\n",
    "    axs[0].set_aspect('equal', adjustable='datalim')\n",
    "    axs[0].set_xlim(1.5, -2)\n",
    "    axs[0].set_ylim(-2, 1.0)\n",
    "    axs[0].legend(loc='upper right', fontsize=6)\n",
    "\n",
    "    for i, (c, _) in enumerate(cmd.items()):\n",
    "        axs[i + 1].set_title(c)"
   ]
  },
  {
   "cell_type": "code",
   "execution_count": 0,
   "metadata": {},
   "outputs": [],
   "source": [
    "# Collect all photometric systems and create the corresponding CMDs\n",
    "photometry = get_photometry_all()\n",
    "cmd = create_cmd(photometry)\n",
    "\n",
    "f = plt.figure(figsize=(3 + 2 * len(cmd), 2.5), dpi=240)\n",
    "f.suptitle('All targets')\n",
    "gs = f.add_gridspec(1, len(cmd) + 1, width_ratios=[3,] + len(cmd) * [2,], wspace=0.4, hspace=0.2)\n",
    "plot_assignments(f, gs, cmd, target_lists,\n",
    "                 config.pointings[0].get_pointing(),\n",
    "                 plot_background=False, plot_all=True, plot_assigned=False, plot_unassigned=False)\n",
    "\n",
    "f = plt.figure(figsize=(3 + 2 * len(cmd), 2.5), dpi=240)\n",
    "f.suptitle('Assigned targets')\n",
    "gs = f.add_gridspec(1, len(cmd) + 1, width_ratios=[3,] + len(cmd) * [2,], wspace=0.4, hspace=0.2)\n",
    "\n",
    "plot_assignments(f, gs, cmd, target_lists,\n",
    "                 config.pointings[0].get_pointing(),\n",
    "                 plot_background=True, plot_all=False, plot_assigned=True, plot_unassigned=False)\n",
    "\n",
    "f = plt.figure(figsize=(3 + 2 * len(cmd), 2.5), dpi=240)\n",
    "f.suptitle('Unassigned targets')\n",
    "gs = f.add_gridspec(1, len(cmd) + 1, width_ratios=[3,] + len(cmd) * [2,], wspace=0.4, hspace=0.2)\n",
    "\n",
    "plot_assignments(f, gs, cmd, target_lists,\n",
    "                 config.pointings[0].get_pointing(),\n",
    "                 plot_background=True, plot_all=False, plot_assigned=False, plot_unassigned=True)"
   ]
  },
  {
   "cell_type": "markdown",
   "metadata": {},
   "source": [
    "# Plot science targets per priority"
   ]
  },
  {
   "cell_type": "code",
   "execution_count": 0,
   "metadata": {},
   "outputs": [],
   "source": [
    "# Collect all photometric systems and create the corresponding CMDs\n",
    "photometry = get_photometry_all()\n",
    "cmd = create_cmd(photometry)\n",
    "\n",
    "f = plt.figure(figsize=(3 + 2 * len(cmd), 2.5), dpi=240)\n",
    "f.suptitle('Assigned targets')\n",
    "gs = f.add_gridspec(1, len(cmd) + 1, width_ratios=[3,] + len(cmd) * [2,], wspace=0.4, hspace=0.2)\n",
    "\n",
    "plot_assignments(f, gs, cmd, target_lists,\n",
    "                 config.pointings[0].get_pointing(),\n",
    "                 plot_background=True, plot_all=False, plot_assigned=True, plot_unassigned=False,\n",
    "                 color_by_priority=True)\n"
   ]
  },
  {
   "cell_type": "code",
   "execution_count": 0,
   "metadata": {},
   "outputs": [],
   "source": [
    "mask = (assignments['prefix'] == 'sci') & ~assignments['priority'].isna()\n",
    "for pp in np.sort(assignments['priority'][mask].unique()):\n",
    "\n",
    "    f = plt.figure(figsize=(3 + 2 * len(cmd), 2.5), dpi=240)\n",
    "    f.suptitle(f'Assigned targets with priority {pp}')\n",
    "    gs = f.add_gridspec(1, len(cmd) + 1, width_ratios=[3,] + len(cmd) * [2,], wspace=0.4, hspace=0.2)\n",
    "\n",
    "    plot_assignments(f, gs, cmd, target_lists,\n",
    "                    config.pointings[0].get_pointing(),\n",
    "                    plot_background=True, plot_all=False, plot_assigned=True, plot_unassigned=False,\n",
    "                    priority=[pp], color_by_priority=False)\n"
   ]
  },
  {
   "cell_type": "code",
   "execution_count": 0,
   "metadata": {},
   "outputs": [],
   "source": [
    "# Collect all photometric systems and create the corresponding CMDs\n",
    "photometry = get_photometry_all()\n",
    "cmd = create_cmd(photometry)\n",
    "\n",
    "f = plt.figure(figsize=(3 + 2 * len(cmd), 2.5), dpi=240)\n",
    "f.suptitle('Unassigned targets')\n",
    "gs = f.add_gridspec(1, len(cmd) + 1, width_ratios=[3,] + len(cmd) * [2,], wspace=0.4, hspace=0.2)\n",
    "\n",
    "plot_assignments(f, gs, cmd, target_lists,\n",
    "                 config.pointings[0].get_pointing(),\n",
    "                 plot_background=True, plot_all=False, plot_assigned=False, plot_unassigned=True,\n",
    "                 color_by_priority=True)\n"
   ]
  },
  {
   "cell_type": "code",
   "execution_count": 0,
   "metadata": {},
   "outputs": [],
   "source": [
    "mask = (assignments['prefix'] == 'sci') & ~assignments['priority'].isna()\n",
    "for pp in np.sort(assignments['priority'][mask].unique()):\n",
    "\n",
    "    f = plt.figure(figsize=(3 + 2 * len(cmd), 2.5), dpi=240)\n",
    "    f.suptitle(f'Unassigned targets with priority {pp}')\n",
    "    gs = f.add_gridspec(1, len(cmd) + 1, width_ratios=[3,] + len(cmd) * [2,], wspace=0.4, hspace=0.2)\n",
    "\n",
    "    plot_assignments(f, gs, cmd, target_lists,\n",
    "                    config.pointings[0].get_pointing(),\n",
    "                    plot_background=True, plot_all=False, plot_assigned=False, plot_unassigned=True,\n",
    "                    priority=[pp], color_by_priority=False)\n"
   ]
  },
  {
   "cell_type": "markdown",
   "metadata": {},
   "source": [
    "# Calculate statistics"
   ]
  },
  {
   "cell_type": "code",
   "execution_count": 0,
   "metadata": {},
   "outputs": [],
   "source": [
    "# Total number of unique science targets observed\n",
    "assignments[assignments['prefix'] == 'sci']['targetid'].nunique()"
   ]
  },
  {
   "cell_type": "code",
   "execution_count": 0,
   "metadata": {},
   "outputs": [],
   "source": [
    "summary['num_visits'][summary['num_visits'] > 0]"
   ]
  },
  {
   "cell_type": "code",
   "execution_count": 0,
   "metadata": {},
   "outputs": [],
   "source": [
    "# Science targets that are partially observed\n",
    "summary[(summary['prefix'] == 'sci') & (summary['done_visits'] < summary['req_visits']) & (summary['num_visits'] > 0)]"
   ]
  },
  {
   "cell_type": "code",
   "execution_count": 0,
   "metadata": {},
   "outputs": [],
   "source": [
    "# Any target that is partially observed\n",
    "summary[(summary['done_visits'] < summary['req_visits']) & (summary['num_visits'] > 0)]"
   ]
  },
  {
   "cell_type": "code",
   "execution_count": 0,
   "metadata": {},
   "outputs": [],
   "source": [
    "# Science targets that are observed longer than the required number of visits\n",
    "summary[(summary['prefix'] == 'sci') & (summary['num_visits'] > summary['req_visits'])]"
   ]
  },
  {
   "cell_type": "code",
   "execution_count": 0,
   "metadata": {},
   "outputs": [],
   "source": [
    "# Number of unique targets per priority class\n",
    "summary[summary['num_visits'] > 0].groupby('class')['targetid'].nunique()"
   ]
  },
  {
   "cell_type": "code",
   "execution_count": 0,
   "metadata": {},
   "outputs": [],
   "source": [
    "# Number of missed science targets per priority class\n",
    "summary[(summary['prefix'] == 'sci') & (summary['num_visits'] == 0)].groupby('class')['targetid'].nunique()"
   ]
  },
  {
   "cell_type": "code",
   "execution_count": 0,
   "metadata": {},
   "outputs": [],
   "source": [
    "# Number of partially observed science targets per priority class\n",
    "summary[(summary['prefix'] == 'sci') & \n",
    "        (summary['done_visits'] < summary['req_visits']) & \n",
    "        (summary['done_visits'] > 0)].groupby('class')['targetid'].nunique()"
   ]
  },
  {
   "cell_type": "code",
   "execution_count": 0,
   "metadata": {},
   "outputs": [],
   "source": [
    "# Number of unassigned fibers in each visit\n",
    "assignments[assignments['target_type'] == TargetType.UNASSIGNED].groupby('visit_idx')['fiberid'].nunique()"
   ]
  },
  {
   "cell_type": "code",
   "execution_count": 0,
   "metadata": {},
   "outputs": [],
   "source": [
    "# Number of unique calibration targets for each visit\n",
    "assignments[assignments['prefix'] == 'cal'].groupby('visit_idx')['targetid'].nunique()"
   ]
  },
  {
   "cell_type": "code",
   "execution_count": 0,
   "metadata": {},
   "outputs": [],
   "source": [
    "# Number of unique sky positions for each visit\n",
    "assignments[assignments['prefix'] == 'sky'].groupby('visit_idx')['targetid'].nunique()"
   ]
  },
  {
   "cell_type": "code",
   "execution_count": 0,
   "metadata": {},
   "outputs": [],
   "source": [
    "# Number of observed unique science targets for each visit\n",
    "assignments[assignments['prefix'] == 'sci'].groupby('visit_idx')['targetid'].nunique()"
   ]
  },
  {
   "cell_type": "code",
   "execution_count": 0,
   "metadata": {},
   "outputs": [],
   "source": [
    "# of unique science targets assigned\n",
    "for pidx in np.sort(assignments['pointing_idx'].unique()):\n",
    "    for vidx in np.sort(assignments[assignments['pointing_idx'] == pidx]['visit_idx'].unique()):\n",
    "        mask = (assignments['visit_idx'] == vidx) & \\\n",
    "               (assignments['pointing_idx'] == pidx) & \\\n",
    "               (assignments['prefix'] == 'sci')\n",
    "        print(f'Pointing #{pidx}, Visit #{vidx}:', assignments[mask]['targetid'].nunique())\n",
    "\n",
    "print('Grand Total:', assignments[assignments['prefix'] == 'sci']['targetid'].nunique())"
   ]
  },
  {
   "cell_type": "code",
   "execution_count": 0,
   "metadata": {},
   "outputs": [],
   "source": [
    "# total # of sky fibers assigned\n",
    "for pidx in np.sort(assignments['pointing_idx'].unique()):\n",
    "    for vidx in np.sort(assignments[assignments['pointing_idx'] == pidx]['visit_idx'].unique()):\n",
    "        mask = (assignments['visit_idx'] == vidx) & \\\n",
    "               (assignments['pointing_idx'] == pidx) & \\\n",
    "               (assignments['prefix'] == 'sky')\n",
    "        print(f'Pointing #{pidx}, Visit #{vidx}:', assignments[mask]['targetid'].nunique())\n",
    "\n",
    "print('Grand Total:', assignments[assignments['prefix'] == 'sky']['targetid'].nunique())"
   ]
  },
  {
   "cell_type": "code",
   "execution_count": 0,
   "metadata": {},
   "outputs": [],
   "source": [
    "# total # of calibration fibers assigned\n",
    "for pidx in np.sort(assignments['pointing_idx'].unique()):\n",
    "    for vidx in np.sort(assignments[assignments['pointing_idx'] == pidx]['visit_idx'].unique()):\n",
    "        mask = (assignments['visit_idx'] == vidx) & \\\n",
    "               (assignments['pointing_idx'] == pidx) & \\\n",
    "               (assignments['prefix'] == 'cal')\n",
    "        print(f'Pointing #{pidx}, Visit #{vidx}:', assignments[mask]['targetid'].nunique())\n",
    "\n",
    "print('Grand Total:', assignments[assignments['prefix'] == 'cal']['targetid'].nunique())"
   ]
  },
  {
   "cell_type": "markdown",
   "metadata": {},
   "source": [
    "# Plot the distribution of assigned targets"
   ]
  },
  {
   "cell_type": "code",
   "execution_count": 0,
   "metadata": {},
   "outputs": [],
   "source": [
    "# Plot priority distribution for each target list\n",
    "for k in config.targets:\n",
    "    if config.targets[k].prefix in ['sci']:\n",
    "        f, ax = plt.subplots(1, 1, figsize=(3.5, 2.5), dpi=240)\n",
    "\n",
    "        hist = np.bincount(target_lists[k].data['priority'])\n",
    "        bins = np.arange(hist.size)\n",
    "        ax.bar(bins, hist)\n",
    "\n",
    "        # print(k, 'all', hist)\n",
    "\n",
    "        mask = target_lists[k].data['__target_idx'].isin(assignments[assignments['prefix'] == config.targets[k].prefix]['target_idx'])\n",
    "        hist2 = np.bincount(target_lists[k].data['priority'][mask])\n",
    "        bins2 = np.arange(hist2.size)\n",
    "        ax.bar(bins2, hist2, color='r')\n",
    "\n",
    "        # print(k, 'assigned', hist2)\n",
    "\n",
    "        # Add the number of targets to the top of each bar\n",
    "        for i, (v, v2) in enumerate(zip(hist, hist2)):\n",
    "            ax.text(i, v + 1, f'{v}\\n{v2}', ha='center', va='bottom')\n",
    "\n",
    "        ax.set_title(f'Priority class distribution for target list `{k}`')\n",
    "        ax.set_xlabel(f'Priority class')\n",
    "        ax.set_ylabel(f'Target count')"
   ]
  },
  {
   "cell_type": "code",
   "execution_count": 0,
   "metadata": {},
   "outputs": [],
   "source": [
    "# Plot priority distribution for each target list\n",
    "for k in config.targets:\n",
    "    if config.targets[k].prefix in ['sci']:\n",
    "        f, ax = plt.subplots(1, 1, figsize=(3.5, 2.5), dpi=240)\n",
    "\n",
    "        hist_all = np.bincount(target_lists[k].data['priority'])\n",
    "\n",
    "        mask = target_lists[k].data['__target_idx'].isin(assignments[assignments['prefix'] == config.targets[k].prefix]['target_idx'])\n",
    "        hist = np.zeros_like(hist_all)\n",
    "        h = np.bincount(target_lists[k].data['priority'][mask])\n",
    "        hist[:h.size] = h\n",
    "        \n",
    "        ax.bar(np.arange(hist.size), np.full(hist.size, 1))\n",
    "        ax.bar(np.arange(hist.size), hist / hist_all, color='r')\n",
    "\n",
    "        # Add the fraction of targets to the top of each bar\n",
    "        for i, v in enumerate(hist / hist_all):\n",
    "            ax.text(i, 1.01, f'{v:0.2f}', ha='center', va='bottom')\n",
    "\n",
    "        ax.set_title(f'Priority class distribution for target list `{k}`')\n",
    "        ax.set_xlabel(f'Priority class')\n",
    "        ax.set_ylabel(f'Assigned fraction')\n",
    "\n",
    "        ax.set_ylim(0, 1.1)"
   ]
  },
  {
   "cell_type": "code",
   "execution_count": 0,
   "metadata": {},
   "outputs": [],
   "source": [
    "# Plot the distribution of required visits for each target list\n",
    "exp_time = 1800 # seconds\n",
    "\n",
    "for k in config.targets:\n",
    "    if config.targets[k].prefix in ['sci']:\n",
    "        f, ax = plt.subplots(1, 1, figsize=(3.5, 2.5), dpi=240)\n",
    "\n",
    "        hist = np.bincount((np.ceil(target_lists[k].data['exp_time'] / exp_time)).astype(int))\n",
    "        bins = np.arange(hist.size)\n",
    "        ax.bar(bins, hist)\n",
    "\n",
    "        # print(k, 'all', hist)\n",
    "\n",
    "        mask = target_lists[k].data['__target_idx'].isin(assignments[assignments['prefix'] == config.targets[k].prefix]['target_idx'])\n",
    "        hist2 = np.bincount((np.ceil(target_lists[k].data['exp_time'][mask] / exp_time)).astype(int))\n",
    "        bins2 = np.arange(hist2.size)\n",
    "        ax.bar(bins2, hist2, color='r')\n",
    "\n",
    "        # print(k, 'assigned', hist2)\n",
    "\n",
    "        # Add the number of targets to the top of each bar\n",
    "        for i, (v, v2) in enumerate(zip(hist, hist2)):\n",
    "            ax.text(i, v + 1, f'{v}\\n{v2}', ha='center', va='bottom')\n",
    "\n",
    "        ax.set_title(f'Distribution of required visit (t_exp = {exp_time} s)')\n",
    "        ax.set_xlabel('Number of required visits')\n",
    "        ax.set_ylabel('Target count')\n"
   ]
  },
  {
   "cell_type": "markdown",
   "metadata": {},
   "source": [
    "# Distribution of black dot distance"
   ]
  },
  {
   "cell_type": "code",
   "execution_count": 0,
   "metadata": {},
   "outputs": [],
   "source": [
    "# total # of sky fibers assigned\n",
    "for pidx in np.sort(assignments['pointing_idx'].unique()):\n",
    "    for vidx in np.sort(assignments[assignments['pointing_idx'] == pidx]['visit_idx'].unique()):\n",
    "        f, ax = plt.subplots(1, 1, figsize=(3.5, 2.5), dpi=240)\n",
    "\n",
    "        mask = ((assignments['target_type'] != TargetType.UNASSIGNED) &\n",
    "                (assignments['target_type'] != TargetType.ENGINEERING))\n",
    "        \n",
    "        bins = np.linspace(0, 10, 50)\n",
    "        hist, _ = np.histogram(assignments[mask & (assignments['visit_idx'] == vidx)]['black_dot_dist'], bins=bins)\n",
    "\n",
    "        ax.step(0.5 * (bins[1:] + bins[:-1]), hist, where='mid')\n",
    "\n",
    "        ax.set_title(f'Distribution of black dot dist for pointing #{pidx}, visit #{vidx}')\n",
    "        ax.set_xlabel('Black dot distance [mm]')\n",
    "        ax.set_ylabel('Fiber count')"
   ]
  },
  {
   "cell_type": "markdown",
   "metadata": {},
   "source": [
    "# Distribution of cobra center distance"
   ]
  },
  {
   "cell_type": "code",
   "execution_count": 0,
   "metadata": {},
   "outputs": [],
   "source": [
    "# total # of sky fibers assigned\n",
    "for pidx in np.sort(assignments['pointing_idx'].unique()):\n",
    "    for vidx in np.sort(assignments[assignments['pointing_idx'] == pidx]['visit_idx'].unique()):\n",
    "        f, ax = plt.subplots(1, 1, figsize=(3.5, 2.5), dpi=240)\n",
    "\n",
    "        mask = ((assignments['target_type'] != TargetType.UNASSIGNED) &\n",
    "                (assignments['target_type'] != TargetType.ENGINEERING))\n",
    "        \n",
    "        bins = np.linspace(0, 10, 50)\n",
    "        hist, _ = np.histogram(assignments[mask & (assignments['visit_idx'] == vidx)]['center_dist'], bins=bins)\n",
    "\n",
    "        ax.step(0.5 * (bins[1:] + bins[:-1]), hist, where='mid')\n",
    "\n",
    "        ax.set_title(f'Distribution of cobra center dist for pointing #{pidx}, visit #{vidx}')\n",
    "        ax.set_xlabel('Cobra center distance [mm]')\n",
    "        ax.set_ylabel('Fiber count')"
   ]
  },
  {
   "cell_type": "code",
   "execution_count": 0,
   "metadata": {},
   "outputs": [],
   "source": []
  }
 ],
 "metadata": {
  "kernelspec": {
   "display_name": "dobos-torch",
   "language": "python",
   "name": "python3"
  },
  "language_info": {
   "codemirror_mode": {
    "name": "ipython",
    "version": 3
   },
   "file_extension": ".py",
   "mimetype": "text/x-python",
   "name": "python",
   "nbconvert_exporter": "python",
   "pygments_lexer": "ipython3",
   "version": "3.10.15"
  }
 },
 "nbformat": 4,
 "nbformat_minor": 2
}