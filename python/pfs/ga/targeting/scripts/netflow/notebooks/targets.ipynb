{
 "cells": [
  {
   "cell_type": "code",
   "execution_count": 0,
   "metadata": {},
   "outputs": [],
   "source": [
    "DEBUG = False\n",
    "CONFIG_FILE = '/datascope/subaru/data/targeting/m31/m31_PFS_22_SSP/netflow/m31_PFS_22_1_SSP_099/ga-netflow_20250830214210.config'\n",
    "OUTPUT_PATH = '/datascope/subaru/data/targeting/m31/m31_PFS_22_SSP/netflow/m31_PFS_22_1_SSP_099'"
   ]
  },
  {
   "cell_type": "markdown",
   "metadata": {},
   "source": [
    "# Statistics of targets"
   ]
  },
  {
   "cell_type": "code",
   "execution_count": 0,
   "metadata": {},
   "outputs": [],
   "source": [
    "import os, sys\n",
    "from glob import glob\n",
    "from datetime import datetime\n",
    "import numpy as np\n",
    "import pandas as pd\n",
    "import matplotlib as mpl\n",
    "import matplotlib.pyplot as plt"
   ]
  },
  {
   "cell_type": "code",
   "execution_count": 0,
   "metadata": {},
   "outputs": [],
   "source": [
    "plt.rc('font', size=6)"
   ]
  },
  {
   "cell_type": "code",
   "execution_count": 0,
   "metadata": {},
   "outputs": [],
   "source": [
    "%load_ext autoreload\n",
    "%autoreload 2"
   ]
  },
  {
   "cell_type": "code",
   "execution_count": 0,
   "metadata": {},
   "outputs": [],
   "source": [
    "if DEBUG and 'debug' not in globals():\n",
    "    import debugpy\n",
    "    debugpy.listen(('0.0.0.0', int(os.environ['PFS_TARGETING_DEBUGPORT'])))\n",
    "    debug = True"
   ]
  },
  {
   "cell_type": "code",
   "execution_count": 0,
   "metadata": {},
   "outputs": [],
   "source": [
    "# Load the netflow targets"
   ]
  },
  {
   "cell_type": "code",
   "execution_count": 0,
   "metadata": {},
   "outputs": [],
   "source": [
    "fn = os.path.expandvars(os.path.join(OUTPUT_PATH, 'netflow_targets.feather'))\n",
    "targets = pd.read_feather(fn)\n",
    "targets.shape"
   ]
  },
  {
   "cell_type": "code",
   "execution_count": 0,
   "metadata": {},
   "outputs": [],
   "source": [
    "targets.columns"
   ]
  },
  {
   "cell_type": "code",
   "execution_count": 0,
   "metadata": {},
   "outputs": [],
   "source": [
    "sci_mask = targets['prefix'] == 'sci'\n",
    "targets[sci_mask][['req_visits', 'done_visits']]"
   ]
  },
  {
   "cell_type": "code",
   "execution_count": 0,
   "metadata": {},
   "outputs": [],
   "source": [
    "# Any target that is partially observed\n",
    "partial_mask = (targets['req_visits'] > 0) & (targets['done_visits'] > 0) & (targets['done_visits'] < targets['req_visits'])\n",
    "targets[partial_mask][['prefix', 'exp_time', 'req_visits', 'done_visits']]"
   ]
  },
  {
   "cell_type": "code",
   "execution_count": 0,
   "metadata": {},
   "outputs": [],
   "source": [
    "# Partially observed science targets\n",
    "sci_mask = targets['prefix'] == 'sci'\n",
    "partial_mask = (targets['req_visits'] > 0) & (targets['done_visits'] > 0) & (targets['done_visits'] < targets['req_visits'])\n",
    "targets[sci_mask & partial_mask][['exp_time', 'req_visits', 'done_visits']]"
   ]
  },
  {
   "cell_type": "code",
   "execution_count": 0,
   "metadata": {},
   "outputs": [],
   "source": [
    "# Histogram of done visits for science targets"
   ]
  },
  {
   "cell_type": "code",
   "execution_count": 0,
   "metadata": {},
   "outputs": [],
   "source": [
    "sci_mask = targets['prefix'] == 'sci'\n",
    "visit_mask = targets['done_visits'] > 0\n",
    "\n",
    "hist = np.bincount(targets['done_visits'][sci_mask & visit_mask])\n",
    "bins = np.arange(hist.size)\n",
    "\n",
    "plt.bar(bins, hist)\n",
    "plt.xticks(bins)\n",
    "\n",
    "plt.xlabel('Number of visits')\n",
    "plt.ylabel('Number of targets')"
   ]
  },
  {
   "cell_type": "code",
   "execution_count": 0,
   "metadata": {},
   "outputs": [],
   "source": []
  }
 ],
 "metadata": {
  "kernelspec": {
   "display_name": "dobos-torch",
   "language": "python",
   "name": "python3"
  },
  "language_info": {
   "codemirror_mode": {
    "name": "ipython",
    "version": 3
   },
   "file_extension": ".py",
   "mimetype": "text/x-python",
   "name": "python",
   "nbconvert_exporter": "python",
   "pygments_lexer": "ipython3",
   "version": "3.10.15"
  }
 },
 "nbformat": 4,
 "nbformat_minor": 2
}