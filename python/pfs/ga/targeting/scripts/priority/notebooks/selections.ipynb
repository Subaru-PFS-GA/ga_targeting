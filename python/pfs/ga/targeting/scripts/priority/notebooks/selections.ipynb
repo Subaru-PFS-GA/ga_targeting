{
 "cells": [
  {
   "cell_type": "code",
   "execution_count": 0,
   "metadata": {},
   "outputs": [],
   "source": [
    "DEBUG = False\n",
    "CONFIG_FILE = '/datascope/subaru/data/targeting/dSph/ursaminor/priority/ursaminor_nb/ga-priority_20250303214329.config'\n",
    "OUTPUT_PATH = '/datascope/subaru/data/targeting/dSph/ursaminor/priority/ursaminor_nb/'"
   ]
  },
  {
   "cell_type": "markdown",
   "metadata": {},
   "source": [
    "# Plot the selection and priority of targets"
   ]
  },
  {
   "cell_type": "code",
   "execution_count": 0,
   "metadata": {},
   "outputs": [],
   "source": [
    "import os, sys\n",
    "from glob import glob\n",
    "import numpy as np\n",
    "import matplotlib.pyplot as plt\n",
    "import commentjson as json"
   ]
  },
  {
   "cell_type": "code",
   "execution_count": 0,
   "metadata": {},
   "outputs": [],
   "source": [
    "plt.rc('font', size=6) #controls default text size"
   ]
  },
  {
   "cell_type": "code",
   "execution_count": 0,
   "metadata": {},
   "outputs": [],
   "source": [
    "%load_ext autoreload\n",
    "%autoreload 2"
   ]
  },
  {
   "cell_type": "code",
   "execution_count": 0,
   "metadata": {},
   "outputs": [],
   "source": [
    "if DEBUG and 'debug' not in globals():\n",
    "    import debugpy\n",
    "    debugpy.listen(('0.0.0.0', int(os.environ['PFS_TARGETING_DEBUGPORT'])))\n",
    "    debug = True"
   ]
  },
  {
   "cell_type": "markdown",
   "metadata": {},
   "source": [
    "# Imports"
   ]
  },
  {
   "cell_type": "code",
   "execution_count": 0,
   "metadata": {},
   "outputs": [],
   "source": [
    "import pfs.utils\n",
    "\n",
    "from pfs.ga.targeting.scripts.priority.notebooks.notebooks import *\n",
    "from pfs.ga.targeting.targets.dsph import GALAXIES as DSPH_FIELDS\n",
    "from pfs.ga.targeting.targets.m31 import M31_FIELDS\n",
    "from pfs.ga.targeting import ProbabilityMap\n",
    "from pfs.ga.targeting.instrument import *\n",
    "from pfs.ga.targeting.diagram import CMD, CCD, FOV, FP, ColorAxis, MagnitudeAxis\n",
    "from pfs.ga.targeting.photometry import Photometry, Magnitude, Color\n",
    "from pfs.ga.targeting.projection import WcsProjection, Pointing\n",
    "from pfs.ga.targeting.netflow import Netflow\n",
    "from pfs.ga.targeting.io import DataFrameSerializer, ObservationSerializer"
   ]
  },
  {
   "cell_type": "markdown",
   "metadata": {},
   "source": [
    "# Load the config and args files"
   ]
  },
  {
   "cell_type": "code",
   "execution_count": 0,
   "metadata": {},
   "outputs": [],
   "source": [
    "# Load the configuration\n",
    "config = load_priority_config(CONFIG_FILE)"
   ]
  },
  {
   "cell_type": "code",
   "execution_count": 0,
   "metadata": {},
   "outputs": [],
   "source": [
    "args_file = os.path.splitext(CONFIG_FILE)[0] + '.args'\n",
    "with open(args_file) as f:\n",
    "    args = json.load(f)"
   ]
  },
  {
   "cell_type": "markdown",
   "metadata": {},
   "source": [
    "# Plot definitions"
   ]
  },
  {
   "cell_type": "code",
   "execution_count": 0,
   "metadata": {},
   "outputs": [],
   "source": [
    "if 'dsph' in args and args['dsph'] is not None:\n",
    "    field = DSPH_FIELDS[args['dsph']]\n",
    "\n",
    "hsc = field.get_photometry()\n",
    "cmd = field.get_cmd()\n",
    "ccd = field.get_ccd()"
   ]
  },
  {
   "cell_type": "code",
   "execution_count": 0,
   "metadata": {},
   "outputs": [],
   "source": [
    "pointings = field.get_pointings(SubaruPFI)\n",
    "pointing = pointings[0]\n",
    "\n",
    "for p in pointings:\n",
    "    print(p.ra, p.dec, p.posang)"
   ]
  },
  {
   "cell_type": "code",
   "execution_count": 0,
   "metadata": {},
   "outputs": [],
   "source": [
    "pfi = SubaruPFI(instrument_options={ 'layout': 'calibration' })\n",
    "wcs = WcsProjection(Pointing(field.pos), proj='TAN')\n",
    "wfc = SubaruWFC(pointing)\n",
    "fov = FOV(projection=wcs)\n",
    "fp = FP(wfc)"
   ]
  },
  {
   "cell_type": "markdown",
   "metadata": {},
   "source": [
    "# Load the original and the pre-processed target lists"
   ]
  },
  {
   "cell_type": "code",
   "execution_count": 0,
   "metadata": {},
   "outputs": [],
   "source": [
    "obs = load_observations(field, config)\n",
    "\n",
    "obs.data.columns"
   ]
  },
  {
   "cell_type": "code",
   "execution_count": 0,
   "metadata": {},
   "outputs": [],
   "source": [
    "fn = os.path.expandvars(os.path.join(OUTPUT_PATH, f'hsc_{field.ID}_priorities.feather'))\n",
    "sample = ObservationSerializer().read(fn)\n",
    "\n",
    "sample.data.columns"
   ]
  },
  {
   "cell_type": "markdown",
   "metadata": {},
   "source": [
    "# Plot"
   ]
  },
  {
   "cell_type": "code",
   "execution_count": 0,
   "metadata": {},
   "outputs": [],
   "source": [
    "cmap = plt.get_cmap('tab10')\n",
    "\n",
    "f = plt.figure(figsize=(8, 3), dpi=240)\n",
    "gs = f.add_gridspec(1, 3, width_ratios=[2, 2, 3], wspace=0.4)\n",
    "\n",
    "axs = [f.add_subplot(gs[0, 0]), f.add_subplot(gs[0, 1]), f.add_subplot(gs[0, 2], projection=wcs.wcs)]\n",
    "\n",
    "cmd.plot_observation(axs[0], obs, c='gray', observed=True)\n",
    "ccd.plot_observation(axs[1], obs, c='gray', observed=True)\n",
    "fov.plot_observation(axs[2], obs, c='gray', observed=True)\n",
    "        \n",
    "pp = field.get_pointings(SubaruPFI)\n",
    "for p in pp:\n",
    "    pfi.plot_focal_plane(axs[2], fov, corners=True, projection=SubaruWFC(p))\n",
    "\n",
    "axs[2].set_xlim(0.75, -2.75)\n",
    "axs[2].set_ylim(-2.75, 0.75)\n",
    "\n",
    "f.suptitle('HSC targets')"
   ]
  },
  {
   "cell_type": "code",
   "execution_count": 0,
   "metadata": {},
   "outputs": [],
   "source": [
    "cmap = plt.get_cmap('tab10')\n",
    "\n",
    "f = plt.figure(figsize=(8, 3), dpi=240)\n",
    "gs = f.add_gridspec(1, 3, width_ratios=[2, 2, 3], wspace=0.4)\n",
    "\n",
    "axs = [f.add_subplot(gs[0, 0]), f.add_subplot(gs[0, 1]), f.add_subplot(gs[0, 2], projection=wcs.wcs)]\n",
    "\n",
    "cmd.plot_observation(axs[0], obs, c='gray', observed=True)\n",
    "cmd.plot_observation(axs[0], sample, c='red', observed=True)\n",
    "\n",
    "ccd.plot_observation(axs[1], obs, c='gray', observed=True)\n",
    "ccd.plot_observation(axs[1], sample, c='red', observed=True)\n",
    "\n",
    "fov.plot_observation(axs[2], obs, c='gray', observed=True)\n",
    "fov.plot_observation(axs[2], sample, c='red', observed=True)\n",
    "        \n",
    "pp = field.get_pointings(SubaruPFI)\n",
    "for p in pp:\n",
    "    pfi.plot_focal_plane(axs[2], fov, corners=True, projection=SubaruWFC(p))\n",
    "\n",
    "axs[2].set_xlim(0.75, -2.75)\n",
    "axs[2].set_ylim(-2.75, 0.75)\n",
    "\n",
    "f.suptitle('HSC targets')"
   ]
  },
  {
   "cell_type": "code",
   "execution_count": 0,
   "metadata": {},
   "outputs": [],
   "source": [
    "cmap = plt.get_cmap('tab10')\n",
    "\n",
    "f = plt.figure(figsize=(8, 3), dpi=240)\n",
    "gs = f.add_gridspec(1, 3, width_ratios=[2, 2, 3], wspace=0.4)\n",
    "\n",
    "axs = [f.add_subplot(gs[0, 0]), f.add_subplot(gs[0, 1]), f.add_subplot(gs[0, 2], projection=wcs.wcs)]\n",
    "\n",
    "cmd.plot_observation(axs[0], sample, c=cmap(sample.data['priority']), observed=True)\n",
    "\n",
    "ccd.plot_observation(axs[1], sample, c=cmap(sample.data['priority']), observed=True)\n",
    "\n",
    "l = fov.plot_observation(axs[2], sample, c=sample.data['priority'], observed=True, cmap=cmap)\n",
    "        \n",
    "pp = field.get_pointings(SubaruPFI)\n",
    "for p in pp:\n",
    "    pfi.plot_focal_plane(axs[2], fov, corners=True, projection=SubaruWFC(p))\n",
    "\n",
    "axs[2].set_xlim(0.75, -2.75)\n",
    "axs[2].set_ylim(-2.75, 0.75)\n",
    "\n",
    "# Put a colorbar under all three subplots\n",
    "f.colorbar(l, ax=axs[2], label='target priority')\n",
    "\n",
    "f.suptitle('HSC targets')\n"
   ]
  },
  {
   "cell_type": "code",
   "execution_count": 0,
   "metadata": {},
   "outputs": [],
   "source": [
    "cmap = plt.get_cmap('viridis')\n",
    "\n",
    "f = plt.figure(figsize=(8, 3), dpi=240)\n",
    "gs = f.add_gridspec(1, 3, width_ratios=[2, 2, 3], wspace=0.4)\n",
    "\n",
    "axs = [f.add_subplot(gs[0, 0]), f.add_subplot(gs[0, 1]), f.add_subplot(gs[0, 2], projection=wcs.wcs)]\n",
    "\n",
    "cmd.plot_observation(axs[0], sample, c=sample.data['exp_time'], observed=True)\n",
    "\n",
    "ccd.plot_observation(axs[1], sample, c=sample.data['exp_time'], observed=True)\n",
    "\n",
    "l = fov.plot_observation(axs[2], sample, c=sample.data['exp_time'], observed=True, cmap=cmap)\n",
    "        \n",
    "pp = field.get_pointings(SubaruPFI)\n",
    "for p in pp:\n",
    "    pfi.plot_focal_plane(axs[2], fov, corners=True, projection=SubaruWFC(p))\n",
    "\n",
    "axs[2].set_xlim(0.75, -2.75)\n",
    "axs[2].set_ylim(-2.75, 0.75)\n",
    "\n",
    "# Put a colorbar under all three subplots\n",
    "f.colorbar(l, ax=axs[2], label='exposure time')\n",
    "\n",
    "f.suptitle('HSC targets')\n"
   ]
  }
 ],
 "metadata": {
  "kernelspec": {
   "display_name": "dobos-torch",
   "language": "python",
   "name": "python3"
  },
  "language_info": {
   "codemirror_mode": {
    "name": "ipython",
    "version": 3
   },
   "file_extension": ".py",
   "mimetype": "text/x-python",
   "name": "python",
   "nbconvert_exporter": "python",
   "pygments_lexer": "ipython3",
   "version": "3.10.15"
  }
 },
 "nbformat": 4,
 "nbformat_minor": 2
}