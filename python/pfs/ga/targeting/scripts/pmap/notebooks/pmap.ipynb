{
 "cells": [
  {
   "cell_type": "code",
   "execution_count": 0,
   "metadata": {},
   "outputs": [],
   "source": [
    "DEBUG = False\n",
    "CONFIG_FILE = '/datascope/subaru/data/targeting/dSph/draco/pmap/draco_nb/ga-pmap_20250313213620.config'\n",
    "OUTPUT_PATH = '/datascope/subaru/data/targeting/dSph/draco/pmap/draco_nb'"
   ]
  },
  {
   "cell_type": "markdown",
   "metadata": {},
   "source": [
    "# Plot the probability map"
   ]
  },
  {
   "cell_type": "code",
   "execution_count": 0,
   "metadata": {},
   "outputs": [],
   "source": [
    "import os, sys\n",
    "from glob import glob\n",
    "import numpy as np\n",
    "import matplotlib.pyplot as plt\n",
    "import commentjson as json"
   ]
  },
  {
   "cell_type": "code",
   "execution_count": 0,
   "metadata": {},
   "outputs": [],
   "source": [
    "plt.rc('font', size=6) #controls default text size"
   ]
  },
  {
   "cell_type": "code",
   "execution_count": 0,
   "metadata": {},
   "outputs": [],
   "source": [
    "%load_ext autoreload\n",
    "%autoreload 2"
   ]
  },
  {
   "cell_type": "code",
   "execution_count": 0,
   "metadata": {},
   "outputs": [],
   "source": [
    "if DEBUG and 'debug' not in globals():\n",
    "    import debugpy\n",
    "    debugpy.listen(('0.0.0.0', int(os.environ['PFS_TARGETING_DEBUGPORT'])))\n",
    "    debug = True"
   ]
  },
  {
   "cell_type": "markdown",
   "metadata": {},
   "source": [
    "# Imports"
   ]
  },
  {
   "cell_type": "code",
   "execution_count": 0,
   "metadata": {},
   "outputs": [],
   "source": [
    "import pfs.utils\n",
    "\n",
    "from pfs.ga.targeting.scripts.pmap.notebooks.notebooks import *\n",
    "from pfs.ga.targeting.targets.dsph import GALAXIES as DSPH_FIELDS\n",
    "from pfs.ga.targeting.targets.m31 import M31_FIELDS\n",
    "from pfs.ga.targeting import ProbabilityMap"
   ]
  },
  {
   "cell_type": "markdown",
   "metadata": {},
   "source": [
    "# Load the pmap config and args file"
   ]
  },
  {
   "cell_type": "code",
   "execution_count": 0,
   "metadata": {},
   "outputs": [],
   "source": [
    "# Load the configuration\n",
    "config = load_pmap_config(CONFIG_FILE)"
   ]
  },
  {
   "cell_type": "code",
   "execution_count": 0,
   "metadata": {},
   "outputs": [],
   "source": [
    "args_file = os.path.splitext(CONFIG_FILE)[0] + '.args'\n",
    "with open(args_file) as f:\n",
    "    args = json.load(f)"
   ]
  },
  {
   "cell_type": "code",
   "execution_count": 0,
   "metadata": {},
   "outputs": [],
   "source": [
    "args"
   ]
  },
  {
   "cell_type": "markdown",
   "metadata": {},
   "source": [
    "# Plot definitions"
   ]
  },
  {
   "cell_type": "code",
   "execution_count": 0,
   "metadata": {},
   "outputs": [],
   "source": [
    "from pfs.ga.targeting.targets.dsph import GALAXIES as DSPH_FIELDS\n",
    "from pfs.ga.targeting.targets.m31 import M31_FIELDS\n",
    "from pfs.ga.targeting.instrument import *\n",
    "from pfs.ga.targeting.diagram import CMD, CCD, FOV, FP, ColorAxis, MagnitudeAxis\n",
    "from pfs.ga.targeting.photometry import Photometry, Magnitude, Color\n",
    "from pfs.ga.targeting.projection import Pointing, WcsProjection"
   ]
  },
  {
   "cell_type": "code",
   "execution_count": 0,
   "metadata": {},
   "outputs": [],
   "source": [
    "if 'dsph' in args and args['dsph'] is not None:\n",
    "    field = DSPH_FIELDS[args['dsph']]\n",
    "\n",
    "hsc = field.get_photometry()\n",
    "cmd = field.get_cmd()\n",
    "ccd = field.get_ccd()"
   ]
  },
  {
   "cell_type": "code",
   "execution_count": 0,
   "metadata": {},
   "outputs": [],
   "source": [
    "pointing = field.get_center()\n",
    "pointing"
   ]
  },
  {
   "cell_type": "code",
   "execution_count": 0,
   "metadata": {},
   "outputs": [],
   "source": [
    "wcs = WcsProjection(pointing, proj='TAN')\n",
    "wfc = SubaruWFC(pointing)\n",
    "fov = FOV(projection=wcs)\n",
    "fp = FP(wfc)"
   ]
  },
  {
   "cell_type": "markdown",
   "metadata": {},
   "source": [
    "# Load the simulation"
   ]
  },
  {
   "cell_type": "code",
   "execution_count": 0,
   "metadata": {},
   "outputs": [],
   "source": [
    "sim = load_simulation(config)"
   ]
  },
  {
   "cell_type": "code",
   "execution_count": 0,
   "metadata": {},
   "outputs": [],
   "source": [
    "for k in sim.data.keys():\n",
    "    print(k, sim.data[k].shape)"
   ]
  },
  {
   "cell_type": "markdown",
   "metadata": {},
   "source": [
    "# Load observations"
   ]
  },
  {
   "cell_type": "code",
   "execution_count": 0,
   "metadata": {},
   "outputs": [],
   "source": [
    "obs = load_observations(field, config)"
   ]
  },
  {
   "cell_type": "code",
   "execution_count": 0,
   "metadata": {},
   "outputs": [],
   "source": [
    "cmd.axes"
   ]
  },
  {
   "cell_type": "markdown",
   "metadata": {},
   "source": [
    "# Plot the observations and the simulation"
   ]
  },
  {
   "cell_type": "code",
   "execution_count": 0,
   "metadata": {},
   "outputs": [],
   "source": [
    "mask = field.get_selection_mask(obs, observed=True, nb=config.cut_nb, blue=config.keep_blue, probcut=None)\n",
    "\n",
    "f, axs = plt.subplots(2, 2, figsize=(6, 8), dpi=120)\n",
    "\n",
    "cmd.plot_catalog(axs[0, 0], obs, observed=True)\n",
    "ccd.plot_catalog(axs[0, 1], obs, observed=True)\n",
    "\n",
    "cmd.plot_catalog(axs[1, 0], obs, observed=True)\n",
    "cmd.plot_catalog(axs[1, 0], obs, observed=True, mask=mask, color='red')\n",
    "ccd.plot_catalog(axs[1, 1], obs, observed=True)\n",
    "ccd.plot_catalog(axs[1, 1], obs, observed=True, mask=mask, color='red')\n",
    "\n",
    "f.tight_layout()"
   ]
  },
  {
   "cell_type": "code",
   "execution_count": 0,
   "metadata": {},
   "outputs": [],
   "source": [
    "s = np.s_[::10]\n",
    "\n",
    "mask = field.get_selection_mask(sim, observed=True, nb=config.cut_nb, blue=config.keep_blue)\n",
    "\n",
    "f, axs = plt.subplots(2, 2, figsize=(6, 8), dpi=120)\n",
    "\n",
    "cmd.plot_simulation(axs[0, 0], sim, observed=True, s=s, size=0.05)\n",
    "ccd.plot_simulation(axs[0, 1], sim, observed=True, s=s, size=0.05)\n",
    "\n",
    "cmd.plot_simulation(axs[1, 0], sim, observed=True, s=s, size=0.05)\n",
    "cmd.plot_simulation(axs[1, 0], sim, observed=True, s=s, size=0.05, mask=mask, color='red')\n",
    "ccd.plot_simulation(axs[1, 1], sim, observed=True, s=s, size=0.05)\n",
    "ccd.plot_simulation(axs[1, 1], sim, observed=True, s=s, size=0.05, mask=mask, color='red')\n",
    "\n",
    "f.tight_layout()"
   ]
  },
  {
   "cell_type": "markdown",
   "metadata": {},
   "source": [
    "# Update the population weights\n",
    "\n",
    "This is basically just manually scaling the Galaxia MW population weights until it \n",
    "matches the observations. "
   ]
  },
  {
   "cell_type": "code",
   "execution_count": 0,
   "metadata": {},
   "outputs": [],
   "source": [
    "config.population_weights"
   ]
  },
  {
   "cell_type": "code",
   "execution_count": 0,
   "metadata": {},
   "outputs": [],
   "source": [
    "if config.population_weights is not None:\n",
    "    s = PMapScript()\n",
    "    s._config = config\n",
    "    w1, g1 = s._PMapScript__update_weights(sim)"
   ]
  },
  {
   "cell_type": "code",
   "execution_count": 0,
   "metadata": {},
   "outputs": [],
   "source": [
    "# Number of objects inside cuts\n",
    "mask = field.get_selection_mask(obs, nb=config.cut_nb, blue=config.keep_blue, observed=True)\n",
    "n_obs = mask.sum()\n",
    "print('obs', n_obs)\n",
    "\n",
    "mask = field.get_selection_mask(sim, nb=config.cut_nb, blue=config.keep_blue, observed=True)\n",
    "mask = sim.apply_categories(mask, g=sim.data['g'])\n",
    "n_sim = mask.sum()\n",
    "print('sim', n_sim)\n",
    "\n",
    "mask = field.get_selection_mask(sim, nb=config.cut_nb, blue=config.keep_blue, observed=True)\n",
    "mask = sim.apply_categories(mask, g=g1)\n",
    "n_sim = mask.sum()\n",
    "print('sim', n_sim)\n",
    "\n",
    "n_sim / n_obs"
   ]
  },
  {
   "cell_type": "code",
   "execution_count": 0,
   "metadata": {},
   "outputs": [],
   "source": [
    "f, axs = plt.subplots(2, 3, figsize=(6, 6), dpi=120)\n",
    "\n",
    "s = np.s_[::1]\n",
    "\n",
    "mask = field.get_selection_mask(obs, nb=config.cut_nb, blue=config.keep_blue, observed=True)\n",
    "cmd.plot_observation(axs[0, 0], obs, size=0.05, mask=mask, s=s)\n",
    "ccd.plot_observation(axs[1, 0], obs, size=0.05, mask=mask, s=s)\n",
    "axs[0, 0].set_title('OBS')\n",
    "\n",
    "s = np.s_[::3]\n",
    "\n",
    "mask = field.get_selection_mask(sim, nb=config.cut_nb, blue=config.keep_blue, observed=True)\n",
    "cmd.plot_simulation(axs[0, 1], sim, observed=True, apply_categories=True, mask=mask, g=g1, s=s, size=0.05)\n",
    "ccd.plot_simulation(axs[1, 1], sim, observed=True, apply_categories=True, mask=mask, g=g1, s=s, size=0.05)\n",
    "axs[0, 1].set_title('SIM updated weights')\n",
    "\n",
    "mask = field.get_selection_mask(sim, nb=config.cut_nb, blue=config.keep_blue, observed=True)\n",
    "cmd.plot_simulation(axs[0, 2], sim, observed=True, apply_categories=True, mask=mask, g=sim.data['g'], s=s, size=0.05)\n",
    "ccd.plot_simulation(axs[1, 2], sim, observed=True, apply_categories=True, mask=mask, g=sim.data['g'], s=s, size=0.05)\n",
    "axs[0, 2].set_title('SIM original weights')\n",
    "\n",
    "for ax in axs.flatten():\n",
    "    ax.grid()\n",
    "    ax.set_xlim(-1, 2.2)\n",
    "\n",
    "f.tight_layout()"
   ]
  },
  {
   "cell_type": "markdown",
   "metadata": {},
   "source": [
    "# Plot color histograms"
   ]
  },
  {
   "cell_type": "code",
   "execution_count": 0,
   "metadata": {},
   "outputs": [],
   "source": [
    "def plot_histogram(ax, obs, sim, axis, bins, plot_populations=True):\n",
    "    ((x, x_err),) = obs.get_diagram_values([axis], observed=True)\n",
    "    mask = field.get_selection_mask(obs, nb=config.cut_nb, blue=config.keep_blue, observed=True)\n",
    "    hist, bins = np.histogram(x[mask], bins=bins, density=True)\n",
    "    ax.step(0.5 * (bins[1:] + bins[:-1]), hist, lw=1, label='OBS')\n",
    "    print(x.min(), x.max())\n",
    "\n",
    "    ((x, x_err),) = sim.get_diagram_values([axis], observed=True)\n",
    "    mask = field.get_selection_mask(sim, nb=config.cut_nb, blue=config.keep_blue, observed=True)\n",
    "    mask = sim.apply_categories(mask, g=g1)\n",
    "    x = sim.apply_categories(x, g=g1)\n",
    "    hist, bins = np.histogram(x[mask], bins=bins, density=True)\n",
    "    ax.step(0.5 * (bins[1:] + bins[:-1]), hist, lw=1, label='SIM')\n",
    "    \n",
    "    if plot_populations:\n",
    "        for i, name in enumerate(config.population_names):\n",
    "            # TODO: what if we don't have binaries\n",
    "            hist, bins = np.histogram(x[mask][(g1[mask[:,0]] == 2 * i) | (g1[mask[:,0]] == 2 * i + 1)], bins=bins, density=True)\n",
    "            ax.step(0.5 * (bins[1:] + bins[:-1]), (w1[2 * i] + w1[2 * i + 1]) * hist, lw=0.5, label=name)"
   ]
  },
  {
   "cell_type": "code",
   "execution_count": 0,
   "metadata": {},
   "outputs": [],
   "source": [
    "f, ax = plt.subplots(1, 1, figsize=(3.5, 2.4), dpi=240)\n",
    "\n",
    "plot_histogram(ax, obs, sim, cmd.axes[0], bins=np.linspace(-1.0, 2.0, 100))\n",
    "\n",
    "ax.set_xlim(-1, 2.2)\n",
    "ax.set_xlabel(cmd.axes[0].label)\n",
    "ax.legend()"
   ]
  },
  {
   "cell_type": "code",
   "execution_count": 0,
   "metadata": {},
   "outputs": [],
   "source": [
    "f, ax = plt.subplots(1, 1, figsize=(3.5, 2.4), dpi=240)\n",
    "\n",
    "plot_histogram(ax, obs, sim, cmd.axes[1], bins=np.linspace(16, 23, 100))\n",
    "\n",
    "ax.set_xlabel(cmd.axes[1].label)\n",
    "ax.legend()"
   ]
  },
  {
   "cell_type": "code",
   "execution_count": 0,
   "metadata": {},
   "outputs": [],
   "source": [
    "# Load and plot the probability map"
   ]
  },
  {
   "cell_type": "code",
   "execution_count": 0,
   "metadata": {},
   "outputs": [],
   "source": [
    "fn = os.path.join(OUTPUT_PATH, 'pmap.h5')\n",
    "pmap = ProbabilityMap(cmd.axes)\n",
    "pmap.load(fn)"
   ]
  },
  {
   "cell_type": "code",
   "execution_count": 0,
   "metadata": {},
   "outputs": [],
   "source": [
    "f, axs = plt.subplots(1, 2, figsize=(6, 4), dpi=120)\n",
    "\n",
    "l0 = cmd.plot_probability_map(axs[0], pmap, 0)\n",
    "l1 = cmd.plot_probability_map(axs[1], pmap, 1)\n",
    "\n",
    "f.tight_layout()"
   ]
  },
  {
   "cell_type": "markdown",
   "metadata": {},
   "source": [
    "# Membership probability based on the map"
   ]
  },
  {
   "cell_type": "code",
   "execution_count": 0,
   "metadata": {},
   "outputs": [],
   "source": [
    "lp_member, mask_member = pmap.lookup_lp_member(obs)\n",
    "\n",
    "lp_member.shape, np.isnan(lp_member).sum(), np.isnan(lp_member[mask_member]).sum(), mask_member.shape, mask_member.sum()"
   ]
  },
  {
   "cell_type": "code",
   "execution_count": 0,
   "metadata": {},
   "outputs": [],
   "source": [
    "f, axs = plt.subplots(1, 2, figsize=(6, 4), dpi=120)\n",
    "\n",
    "cmd.plot_observation(axs[0], obs, c=lp_member[...,0])\n",
    "ccd.plot_observation(axs[1], obs, c=lp_member[...,0])\n",
    "\n",
    "f.tight_layout()"
   ]
  },
  {
   "cell_type": "code",
   "execution_count": 0,
   "metadata": {},
   "outputs": [],
   "source": [
    "mask = field.get_selection_mask(obs, nb=config.cut_nb, blue=config.keep_blue, observed=True)\n",
    "\n",
    "f, axs = plt.subplots(1, 2, figsize=(6, 4), dpi=120)\n",
    "\n",
    "cmd.plot_observation(axs[0], obs, c=lp_member[...,0][mask], mask=mask)\n",
    "ccd.plot_observation(axs[1], obs, c=lp_member[...,0][mask], mask=mask)\n",
    "\n",
    "f.tight_layout()"
   ]
  },
  {
   "cell_type": "markdown",
   "metadata": {},
   "source": [
    "# Ghost plots"
   ]
  },
  {
   "cell_type": "code",
   "execution_count": 0,
   "metadata": {},
   "outputs": [],
   "source": [
    "# mask = get_selection_mask(obs, nb=True, blue=False, probcut=probcut)\n",
    "ghost_mask = pmap.create_random_mask(obs)\n",
    "\n",
    "ghost_mask.shape"
   ]
  },
  {
   "cell_type": "code",
   "execution_count": 0,
   "metadata": {},
   "outputs": [],
   "source": [
    "mask = field.get_selection_mask(obs, observed=True, nb=config.cut_nb, blue=config.keep_blue, probcut=None)\n",
    "\n",
    "f = plt.figure(figsize=(4, 4), dpi=240)\n",
    "gs = f.add_gridspec(2, 2, width_ratios=[1, 1], height_ratios=[1, 1], wspace=0.35, hspace=0.35)\n",
    "\n",
    "ax = f.add_subplot(gs[0, 0])\n",
    "cmd.plot_observation(ax, obs, color='gray', mask=mask)\n",
    "\n",
    "ax = f.add_subplot(gs[0, 1])\n",
    "cmd.plot_observation(ax, obs, mask=mask & ~ghost_mask[..., 1], color='gray')\n",
    "\n",
    "ax = f.add_subplot(gs[1, 0], projection=wcs.wcs)\n",
    "fov.plot_observation(ax, obs, color='gray', mask=mask)\n",
    "\n",
    "ax = f.add_subplot(gs[1, 1], projection=wcs.wcs)\n",
    "fov.plot_observation(ax, obs, mask=mask & ~ghost_mask[..., 1], color='gray')\n"
   ]
  },
  {
   "cell_type": "code",
   "execution_count": 0,
   "metadata": {},
   "outputs": [],
   "source": []
  }
 ],
 "metadata": {
  "kernelspec": {
   "display_name": "dobos-torch",
   "language": "python",
   "name": "python3"
  },
  "language_info": {
   "codemirror_mode": {
    "name": "ipython",
    "version": 3
   },
   "file_extension": ".py",
   "mimetype": "text/x-python",
   "name": "python",
   "nbconvert_exporter": "python",
   "pygments_lexer": "ipython3",
   "version": "3.10.15"
  }
 },
 "nbformat": 4,
 "nbformat_minor": 2
}