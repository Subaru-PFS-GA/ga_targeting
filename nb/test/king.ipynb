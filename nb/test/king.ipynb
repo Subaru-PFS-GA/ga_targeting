{
 "cells": [
  {
   "cell_type": "code",
   "execution_count": 0,
   "metadata": {},
   "outputs": [],
   "source": [
    "import os, sys\n",
    "import numpy as np\n",
    "import matplotlib.pyplot as plt"
   ]
  },
  {
   "cell_type": "code",
   "execution_count": 0,
   "metadata": {},
   "outputs": [],
   "source": [
    "for pp in reversed(PROJECT_PATH.split(':')):\n",
    "    sys.path.insert(0, pp)"
   ]
  },
  {
   "cell_type": "code",
   "execution_count": 0,
   "metadata": {},
   "outputs": [],
   "source": [
    "%load_ext autoreload"
   ]
  },
  {
   "cell_type": "code",
   "execution_count": 0,
   "metadata": {},
   "outputs": [],
   "source": [
    "%autoreload 2"
   ]
  },
  {
   "cell_type": "markdown",
   "metadata": {},
   "source": [
    "# King profile"
   ]
  },
  {
   "cell_type": "code",
   "execution_count": 0,
   "metadata": {},
   "outputs": [],
   "source": [
    "from pfs.ga.targeting.radialprofile import *"
   ]
  },
  {
   "cell_type": "code",
   "execution_count": 0,
   "metadata": {},
   "outputs": [],
   "source": [
    "k = King()\n",
    "k.params = (0, 1, 0.2, 1)"
   ]
  },
  {
   "cell_type": "code",
   "execution_count": 0,
   "metadata": {},
   "outputs": [],
   "source": [
    "R = np.linspace(0, 1, 100)\n",
    "S = k.eval(R)\n",
    "\n",
    "plt.plot(R, S)\n",
    "plt.grid()"
   ]
  },
  {
   "cell_type": "code",
   "execution_count": 0,
   "metadata": {},
   "outputs": [],
   "source": [
    "from scipy.integrate import quad"
   ]
  },
  {
   "cell_type": "code",
   "execution_count": 0,
   "metadata": {},
   "outputs": [],
   "source": [
    "quad(King._King__S, 0, 3, args=(0, 1, 0.2, 3)), King._King__S_norm(0, 1, 0.2, 3)"
   ]
  },
  {
   "cell_type": "code",
   "execution_count": 0,
   "metadata": {},
   "outputs": [],
   "source": [
    "quad(King._King__S, 0, 3, args=(0.2, 1, 0.2, 3)), King._King__S_norm(0.2, 1, 0.2, 3)"
   ]
  },
  {
   "cell_type": "code",
   "execution_count": 0,
   "metadata": {},
   "outputs": [],
   "source": [
    "k = King()\n",
    "k.params = (0, 1, 0.7, 3)\n",
    "\n",
    "R = k.sample(100000)\n",
    "hist, bins = np.histogram(R, bins=100, density=True)\n",
    "\n",
    "plt.plot(0.5 * (bins[1:] + bins[:-1]), hist, lw=3)\n",
    "\n",
    "R = np.linspace(0, k.params[3], 100)\n",
    "RS = k.prob(R)\n",
    "\n",
    "plt.plot(R, RS)"
   ]
  },
  {
   "cell_type": "code",
   "execution_count": 0,
   "metadata": {},
   "outputs": [],
   "source": [
    "k = King()\n",
    "k.params = (0.2, 1, 0.7, 3)\n",
    "\n",
    "R = k.sample(100000)\n",
    "hist, bins = np.histogram(R, bins=100, density=True)\n",
    "\n",
    "plt.plot(0.5 * (bins[1:] + bins[:-1]), hist, lw=3)\n",
    "\n",
    "R = np.linspace(0, k.params[3], 100)\n",
    "RS = k.prob(R)\n",
    "\n",
    "plt.plot(R, RS)"
   ]
  },
  {
   "cell_type": "code",
   "execution_count": 0,
   "metadata": {},
   "outputs": [],
   "source": [
    "k = King()\n",
    "k.params = (0, 1, 0.7, 3)\n",
    "\n",
    "R = k.sample(10000)\n",
    "phi = np.random.uniform(0, 2 * np.pi, size=R.shape)\n",
    "\n",
    "x, y = R * np.cos(phi), R * np.sin(phi)\n",
    "\n",
    "plt.plot(x, y, '.', ms=0.3)"
   ]
  },
  {
   "cell_type": "code",
   "execution_count": 0,
   "metadata": {},
   "outputs": [],
   "source": [
    "k = King()\n",
    "k.params = (0.01, 1, 0.7, 3)\n",
    "\n",
    "R = k.sample(10000, R_max=5)\n",
    "phi = np.random.uniform(0, 2 * np.pi, size=R.shape)\n",
    "\n",
    "x, y = R * np.cos(phi), R * np.sin(phi)\n",
    "\n",
    "plt.plot(x, y, '.', ms=0.3)"
   ]
  },
  {
   "cell_type": "code",
   "execution_count": 0,
   "metadata": {},
   "outputs": [],
   "source": []
  }
 ],
 "metadata": {
  "interpreter": {
   "hash": "905157dee2f13a3cacccadce649760b393f3f2922478d7d13fa8fb0100a3ab35"
  },
  "kernelspec": {
   "display_name": "Python 3.9.2 ('astro-tf')",
   "language": "python",
   "name": "python3"
  },
  "language_info": {
   "codemirror_mode": {
    "name": "ipython",
    "version": 3
   },
   "file_extension": ".py",
   "mimetype": "text/x-python",
   "name": "python",
   "nbconvert_exporter": "python",
   "pygments_lexer": "ipython3",
   "version": "3.10.9"
  }
 },
 "nbformat": 4,
 "nbformat_minor": 2
}