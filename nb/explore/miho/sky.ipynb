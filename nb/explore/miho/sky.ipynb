{
 "cells": [
  {
   "cell_type": "code",
   "execution_count": 0,
   "metadata": {},
   "outputs": [],
   "source": [
    "GALAXY = 'bootesi'\n",
    "FLUXSTD_FILE = f'/datascope/subaru/data/targeting/dSph/bootes/fluxstd_{GALAXY}.feather'\n",
    "# OBS_PATH = f'/datascope/subaru/data/cmdfit/dSph/{GALAXY}_tpall3e_g24.cat'"
   ]
  },
  {
   "cell_type": "code",
   "execution_count": 0,
   "metadata": {},
   "outputs": [],
   "source": [
    "import pandas as pd\n",
    "import matplotlib.pyplot as plt\n",
    "from matplotlib.patches import Circle"
   ]
  },
  {
   "cell_type": "markdown",
   "metadata": {},
   "source": [
    "# Plot a flux standard file"
   ]
  },
  {
   "cell_type": "code",
   "execution_count": 0,
   "metadata": {},
   "outputs": [],
   "source": [
    "from pfs.ga.targeting.instrument import *\n",
    "from pfs.ga.targeting.diagram import CMD, CCD, ColorAxis, MagnitudeAxis\n",
    "from pfs.ga.targeting.photometry import Photometry, Magnitude, Color"
   ]
  },
  {
   "cell_type": "code",
   "execution_count": 0,
   "metadata": {},
   "outputs": [],
   "source": [
    "from pfs.ga.targeting.io import PfsFluxStdReader\n",
    "from pfs.ga.targeting.data import Observation"
   ]
  },
  {
   "cell_type": "code",
   "execution_count": 0,
   "metadata": {},
   "outputs": [],
   "source": [
    "fluxstd = PfsFluxStdReader().read(FLUXSTD_FILE)"
   ]
  },
  {
   "cell_type": "code",
   "execution_count": 0,
   "metadata": {},
   "outputs": [],
   "source": [
    "fluxstd.data.columns"
   ]
  },
  {
   "cell_type": "markdown",
   "metadata": {},
   "source": [
    "# Plot field of view of instrument"
   ]
  },
  {
   "cell_type": "code",
   "execution_count": 0,
   "metadata": {},
   "outputs": [],
   "source": [
    "from pfs.ga.targeting.targets.dsph import GALAXIES\n",
    "from pfs.ga.targeting.projection import Pointing, WcsProjection\n",
    "from pfs.ga.targeting.instrument import SubaruWFC, SubaruPFI\n",
    "from pfs.ga.targeting.diagram import FOV, FP\n",
    "\n",
    "from astropy import wcs\n",
    "from astropy import units as u\n",
    "from astropy.coordinates import Angle"
   ]
  },
  {
   "cell_type": "code",
   "execution_count": 0,
   "metadata": {},
   "outputs": [],
   "source": [
    "target = GALAXIES[GALAXY]"
   ]
  },
  {
   "cell_type": "code",
   "execution_count": 0,
   "metadata": {},
   "outputs": [],
   "source": [
    "pointing = target.get_pointings(SubaruPFI)[0]\n",
    "print(pointing.ra, pointing.dec)\n",
    "\n",
    "wcs = WcsProjection(pointing, proj='TAN')\n",
    "wfc = SubaruWFC(wcs.pointing)\n",
    "fov = FOV(projection=wcs)"
   ]
  },
  {
   "cell_type": "code",
   "execution_count": 0,
   "metadata": {},
   "outputs": [],
   "source": [
    "f, ax = plt.subplots(1, 1, figsize=(4, 4), dpi=120, subplot_kw=dict(projection=fov.projection.wcs))\n",
    "fov.plot_catalog(ax, fluxstd)\n",
    "\n",
    "# Plot a circle around 210.025, 14.5 with radius 0.5 degrees\n",
    "# circle = Circle((210.025, 14.5), 0.5, edgecolor='r', facecolor='none')\n",
    "# ax.add_artist(circle)\n"
   ]
  },
  {
   "cell_type": "code",
   "execution_count": 0,
   "metadata": {},
   "outputs": [],
   "source": []
  }
 ],
 "metadata": {
  "kernelspec": {
   "display_name": "dobos-torch",
   "language": "python",
   "name": "python3"
  },
  "language_info": {
   "codemirror_mode": {
    "name": "ipython",
    "version": 3
   },
   "file_extension": ".py",
   "mimetype": "text/x-python",
   "name": "python",
   "nbconvert_exporter": "python",
   "pygments_lexer": "ipython3",
   "version": "3.10.15"
  }
 },
 "nbformat": 4,
 "nbformat_minor": 2
}