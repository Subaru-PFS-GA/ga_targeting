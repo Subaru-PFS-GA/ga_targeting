{
 "cells": [
  {
   "cell_type": "code",
   "execution_count": 0,
   "id": "ebe0ca21",
   "metadata": {},
   "outputs": [],
   "source": [
    "DATA_FILES = [\n",
    "    # '/datascope/subaru/data/targeting/MW/S25A_May-June/ga_targets_outerdisk_l90_b28_faint.ecsv',\n",
    "    # '/datascope/subaru/data/targeting/MW/S25A_May-June/ga_targets_outerdisk_l90_b29_faint.ecsv',\n",
    "\n",
    "    # '/datascope/subaru/data/targeting/MW/outerdisk_l90_bm28_SSP/ga_targets_outerdisk_l90_bm28_faint.ecsv',\n",
    "    # '/datascope/subaru/data/targeting/MW/outerdisk_l90_bm29_SSP/ga_targets_outerdisk_l90_bm29_faint.ecsv',\n",
    "\n",
    "    '/datascope/subaru/data/targeting/MW/outerdisk_l90_b25_SSP/ga_targets_outerdisk_l90_b25_faint.ecsv',\n",
    "    '/datascope/subaru/data/targeting/MW/outerdisk_l90_b27_SSP/ga_targets_outerdisk_l90_b27_faint.ecsv',\n",
    "]"
   ]
  },
  {
   "cell_type": "code",
   "execution_count": 0,
   "id": "dda84045",
   "metadata": {},
   "outputs": [],
   "source": [
    "import numpy as np\n",
    "import pandas as pd\n",
    "import matplotlib.pyplot as plt"
   ]
  },
  {
   "cell_type": "code",
   "execution_count": 0,
   "id": "ce04aabc",
   "metadata": {},
   "outputs": [],
   "source": [
    "if 'debug' not in globals():\n",
    "    import debugpy\n",
    "    debugpy.listen(('localhost', 5698))\n",
    "    debug = True"
   ]
  },
  {
   "cell_type": "code",
   "execution_count": 0,
   "id": "db0b8a4a",
   "metadata": {},
   "outputs": [],
   "source": [
    "%load_ext autoreload\n",
    "%autoreload 2"
   ]
  },
  {
   "cell_type": "code",
   "execution_count": 0,
   "id": "445d2be7",
   "metadata": {},
   "outputs": [],
   "source": [
    "from pfs.ga.targeting.data import Observation\n",
    "from pfs.ga.targeting.io import ObservationSerializer\n",
    "\n",
    "from pfs.ga.targeting.instrument import *\n",
    "from pfs.ga.targeting.diagram import CMD, CCD, ColorAxis, MagnitudeAxis\n",
    "from pfs.ga.targeting.photometry import Photometry, Magnitude, Color\n",
    "from pfs.ga.targeting.projection import Pointing, WcsProjection\n",
    "from pfs.ga.targeting.instrument import SubaruWFC, SubaruPFI\n",
    "from pfs.ga.targeting.diagram import FOV, FP\n",
    "\n",
    "from astropy import wcs\n",
    "from astropy import units as u\n",
    "from astropy.coordinates import Angle, SkyCoord"
   ]
  },
  {
   "cell_type": "code",
   "execution_count": 0,
   "id": "87f4d2cf",
   "metadata": {},
   "outputs": [],
   "source": [
    "# Load the data files\n",
    "\n",
    "obs = []\n",
    "for i, f in enumerate(DATA_FILES):\n",
    "    s = ObservationSerializer(catalog_name='cat_{i + 1}')\n",
    "    s.column_map = {\n",
    "        'objid': 'targetid',\n",
    "        'ra': 'RA',\n",
    "        'dec': 'Dec'\n",
    "    }\n",
    "    obs.append(s.read(f))"
   ]
  },
  {
   "cell_type": "code",
   "execution_count": 0,
   "id": "b8aba280",
   "metadata": {},
   "outputs": [],
   "source": [
    "obs[0].data.columns"
   ]
  },
  {
   "cell_type": "code",
   "execution_count": 0,
   "id": "551c8d1c",
   "metadata": {},
   "outputs": [],
   "source": [
    "obs[1].data.columns"
   ]
  },
  {
   "cell_type": "code",
   "execution_count": 0,
   "id": "5eef7e02",
   "metadata": {},
   "outputs": [],
   "source": [
    "obs[0].data[['psf_flux_r', 'r_ps1']]"
   ]
  },
  {
   "cell_type": "code",
   "execution_count": 0,
   "id": "ffaa1fbc",
   "metadata": {},
   "outputs": [],
   "source": [
    "obs[1].data.input_catalogs.unique()"
   ]
  },
  {
   "cell_type": "code",
   "execution_count": 0,
   "id": "a7e201e9",
   "metadata": {},
   "outputs": [],
   "source": [
    "obs[0].data['priority'].unique()"
   ]
  },
  {
   "cell_type": "code",
   "execution_count": 0,
   "id": "6edbba5f",
   "metadata": {},
   "outputs": [],
   "source": [
    "for i in range(len(obs)):\n",
    "    plt.plot(*obs[i].get_coords(), '.')"
   ]
  },
  {
   "cell_type": "markdown",
   "id": "897a5ff6",
   "metadata": {},
   "source": [
    "### Plot the pointings"
   ]
  },
  {
   "cell_type": "code",
   "execution_count": 0,
   "id": "7ed5183d",
   "metadata": {},
   "outputs": [],
   "source": [
    "# l, b = 90.0, 28.0\n",
    "# gal = SkyCoord(l=l * u.deg, b=b * u.deg, frame='galactic')\n",
    "# print(gal.icrs)\n",
    "\n",
    "# l, b = 90.0, 29.0\n",
    "# gal = SkyCoord(l=l * u.deg, b=b * u.deg, frame='galactic')\n",
    "# print(gal.icrs)\n",
    "\n",
    "# l, b = 90.0, -28.0\n",
    "# gal = SkyCoord(l=l * u.deg, b=b * u.deg, frame='galactic')\n",
    "# print(gal.icrs)\n",
    "\n",
    "# l, b = 90.0, -29.0\n",
    "# gal = SkyCoord(l=l * u.deg, b=b * u.deg, frame='galactic')\n",
    "# print(gal.icrs)\n",
    "\n",
    "l, b = 90.0, 25.0\n",
    "gal = SkyCoord(l=l * u.deg, b=b * u.deg, frame='galactic')\n",
    "print(gal.icrs)\n",
    "\n",
    "l, b = 90.0, 27.0\n",
    "gal = SkyCoord(l=l * u.deg, b=b * u.deg, frame='galactic')\n",
    "print(gal.icrs)"
   ]
  },
  {
   "cell_type": "code",
   "execution_count": 0,
   "id": "eee3fef9",
   "metadata": {},
   "outputs": [],
   "source": [
    "# pointing = Pointing(273.5, 60.9, posang=0.0)\n",
    "# print(pointing.ra, pointing.dec)\n",
    "\n",
    "# pointing = Pointing(340.5, 26.0, posang=0.0)\n",
    "# print(pointing.ra, pointing.dec)\n",
    "\n",
    "pointing = Pointing(279.5, 60.5, posang=0.0)\n",
    "print(pointing.ra, pointing.dec)\n",
    "\n",
    "wcs = WcsProjection(pointing, proj='TAN')\n",
    "wfc = SubaruWFC(wcs.pointing)\n",
    "fov = FOV(projection=wcs)"
   ]
  },
  {
   "cell_type": "code",
   "execution_count": 0,
   "id": "ecadda4b",
   "metadata": {},
   "outputs": [],
   "source": [
    "# fov.axes[0].limits = (190, 295)\n",
    "# fov.axes[1].limits = (29, 25)"
   ]
  },
  {
   "cell_type": "code",
   "execution_count": 0,
   "id": "9e06b82f",
   "metadata": {},
   "outputs": [],
   "source": [
    "pointings = [\n",
    "    # Pointing(273.525, 60.88, posang=0),\n",
    "    # Pointing(270.725, 61.00, posang=0),\n",
    "\n",
    "    # Pointing(340.4, 26.50, posang=0),\n",
    "    # Pointing(341.215, 25.35, posang=0),\n",
    "\n",
    "    Pointing(279.0, 60.45, posang=0),\n",
    "    Pointing(276.3, 60.7, posang=0),\n",
    "]"
   ]
  },
  {
   "cell_type": "code",
   "execution_count": 0,
   "id": "4ba76515",
   "metadata": {},
   "outputs": [],
   "source": [
    "f, ax = plt.subplots(1, 1, figsize=(4, 4), dpi=240, subplot_kw=dict(projection=fov.projection.wcs))\n",
    "\n",
    "fov.plot_catalog(ax, obs[0], c='red', size=0.5) #, scalex=False, scaley=False)\n",
    "fov.plot_catalog(ax, obs[1], c='blue', size=0.5) #, scalex=False, scaley=False)\n",
    "\n",
    "for p in pointings:\n",
    "    pfi = SubaruPFI(SubaruWFC(p))\n",
    "    pfi.plot_focal_plane(ax, fov, corners=True, color='k', lw=2, scalex=False, scaley=False)\n",
    "\n",
    "ax.grid()"
   ]
  },
  {
   "cell_type": "code",
   "execution_count": 0,
   "id": "309036af",
   "metadata": {},
   "outputs": [],
   "source": []
  }
 ],
 "metadata": {
  "kernelspec": {
   "display_name": "dobos-torch",
   "language": "python",
   "name": "python3"
  },
  "language_info": {
   "codemirror_mode": {
    "name": "ipython",
    "version": 3
   },
   "file_extension": ".py",
   "mimetype": "text/x-python",
   "name": "python",
   "nbconvert_exporter": "python",
   "pygments_lexer": "ipython3",
   "version": "3.10.15"
  }
 },
 "nbformat": 4,
 "nbformat_minor": 5
}