{
 "cells": [
  {
   "cell_type": "code",
   "execution_count": 0,
   "metadata": {},
   "outputs": [],
   "source": [
    "import pandas as pd\n",
    "import numpy as np"
   ]
  },
  {
   "cell_type": "code",
   "execution_count": 0,
   "metadata": {},
   "outputs": [],
   "source": [
    "df = {}"
   ]
  },
  {
   "cell_type": "code",
   "execution_count": 0,
   "metadata": {},
   "outputs": [],
   "source": [
    "fn = '/datascope/subaru/data/targeting/MW/outerdisk_l180_b22_ENG/ga_targets_outerdisk_l180_b22_ENG-v0.csv'\n",
    "x = pd.read_csv(fn)\n",
    "\n",
    "df['gaia'] = x[~x['g_gaia'].isna()]\n",
    "df['ps1'] = x[~x['g_ps1'].isna()]\n",
    "\n",
    "df['gaia'], df['ps1']"
   ]
  },
  {
   "cell_type": "code",
   "execution_count": 0,
   "metadata": {},
   "outputs": [],
   "source": [
    "fn = '/datascope/subaru/data/targeting/MW/VMP/jplus_field_111_38.csv'\n",
    "df['jplus'] = pd.read_csv(fn)\n",
    "df['jplus']"
   ]
  },
  {
   "cell_type": "code",
   "execution_count": 0,
   "metadata": {},
   "outputs": [],
   "source": [
    "fn = '/datascope/subaru/data/targeting/MW/VMP/Li_Subaru_LAMOST_field_111_38.csv'\n",
    "df['lamost'] = pd.read_csv(fn)\n",
    "df['lamost']"
   ]
  },
  {
   "cell_type": "code",
   "execution_count": 0,
   "metadata": {},
   "outputs": [],
   "source": [
    "# X-match code from Miho\n",
    "\n",
    "import astropy.coordinates as coord\n",
    "import astropy.units as u\n",
    "from astropy.table import Table, vstack\n",
    "from astropy.coordinates import SkyCoord, match_coordinates_sky\n",
    "\n",
    "def remove_duplicate(tb, depth):\n",
    "\n",
    "    # Inputs: \n",
    "    #     tb:  Astropy Table format \n",
    "    #     depth: \"bright\" or \"faint\"\n",
    "    \n",
    "    print(\"Initial number of table entries: \", len(tb))\n",
    "\n",
    "    # Two iterations are needed to deal with duplicates among up to three catalogs.\n",
    "    for i in range(0, 2):\n",
    "\n",
    "        print(\"Length of the input table:\", len(tb))\n",
    "        \n",
    "        coords = SkyCoord(ra = tb['ra'] * u.degree, dec = tb['dec'] * u.degree)\n",
    "\n",
    "        discards = np.array([], dtype = bool)\n",
    "        \n",
    "        for row in tb:\n",
    "            discard = False\n",
    "            objid = row['obj_id']\n",
    "            coord = SkyCoord(ra = row['ra'] * u.degree, dec = row['dec'] * u.degree)\n",
    "            filt = (tb['obj_id'] == objid) & (tb['input_catalogs'] == row['input_catalogs']) # Object itself\n",
    "            coords_filt = coords[~filt]          # Remove the object itself\n",
    "            \n",
    "            idx, d2d, d3d = match_coordinates_sky(coord, coords_filt, nthneighbor=1)\n",
    "            \n",
    "            if d2d.value < 2./3600.: \n",
    "                \n",
    "                if depth == \"faint\":\n",
    "                    if i == 0 and row['input_catalogs'] == \"PS1\":\n",
    "                        discard = True\n",
    "                    elif i == 1 and (row['input_catalogs'] == \"Gaia\"):\n",
    "                        discard = True\n",
    "                elif depth == \"bright\":\n",
    "                    if i == 0 and (row['input_catalogs'] == \"SEGUE\" or \\\n",
    "                                   row['input_catalogs'] == \"DESI\" or row['input_catalogs'] == \"PS1\"):                       \n",
    "                        discard = True\n",
    "                    elif i ==1 and (row['input_catalogs'] == \"Pristine-Gaia\" or row['input_catalogs'] == \"PristineDR1\"):\n",
    "                        discard = True\n",
    "                    \n",
    "            discards = np.hstack((discards, discard))\n",
    "        \n",
    "        tb = tb[~discards]\n",
    "\n",
    "        print(\"After the iteration %i, the number of entries: %i\"%(i, len(tb)))\n",
    "    return(tb)"
   ]
  },
  {
   "cell_type": "code",
   "execution_count": 0,
   "metadata": {},
   "outputs": [],
   "source": [
    "from astropy.coordinates import SkyCoord, match_coordinates_sky\n",
    "import astropy.coordinates as coord\n",
    "import astropy.units as u\n",
    "\n",
    "# Use astropy to cross-match the catalogs df['ps1'] and df['gaia']\n",
    "ps1_coords = SkyCoord(ra=np.array(df['ps1']['ra']) * u.degree, dec=np.array(df['ps1']['dec']) * u.degree)\n",
    "gaia_coords = SkyCoord(ra=np.array(df['gaia']['ra']) * u.degree, dec=np.array(df['gaia']['dec']) * u.degree)\n",
    "\n",
    "ps1_coords, gaia_coords"
   ]
  },
  {
   "cell_type": "code",
   "execution_count": 0,
   "metadata": {},
   "outputs": [],
   "source": [
    "idx, sep2d, dist3d = match_coordinates_sky(ps1_coords, gaia_coords, nthneighbor=1)\n",
    "# idx: indices into gaia_coords\n",
    "# sep2d: on-sky separation, one entry for each ps1_coords"
   ]
  },
  {
   "cell_type": "code",
   "execution_count": 0,
   "metadata": {},
   "outputs": [],
   "source": [
    "idx.shape, sep2d.shape, ps1_coords.shape"
   ]
  },
  {
   "cell_type": "code",
   "execution_count": 0,
   "metadata": {},
   "outputs": [],
   "source": [
    "sep2d.to(u.arcsec).value"
   ]
  },
  {
   "cell_type": "code",
   "execution_count": 0,
   "metadata": {},
   "outputs": [],
   "source": []
  }
 ],
 "metadata": {
  "kernelspec": {
   "display_name": "dobos-torch",
   "language": "python",
   "name": "python3"
  },
  "language_info": {
   "codemirror_mode": {
    "name": "ipython",
    "version": 3
   },
   "file_extension": ".py",
   "mimetype": "text/x-python",
   "name": "python",
   "nbconvert_exporter": "python",
   "pygments_lexer": "ipython3",
   "version": "3.10.15"
  }
 },
 "nbformat": 4,
 "nbformat_minor": 2
}