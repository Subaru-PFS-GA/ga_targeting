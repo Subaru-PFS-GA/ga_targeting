{
 "cells": [
  {
   "cell_type": "markdown",
   "id": "cd03dc04",
   "metadata": {},
   "source": [
    "# Download GAIA stars\n",
    "\n",
    "To be used as filler targets, generate a list of GAIA stars around a given pointing"
   ]
  },
  {
   "cell_type": "code",
   "execution_count": 0,
   "id": "9e1565e9",
   "metadata": {},
   "outputs": [],
   "source": [
    "L, B = 90.0, 28.0\n",
    "RAD = 60            # arc min\n",
    "DATA_FILE = '/datascope/subaru/data/targeting/MW/outerdisk_l90_b28_SSP/ga_targets_outerdisk_l90_b28_faint.ecsv'\n",
    "OUTPUT_FILE = '/datascope/subaru/data/targeting/MW/outerdisk_l90_b28_SSP/l90b28_gaia.feather'"
   ]
  },
  {
   "cell_type": "code",
   "execution_count": 0,
   "id": "7958083f",
   "metadata": {},
   "outputs": [],
   "source": [
    "import matplotlib.pyplot as plt\n",
    "import astropy.units as u\n",
    "from astropy.coordinates import SkyCoord"
   ]
  },
  {
   "cell_type": "code",
   "execution_count": 0,
   "id": "b4522c47",
   "metadata": {},
   "outputs": [],
   "source": [
    "# Convert input galactic coordinates to equatorial\n",
    "l, b = L * u.deg, B * u.deg\n",
    "gal = SkyCoord(l=l, b=b, frame='galactic')\n",
    "eq = gal.transform_to('icrs')\n",
    "eq.ra.deg, eq.dec.deg"
   ]
  },
  {
   "cell_type": "markdown",
   "id": "8acbf860",
   "metadata": {},
   "source": [
    "### Load input target list"
   ]
  },
  {
   "cell_type": "code",
   "execution_count": 0,
   "id": "dd078813",
   "metadata": {},
   "outputs": [],
   "source": [
    "from pfs.ga.targeting.io import ObservationSerializer"
   ]
  },
  {
   "cell_type": "code",
   "execution_count": 0,
   "id": "41ca9ffe",
   "metadata": {},
   "outputs": [],
   "source": [
    "reader = ObservationSerializer()\n",
    "reader.column_map = {\n",
    "    'ra': 'RA',\n",
    "    'dec': 'Dec',\n",
    "}\n",
    "obs = reader.read(DATA_FILE)\n",
    "obs.data.shape, obs.data.columns"
   ]
  },
  {
   "cell_type": "markdown",
   "id": "8c1e50ad",
   "metadata": {},
   "source": [
    "### Run cone search on the GAIA database"
   ]
  },
  {
   "cell_type": "code",
   "execution_count": 0,
   "id": "fb19093c",
   "metadata": {},
   "outputs": [],
   "source": [
    "from pfs.ga.targeting.io import GaiaReader"
   ]
  },
  {
   "cell_type": "code",
   "execution_count": 0,
   "id": "cd3da7a8",
   "metadata": {},
   "outputs": [],
   "source": [
    "reader = GaiaReader()\n",
    "gaia = reader.cone_search(eq, RAD * u.arcmin)\n",
    "gaia.data.shape, gaia.data.columns"
   ]
  },
  {
   "cell_type": "code",
   "execution_count": 0,
   "id": "d07963e1",
   "metadata": {},
   "outputs": [],
   "source": [
    "type(gaia)"
   ]
  },
  {
   "cell_type": "code",
   "execution_count": 0,
   "id": "f8421adb",
   "metadata": {},
   "outputs": [],
   "source": [
    "mask = (gaia.data['gaia_g'] > 21.5) & \\\n",
    "    (gaia.data['gaia_g'] < 22.5) & \\\n",
    "    (gaia.data['gaia_g'] - gaia.data['gaia_rp'] > 0.0) & \\\n",
    "    (gaia.data['gaia_g'] - gaia.data['gaia_rp'] < 2.0)\n",
    "\n",
    "gaia_filt = gaia.filter(mask=mask)"
   ]
  },
  {
   "cell_type": "code",
   "execution_count": 0,
   "id": "3cad2303",
   "metadata": {},
   "outputs": [],
   "source": [
    "f, ax = plt.subplots(1, 1, figsize=(4, 6))\n",
    "\n",
    "for g, c in zip([gaia, gaia_filt], ['lightgray', 'red']):\n",
    "    ax.plot(g.data['gaia_g'] - g.data['gaia_rp'], g.data['gaia_g'], '.')\n",
    "\n",
    "ax.invert_yaxis()"
   ]
  },
  {
   "cell_type": "markdown",
   "id": "4d55a79b",
   "metadata": {},
   "source": [
    "### Plot"
   ]
  },
  {
   "cell_type": "code",
   "execution_count": 0,
   "id": "cfc88f00",
   "metadata": {},
   "outputs": [],
   "source": [
    "from pfs.ga.targeting.instrument import SubaruWFC, SubaruPFI\n",
    "from pfs.ga.targeting.diagram import CMD, CCD, ColorAxis, MagnitudeAxis\n",
    "from pfs.ga.targeting.photometry import Photometry, Magnitude, Color\n",
    "from pfs.ga.targeting.projection import Pointing, WcsProjection\n",
    "from pfs.ga.targeting.instrument import SubaruWFC, SubaruPFI\n",
    "from pfs.ga.targeting.diagram import FOV, FP"
   ]
  },
  {
   "cell_type": "code",
   "execution_count": 0,
   "id": "130e98e0",
   "metadata": {},
   "outputs": [],
   "source": [
    "pointing = Pointing(eq, posang=0.0)\n",
    "print(pointing.ra, pointing.dec)\n",
    "\n",
    "wcs = WcsProjection(pointing, proj='TAN')\n",
    "wfc = SubaruWFC(wcs.pointing)\n",
    "fov = FOV(projection=wcs)"
   ]
  },
  {
   "cell_type": "code",
   "execution_count": 0,
   "id": "2316f7eb",
   "metadata": {},
   "outputs": [],
   "source": [
    "f, ax = plt.subplots(1, 1, figsize=(4, 4), dpi=240, subplot_kw=dict(projection=fov.projection.wcs))\n",
    "\n",
    "fov.plot_catalog(ax, obs, c='blue', size=0.5) #, scalex=False, scaley=False)\n",
    "fov.plot_catalog(ax, gaia_filt, c='red', size=0.5) #, scalex=False, scaley=False)\n",
    "\n",
    "pfi = SubaruPFI(SubaruWFC(pointing))\n",
    "pfi.plot_focal_plane(ax, fov, corners=True, color='k', lw=2, scalex=False, scaley=False)\n",
    "\n",
    "ax.grid()"
   ]
  },
  {
   "cell_type": "code",
   "execution_count": 0,
   "id": "d5c210e4",
   "metadata": {},
   "outputs": [],
   "source": [
    "writer = ObservationSerializer()\n",
    "writer.write(gaia_filt, OUTPUT_FILE)"
   ]
  },
  {
   "cell_type": "code",
   "execution_count": 0,
   "id": "c9b0f3b2",
   "metadata": {},
   "outputs": [],
   "source": []
  }
 ],
 "metadata": {
  "kernelspec": {
   "display_name": "dobos-torch",
   "language": "python",
   "name": "python3"
  },
  "language_info": {
   "codemirror_mode": {
    "name": "ipython",
    "version": 3
   },
   "file_extension": ".py",
   "mimetype": "text/x-python",
   "name": "python",
   "nbconvert_exporter": "python",
   "pygments_lexer": "ipython3",
   "version": "3.10.15"
  }
 },
 "nbformat": 4,
 "nbformat_minor": 5
}