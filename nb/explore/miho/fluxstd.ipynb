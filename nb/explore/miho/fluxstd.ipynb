{
 "cells": [
  {
   "cell_type": "code",
   "execution_count": 0,
   "metadata": {},
   "outputs": [],
   "source": [
    "FLUXSTD_FILE = f'/datascope/subaru/data/targeting/dSph/draco/fluxstd_draco_miho_20250315.feather'\n",
    "SKY_FILE = f'/datascope/subaru/data/targeting/dSph/draco/sky_draco_miho_20250315.feather'\n",
    "OBS_PATH = f'/datascope/subaru/data/targeting/dSph/draco/draco_tpall3e_g24.cat'\n",
    "\n",
    "GALAXY = 'draco'"
   ]
  },
  {
   "cell_type": "code",
   "execution_count": 0,
   "metadata": {},
   "outputs": [],
   "source": [
    "import numpy as np\n",
    "import pandas as pd\n",
    "import matplotlib.pyplot as plt\n",
    "from matplotlib.patches import Circle"
   ]
  },
  {
   "cell_type": "code",
   "execution_count": 0,
   "metadata": {},
   "outputs": [],
   "source": [
    "# if 'debug' not in globals():\n",
    "#     import debugpy\n",
    "#     debugpy.listen(('0.0.0.0', 5698))\n",
    "#     debug = True"
   ]
  },
  {
   "cell_type": "markdown",
   "metadata": {},
   "source": [
    "# Plot a flux standard file"
   ]
  },
  {
   "cell_type": "code",
   "execution_count": 0,
   "metadata": {},
   "outputs": [],
   "source": [
    "from pfs.ga.targeting.instrument import *\n",
    "from pfs.ga.targeting.diagram import CMD, CCD, ColorAxis, MagnitudeAxis\n",
    "from pfs.ga.targeting.photometry import Photometry, Magnitude, Color"
   ]
  },
  {
   "cell_type": "code",
   "execution_count": 0,
   "metadata": {},
   "outputs": [],
   "source": [
    "from pfs.ga.targeting.io import PfsFluxStdReader, PfsSkyReader\n",
    "from pfs.ga.targeting.data import Observation"
   ]
  },
  {
   "cell_type": "code",
   "execution_count": 0,
   "metadata": {},
   "outputs": [],
   "source": [
    "fluxstd = PfsFluxStdReader().read(FLUXSTD_FILE)\n",
    "sky = PfsSkyReader().read(SKY_FILE)"
   ]
  },
  {
   "cell_type": "code",
   "execution_count": 0,
   "metadata": {},
   "outputs": [],
   "source": [
    "fluxstd.data.columns"
   ]
  },
  {
   "cell_type": "code",
   "execution_count": 0,
   "metadata": {},
   "outputs": [],
   "source": [
    "if 'prob_f_star' in fluxstd.data.columns:\n",
    "    plt.hist(fluxstd.data['prob_f_star'].values)"
   ]
  },
  {
   "cell_type": "code",
   "execution_count": 0,
   "metadata": {},
   "outputs": [],
   "source": [
    "from pfs.ga.targeting.util.astro import *"
   ]
  },
  {
   "cell_type": "code",
   "execution_count": 0,
   "metadata": {},
   "outputs": [],
   "source": [
    "Jy_to_ABmag(fluxstd.data['psf_flux_g'])"
   ]
  },
  {
   "cell_type": "code",
   "execution_count": 0,
   "metadata": {},
   "outputs": [],
   "source": [
    "mask = fluxstd.data['prob_f_star'] > 0.9\n",
    "\n",
    "plt.plot(\n",
    "    Jy_to_ABmag(fluxstd.data['psf_flux_g'][mask]) - Jy_to_ABmag(fluxstd.data['psf_flux_r'][mask]),\n",
    "    Jy_to_ABmag(fluxstd.data['psf_flux_g'][mask]), '.', ms=0.5)\n",
    "\n",
    "plt.gca().invert_yaxis()"
   ]
  },
  {
   "cell_type": "code",
   "execution_count": 0,
   "metadata": {},
   "outputs": [],
   "source": [
    "# Check if any of the columns contain None values\n",
    "\n",
    "for c in fluxstd.data.columns:\n",
    "    none = fluxstd.data[c].isna().sum()\n",
    "    print(c, none)\n",
    "\n",
    "# np.any(fluxstd.data['psf_mag_g'].isna())"
   ]
  },
  {
   "cell_type": "code",
   "execution_count": 0,
   "metadata": {},
   "outputs": [],
   "source": [
    "sky.data.columns"
   ]
  },
  {
   "cell_type": "code",
   "execution_count": 0,
   "metadata": {},
   "outputs": [],
   "source": [
    "obs = SubaruHSC.text_observation_reader().read(OBS_PATH)\n",
    "obs.data.head()"
   ]
  },
  {
   "cell_type": "markdown",
   "metadata": {},
   "source": [
    "# Plot field of view of instrument"
   ]
  },
  {
   "cell_type": "code",
   "execution_count": 0,
   "metadata": {},
   "outputs": [],
   "source": [
    "from pfs.ga.targeting.targets.dsph import GALAXIES\n",
    "from pfs.ga.targeting.projection import Pointing, WcsProjection\n",
    "from pfs.ga.targeting.instrument import SubaruWFC, SubaruPFI\n",
    "from pfs.ga.targeting.diagram import FOV, FP\n",
    "\n",
    "from astropy import wcs\n",
    "from astropy import units as u\n",
    "from astropy.coordinates import Angle"
   ]
  },
  {
   "cell_type": "code",
   "execution_count": 0,
   "metadata": {},
   "outputs": [],
   "source": [
    "target = GALAXIES[GALAXY]"
   ]
  },
  {
   "cell_type": "code",
   "execution_count": 0,
   "metadata": {},
   "outputs": [],
   "source": [
    "pointing = target.get_pointings(SubaruPFI)[0]\n",
    "print(pointing.ra, pointing.dec, pointing.posang)\n",
    "\n",
    "wcs = WcsProjection(pointing, proj='TAN')\n",
    "wfc = SubaruWFC(wcs.pointing)\n",
    "pfi = SubaruPFI(projection=wfc, instrument_options={ 'layout': 'calibration' })\n",
    "fov = FOV(projection=wcs)"
   ]
  },
  {
   "cell_type": "code",
   "execution_count": 0,
   "metadata": {},
   "outputs": [],
   "source": [
    "f, ax = plt.subplots(1, 1, figsize=(8, 8), dpi=120, subplot_kw=dict(projection=fov.projection.wcs))\n",
    "\n",
    "# fov.plot_catalog(ax, sky, color='b', alpha=0.3)\n",
    "fov.plot_catalog(ax, fluxstd, color='r', size=2)\n",
    "# fov.plot_catalog(ax, obs, color='k')\n",
    "\n",
    "# ax.plot(target.pos.ra, target.pos.dec, marker='x', markersize=30, color='r', transform=ax.get_transform('world'))\n",
    "\n",
    "pfi.plot_focal_plane(ax, fov, color='red', lw=1, corners=True)\n",
    "\n",
    "ax.set_xlim(2, -3)\n",
    "ax.set_ylim(-3, 2)\n",
    "\n",
    "ax.grid()"
   ]
  },
  {
   "cell_type": "code",
   "execution_count": 0,
   "metadata": {},
   "outputs": [],
   "source": [
    "from pfs.ga.targeting.util.astro import *"
   ]
  },
  {
   "cell_type": "code",
   "execution_count": 0,
   "metadata": {},
   "outputs": [],
   "source": [
    "# Calculate the magnitudes from the flux\n",
    "fluxstd.data['psf_mag_r'] =  nJy_to_ABmag(fluxstd.data['psf_flux_r'])\n",
    "fluxstd.data['psf_mag_i'] =  nJy_to_ABmag(fluxstd.data['psf_flux_i'])\n",
    "fluxstd.data['psf_mag_z'] =  nJy_to_ABmag(fluxstd.data['psf_flux_z'])"
   ]
  },
  {
   "cell_type": "code",
   "execution_count": 0,
   "metadata": {},
   "outputs": [],
   "source": [
    "plt.plot(fluxstd.data['psf_mag_g'] - fluxstd.data['psf_mag_r'], fluxstd.data['psf_mag_g'], '.')\n",
    "plt.gca().invert_yaxis()\n",
    "plt.xlabel('PS g - r')\n",
    "plt.ylabel('PS g')"
   ]
  },
  {
   "cell_type": "code",
   "execution_count": 0,
   "metadata": {},
   "outputs": [],
   "source": []
  },
  {
   "cell_type": "code",
   "execution_count": 0,
   "metadata": {},
   "outputs": [],
   "source": []
  }
 ],
 "metadata": {
  "kernelspec": {
   "display_name": "dobos-torch",
   "language": "python",
   "name": "python3"
  },
  "language_info": {
   "codemirror_mode": {
    "name": "ipython",
    "version": 3
   },
   "file_extension": ".py",
   "mimetype": "text/x-python",
   "name": "python",
   "nbconvert_exporter": "python",
   "pygments_lexer": "ipython3",
   "version": "3.10.15"
  }
 },
 "nbformat": 4,
 "nbformat_minor": 2
}