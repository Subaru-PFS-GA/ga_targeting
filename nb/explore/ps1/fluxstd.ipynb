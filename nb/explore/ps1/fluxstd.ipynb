{
 "cells": [
  {
   "cell_type": "code",
   "execution_count": 0,
   "metadata": {},
   "outputs": [],
   "source": [
    "FLUXSTD_FILE = f'/datascope/subaru/data/targeting/dSph/draco/PS1_Dra_fluxstd_3_dobos.csv'\n",
    "SKY_FILE = f'/datascope/subaru/data/targeting/dSph/draco/sky_draco.feather'\n",
    "OBS_PATH = f'/datascope/subaru/data/targeting/dSph/draco/draco_tpall3e_g24.cat'\n",
    "\n",
    "GALAXY = 'draco'"
   ]
  },
  {
   "cell_type": "markdown",
   "metadata": {},
   "source": [
    " ```sql\n",
    "Run this ON HLSP_PS1_PSC\n",
    "-----\n",
    "\n",
    "DECLARE @ra AS float = 227.29725;\n",
    "DECLARE @dec AS float = 67.21436111;\n",
    "DECLARE @rad AS float = 120; \n",
    "\n",
    "IF OBJECT_ID('PS1_UMI_fluxstd_1') IS NOT NULL DROP TABLE PS1_UMI_fluxstd_1\n",
    "\n",
    "SELECT --TOP 10\n",
    "    p.objID as obj_id,\n",
    "    p.raMean AS RA, p.decMean AS Dec,\n",
    "    gPSFMag, gPSFMagErr, rPSFMag, rPSFMagErr, iPSFMag, iPSFMagErr, zPSFMag, zPSFMagErr, yPSFMag, yPSFMagErr\n",
    "INTO Mydb.PS1_UMI_fluxstd_1\n",
    "FROM pointsource_magnitudes_view AS p\n",
    "INNER JOIN fGetNearbyObjEq(@ra, @dec, @rad) AS r ON p.objid=r.objid\n",
    "WHERE p.ps_score > 0.9\n",
    "    AND gPSFMag != -999 AND rPSFMag != -999 AND zPSFMag != -999\n",
    "    AND gPSFMag BETWEEN 13 AND 19\n",
    "    AND gPSFMag - rPSFMag BETWEEN 0.25 AND 0.4\n",
    "\n",
    "CREATE CLUSTERED INDEX IX_PS1_UMI_fluxstd_1 ON PS1_UMI_fluxstd_1 (obj_id)\n",
    "\n",
    "\n",
    "----\n",
    "obj_id like 186262271624076579\n",
    "\n",
    "\n",
    "\n",
    "Run this on GAIA_DR2\n",
    "----------------------\n",
    "\n",
    "SELECT \n",
    "    m.obj_id, g.source_id,\n",
    "    g.ra, g.dec,\n",
    "    g.parallax, g.parallax_error,\n",
    "    g.pmra, g.pmra_error, g.pmdec, g.pmdec_error,\n",
    "    g.radial_velocity, g.radial_velocity_error,\n",
    "    n.angular_distance,\n",
    "    gPSFMag, gPSFMagErr, rPSFMag, rPSFMagErr, iPSFMag, iPSFMagErr, zPSFMag, zPSFMagErr, yPSFMag, yPSFMagErr\n",
    "INTO PS1_UMI_fluxstd_2\n",
    "FROM MYDB.PS1_UMI_fluxstd_1 m \n",
    "INNER JOIN panstarrs1_best_neighbour n\n",
    "    ON m.obj_id = n.clean_panstarrs1_oid\n",
    "INNER JOIN gaia_source g\n",
    "    ON g.source_id = n.source_id\n",
    "````"
   ]
  },
  {
   "cell_type": "code",
   "execution_count": 0,
   "metadata": {},
   "outputs": [],
   "source": [
    "import os\n",
    "import numpy as np\n",
    "import pandas as pd\n",
    "import matplotlib.pyplot as plt\n",
    "from matplotlib.patches import Circle\n",
    "\n",
    "from astropy import wcs\n",
    "from astropy import units as u\n",
    "from astropy.coordinates import Angle, Distance"
   ]
  },
  {
   "cell_type": "code",
   "execution_count": 0,
   "metadata": {},
   "outputs": [],
   "source": [
    "# if 'debug' not in globals():\n",
    "#     import debugpy\n",
    "#     debugpy.listen(('0.0.0.0', 5698))\n",
    "#     debug = True"
   ]
  },
  {
   "cell_type": "code",
   "execution_count": 0,
   "metadata": {},
   "outputs": [],
   "source": [
    "from pfs.ga.targeting.instrument import *\n",
    "from pfs.ga.targeting.diagram import CMD, CCD, ColorAxis, MagnitudeAxis\n",
    "from pfs.ga.targeting.photometry import Photometry, Magnitude, Color"
   ]
  },
  {
   "cell_type": "code",
   "execution_count": 0,
   "metadata": {},
   "outputs": [],
   "source": [
    "from pfs.ga.targeting.io import PfsFluxStdReader, PfsSkyReader\n",
    "from pfs.ga.targeting.data import Observation"
   ]
  },
  {
   "cell_type": "code",
   "execution_count": 0,
   "metadata": {},
   "outputs": [],
   "source": [
    "fluxstd = pd.read_csv(FLUXSTD_FILE)\n",
    "fluxstd.rename(columns={ 'ra': 'RA', 'dec': 'Dec' }, inplace=True)\n",
    "\n",
    "fluxstd = Observation(data=fluxstd)\n",
    "\n",
    "fluxstd.data"
   ]
  },
  {
   "cell_type": "code",
   "execution_count": 0,
   "metadata": {},
   "outputs": [],
   "source": [
    "fluxstd.data.columns"
   ]
  },
  {
   "cell_type": "code",
   "execution_count": 0,
   "metadata": {},
   "outputs": [],
   "source": [
    "# Check duplicates\n",
    "\n",
    "duplicates = fluxstd.data.sort_values(['obj_id', 'angular_distance']).duplicated('obj_id', keep='first')\n",
    "duplicates.sum()"
   ]
  },
  {
   "cell_type": "code",
   "execution_count": 0,
   "metadata": {},
   "outputs": [],
   "source": [
    "fluxstd = fluxstd.filter(mask=~duplicates)"
   ]
  },
  {
   "cell_type": "code",
   "execution_count": 0,
   "metadata": {},
   "outputs": [],
   "source": [
    "fluxstd.shape"
   ]
  },
  {
   "cell_type": "code",
   "execution_count": 0,
   "metadata": {},
   "outputs": [],
   "source": [
    "dm_mask = fluxstd.data['parallax'] > 0\n",
    "DM = Distance(parallax=fluxstd.data['parallax'][dm_mask].values * u.mas).distmod.value"
   ]
  },
  {
   "cell_type": "code",
   "execution_count": 0,
   "metadata": {},
   "outputs": [],
   "source": [
    "plt.hist(fluxstd.data['pmra'], bins=np.linspace(-30, 30, 100))\n",
    "plt.xlabel('pmra')"
   ]
  },
  {
   "cell_type": "code",
   "execution_count": 0,
   "metadata": {},
   "outputs": [],
   "source": [
    "plt.hist(fluxstd.data['pmdec'], bins=np.linspace(-30, 30, 100))\n",
    "plt.xlabel('pmdec')"
   ]
  },
  {
   "cell_type": "code",
   "execution_count": 0,
   "metadata": {},
   "outputs": [],
   "source": [
    "from pfs.ga.targeting.targets.dsph import GALAXIES\n",
    "from pfs.ga.targeting.projection import Pointing, WcsProjection\n",
    "from pfs.ga.targeting.instrument import SubaruWFC, SubaruPFI\n",
    "from pfs.ga.targeting.diagram import FOV, FP"
   ]
  },
  {
   "cell_type": "code",
   "execution_count": 0,
   "metadata": {},
   "outputs": [],
   "source": [
    "target = GALAXIES[GALAXY]"
   ]
  },
  {
   "cell_type": "code",
   "execution_count": 0,
   "metadata": {},
   "outputs": [],
   "source": [
    "obs = target.get_text_observation_reader().read(OBS_PATH)"
   ]
  },
  {
   "cell_type": "code",
   "execution_count": 0,
   "metadata": {},
   "outputs": [],
   "source": [
    "pointing = target.get_pointings(SubaruPFI)[0]\n",
    "print(pointing.ra, pointing.dec, pointing.posang)\n",
    "\n",
    "wcs = WcsProjection(pointing, proj='TAN')\n",
    "wfc = SubaruWFC(wcs.pointing)\n",
    "pfi = SubaruPFI(projection=wfc, instrument_options={ 'layout': 'calibration' })\n",
    "fov = FOV(projection=wcs)"
   ]
  },
  {
   "cell_type": "code",
   "execution_count": 0,
   "metadata": {},
   "outputs": [],
   "source": [
    "f, ax = plt.subplots(1, 1, figsize=(8, 8), dpi=120, subplot_kw=dict(projection=fov.projection.wcs))\n",
    "\n",
    "fov.plot_catalog(ax, obs, color='gray')\n",
    "# fov.plot_catalog(ax, sky, color='b', alpha=0.3)\n",
    "fov.plot_catalog(ax, fluxstd, mask=dm_mask, color='r', size=5)\n",
    "\n",
    "# ax.plot(target.pos.ra, target.pos.dec, marker='x', markersize=30, color='r', transform=ax.get_transform('world'))\n",
    "\n",
    "pfi.plot_focal_plane(ax, fov, color='red', lw=1, corners=True)\n",
    "\n",
    "ax.set_xlim(2, -2.5)\n",
    "ax.set_ylim(-2, 1)\n",
    "\n",
    "ax.grid()"
   ]
  },
  {
   "cell_type": "code",
   "execution_count": 0,
   "metadata": {},
   "outputs": [],
   "source": [
    "plt.plot(fluxstd.data['gPSFMag'] - fluxstd.data['rPSFMag'], fluxstd.data['gPSFMag'], '.')\n",
    "plt.gca().invert_yaxis()\n",
    "plt.xlabel('PS1 g - r')\n",
    "plt.ylabel('PS1 g')"
   ]
  },
  {
   "cell_type": "code",
   "execution_count": 0,
   "metadata": {},
   "outputs": [],
   "source": [
    "plt.plot(fluxstd.data['gPSFMag'][dm_mask] - fluxstd.data['rPSFMag'][dm_mask],\n",
    "         fluxstd.data['gPSFMag'][dm_mask] - DM, '.')\n",
    "\n",
    "\n",
    "px_mask = (fluxstd.data['parallax'][dm_mask] / fluxstd.data['parallax_error'][dm_mask]) > 10\n",
    "\n",
    "plt.plot(fluxstd.data['gPSFMag'][dm_mask][px_mask] - fluxstd.data['rPSFMag'][dm_mask][px_mask],\n",
    "         fluxstd.data['gPSFMag'][dm_mask][px_mask] - DM[px_mask], '.')\n",
    "\n",
    "plt.gca().invert_yaxis()\n",
    "plt.xlabel('PS1 g - r')\n",
    "plt.ylabel('abs PS1 g')"
   ]
  },
  {
   "cell_type": "code",
   "execution_count": 0,
   "metadata": {},
   "outputs": [],
   "source": [
    "DM"
   ]
  },
  {
   "cell_type": "code",
   "execution_count": 0,
   "metadata": {},
   "outputs": [],
   "source": [
    "dm_mask.sum()"
   ]
  },
  {
   "cell_type": "code",
   "execution_count": 0,
   "metadata": {},
   "outputs": [],
   "source": [
    "# Write out filtered list to a feather file\n",
    "dir = os.path.dirname(FLUXSTD_FILE)\n",
    "fn, _ = os.path.splitext(os.path.basename(FLUXSTD_FILE))\n",
    "print(dir, fn)\n",
    "\n",
    "path = os.path.join(dir, fn + '.feather')\n",
    "fluxstd.data.to_feather(path)\n",
    "\n",
    "path"
   ]
  },
  {
   "cell_type": "code",
   "execution_count": 0,
   "metadata": {},
   "outputs": [],
   "source": [
    "fluxstd.data.columns"
   ]
  },
  {
   "cell_type": "code",
   "execution_count": 0,
   "metadata": {},
   "outputs": [],
   "source": []
  }
 ],
 "metadata": {
  "kernelspec": {
   "display_name": "dobos-torch",
   "language": "python",
   "name": "python3"
  },
  "language_info": {
   "codemirror_mode": {
    "name": "ipython",
    "version": 3
   },
   "file_extension": ".py",
   "mimetype": "text/x-python",
   "name": "python",
   "nbconvert_exporter": "python",
   "pygments_lexer": "ipython3",
   "version": "3.10.15"
  }
 },
 "nbformat": 4,
 "nbformat_minor": 2
}