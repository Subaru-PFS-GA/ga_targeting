{
 "cells": [
  {
   "cell_type": "code",
   "execution_count": 0,
   "metadata": {},
   "outputs": [],
   "source": [
    "import numpy as np\n",
    "import pandas as pd\n",
    "import matplotlib.pyplot as plt"
   ]
  },
  {
   "cell_type": "code",
   "execution_count": 0,
   "metadata": {},
   "outputs": [],
   "source": [
    "# Load HSC data from Komiyama-san\n",
    "names = 'id RA Dec X Y ipsf gpsf npsf ipsferr gpsferr npsferr cli clg cln a_g a_i a_n'.split(' ')\n",
    "obs = pd.read_csv('/datascope/subaru/data/cmdfit/dSph/umi_tpall3e_g24.cat', names=names,\n",
    "    delimiter='\\s+')\n",
    "obs.set_index('id')\n",
    "\n",
    "obs = obs[(obs['cli'] == 0) | (obs['clg'] == 0)]\n",
    "obs.shape"
   ]
  },
  {
   "cell_type": "code",
   "execution_count": 0,
   "metadata": {},
   "outputs": [],
   "source": [
    "obs"
   ]
  },
  {
   "cell_type": "code",
   "execution_count": 0,
   "metadata": {},
   "outputs": [],
   "source": [
    "# Load target list from Evan\n",
    "targets = pd.read_csv('ursaminor_netflow.csv')\n",
    "targets['ob_code'] = targets['ob_code'].map(lambda x: np.int64(x))\n",
    "targets.set_index('ob_code')\n",
    "targets.shape"
   ]
  },
  {
   "cell_type": "code",
   "execution_count": 0,
   "metadata": {},
   "outputs": [],
   "source": [
    "targets"
   ]
  },
  {
   "cell_type": "code",
   "execution_count": 0,
   "metadata": {},
   "outputs": [],
   "source": [
    "# Join the two on ID\n",
    "\n",
    "full = targets.set_index('ob_code').join(obs.set_index('id'), how='inner')\n",
    "full.shape"
   ]
  },
  {
   "cell_type": "code",
   "execution_count": 0,
   "metadata": {},
   "outputs": [],
   "source": [
    "full"
   ]
  },
  {
   "cell_type": "code",
   "execution_count": 0,
   "metadata": {},
   "outputs": [],
   "source": [
    "full[['ra', 'RA', 'dec', 'Dec']]"
   ]
  },
  {
   "cell_type": "code",
   "execution_count": 0,
   "metadata": {},
   "outputs": [],
   "source": [
    "f, ax = plt.subplots(1, 1, figsize=(4, 4), dpi=240)\n",
    "\n",
    "ax.scatter(obs['RA'], obs['Dec'], marker='s', c='lightgray', s=0.3, edgecolor='none')\n",
    "ax.scatter(full['ra'], full['dec'], marker='s', c='red', s=0.1, edgecolor='none')"
   ]
  },
  {
   "cell_type": "code",
   "execution_count": 0,
   "metadata": {},
   "outputs": [],
   "source": [
    "full['priority'].unique()"
   ]
  },
  {
   "cell_type": "code",
   "execution_count": 0,
   "metadata": {},
   "outputs": [],
   "source": [
    "f, axs = plt.subplots(3, 3, figsize=(9, 12), dpi=240)\n",
    "\n",
    "for pri, ax in zip(sorted(full['priority'].unique()), axs.flatten()):\n",
    "    ax.scatter((obs['gpsf'] - obs['a_g']) - (obs['ipsf'] - obs['a_i']), obs['gpsf'] - obs['a_g'], marker='s', c='lightgray', s=0.3, edgecolor='none')\n",
    "\n",
    "    mask = full['priority'] == pri\n",
    "    ax.scatter((full['gpsf'] - full['a_g'])[mask] - (full['ipsf'] - full['a_i'])[mask], (full['gpsf'] - full['a_g'])[mask], marker='s', c='red', s=0.3, edgecolor='none')\n",
    "\n",
    "    ax.set_xlim(-1, 4)\n",
    "    ax.set_ylim(15.5, 24.2)\n",
    "\n",
    "    ax.invert_yaxis()\n",
    "\n",
    "    ax.set_title(f'PRIORITY = {pri}')"
   ]
  },
  {
   "cell_type": "code",
   "execution_count": 0,
   "metadata": {},
   "outputs": [],
   "source": []
  }
 ],
 "metadata": {
  "kernelspec": {
   "display_name": "astro-tf211",
   "language": "python",
   "name": "python3"
  },
  "language_info": {
   "codemirror_mode": {
    "name": "ipython",
    "version": 3
   },
   "file_extension": ".py",
   "mimetype": "text/x-python",
   "name": "python",
   "nbconvert_exporter": "python",
   "pygments_lexer": "ipython3",
   "version": "3.10.9"
  }
 },
 "nbformat": 4,
 "nbformat_minor": 2
}