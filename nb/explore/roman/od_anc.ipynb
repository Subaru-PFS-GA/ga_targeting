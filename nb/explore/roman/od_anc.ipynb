{
 "cells": [
  {
   "cell_type": "code",
   "execution_count": 0,
   "id": "8b1f25f1",
   "metadata": {},
   "outputs": [],
   "source": [
    "DATA_PATH = '/datascope/subaru/data/targeting/MW/tmp/may_271_61.feather'"
   ]
  },
  {
   "cell_type": "code",
   "execution_count": 0,
   "id": "9cb11cf2",
   "metadata": {},
   "outputs": [],
   "source": [
    "import numpy as np\n",
    "import pandas as pd"
   ]
  },
  {
   "cell_type": "code",
   "execution_count": 0,
   "id": "b3779ca8",
   "metadata": {},
   "outputs": [],
   "source": [
    "df = pd.read_feather(DATA_PATH)\n",
    "df"
   ]
  },
  {
   "cell_type": "code",
   "execution_count": 0,
   "id": "2427298f",
   "metadata": {},
   "outputs": [],
   "source": [
    "df['priority'].unique()"
   ]
  },
  {
   "cell_type": "code",
   "execution_count": 0,
   "id": "dbc18975",
   "metadata": {},
   "outputs": [],
   "source": []
  }
 ],
 "metadata": {
  "kernelspec": {
   "display_name": "dobos-torch",
   "language": "python",
   "name": "python3"
  },
  "language_info": {
   "codemirror_mode": {
    "name": "ipython",
    "version": 3
   },
   "file_extension": ".py",
   "mimetype": "text/x-python",
   "name": "python",
   "nbconvert_exporter": "python",
   "pygments_lexer": "ipython3",
   "version": "3.10.15"
  }
 },
 "nbformat": 4,
 "nbformat_minor": 5
}