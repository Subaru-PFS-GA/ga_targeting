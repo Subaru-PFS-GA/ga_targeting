{
 "cells": [
  {
   "cell_type": "code",
   "execution_count": 0,
   "id": "8b4f65f4",
   "metadata": {},
   "outputs": [],
   "source": [
    "# DATA_PATH = '/datascope/subaru/data/targeting/MW/outerdisk_l90_b28_SSP/Pristine_synth_273.5_60.9.csv'\n",
    "\n",
    "DATA_PATH = '/datascope/subaru/data/targeting/CC/crosscalib_ra288_dec-11/Pristine_synth_288.4_-11.4.csv'\n",
    "\n"
   ]
  },
  {
   "cell_type": "code",
   "execution_count": 0,
   "id": "c26bf1f8",
   "metadata": {},
   "outputs": [],
   "source": [
    "import numpy as np\n",
    "import pandas as pd\n",
    "import matplotlib.pyplot as plt"
   ]
  },
  {
   "cell_type": "code",
   "execution_count": 0,
   "id": "414824d3",
   "metadata": {},
   "outputs": [],
   "source": [
    "df = pd.read_csv(DATA_PATH)\n",
    "df"
   ]
  },
  {
   "cell_type": "code",
   "execution_count": 0,
   "id": "e738f793",
   "metadata": {},
   "outputs": [],
   "source": [
    "for c in df.columns:\n",
    "    print(c, df.dtypes[c])"
   ]
  },
  {
   "cell_type": "code",
   "execution_count": 0,
   "id": "a57c416f",
   "metadata": {},
   "outputs": [],
   "source": []
  }
 ],
 "metadata": {
  "kernelspec": {
   "display_name": "dobos-torch",
   "language": "python",
   "name": "python3"
  },
  "language_info": {
   "codemirror_mode": {
    "name": "ipython",
    "version": 3
   },
   "file_extension": ".py",
   "mimetype": "text/x-python",
   "name": "python",
   "nbconvert_exporter": "python",
   "pygments_lexer": "ipython3",
   "version": "3.10.15"
  }
 },
 "nbformat": 4,
 "nbformat_minor": 5
}