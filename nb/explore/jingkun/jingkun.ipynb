{
 "cells": [
  {
   "cell_type": "code",
   "execution_count": 0,
   "id": "fd376249",
   "metadata": {},
   "outputs": [],
   "source": [
    "# All bright, not for outer disk fields\n",
    "# good for CC\n",
    "# ra = 288., 289., 336.\n",
    "# DATA_PATH = '/datascope/subaru/data/targeting/MW/tmp/gaiaxp_mp_bright.fits'\n",
    "\n",
    "# CC\n",
    "# RA 336., 335., 288., 289., 287.\n",
    "DATA_PATH = '/datascope/subaru/data/targeting/MW/tmp/skymapper_mp_bright.fits'\n",
    "\n",
    "# RA 340 - 341 only\n",
    "# DATA_PATH = '/datascope/subaru/data/targeting/MW/tmp/LAMOST_mp_faint.fits'\n",
    "\n",
    "# RA 340 - 341 only\n",
    "# DATA_PATH = '/datascope/subaru/data/targeting/MW/tmp/sages_mp_faint.fits'"
   ]
  },
  {
   "cell_type": "code",
   "execution_count": 0,
   "id": "99d8e63c",
   "metadata": {},
   "outputs": [],
   "source": [
    "from astropy.io import fits\n",
    "from astropy.table import Table\n",
    "\n",
    "import numpy as np\n",
    "import pandas as pd\n",
    "import matplotlib.pyplot as plt"
   ]
  },
  {
   "cell_type": "code",
   "execution_count": 0,
   "id": "035c7f48",
   "metadata": {},
   "outputs": [],
   "source": [
    "# Read a fits file using astropy\n",
    "# hdul = fits.open(DATA_PATH, memmap=False)\n",
    "# len(hdul)"
   ]
  },
  {
   "cell_type": "code",
   "execution_count": 0,
   "id": "df8fb33f",
   "metadata": {},
   "outputs": [],
   "source": [
    "table = Table.read(DATA_PATH, format='fits')\n",
    "table"
   ]
  },
  {
   "cell_type": "code",
   "execution_count": 0,
   "id": "3093aad3",
   "metadata": {},
   "outputs": [],
   "source": [
    "# Convert the FITS bintable FITS_rec into a pandas table\n",
    "df = table.to_pandas()\n",
    "df"
   ]
  },
  {
   "cell_type": "code",
   "execution_count": 0,
   "id": "f4f44485",
   "metadata": {},
   "outputs": [],
   "source": [
    "df['RA'].min(), df['DEC'].max()"
   ]
  },
  {
   "cell_type": "code",
   "execution_count": 0,
   "id": "99803ec3",
   "metadata": {},
   "outputs": [],
   "source": [
    "np.round(df['RA']).unique()"
   ]
  },
  {
   "cell_type": "code",
   "execution_count": 0,
   "id": "d0b6f7cd",
   "metadata": {},
   "outputs": [],
   "source": []
  }
 ],
 "metadata": {
  "kernelspec": {
   "display_name": "dobos-torch",
   "language": "python",
   "name": "python3"
  },
  "language_info": {
   "codemirror_mode": {
    "name": "ipython",
    "version": 3
   },
   "file_extension": ".py",
   "mimetype": "text/x-python",
   "name": "python",
   "nbconvert_exporter": "python",
   "pygments_lexer": "ipython3",
   "version": "3.10.15"
  }
 },
 "nbformat": 4,
 "nbformat_minor": 5
}