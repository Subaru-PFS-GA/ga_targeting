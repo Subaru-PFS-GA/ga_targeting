{
 "cells": [
  {
   "cell_type": "code",
   "execution_count": 0,
   "metadata": {},
   "outputs": [],
   "source": [
    "DATA_FILE = '/datascope/subaru/data/targeting/misc/IS/targets_for_laci.csv'\n",
    "SKY_FILE = '/datascope/subaru/data/targeting/misc/IS/ra150dec2_sky.feather'\n",
    "FLUXSTD_FILE = '/datascope/subaru/data/targeting/misc/IS/ra150dec2_fluxstd.feather'\n",
    "FILLER_FILE = '/datascope/subaru/data/targeting/misc/IS/PS1_point_source_ra150dec2_dobos.csv'\n",
    "POS = (150.05, 2.2)\n",
    "\n",
    "# DATA_FILE = '/datascope/subaru/data/targeting/misc/IS/PFS_Murphree.csv'\n",
    "# SKY_FILE = '/datascope/subaru/data/targeting/misc/IS/ra270dec66_sky.feather'\n",
    "# FLUXSTD_FILE = '/datascope/subaru/data/targeting/misc/IS/ra270dec66_fluxstd.feather'\n",
    "# POS = (269.7501824794, 65.99602765373128)"
   ]
  },
  {
   "cell_type": "code",
   "execution_count": 0,
   "metadata": {},
   "outputs": [],
   "source": [
    "import pandas as pd\n",
    "import numpy as np\n",
    "import matplotlib.pyplot as plt"
   ]
  },
  {
   "cell_type": "code",
   "execution_count": 0,
   "metadata": {},
   "outputs": [],
   "source": [
    "from pfs.ga.targeting.data import Observation\n",
    "from pfs.ga.targeting.io import ObservationSerializer\n",
    "from pfs.ga.targeting.util.astro import *"
   ]
  },
  {
   "cell_type": "code",
   "execution_count": 0,
   "metadata": {},
   "outputs": [],
   "source": [
    "s = ObservationSerializer(\n",
    "    catalog_name = 'sky',\n",
    "    column_map = {\n",
    "                'sky_id': 'targetid',\n",
    "                'ra': 'RA',\n",
    "                'dec': 'Dec',\n",
    "            },\n",
    ")\n",
    "\n",
    "sky = s.read(SKY_FILE)"
   ]
  },
  {
   "cell_type": "code",
   "execution_count": 0,
   "metadata": {},
   "outputs": [],
   "source": [
    "s = ObservationSerializer(\n",
    "    catalog_name = 'fluxstd',\n",
    "    column_map = {\n",
    "        'fluxstd_id': 'targetid',\n",
    "        'ra': 'RA',\n",
    "        'dec': 'Dec',\n",
    "        'parallax_error': 'err_parallax',\n",
    "        'pmra_error': 'err_pmra',\n",
    "        'pmdec_error': 'err_pmdec',\n",
    "    },\n",
    "    # mask = 'lambda df: df[\"prob_f_star\"] > 0.5',\n",
    "    bands = {\n",
    "        b: dict(\n",
    "            filter = f'filter_{b}',                     # Column storing filter names\n",
    "            # psf_mag = f'psf_mag_{b}',                 # All None in data file\n",
    "            # psf_mag_err = f'psf_mag_error_{b}',       # All None in data file\n",
    "            psf_flux = f'psf_flux_{b}',\n",
    "            psf_flux_err = f'psf_flux_error_{b}',\n",
    "        ) for b in 'grizy'\n",
    "    },\n",
    "    limits = {\n",
    "        'ps1_g': [16, 19],\n",
    "        'ps1_g-ps1_r': [0.25, 0.4],\n",
    "    }\n",
    ")\n",
    "\n",
    "fluxstd = s.read(FLUXSTD_FILE)"
   ]
  },
  {
   "cell_type": "code",
   "execution_count": 0,
   "metadata": {},
   "outputs": [],
   "source": [
    "s = ObservationSerializer(\n",
    "    catalog_name = 'filler',\n",
    "    column_map = {\n",
    "        'obj_id': 'targetid',\n",
    "    },\n",
    "    filters = {\n",
    "        f'{b}_ps1': dict(\n",
    "            mag = f'{b}PSFMag',\n",
    "            mag_err = f'{b}PSFMagErr'\n",
    "        ) for b in 'grizy'\n",
    "    }\n",
    ")\n",
    "\n",
    "filler = s.read(FILLER_FILE)"
   ]
  },
  {
   "cell_type": "code",
   "execution_count": 0,
   "metadata": {},
   "outputs": [],
   "source": [
    "s = ObservationSerializer(\n",
    "    catalog_name = 'is',\n",
    "    column_map = {\n",
    "        'obj_id': 'targetid',\n",
    "        'ra': 'RA',\n",
    "        'dec': 'Dec',\n",
    "    },\n",
    "    filters = {\n",
    "        'i2_hsc': dict(\n",
    "            flux = 'i2_hsc',\n",
    "            flux_err = 'i2_hsc_err'\n",
    "        )\n",
    "\n",
    "        # 'g_hsc': dict(\n",
    "        #     mag = 'g_hsc',\n",
    "        #     mag_err = 'g_hsc_error'\n",
    "        # ),\n",
    "        # 'r2_hsc': dict(\n",
    "        #     mag = 'r2_hsc',\n",
    "        #     mag_err = 'r2_hsc_error'\n",
    "        # ),\n",
    "        # 'i2_hsc': dict(\n",
    "        #     mag = 'i2_hsc',\n",
    "        #     mag_err = 'i2_hsc_error'\n",
    "        # ),\n",
    "    }\n",
    ")\n",
    "obs = s.read(DATA_FILE)"
   ]
  },
  {
   "cell_type": "code",
   "execution_count": 0,
   "metadata": {},
   "outputs": [],
   "source": [
    "obs.data"
   ]
  },
  {
   "cell_type": "code",
   "execution_count": 0,
   "metadata": {},
   "outputs": [],
   "source": [
    "obs.data['RA'].mean(), obs.data['Dec'].mean()"
   ]
  },
  {
   "cell_type": "code",
   "execution_count": 0,
   "metadata": {},
   "outputs": [],
   "source": [
    "obs.data['exptime'].unique()"
   ]
  },
  {
   "cell_type": "code",
   "execution_count": 0,
   "metadata": {},
   "outputs": [],
   "source": [
    "# Histogram of exposure times\n",
    "hist, bins = np.histogram(obs.data['exptime'])\n",
    "\n",
    "plt.step(0.5 * (bins[1:] + bins[:-1]), hist, where='mid')"
   ]
  },
  {
   "cell_type": "code",
   "execution_count": 0,
   "metadata": {},
   "outputs": [],
   "source": [
    " # Magnitude distribution\n",
    "\n",
    "m = nJy_to_ABmag(obs.data['i2_hsc'])\n",
    "mask = np.isfinite(m)\n",
    "hist, bins = np.histogram(m[mask])\n",
    "\n",
    "plt.step(0.5 * (bins[1:] + bins[:-1]), hist, where='mid')\n",
    "\n"
   ]
  },
  {
   "cell_type": "code",
   "execution_count": 0,
   "metadata": {},
   "outputs": [],
   "source": [
    "from pfs.ga.targeting.projection import Pointing, WcsProjection\n",
    "from pfs.ga.targeting.instrument import *\n",
    "from pfs.ga.targeting.diagram import *\n",
    "from astropy.time import Time"
   ]
  },
  {
   "cell_type": "code",
   "execution_count": 0,
   "metadata": {},
   "outputs": [],
   "source": [
    "pointing = Pointing(*POS, obs_time=Time('2025-03-25T10:00:00'))"
   ]
  },
  {
   "cell_type": "code",
   "execution_count": 0,
   "metadata": {},
   "outputs": [],
   "source": [
    "wfc = SubaruWFC(pointing)\n",
    "wcs = WcsProjection(pointing, proj='TAN')\n",
    "fov = FOV(projection=wcs)"
   ]
  },
  {
   "cell_type": "code",
   "execution_count": 0,
   "metadata": {},
   "outputs": [],
   "source": [
    "f, ax = plt.subplots(1, 1, figsize=(8, 8), dpi=240, subplot_kw=dict(projection=wcs.wcs))\n",
    "\n",
    "fov.plot_observation(ax, sky, c='blue', size=0.1)\n",
    "fov.plot_observation(ax, obs, c='red', size=0.5)\n",
    "fov.plot_observation(ax, fluxstd, c='green', size=2)\n",
    "fov.plot_observation(ax, filler, c='yellow', size=1)\n",
    "\n",
    "# Plot the poiting center\n",
    "# fov.plot(ax, [field.pos.ra.value], [field.pos.dec.value], fmt='+r', ms=10, native_frame='world')\n",
    "\n",
    "for pp in [ \n",
    "        pointing,\n",
    "\n",
    "        # Pointing.from_relative_pos(POS, sep=1.15, dir=30, posang=0),\n",
    "        # Pointing.from_relative_pos(POS, sep=1.15, dir=90, posang=0),\n",
    "        # Pointing.from_relative_pos(POS, sep=1.15, dir=150, posang=0),\n",
    "        # Pointing.from_relative_pos(POS, sep=1.15, dir=210, posang=0),\n",
    "        # Pointing.from_relative_pos(POS, sep=1.15, dir=270, posang=0),\n",
    "        # Pointing.from_relative_pos(POS, sep=1.15, dir=330, posang=0),\n",
    "    ]:\n",
    "\n",
    "    wfc = SubaruWFC(pp)\n",
    "    pfi = SubaruPFI(wfc, instrument_options={'layout': 'calibration'})\n",
    "\n",
    "    pfi.plot_focal_plane(ax, fov, corners=True, c='r', ls='-')\n",
    "    pfi.plot_focal_plane(ax, fov, fill=True, alpha=0.2)\n",
    "\n",
    "# ax.set_xlim(0, -2)\n",
    "# ax.set_ylim(-2, 0)\n",
    "\n",
    "ax.set_xlim(2, -4)\n",
    "ax.set_ylim(-4, 2)\n",
    "\n",
    "ax.grid()"
   ]
  },
  {
   "cell_type": "code",
   "execution_count": 0,
   "metadata": {},
   "outputs": [],
   "source": []
  }
 ],
 "metadata": {
  "kernelspec": {
   "display_name": "dobos-torch",
   "language": "python",
   "name": "python3"
  },
  "language_info": {
   "codemirror_mode": {
    "name": "ipython",
    "version": 3
   },
   "file_extension": ".py",
   "mimetype": "text/x-python",
   "name": "python",
   "nbconvert_exporter": "python",
   "pygments_lexer": "ipython3",
   "version": "3.10.15"
  }
 },
 "nbformat": 4,
 "nbformat_minor": 2
}