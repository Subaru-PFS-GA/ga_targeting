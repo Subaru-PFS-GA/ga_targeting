{
 "cells": [
  {
   "cell_type": "code",
   "execution_count": 0,
   "metadata": {},
   "outputs": [],
   "source": [
    "import os, sys\n",
    "from datetime import datetime\n",
    "import numpy as np\n",
    "import pandas as pd\n",
    "import matplotlib as mpl\n",
    "import matplotlib.pyplot as plt\n",
    "from matplotlib.gridspec import GridSpec\n",
    "from matplotlib.colors import LinearSegmentedColormap\n",
    "from matplotlib.patches import Ellipse, Circle\n",
    "from matplotlib.gridspec import GridSpec\n",
    "from scipy.special import logsumexp\n",
    "from scipy.interpolate import interp1d\n",
    "\n",
    "from astropy import wcs\n",
    "from astropy import units as u\n",
    "from astropy.coordinates import Angle, SkyCoord\n",
    "from astropy.time import Time"
   ]
  },
  {
   "cell_type": "code",
   "execution_count": 0,
   "metadata": {},
   "outputs": [],
   "source": [
    "plt.rc('font', size=6) #controls default text size"
   ]
  },
  {
   "cell_type": "code",
   "execution_count": 0,
   "metadata": {},
   "outputs": [],
   "source": [
    "%load_ext autoreload\n",
    "%autoreload 2"
   ]
  },
  {
   "cell_type": "code",
   "execution_count": 0,
   "metadata": {},
   "outputs": [],
   "source": [
    "from pfs.ga.targeting.targets.dsph import *\n",
    "from pfs.ga.targeting.instrument import *\n",
    "from pfs.ga.targeting.diagram import CMD, CCD, FOV, FP, ColorAxis, MagnitudeAxis\n",
    "from pfs.ga.targeting.photometry import Photometry, Magnitude, Color\n",
    "from pfs.ga.targeting.projection import WcsProjection, Pointing\n",
    "from pfs.ga.targeting.netflow import Netflow"
   ]
  },
  {
   "cell_type": "code",
   "execution_count": 0,
   "metadata": {},
   "outputs": [],
   "source": [
    "pointing = Pointing(0, 0, posang=0)\n",
    "wcs = WcsProjection(pointing, proj='TAN')\n",
    "wfc = SubaruWFC(pointing)\n",
    "fov = FOV(projection=wcs)\n",
    "fp = FP(wfc)"
   ]
  },
  {
   "cell_type": "code",
   "execution_count": 0,
   "metadata": {},
   "outputs": [],
   "source": [
    "f, ax = plt.subplots(1, 1, figsize=(8, 8), dpi=240)\n",
    "\n",
    "pointing = Pointing(0, 0, posang=0)\n",
    "pfi = SubaruPFI(instrument_options={ 'layout': 'calibration' })\n",
    "\n",
    "pfi.plot_focal_plane(ax, fp, corners=True, projection=SubaruWFC(pointing))\n",
    "pfi.plot_cobras(ax, fp)\n",
    "# pfi.plot_fiber_numbers(ax, fp, fontsize=2.5)"
   ]
  },
  {
   "cell_type": "code",
   "execution_count": 0,
   "metadata": {},
   "outputs": [],
   "source": [
    "cmap = plt.get_cmap('flag')\n",
    "\n",
    "# Get the focal plane coordinates of the cobras\n",
    "ncobras = len(pfi.bench.cobras.centers)\n",
    "x, y = pfi.bench.cobras.centers[:].real, pfi.bench.cobras.centers[:].imag\n",
    "\n",
    "# Convert to polar coordinates around the center of the focal plane\n",
    "r = np.sqrt(x**2 + y**2)\n",
    "theta = np.arctan2(y, x)\n",
    "\n",
    "# Assign labels to the cobras based on the polar coordinate\n",
    "# Use 6 sector in theta and four bins in r\n",
    "ntheta = 6\n",
    "theta_bins = np.linspace(-np.pi, np.pi, ntheta + 1)\n",
    "r_bins = np.array([0, 150, 240])\n",
    "\n",
    "theta_labels = np.digitize(theta, theta_bins, right=False) - 1\n",
    "r_labels = np.digitize(r, r_bins, right=False) - 1\n",
    "cobra_location_labels = (r_bins.size - 1) * theta_labels + r_labels\n",
    "\n",
    "# Add one more label in the center\n",
    "cobra_location_labels[r < 60] = cobra_location_labels.max() + 1\n",
    "\n",
    "f, ax = plt.subplots(1, 1, figsize=(4, 4), dpi=240)\n",
    "\n",
    "ax.scatter(x, y, s=1, c=cobra_location_labels, cmap=cmap)\n",
    "ax.set_aspect('equal')"
   ]
  },
  {
   "cell_type": "code",
   "execution_count": 0,
   "metadata": {},
   "outputs": [],
   "source": [
    "np.bincount(r_labels), np.bincount(theta_labels)"
   ]
  },
  {
   "cell_type": "code",
   "execution_count": 0,
   "metadata": {},
   "outputs": [],
   "source": [
    "np.bincount(labels), labels.max()"
   ]
  },
  {
   "cell_type": "markdown",
   "metadata": {},
   "source": [
    "# Cobra locations in the detector"
   ]
  },
  {
   "cell_type": "code",
   "execution_count": 0,
   "metadata": {},
   "outputs": [],
   "source": [
    "# 0-based indices of cobras in each spectrograph\n",
    "# 65534 means engineering fiber\n",
    "pfi.fiber_map.cobrasForSpectrograph(1)"
   ]
  },
  {
   "cell_type": "code",
   "execution_count": 0,
   "metadata": {},
   "outputs": [],
   "source": [
    "pfi.fiber_map.cobrasForSpectrograph(1).size"
   ]
  },
  {
   "cell_type": "code",
   "execution_count": 0,
   "metadata": {},
   "outputs": [],
   "source": [
    "cobra_instrument_labels = np.zeros(ncobras, dtype=int)\n",
    "\n",
    "# For each spectrograph, get the corresponding cobra\n",
    "for s in np.arange(4) + 1:\n",
    "    cobra_ids = pfi.fiber_map.cobrasForSpectrograph(s)\n",
    "    mask = cobra_ids != 65534\n",
    "\n",
    "    print(s, cobra_ids.shape, mask.sum())\n",
    "\n",
    "    cobra_instrument_labels[cobra_ids[mask]] = s\n",
    "\n",
    "f, ax = plt.subplots(1, 1, figsize=(4, 4), dpi=240)\n",
    "\n",
    "ax.scatter(x, y, s=1, c=cobra_instrument_labels, cmap='tab10')\n",
    "ax.set_aspect('equal')"
   ]
  },
  {
   "cell_type": "code",
   "execution_count": 0,
   "metadata": {},
   "outputs": [],
   "source": [
    "from pfs.utils.fibers import fiberHoleFromFiberId"
   ]
  },
  {
   "cell_type": "code",
   "execution_count": 0,
   "metadata": {},
   "outputs": [],
   "source": [
    "pfi.bench.fiberHoleFromFiberId(0)"
   ]
  },
  {
   "cell_type": "code",
   "execution_count": 0,
   "metadata": {},
   "outputs": [],
   "source": [
    "pfi.fiber_map.cobrasForSpectrograph(1)"
   ]
  },
  {
   "cell_type": "code",
   "execution_count": 0,
   "metadata": {},
   "outputs": [],
   "source": [
    "pfi.fiber_map.cobraId, pfi.fiber_map.fiberHoleId"
   ]
  },
  {
   "cell_type": "code",
   "execution_count": 0,
   "metadata": {},
   "outputs": [],
   "source": [
    "650 / 50"
   ]
  },
  {
   "cell_type": "code",
   "execution_count": 0,
   "metadata": {},
   "outputs": [],
   "source": [
    "for s in np.arange(4) + 1:\n",
    "    holeids = pfi.fiber_map.fiberHoleId[pfi.fiber_map.spectrographId == s]\n",
    "    print(s, holeids.min(), holeids.max())\n",
    "    \n"
   ]
  },
  {
   "cell_type": "code",
   "execution_count": 0,
   "metadata": {},
   "outputs": [],
   "source": [
    "cobra_instrument_labels = np.zeros(ncobras, dtype=int)\n",
    "mask = pfi.fiber_map.cobraId != 65535\n",
    "\n",
    "# cobra_instrument_labels[pfi.fiber_map.cobraId[mask] - 1] = pfi.fiber_map.spectrographId[mask]\n",
    "\n",
    "ngroups = 8\n",
    "fiber_hole_group_size = pfi.fiber_map.fiberHoleId.max() / ngroups\n",
    "print(fiber_hole_group_size)\n",
    "cobra_instrument_labels[pfi.fiber_map.cobraId[mask] - 1] = \\\n",
    "    (pfi.fiber_map.spectrographId[mask] - 1) * ngroups \\\n",
    "    + (np.round(pfi.fiber_map.fiberHoleId[mask] - 1) / fiber_hole_group_size).astype(int)\n",
    "print(cobra_instrument_labels, cobra_instrument_labels.min(), cobra_instrument_labels.max())\n",
    "\n",
    "f, ax = plt.subplots(1, 1, figsize=(4, 4), dpi=240)\n",
    "\n",
    "ax.scatter(x, y, s=1, c=cobra_instrument_labels, cmap='tab10')\n",
    "ax.set_aspect('equal')"
   ]
  },
  {
   "cell_type": "code",
   "execution_count": 0,
   "metadata": {},
   "outputs": [],
   "source": []
  }
 ],
 "metadata": {
  "kernelspec": {
   "display_name": "dobos-torch",
   "language": "python",
   "name": "python3"
  },
  "language_info": {
   "codemirror_mode": {
    "name": "ipython",
    "version": 3
   },
   "file_extension": ".py",
   "mimetype": "text/x-python",
   "name": "python",
   "nbconvert_exporter": "python",
   "pygments_lexer": "ipython3",
   "version": "3.10.15"
  }
 },
 "nbformat": 4,
 "nbformat_minor": 2
}