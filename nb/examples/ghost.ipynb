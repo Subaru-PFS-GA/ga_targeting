{
 "cells": [
  {
   "cell_type": "code",
   "execution_count": 0,
   "metadata": {},
   "outputs": [],
   "source": [
    "FIELD = 'ursaminor'\n",
    "ISOCHRONES_PATH = '/datascope/subaru/data/cmdfit/isochrones/dartmouth/import/afep0_cfht_sdss_hsc'\n",
    "OBS_FILE = '$PFS_TARGETING_DATA/data/targeting/dSph/ursaminor/ursaminor_tpall3e_g24.cat'\n",
    "SAMPLE_FILE = '$PFS_TARGETING_DATA/data/targeting/dSph/ursaminor/priority/ursaminor_nb_2/hsc_umi_priorities.feather'\n",
    "PMAP_FILE = '$PFS_TARGETING_DATA/data/targeting/dSph/ursaminor/pmap/ursaminor_nb/pmap.h5'\n",
    "ASSIGNMENTS_FILE = '$PFS_TARGETING_DATA/data/targeting/dSph/ursaminor/netflow/SSP/ursaminor_6/umi_assignments_all.feather'"
   ]
  },
  {
   "cell_type": "code",
   "execution_count": 0,
   "metadata": {},
   "outputs": [],
   "source": [
    "import os, sys\n",
    "from datetime import datetime\n",
    "import numpy as np\n",
    "import pandas as pd\n",
    "import matplotlib as mpl\n",
    "import matplotlib.pyplot as plt\n",
    "from matplotlib.gridspec import GridSpec\n",
    "from matplotlib.colors import LinearSegmentedColormap\n",
    "from matplotlib.patches import Ellipse, Circle\n",
    "from matplotlib.gridspec import GridSpec"
   ]
  },
  {
   "cell_type": "code",
   "execution_count": 0,
   "metadata": {},
   "outputs": [],
   "source": [
    "plt.rc('font', size=6)"
   ]
  },
  {
   "cell_type": "code",
   "execution_count": 0,
   "metadata": {},
   "outputs": [],
   "source": [
    "# if 'debug' not in globals():\n",
    "#     import debugpy\n",
    "#     debugpy.listen(('0.0.0.0', 5698))\n",
    "#     debug = True"
   ]
  },
  {
   "cell_type": "code",
   "execution_count": 0,
   "metadata": {},
   "outputs": [],
   "source": [
    "%load_ext autoreload\n",
    "%autoreload 2"
   ]
  },
  {
   "cell_type": "markdown",
   "metadata": {},
   "source": [
    "# Plot definitions"
   ]
  },
  {
   "cell_type": "code",
   "execution_count": 0,
   "metadata": {},
   "outputs": [],
   "source": [
    "from pfs.ga.targeting.targets.dsph import GALAXIES as DSPH_FIELDS\n",
    "from pfs.ga.targeting.targets.m31 import M31_FIELDS\n",
    "from pfs.ga.targeting.instrument import *\n",
    "from pfs.ga.targeting.diagram import CMD, CCD, FOV, FP, ColorAxis, MagnitudeAxis\n",
    "from pfs.ga.targeting.photometry import Photometry, Magnitude, Color\n",
    "from pfs.ga.targeting.projection import Pointing, WcsProjection"
   ]
  },
  {
   "cell_type": "code",
   "execution_count": 0,
   "metadata": {},
   "outputs": [],
   "source": [
    "field = DSPH_FIELDS[FIELD]\n",
    "hsc = field.get_photometry()\n",
    "cmd = field.get_cmd()\n",
    "ccd = field.get_ccd()"
   ]
  },
  {
   "cell_type": "code",
   "execution_count": 0,
   "metadata": {},
   "outputs": [],
   "source": [
    "pointing = field.get_center()\n",
    "pointing"
   ]
  },
  {
   "cell_type": "code",
   "execution_count": 0,
   "metadata": {},
   "outputs": [],
   "source": [
    "wcs = WcsProjection(pointing, proj='TAN')\n",
    "wfc = SubaruWFC(pointing)\n",
    "fov = FOV(projection=wcs)\n",
    "fp = FP(wfc)"
   ]
  },
  {
   "cell_type": "markdown",
   "metadata": {},
   "source": [
    "# Load isochrones"
   ]
  },
  {
   "cell_type": "code",
   "execution_count": 0,
   "metadata": {},
   "outputs": [],
   "source": [
    "from pfs.ga.isochrones.isogrid import IsoGrid"
   ]
  },
  {
   "cell_type": "code",
   "execution_count": 0,
   "metadata": {},
   "outputs": [],
   "source": [
    "iso = IsoGrid()\n",
    "iso.load(os.path.join(ISOCHRONES_PATH, 'isochrones.h5'))\n",
    "iso.values.keys()"
   ]
  },
  {
   "cell_type": "markdown",
   "metadata": {},
   "source": [
    "# Load observations"
   ]
  },
  {
   "cell_type": "code",
   "execution_count": 0,
   "metadata": {},
   "outputs": [],
   "source": [
    "from pfs.ga.targeting.io import ObservationSerializer"
   ]
  },
  {
   "cell_type": "code",
   "execution_count": 0,
   "metadata": {},
   "outputs": [],
   "source": [
    "obs = field.get_text_observation_reader().read(os.path.expandvars(OBS_FILE))\n",
    "obs.data.shape"
   ]
  },
  {
   "cell_type": "code",
   "execution_count": 0,
   "metadata": {},
   "outputs": [],
   "source": [
    "sample = ObservationSerializer().read(os.path.expandvars(SAMPLE_FILE))\n",
    "sample.data.shape"
   ]
  },
  {
   "cell_type": "code",
   "execution_count": 0,
   "metadata": {},
   "outputs": [],
   "source": [
    "cmap = plt.get_cmap('tab10')\n",
    "\n",
    "f = plt.figure(figsize=(8, 3), dpi=240)\n",
    "gs = f.add_gridspec(1, 3, width_ratios=[2, 2, 3], wspace=0.4)   \n",
    "\n",
    "ax = f.add_subplot(gs[0])\n",
    "cmd.plot_observation(ax, obs, c='lightgray')\n",
    "cmd.plot_observation(ax, sample, c='r', cmap=cmap)\n",
    "\n",
    "ax = f.add_subplot(gs[1])\n",
    "ccd.plot_observation(ax, obs, c='lightgray')\n",
    "ccd.plot_observation(ax, sample, c='r', cmap=cmap)\n",
    "\n",
    "ax = f.add_subplot(gs[2], projection=wcs.wcs)\n",
    "fov.plot_observation(ax, obs, c='lightgray')\n",
    "fov.plot_observation(ax, sample, c='r', cmap=cmap)\n",
    "\n",
    "# f.tight_layout()"
   ]
  },
  {
   "cell_type": "code",
   "execution_count": 0,
   "metadata": {},
   "outputs": [],
   "source": [
    "cmap = plt.get_cmap('tab10')\n",
    "\n",
    "f = plt.figure(figsize=(8, 3), dpi=120)\n",
    "gs = f.add_gridspec(1, 3, width_ratios=[2, 2, 3], wspace=0.4)   \n",
    "\n",
    "ax = f.add_subplot(gs[0])\n",
    "cmd.plot_observation(ax, obs, c='lightgray')\n",
    "cmd.plot_observation(ax, sample, c=sample.data['priority'], cmap=cmap)\n",
    "\n",
    "ax = f.add_subplot(gs[1])\n",
    "ccd.plot_observation(ax, obs, c='lightgray')\n",
    "ccd.plot_observation(ax, sample, c=sample.data['priority'], cmap=cmap)\n",
    "\n",
    "ax = f.add_subplot(gs[2], projection=wcs.wcs)\n",
    "fov.plot_observation(ax, obs, c='lightgray')\n",
    "l = fov.plot_observation(ax, sample, c=sample.data['priority'], cmap=cmap)\n",
    "ax.set_aspect('auto')\n",
    "\n",
    "f.colorbar(l)"
   ]
  },
  {
   "cell_type": "code",
   "execution_count": 0,
   "metadata": {},
   "outputs": [],
   "source": [
    "mask = ~np.isnan(sample.data['priority'])\n",
    "priorities = list(sorted(sample.data['priority'][mask].unique()))\n",
    "\n",
    "for i, pri in enumerate(priorities):\n",
    "    mask = sample.data['priority'] == pri\n",
    "\n",
    "    f = plt.figure(figsize=(8, 3), dpi=120)\n",
    "    gs = f.add_gridspec(1, 3, width_ratios=[2, 2, 3], wspace=0.4)   \n",
    "\n",
    "    ax = f.add_subplot(gs[0])\n",
    "    cmd.plot_observation(ax, obs, c='lightgray')\n",
    "    cmd.plot_observation(ax, sample, c='red', mask=mask)\n",
    "\n",
    "    ax = f.add_subplot(gs[1])\n",
    "    ccd.plot_observation(ax, obs, c='lightgray')\n",
    "    ccd.plot_observation(ax, sample, c='red', mask=mask)\n",
    "    ax.set_title(f'PRIORITY = {pri}')\n",
    "\n",
    "    ax = f.add_subplot(gs[2], projection=wcs.wcs)\n",
    "    fov.plot_observation(ax, obs, c='lightgray')\n",
    "    fov.plot_observation(ax, sample, c='red', mask=mask)"
   ]
  },
  {
   "cell_type": "markdown",
   "metadata": {},
   "source": [
    "# Load probability map"
   ]
  },
  {
   "cell_type": "code",
   "execution_count": 0,
   "metadata": {},
   "outputs": [],
   "source": [
    "from pfs.ga.targeting import ProbabilityMap\n",
    "from pfs.ga.targeting.selection import ProbabilityCut, ProbabilitySampling"
   ]
  },
  {
   "cell_type": "code",
   "execution_count": 0,
   "metadata": {},
   "outputs": [],
   "source": [
    "pmap = ProbabilityMap(cmd.axes)\n",
    "pmap.load(os.path.expandvars(PMAP_FILE))"
   ]
  },
  {
   "cell_type": "code",
   "execution_count": 0,
   "metadata": {},
   "outputs": [],
   "source": [
    "f, axs = plt.subplots(1, 2, figsize=(6, 4), dpi=120)\n",
    "\n",
    "l0 = cmd.plot_probability_map(axs[0], pmap, 0)\n",
    "axs[0].set_title(\"non-member\")\n",
    "\n",
    "l1 = cmd.plot_probability_map(axs[1], pmap, 1)\n",
    "axs[1].set_title(\"member\")\n",
    "\n",
    "f.tight_layout()"
   ]
  },
  {
   "cell_type": "code",
   "execution_count": 0,
   "metadata": {},
   "outputs": [],
   "source": [
    "probcut = ProbabilityCut(pmap, 1, np.log(0.001))\n",
    "probcut"
   ]
  },
  {
   "cell_type": "markdown",
   "metadata": {},
   "source": [
    "## Ghost plots"
   ]
  },
  {
   "cell_type": "code",
   "execution_count": 0,
   "metadata": {},
   "outputs": [],
   "source": [
    "# mask = get_selection_mask(obs, nb=True, blue=False, probcut=probcut)\n",
    "ghost_mask = pmap.create_random_mask(sample)\n",
    "\n",
    "ghost_mask.shape"
   ]
  },
  {
   "cell_type": "code",
   "execution_count": 0,
   "metadata": {},
   "outputs": [],
   "source": [
    "f = plt.figure(figsize=(4, 4), dpi=240)\n",
    "gs = f.add_gridspec(2, 2, width_ratios=[1, 1], height_ratios=[1, 1], wspace=0.35, hspace=0.35)\n",
    "\n",
    "ax = f.add_subplot(gs[0, 0])\n",
    "cmd.plot_observation(ax, sample)\n",
    "\n",
    "ax = f.add_subplot(gs[0, 1])\n",
    "cmd.plot_observation(ax, sample, mask=~ghost_mask[..., 1])\n",
    "\n",
    "ax = f.add_subplot(gs[1, 0], projection=wcs.wcs)\n",
    "fov.plot_observation(ax, sample)\n",
    "\n",
    "ax = f.add_subplot(gs[1, 1], projection=wcs.wcs)\n",
    "fov.plot_observation(ax, sample, mask=~ghost_mask[..., 1])\n"
   ]
  },
  {
   "cell_type": "code",
   "execution_count": 0,
   "metadata": {},
   "outputs": [],
   "source": []
  }
 ],
 "metadata": {
  "kernelspec": {
   "display_name": "dobos-torch",
   "language": "python",
   "name": "python3"
  },
  "language_info": {
   "codemirror_mode": {
    "name": "ipython",
    "version": 3
   },
   "file_extension": ".py",
   "mimetype": "text/x-python",
   "name": "python",
   "nbconvert_exporter": "python",
   "pygments_lexer": "ipython3",
   "version": "3.10.15"
  }
 },
 "nbformat": 4,
 "nbformat_minor": 2
}