{
 "cells": [
  {
   "cell_type": "code",
   "execution_count": 0,
   "metadata": {},
   "outputs": [],
   "source": [
    "DEBUG = True\n",
    "DESIGN_PATH = '/datascope/subaru/data/targeting/dSph/draco/netflow/TEST/draco_6_1_020/pfsDesign-0x51600cefa9e6662c.fits'\n",
    "OBS_TIME = '2025-03-25 14:00:00' # UTC"
   ]
  },
  {
   "cell_type": "markdown",
   "metadata": {},
   "source": [
    "# Verify bright stars\n",
    "\n",
    "Load a design file and verify if any of the fiber tips are close to a bright GAIA star"
   ]
  },
  {
   "cell_type": "code",
   "execution_count": 0,
   "metadata": {},
   "outputs": [],
   "source": [
    "import os, sys\n",
    "from datetime import datetime\n",
    "import dateutil.parser\n",
    "import numpy as np\n",
    "import pandas as pd\n",
    "import matplotlib as mpl\n",
    "import matplotlib.pyplot as plt\n",
    "from matplotlib.gridspec import GridSpec\n",
    "from matplotlib.colors import LinearSegmentedColormap\n",
    "from matplotlib.patches import Ellipse, Circle\n",
    "from matplotlib.gridspec import GridSpec\n",
    "from scipy.spatial import distance_matrix"
   ]
  },
  {
   "cell_type": "code",
   "execution_count": 0,
   "metadata": {},
   "outputs": [],
   "source": [
    "plt.rc('font', size=6)"
   ]
  },
  {
   "cell_type": "code",
   "execution_count": 0,
   "metadata": {},
   "outputs": [],
   "source": [
    "%load_ext autoreload\n",
    "%autoreload 2"
   ]
  },
  {
   "cell_type": "code",
   "execution_count": 0,
   "metadata": {},
   "outputs": [],
   "source": [
    "if DEBUG and 'debug' not in globals():\n",
    "    import debugpy\n",
    "    debugpy.listen(('0.0.0.0', 5698))\n",
    "    debug = True"
   ]
  },
  {
   "cell_type": "code",
   "execution_count": 0,
   "metadata": {},
   "outputs": [],
   "source": [
    "from astropy.coordinates import SkyCoord, EarthLocation, AltAz, get_body\n",
    "import astropy.units as u\n",
    "\n",
    "from pfs.utils.coordinates import Subaru_POPT2_PFS\n",
    "from pfs.datamodel import PfsDesign, FiberStatus, TargetType\n",
    "\n",
    "from pfs.ga.targeting.targets.dsph import GALAXIES as DSPH_FIELDS\n",
    "from pfs.ga.targeting.targets.m31 import M31_FIELDS\n",
    "from pfs.ga.targeting.instrument import *\n",
    "from pfs.ga.targeting.diagram import CMD, CCD, FOV, FP, ColorAxis, MagnitudeAxis\n",
    "from pfs.ga.targeting.photometry import Photometry, Magnitude, Color\n",
    "from pfs.ga.targeting.projection import Pointing, WcsProjection\n",
    "from pfs.ga.targeting.config.netflow import NetflowConfig\n",
    "from pfs.ga.targeting.io import GaiaReader"
   ]
  },
  {
   "cell_type": "code",
   "execution_count": 0,
   "metadata": {},
   "outputs": [],
   "source": [
    "# Load the design file\n",
    "dir = os.path.dirname(DESIGN_PATH)\n",
    "fn, ext = os.path.splitext(os.path.basename(DESIGN_PATH))\n",
    "pfsDesignId = int(fn[10:], 16)\n",
    "print(fn, hex(pfsDesignId))\n",
    "\n",
    "design = PfsDesign.read(pfsDesignId, dirName=dir)\n",
    "design.fiberId.shape"
   ]
  },
  {
   "cell_type": "code",
   "execution_count": 0,
   "metadata": {},
   "outputs": [],
   "source": [
    "# Query the GAIA database for bright stars\n",
    "ra, dec = design.raBoresight, design.decBoresight\n",
    "r = GaiaReader(\n",
    "    limits = { 'gaia_g': [ -10, 16 ] }\n",
    ")\n",
    "\n",
    "gaia = r.cone_search((ra, dec), 50)\n",
    "gaia.shape"
   ]
  },
  {
   "cell_type": "code",
   "execution_count": 0,
   "metadata": {},
   "outputs": [],
   "source": [
    "# Histogram of bright star magnitudes\n",
    "\n",
    "m, _ = gaia.get_magnitude(gaia.photometry['gaia'].magnitudes['g'])\n",
    "plt.hist(m)"
   ]
  },
  {
   "cell_type": "code",
   "execution_count": 0,
   "metadata": {},
   "outputs": [],
   "source": [
    "pfi = SubaruPFI(instrument_options={'layout': 'calibration'})"
   ]
  },
  {
   "cell_type": "code",
   "execution_count": 0,
   "metadata": {},
   "outputs": [],
   "source": [
    "gaia.data.columns"
   ]
  },
  {
   "cell_type": "code",
   "execution_count": 0,
   "metadata": {},
   "outputs": [],
   "source": [
    "# Conver GAIA star positions into focal plane positions\n",
    "pointing = Pointing(design.raBoresight, design.decBoresight, posang=design.posAng,\n",
    "                    obs_time=OBS_TIME)\n",
    "\n",
    "parallax = np.array(gaia.data['parallax'])\n",
    "parallax[parallax < 1e-7] = 1e-7\n",
    "\n",
    "gaia_fp_pos = pfi.radec_to_fp_pos(\n",
    "    *gaia.get_coords(),\n",
    "    pointing=pointing,\n",
    "    epoch=2016.0,\n",
    "    pmra=np.array(gaia.data['pmra']),\n",
    "    pmdec=np.array(gaia.data['pmdec']),\n",
    "    parallax=np.array(gaia.data['parallax']),\n",
    "    rv=np.array(gaia.data['rv'])\n",
    ")"
   ]
  },
  {
   "cell_type": "code",
   "execution_count": 0,
   "metadata": {},
   "outputs": [],
   "source": [
    "f, ax = plt.subplots(1, 1, figsize=(4, 4), dpi=240)\n",
    "\n",
    "ms = 6\n",
    "\n",
    "# Broken fibers\n",
    "mask = (design.fiberStatus == FiberStatus.BROKENFIBER)\n",
    "ax.scatter(design.pfiNominal[mask][..., 0], design.pfiNominal[mask][..., 1], marker='x', s=ms, label='broken',\n",
    "        color='black', edgecolors='none', linewidth=0.5)\n",
    "\n",
    "# Draw circle around broken cobras with working fibers\n",
    "mask = (design.fiberStatus == FiberStatus.BROKENCOBRA) & (design.fiberStatus != FiberStatus.BROKENFIBER)\n",
    "ax.scatter(design.pfiNominal[mask][..., 0], design.pfiNominal[mask][..., 1], marker='o', s=16, label='broken',\n",
    "        color='none', edgecolors='k', linewidth=0.5)\n",
    "\n",
    "# Unassigned fibers\n",
    "mask = (design.fiberStatus != FiberStatus.BROKENFIBER) & (design.targetType == TargetType.UNASSIGNED)\n",
    "ax.scatter(design.pfiNominal[mask][..., 0], design.pfiNominal[mask][..., 1], marker='o', s=ms, label='unassigned',\n",
    "        color='none', edgecolors='black', linewidth=0.5)\n",
    "\n",
    "# Good science targets\n",
    "mask = (design.fiberStatus != FiberStatus.BROKENFIBER) & (design.targetType == TargetType.SCIENCE)\n",
    "ax.scatter(design.pfiNominal[mask][..., 0], design.pfiNominal[mask][..., 1], marker='o', s=ms, label='science',\n",
    "        color='green', edgecolors='none')\n",
    "\n",
    "# Good sky fibers\n",
    "mask = (design.fiberStatus != FiberStatus.BROKENFIBER) & (design.targetType == TargetType.SKY)\n",
    "ax.scatter(design.pfiNominal[mask][..., 0], design.pfiNominal[mask][..., 1], marker='o', s=ms, label='sky',\n",
    "        color='cyan', edgecolors='none')\n",
    "\n",
    "# Good flux standards\n",
    "mask = (design.fiberStatus != FiberStatus.BROKENFIBER) & (design.targetType == TargetType.FLUXSTD)\n",
    "ax.scatter(design.pfiNominal[mask][..., 0], design.pfiNominal[mask][..., 1], marker='o', s=ms, label='fluxstd',\n",
    "        color='red', edgecolors='none')\n",
    "\n",
    "# Cobra centers\n",
    "ax.scatter(pfi.bench.cobras.centers.real, pfi.bench.cobras.centers.imag, \n",
    "            s=0.2, color='black', edgecolors='none')\n",
    "\n",
    "\n",
    "# Bright stars\n",
    "ax.scatter(gaia_fp_pos.real, gaia_fp_pos.imag, marker='o', s=10, label='bright',\n",
    "        color='none', edgecolors='red')\n",
    "\n",
    "\n",
    "\n",
    "ax.set_title(\n",
    "        f'designId=0x{pfsDesignId:016x} ({design.raBoresight:0.02f}, {design.decBoresight:0.02f}, PA={design.posAng:0.01f})\\n'\n",
    "        f'{design.designName}')\n",
    "\n",
    "ax.set_aspect('equal', adjustable='datalim')\n",
    "\n",
    "# Make legend horizontal\n",
    "ax.legend(loc='upper right', ncol=2, fontsize='small')\n",
    "\n",
    "f.tight_layout()\n"
   ]
  },
  {
   "cell_type": "markdown",
   "metadata": {},
   "source": [
    "# Distribution of the distance of closest bright star"
   ]
  },
  {
   "cell_type": "code",
   "execution_count": 0,
   "metadata": {},
   "outputs": [],
   "source": [
    "# Ignore fibers without cobras\n",
    "mask = pfi.fiber_map.cobraId[design.fiberId - 1] != 65535\n",
    "\n",
    "d = distance_matrix(design.pfiNominal[mask], np.stack([gaia_fp_pos.real, gaia_fp_pos.imag], axis=-1))\n",
    "d.shape"
   ]
  },
  {
   "cell_type": "code",
   "execution_count": 0,
   "metadata": {},
   "outputs": [],
   "source": [
    "f, ax = plt.subplots(1, 1, figsize=(3.5, 2), dpi=240)\n",
    "\n",
    "bins = np.linspace(0, 10, 20)\n",
    "hist, bins = np.histogram(d.ravel(), bins=bins)\n",
    "\n",
    "ax.step(0.5 * (bins[1:] + bins[:-1]), hist, where='mid')\n",
    "\n",
    "ax.set_xlabel('distance to bright star [mm]')\n",
    "ax.set_ylabel('fiber count')"
   ]
  },
  {
   "cell_type": "code",
   "execution_count": 0,
   "metadata": {},
   "outputs": [],
   "source": []
  },
  {
   "cell_type": "code",
   "execution_count": 0,
   "metadata": {},
   "outputs": [],
   "source": []
  }
 ],
 "metadata": {
  "kernelspec": {
   "display_name": "dobos-torch",
   "language": "python",
   "name": "python3"
  },
  "language_info": {
   "codemirror_mode": {
    "name": "ipython",
    "version": 3
   },
   "file_extension": ".py",
   "mimetype": "text/x-python",
   "name": "python",
   "nbconvert_exporter": "python",
   "pygments_lexer": "ipython3",
   "version": "3.10.15"
  }
 },
 "nbformat": 4,
 "nbformat_minor": 2
}