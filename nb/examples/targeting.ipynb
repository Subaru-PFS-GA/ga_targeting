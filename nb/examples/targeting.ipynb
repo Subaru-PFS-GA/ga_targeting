{
 "cells": [
  {
   "cell_type": "code",
   "execution_count": 0,
   "metadata": {},
   "outputs": [],
   "source": [
    "# PROJECT_PATH = '/home/dobos/project/pfs_targeting/python:' +\\\n",
    "#     '/home/dobos/project/pfsspec-all:' +\\\n",
    "#     '/home/dobos/project/pfs_cmdfit/python:' +\\\n",
    "#     '/home/dobos/project/pfs_isochrones/python:' +\\\n",
    "#     '/home/dobos/project/ics_cobraOps/python:' +\\\n",
    "#     '/home/dobos/project/ics_cobraCharmer/python:' +\\\n",
    "#     '/home/dobos/project/ets_fiberalloc:' +\\\n",
    "#     '/home/dobos/project/pfs_utils/python:' +\\\n",
    "#     '../pysynphot:' +\\\n",
    "#     '../SciScript-Python/py3'\n",
    "\n",
    "ISOCHRONES_PATH = '/datascope/subaru/data/cmdfit/isochrones/dartmouth/import/afep0_cfht_sdss_hsc_nb_bosz'\n",
    "OBS_PATH = '/datascope/subaru/data/cmdfit/dSph/umi_tpall3e_g24.cat'\n",
    "SIM_PATH = '/datascope/subaru/data/cmdfit/run/umi/sim/mix_bin_200k_hsc_007/sample.h5'\n",
    "MEMBERS_PATH = '/datascope/subaru/data/cmdfit/dSph/spectro_members_umi.csv'"
   ]
  },
  {
   "cell_type": "code",
   "execution_count": 0,
   "metadata": {},
   "outputs": [],
   "source": [
    "import os, sys\n",
    "import numpy as np\n",
    "import pandas as pd\n",
    "import matplotlib as mpl\n",
    "import matplotlib.pyplot as plt\n",
    "from matplotlib.gridspec import GridSpec\n",
    "from matplotlib.colors import LinearSegmentedColormap\n",
    "from matplotlib.patches import Ellipse, Circle\n",
    "from scipy.special import logsumexp\n",
    "from scipy.interpolate import interp1d\n",
    "\n",
    "from astropy import wcs\n",
    "from astropy import units as u\n",
    "from astropy.coordinates import Angle"
   ]
  },
  {
   "cell_type": "markdown",
   "metadata": {},
   "source": [
    "# Plot style"
   ]
  },
  {
   "cell_type": "code",
   "execution_count": 0,
   "metadata": {},
   "outputs": [],
   "source": [
    "plt.rc('font', size=6) #controls default text size"
   ]
  },
  {
   "cell_type": "code",
   "execution_count": 0,
   "metadata": {},
   "outputs": [],
   "source": [
    "%load_ext autoreload"
   ]
  },
  {
   "cell_type": "code",
   "execution_count": 0,
   "metadata": {},
   "outputs": [],
   "source": [
    "%autoreload 2"
   ]
  },
  {
   "cell_type": "markdown",
   "metadata": {},
   "source": [
    "# Configurations"
   ]
  },
  {
   "cell_type": "code",
   "execution_count": 0,
   "metadata": {},
   "outputs": [],
   "source": [
    "configs = {}\n",
    "\n",
    "for nb in [True, False]:\n",
    "    for targeting in ['brightest', 'faintest', 'maxp']:\n",
    "        c = {\n",
    "            'nb': nb,\n",
    "            'targeting': targeting\n",
    "        }\n",
    "        configs[targeting + ('' if not nb else '_nb')] = c\n",
    "\n",
    "configs"
   ]
  },
  {
   "cell_type": "markdown",
   "metadata": {},
   "source": [
    "# Photometry"
   ]
  },
  {
   "cell_type": "code",
   "execution_count": 0,
   "metadata": {},
   "outputs": [],
   "source": [
    "from pfs.ga.targeting.instrument import *\n",
    "from pfs.ga.targeting.diagram import CMD, CCD, ColorAxis, MagnitudeAxis\n",
    "from pfs.ga.targeting.photometry import Photometry, Magnitude, Color"
   ]
  },
  {
   "cell_type": "code",
   "execution_count": 0,
   "metadata": {},
   "outputs": [],
   "source": [
    "hsc = SubaruHSC.photometry()\n",
    "cmd = CMD([\n",
    "        ColorAxis(\n",
    "            Color([hsc.magnitudes['g'], hsc.magnitudes['i']]),\n",
    "            limits=(-1, 4)),\n",
    "        MagnitudeAxis(\n",
    "            hsc.magnitudes['g'],\n",
    "            limits=(15.5, 24.5)\n",
    "        )\n",
    "    ])\n",
    "ccd = CCD([\n",
    "    cmd.axes[0],\n",
    "    ColorAxis(\n",
    "        Color([hsc.magnitudes['g'], hsc.magnitudes['nb515']]),\n",
    "        limits=(-0.5, 0.5)\n",
    "    )\n",
    "])"
   ]
  },
  {
   "cell_type": "markdown",
   "metadata": {},
   "source": [
    "# Load isochrones"
   ]
  },
  {
   "cell_type": "code",
   "execution_count": 0,
   "metadata": {},
   "outputs": [],
   "source": [
    "from pfs.ga.isochrones.isogrid import IsoGrid"
   ]
  },
  {
   "cell_type": "code",
   "execution_count": 0,
   "metadata": {},
   "outputs": [],
   "source": [
    "iso = IsoGrid()\n",
    "iso.load(os.path.join(ISOCHRONES_PATH, 'isochrones.h5'))"
   ]
  },
  {
   "cell_type": "code",
   "execution_count": 0,
   "metadata": {},
   "outputs": [],
   "source": [
    "iso.values.keys()"
   ]
  },
  {
   "cell_type": "markdown",
   "metadata": {},
   "source": [
    "# Load observations"
   ]
  },
  {
   "cell_type": "code",
   "execution_count": 0,
   "metadata": {},
   "outputs": [],
   "source": [
    "from pfs.ga.targeting.io import TextObservationReader"
   ]
  },
  {
   "cell_type": "code",
   "execution_count": 0,
   "metadata": {},
   "outputs": [],
   "source": [
    "#obs = TextObservationReader().read_hsc(OBS_PATH)\n",
    "obs = SubaruHSC.text_observation_reader().read(OBS_PATH)\n",
    "obs.data.head()"
   ]
  },
  {
   "cell_type": "code",
   "execution_count": 0,
   "metadata": {},
   "outputs": [],
   "source": [
    "f, axs = plt.subplots(1, 2, figsize=(6, 4), dpi=120)\n",
    "\n",
    "cmd.plot_observation(axs[0], obs)\n",
    "ccd.plot_observation(axs[1], obs)\n",
    "\n",
    "f.tight_layout()"
   ]
  },
  {
   "cell_type": "code",
   "execution_count": 0,
   "metadata": {},
   "outputs": [],
   "source": [
    "from pfs.ga.targeting.projection import Pointing, WcsProjection\n",
    "from pfs.ga.targeting.instrument import SubaruWFC, SubaruPFI\n",
    "from pfs.ga.targeting.diagram import FOV"
   ]
  },
  {
   "cell_type": "code",
   "execution_count": 0,
   "metadata": {},
   "outputs": [],
   "source": [
    "ra, dec = obs.get_coords()\n",
    "print(ra.mean(), dec.mean())"
   ]
  },
  {
   "cell_type": "code",
   "execution_count": 0,
   "metadata": {},
   "outputs": [],
   "source": [
    "pointing = Pointing(Angle('15h 09m 08.5s').degree, Angle('+67d 13m 21s').degree)\n",
    "print(pointing.ra, pointing.dec)\n",
    "wcs = WcsProjection(pointing, proj='TAN')\n",
    "wfc = SubaruWFC(wcs.pointing)\n",
    "fov = FOV(projection=wcs)"
   ]
  },
  {
   "cell_type": "code",
   "execution_count": 0,
   "metadata": {},
   "outputs": [],
   "source": [
    "f, ax = plt.subplots(1, 1, figsize=(4, 4), dpi=120, subplot_kw=dict(projection=wcs.wcs))\n",
    "fov.plot_catalog(ax, obs)"
   ]
  },
  {
   "cell_type": "markdown",
   "metadata": {},
   "source": [
    "## Load spectroscopically confirmed members"
   ]
  },
  {
   "cell_type": "code",
   "execution_count": 0,
   "metadata": {},
   "outputs": [],
   "source": [
    "from pfs.ga.targeting.data import Observation"
   ]
  },
  {
   "cell_type": "code",
   "execution_count": 0,
   "metadata": {},
   "outputs": [],
   "source": [
    "df = pd.read_csv(MEMBERS_PATH, skiprows=1,\n",
    "                 names=['id', 'RA', 'Dec', 'mem', 'ids', 'cat', 'matched_ids'])\n",
    "\n",
    "df['mem'] = df['mem'].map(lambda x: x > 0.5)\n",
    "df['ids'] = df['ids'].astype(int)\n",
    "df['matched_ids'] = df['matched_ids'].astype(int)\n",
    "\n",
    "df[df['mem']]"
   ]
  },
  {
   "cell_type": "code",
   "execution_count": 0,
   "metadata": {},
   "outputs": [],
   "source": [
    "mem = Observation()\n",
    "mem._set_data(df[df['mem']])\n",
    "\n",
    "mem.data"
   ]
  },
  {
   "cell_type": "code",
   "execution_count": 0,
   "metadata": {},
   "outputs": [],
   "source": [
    "idx, sep = obs.cross_match(mem)\n",
    "idx.shape, sep.shape, sep.min(), sep.max()"
   ]
  },
  {
   "cell_type": "code",
   "execution_count": 0,
   "metadata": {},
   "outputs": [],
   "source": [
    "confirmed_mask = (sep < 0.5 / 3600.)"
   ]
  },
  {
   "cell_type": "code",
   "execution_count": 0,
   "metadata": {},
   "outputs": [],
   "source": [
    "f, axs = plt.subplots(1, 2, figsize=(6, 4), dpi=120)\n",
    "\n",
    "cmd.plot_observation(axs[0], obs, c='grey')\n",
    "cmd.plot_observation(axs[0], obs, mask=confirmed_mask, c='r', size=3)\n",
    "\n",
    "ccd.plot_observation(axs[1], obs, c='grey')\n",
    "ccd.plot_observation(axs[1], obs, mask=confirmed_mask, c='r', size=3)\n",
    "\n",
    "f.suptitle('Confirmed members')\n",
    "f.tight_layout()"
   ]
  },
  {
   "cell_type": "code",
   "execution_count": 0,
   "metadata": {},
   "outputs": [],
   "source": [
    "f, ax = plt.subplots(1, 1, figsize=(4, 4), dpi=120, subplot_kw=dict(projection=wcs.wcs))\n",
    "\n",
    "fov.plot_catalog(ax, obs, c='grey')\n",
    "fov.plot_catalog(ax, obs, mask=confirmed_mask, c='r', size=3)\n",
    "\n",
    "f.suptitle('Confirmed members')\n",
    "f.tight_layout()"
   ]
  },
  {
   "cell_type": "markdown",
   "metadata": {},
   "source": [
    "# Load simulation"
   ]
  },
  {
   "cell_type": "code",
   "execution_count": 0,
   "metadata": {},
   "outputs": [],
   "source": [
    "from pfs.ga.targeting.io import Hdf5SimulationReader"
   ]
  },
  {
   "cell_type": "code",
   "execution_count": 0,
   "metadata": {},
   "outputs": [],
   "source": [
    "r = Hdf5SimulationReader()\n",
    "cm = {}\n",
    "for prefix in ['', 'obs_', 'err_', 'flux_', 'obs_flux_', 'err_flux_', 'counts_', 'obs_counts_', 'err_counts_']:\n",
    "    cm[prefix + 'hsc_g2'] = prefix + 'hsc_g'\n",
    "    cm[prefix + 'hsc_i2'] = prefix + 'hsc_i'\n",
    "r.column_mapping = cm\n",
    "r.append_photometry(SubaruHSC.photometry())\n",
    "sim = r.read(SIM_PATH)"
   ]
  },
  {
   "cell_type": "code",
   "execution_count": 0,
   "metadata": {},
   "outputs": [],
   "source": [
    "for k in sim.data.keys():\n",
    "    print(k, sim.data[k].shape)"
   ]
  },
  {
   "cell_type": "code",
   "execution_count": 0,
   "metadata": {},
   "outputs": [],
   "source": [
    "f, axs = plt.subplots(1, 2, figsize=(6, 4), dpi=120)\n",
    "\n",
    "cmd.plot_simulation(axs[0], sim, s=np.s_[::100], size=0.05)\n",
    "ccd.plot_simulation(axs[1], sim, s=np.s_[::100], size=0.05)\n",
    "\n",
    "f.tight_layout()"
   ]
  },
  {
   "cell_type": "code",
   "execution_count": 0,
   "metadata": {},
   "outputs": [],
   "source": [
    "f, axs = plt.subplots(1, 2, figsize=(6, 4), dpi=120)\n",
    "\n",
    "cmd.plot_simulation(axs[0], sim, apply_categories=True, s=np.s_[::20], size=0.05)\n",
    "ccd.plot_simulation(axs[1], sim, apply_categories=True, s=np.s_[::20], size=0.05)\n",
    "\n",
    "f.tight_layout()"
   ]
  },
  {
   "cell_type": "markdown",
   "metadata": {},
   "source": [
    "# Define selections"
   ]
  },
  {
   "cell_type": "code",
   "execution_count": 0,
   "metadata": {},
   "outputs": [],
   "source": [
    "from pfs.ga.targeting import ProbabilityMap\n",
    "from pfs.ga.targeting.selection import ProbabilityCut, ProbabilitySampling, MagnitudeSelection, ColorSelection, LinearSelection"
   ]
  },
  {
   "cell_type": "code",
   "execution_count": 0,
   "metadata": {},
   "outputs": [],
   "source": [
    "def get_selection_mask(catalog, nb=True, blue=False, probcut=None, observed=None, bright=16, faint=23.5):\n",
    "    \n",
    "    # Broadband colors\n",
    "    mask = ColorSelection(ccd.axes[0], 0.12, 2.0).apply(catalog, observed=observed)\n",
    "\n",
    "    # Narrow band\n",
    "    if nb:\n",
    "        mask &= (\n",
    "            ColorSelection(ccd.axes[0], 0.12, 0.5).apply(catalog, observed=observed)\n",
    "\n",
    "            | ColorSelection(ccd.axes[1], 0.1, None).apply(catalog, observed=observed)\n",
    "            & ColorSelection(ccd.axes[0], None, 1.65).apply(catalog, observed=observed)\n",
    "            \n",
    "            | LinearSelection(ccd.axes, [-0.25, 1.0], -0.15, None).apply(catalog, observed=observed)\n",
    "        )\n",
    "\n",
    "    # Probability-based cut (map) - nonzero membership probability\n",
    "    if probcut is not None:\n",
    "        mask &= probcut.apply(catalog, observed=observed)\n",
    "\n",
    "    # Allow blue\n",
    "    if blue:\n",
    "        mask |= (\n",
    "            ColorSelection(ccd.axes[0], None, 0.12).apply(catalog, observed=observed)\n",
    "        )\n",
    "\n",
    "    # Always impose faint and bright magnitude cuts\n",
    "    mask &= MagnitudeSelection(cmd.axes[1], bright, faint).apply(catalog, observed=observed)\n",
    "\n",
    "    return mask"
   ]
  },
  {
   "cell_type": "code",
   "execution_count": 0,
   "metadata": {},
   "outputs": [],
   "source": [
    "f, ax = plt.subplots(1, 1)\n",
    "\n",
    "mask = get_selection_mask(obs, observed=True, nb=True, blue=True)\n",
    "cmd.plot_catalog(ax, obs, observed=True, mask=mask)"
   ]
  },
  {
   "cell_type": "markdown",
   "metadata": {},
   "source": [
    "# Compare simulation to observations"
   ]
  },
  {
   "cell_type": "code",
   "execution_count": 0,
   "metadata": {},
   "outputs": [],
   "source": [
    "# Original weights\n",
    "print('data.w', sim.data['w'])\n",
    "\n",
    "w = np.bincount(sim.data['g']) / sim.data['g'].shape\n",
    "print('w', w, np.sum(w[:-2]), np.sum(w[-2:]))\n",
    "\n",
    "# New weights, boost thick disk and halo\n",
    "w1 = np.r_[w[:-2] / 0.4 * 0.5, w[-2:] / 0.6 * 0.5]\n",
    "w1[2:4] *= 100\n",
    "# w1[0:6] *= 3  # thin disk 1-3\n",
    "# w1[4:6] *= 1.2  # thin disk 3\n",
    "w1[6:8] *= 15  # thick disk\n",
    "w1[8:10] *= 28   # halo\n",
    "##### good for histograms w1[10:12] *= 18  # dSph\n",
    "##### good for ghost plot\n",
    "w1[10:12] *= 50  # dSph\n",
    "w1 /= w1.sum()\n",
    "print('w1', w1, np.sum(w1[:-2]), np.sum(w1[-2:]))\n",
    "\n",
    "# New categories\n",
    "g1 = np.random.choice(np.arange(w1.size, dtype=int), sim.data['g'].size, p=w1)\n",
    "print('g1', g1.shape)\n",
    "\n",
    "# Verify new categories\n",
    "w2 = np.bincount(g1) / g1.shape\n",
    "print('w2', w2, np.sum(w2[:-2]), np.sum(w2[-2:]))"
   ]
  },
  {
   "cell_type": "code",
   "execution_count": 0,
   "metadata": {},
   "outputs": [],
   "source": [
    "# Calculate the best combination of weight by fitting the color histogram of observations"
   ]
  },
  {
   "cell_type": "code",
   "execution_count": 0,
   "metadata": {},
   "outputs": [],
   "source": [
    "sim.data['g'], g1"
   ]
  },
  {
   "cell_type": "code",
   "execution_count": 0,
   "metadata": {},
   "outputs": [],
   "source": [
    "# Number of objects inside cuts\n",
    "mask = get_selection_mask(obs, nb=False, observed=True)\n",
    "n_obs = mask.sum()\n",
    "print('obs', n_obs)\n",
    "\n",
    "#(x, x_err), (y, y_err) = obs.get_diagram_values(cmd.axes, observed=True, mask=mask)\n",
    "#mask = (0.1 < x) & (x < 2) & (y < 23.5)\n",
    "#print('obs', n_obs)\n",
    "\n",
    "mask = get_selection_mask(sim, nb=False, observed=True)\n",
    "mask = sim.apply_categories(mask, g=g1)\n",
    "n_sim = mask.sum()\n",
    "print('sim', n_sim)\n",
    "\n",
    "# (x, x_err), (y, y_err) = sim.get_diagram_values(cmd.axes, observed=True)\n",
    "# x = sim.apply_categories(x, g=g1)\n",
    "# y = sim.apply_categories(y, g=g1)\n",
    "# mask = (0.1 < x) & (x < 2) & (y < 23.5)\n",
    "# n_sim = mask.sum()\n",
    "# print('sim', n_sim)\n",
    "\n",
    "n_sim / n_obs"
   ]
  },
  {
   "cell_type": "code",
   "execution_count": 0,
   "metadata": {},
   "outputs": [],
   "source": [
    "NB = False\n",
    "\n",
    "f, axs = plt.subplots(1, 3, figsize=(6, 4), dpi=120)\n",
    "\n",
    "mask = get_selection_mask(obs, nb=NB, observed=True)\n",
    "cmd.plot_observation(axs[0], obs, size=0.05, mask=mask)\n",
    "\n",
    "mask = get_selection_mask(sim, nb=NB, observed=True)\n",
    "mask = sim.apply_categories(mask, g=g1)\n",
    "cmd.plot_simulation(axs[1], sim, observed=True, apply_categories=True, mask=mask, g=g1, s=np.s_[::30], size=0.05)\n",
    "\n",
    "mask = get_selection_mask(sim, nb=NB, observed=True)\n",
    "mask = sim.apply_categories(mask, g=sim.data['g'])\n",
    "cmd.plot_simulation(axs[2], sim, observed=True, apply_categories=True, mask=mask, g=sim.data['g'], s=np.s_[::30], size=0.05)\n",
    "\n",
    "for ax in axs:\n",
    "    ax.grid()\n",
    "    ax.set_xlim(-0.2, 2.2)\n",
    "\n",
    "f.tight_layout()"
   ]
  },
  {
   "cell_type": "code",
   "execution_count": 0,
   "metadata": {},
   "outputs": [],
   "source": [
    "def plot_histogram(ax, obs, sim, axis, plot_populations=True):\n",
    "    ((x, x_err),) = obs.get_diagram_values([axis], observed=True)\n",
    "    mask = get_selection_mask(obs, nb=NB, observed=True)\n",
    "    hist, bins = np.histogram(x[mask], bins=100, density=True)\n",
    "    ax.step(0.5 * (bins[1:] + bins[:-1]), hist, label='OBS')\n",
    "    print(x.min(), x.max())\n",
    "\n",
    "    ((x, x_err),) = sim.get_diagram_values([axis], observed=True)\n",
    "    mask = get_selection_mask(sim, nb=NB, observed=True)\n",
    "    mask = sim.apply_categories(mask, g=g1)\n",
    "    x = sim.apply_categories(x, g=g1)\n",
    "    hist, bins = np.histogram(x[mask], bins=100, density=True)\n",
    "    ax.step(0.5 * (bins[1:] + bins[:-1]), hist, label='SIM')\n",
    "    \n",
    "    if plot_populations:\n",
    "        for i, name in zip(range(6), ['thin1', 'thin2', 'thin3', 'thick', 'halo', 'dSph']):\n",
    "            hist, bins = np.histogram(x[mask][(g1[mask[:,0]] == 2 * i) | (g1[mask[:,0]] == 2 * i + 1)], bins=100, density=True)\n",
    "            ax.step(0.5 * (bins[1:] + bins[:-1]), (w1[2 * i] + w1[2 * i + 1]) * hist, lw=1, label=name)"
   ]
  },
  {
   "cell_type": "code",
   "execution_count": 0,
   "metadata": {},
   "outputs": [],
   "source": [
    "f, ax = plt.subplots(1, 1, figsize=(3.5, 2.4), dpi=240)\n",
    "\n",
    "plot_histogram(ax, obs, sim, cmd.axes[0])\n",
    "\n",
    "ax.set_xlim(-0.2, 2.2)\n",
    "ax.set_xlabel('HSC $g - i$')\n",
    "ax.legend()"
   ]
  },
  {
   "cell_type": "code",
   "execution_count": 0,
   "metadata": {},
   "outputs": [],
   "source": [
    "f, ax = plt.subplots(1, 1, figsize=(3.5, 2.4), dpi=240)\n",
    "\n",
    "plot_histogram(ax, obs, sim, cmd.axes[1])\n",
    "\n",
    "ax.set_xlabel('HSC $g$')\n",
    "ax.legend()"
   ]
  },
  {
   "cell_type": "code",
   "execution_count": 0,
   "metadata": {},
   "outputs": [],
   "source": [
    "f, ax = plt.subplots(1, 1, figsize=(3.5, 2.4), dpi=240)\n",
    "\n",
    "plot_histogram(ax, obs, sim, MagnitudeAxis(hsc.magnitudes['i']))\n",
    "\n",
    "ax.set_xlabel('HSC $i$')\n",
    "ax.legend()"
   ]
  },
  {
   "cell_type": "markdown",
   "metadata": {},
   "source": [
    "# Create the probability map\n",
    "\n",
    "We create a probability map without properly normalizing it. What we need at this point is the outline of the valid are which is occupied by the member stars because it will be used for the color selection"
   ]
  },
  {
   "cell_type": "code",
   "execution_count": 0,
   "metadata": {},
   "outputs": [],
   "source": [
    "from pfs.ga.targeting import ProbabilityMap\n",
    "from pfs.ga.targeting.selection import ProbabilityCut, ProbabilitySampling"
   ]
  },
  {
   "cell_type": "code",
   "execution_count": 0,
   "metadata": {},
   "outputs": [],
   "source": [
    "mask = get_selection_mask(sim, nb=False, probcut=None, observed=True, faint=23.5)\n",
    "mask.shape, mask.sum()"
   ]
  },
  {
   "cell_type": "code",
   "execution_count": 0,
   "metadata": {},
   "outputs": [],
   "source": [
    "w1"
   ]
  },
  {
   "cell_type": "code",
   "execution_count": 0,
   "metadata": {},
   "outputs": [],
   "source": [
    "pmap = ProbabilityMap(cmd.axes)\n",
    "pmap.from_simulation(sim, bins=[100, 100], extents=[[0.1, 2.0], [17.0, 23.5]],\n",
    "    merge_list=[np.s_[:10], np.s_[10:]], population_weights=w1, observed=True, mask=mask)\n",
    "pmap.maximum_filter()"
   ]
  },
  {
   "cell_type": "code",
   "execution_count": 0,
   "metadata": {},
   "outputs": [],
   "source": [
    "pmap.extents"
   ]
  },
  {
   "cell_type": "code",
   "execution_count": 0,
   "metadata": {},
   "outputs": [],
   "source": [
    "probcut = ProbabilityCut(pmap, 1, np.log(0.0001))"
   ]
  },
  {
   "cell_type": "code",
   "execution_count": 0,
   "metadata": {},
   "outputs": [],
   "source": [
    "psamp = ProbabilitySampling(pmap, 0)\n",
    "psamp_mask = psamp.apply(obs, observed=True)"
   ]
  },
  {
   "cell_type": "code",
   "execution_count": 0,
   "metadata": {},
   "outputs": [],
   "source": [
    "f, axs = plt.subplots(1, 2, figsize=(6, 4), dpi=120)\n",
    "\n",
    "l0 = cmd.plot_probability_map(axs[0], pmap, 0)\n",
    "l1 = cmd.plot_probability_map(axs[1], pmap, 1)\n",
    "\n",
    "f.tight_layout()"
   ]
  },
  {
   "cell_type": "code",
   "execution_count": 0,
   "metadata": {},
   "outputs": [],
   "source": [
    "l0.get_clim(), l1.get_clim()"
   ]
  },
  {
   "cell_type": "markdown",
   "metadata": {
    "tags": []
   },
   "source": [
    "# Isochrones"
   ]
  },
  {
   "cell_type": "code",
   "execution_count": 0,
   "metadata": {},
   "outputs": [],
   "source": [
    "from pfs.ga.targeting import Isochrone"
   ]
  },
  {
   "cell_type": "code",
   "execution_count": 0,
   "metadata": {},
   "outputs": [],
   "source": [
    "f, ax = plt.subplots(1, 1, figsize=(3, 2), dpi=240)\n",
    "\n",
    "hist, bins = np.histogram(sim.data['Z'][:, -2], density=True, bins=100)\n",
    "ax.plot(0.5 * (bins[1:] + bins[:-1]), hist)\n",
    "ax.set_xlabel('[Fe/H]')"
   ]
  },
  {
   "cell_type": "code",
   "execution_count": 0,
   "metadata": {},
   "outputs": [],
   "source": [
    "f, ax = plt.subplots(1, 1, figsize=(3, 2), dpi=240)\n",
    "\n",
    "hist, bins = np.histogram(sim.data['t'][:, -2], density=True, bins=100)\n",
    "#ax.plot(10**(0.5 * (bins[1:] + bins[:-1]) - 9), hist)\n",
    "#ax.set_xlabel('age [Gyr]')\n",
    "ax.plot(0.5 * (bins[1:] + bins[:-1]) - 9, hist)\n",
    "ax.set_xlabel('log age')"
   ]
  },
  {
   "cell_type": "code",
   "execution_count": 0,
   "metadata": {},
   "outputs": [],
   "source": [
    "iso_blue = Isochrone()\n",
    "iso_blue.from_isogrid(hsc, iso, Fe_H=-2.5, log_t=10.135, DM=19.2)\n",
    "\n",
    "iso_red = Isochrone()\n",
    "#iso_red.from_isogrid(hsc, iso, Fe_H=-1.2, log_t=10.11, DM=19.2)\n",
    "iso_red.from_isogrid(hsc, iso, Fe_H=-1.6, log_t=10.11, DM=19.2)"
   ]
  },
  {
   "cell_type": "code",
   "execution_count": 0,
   "metadata": {},
   "outputs": [],
   "source": [
    "iso_blue.get_diagram_values(cmd.axes)"
   ]
  },
  {
   "cell_type": "markdown",
   "metadata": {},
   "source": [
    "# Whitepaper plot"
   ]
  },
  {
   "cell_type": "code",
   "execution_count": 0,
   "metadata": {},
   "outputs": [],
   "source": [
    "# Number of points within rectangular selection\n",
    "mask = get_selection_mask(obs, nb=False, probcut=None, observed=True)\n",
    "print('obs:', mask.shape, mask.sum())\n",
    "\n",
    "mask = get_selection_mask(sim, nb=False, probcut=None, observed=True)\n",
    "mask = sim.apply_categories(mask)\n",
    "print('sim:', mask.shape, mask.sum(axis=0))"
   ]
  },
  {
   "cell_type": "code",
   "execution_count": 0,
   "metadata": {},
   "outputs": [],
   "source": []
  },
  {
   "cell_type": "code",
   "execution_count": 0,
   "metadata": {},
   "outputs": [],
   "source": [
    "# Population weights without NB cuts\n",
    "print('w1', w1, w1.sum())\n",
    "\n",
    "# New categories\n",
    "g1 = np.random.choice(np.arange(w1.size, dtype=int), sim.data['g'].size, p=w1)\n",
    "print('g1', g1.shape)\n",
    "\n",
    "# Verify new categories\n",
    "w2 = np.bincount(g1) / g1.shape\n",
    "print('w2', w2, w2.sum(), np.sum(w2[:-2]), np.sum(w2[-2:]))\n",
    "\n",
    "# Population weights after cuts\n",
    "mask = get_selection_mask(sim, nb=True, probcut=None, observed=True)\n",
    "sim.apply_categories(mask, g=g1)\n",
    "w3 = np.bincount(g1[mask[:,0]]) / mask.sum()\n",
    "w3 /= w3.sum()\n",
    "print('w3', w3, np.sum(w3), np.sum(w3[:-2]), np.sum(w3[-2:]))\n",
    "\n",
    "# Population weights for the ghost plot\n",
    "w = np.bincount(sim.data['g']) / sim.data['g'].shape\n",
    "print('w', w, np.sum(w[:-2]), np.sum(w[-2:]))\n",
    "\n",
    "# New weights, boost thick disk and halo\n",
    "w4 = np.r_[w[:-2] / 0.4 * 0.5, w[-2:] / 0.6 * 0.5]\n",
    "w4[2:4] *= 100\n",
    "# w4[0:6] *= 3  # thin disk 1-3\n",
    "# w4[4:6] *= 1.2  # thin disk 3\n",
    "w4[6:8] *= 15  # thick disk\n",
    "w4[8:10] *= 28   # halo\n",
    "w4[10:12] *= 50  # dSph\n",
    "w4 /= w4.sum()\n",
    "print('w4', w4, np.sum(w4[:-2]), np.sum(w4[-2:]))"
   ]
  },
  {
   "cell_type": "code",
   "execution_count": 0,
   "metadata": {},
   "outputs": [],
   "source": [
    "mask = get_selection_mask(sim, nb=False, probcut=None, observed=True)\n",
    "\n",
    "pmap_nonb = ProbabilityMap(cmd.axes)\n",
    "pmap_nonb.from_simulation(sim, bins=[100, 100], extents=[[0.12, 2.0], [16, 23.5]], \n",
    "    merge_list=[np.s_[:10], np.s_[10:]], population_weights=w1, observed=True, mask=mask)\n",
    "pmap_nonb.maximum_filter()\n",
    "\n",
    "pmap_samp = ProbabilityMap(cmd.axes)\n",
    "pmap_samp.from_simulation(sim, bins=[100, 100], extents=[[0.12, 2.0], [16, 23.5]], \n",
    "    merge_list=[np.s_[:10], np.s_[10:]], population_weights=w4, observed=True, mask=mask)\n",
    "pmap_samp.maximum_filter()\n",
    "\n",
    "mask = get_selection_mask(sim, nb=True, probcut=None, observed=True)\n",
    "\n",
    "pmap_nb = ProbabilityMap(cmd.axes)\n",
    "pmap_nb.from_simulation(sim, bins=[100, 100], extents=[[0.12, 2.0], [16, 23.5]], \n",
    "    merge_list=[np.s_[:10], np.s_[10:]], population_weights=w3, observed=True, mask=mask)\n",
    "pmap_nb.maximum_filter()"
   ]
  },
  {
   "cell_type": "code",
   "execution_count": 0,
   "metadata": {},
   "outputs": [],
   "source": [
    "psamp = ProbabilitySampling(pmap_samp, 0)\n",
    "psamp_mask = psamp.apply(obs, observed=True)"
   ]
  },
  {
   "cell_type": "code",
   "execution_count": 0,
   "metadata": {},
   "outputs": [],
   "source": [
    "def hex_to_rgb(hex):\n",
    "    return tuple(int(hex[i + 1:i + 3], 16) / 255 for i in (0, 2, 4))\n",
    "\n",
    "def chop_cmap_frac(cmap: LinearSegmentedColormap, frac: float) -> LinearSegmentedColormap:\n",
    "    \"\"\"Chops off the beginning `frac` fraction of a colormap.\"\"\"\n",
    "    cmap_as_array = cmap(np.arange(256))\n",
    "    cmap_as_array = cmap_as_array[:int(frac * len(cmap_as_array))]\n",
    "    return LinearSegmentedColormap.from_list(cmap.name + f\"_frac{frac}\", cmap_as_array)\n",
    "\n",
    "def get_nice_cmap(from_black=False):\n",
    "    if from_black:\n",
    "        cmap = LinearSegmentedColormap.from_list('mycmap',\n",
    "            [(0.00, hex_to_rgb('#595959')),\n",
    "            (0.33, hex_to_rgb('#5F9ED1')),\n",
    "            (0.66, hex_to_rgb('#006BA4')),\n",
    "            (1.00, hex_to_rgb('#FF800E'))])\n",
    "\n",
    "        cmap.set_bad((1.0, 1.0, 1.0))\n",
    "    else:\n",
    "        cmap = LinearSegmentedColormap.from_list('mycmap',\n",
    "            [(0.00, (1.0, 1.0, 1.0)),\n",
    "            (0.15, hex_to_rgb('#ABABAB')),\n",
    "            (0.25, hex_to_rgb('#595959')),\n",
    "            (0.50, hex_to_rgb('#5F9ED1')),\n",
    "            (0.75, hex_to_rgb('#006BA4')),\n",
    "            (1.00, hex_to_rgb('#FF800E'))])\n",
    "\n",
    "        cmap.set_bad(cmap(0))\n",
    "\n",
    "    return cmap\n",
    "\n",
    "#cmap = mpl.cm.get_cmap('terrain_r')\n",
    "\n",
    "# cmap = LinearSegmentedColormap.from_list('mycmap',\n",
    "#         [(0.00, (1.0, 1.0, 1.0)),\n",
    "#          #(0.15, (0.75, 0.75, 0.75)),\n",
    "#          (0.25, (1.0, 1.0, 0.6)),\n",
    "#          (0.50, (0.0, 0.8, 0.4)),\n",
    "#          (0.75, (0.0, 0.6, 1.0)),\n",
    "#          (1.00, (1.0, 0.0, 0.0))])\n",
    "\n",
    "#006BA4, #FF800E, #ABABAB, #595959,\n",
    "#5F9ED1, #C85200, #898989, #A2C8EC, #FFBC79, #CFCFCF\n",
    "\n",
    "# cmap = mpl.cm.get_cmap('cubehelix_r')\n",
    "# cmap = chop_cmap_frac(cmap, 0.5)\n",
    "\n",
    "cmap = get_nice_cmap()"
   ]
  },
  {
   "cell_type": "code",
   "execution_count": 0,
   "metadata": {},
   "outputs": [],
   "source": [
    "plt.imshow(np.stack(20 * [np.linspace(0, 1, 1000)], axis=0), cmap=get_nice_cmap())"
   ]
  },
  {
   "cell_type": "code",
   "execution_count": 0,
   "metadata": {},
   "outputs": [],
   "source": [
    "plt.imshow(np.stack(20 * [np.linspace(0, 1, 1000)], axis=0), cmap=get_nice_cmap(from_black=True))"
   ]
  },
  {
   "cell_type": "code",
   "execution_count": 0,
   "metadata": {},
   "outputs": [],
   "source": [
    "gs = GridSpec(ncols=6, nrows=1, width_ratios=[5, 5, 5, 5, 5, 0.3])\n",
    "f = plt.figure(constrained_layout=False, figsize=(7.2, 2.1), dpi=240)\n",
    "\n",
    "axs = np.array([ f.add_subplot(gs[0, i]) for i in range(5) ])\n",
    "axc = f.add_subplot(gs[0, -1])\n",
    "\n",
    "#f, axs = plt.subplots(1, 4, figsize=(7.2, 2.5), dpi=300)\n",
    "\n",
    "cmd.plot_observation(axs[0], obs, c='grey', observed=True, rasterized=True)\n",
    "#cmd.plot_observation(axs[0], obs, mask=confirmed_mask, c='r', size=1)\n",
    "cmd.plot_isochrone(axs[0], iso_blue, observed=True, error_sigma=[-2.0, -2.0], c='blue', lw=0.5)\n",
    "cmd.plot_isochrone(axs[0], iso_red, observed=True, error_sigma=[2.0, 2.0], c='red', lw=0.5)\n",
    "\n",
    "cmd.plot_simulation(axs[1], sim, s=np.s_[::20], observed=True, apply_categories=True, g=g1, c='grey', rasterized=True)\n",
    "#cmd.plot_isochrone(axs[1], iso_blue, observed=True, error_sigma=[-1.0, -1.0], c='blue')\n",
    "#cmd.plot_isochrone(axs[1], iso_red, observed=True, error_sigma=[1.0, 1.0], c='red')\n",
    "\n",
    "cmd.plot_observation(axs[2], obs, mask=psamp_mask, c='grey', rasterized=True)\n",
    "\n",
    "l0 = cmd.plot_probability_map(axs[3], pmap_nonb, 1, cmap=cmap, rasterized=True)\n",
    "l1 = cmd.plot_probability_map(axs[4], pmap_nb, 1, cmap=cmap, rasterized=True)\n",
    "\n",
    "for l in (l0, l1):\n",
    "    #l0.set_clim(min([l.get_clim()[0] for l in (l0, l1)]), max([l.get_clim()[1] for l in (l0, l1)]))\n",
    "    l.set_clim(-3.1, 0)\n",
    "\n",
    "#l1.set_clim(*l0.get_clim())\n",
    "\n",
    "print(l0.get_clim())\n",
    "\n",
    "c = f.colorbar(l0, cax=axc, orientation='vertical', extend='min', cmap=cmap)\n",
    "c.set_label('$\\log_{10} \\,\\, p_\\mathrm{member}$')\n",
    "\n",
    "for ax in axs:\n",
    "    #ax.plot([0, 1.3, 1.3, 0, 0], [17, 17, 23.5, 23.5, 17], '--k', lw=0.5)\n",
    "    ax.plot([0.1, 2.0, 2.0, 0.1, 0.1], [16.1, 16.1, 23.5, 23.5, 16.1], '--k', lw=0.5)\n",
    "\n",
    "for ax, pl in zip(axs.flatten(), 'abcde'):\n",
    "    ax.text(-0.4, 16.2, f'{pl})', fontsize=8)\n",
    "    ax.set_xlabel(r'HSC $g - i$')\n",
    "    ax.set_ylabel(None)\n",
    "    ax.yaxis.set_ticks(np.arange(16, 24.5, 1.0))\n",
    "    #ax.xaxis.set_ticks([0, 0.5, 1, 1.5])\n",
    "    ax.set_xlim(-0.55, 2.4)\n",
    "    ax.set_ylim(15.5, 24.5)\n",
    "    ax.invert_yaxis()\n",
    "    #ax.grid()\n",
    "    \n",
    "    ax.tick_params(direction=\"in\", top=True, right=True)\n",
    "    \n",
    "for ax in axs.flatten()[1:]:\n",
    "    ax.set_yticklabels([])\n",
    "    \n",
    "axs[0].set_ylabel(r'HSC $g$')\n",
    "\n",
    "f.tight_layout()\n",
    "\n",
    "f.savefig('umi_hsc_cmd.pdf')"
   ]
  },
  {
   "cell_type": "code",
   "execution_count": 0,
   "metadata": {},
   "outputs": [],
   "source": [
    "gs = GridSpec(ncols=3, nrows=1, width_ratios=[10, 10, 0.5])\n",
    "f = plt.figure(constrained_layout=False, figsize=(3.4, 2.1), dpi=240)\n",
    "\n",
    "axs = np.array([ f.add_subplot(gs[0, i]) for i in range(2) ])\n",
    "axc = f.add_subplot(gs[0, -1])\n",
    "\n",
    "#f, axs = plt.subplots(1, 4, figsize=(7.2, 2.5), dpi=300)\n",
    "\n",
    "# cmd.plot_observation(axs[0], obs, c='grey', observed=True, rasterized=True)\n",
    "# #cmd.plot_observation(axs[0], obs, mask=confirmed_mask, c='r', size=1)\n",
    "# cmd.plot_isochrone(axs[0], iso_blue, observed=True, error_sigma=[-2.0, -2.0], c='blue', lw=0.5)\n",
    "# cmd.plot_isochrone(axs[0], iso_red, observed=True, error_sigma=[2.0, 2.0], c='red', lw=0.5)\n",
    "\n",
    "# cmd.plot_simulation(axs[1], sim, s=np.s_[::20], observed=True, apply_categories=True, g=g1, c='grey', rasterized=True)\n",
    "# #cmd.plot_isochrone(axs[1], iso_blue, observed=True, error_sigma=[-1.0, -1.0], c='blue')\n",
    "# #cmd.plot_isochrone(axs[1], iso_red, observed=True, error_sigma=[1.0, 1.0], c='red')\n",
    "\n",
    "# cmd.plot_observation(axs[0], obs, mask=psamp_mask, c='grey', rasterized=True)\n",
    "\n",
    "l0 = cmd.plot_probability_map(axs[0], pmap_nonb, 1, cmap=cmap, rasterized=True)\n",
    "l1 = cmd.plot_probability_map(axs[1], pmap_nb, 1, cmap=cmap, rasterized=True)\n",
    "\n",
    "for l in (l0, l1):\n",
    "    #l0.set_clim(min([l.get_clim()[0] for l in (l0, l1)]), max([l.get_clim()[1] for l in (l0, l1)]))\n",
    "    l.set_clim(-3.1, 0)\n",
    "\n",
    "#l1.set_clim(*l0.get_clim())\n",
    "\n",
    "print(l0.get_clim())\n",
    "\n",
    "c = f.colorbar(l0, cax=axc, orientation='vertical', extend='min')\n",
    "c.set_label('$\\log_{10} \\,\\, p_\\mathrm{member}$')\n",
    "\n",
    "for ax in axs:\n",
    "    #ax.plot([0, 1.3, 1.3, 0, 0], [17, 17, 23.5, 23.5, 17], '--k', lw=0.5)\n",
    "    ax.plot([0.1, 2.0, 2.0, 0.1, 0.1], [16.1, 16.1, 23.5, 23.5, 16.1], '--k', lw=1)\n",
    "\n",
    "for ax, pl in zip(axs.flatten(), 'abcde'):\n",
    "    ax.text(-0.4, 16.2, f'{pl})', fontsize=8)\n",
    "    ax.set_xlabel(r'HSC $g - i$')\n",
    "    ax.set_ylabel(None)\n",
    "    ax.yaxis.set_ticks(np.arange(16, 24.5, 1.0))\n",
    "    #ax.xaxis.set_ticks([0, 0.5, 1, 1.5])\n",
    "    ax.set_xlim(-0.75, 2.4)\n",
    "    ax.set_ylim(15.5, 24.5)\n",
    "    ax.invert_yaxis()\n",
    "    #ax.grid()\n",
    "    \n",
    "    ax.tick_params(direction=\"in\", top=True, right=True)\n",
    "    ax.ticklabel_format()\n",
    "    \n",
    "for ax in axs.flatten()[1:]:\n",
    "    ax.set_yticklabels([])\n",
    "    \n",
    "axs[0].set_ylabel(r'HSC $g$')\n",
    "\n",
    "for t in axc.get_yticklabels():\n",
    "    t.set_horizontalalignment('right')   \n",
    "    t.set_verticalalignment('center')   \n",
    "    t.set_x(4.2)\n",
    "    #t.set_y(-1)\n",
    "\n",
    "f.tight_layout()\n",
    "\n",
    "f.savefig('umi_hsc_pmap.pdf')"
   ]
  },
  {
   "cell_type": "code",
   "execution_count": 0,
   "metadata": {},
   "outputs": [],
   "source": [
    "get_selection_mask(obs)"
   ]
  },
  {
   "cell_type": "code",
   "execution_count": 0,
   "metadata": {},
   "outputs": [],
   "source": [
    "gs = GridSpec(ncols=2, nrows=1, width_ratios=[10, 10])\n",
    "f = plt.figure(constrained_layout=False, figsize=(3.4, 2.1), dpi=240)\n",
    "\n",
    "axs = np.array([ f.add_subplot(gs[0, i]) for i in range(2) ])\n",
    "\n",
    "cmd.plot_observation(axs[0], obs, mask=psamp_mask, c='grey', rasterized=True)\n",
    "\n",
    "psamp_outline_mask = get_selection_mask(obs, nb=True, probcut=None, observed=True)\n",
    "cmd.plot_observation(axs[1], obs, mask=~psamp_mask & psamp_outline_mask, c='grey', rasterized=True)\n",
    "\n",
    "for ax in axs:\n",
    "    #ax.plot([0, 1.3, 1.3, 0, 0], [17, 17, 23.5, 23.5, 17], '--k', lw=0.5)\n",
    "    ax.plot([0.1, 2.0, 2.0, 0.1, 0.1], [16.1, 16.1, 23.5, 23.5, 16.1], '--k', lw=1)\n",
    "\n",
    "for ax, pl in zip(axs.flatten(), 'ab'):\n",
    "    ax.text(-0.4, 16.2, f'{pl})', fontsize=8)\n",
    "    ax.set_xlabel(r'HSC $g - i$')\n",
    "    ax.set_ylabel('HSC $g$')\n",
    "    ax.yaxis.set_ticks(np.arange(16, 24.5, 1.0))\n",
    "    #ax.xaxis.set_ticks([0, 0.5, 1, 1.5])\n",
    "    ax.set_xlim(-0.75, 2.4)\n",
    "    ax.set_ylim(15.5, 24.5)\n",
    "    ax.invert_yaxis()\n",
    "    #ax.grid()\n",
    "    \n",
    "    ax.tick_params(direction=\"in\", top=True, right=True)\n",
    "    ax.ticklabel_format()\n",
    "\n",
    "for ax in axs.flatten()[1:]:\n",
    "    ax.set_ylabel(None)\n",
    "    ax.set_yticklabels([])\n",
    "\n",
    "f.tight_layout()\n",
    "\n",
    "f.savefig('umi_hsc_ghost.pdf')"
   ]
  },
  {
   "cell_type": "code",
   "execution_count": 0,
   "metadata": {},
   "outputs": [],
   "source": [
    "f, axs = plt.subplots(2, 2, figsize=(3.4, 4), dpi=240)\n",
    "\n",
    "mask = get_selection_mask(obs, nb=True)\n",
    "\n",
    "cmd.plot_observation(axs[0, 0], obs, c='grey', observed=True, rasterized=True)\n",
    "cmd.plot_isochrone(axs[0, 0], iso_blue, observed=True, error_sigma=[-2.0, -2.0], c=hex_to_rgb('#006BA4'), lw=1)\n",
    "cmd.plot_isochrone(axs[0, 0], iso_red, observed=True, error_sigma=[2.0, 2.0], c=hex_to_rgb('#FF800E'), lw=1)\n",
    "\n",
    "cmd.plot_simulation(axs[0, 1], sim, s=np.s_[::20], observed=True, apply_categories=True, g=g1, c='grey', rasterized=True)\n",
    "\n",
    "ccd.plot_observation(axs[1, 0], obs, c='grey', observed=True, rasterized=True)\n",
    "# ccd.plot_observation(axs[1, 0], obs, c='red', size=3, mask=mask, observed=True, rasterized=True)\n",
    "\n",
    "ccd.plot_simulation(axs[1, 1], sim, s=np.s_[::20], observed=True, apply_categories=True, g=g1, c='grey', rasterized=True)\n",
    "\n",
    "for ax, pl in zip(axs.flatten(), 'abcd'):\n",
    "    ax.text(0.1, 0.9, f'{pl})', fontsize=8, transform=ax.transAxes)\n",
    "    ax.set_xlabel(r'HSC $g - i$')\n",
    "    #ax.yaxis.set_ticks(np.arange(16, 24.5, 1.0))\n",
    "    #ax.xaxis.set_ticks([0, 0.5, 1, 1.5])\n",
    "    ax.set_xlim(-0.75, 2.4)\n",
    "    #ax.set_ylim(15.5, 24.5)\n",
    "    #ax.invert_yaxis()\n",
    "    #ax.grid()\n",
    "    \n",
    "    ax.tick_params(direction=\"in\", top=True, right=True)\n",
    "\n",
    "for ax in axs[0, :]:\n",
    "    #ax.plot([0, 1.3, 1.3, 0, 0], [17, 17, 23.5, 23.5, 17], '--k', lw=0.5)\n",
    "    ax.plot([0.1, 2.0, 2.0, 0.1, 0.1], [16.1, 16.1, 23.5, 23.5, 16.1], '--k', lw=1)\n",
    "\n",
    "for ax in axs[1, :]:\n",
    "    ax.plot([0.12, 2.0, 2.0,\n",
    "         1, 0.5, 0.5, 0.12, 0.12], \n",
    "        \n",
    "        [0.5, 0.5, 0.1,\n",
    "         0.1, -0.025, -0.5, -0.5, 0.5], 'k--', lw=1)\n",
    "\n",
    "axs[0, 0].set_ylabel(r'HSC $g$')\n",
    "axs[1, 0].set_ylabel(r'HSC $g - $NB$515$')\n",
    "\n",
    "for ax in axs[:, 1]:\n",
    "    ax.set_ylabel(None)\n",
    "    ax.set_yticklabels([])\n",
    "\n",
    "for ax in axs[0, :]:\n",
    "    ax.set_xlabel(None)\n",
    "    ax.set_xticklabels([])\n",
    "\n",
    "f.tight_layout()\n",
    "\n",
    "f.savefig('umi_hsc_cmd.pdf')"
   ]
  },
  {
   "cell_type": "code",
   "execution_count": 0,
   "metadata": {},
   "outputs": [],
   "source": []
  },
  {
   "cell_type": "markdown",
   "metadata": {},
   "source": [
    "# Plot selection"
   ]
  },
  {
   "cell_type": "code",
   "execution_count": 0,
   "metadata": {},
   "outputs": [],
   "source": [
    "def plot_selection_mask(catalog, mask, s=np.s_[:]):\n",
    "    f, axs = plt.subplots(2, 2, figsize=(6, 6), dpi=120)\n",
    "\n",
    "    cmd.plot_catalog(axs[0, 0], catalog, mask=~mask, s=s, c='k')\n",
    "    cmd.plot_catalog(axs[0, 0], catalog, mask=mask, s=s, c='r')\n",
    "    cmd.plot_catalog(axs[0, 1], catalog, mask=mask, s=s, c='k')\n",
    "\n",
    "    ccd.plot_catalog(axs[1, 0], catalog, mask=~mask, s=s, c='k')\n",
    "    ccd.plot_catalog(axs[1, 0], catalog, mask=mask, s=s, c='r')\n",
    "    ccd.plot_catalog(axs[1, 1], catalog, mask=mask, s=s, c='k')\n",
    "\n",
    "    f.tight_layout()"
   ]
  },
  {
   "cell_type": "code",
   "execution_count": 0,
   "metadata": {},
   "outputs": [],
   "source": [
    "mask = get_selection_mask(obs, nb=False)\n",
    "plot_selection_mask(obs, mask)"
   ]
  },
  {
   "cell_type": "code",
   "execution_count": 0,
   "metadata": {},
   "outputs": [],
   "source": [
    "mask = get_selection_mask(sim, nb=False)\n",
    "mask = sim.apply_categories(mask)\n",
    "plot_selection_mask(sim, mask, s=np.s_[:40000])"
   ]
  },
  {
   "cell_type": "code",
   "execution_count": 0,
   "metadata": {},
   "outputs": [],
   "source": [
    "mask = get_selection_mask(obs, nb=True)\n",
    "plot_selection_mask(obs, mask)"
   ]
  },
  {
   "cell_type": "code",
   "execution_count": 0,
   "metadata": {},
   "outputs": [],
   "source": [
    "mask = get_selection_mask(sim, nb=True)\n",
    "mask = sim.apply_categories(mask)\n",
    "plot_selection_mask(sim, mask, s=np.s_[:40000])"
   ]
  },
  {
   "cell_type": "code",
   "execution_count": 0,
   "metadata": {},
   "outputs": [],
   "source": [
    "mask = get_selection_mask(obs, nb=True, probcut=probcut)\n",
    "plot_selection_mask(obs, mask, s=np.s_[:40000])"
   ]
  },
  {
   "cell_type": "code",
   "execution_count": 0,
   "metadata": {},
   "outputs": [],
   "source": [
    "mask = get_selection_mask(sim, nb=True, probcut=probcut)\n",
    "mask = sim.apply_categories(mask)\n",
    "plot_selection_mask(sim, mask, s=np.s_[:40000])"
   ]
  },
  {
   "cell_type": "markdown",
   "metadata": {},
   "source": [
    "## Confirmed members after selection"
   ]
  },
  {
   "cell_type": "code",
   "execution_count": 0,
   "metadata": {},
   "outputs": [],
   "source": [
    "mask = get_selection_mask(obs, nb=True, probcut=probcut)"
   ]
  },
  {
   "cell_type": "code",
   "execution_count": 0,
   "metadata": {},
   "outputs": [],
   "source": [
    "f, axs = plt.subplots(1, 2, figsize=(6, 4), dpi=120)\n",
    "\n",
    "cmd.plot_catalog(axs[0], obs, c='grey')\n",
    "cmd.plot_catalog(axs[0], obs, mask=mask & confirmed_mask, c='r', size=3)\n",
    "\n",
    "ccd.plot_catalog(axs[1], obs, c='grey')\n",
    "ccd.plot_catalog(axs[1], obs, mask=mask & confirmed_mask, c='r', size=3)\n",
    "\n",
    "f.suptitle('Confirmed members')\n",
    "f.tight_layout()"
   ]
  },
  {
   "cell_type": "code",
   "execution_count": 0,
   "metadata": {},
   "outputs": [],
   "source": [
    "f, ax = plt.subplots(1, 1, figsize=(4, 4), dpi=120, subplot_kw=dict(projection=wcs.wcs))\n",
    "\n",
    "fov.plot_catalog(ax, obs, c='grey')\n",
    "fov.plot_catalog(ax, obs, mask=mask & confirmed_mask, c='r', size=3)\n",
    "\n",
    "f.suptitle('Confirmed members')\n",
    "f.tight_layout()"
   ]
  },
  {
   "cell_type": "markdown",
   "metadata": {},
   "source": [
    "# Fit the radial profile\n",
    "\n",
    "Here we fit to all stars **within the coarse color cuts** to have a better fit of the shape parameters. Later the foreground and the central density will be fitted again while keeping the morphological parameters constant. The initial foreground/member fraction will be determined from the radial profile fit."
   ]
  },
  {
   "cell_type": "code",
   "execution_count": 0,
   "metadata": {},
   "outputs": [],
   "source": [
    "from pfs.ga.targeting.projection import Pointing, Whitening\n",
    "from pfs.ga.targeting.radialprofile import *"
   ]
  },
  {
   "cell_type": "code",
   "execution_count": 0,
   "metadata": {},
   "outputs": [],
   "source": [
    "pointing = Pointing(Angle('15h 09m 08.5s').degree, Angle('+67d 13m 21s').degree)\n",
    "wcs = WcsProjection(pointing, proj='TAN')\n",
    "\n",
    "fov = FOV(projection=wcs)"
   ]
  },
  {
   "cell_type": "code",
   "execution_count": 0,
   "metadata": {},
   "outputs": [],
   "source": [
    "# Only the coarse color cuts\n",
    "mask = get_selection_mask(obs, nb=False, probcut=None)"
   ]
  },
  {
   "cell_type": "code",
   "execution_count": 0,
   "metadata": {},
   "outputs": [],
   "source": [
    "plot_selection_mask(obs, mask)"
   ]
  },
  {
   "cell_type": "code",
   "execution_count": 0,
   "metadata": {},
   "outputs": [],
   "source": [
    "f, axs = plt.subplots(1, 2, figsize=(6, 4), dpi=120,\n",
    "    subplot_kw={'projection': fov.projection.wcs})\n",
    "\n",
    "fov.plot_catalog(axs[0], obs)\n",
    "fov.plot_catalog(axs[0], obs, mask=mask, color='r')\n",
    "\n",
    "fov.plot_catalog(axs[1], obs, mask=mask)\n"
   ]
  },
  {
   "cell_type": "code",
   "execution_count": 0,
   "metadata": {},
   "outputs": [],
   "source": [
    "w = Whitening(projection=wcs)\n",
    "w.create(obs)\n",
    "\n",
    "(x, y), _ = w.projection.world_to_pixel(obs.get_coords())\n",
    "\n",
    "wxy = w.apply(obs)\n",
    "\n",
    "x.shape, y.shape, wxy.shape, w.M"
   ]
  },
  {
   "cell_type": "code",
   "execution_count": 0,
   "metadata": {},
   "outputs": [],
   "source": [
    "f, axs = plt.subplots(1, 2, figsize=(6, 4), dpi=120)\n",
    "\n",
    "axs[0].plot(x, y, 'sk', markeredgecolor='None', ms=0.5)\n",
    "axs[0].plot(x[mask], y[mask], 'sr', markeredgecolor='None', ms=0.5)\n",
    "axs[0].set_aspect(1)\n",
    "\n",
    "axs[1].plot(x[mask], y[mask], 'sk', markeredgecolor='None', ms=0.5)\n",
    "axs[1].set_aspect(1)"
   ]
  },
  {
   "cell_type": "code",
   "execution_count": 0,
   "metadata": {},
   "outputs": [],
   "source": [
    "wrr = np.array([[0, 0], [0, 5], [5, 0]])"
   ]
  },
  {
   "cell_type": "code",
   "execution_count": 0,
   "metadata": {},
   "outputs": [],
   "source": [
    "f, axs = plt.subplots(1, 2, figsize=(6, 4), dpi=120)\n",
    "\n",
    "axs[0].plot(wxy[..., 0], wxy[..., 1], 'sk', markeredgecolor='None', ms=0.5)\n",
    "axs[0].plot(wxy[..., 0][mask], wxy[..., 1][mask], 'sr', markeredgecolor='None', ms=0.5)\n",
    "axs[0].set_aspect(1)\n",
    "\n",
    "axs[1].plot(wxy[..., 0][mask], wxy[..., 1][mask], 'sk', markeredgecolor='None', ms=0.5)\n",
    "axs[1].set_aspect(1)\n",
    "\n",
    "axs[1].plot(wrr[..., 0], wrr[..., 1], 'xr')"
   ]
  },
  {
   "cell_type": "code",
   "execution_count": 0,
   "metadata": {},
   "outputs": [],
   "source": [
    "xy = np.matmul(np.linalg.inv(w.W), wxy.T).T + w.M\n",
    "rr = np.matmul(np.linalg.inv(w.W), wrr.T).T + w.M"
   ]
  },
  {
   "cell_type": "code",
   "execution_count": 0,
   "metadata": {},
   "outputs": [],
   "source": [
    "f, axs = plt.subplots(1, 2, figsize=(6, 4), dpi=120)\n",
    "\n",
    "axs[0].plot(xy[..., 0], xy[..., 1], 'sk', markeredgecolor='None', ms=0.5)\n",
    "axs[0].plot(xy[..., 0][mask], xy[..., 1][mask], 'sr', markeredgecolor='None', ms=0.5)\n",
    "axs[0].set_aspect(1)\n",
    "\n",
    "axs[1].plot(xy[..., 0][mask], xy[..., 1][mask], 'sk', markeredgecolor='None', ms=0.5)\n",
    "axs[1].set_aspect(1)\n",
    "\n",
    "axs[1].plot(rr[..., 0], rr[..., 1], 'xr')"
   ]
  },
  {
   "cell_type": "code",
   "execution_count": 0,
   "metadata": {},
   "outputs": [],
   "source": [
    "# Fit profile to all stars within the color cut\n",
    "\n",
    "king = King(transformation=w, R_max=6, bins=30)\n",
    "king.histogram(obs)\n",
    "[S_b, S_0, R_c, R_t], pcov = king.fit()\n",
    "\n",
    "S_b, S_0, R_c, R_t"
   ]
  },
  {
   "cell_type": "code",
   "execution_count": 0,
   "metadata": {},
   "outputs": [],
   "source": [
    "f, ax = plt.subplots(1, 1, figsize=(3.4, 2.5), dpi=120)\n",
    "\n",
    "R, log_S, log_S_sigma = king.get_log_S()\n",
    "\n",
    "ax.errorbar(R, log_S, 3 * log_S_sigma)\n",
    "ax.set_xlabel('deprojected R')\n",
    "ax.set_ylabel(r'$\\log \\Sigma$')\n",
    "\n",
    "R = np.linspace(0, 8, 200)\n",
    "log_S = king.log_eval(R)\n",
    "ax.plot(R, log_S)"
   ]
  },
  {
   "cell_type": "code",
   "execution_count": 0,
   "metadata": {},
   "outputs": [],
   "source": [
    "from astropy import units as u\n",
    "from astropy.coordinates import SkyCoord"
   ]
  },
  {
   "cell_type": "code",
   "execution_count": 0,
   "metadata": {},
   "outputs": [],
   "source": [
    "# king.transformation.projection.pointing.posang\n",
    "\n",
    "# king.transformation.Vh\n",
    "\n",
    "np.arctan2(king.transformation.Vh[0, 1], king.transformation.Vh[0, 0])"
   ]
  },
  {
   "cell_type": "code",
   "execution_count": 0,
   "metadata": {},
   "outputs": [],
   "source": [
    "ra0, dec0 = king.transformation.reverse(0, 0)\n",
    "ra1, dec1 = king.transformation.reverse(0, 1)\n",
    "print(ra, dec)"
   ]
  },
  {
   "cell_type": "code",
   "execution_count": 0,
   "metadata": {},
   "outputs": [],
   "source": [
    "f = plt.figure(constrained_layout=False, figsize=(3.4, 2.), dpi=240)\n",
    "ax = f.add_subplot(projection=fov.projection.wcs)\n",
    "\n",
    "fov.plot_catalog(ax, obs, c='gray', size=0.02, rasterized=True)\n",
    "\n",
    "ell = king.get_ellipse(R_t)\n",
    "fov.plot(ax, ell, native_frame='world', fmt='--r')\n",
    "\n",
    "(S_b, S_0, R_c, R_t) = king.params\n",
    "R = np.array([0, R_t, R_t, R_t, R_t])\n",
    "phi = np.array([0, 0, np.pi / 2, np.pi, 3 / 2 * np.pi])\n",
    "\n",
    "ra, dec = king.elliptic_to_world(R, phi, ctype='t')\n",
    "\n",
    "c = SkyCoord(ra=ra * u.degree, dec=dec * u.degree, frame='icrs')\n",
    "ax.plot(c.ra.degree, c.dec.degree, 'x', transform=ax.get_transform('world'))\n",
    "\n",
    "ax.invert_xaxis()\n",
    "ax.grid()"
   ]
  },
  {
   "cell_type": "code",
   "execution_count": 0,
   "metadata": {},
   "outputs": [],
   "source": [
    "obs.get_coords()[0].min(), obs.get_coords()[0].max()"
   ]
  },
  {
   "cell_type": "code",
   "execution_count": 0,
   "metadata": {},
   "outputs": [],
   "source": [
    "obs.get_coords()[0].mean(), obs.get_coords()[1].mean()"
   ]
  },
  {
   "cell_type": "code",
   "execution_count": 0,
   "metadata": {},
   "outputs": [],
   "source": [
    "gs = GridSpec(ncols=2, nrows=1, width_ratios=[3, 2])\n",
    "f = plt.figure(constrained_layout=False, figsize=(3.4, 2.1), dpi=240)\n",
    "\n",
    "axs = 2 * [None]\n",
    "\n",
    "axs[0] = f.add_subplot(gs[0], projection=fov.projection.wcs)\n",
    "\n",
    "(S_b, S_0, R_c, R_t) = king.params\n",
    "xy = w.apply(obs)\n",
    "r = np.sqrt(xy[:, 0]**2 + xy[:, 1]**2)\n",
    "\n",
    "# mask = get_selection_mask(obs, observed=True, nb=True, blue=True, probcut=probcut)\n",
    "# mask &= r > R_t \n",
    "\n",
    "mask = r > R_t\n",
    "\n",
    "fov.plot_catalog(axs[0], obs, mask=mask, c=hex_to_rgb('#FF800E'), size=0.02, rasterized=True)\n",
    "fov.plot_catalog(axs[0], obs, mask=~mask, c='gray', size=0.02, rasterized=True)\n",
    "\n",
    "ell = king.get_ellipse(R_t, res=36)\n",
    "fov.plot(axs[0], ell, fmt='--', native_frame='world', color=hex_to_rgb('#FF800E'), ls='--')\n",
    "\n",
    "#ell = king.get_ellipse(R_c, res=36)\n",
    "#fov.plot(axs[0], ell, fmt='-', color=hex_to_rgb('#FF800E'))\n",
    "\n",
    "for pp in [(228.2, 67.5, 0),\n",
    "           (226.3, 67.5, 0),\n",
    "           (226.0, 66.9, 0),\n",
    "           (228.1, 66.955, 40)]:\n",
    "    # wfc = SubaruWFC(Pointing(227.3, 67.25))\n",
    "    wfc = SubaruWFC(Pointing(*pp))\n",
    "    pfi = SubaruPFI(wfc)\n",
    "    #pfi.plot_field_of_view(axs[0], fov, blocks=True, c='b')\n",
    "    pfi.plot_focal_plane(axs[0], fov, corners=True, c=hex_to_rgb('#006BA4'), ls='-')\n",
    "\n",
    "axs[0].text(0.05, 0.9, 'a)', fontsize=8, transform=axs[0].transAxes)\n",
    "axs[0].set_xlabel(r'right ascension')\n",
    "axs[0].set_ylabel(r'declination')\n",
    "#axs[0].yaxis.set_ticks(np.arange(16, 24.5, 1.0))\n",
    "#axs[0].xaxis.set_ticks([0, 0.5, 1, 1.5])\n",
    "#axs[0].set_xlim(-0.55, 2.4)\n",
    "#axs[0].set_ylim(15.5, 24.5)\n",
    "axs[0].invert_xaxis()\n",
    "#axs[0].grid()\n",
    "\n",
    "axs[0].tick_params(direction=\"in\") #, top=True, right=True)\n",
    "axs[0].grid()\n",
    "\n",
    "####\n",
    "\n",
    "axs[1] = f.add_subplot(gs[1])\n",
    "\n",
    "cmd.plot_catalog(axs[1], obs, mask=mask, color='grey')\n",
    "#cmd.plot_catalog(axs[1], obs, mask=mask, color='red')\n",
    "\n",
    "#cmd.plot_isochrone(axs[1], iso_blue, observed=True, error_sigma=[-2.0, -2.0], c='blue', lw=0.5)\n",
    "#cmd.plot_isochrone(axs[1], iso_red, observed=True, error_sigma=[2.0, 2.0], c='red', lw=0.5)\n",
    "\n",
    "####\n",
    "\n",
    "# axs[2] = f.add_subplot(gs[2])\n",
    "\n",
    "# cmd.plot_catalog(axs[2], obs, mask=mask, color='grey')\n",
    "\n",
    "####\n",
    "\n",
    "axs[1].set_aspect('auto')\n",
    "\n",
    "axs[1].text(0.075, 0.9, 'b)', fontsize=8, transform=axs[1].transAxes)\n",
    "axs[1].set_xlabel(r'HSC $g - i$')\n",
    "axs[1].set_ylabel(r'HSC $g$')\n",
    "\n",
    "axs[1].yaxis.tick_right()\n",
    "axs[1].yaxis.set_label_position(\"right\")\n",
    "axs[1].tick_params(direction=\"in\", left=True, bottom=True, top=True, right=True)\n",
    "\n",
    "f.tight_layout()\n",
    "\n",
    "p0 = axs[0].get_position()\n",
    "for ax in axs[1:]:\n",
    "    p1 = ax.get_position()\n",
    "    p1 = [p1.x0, p0.y0, p1.width, p0.height]\n",
    "    ax.set_position(p1)\n",
    "\n",
    "f.savefig('umi_hsc_tidal.pdf')"
   ]
  },
  {
   "cell_type": "code",
   "execution_count": 0,
   "metadata": {},
   "outputs": [],
   "source": [
    "from pfs.ga.targeting.diagram import FP\n",
    "from pfs.ga.targeting.allocation.algorithms import Brightness"
   ]
  },
  {
   "cell_type": "code",
   "execution_count": 0,
   "metadata": {},
   "outputs": [],
   "source": [
    "gs = GridSpec(nrows=3, ncols=3, width_ratios=[2, 2, 4.3], height_ratios=[1, 1, 0.1])\n",
    "f = plt.figure(constrained_layout=False, figsize=(3.4, 2.1), dpi=240)\n",
    "\n",
    "mask = get_selection_mask(obs, nb=True, blue=True, probcut=probcut)\n",
    "targets = np.full_like(mask, False)\n",
    "ll = []\n",
    "axs = []\n",
    "vmin = []\n",
    "vmax = []\n",
    "\n",
    "for pp, (si, sj) in zip(\n",
    "        [(228.2, 67.5, 0),\n",
    "         (226.3, 67.5, 0),\n",
    "         (226.0, 66.9, 0),\n",
    "         (228.1, 66.955, 40)],\n",
    "        [(0, 0), (0, 1), (1, 0), (1, 1)]\n",
    "):\n",
    "\n",
    "    pointing = Pointing(*pp)\n",
    "    wcs = WcsProjection(pointing, proj='TAN')\n",
    "    wfc = SubaruWFC(pointing)\n",
    "    pfi = SubaruPFI(wfc)\n",
    "\n",
    "    fp = FP(projection=wfc)\n",
    "\n",
    "    ax = f.add_subplot(gs[si, sj])\n",
    "    pfi.plot_focal_plane(ax, fp, corners=True, color='b')\n",
    "\n",
    "    radec = obs.get_coords()\n",
    "    assoc = pfi.find_associations(radec, mask=mask)\n",
    "    br = Brightness(cmd.axes[1].magnitude)\n",
    "    sorting = br.argsort_assoc(obs, assoc, mask=mask)\n",
    "    ix, ixm = assoc.pick_first(sorting)\n",
    "\n",
    "    midx = tuple(a[ix[ixm]] for a in np.where(mask))    \n",
    "    # Include selected targets in final list\n",
    "    targets[midx] = True\n",
    "    # Exclude selected targets from original list\n",
    "    mask[midx] = False\n",
    "    \n",
    "    c = np.log10(assoc.counts())\n",
    "    c[assoc.counts() == 0] = np.nan\n",
    "    vmin.append(np.nanmin(c))\n",
    "    vmax.append(c.max())\n",
    "    l = pfi.plot_cobras(ax, fp, data=c, cmap=get_nice_cmap(from_black=True), vmax=2.0)\n",
    "    ll.append(l)\n",
    "    axs.append(ax)\n",
    "\n",
    "for ax in axs:\n",
    "    ax.set_xlim(-250, 250)\n",
    "    ax.set_ylim(-250, 250)\n",
    "    ax.set_xticklabels([])\n",
    "    ax.set_yticklabels([])\n",
    "    #ax.tick_params(direction=\"in\", left=True, bottom=True, top=True, right=True)\n",
    "    ax.tick_params(bottom=False, top=False, left=False, right=False, \n",
    "        labelbottom=False, labeltop=False, labelleft=False, labelright=False)\n",
    "    ax.set_xlabel(None)\n",
    "    ax.set_ylabel(None)\n",
    "\n",
    "ax = f.add_subplot(gs[2, :2])\n",
    "cb = f.colorbar(ll[0], cax=ax, orientation='horizontal', extend='min')\n",
    "cb.set_label('$\\log_{10} \\,\\, N_\\mathrm{target}$')\n",
    "cb.ax.tick_params(color='k', direction='in', top=True, bottom=True)\n",
    "\n",
    "ax = f.add_subplot(gs[:, 2])\n",
    "cmd.plot_catalog(ax, obs, color='grey', rasterized=True)\n",
    "cmd.plot_catalog(ax, obs, mask=targets, color='red', rasterized=True)\n",
    "\n",
    "ax.plot([0.1, 2.0, 2.0, 0.1, 0.1], [16.1, 16.1, 23.5, 23.5, 16.1], '--k', lw=0.5)\n",
    "# ax.text(-0.4, 16.2, f'{pl})', fontsize=8)\n",
    "ax.set_xlabel(r'HSC $g - i$')\n",
    "ax.set_ylabel(r'HSC $g$')\n",
    "ax.yaxis.set_ticks(np.arange(16, 24.5, 1.0))\n",
    "#ax.xaxis.set_ticks([0, 0.5, 1, 1.5])\n",
    "ax.set_xlim(-0.85, 2.4)\n",
    "ax.set_ylim(15.5, 24.5)\n",
    "ax.invert_yaxis()\n",
    "# ax.grid()\n",
    "ax.yaxis.tick_right()\n",
    "ax.yaxis.set_label_position(\"right\")\n",
    "ax.tick_params(direction=\"in\", left=True, bottom=True, top=True, right=True)\n",
    "\n",
    "f.tight_layout()\n",
    "\n",
    "f.savefig('umi_hsc_target.pdf')"
   ]
  },
  {
   "cell_type": "code",
   "execution_count": 0,
   "metadata": {},
   "outputs": [],
   "source": [
    "vmin, vmax"
   ]
  },
  {
   "cell_type": "code",
   "execution_count": 0,
   "metadata": {},
   "outputs": [],
   "source": []
  },
  {
   "cell_type": "code",
   "execution_count": 0,
   "metadata": {},
   "outputs": [],
   "source": [
    "f, ax = plt.subplots(1, 1)\n",
    "\n",
    "fp = FP(projection=wcs)\n",
    "\n",
    "fp.plot_catalog(ax, obs)"
   ]
  },
  {
   "cell_type": "code",
   "execution_count": 0,
   "metadata": {},
   "outputs": [],
   "source": [
    "pointing = Pointing(Angle('15h 09m 08.5s').degree, Angle('+67d 13m 21s').degree)\n",
    "wcs = WcsProjection(pointing, proj='TAN')\n",
    "fov = FOV(projection=wcs)\n",
    "\n",
    "wfc = SubaruWFC(pointing)\n",
    "pfi = SubaruPFI(wfc)\n",
    "\n",
    "#w = Whitening(projection=wcs)\n",
    "#w.create(obs)\n",
    "\n",
    "centers, radec = pfi.get_cobra_centers()\n",
    "\n",
    "centers, radec"
   ]
  },
  {
   "cell_type": "code",
   "execution_count": 0,
   "metadata": {},
   "outputs": [],
   "source": [
    "f, ax = plt.subplots(1, 1, figsize=(4, 4), dpi=240)\n",
    "\n",
    "#l0 = fov.plot_catalog(ax, obs, size=0.1)\n",
    "pfi.plot_focal_plane(ax)\n",
    "\n",
    "ax.set_xlim(-200, 200)\n",
    "ax.set_ylim(-200, 200)"
   ]
  },
  {
   "cell_type": "markdown",
   "metadata": {},
   "source": [
    "## Fit foreground - member fraction\n",
    "\n",
    "Here we fit the radial profile again but this time we only use stars that are within the fine color cuts and the coverage of the probability map. We keep the morphological parameters fixed."
   ]
  },
  {
   "cell_type": "code",
   "execution_count": 0,
   "metadata": {},
   "outputs": [],
   "source": [
    "mask = get_selection_mask(obs, nb=True, probcut=probcut)"
   ]
  },
  {
   "cell_type": "code",
   "execution_count": 0,
   "metadata": {},
   "outputs": [],
   "source": [
    "plot_selection_mask(obs, mask)"
   ]
  },
  {
   "cell_type": "code",
   "execution_count": 0,
   "metadata": {},
   "outputs": [],
   "source": [
    "king.histogram(obs, mask=mask)\n",
    "[S_b, S_0, R_c, R_t], pcov = king.fit_nomorph()\n",
    "\n",
    "# (185.89989551509436, 7239.798637878608, 0.8986542066851602, 4.581064733995127)\n",
    "S_b, S_0, R_c, R_t"
   ]
  },
  {
   "cell_type": "code",
   "execution_count": 0,
   "metadata": {},
   "outputs": [],
   "source": [
    "f, ax = plt.subplots(1, 1, figsize=(3.4, 2.5), dpi=120)\n",
    "\n",
    "R, log_S, log_S_sigma = king.get_log_S()\n",
    "\n",
    "ax.errorbar(R, log_S, 3 * log_S_sigma)\n",
    "ax.set_xlabel('deprojected R')\n",
    "ax.set_ylabel(r'$\\log \\Sigma$')\n",
    "\n",
    "R = np.linspace(0, 8, 200)\n",
    "log_S = king.log_eval(R)\n",
    "ax.plot(R, log_S)"
   ]
  },
  {
   "cell_type": "markdown",
   "metadata": {},
   "source": [
    "# Look up membership probability\n",
    "\n",
    "For each star, based on the CMD and elliptical radius"
   ]
  },
  {
   "cell_type": "code",
   "execution_count": 0,
   "metadata": {},
   "outputs": [],
   "source": [
    "mask = get_selection_mask(obs, nb=True, probcut=probcut)"
   ]
  },
  {
   "cell_type": "code",
   "execution_count": 0,
   "metadata": {},
   "outputs": [],
   "source": [
    "# Membership based on radial profile\n",
    "\n",
    "R = king.R(obs)\n",
    "S = king.eval(R, 0, S_0, R_c, R_t)\n",
    "w_king = np.stack([S_b / (S + S_b), S / (S + S_b)], axis=-1)\n",
    "lp_king = np.log(king.eval(R, 0, S_0, R_c, R_t) / S_b)"
   ]
  },
  {
   "cell_type": "code",
   "execution_count": 0,
   "metadata": {},
   "outputs": [],
   "source": [
    "w_king.shape, mask.shape"
   ]
  },
  {
   "cell_type": "code",
   "execution_count": 0,
   "metadata": {},
   "outputs": [],
   "source": [
    "plt.plot(R, lp_king, '.')"
   ]
  },
  {
   "cell_type": "code",
   "execution_count": 0,
   "metadata": {},
   "outputs": [],
   "source": [
    "# Membership based on colors\n",
    "\n",
    "lp_member, mask_member = pmap.lookup_lp_member(obs, mask=mask)\n",
    "lp_member_king, mask_member_king = pmap.lookup_lp_member(obs, w_king[mask], mask=mask)\n",
    "\n",
    "lp_member.shape, np.isnan(lp_member).sum(), np.isnan(lp_member[mask_member]).sum(), mask_member.shape, mask_member.sum()"
   ]
  },
  {
   "cell_type": "code",
   "execution_count": 0,
   "metadata": {},
   "outputs": [],
   "source": [
    "plot_selection_mask(obs, mask=mask)"
   ]
  },
  {
   "cell_type": "code",
   "execution_count": 0,
   "metadata": {},
   "outputs": [],
   "source": [
    "mask_member.shape, mask.shape, lp_member.shape"
   ]
  },
  {
   "cell_type": "code",
   "execution_count": 0,
   "metadata": {},
   "outputs": [],
   "source": [
    "f, axs = plt.subplots(2, 2, figsize=(6, 6), dpi=120)\n",
    "\n",
    "cmd.plot_catalog(axs[0, 0], obs, color=lp_member[..., 0][mask_member], mask=mask)\n",
    "cmd.plot_catalog(axs[0, 1], obs, color=lp_member[..., 1][mask_member], mask=mask)\n",
    "\n",
    "ccd.plot_catalog(axs[1, 0], obs, color=lp_member[..., 0][mask_member], mask=mask)\n",
    "ccd.plot_catalog(axs[1, 1], obs, color=lp_member[..., 1][mask_member], mask=mask)\n",
    "\n",
    "f.tight_layout()"
   ]
  },
  {
   "cell_type": "code",
   "execution_count": 0,
   "metadata": {},
   "outputs": [],
   "source": [
    "f, axs = plt.subplots(2, 2, figsize=(6, 6), dpi=120)\n",
    "\n",
    "cmd.plot_catalog(axs[0, 0], obs, color=lp_member_king[..., 0][mask_member_king], mask=mask)\n",
    "cmd.plot_catalog(axs[0, 1], obs, color=lp_member_king[..., 1][mask_member_king], mask=mask)\n",
    "\n",
    "ccd.plot_catalog(axs[1, 0], obs, color=lp_member_king[..., 0][mask_member_king], mask=mask)\n",
    "ccd.plot_catalog(axs[1, 1], obs, color=lp_member_king[..., 1][mask_member_king], mask=mask)\n",
    "\n",
    "f.tight_layout()"
   ]
  },
  {
   "cell_type": "code",
   "execution_count": 0,
   "metadata": {},
   "outputs": [],
   "source": [
    "mask.shape, mask.sum(), lp_member.shape, mask_member.shape"
   ]
  },
  {
   "cell_type": "code",
   "execution_count": 0,
   "metadata": {},
   "outputs": [],
   "source": [
    "f, axs = plt.subplots(1, 2, figsize=(8, 4), dpi=120)\n",
    "\n",
    "(S_b, S_0, R_c, R_t) = king.params\n",
    "ell = king.get_ellipse(R_t)\n",
    "\n",
    "l0 = fov.plot_catalog(axs[0], obs, mask=mask, size=0.5, color=lp_member[..., 1][mask_member], vmin=-2, vmax=0)\n",
    "fov.plot(axs[0], ell, fmt='-r')\n",
    "axs[0].set_title('CMD only')\n",
    "\n",
    "l1 = fov.plot_catalog(axs[1], obs, mask=mask, size=0.5, color=lp_member_king[..., 1][mask_member_king], vmin=-2, vmax=0)\n",
    "fov.plot(axs[1], ell, fmt='-r')\n",
    "axs[1].set_title('CMD and radial profile')\n",
    "\n",
    "for ax in axs:\n",
    "    ax.set_xlim(-1.8, 1.8)\n",
    "    ax.set_ylim(-1.8, 1.8)\n",
    "\n",
    "f.colorbar(l0, ax=axs[0])\n",
    "f.colorbar(l1, ax=axs[1])"
   ]
  },
  {
   "cell_type": "markdown",
   "metadata": {},
   "source": [
    "# Everything in one function"
   ]
  },
  {
   "cell_type": "code",
   "execution_count": 0,
   "metadata": {},
   "outputs": [],
   "source": [
    "from pfs.ga.targeting.allocation.algorithms import Brightness, Probability, Random"
   ]
  },
  {
   "cell_type": "code",
   "execution_count": 0,
   "metadata": {},
   "outputs": [],
   "source": [
    "def plot_selection_mask(catalog, mask, fov=None, w=None, s=np.s_[:]):\n",
    "    ii = 2\n",
    "    if fov is not None: ii += 1\n",
    "    if w is not None: ii += 1\n",
    "\n",
    "    f, axs = plt.subplots(ii, 2, figsize=(6, 3 * ii), dpi=120)\n",
    "\n",
    "    i = 0\n",
    "\n",
    "    cmd.plot_catalog(axs[i, 0], catalog, mask=~mask, s=s, c='k')\n",
    "    cmd.plot_catalog(axs[i, 0], catalog, mask=mask, s=s, c='r')\n",
    "    cmd.plot_catalog(axs[i, 1], catalog, mask=mask, s=s, c='k')\n",
    "\n",
    "    i += 1\n",
    "\n",
    "    ccd.plot_catalog(axs[i, 0], catalog, mask=~mask, s=s, c='k')\n",
    "    ccd.plot_catalog(axs[i, 0], catalog, mask=mask, s=s, c='r')\n",
    "    ccd.plot_catalog(axs[i, 1], catalog, mask=mask, s=s, c='k')\n",
    "\n",
    "    if fov is not None:\n",
    "\n",
    "        i += 1\n",
    "\n",
    "        fov.plot_catalog(axs[i, 0], catalog)\n",
    "        fov.plot_catalog(axs[i, 0], catalog, mask=mask, color='r')\n",
    "        fov.plot_catalog(axs[i, 1], catalog, mask=mask)\n",
    "\n",
    "    if w is not None:\n",
    "\n",
    "        i += 1\n",
    "\n",
    "        wxy = w.apply(obs)\n",
    "\n",
    "        axs[i, 0].plot(wxy[..., 0], wxy[..., 1], 'sk', markeredgecolor='None', ms=0.5)\n",
    "        axs[i, 0].plot(wxy[..., 0][mask], wxy[..., 1][mask], 'sr', markeredgecolor='None', ms=0.5)\n",
    "        axs[i, 0].set_aspect(1)\n",
    "\n",
    "        axs[i, 1].plot(wxy[..., 0][mask], wxy[..., 1][mask], 'sk', markeredgecolor='None', ms=0.5)\n",
    "        axs[i, 1].set_aspect(1)\n",
    "\n",
    "    return f"
   ]
  },
  {
   "cell_type": "code",
   "execution_count": 0,
   "metadata": {},
   "outputs": [],
   "source": [
    "def plot_radial_profile(catalog, mask, fov, profile, R):\n",
    "    f, axs = plt.subplots(1, 2, figsize=(6, 2.5), dpi=120)\n",
    "\n",
    "    profile.plot_histogram(axs[0])\n",
    "    profile.plot_profile(axs[0])\n",
    "    axs[0].axvline(R, c='r')\n",
    "\n",
    "    axs[0].set_xlabel('deprojected R')\n",
    "    axs[0].set_ylabel(r'$\\log \\Sigma$')\n",
    "\n",
    "    fov.plot_catalog(axs[1], catalog, mask=mask)\n",
    "    fov.plot_radial_profile(axs[1], profile, R)\n",
    "\n",
    "    return f"
   ]
  },
  {
   "cell_type": "code",
   "execution_count": 0,
   "metadata": {},
   "outputs": [],
   "source": [
    "def plot_probability_map(cmd, pmap):\n",
    "    f, axs = plt.subplots(1, 2, figsize=(6, 4), dpi=120)\n",
    "\n",
    "    l0 = cmd.plot_probability_map(axs[0], pmap, 0)\n",
    "    axs[0].set_title(\"non-member\")\n",
    "    \n",
    "    l1 = cmd.plot_probability_map(axs[1], pmap, 1)\n",
    "    axs[1].set_title(\"member\")\n",
    "\n",
    "    return f"
   ]
  },
  {
   "cell_type": "code",
   "execution_count": 0,
   "metadata": {},
   "outputs": [],
   "source": [
    "def plot_probability_cmd(axs, cmd, ccd, obs, mask, lp_member, mask_member, s=None):\n",
    "    axs[0, 0].set_title('All')\n",
    "    axs[0, 1].set_title('Non-member probability')\n",
    "    axs[0, 2].set_title('Member probability')\n",
    "\n",
    "    cmd.plot_catalog(axs[0, 0], obs, color='k', mask=mask, s=s)\n",
    "    cmd.plot_catalog(axs[0, 1], obs, color=lp_member[..., 0][mask_member], mask=mask, s=s)\n",
    "    cmd.plot_catalog(axs[0, 2], obs, color=lp_member[..., 1][mask_member], mask=mask, s=s)\n",
    "\n",
    "    ccd.plot_catalog(axs[1, 0], obs, color='k', mask=mask, s=s)\n",
    "    ccd.plot_catalog(axs[1, 1], obs, color=lp_member[..., 0][mask_member], mask=mask, s=s)\n",
    "    ccd.plot_catalog(axs[1, 2], obs, color=lp_member[..., 1][mask_member], mask=mask, s=s)"
   ]
  },
  {
   "cell_type": "code",
   "execution_count": 0,
   "metadata": {},
   "outputs": [],
   "source": [
    "def plot_probability_fov(fov, obs, mask, lp_member, lp_member_king, mask_member, mask_member_king, king):\n",
    "    f, axs = plt.subplots(1, 2, figsize=(8, 4), dpi=120)\n",
    "\n",
    "    (S_b, S_0, R_c, R_t) = king.params\n",
    "    ell1 = king.get_ellipse(R_t)\n",
    "    ell2 = king.get_ellipse(R_c)\n",
    "\n",
    "    l0 = fov.plot_catalog(axs[0], obs, mask=mask, size=0.5, color=lp_member[..., 1][mask_member], vmin=-2, vmax=0)\n",
    "    fov.plot(axs[0], ell1, fmt='-b')\n",
    "    fov.plot(axs[0], ell2, fmt='-r')\n",
    "    axs[0].set_title('CMD only')\n",
    "\n",
    "    l1 = fov.plot_catalog(axs[1], obs, mask=mask, size=0.5, color=lp_member_king[..., 1][mask_member_king], vmin=-2, vmax=0)\n",
    "    fov.plot(axs[1], ell1, fmt='-b')\n",
    "    fov.plot(axs[1], ell2, fmt='-r')\n",
    "    axs[1].set_title('CMD and radial profile')\n",
    "\n",
    "    for ax in axs:\n",
    "        ax.set_xlim(-1.8, 1.8)\n",
    "        ax.set_ylim(-1.8, 1.8)\n",
    "\n",
    "    f.colorbar(l0, ax=axs[0])\n",
    "    f.colorbar(l1, ax=axs[1])\n",
    "\n",
    "    return f"
   ]
  },
  {
   "cell_type": "code",
   "execution_count": 0,
   "metadata": {},
   "outputs": [],
   "source": [
    "def plot_assoc_hist(assoc):\n",
    "    f, axs = plt.subplots(1, 2, figsize=(8, 3), dpi=120)\n",
    "\n",
    "    counts = np.array(assoc.counts(), dtype=float)\n",
    "    counts[counts == 0] = np.nan\n",
    "\n",
    "    l = pfi.plot_fibers(axs[0], counts)\n",
    "    f.colorbar(l, ax=axs[0])\n",
    "\n",
    "    (S_b, S_0, R_c, R_t) = king.params\n",
    "    ell = king.get_ellipse(0.3 * R_t, 500)\n",
    "    fov.plot(axs[0], ell, mask_fov=False, fmt='-r')\n",
    "\n",
    "    pfi.plot_focal_plane(axs[0])\n",
    "    wfc.plot_focal_plane(axs[0])\n",
    "    fov.apply(axs[0])\n",
    "    axs[0].set_title(\"Number of stars per fiber\")\n",
    "\n",
    "    axs[0].set_xlim(-250, 250)\n",
    "    axs[0].set_ylim(-250, 250)\n",
    "\n",
    "    ####\n",
    "\n",
    "    assoc.plot_histogram(axs[1])    \n",
    "\n",
    "    return f"
   ]
  },
  {
   "cell_type": "code",
   "execution_count": 0,
   "metadata": {},
   "outputs": [],
   "source": [
    "def plot_targeting(axs, assoc, ix, fiber_mask, lp_member, lp_member_king):\n",
    "    lpp = 2 * [None]\n",
    "\n",
    "    lpp[0] = (lp_member[..., 1][ix]) / np.log(10)\n",
    "    lpp[1] = (lp_member_king[..., 1][ix]) / np.log(10)\n",
    "\n",
    "    for i in range(len(lpp)):\n",
    "        lpp[i][~fiber_mask] = np.nan    # Fibers with no targets\n",
    "\n",
    "    fov = FOV(wfc)\n",
    "\n",
    "    for ax, lp in zip(axs, lpp):\n",
    "        l = pfi.plot_fibers(ax, lp, vmin=-2, vmax=0)\n",
    "\n",
    "        (S_b, S_0, R_c, R_t) = king.params\n",
    "        \n",
    "        ell = king.get_ellipse(1/3 * R_t, 500)\n",
    "        fov.plot(ax, ell, mask_fov=False, fmt='-b')\n",
    "        ell = king.get_ellipse(2/3 * R_t, 500)\n",
    "        fov.plot(ax, ell, mask_fov=False, fmt='-b')\n",
    "        ell = king.get_ellipse(R_t, 500)\n",
    "        fov.plot(ax, ell, mask_fov=False, fmt='-b')\n",
    "        ell = king.get_ellipse(R_c, 500)\n",
    "        fov.plot(ax, ell, mask_fov=False, fmt='-r')\n",
    "        \n",
    "        pfi.plot_focal_plane(ax)\n",
    "        wfc.plot_focal_plane(ax)\n",
    "        fov.apply(ax)\n",
    "\n",
    "        ax.set_xlim(-250, 250)\n",
    "        ax.set_ylim(-250, 250)\n",
    "        \n",
    "        f.colorbar(l, ax=ax, orientation='horizontal')\n",
    "\n",
    "    axs[0].set_title('CMD-based probability')\n",
    "    axs[1].set_title('Success rate')"
   ]
  },
  {
   "cell_type": "code",
   "execution_count": 0,
   "metadata": {},
   "outputs": [],
   "source": [
    "def plot_targeting_hist(ax, wr, ix, fiber_mask, lp_member, lp_member_king):\n",
    "    nan_mask = np.isnan(lp_member[..., 1][ix[fiber_mask]])\n",
    "\n",
    "    bins = np.linspace(0, 1.2, 31)\n",
    "\n",
    "    hist, _ = np.histogram(wr[ix[fiber_mask]][~nan_mask], bins=bins)\n",
    "    ax.step(0.5 * (bins[1:] + bins[:-1]), hist, label='all targets')\n",
    "\n",
    "    w = np.exp(lp_member[..., 1][ix[fiber_mask]][~nan_mask])\n",
    "    hist, _ = np.histogram(wr[ix[fiber_mask]][~nan_mask], weights=w, bins=bins)\n",
    "    ax.step(0.5 * (bins[1:] + bins[:-1]), hist, label='color only')\n",
    "\n",
    "    w = np.exp(lp_member_king[..., 1][ix[fiber_mask]][~nan_mask])\n",
    "    hist, _ = np.histogram(wr[ix[fiber_mask]][~nan_mask], weights=w, bins=bins)\n",
    "    ax.step(0.5 * (bins[1:] + bins[:-1]), hist, label='color + radial profile')\n",
    "\n",
    "    ax.set_title('Radial distribution')\n",
    "    ax.set_ylim(-5, 110)\n",
    "    ax.set_xlabel('elliptical radius R / R_t')\n",
    "    ax.set_ylabel('counts')\n",
    "\n",
    "def plot_brightness_hist(ax, m, ix, fiber_mask, lp_member, lp_member_king):\n",
    "    nan_mask = np.isnan(lp_member[..., 1][ix[fiber_mask]])\n",
    "\n",
    "    hist, bins = np.histogram(m[ix[fiber_mask]][~nan_mask], bins=30)\n",
    "    ax.step(0.5 * (bins[1:] + bins[:-1]), hist, label='targeted stars')\n",
    "\n",
    "    w = np.exp(lp_member[..., 1][ix[fiber_mask]][~nan_mask])\n",
    "    hist, bins = np.histogram(m[ix[fiber_mask]][~nan_mask], weights=w, bins=30)\n",
    "    ax.step(0.5 * (bins[1:] + bins[:-1]), hist, label='w = p_mem_CMD')\n",
    "\n",
    "    w = np.exp(lp_member_king[..., 1][ix[fiber_mask]][~nan_mask])\n",
    "    hist, bins = np.histogram(m[ix[fiber_mask]][~nan_mask], weights=w, bins=30)\n",
    "    ax.step(0.5 * (bins[1:] + bins[:-1]), hist, label='w = p_mem_CMD * p_mem_rad')\n",
    "\n",
    "    ax.legend()\n",
    "    \n",
    "    ax.set_title('Magnitude distribution')\n",
    "    ax.set_ylim(-5, 250)\n",
    "    ax.set_xlabel('HSC g')\n",
    "    ax.set_ylabel('counts')"
   ]
  },
  {
   "cell_type": "code",
   "execution_count": 0,
   "metadata": {},
   "outputs": [],
   "source": [
    "# obs\n",
    "# sim\n",
    "# cmd\n",
    "nb = True\n",
    "pointing = Pointing(Angle('15h 09m 08.5s').degree, Angle('+67d 13m 21s').degree)\n",
    "plot_selection = True\n",
    "plot_profile = True\n",
    "plot_pmap = True\n",
    "plot_probability_scatter = True\n",
    "plot_associations = True\n",
    "\n",
    "wcs = WcsProjection(pointing, proj='TAN')\n",
    "fov = FOV(projection=wcs)\n",
    "\n",
    "wfc = SubaruWFC(pointing)\n",
    "pfi = SubaruPFI(wfc)\n",
    "\n",
    "w = Whitening(projection=wcs)\n",
    "w.create(obs)\n",
    "\n",
    "# Fit the radial profile to all data in order to pin morphological parameters\n",
    "king = King(transformation=w, R_max=6, bins=30)\n",
    "king.histogram(obs)\n",
    "[S_b, S_0, R_c, R_t], pcov = king.fit()\n",
    "\n",
    "if plot_profile:\n",
    "    f = plot_radial_profile(obs, None, fov, king, R_t)\n",
    "    f.suptitle('Radial profile without color cuts, NB={}'.format(nb))\n",
    "    f.tight_layout()\n",
    "\n",
    "# To create the first iteration of the probability map, take everything within the coarse\n",
    "# color cuts. This will be used to determine the probability map contour\n",
    "mask = get_selection_mask(sim, nb=False, probcut=None)\n",
    "\n",
    "if plot_selection:\n",
    "    f = plot_selection_mask(sim, sim.apply_categories(mask), fov=None, w=None, s=np.s_[:40000])\n",
    "    f.suptitle('Simulation with coarse color selection, NB={}'.format(nb))\n",
    "    f.tight_layout()\n",
    "\n",
    "pmap = ProbabilityMap(cmd.axes)\n",
    "pmap.from_simulation(sim, bins=[100, 100], merge_list=[np.s_[:10], np.s_[10:]], mask=mask)\n",
    "pmap.maximum_filter()\n",
    "\n",
    "if plot_pmap:\n",
    "    f = plot_probability_map(cmd, pmap)\n",
    "    f.suptitle('Probablity map with coarse color selections, NB={}'.format(False))\n",
    "    f.tight_layout()\n",
    "\n",
    "# This will be the probability map outline for further selections\n",
    "probcut = ProbabilityCut(pmap, 1, np.log(0.0001))\n",
    "\n",
    "# Fine color selection (including NB)\n",
    "mask = get_selection_mask(sim, nb=nb, probcut=probcut)\n",
    "\n",
    "# Recreate probability map with NB color\n",
    "pmap = ProbabilityMap(cmd.axes)\n",
    "pmap.from_simulation(sim, bins=[100, 100], merge_list=[np.s_[:10], np.s_[10:]], mask=mask)\n",
    "pmap.maximum_filter()\n",
    "\n",
    "# This will be the probability map outline for further selections\n",
    "probcut = ProbabilityCut(pmap, 1, np.log(0.0001))\n",
    "\n",
    "if plot_pmap:\n",
    "    f = plot_probability_map(cmd, pmap)\n",
    "    f.suptitle('Probablity map with fine color selections, NB={}'.format(nb))\n",
    "    f.tight_layout()\n",
    "\n",
    "if plot_selection:\n",
    "    f = plot_selection_mask(sim, sim.apply_categories(mask), fov=None, w=None, s=np.s_[:40000])\n",
    "    f.suptitle('Simulation with fine color selection, NB={}'.format(nb))\n",
    "    f.tight_layout()\n",
    "\n",
    "mask = get_selection_mask(obs, nb=nb, probcut=probcut)\n",
    "\n",
    "if plot_selection:\n",
    "    f = plot_selection_mask(obs, mask, fov=fov, w=w, s=np.s_[:40000])\n",
    "    f.suptitle('Observations with fine color selection, NB={}'.format(nb))\n",
    "    f.tight_layout()\n",
    "\n",
    "# Fit the radial profile again to determine the foreground/member fraction after selection\n",
    "# but keep morphological parameters constant\n",
    "king.histogram(obs, mask=mask)\n",
    "[S_b, S_0, R_c, R_t], pcov = king.fit_nomorph()\n",
    "\n",
    "if plot_profile:\n",
    "    f = plot_radial_profile(obs, mask, fov, king, R_t)\n",
    "    f.suptitle('Radial profile with fine color cuts, NB={}'.format(nb))\n",
    "    f.tight_layout()\n",
    "\n",
    "# Membership based on radial profile\n",
    "R = king.R(obs)\n",
    "S = king.eval(R, 0, S_0, R_c, R_t)\n",
    "w_king = np.stack([S_b / (S + S_b), S / (S + S_b)], axis=-1)\n",
    "lp_king = np.log(king.eval(R, 0, S_0, R_c, R_t) / S_b)\n",
    "\n",
    "# Membership based on colors\n",
    "lp_member, mask_member = pmap.lookup_lp_member(obs, mask=mask)\n",
    "lp_member_king, mask_member_king = pmap.lookup_lp_member(obs, w_king[mask], mask=mask)\n",
    "\n",
    "if plot_probability_scatter:\n",
    "    f, axs = plt.subplots(2, 3, figsize=(6, 4), dpi=120)\n",
    "    plot_probability_cmd(axs, cmd, ccd, obs, mask, lp_member, mask_member)\n",
    "    f.suptitle('CMD-based probability, NB={}'.format(nb))\n",
    "\n",
    "    f, axs = plt.subplots(2, 3, figsize=(6, 4), dpi=120)\n",
    "    plot_probability_cmd(axs, cmd, ccd, obs, mask, lp_member_king, mask_member_king)\n",
    "    f.suptitle('CMD and radial-profile-based probability, NB={}'.format(nb))\n",
    "\n",
    "    f = plot_probability_fov(fov, obs, mask, lp_member, lp_member_king, mask_member, mask_member_king, king)\n",
    "    f.suptitle('CMD and radial-profile-based probability, NB={}'.format(nb))\n",
    "\n",
    "# Find fiber associations for the pointing, this is still independent on\n",
    "# the actual targeting algorithms\n",
    "assoc = pfi.find_associations(obs, mask=mask)\n",
    "\n",
    "if plot_associations:\n",
    "    f = plot_assoc_hist(assoc)\n",
    "    f.suptitle('CMD and radial-profile-based probability, NB={}'.format(nb))\n",
    "    f.tight_layout()"
   ]
  },
  {
   "cell_type": "code",
   "execution_count": 0,
   "metadata": {},
   "outputs": [],
   "source": [
    "lp_member.shape, mask.sum()"
   ]
  },
  {
   "cell_type": "code",
   "execution_count": 0,
   "metadata": {},
   "outputs": [],
   "source": [
    "from matplotlib.gridspec import GridSpec"
   ]
  },
  {
   "cell_type": "code",
   "execution_count": 0,
   "metadata": {},
   "outputs": [],
   "source": [
    "# Run the various targeting algorithms\n",
    "for tt in range(5):\n",
    "    print(tt)\n",
    "\n",
    "    if tt == 0:\n",
    "        suptitle = 'pick stars randomly, NB={}'.format(nb)\n",
    "        ra = Random()\n",
    "        ss = ra.argsort_assoc(assoc)\n",
    "    elif tt == 1:\n",
    "        suptitle = 'pick faintest stars, NB={}'.format(nb)\n",
    "        ba = Brightness(cmd.axes[1].magnitude)\n",
    "        ss = ba.argsort_assoc(obs, assoc, mask=mask, reverse=True)\n",
    "    elif tt == 2:\n",
    "        suptitle = 'pick brightest stars, NB={}'.format(nb)\n",
    "        ba = Brightness(cmd.axes[1].magnitude)\n",
    "        ss = ba.argsort_assoc(obs, assoc, mask=mask)\n",
    "    elif tt == 3:\n",
    "        suptitle = 'pick most probable member stars, NB={}'.format(nb)\n",
    "        pa = Probability()\n",
    "        ss = pa.argsort_assoc(lp_member[..., 1], assoc, reverse=True)\n",
    "    elif tt == 4:\n",
    "        suptitle = 'pick least probable member stars, NB={}'.format(nb)\n",
    "        pa = Probability()\n",
    "        ss = pa.argsort_assoc(lp_member[..., 1], assoc)\n",
    "    else:\n",
    "        raise NotImplementedError()\n",
    "\n",
    "        \n",
    "    gs = GridSpec(6, 3)\n",
    "    f = plt.figure(figsize=(12, 9), dpi=120)\n",
    "\n",
    "    axs = [f.add_subplot(gs[0:4, 0]),\n",
    "           f.add_subplot(gs[0:4, 1])]\n",
    "    ix, fiber_mask = assoc.pick_first(sorting=ss)\n",
    "    plot_targeting(axs, assoc, ix, fiber_mask, lp_member, lp_member_king)\n",
    "\n",
    "    # axs = np.array([[f.add_subplot(gs[0, 4]),\n",
    "    #                  f.add_subplot(gs[0, 5])],\n",
    "    #                 [f.add_subplot(gs[1, 4]),\n",
    "    #                  f.add_subplot(gs[1, 5])],\n",
    "    #                 [f.add_subplot(gs[2, 4]),\n",
    "    #                  f.add_subplot(gs[2, 5])]])\n",
    "    # plot_probability_cmd(axs.T, cmd, ccd, obs, mask, lp_member, mask_member, s=ix)\n",
    "\n",
    "    ax = f.add_subplot(gs[0:3, 2])\n",
    "    cmd.plot_catalog(ax, obs, color='gray', alpha=0.3)\n",
    "    cmd.plot_catalog(ax, obs, color='r', size=1, mask=mask, s=ix)\n",
    "\n",
    "    ax = f.add_subplot(gs[3:6, 2])\n",
    "    ccd.plot_catalog(ax, obs, color='gray', alpha=0.3)\n",
    "    ccd.plot_catalog(ax, obs, color='r', size=1, mask=mask, s=ix)\n",
    "\n",
    "    ax = f.add_subplot(gs[4:6, 0])\n",
    "    wr = king.R(obs) / R_t\n",
    "    plot_targeting_hist(ax, wr[mask], ix, fiber_mask, lp_member, lp_member_king)\n",
    "\n",
    "    ax = f.add_subplot(gs[4:6, 1])\n",
    "    m = obs.get_magnitude(cmd.axes[1].magnitude)[mask]\n",
    "    plot_brightness_hist(ax, m, ix, fiber_mask, lp_member, lp_member_king)\n",
    "\n",
    "#     axs[1].legend(loc='upper right')\n",
    "\n",
    "    f.suptitle(suptitle)\n",
    "    f.tight_layout()"
   ]
  },
  {
   "cell_type": "code",
   "execution_count": 0,
   "metadata": {},
   "outputs": [],
   "source": []
  },
  {
   "cell_type": "code",
   "execution_count": 0,
   "metadata": {},
   "outputs": [],
   "source": []
  },
  {
   "cell_type": "code",
   "execution_count": 0,
   "metadata": {},
   "outputs": [],
   "source": []
  }
 ],
 "metadata": {
  "kernelspec": {
   "display_name": "Python 3 (ipykernel)",
   "language": "python",
   "name": "python3"
  },
  "language_info": {
   "codemirror_mode": {
    "name": "ipython",
    "version": 3
   },
   "file_extension": ".py",
   "mimetype": "text/x-python",
   "name": "python",
   "nbconvert_exporter": "python",
   "pygments_lexer": "ipython3",
   "version": "3.10.9"
  },
  "vscode": {
   "interpreter": {
    "hash": "905157dee2f13a3cacccadce649760b393f3f2922478d7d13fa8fb0100a3ab35"
   }
  }
 },
 "nbformat": 4,
 "nbformat_minor": 4
}