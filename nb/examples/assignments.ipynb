{
 "cells": [
  {
   "cell_type": "code",
   "execution_count": 0,
   "metadata": {},
   "outputs": [],
   "source": [
    "GALAXY = 'umi'\n",
    "\n",
    "OBS_PATH = '/datascope/subaru/data/cmdfit/dSph'\n",
    "HSC_FILE = '/datascope/subaru/data/cmdfit/dSph/umi_tpall3e_g24.cat'\n",
    "GAIA_FILE = '/datascope/subaru/data/cmdfit/dSph/gaia.h5'\n",
    "SKY_FILE = '/datascope/subaru/data/cmdfit/dSph/sky_ursaminor.feather'\n",
    "FLUXSTD_FILE = '/datascope/subaru/data/cmdfit/dSph/fluxstd_ursaminor.feather'\n",
    "MLCLASS_FILE = '/datascope/subaru/data/targeting/dSph/umi/ursaminor_mlclass.csv'\n",
    "PMAP_FILE = '/datascope/subaru/data/cmdfit/run/umi/sim/nobin_chab_nb_250k_001/pmap.h5'\n",
    "OUTPUT_PATH = '/datascope/subaru/user/dobos/netflow'\n",
    "ISOCHRONES_PATH = '/datascope/subaru/data/cmdfit/isochrones/dartmouth/import/afep0_cfht_sdss_hsc'\n",
    "\n",
    "GAIA_CROSSMATCH_RADIUS = 0.1    # in arcsec\n",
    "\n",
    "NVISITS = 6\n",
    "OUTPUT_PATH = f'/datascope/subaru/user/dobos/netflow/{GALAXY}_{NVISITS}_visit'"
   ]
  },
  {
   "cell_type": "code",
   "execution_count": 0,
   "metadata": {},
   "outputs": [],
   "source": [
    "import os, sys\n",
    "from datetime import datetime\n",
    "import numpy as np\n",
    "import pandas as pd\n",
    "import matplotlib as mpl\n",
    "import matplotlib.pyplot as plt\n",
    "from matplotlib.gridspec import GridSpec\n",
    "from matplotlib.colors import LinearSegmentedColormap\n",
    "from matplotlib.patches import Ellipse, Circle\n",
    "from matplotlib.gridspec import GridSpec\n",
    "from scipy.special import logsumexp\n",
    "from scipy.interpolate import interp1d\n",
    "\n",
    "from astropy import wcs\n",
    "from astropy import units as u\n",
    "from astropy.coordinates import Angle, SkyCoord\n",
    "from astropy.time import Time"
   ]
  },
  {
   "cell_type": "code",
   "execution_count": 0,
   "metadata": {},
   "outputs": [],
   "source": [
    "plt.rc('font', size=6) #controls default text size"
   ]
  },
  {
   "cell_type": "markdown",
   "metadata": {},
   "source": [
    "# Set up plotting"
   ]
  },
  {
   "cell_type": "code",
   "execution_count": 0,
   "metadata": {},
   "outputs": [],
   "source": [
    "from pfs.ga.targeting.targets.dsph import *\n",
    "from pfs.ga.targeting.instrument import *\n",
    "from pfs.ga.targeting.diagram import CMD, CCD, FOV, FP, ColorAxis, MagnitudeAxis\n",
    "from pfs.ga.targeting.photometry import Photometry, Magnitude, Color\n",
    "from pfs.ga.targeting.projection import WcsProjection, Pointing\n",
    "from pfs.ga.targeting.netflow import Netflow"
   ]
  },
  {
   "cell_type": "code",
   "execution_count": 0,
   "metadata": {},
   "outputs": [],
   "source": [
    "galaxy = GALAXIES[GALAXY]\n",
    "hsc = galaxy.get_photometry()\n",
    "cmd = galaxy.get_cmd()\n",
    "ccd = galaxy.get_ccd()\n",
    "gaia_cmd = galaxy.get_cmd(Gaia)"
   ]
  },
  {
   "cell_type": "code",
   "execution_count": 0,
   "metadata": {},
   "outputs": [],
   "source": [
    "pointings = galaxy.get_pointings(SubaruPFI)\n",
    "pointing = pointings[0]\n",
    "pointings"
   ]
  },
  {
   "cell_type": "code",
   "execution_count": 0,
   "metadata": {},
   "outputs": [],
   "source": [
    "wcs = WcsProjection(pointing, proj='TAN')\n",
    "wfc = SubaruWFC(pointing)\n",
    "fov = FOV(projection=wcs)\n",
    "fp = FP(wfc)"
   ]
  },
  {
   "cell_type": "markdown",
   "metadata": {},
   "source": [
    "# Load the data"
   ]
  },
  {
   "cell_type": "code",
   "execution_count": 0,
   "metadata": {},
   "outputs": [],
   "source": [
    "from pfs.ga.targeting.data import Observation, Catalog\n",
    "from pfs.ga.targeting.io import TextObservationReader, DataFrameSerializer\n",
    "from pfs.ga.targeting.util.astro import *"
   ]
  },
  {
   "cell_type": "code",
   "execution_count": 0,
   "metadata": {},
   "outputs": [],
   "source": [
    "# obs = SubaruHSC.text_observation_reader().read(HSC_FILE)\n",
    "# obs.data.shape\n",
    "\n",
    "\n",
    "# This could be done nicer with a FeatherObservationReader or similar\n",
    "obs = Observation()\n",
    "obs.append_photometry(SubaruHSC.photometry())\n",
    "fn = os.path.join(OUTPUT_PATH, f'{GALAXY}_obs.feather')\n",
    "obs._set_data(DataFrameSerializer().read(fn))\n",
    "obs.data.shape"
   ]
  },
  {
   "cell_type": "code",
   "execution_count": 0,
   "metadata": {},
   "outputs": [],
   "source": [
    "obs_mask = obs.data['priority'] > 0\n",
    "obs_mask.shape, obs_mask.sum()"
   ]
  },
  {
   "cell_type": "code",
   "execution_count": 0,
   "metadata": {},
   "outputs": [],
   "source": [
    "from pfs.ga.targeting.io import FeatherSkyReader, FeatherFluxStdReader"
   ]
  },
  {
   "cell_type": "code",
   "execution_count": 0,
   "metadata": {},
   "outputs": [],
   "source": [
    "r = FeatherSkyReader()\n",
    "sky = r.read(SKY_FILE)\n",
    "sky.data.shape"
   ]
  },
  {
   "cell_type": "code",
   "execution_count": 0,
   "metadata": {},
   "outputs": [],
   "source": [
    "r = FeatherFluxStdReader()\n",
    "fluxstd = r.read(FLUXSTD_FILE)\n",
    "fluxstd.data.shape"
   ]
  },
  {
   "cell_type": "code",
   "execution_count": 0,
   "metadata": {},
   "outputs": [],
   "source": [
    "cmap = plt.get_cmap('tab10')\n",
    "\n",
    "f = plt.figure(figsize=(3, 3), dpi=240)\n",
    "gs = f.add_gridspec(1, 1)\n",
    "\n",
    "ax = f.add_subplot(gs[0], projection=wcs.wcs)\n",
    "# fov.plot_observation(ax, obs, c='lightgray')\n",
    "fov.plot_observation(ax, obs, c='b')\n",
    "fov.plot_observation(ax, sky, c='lightgray')\n",
    "fov.plot_observation(ax, fluxstd, c='r')\n",
    "\n",
    "pfi = SubaruPFI(instrument_options={ 'layout': 'calibration' })\n",
    "for p in galaxy.get_pointings(SubaruPFI)[:]:\n",
    "    pfi.plot_focal_plane(ax, fov, corners=True, projection=SubaruWFC(p))\n",
    "\n",
    "ax.set_aspect('equal', adjustable='datalim')\n",
    "\n",
    "# f.tight_layout()"
   ]
  },
  {
   "cell_type": "markdown",
   "metadata": {},
   "source": [
    "# Load the assignments"
   ]
  },
  {
   "cell_type": "code",
   "execution_count": 0,
   "metadata": {},
   "outputs": [],
   "source": [
    "from pfs.ga.targeting.io import DataFrameSerializer\n",
    "\n",
    "fn = os.path.join(OUTPUT_PATH, f'{GALAXY}_assignments.feather')\n",
    "\n",
    "s = DataFrameSerializer()\n",
    "assignments = s.read(fn)\n",
    "\n",
    "assignments"
   ]
  },
  {
   "cell_type": "code",
   "execution_count": 0,
   "metadata": {},
   "outputs": [],
   "source": [
    "# Load the summary\n",
    "\n",
    "fn = os.path.join(OUTPUT_PATH, f'{GALAXY}_summary.feather')\n",
    "\n",
    "s = DataFrameSerializer()\n",
    "summary = s.read(fn)\n",
    "\n",
    "summary"
   ]
  },
  {
   "cell_type": "code",
   "execution_count": 0,
   "metadata": {},
   "outputs": [],
   "source": [
    "assignments['RA']"
   ]
  },
  {
   "cell_type": "code",
   "execution_count": 0,
   "metadata": {},
   "outputs": [],
   "source": [
    "# Plot focal plane and sky coordinates\n",
    "\n",
    "# Exclude engineering and not-assigned fibers without coordinates\n",
    "assignments = assignments[assignments['RA'] != 0]\n",
    "\n",
    "f, axs = plt.subplots(1, 2, figsize=(6, 3), dpi=240)\n",
    "\n",
    "axs[0].plot(assignments['fp_x'], assignments['fp_y'], 'o', ms=1, markeredgewidth=0)\n",
    "axs[0].plot(assignments['fp_x'][100], assignments['fp_y'][100], 'or', ms=1, markeredgewidth=0)\n",
    "axs[0].set_aspect('equal', adjustable='datalim')\n",
    "axs[0].set_title(\"Focal plane\")\n",
    "\n",
    "axs[1].plot(assignments['RA'], assignments['Dec'], 'o', ms=1, markeredgewidth=0)\n",
    "axs[1].plot(assignments['RA'][100], assignments['Dec'][100], 'or', ms=1, markeredgewidth=0)\n",
    "# axs[1].set_aspect('equal', adjustable='datalim')\n",
    "axs[1].set_title(\"Sky\")"
   ]
  },
  {
   "cell_type": "markdown",
   "metadata": {},
   "source": [
    "# Statistics"
   ]
  },
  {
   "cell_type": "code",
   "execution_count": 0,
   "metadata": {},
   "outputs": [],
   "source": [
    "from pfs.datamodel import TargetType"
   ]
  },
  {
   "cell_type": "code",
   "execution_count": 0,
   "metadata": {},
   "outputs": [],
   "source": [
    "# Number of unique calibration targets for each visit\n",
    "assignments[assignments['prefix'] == 'cal'].groupby('visit_idx')['targetid'].nunique()"
   ]
  },
  {
   "cell_type": "code",
   "execution_count": 0,
   "metadata": {},
   "outputs": [],
   "source": [
    "# Number of unique sky positions for each visit\n",
    "assignments[assignments['prefix'] == 'sky'].groupby('visit_idx')['targetid'].nunique()"
   ]
  },
  {
   "cell_type": "code",
   "execution_count": 0,
   "metadata": {},
   "outputs": [],
   "source": [
    "# Number of observed unique science targets for each visit\n",
    "assignments[assignments['prefix'] == 'sci'].groupby('visit_idx')['targetid'].nunique()"
   ]
  },
  {
   "cell_type": "code",
   "execution_count": 0,
   "metadata": {},
   "outputs": [],
   "source": [
    "# Total number of unique science targets observed\n",
    "assignments[assignments['prefix'] == 'sci']['targetid'].nunique()"
   ]
  },
  {
   "cell_type": "code",
   "execution_count": 0,
   "metadata": {},
   "outputs": [],
   "source": [
    "# Targets that are partially observed\n",
    "summary[(summary['num_visits'] < summary['req_visits']) & (summary['num_visits'] > 0)]"
   ]
  },
  {
   "cell_type": "code",
   "execution_count": 0,
   "metadata": {},
   "outputs": [],
   "source": [
    "# Science targets that are observed longer than the required number of visits\n",
    "summary[(summary['prefix'] == 'sci') & (summary['num_visits'] > summary['req_visits'])]"
   ]
  },
  {
   "cell_type": "code",
   "execution_count": 0,
   "metadata": {},
   "outputs": [],
   "source": [
    "# Number of unique targets per priority class\n",
    "summary[summary['num_visits'] > 0].groupby('class')['targetid'].nunique()"
   ]
  },
  {
   "cell_type": "code",
   "execution_count": 0,
   "metadata": {},
   "outputs": [],
   "source": [
    "# Number of missed science targets per priority class\n",
    "summary[(summary['prefix'] == 'sci') & (summary['num_visits'] == 0)].groupby('class')['targetid'].nunique()"
   ]
  },
  {
   "cell_type": "code",
   "execution_count": 0,
   "metadata": {},
   "outputs": [],
   "source": [
    "# Number of partially observed science targets per priority class\n",
    "summary[(summary['prefix'] == 'sci') & \n",
    "        (summary['num_visits'] < summary['req_visits']) & \n",
    "        (summary['num_visits'] > 0)].groupby('class')['targetid'].nunique()"
   ]
  },
  {
   "cell_type": "code",
   "execution_count": 0,
   "metadata": {},
   "outputs": [],
   "source": [
    "# Number of unassigned fibers in each visit\n",
    "assignments[assignments['target_type'] == TargetType.UNASSIGNED].groupby('visit_idx')['fiberid'].nunique()"
   ]
  },
  {
   "cell_type": "code",
   "execution_count": 0,
   "metadata": {},
   "outputs": [],
   "source": [
    "np.sort(assignments['pointing_idx'].unique())"
   ]
  },
  {
   "cell_type": "code",
   "execution_count": 0,
   "metadata": {},
   "outputs": [],
   "source": [
    "# Cobra assignments - target index for each cobra\n",
    "cobra_assignments = {}\n",
    "for pidx in np.sort(assignments['pointing_idx'].unique()):\n",
    "    print(f'Pointing #{pidx}')\n",
    "    cobra_assignments[pidx] = []\n",
    "    for vidx in np.sort(assignments[assignments['pointing_idx'] == pidx]['visit_idx'].unique()):\n",
    "        print(f'Visit #{vidx}')\n",
    "        # Only the current visits and only and excl. engineering and empty fibers)\n",
    "        mask = (assignments['visit_idx'] == vidx) & \\\n",
    "               (assignments['pointing_idx'] == pidx) & \\\n",
    "               (assignments['cobraid'] != -1)\n",
    "        \n",
    "        a = np.array(assignments[mask].sort_values('cobraid')[['targetid']])\n",
    "        print(pidx, vidx, a.shape)\n",
    "\n",
    "        cobra_assignments[pidx].append(a)\n",
    "\n",
    "    cobra_assignments[pidx] = np.stack(cobra_assignments[pidx], axis=-1)"
   ]
  },
  {
   "cell_type": "code",
   "execution_count": 0,
   "metadata": {},
   "outputs": [],
   "source": [
    "# Fibers that have moved to another target between visits\n",
    "for pidx in np.sort(assignments['pointing_idx'].unique()):\n",
    "    print(f'Pointing #{pidx}')\n",
    "    \n",
    "    cobra_moved = np.any(np.diff(np.stack(cobra_assignments[pidx], axis=-1), axis=-1) != 0, axis=-1)\n",
    "    print(cobra_moved.shape)\n",
    "\n",
    "    print('number of cobras moving between targets:', cobra_moved.sum())\n",
    "    print('moving cobras:', np.where(cobra_moved)[0])"
   ]
  },
  {
   "cell_type": "code",
   "execution_count": 0,
   "metadata": {},
   "outputs": [],
   "source": [
    "# of unique science targets assigned\n",
    "for pidx in np.sort(assignments['pointing_idx'].unique()):\n",
    "    for vidx in np.sort(assignments[assignments['pointing_idx'] == pidx]['visit_idx'].unique()):\n",
    "        mask = (assignments['visit_idx'] == vidx) & \\\n",
    "               (assignments['pointing_idx'] == pidx) & \\\n",
    "               (assignments['prefix'] == 'sci')\n",
    "        print(f'Pointing #{pidx}, Visit #{vidx}:', assignments[mask]['targetid'].nunique())\n",
    "\n",
    "print('Grand Total:', assignments[assignments['prefix'] == 'sci']['targetid'].nunique())"
   ]
  },
  {
   "cell_type": "code",
   "execution_count": 0,
   "metadata": {},
   "outputs": [],
   "source": [
    "# total # of sky fibers assigned\n",
    "for pidx in np.sort(assignments['pointing_idx'].unique()):\n",
    "    for vidx in np.sort(assignments[assignments['pointing_idx'] == pidx]['visit_idx'].unique()):\n",
    "        mask = (assignments['visit_idx'] == vidx) & \\\n",
    "               (assignments['pointing_idx'] == pidx) & \\\n",
    "               (assignments['prefix'] == 'sky')\n",
    "        print(f'Pointing #{pidx}, Visit #{vidx}:', assignments[mask]['targetid'].nunique())\n",
    "\n",
    "print('Grand Total:', assignments[assignments['prefix'] == 'sky']['targetid'].nunique())"
   ]
  },
  {
   "cell_type": "code",
   "execution_count": 0,
   "metadata": {},
   "outputs": [],
   "source": [
    "# total # of calibration fibers assigned\n",
    "for pidx in np.sort(assignments['pointing_idx'].unique()):\n",
    "    for vidx in np.sort(assignments[assignments['pointing_idx'] == pidx]['visit_idx'].unique()):\n",
    "        mask = (assignments['visit_idx'] == vidx) & \\\n",
    "               (assignments['pointing_idx'] == pidx) & \\\n",
    "               (assignments['prefix'] == 'cal')\n",
    "        print(f'Pointing #{pidx}, Visit #{vidx}:', assignments[mask]['targetid'].nunique())\n",
    "\n",
    "print('Grand Total:', assignments[assignments['prefix'] == 'cal']['targetid'].nunique())"
   ]
  },
  {
   "cell_type": "markdown",
   "metadata": {},
   "source": [
    "# Plot cobra assignments"
   ]
  },
  {
   "cell_type": "code",
   "execution_count": 0,
   "metadata": {},
   "outputs": [],
   "source": [
    "# Get a mask of HSC objects that are targeted\n",
    "\n",
    "# The Netflow class actually has a function to return these but we\n",
    "# don't want to spin up Netflow in this notebook\n",
    "\n",
    "obs_assignments = {}\n",
    "obs_assigned = None\n",
    "\n",
    "sky_assignments = {}\n",
    "fluxstd_assignments = {}\n",
    "\n",
    "for pidx in np.sort(assignments['pointing_idx'].unique()):\n",
    "    for vidx in np.sort(assignments[assignments['pointing_idx'] == pidx]['visit_idx'].unique()):\n",
    "        mask = (assignments['visit_idx'] == vidx) & \\\n",
    "               (assignments['pointing_idx'] == pidx)\n",
    "        \n",
    "        a = obs.data[['objid']].join(assignments[mask].set_index('targetid'), on='objid')\n",
    "        a = np.array(~pd.isna(a['fiberid']))\n",
    "        obs_assignments[vidx] = a\n",
    "        obs_assigned = a if obs_assigned is None else obs_assigned | a\n",
    "\n",
    "        a = sky.data[['skyid']].join(assignments[mask].set_index('targetid'), on='skyid')\n",
    "        a = np.array(~pd.isna(a['fiberid']))\n",
    "        sky_assignments[vidx] = a\n",
    "\n",
    "        a = fluxstd.data[['objid']].join(assignments[mask].set_index('targetid'), on='objid')\n",
    "        a = np.array(~pd.isna(a['fiberid']))\n",
    "        fluxstd_assignments[vidx] = a\n",
    "\n",
    "obs.data.shape, obs_assigned.shape, obs_assigned.sum()"
   ]
  },
  {
   "cell_type": "code",
   "execution_count": 0,
   "metadata": {},
   "outputs": [],
   "source": [
    "# Plot distribution of priorities\n",
    "\n",
    "f, ax = plt.subplots(1, 1, figsize=(3.5, 2.5), dpi=240)\n",
    "\n",
    "hist = np.bincount(obs.data['priority'][obs_mask])\n",
    "ax.bar(np.arange(hist.size - 1), hist[:-1])\n",
    "\n",
    "hist = np.bincount(obs.data['priority'][obs_assigned & (obs.data['priority'] >= 0) & (obs.data['priority'] < 9)])\n",
    "ax.bar(np.arange(hist.size), hist, color='r')\n",
    "\n",
    "\n",
    "ax.set_title('Priority class number distribution')\n",
    "ax.set_xlabel('Priority class')\n",
    "ax.set_ylabel('Target count')\n"
   ]
  },
  {
   "cell_type": "code",
   "execution_count": 0,
   "metadata": {},
   "outputs": [],
   "source": [
    "# Plot distribution of required visits\n",
    "\n",
    "f, ax = plt.subplots(1, 1, figsize=(3.5, 2.5), dpi=240)\n",
    "\n",
    "hist = np.bincount((np.ceil(obs.data['exp_time'][obs_mask & (obs.data['priority'][obs_mask] < 9)] / 1800.0)).astype(int))\n",
    "ax.bar(np.arange(hist.size), hist)\n",
    "\n",
    "hist = np.bincount((np.ceil(obs.data['exp_time'][obs_assigned & (obs.data['priority'] >= 0) & (obs.data['priority'] < 9)] / 1800.0)).astype(int))\n",
    "ax.bar(np.arange(hist.size), hist, color='r')\n",
    "\n",
    "\n",
    "ax.set_title('Distribution of required visit (t_exp = 1800 s)')\n",
    "ax.set_xlabel('Number of required visits')\n",
    "ax.set_ylabel('Target count')\n"
   ]
  },
  {
   "cell_type": "code",
   "execution_count": 0,
   "metadata": {},
   "outputs": [],
   "source": [
    "# Make a plot that shows the difference of a single design vs moving fiber design"
   ]
  },
  {
   "cell_type": "code",
   "execution_count": 0,
   "metadata": {},
   "outputs": [],
   "source": [
    "np.bincount(obs.data['exp_time'][(obs.data['priority'] >= 0) & (obs.data['priority'] < 9)] / 1800)"
   ]
  },
  {
   "cell_type": "code",
   "execution_count": 0,
   "metadata": {},
   "outputs": [],
   "source": [
    "np.bincount(np.ceil(obs.data['exp_time'][(obs.data['priority'] >= 0) & (obs.data['priority'] < 9)] / 1800))"
   ]
  },
  {
   "cell_type": "code",
   "execution_count": 0,
   "metadata": {},
   "outputs": [],
   "source": [
    "hist = np.bincount(np.ceil(obs.data['exp_time'][(obs.data['priority'] >= 0) & (obs.data['priority'] < 9)] / 1800))\n",
    "plt.bar(np.arange(hist.size), hist)\n",
    "\n",
    "hist = np.bincount(np.ceil(obs.data['exp_time'][obs_assigned & (obs.data['priority'] >= 0) & (obs.data['priority'] < 9)] / 1800))\n",
    "plt.bar(np.arange(hist.size), hist, color='r')\n",
    "\n",
    "plt.title('Distribution of required visit')"
   ]
  },
  {
   "cell_type": "code",
   "execution_count": 0,
   "metadata": {},
   "outputs": [],
   "source": [
    "cmap = plt.get_cmap('tab10')\n",
    "\n",
    "f = plt.figure(figsize=(8, 3), dpi=240)\n",
    "gs = f.add_gridspec(1, 3, width_ratios=[2, 2, 4], wspace=0.4)   \n",
    "\n",
    "axs = [None, None, None]\n",
    "ax = axs[0] = f.add_subplot(gs[0])\n",
    "cmd.plot_observation(ax, obs, c='lightgray')\n",
    "\n",
    "ax = axs[1] = f.add_subplot(gs[1])\n",
    "ccd.plot_observation(ax, obs, c='lightgray')\n",
    "\n",
    "ax = axs[2] = f.add_subplot(gs[2], projection=wcs.wcs)\n",
    "fov.plot_observation(ax, obs, c='lightgray')\n",
    "\n",
    "cmd.plot_observation(axs[0], obs, c=obs.data['priority'][obs_assigned], mask=obs_assigned, cmap=cmap)\n",
    "ccd.plot_observation(axs[1], obs, c=obs.data['priority'][obs_assigned], mask=obs_assigned, cmap=cmap)\n",
    "l = fov.plot_observation(axs[2], obs, c=obs.data['priority'][obs_assigned], size=0.5, mask=obs_assigned, cmap=cmap)\n",
    "\n",
    "f.colorbar(l, ax=axs[2], label='target priority')\n",
    "\n",
    "f.suptitle(f'Observed stars')"
   ]
  },
  {
   "cell_type": "code",
   "execution_count": 0,
   "metadata": {},
   "outputs": [],
   "source": [
    "cmap = plt.get_cmap('tab10')\n",
    "\n",
    "f = plt.figure(figsize=(8, 3), dpi=240)\n",
    "gs = f.add_gridspec(1, 3, width_ratios=[2, 2, 3], wspace=0.4)   \n",
    "\n",
    "ax = f.add_subplot(gs[2], projection=wcs.wcs)\n",
    "fov.plot_observation(ax, obs, c='lightgray')\n",
    "\n",
    "for pidx in np.sort(assignments['pointing_idx'].unique()):\n",
    "    for vidx in np.sort(assignments[assignments['pointing_idx'] == pidx]['visit_idx'].unique()):\n",
    "        fov.plot_observation(ax, sky, c='b', mask=sky_assignments[vidx], size=0.5, cmap=cmap)\n",
    "        fov.plot_observation(ax, fluxstd, c='r', mask=fluxstd_assignments[vidx], size=0.5, cmap=cmap)\n",
    "        fov.plot_observation(ax, obs, c='k', mask=obs_assignments[vidx], size=0.2, cmap=cmap)\n",
    "\n",
    "f.suptitle(f'Fiber assignments')"
   ]
  },
  {
   "cell_type": "code",
   "execution_count": 0,
   "metadata": {},
   "outputs": [],
   "source": [
    "cmap = plt.get_cmap('tab10')\n",
    "\n",
    "for pidx in np.sort(assignments['pointing_idx'].unique()):\n",
    "    for vidx in np.sort(assignments[assignments['pointing_idx'] == pidx]['visit_idx'].unique()):\n",
    "        f = plt.figure(figsize=(8, 3), dpi=240)\n",
    "        gs = f.add_gridspec(1, 3, width_ratios=[2, 2, 3], wspace=0.4)   \n",
    "\n",
    "        ax = f.add_subplot(gs[0])\n",
    "        cmd.plot_observation(ax, obs, c='lightgray')\n",
    "        cmd.plot_observation(ax, obs, c=obs.data['priority'][obs_assignments[vidx]], mask=obs_assignments[vidx], cmap=cmap)\n",
    "\n",
    "        ax = f.add_subplot(gs[1])\n",
    "        ccd.plot_observation(ax, obs, c='lightgray')\n",
    "        ccd.plot_observation(ax, obs, c=obs.data['priority'][obs_assignments[vidx]], mask=obs_assignments[vidx], cmap=cmap)\n",
    "\n",
    "        ax = f.add_subplot(gs[2], projection=wcs.wcs)\n",
    "        fov.plot_observation(ax, obs, c='lightgray')\n",
    "        fov.plot_observation(ax, obs, c=obs.data['priority'][obs_assignments[vidx]], mask=obs_assignments[vidx], cmap=cmap)\n",
    "\n",
    "        f.suptitle(f'Pointing {pidx}, Visit {vidx}')"
   ]
  },
  {
   "cell_type": "code",
   "execution_count": 0,
   "metadata": {},
   "outputs": [],
   "source": [
    "cmap = plt.get_cmap('tab10')\n",
    "\n",
    "for pidx in np.sort(assignments['pointing_idx'].unique()):\n",
    "    for vidx in np.sort(assignments[assignments['pointing_idx'] == pidx]['visit_idx'].unique()):\n",
    "        f = plt.figure(figsize=(8, 3), dpi=240)\n",
    "        gs = f.add_gridspec(1, 3, width_ratios=[2, 2, 3], wspace=0.4)   \n",
    "\n",
    "        ax = f.add_subplot(gs[2], projection=wcs.wcs)\n",
    "        fov.plot_observation(ax, obs, c='lightgray')\n",
    "        fov.plot_catalog(ax, sky, c='b', mask=sky_assignments[vidx], size=2, cmap=cmap)\n",
    "        fov.plot_catalog(ax, fluxstd, c='r', mask=fluxstd_assignments[vidx], size=2, cmap=cmap)\n",
    "        fov.plot_observation(ax, obs, c='k', mask=obs_assignments[vidx], size=0.5, cmap=cmap)\n",
    "\n",
    "        f.suptitle(f'Pointing {pidx}, Visit {vidx}')"
   ]
  },
  {
   "cell_type": "code",
   "execution_count": 0,
   "metadata": {},
   "outputs": [],
   "source": [
    "cmap = plt.get_cmap('tab10')\n",
    "\n",
    "f = plt.figure(figsize=(8, 3), dpi=240)\n",
    "gs = f.add_gridspec(1, 3, width_ratios=[2, 2, 3], wspace=0.4)   \n",
    "ax = f.add_subplot(gs[2], projection=wcs.wcs)\n",
    "\n",
    "fov.plot_observation(ax, obs, c='lightgray')\n",
    "\n",
    "for pidx in np.sort(assignments['pointing_idx'].unique()):\n",
    "    for vidx in np.sort(assignments[assignments['pointing_idx'] == pidx]['visit_idx'].unique()):\n",
    "\n",
    "        fov.plot_catalog(ax, sky, c='b', mask=sky_assignments[vidx], size=0.5, cmap=cmap)\n",
    "        fov.plot_catalog(ax, fluxstd, c='r', mask=fluxstd_assignments[vidx], size=0.5, cmap=cmap)\n",
    "        fov.plot_observation(ax, obs, c='k', mask=obs_assignments[vidx], size=0.5, cmap=cmap)\n",
    "\n",
    "        # f.suptitle(f'Pointing {pidx}, Visit {vidx}')"
   ]
  },
  {
   "cell_type": "code",
   "execution_count": 0,
   "metadata": {},
   "outputs": [],
   "source": []
  }
 ],
 "metadata": {
  "kernelspec": {
   "display_name": "dobos-torch",
   "language": "python",
   "name": "python3"
  },
  "language_info": {
   "codemirror_mode": {
    "name": "ipython",
    "version": 3
   },
   "file_extension": ".py",
   "mimetype": "text/x-python",
   "name": "python",
   "nbconvert_exporter": "python",
   "pygments_lexer": "ipython3",
   "version": "3.10.15"
  }
 },
 "nbformat": 4,
 "nbformat_minor": 2
}