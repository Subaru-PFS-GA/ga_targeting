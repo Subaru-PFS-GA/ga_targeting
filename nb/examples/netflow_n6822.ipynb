{
 "cells": [
  {
   "cell_type": "code",
   "execution_count": 0,
   "metadata": {},
   "outputs": [],
   "source": [
    "GALAXY = 'ngc6822'\n",
    "GALAXYFULLNAME = 'ngc6822'\n",
    "USER = 'dobos'\n",
    "PREFIX = '/datascope/subaru'\n",
    "USEPMAP = False\n",
    "\n",
    "#date of observation\n",
    "YEAR = 2025\n",
    "MONTH = 7\n",
    "DAY = 1\n",
    "\n",
    "OBS_PATH = f'{PREFIX}/data/cmdfit/dSph'\n",
    "HSC_FILE = f'{PREFIX}/data/cmdfit/dSph/{GALAXY}_tpall3e_g24.cat'\n",
    "GAIA_FILE = f'{PREFIX}/data/cmdfit/dSph/gaia.h5'\n",
    "SKY_FILE = f'{PREFIX}/data/cmdfit/dSph/sky_{GALAXYFULLNAME}.feather'\n",
    "FLUXSTD_FILE = f'{PREFIX}/data/cmdfit/dSph/fluxstd_{GALAXYFULLNAME}.feather'\n",
    "MLCLASS_FILE = f'{PREFIX}/data/targeting/dSph/{GALAXY}/{GALAXYFULLNAME}_mlclass.csv'\n",
    "PMAP_FILE = f'{PREFIX}/data/cmdfit/run/{GALAXY}/sim/nobin_chab_nb_250k_001/pmap.h5'\n",
    "OUTPUT_PATH = f'{PREFIX}/user/{USER}/netflow'\n",
    "ISOCHRONES_PATH = f'{PREFIX}/data/cmdfit/isochrones/dartmouth/import/afep0_cfht_sdss_hsc'\n",
    "\n",
    "GAIA_CROSSMATCH_RADIUS = 0.1    # in arcsec\n",
    "\n",
    "NVISITS = 1\n",
    "OUTPUT_PATH = f'{PREFIX}/user/{USER}/netflow/{GALAXY}_{NVISITS}_visit'"
   ]
  },
  {
   "cell_type": "code",
   "execution_count": 0,
   "metadata": {},
   "outputs": [],
   "source": [
    "import os, sys\n",
    "from datetime import datetime\n",
    "import numpy as np\n",
    "import pandas as pd\n",
    "import matplotlib as mpl\n",
    "import matplotlib.pyplot as plt\n",
    "from matplotlib.gridspec import GridSpec\n",
    "from matplotlib.colors import LinearSegmentedColormap\n",
    "from matplotlib.patches import Ellipse, Circle\n",
    "from matplotlib.gridspec import GridSpec\n",
    "from scipy.special import logsumexp\n",
    "from scipy.interpolate import interp1d\n",
    "\n",
    "from astropy import wcs\n",
    "from astropy import units as u\n",
    "from astropy.coordinates import Angle, SkyCoord\n",
    "from astropy.time import Time"
   ]
  },
  {
   "cell_type": "code",
   "execution_count": 0,
   "metadata": {},
   "outputs": [],
   "source": [
    "plt.rc('font', size=6) #controls default text size"
   ]
  },
  {
   "cell_type": "code",
   "execution_count": 0,
   "metadata": {},
   "outputs": [],
   "source": [
    "if 'debug' not in globals():\n",
    "    import debugpy\n",
    "    debugpy.listen(('0.0.0.0', 5698))\n",
    "    debug = True"
   ]
  },
  {
   "cell_type": "code",
   "execution_count": 0,
   "metadata": {},
   "outputs": [],
   "source": [
    "%load_ext autoreload"
   ]
  },
  {
   "cell_type": "code",
   "execution_count": 0,
   "metadata": {},
   "outputs": [],
   "source": [
    "%autoreload 2"
   ]
  },
  {
   "cell_type": "markdown",
   "metadata": {},
   "source": [
    "# Compile data"
   ]
  },
  {
   "cell_type": "markdown",
   "metadata": {},
   "source": [
    "## Plot definitions"
   ]
  },
  {
   "cell_type": "code",
   "execution_count": 0,
   "metadata": {},
   "outputs": [],
   "source": [
    "import pfs.utils\n",
    "from pfs.ga.targeting.targets.dsph import *\n",
    "from pfs.ga.targeting.instrument import *\n",
    "from pfs.ga.targeting.diagram import CMD, CCD, FOV, FP, ColorAxis, MagnitudeAxis\n",
    "from pfs.ga.targeting.photometry import Photometry, Magnitude, Color\n",
    "from pfs.ga.targeting.projection import WcsProjection, Pointing\n",
    "from pfs.ga.targeting.netflow import Netflow\n",
    "from pfs.ga.targeting.io import DataFrameSerializer"
   ]
  },
  {
   "cell_type": "code",
   "execution_count": 0,
   "metadata": {},
   "outputs": [],
   "source": [
    "galaxy = GALAXIES[GALAXY]\n",
    "hsc = galaxy.get_photometry()\n",
    "cmd = galaxy.get_cmd()\n",
    "ccd = galaxy.get_ccd()\n",
    "gaia_cmd = galaxy.get_cmd(Gaia)"
   ]
  },
  {
   "cell_type": "code",
   "execution_count": 0,
   "metadata": {},
   "outputs": [],
   "source": [
    "pointings = galaxy.get_pointings(SubaruPFI)\n",
    "pointing = pointings[0]\n",
    "\n",
    "for p in pointings:\n",
    "    print(p.ra, p.dec, p.posang)"
   ]
  },
  {
   "cell_type": "code",
   "execution_count": 0,
   "metadata": {},
   "outputs": [],
   "source": [
    "wcs = WcsProjection(pointing, proj='TAN')\n",
    "wfc = SubaruWFC(pointing)\n",
    "fov = FOV(projection=wcs)\n",
    "fp = FP(wfc)"
   ]
  },
  {
   "cell_type": "markdown",
   "metadata": {},
   "source": [
    "## Load isochrones"
   ]
  },
  {
   "cell_type": "code",
   "execution_count": 0,
   "metadata": {},
   "outputs": [],
   "source": [
    "from pfs.ga.isochrones.isogrid import IsoGrid"
   ]
  },
  {
   "cell_type": "code",
   "execution_count": 0,
   "metadata": {},
   "outputs": [],
   "source": [
    "iso = IsoGrid()\n",
    "iso.load(os.path.join(ISOCHRONES_PATH, 'isochrones.h5'))"
   ]
  },
  {
   "cell_type": "code",
   "execution_count": 0,
   "metadata": {},
   "outputs": [],
   "source": [
    "iso.values.keys()"
   ]
  },
  {
   "cell_type": "markdown",
   "metadata": {},
   "source": [
    "## Load probability map"
   ]
  },
  {
   "cell_type": "code",
   "execution_count": 0,
   "metadata": {},
   "outputs": [],
   "source": [
    "from pfs.ga.targeting import ProbabilityMap\n",
    "from pfs.ga.targeting.selection import ProbabilityCut, ProbabilitySampling"
   ]
  },
  {
   "cell_type": "code",
   "execution_count": 0,
   "metadata": {},
   "outputs": [],
   "source": [
    "if USEPMAP:\n",
    "    pmap = ProbabilityMap(cmd.axes)\n",
    "    pmap.load(PMAP_FILE)"
   ]
  },
  {
   "cell_type": "code",
   "execution_count": 0,
   "metadata": {},
   "outputs": [],
   "source": [
    "if USEPMAP:\n",
    "    f, axs = plt.subplots(1, 2, figsize=(6, 4), dpi=120)\n",
    "\n",
    "    l0 = cmd.plot_probability_map(axs[0], pmap, 0)\n",
    "    axs[0].set_title(\"non-member\")\n",
    "\n",
    "    l1 = cmd.plot_probability_map(axs[1], pmap, 1)\n",
    "    axs[0].set_title(\"member\")\n",
    "\n",
    "    f.tight_layout()"
   ]
  },
  {
   "cell_type": "code",
   "execution_count": 0,
   "metadata": {},
   "outputs": [],
   "source": [
    "if USEPMAP:\n",
    "    # Define a cut based on probability\n",
    "\n",
    "    probcut = ProbabilityCut(pmap, 1, np.log(0.001))"
   ]
  },
  {
   "cell_type": "markdown",
   "metadata": {},
   "source": [
    "## Load observations"
   ]
  },
  {
   "cell_type": "code",
   "execution_count": 0,
   "metadata": {},
   "outputs": [],
   "source": [
    "from pfs.ga.targeting.io import TextObservationReader\n",
    "from pfs.ga.targeting.util.astro import *"
   ]
  },
  {
   "cell_type": "code",
   "execution_count": 0,
   "metadata": {},
   "outputs": [],
   "source": [
    "obs = SubaruHSC.text_observation_reader().read(HSC_FILE)\n",
    "obs.data.shape"
   ]
  },
  {
   "cell_type": "code",
   "execution_count": 0,
   "metadata": {},
   "outputs": [],
   "source": [
    "obs.data.columns"
   ]
  },
  {
   "cell_type": "markdown",
   "metadata": {},
   "source": [
    "### Plot observations with color cuts"
   ]
  },
  {
   "cell_type": "code",
   "execution_count": 0,
   "metadata": {},
   "outputs": [],
   "source": [
    "cmap = plt.get_cmap('tab10')\n",
    "\n",
    "mask = galaxy.get_selection_mask(obs, nb=True)\n",
    "\n",
    "f = plt.figure(figsize=(8, 3), dpi=240)\n",
    "gs = f.add_gridspec(1, 3, width_ratios=[2, 2, 3], wspace=0.4)   \n",
    "\n",
    "ax = f.add_subplot(gs[0])\n",
    "cmd.plot_observation(ax, obs, c='lightgray')\n",
    "cmd.plot_observation(ax, obs, c='r', mask=mask, cmap=cmap)\n",
    "\n",
    "ax = f.add_subplot(gs[1])\n",
    "ccd.plot_observation(ax, obs, c='lightgray')\n",
    "ccd.plot_observation(ax, obs, c='r', mask=mask, cmap=cmap)\n",
    "\n",
    "ax = f.add_subplot(gs[2], projection=wcs.wcs)\n",
    "fov.plot_observation(ax, obs, c='lightgray')\n",
    "fov.plot_observation(ax, obs, c='r', mask=mask, cmap=cmap)\n",
    "\n",
    "f.suptitle('Stars selected based on color cuts.')"
   ]
  },
  {
   "cell_type": "markdown",
   "metadata": {},
   "source": [
    "## Get GAIA data"
   ]
  },
  {
   "cell_type": "code",
   "execution_count": 0,
   "metadata": {},
   "outputs": [],
   "source": [
    "from pfs.ga.targeting.io import Hdf5ObservationReader, Hdf5ObservationWriter, GaiaReader"
   ]
  },
  {
   "cell_type": "code",
   "execution_count": 0,
   "metadata": {},
   "outputs": [],
   "source": [
    "if os.path.isfile(GAIA_FILE):\n",
    "    print('GAIA data file found, read from local.')\n",
    "    r = Hdf5ObservationReader()\n",
    "    gaia = r.read(GAIA_FILE, GALAXY, 'gaia')\n",
    "    gaia.frame = 'icrs'\n",
    "    gaia.equinox = 'J2015'\n",
    "    print(gaia.data.shape)\n",
    "else:\n",
    "    print('GAIA data file not found, running query against archive.')\n",
    "    r = GaiaReader()\n",
    "    gaia = r.cone_search(galaxy.pos, galaxy.rad)\n",
    "    print(gaia.data.shape)\n",
    "\n",
    "    w = Hdf5ObservationWriter()\n",
    "    w.write(gaia, GAIA_FILE, GALAXY, 'gaia')"
   ]
  },
  {
   "cell_type": "code",
   "execution_count": 0,
   "metadata": {},
   "outputs": [],
   "source": [
    "gaia.data.columns"
   ]
  },
  {
   "cell_type": "code",
   "execution_count": 0,
   "metadata": {},
   "outputs": [],
   "source": [
    "# Cross-match HSC with GAIA\n",
    "gaia_idx, separation = obs.cross_match(gaia)\n",
    "print('median separation', np.median(separation.arcsec))\n",
    "hsc_gaia_mask = (separation.arcsec < GAIA_CROSSMATCH_RADIUS)\n",
    "print(hsc_gaia_mask.sum())"
   ]
  },
  {
   "cell_type": "code",
   "execution_count": 0,
   "metadata": {},
   "outputs": [],
   "source": [
    "# Cross-match HSC with GAIA\n",
    "hsc_idx, separation = gaia.cross_match(obs)\n",
    "print('median separation', np.median(separation.arcsec))\n",
    "gaia_hsc_mask = (separation.arcsec < GAIA_CROSSMATCH_RADIUS)\n",
    "print(gaia_hsc_mask.sum())"
   ]
  },
  {
   "cell_type": "code",
   "execution_count": 0,
   "metadata": {},
   "outputs": [],
   "source": [
    "cmap = plt.get_cmap('tab10')\n",
    "\n",
    "f = plt.figure(figsize=(6, 3), dpi=240)\n",
    "gs = f.add_gridspec(1, 2, width_ratios=[2, 3], wspace=0.4)   \n",
    "\n",
    "ax = f.add_subplot(gs[0])\n",
    "gaia_cmd.plot_observation(ax, gaia, c='lightgray')\n",
    "gaia_cmd.plot_observation(ax, gaia, c='r', mask=gaia_hsc_mask, cmap=cmap)\n",
    "\n",
    "ax = f.add_subplot(gs[1], projection=wcs.wcs)\n",
    "fov.plot_observation(ax, gaia, c='lightgray')\n",
    "fov.plot_observation(ax, gaia, c='r', mask=gaia_hsc_mask, cmap=cmap)\n",
    "\n",
    "f.suptitle('GAIA stars with HSC counterparts within 1\"')"
   ]
  },
  {
   "cell_type": "code",
   "execution_count": 0,
   "metadata": {},
   "outputs": [],
   "source": [
    "cmap = plt.get_cmap('viridis')\n",
    "\n",
    "f = plt.figure(figsize=(8, 3), dpi=240)\n",
    "gs = f.add_gridspec(1, 3, width_ratios=[2, 2, 3], wspace=0.4)   \n",
    "\n",
    "ax = f.add_subplot(gs[0])\n",
    "cmd.plot_observation(ax, obs, c='lightgray')\n",
    "cmd.plot_observation(ax, obs, c='r', mask=hsc_gaia_mask, cmap=cmap)\n",
    "\n",
    "ax = f.add_subplot(gs[1])\n",
    "ccd.plot_observation(ax, obs, c='lightgray')\n",
    "ccd.plot_observation(ax, obs, c='r', mask=hsc_gaia_mask, cmap=cmap)\n",
    "\n",
    "ax = f.add_subplot(gs[2], projection=wcs.wcs)\n",
    "fov.plot_observation(ax, obs, c='lightgray')\n",
    "fov.plot_observation(ax, obs, c='r', mask=hsc_gaia_mask, cmap=cmap)\n",
    "\n",
    "f.suptitle('HSC stars with GAIA counterparts within 1\"')"
   ]
  },
  {
   "cell_type": "markdown",
   "metadata": {},
   "source": [
    "## Merge Gaia proper motions into HSC catalog"
   ]
  },
  {
   "cell_type": "code",
   "execution_count": 0,
   "metadata": {},
   "outputs": [],
   "source": [
    "# Cross-match HSC with GAIA\n",
    "hsc_gaia_idx, separation = obs.cross_match(gaia)\n",
    "print('median separation', np.median(separation.arcsec))\n",
    "hsc_gaia_mask = (separation.arcsec < 1)\n",
    "\n",
    "hsc_gaia_mask.shape, hsc_gaia_mask.sum()"
   ]
  },
  {
   "cell_type": "code",
   "execution_count": 0,
   "metadata": {},
   "outputs": [],
   "source": [
    "gaia.data.columns"
   ]
  },
  {
   "cell_type": "code",
   "execution_count": 0,
   "metadata": {},
   "outputs": [],
   "source": [
    "columns = ['parallax', 'pm', 'pmdec', 'pmra', 'err_parallax', 'err_pmdec', 'err_pmra']\n",
    "obs.merge(gaia, hsc_gaia_idx, columns=columns, mask=hsc_gaia_mask)"
   ]
  },
  {
   "cell_type": "code",
   "execution_count": 0,
   "metadata": {},
   "outputs": [],
   "source": [
    "obs.data.columns"
   ]
  },
  {
   "cell_type": "markdown",
   "metadata": {},
   "source": [
    "## Assign probabilities"
   ]
  },
  {
   "cell_type": "code",
   "execution_count": 0,
   "metadata": {},
   "outputs": [],
   "source": [
    "# Hard cuts on magnitudes\n",
    "\n",
    "selection = galaxy.get_selection_mask(obs, nb=True) #, probcut=probcut)\n",
    "obs.data.shape, selection.size, selection.sum()"
   ]
  },
  {
   "cell_type": "code",
   "execution_count": 0,
   "metadata": {},
   "outputs": [],
   "source": [
    "# Look up membership probability\n",
    "\n",
    "#galaxy.assign_probabilities(obs, pmap, mask=selection)\n",
    "obs.data['p_member'] = 1\n",
    "(~np.isnan(obs.data['p_member'])).sum()"
   ]
  },
  {
   "cell_type": "code",
   "execution_count": 0,
   "metadata": {},
   "outputs": [],
   "source": [
    "cmap = plt.get_cmap('viridis')\n",
    "\n",
    "mask = selection & ~np.isnan(obs.data['p_member'])\n",
    "\n",
    "f = plt.figure(figsize=(8, 3), dpi=240)\n",
    "gs = f.add_gridspec(1, 3, width_ratios=[2, 2, 4], wspace=0.4)   \n",
    "\n",
    "ax = f.add_subplot(gs[0])\n",
    "cmd.plot_observation(ax, obs, c='lightgray')\n",
    "cmd.plot_observation(ax, obs, c=obs.data['p_member'][mask], mask=mask, cmap=cmap)\n",
    "\n",
    "ax = f.add_subplot(gs[1])\n",
    "ccd.plot_observation(ax, obs, c='lightgray')\n",
    "ccd.plot_observation(ax, obs, c=obs.data['p_member'][mask], mask=mask, cmap=cmap)\n",
    "\n",
    "ax = f.add_subplot(gs[2], projection=wcs.wcs)\n",
    "fov.plot_observation(ax, obs, c='lightgray')\n",
    "l = fov.plot_observation(ax, obs, c=obs.data['p_member'][mask], mask=mask, cmap=cmap)\n",
    "\n",
    "f.colorbar(l, ax=ax, label='membership probability')\n",
    "\n",
    "f.suptitle('Stars selected by color cuts, colored by membersphip probability')"
   ]
  },
  {
   "cell_type": "code",
   "execution_count": 0,
   "metadata": {},
   "outputs": [],
   "source": [
    "hist, bins = np.histogram(obs.data['p_member'][mask])\n",
    "plt.step(0.5 * (bins[1:] + bins[:-1]), hist, where='mid')\n",
    "plt.xlabel('p')\n",
    "plt.ylabel('frequency')\n",
    "plt.title('Distribution of membership probability')"
   ]
  },
  {
   "cell_type": "markdown",
   "metadata": {},
   "source": [
    "## Assign priorities"
   ]
  },
  {
   "cell_type": "code",
   "execution_count": 0,
   "metadata": {},
   "outputs": [],
   "source": [
    "# Calculate priorities and required exposure time\n",
    "# This is implemented differently for every galaxy\n",
    "\n",
    "galaxy.assign_priorities(obs, mask=None) # , mask=selection)\n",
    "obs.data['priority'].unique()"
   ]
  },
  {
   "cell_type": "code",
   "execution_count": 0,
   "metadata": {},
   "outputs": [],
   "source": [
    "obs.data['exp_time']"
   ]
  },
  {
   "cell_type": "code",
   "execution_count": 0,
   "metadata": {},
   "outputs": [],
   "source": [
    "cmap = plt.get_cmap('tab10')\n",
    "\n",
    "obs_mask = obs.data['priority'] >= 0\n",
    "\n",
    "f = plt.figure(figsize=(8, 3), dpi=240)\n",
    "gs = f.add_gridspec(1, 3, width_ratios=[2, 2, 4], wspace=0.4)   \n",
    "\n",
    "ax = f.add_subplot(gs[0])\n",
    "cmd.plot_observation(ax, obs, c='lightgray')\n",
    "cmd.plot_observation(ax, obs, c=obs.data['priority'][obs_mask], mask=obs_mask, cmap=cmap)\n",
    "\n",
    "ax = f.add_subplot(gs[1])\n",
    "ccd.plot_observation(ax, obs, c='lightgray')\n",
    "ccd.plot_observation(ax, obs, c=obs.data['priority'][obs_mask], mask=obs_mask, cmap=cmap)\n",
    "\n",
    "ax = f.add_subplot(gs[2], projection=wcs.wcs)\n",
    "fov.plot_observation(ax, obs, c='lightgray')\n",
    "l = fov.plot_observation(ax, obs, c=obs.data['priority'][obs_mask], mask=obs_mask, cmap=cmap)\n",
    "\n",
    "f.colorbar(l, ax=ax, label='target priority')\n",
    "\n",
    "f.suptitle('Priority class')"
   ]
  },
  {
   "cell_type": "code",
   "execution_count": 0,
   "metadata": {},
   "outputs": [],
   "source": [
    "obs_mask.size, obs_mask.sum()"
   ]
  },
  {
   "cell_type": "code",
   "execution_count": 0,
   "metadata": {},
   "outputs": [],
   "source": [
    "# Plot distribution of priorities\n",
    "\n",
    "f, ax = plt.subplots(1, 1, figsize=(3.5, 2.5), dpi=240)\n",
    "\n",
    "hist = np.bincount(obs.data['priority'][obs_mask])\n",
    "ax.bar(np.arange(hist.size - 1), hist[:-1])\n",
    "\n",
    "# hist = np.bincount(obs.data['priority'][obs_assigned & (obs.data['priority'] >= 0) & (obs.data['priority'] < 9)])\n",
    "# plt.bar(np.arange(hist.size), hist, color='r')\n",
    "\n",
    "\n",
    "ax.set_title('Priority class number distribution')\n",
    "ax.set_xlabel('Priority class')\n",
    "ax.set_ylabel('Target count')\n"
   ]
  },
  {
   "cell_type": "code",
   "execution_count": 0,
   "metadata": {},
   "outputs": [],
   "source": [
    "# Plot distribution of required visits\n",
    "\n",
    "f, ax = plt.subplots(1, 1, figsize=(3.5, 2.5), dpi=240)\n",
    "\n",
    "hist = np.bincount((np.ceil(obs.data['exp_time'][obs_mask & (obs.data['priority'][obs_mask] < 9)] / 1800.0)).astype(int))\n",
    "ax.bar(np.arange(hist.size), hist)\n",
    "\n",
    "# hist = np.bincount(obs.data['priority'][obs_assigned & (obs.data['priority'] >= 0) & (obs.data['priority'] < 9)])\n",
    "# plt.bar(np.arange(hist.size), hist, color='r')\n",
    "\n",
    "\n",
    "ax.set_title('Distribution of required visit (t_exp = 1800 s)')\n",
    "ax.set_xlabel('Number of required visits')\n",
    "ax.set_ylabel('Target count')\n"
   ]
  },
  {
   "cell_type": "code",
   "execution_count": 0,
   "metadata": {},
   "outputs": [],
   "source": [
    "# Save the catalog with p_member and priority\n",
    "\n",
    "fn = os.path.join(OUTPUT_PATH, f'{GALAXY}_obs.feather')\n",
    "print(fn)\n",
    "\n",
    "s = DataFrameSerializer()\n",
    "s.write(obs.data, fn)"
   ]
  },
  {
   "cell_type": "code",
   "execution_count": 0,
   "metadata": {},
   "outputs": [],
   "source": [
    "obs.data.columns"
   ]
  },
  {
   "cell_type": "markdown",
   "metadata": {},
   "source": [
    "## Load sky and flux standards"
   ]
  },
  {
   "cell_type": "code",
   "execution_count": 0,
   "metadata": {},
   "outputs": [],
   "source": [
    "from pfs.ga.targeting.io import FeatherSkyReader, FeatherFluxStdReader"
   ]
  },
  {
   "cell_type": "code",
   "execution_count": 0,
   "metadata": {},
   "outputs": [],
   "source": [
    "r = FeatherSkyReader()\n",
    "sky = r.read(SKY_FILE)\n",
    "sky.data.shape"
   ]
  },
  {
   "cell_type": "code",
   "execution_count": 0,
   "metadata": {},
   "outputs": [],
   "source": [
    "# r = FeatherFluxStdReader()\n",
    "# fluxstd = r.read(FLUXSTD_FILE)\n",
    "# fluxstd.data.shapefrom pfs.ga.targeting.selection import MagnitudeSelection, ColorSelection\n",
    "import copy\n",
    "\n",
    "fstars = MagnitudeSelection(cmd.axes[1], 18, 20).apply(obs) & ColorSelection(cmd.axes[0], 0.09, 0.46).apply(obs) & (obs.data['cli'] <= 0.5) & (obs.data['clg'] <= 0.5)\n",
    "fluxstd = copy.deepcopy(obs)\n",
    "fluxstd._set_data(obs.get_data(mask=fstars))\n",
    "fluxstd.data"
   ]
  },
  {
   "cell_type": "code",
   "execution_count": 0,
   "metadata": {},
   "outputs": [],
   "source": [
    "cmap = plt.get_cmap('tab10')\n",
    "\n",
    "f = plt.figure(figsize=(3, 3), dpi=240)\n",
    "gs = f.add_gridspec(1, 1)\n",
    "\n",
    "ax = f.add_subplot(gs[0], projection=wcs.wcs)\n",
    "fov.plot_observation(ax, obs, c='b')\n",
    "fov.plot_observation(ax, sky, c='lightgray')\n",
    "\n",
    "ax.set_title(f'Sky positions (count={len(sky)})')\n",
    "\n",
    "# f.tight_layout()"
   ]
  },
  {
   "cell_type": "code",
   "execution_count": 0,
   "metadata": {},
   "outputs": [],
   "source": [
    "cmap = plt.get_cmap('tab10')\n",
    "\n",
    "f = plt.figure(figsize=(3, 3), dpi=240)\n",
    "gs = f.add_gridspec(1, 1)\n",
    "\n",
    "ax = f.add_subplot(gs[0], projection=wcs.wcs)\n",
    "fov.plot_observation(ax, obs, c='lightgray')\n",
    "fov.plot_observation(ax, fluxstd, c='r')\n",
    "\n",
    "ax.set_title(f'Flux standards, count={len(fluxstd)}')\n",
    "\n",
    "# f.tight_layout()"
   ]
  },
  {
   "cell_type": "markdown",
   "metadata": {},
   "source": [
    "# Define the netflow problem"
   ]
  },
  {
   "cell_type": "code",
   "execution_count": 0,
   "metadata": {},
   "outputs": [],
   "source": [
    "# r = Angle(50, u.arcmin)\n",
    "\n",
    "# Filter flux standards around pointing\n",
    "# obs_mask = galaxy.get_selection_mask(obs, nb=True)\n",
    "# obs_mask &= obs.cone_search(p.pos, r)\n",
    "# obs_mask[obs_mask] &= (obs.data['priority'][obs_mask] >= 0) & \\\n",
    "#                       (obs.data['priority'][obs_mask] <= 9) & \\\n",
    "#                       ~np.isnan(obs.data['exp_time'][obs_mask])\n",
    "\n",
    "print('obs_mask', obs_mask.size, obs_mask.sum())"
   ]
  },
  {
   "cell_type": "code",
   "execution_count": 0,
   "metadata": {},
   "outputs": [],
   "source": [
    "# Reduce number of sky fibers\n",
    "sky_mask = np.full(sky.shape, True)\n",
    "# sky_mask = sky.cone_search(p.pos, r)\n",
    "# sky_mask &= sky.random_sample(0.3)\n",
    "\n",
    "print('sky_mask', sky_mask.size, sky_mask.sum())"
   ]
  },
  {
   "cell_type": "code",
   "execution_count": 0,
   "metadata": {},
   "outputs": [],
   "source": [
    "# Filter flux standards around pointing\n",
    "fluxstd_mask = np.full(fluxstd.shape, True)\n",
    "# fluxstd_mask = fluxstd.cone_search(p.pos, r)\n",
    "\n",
    "print('fluxstd_mask', fluxstd_mask.size, fluxstd_mask.sum())"
   ]
  },
  {
   "cell_type": "code",
   "execution_count": 0,
   "metadata": {},
   "outputs": [],
   "source": [
    "cmap = plt.get_cmap('tab10')\n",
    "\n",
    "f = plt.figure(figsize=(3, 3), dpi=240)\n",
    "gs = f.add_gridspec(1, 1)\n",
    "\n",
    "ax = f.add_subplot(gs[0], projection=wcs.wcs)\n",
    "# fov.plot_observation(ax, obs, c='lightgray')\n",
    "fov.plot_observation(ax, obs, c='b', mask=obs_mask)\n",
    "fov.plot_observation(ax, sky, c='lightgray', mask=sky_mask)\n",
    "fov.plot_observation(ax, fluxstd, c='r', mask=fluxstd_mask)\n",
    "\n",
    "pfi = SubaruPFI(instrument_options={ 'layout': 'calibration' })\n",
    "for p in galaxy.get_pointings(SubaruPFI)[:]:\n",
    "    pfi.plot_focal_plane(ax, fov, corners=True, projection=SubaruWFC(p))\n",
    "\n",
    "# f.tight_layout()"
   ]
  },
  {
   "cell_type": "code",
   "execution_count": 0,
   "metadata": {},
   "outputs": [],
   "source": [
    "ncobras = SubaruPFI().bench.cobras.nCobras\n",
    "ncobras"
   ]
  },
  {
   "cell_type": "code",
   "execution_count": 0,
   "metadata": {},
   "outputs": [],
   "source": [
    "obs.data.columns"
   ]
  },
  {
   "cell_type": "code",
   "execution_count": 0,
   "metadata": {},
   "outputs": [],
   "source": [
    "# Create and instrument\n",
    "\n",
    "instrument_options = dict(\n",
    "    # Instrument layout mode\n",
    "    layout = 'calibration',     # Use calibration product\n",
    "    # layout = 'full',          # Use default settings\n",
    "\n",
    "    # Temp directory for cobra coach output\n",
    "    cobra_coach_dir = os.path.expandvars('/tmp/$USER/cobra_coach'),\n",
    "\n",
    "    # Cobra coach module version\n",
    "    # cobra_coach_module_version = None,\n",
    "\n",
    "    # FPI configuration\n",
    "    # instdata_path = None,\n",
    "\n",
    "    # Black dot list\n",
    "    # blackdots_path = None,\n",
    "\n",
    "    # Black dot radius margin\n",
    "    # black_dot_radius_margin = 1.0,\n",
    "\n",
    "    # List of spectrograph modules to use\n",
    "    # spectrograph_modules = [1, 2, 3, 4],\n",
    ")\n",
    "\n",
    "instrument = SubaruPFI(instrument_options=instrument_options)"
   ]
  },
  {
   "cell_type": "code",
   "execution_count": 0,
   "metadata": {},
   "outputs": [],
   "source": [
    "# Construct the netflow problem\n",
    "\n",
    "gurobi_options = dict(\n",
    "    seed=0,                 # random seed\n",
    "    presolve=2,             # agressiveness of presolve which tries to eliminate variables from the LP problem\n",
    "    method=3,               # 3 means concurrent, 4 means deterministic concurrent\n",
    "    degenmoves=0,           # degenerate simplex moves, set to 0 to prevent too much time to be spent on trying to improve the current solution\n",
    "    heuristics=0.5,         # how much of the time to spend by performing heuristics\n",
    "    mipfocus=1,             # mipfocus=1 is balanced toward finding more feasible solutions\n",
    "                            # mipfocus=2 is balanced toward proving that the current solution is the best\n",
    "                            # mipfocus=3 is to be used when the objection bound is moving very slowly\n",
    "    mipgap=0.01,            # relative stopping criterion for bounds on the objective\n",
    "    LogToConsole=1,         # \n",
    "    timelimit=300           # in sec\n",
    ")\n",
    "\n",
    "target_classes = {\n",
    "    'sky': dict(\n",
    "        prefix = 'sky',\n",
    "        min_targets = 240,\n",
    "        max_targets = 320,\n",
    "        non_observation_cost = 0,\n",
    "    ),\n",
    "    'cal': dict(\n",
    "        prefix = 'cal',\n",
    "        min_targets = 40,\n",
    "        max_targets = 240,\n",
    "        non_observation_cost = 0,\n",
    "        calib = True,\n",
    "    ),\n",
    "}\n",
    "    \n",
    "for i in range(10):\n",
    "    target_classes[f'sci_P{i}'] = dict(\n",
    "        prefix = 'sci',\n",
    "        min_targets = None,\n",
    "        max_targets = None,\n",
    "        non_observation_cost = max(20 - 2 * i, 1),\n",
    "        partial_observation_cost = 1e5,\n",
    "    )\n",
    "\n",
    "target_classes[f'sci_P0']['non_observation_cost'] = 1000\n",
    "target_classes[f'sci_P1']['non_observation_cost'] = 500\n",
    "target_classes[f'sci_P2']['non_observation_cost'] = 200\n",
    "target_classes[f'sci_P3']['non_observation_cost'] = 100\n",
    "target_classes[f'sci_P4']['non_observation_cost'] = 100\n",
    "target_classes[f'sci_P5']['non_observation_cost'] = 100\n",
    "target_classes[f'sci_P6']['non_observation_cost'] = 100\n",
    "target_classes[f'sci_P7']['non_observation_cost'] = 50\n",
    "target_classes[f'sci_P8']['non_observation_cost'] = 10\n",
    "target_classes[f'sci_P9']['non_observation_cost'] = 0\n",
    "    \n",
    "########\n",
    "    \n",
    "cobra_groups = {\n",
    "        'location': dict(\n",
    "            groups = np.random.randint(4, size=ncobras),\n",
    "            target_classes = [ 'sky' ],\n",
    "            min_targets = 40,\n",
    "            max_targets = 80,\n",
    "            non_observation_cost = 10,\n",
    "        ),\n",
    "        'instrument': dict(\n",
    "            groups = np.random.randint(4, size=ncobras),\n",
    "            target_classes = [ 'sky' ],\n",
    "            min_targets = 10,\n",
    "            max_targets = 25,\n",
    "            non_observation_cost = 10,\n",
    "        )\n",
    "    }\n",
    "\n",
    "#######\n",
    "\n",
    "netflow_options = dict(\n",
    "    # Penalize cobra moves with respect to cobra center\n",
    "    cobra_move_cost = lambda dist: 0.1 * dist,\n",
    "\n",
    "    # Add a penalty if the target is too close to a black dot\n",
    "    # black_dot_penalty = lambda dist: max(0, dot_penalty * (1 - 0.5 * dist)),\n",
    "\n",
    "    fiber_non_allocation_cost = 1e5,\n",
    "\n",
    "    collision_distance = 2.0,\n",
    "    elbow_collisions = True,\n",
    "    # forbidden_targets = [\n",
    "    #     43218108431\n",
    "    # ],\n",
    "    # forbidden_pairs = [\n",
    "    #     [43486543901, 43218108431],\n",
    "    # ],\n",
    "\n",
    "    target_classes = target_classes,\n",
    "    \n",
    "    # cobra_groups = cobra_groups,\n",
    "\n",
    "    # time_budgets = {\n",
    "    #     'science': dict(\n",
    "    #         target_classes = [ 'sci_P0', 'sci_P1', 'sci_p2' ],\n",
    "    #         budget = 5  # hr\n",
    "    #     )\n",
    "    # },\n",
    "\n",
    "    num_reserved_fibers = 0,\n",
    "\n",
    "    # This will only be used when netflow is rewritten to step-by-step fiber assignment\n",
    "    # constrain_already_observed = False,\n",
    "\n",
    "    # Allow more visits than minimally required\n",
    "    allow_more_visits = True,\n",
    "\n",
    "    epoch = 2016, # all catalogs must match\n",
    "    ignore_proper_motion = True,\n",
    "\n",
    "    # Generate full gurobi variable names instead of numbered ones (slow to build problem)\n",
    "    use_named_variables = True,\n",
    ")\n",
    "\n",
    "debug_options = dict(\n",
    "    ignoreEndpointCollisions = False,\n",
    "    ignoreElbowCollisions = False,\n",
    "    ignoreForbiddenPairs = False,\n",
    "    ignoreForbiddenSingles = False,\n",
    "    ignoreCalibTargetClassMinimum = False,\n",
    "    ignoreCalibTargetClassMaximum = False,\n",
    "    ignoreScienceTargetClassMinimum = False,\n",
    "    ignoreScienceTargetClassMaximum = False,\n",
    "    ignoreTimeBudget = False,\n",
    "    ignoreCobraGroupMinimum = False,\n",
    "    ignoreCobraGroupMaximum = False,\n",
    "    ignoreReservedFibers = False,\n",
    ")\n",
    "\n",
    "pointings = []\n",
    "exp_time = 12 / NVISITS * 900\n",
    "\n",
    "# Observation time is the next day from now at midnight\n",
    "obs_time = datetime(YEAR, MONTH, DAY, hour=0, minute=30, second=0, microsecond=0)+pd.Timedelta(hours=10)\n",
    "obs_time = Time(obs_time)\n",
    "print('obs_time', obs_time)\n",
    "\n",
    "for p in galaxy.get_pointings(SubaruPFI)[:]:\n",
    "    # Need to convert targeting.pointing to netflow.pointing\n",
    "    pointings.append(Pointing(\n",
    "        p.ra, p.dec,\n",
    "        posang=p.posang,\n",
    "        # obs_time=Time(datetime.now()),\n",
    "        obs_time=obs_time,\n",
    "        exp_time = exp_time,\n",
    "        nvisits=NVISITS\n",
    "    ))\n",
    "\n",
    "nf = Netflow(f'{GALAXY}', instrument, pointings, workdir=OUTPUT_PATH,\n",
    "             netflow_options=netflow_options,\n",
    "             solver_options=gurobi_options,\n",
    "             debug_options=debug_options)\n",
    "\n",
    "# nf.append_science_targets(obs, mask=(obs.data['priority'] <= 9), exp_time=visits * p.exp_time)    ## All targets with priority\n",
    "# nf.append_science_targets(obs, mask=(obs.data['priority'] <= 9))    ## All targets with priority\n",
    "# nf.append_science_targets(obs, mask=obs_mask)    ## Only selected targets with priority\n",
    "# nf.append_science_targets(obs, mask=obs_mask, exp_time=visits * p.exp_time)\n",
    "# nf.append_science_targets(obs, mask=(obs.data['priority'] <= 9), exp_time=visits * p.exp_time)\n",
    "\n",
    "nf.append_science_targets(obs, mask=obs_mask)\n",
    "nf.append_sky_targets(sky, mask=sky_mask)\n",
    "nf.append_fluxstd_targets(fluxstd, mask=fluxstd_mask)\n",
    "\n",
    "len(nf.targets)"
   ]
  },
  {
   "cell_type": "code",
   "execution_count": 0,
   "metadata": {},
   "outputs": [],
   "source": [
    "for c in nf.targets.columns:\n",
    "    print(c, nf.targets[c].dtype)"
   ]
  },
  {
   "cell_type": "code",
   "execution_count": 0,
   "metadata": {},
   "outputs": [],
   "source": [
    "nf.targets"
   ]
  },
  {
   "cell_type": "code",
   "execution_count": 0,
   "metadata": {},
   "outputs": [],
   "source": [
    "nf.targets[nf.targets['prefix'] == 'sky']"
   ]
  },
  {
   "cell_type": "code",
   "execution_count": 0,
   "metadata": {},
   "outputs": [],
   "source": [
    "# Plot the final target list loaded into netflow\n",
    "cmap = plt.get_cmap('tab10')\n",
    "\n",
    "f = plt.figure(figsize=(3, 3), dpi=240)\n",
    "gs = f.add_gridspec(1, 1)\n",
    "\n",
    "ax = f.add_subplot(gs[0], projection=wcs.wcs)\n",
    "\n",
    "mask = nf.targets['prefix'] == 'sky'\n",
    "fov.plot(ax, nf.targets['RA'][mask], nf.targets['Dec'][mask], native_frame='world', c='b')\n",
    "mask = nf.targets['prefix'] == 'cal'\n",
    "fov.plot(ax, nf.targets['RA'][mask], nf.targets['Dec'][mask], native_frame='world', c='r')\n",
    "mask = nf.targets['prefix'] == 'sci'\n",
    "fov.plot(ax, nf.targets['RA'][mask], nf.targets['Dec'][mask], native_frame='world', c='y')\n",
    "\n",
    "\n",
    "pfi = SubaruPFI(instrument_options={ 'layout': 'calibration' })\n",
    "for p in galaxy.get_pointings(SubaruPFI)[:]:\n",
    "    pfi.plot_focal_plane(ax, fov, corners=True, projection=SubaruWFC(p))\n",
    "\n",
    "# f.tight_layout()"
   ]
  },
  {
   "cell_type": "code",
   "execution_count": 0,
   "metadata": {},
   "outputs": [],
   "source": [
    "import cProfile\n",
    "profiler = cProfile.Profile()\n",
    "profiler.enable()"
   ]
  },
  {
   "cell_type": "code",
   "execution_count": 0,
   "metadata": {},
   "outputs": [],
   "source": [
    "nf.build()"
   ]
  },
  {
   "cell_type": "code",
   "execution_count": 0,
   "metadata": {},
   "outputs": [],
   "source": [
    "nf.targets.shape, nf._Netflow__target_cache_mask.shape, nf._Netflow__target_cache_mask.sum()"
   ]
  },
  {
   "cell_type": "code",
   "execution_count": 0,
   "metadata": {},
   "outputs": [],
   "source": [
    "for fp_pos in nf._Netflow__target_fp_pos:\n",
    "    print(fp_pos.shape)"
   ]
  },
  {
   "cell_type": "code",
   "execution_count": 0,
   "metadata": {},
   "outputs": [],
   "source": [
    "### This accesses internal variables, do not use this method to read the solution!\n",
    "\n",
    "# TODO: this might be broken with multiple pointings\n",
    "\n",
    "# Plot the focal plane positions\n",
    "\n",
    "\n",
    "cmap = plt.get_cmap('tab10')\n",
    "\n",
    "f = plt.figure(figsize=(3, 3), dpi=240)\n",
    "gs = f.add_gridspec(1, 1)\n",
    "\n",
    "ax = f.add_subplot(gs[0])\n",
    "\n",
    "for i, fp_pos in enumerate(nf._Netflow__target_fp_pos):\n",
    "    pmask = nf._Netflow__target_mask[i]\n",
    "    \n",
    "    mask = nf.targets['prefix'][pmask] == 'sky'\n",
    "    fp.plot(ax, fp_pos[mask].real, fp_pos[mask].imag, native_frame='pixel', c='b')\n",
    "    mask = nf.targets['prefix'][pmask] == 'cal'\n",
    "    fp.plot(ax, fp_pos[mask].real, fp_pos[mask].imag, native_frame='pixel', c='r')\n",
    "    mask = nf.targets['prefix'][pmask] == 'sci'\n",
    "    fp.plot(ax, fp_pos[mask].real, fp_pos[mask].imag, native_frame='pixel', c='y')\n",
    "\n",
    "\n",
    "pfi = SubaruPFI(instrument_options={ 'layout': 'calibration' })\n",
    "for p in galaxy.get_pointings(SubaruPFI)[:]:\n",
    "    pfi.plot_focal_plane(ax, fp, corners=True, projection=SubaruWFC(p))\n",
    "\n",
    "# f.tight_layout()"
   ]
  },
  {
   "cell_type": "code",
   "execution_count": 0,
   "metadata": {},
   "outputs": [],
   "source": [
    "profiler.disable()"
   ]
  },
  {
   "cell_type": "code",
   "execution_count": 0,
   "metadata": {},
   "outputs": [],
   "source": [
    "profiler.print_stats(sort='tottime')"
   ]
  },
  {
   "cell_type": "code",
   "execution_count": 0,
   "metadata": {},
   "outputs": [],
   "source": [
    "nf.save_problem()"
   ]
  },
  {
   "cell_type": "code",
   "execution_count": 0,
   "metadata": {},
   "outputs": [],
   "source": [
    "nf._Netflow__solver_options['timelimit'] = 1800"
   ]
  },
  {
   "cell_type": "code",
   "execution_count": 0,
   "metadata": {},
   "outputs": [],
   "source": [
    "nf.solve()"
   ]
  },
  {
   "cell_type": "code",
   "execution_count": 0,
   "metadata": {},
   "outputs": [],
   "source": [
    "nf.save_solution()"
   ]
  },
  {
   "cell_type": "code",
   "execution_count": 0,
   "metadata": {},
   "outputs": [],
   "source": [
    "nf.visits[0].visit_idx"
   ]
  },
  {
   "cell_type": "code",
   "execution_count": 0,
   "metadata": {},
   "outputs": [],
   "source": [
    "### This accesses internal variables, do not use this method to read the solution!\n",
    "\n",
    "# Plot the final target list loaded into netflow\n",
    "cmap = plt.get_cmap('tab10')\n",
    "\n",
    "f = plt.figure(figsize=(3, 3), dpi=240)\n",
    "gs = f.add_gridspec(1, 1)\n",
    "\n",
    "ax = f.add_subplot(gs[0], projection=wcs.wcs)\n",
    "\n",
    "ra = nf._Netflow__target_cache.ra\n",
    "dec = nf._Netflow__target_cache.dec\n",
    "fov.plot(ax, ra, dec, native_frame='world', c='gray')\n",
    "\n",
    "for visit in nf.visits:\n",
    "    tidx = np.array(list(nf._Netflow__target_assignments[visit.visit_idx].keys()))\n",
    "    ra = nf._Netflow__target_cache.ra[tidx]\n",
    "    dec = nf._Netflow__target_cache.dec[tidx]\n",
    "    fov.plot(ax, ra, dec, native_frame='world', c='r', ms=1)\n",
    "\n",
    "pfi = SubaruPFI(instrument_options={ 'layout': 'calibration' })\n",
    "for p in galaxy.get_pointings(SubaruPFI)[:]:\n",
    "    pfi.plot_focal_plane(ax, fov, corners=True, projection=SubaruWFC(p))\n",
    "\n",
    "# f.tight_layout()"
   ]
  },
  {
   "cell_type": "code",
   "execution_count": 0,
   "metadata": {},
   "outputs": [],
   "source": [
    "### This accesses internal variables, do not use this method to read the solution!\n",
    "\n",
    "# Plot the final target list loaded into netflow\n",
    "cmap = plt.get_cmap('tab10')\n",
    "\n",
    "f = plt.figure(figsize=(3, 3), dpi=240)\n",
    "gs = f.add_gridspec(1, 1)\n",
    "\n",
    "ax = f.add_subplot(gs[0])\n",
    "\n",
    "ra = nf._Netflow__target_cache.ra\n",
    "dec = nf._Netflow__target_cache.dec\n",
    "# fp.plot(ax, ra, dec, native_frame='world', c='gray')\n",
    "\n",
    "for visit in nf.visits:\n",
    "    tidx = np.array(list(nf._Netflow__target_assignments[visit.visit_idx].keys()))\n",
    "    # Map target indices to target cache indices\n",
    "    cache_map = np.where(nf._Netflow__target_mask[visit.visit_idx])[0]\n",
    "    fp_map = nf._Netflow__cache_to_fp_pos_map[visit.visit_idx]\n",
    "\n",
    "    # ra = nf._Netflow__target_cache.ra[tidx]\n",
    "    # dec = nf._Netflow__target_cache.dec[tidx]\n",
    "\n",
    "    p = nf._Netflow__target_fp_pos[visit.visit_idx][fp_map[tidx]]\n",
    "    fp.plot(ax, p.real, p.imag, native_frame='pixel', c='r', ms=0.5)\n",
    "\n",
    "    break\n",
    "\n",
    "pfi = SubaruPFI(instrument_options={ 'layout': 'calibration' })\n",
    "for p in galaxy.get_pointings(SubaruPFI)[:]:\n",
    "    pfi.plot_focal_plane(ax, fp, corners=True, projection=SubaruWFC(p))\n",
    "    pfi.plot_cobras(ax, fp)\n",
    "\n",
    "# f.tight_layout()"
   ]
  },
  {
   "cell_type": "markdown",
   "metadata": {
    "vscode": {
     "languageId": "markdown"
    }
   },
   "source": [
    "### Extract results"
   ]
  },
  {
   "cell_type": "code",
   "execution_count": 0,
   "metadata": {},
   "outputs": [],
   "source": [
    "from pfs.ga.targeting.io import DataFrameSerializer"
   ]
  },
  {
   "cell_type": "code",
   "execution_count": 0,
   "metadata": {},
   "outputs": [],
   "source": [
    "assignments = nf.get_target_assignments(include_target_columns=True,\n",
    "                                        include_unassigned_fibers=True,\n",
    "                                        include_engineering_fibers=True)\n",
    "\n",
    "fn = os.path.join(OUTPUT_PATH, f'{GALAXY}_assignments.feather')\n",
    "print(fn)\n",
    "\n",
    "s = DataFrameSerializer()\n",
    "s.write(assignments, fn)\n",
    "\n",
    "for c in assignments.columns:\n",
    "    print(c, assignments[c].dtype)"
   ]
  },
  {
   "cell_type": "code",
   "execution_count": 0,
   "metadata": {},
   "outputs": [],
   "source": [
    "assignments"
   ]
  },
  {
   "cell_type": "code",
   "execution_count": 0,
   "metadata": {},
   "outputs": [],
   "source": [
    "mask = assignments['prefix'] == 'sky'\n",
    "np.array(assignments['RA'][mask])"
   ]
  },
  {
   "cell_type": "code",
   "execution_count": 0,
   "metadata": {},
   "outputs": [],
   "source": [
    "# Plot the final target list loaded into netflow\n",
    "cmap = plt.get_cmap('tab10')\n",
    "\n",
    "f = plt.figure(figsize=(3, 3), dpi=240)\n",
    "gs = f.add_gridspec(1, 1)\n",
    "\n",
    "ax = f.add_subplot(gs[0], projection=wcs.wcs)\n",
    "\n",
    "mask = assignments['prefix'] == 'sky'\n",
    "fov.plot(ax, assignments['RA'][mask], assignments['Dec'][mask], native_frame='world', c='b', ms=1)\n",
    "mask = assignments['prefix'] == 'cal'\n",
    "fov.plot(ax, assignments['RA'][mask], assignments['Dec'][mask], native_frame='world', c='r', ms=1)\n",
    "mask = assignments['prefix'] == 'sci'\n",
    "fov.plot(ax, assignments['RA'][mask], assignments['Dec'][mask], native_frame='world', c='y', ms=1)\n",
    "\n",
    "\n",
    "pfi = SubaruPFI(instrument_options={ 'layout': 'calibration' })\n",
    "for p in galaxy.get_pointings(SubaruPFI)[:]:\n",
    "    pfi.plot_focal_plane(ax, fov, corners=True, projection=SubaruWFC(p))\n",
    "\n",
    "# f.tight_layout()"
   ]
  },
  {
   "cell_type": "code",
   "execution_count": 0,
   "metadata": {},
   "outputs": [],
   "source": [
    "summary = nf.get_target_assignment_summary()\n",
    "\n",
    "fn = os.path.join(OUTPUT_PATH, f'{GALAXY}_summary.feather')\n",
    "print(fn)\n",
    "\n",
    "s = DataFrameSerializer()\n",
    "s.write(summary.reset_index(), fn)\n",
    "\n",
    "summary"
   ]
  },
  {
   "cell_type": "code",
   "execution_count": 0,
   "metadata": {},
   "outputs": [],
   "source": [
    "# All targets observed at least once\n",
    "summary[summary['num_visits'] > 0]"
   ]
  },
  {
   "cell_type": "markdown",
   "metadata": {},
   "source": [
    "# Look at the ILP constraints to find any issues"
   ]
  },
  {
   "cell_type": "code",
   "execution_count": 0,
   "metadata": {},
   "outputs": [],
   "source": [
    "model = nf._Netflow__problem._GurobiProblem__model\n",
    "constrs = model.getConstrs()\n",
    "len(constrs)"
   ]
  },
  {
   "cell_type": "code",
   "execution_count": 0,
   "metadata": {},
   "outputs": [],
   "source": [
    "# Total number of constraints\n",
    "len(nf._Netflow__constraints.all)"
   ]
  },
  {
   "cell_type": "code",
   "execution_count": 0,
   "metadata": {},
   "outputs": [],
   "source": [
    "q = 0\n",
    "for i in range(len(constrs)):\n",
    "    name = constrs[i].ConstrName\n",
    "    sense = constrs[i].Sense\n",
    "    slack = constrs[i].Slack\n",
    "    rhs = constrs[i].RHS\n",
    "\n",
    "    #if slack == 0.0 and rhs > 1:\n",
    "    if sense != '=' and rhs > 1:\n",
    "        print(name, sense, rhs, slack)\n",
    "\n",
    "        q += 1\n",
    "        if q == 300:\n",
    "            break"
   ]
  },
  {
   "cell_type": "code",
   "execution_count": 0,
   "metadata": {},
   "outputs": [],
   "source": [
    "# Edges adding significant terms to the cost\n",
    "# There shouldn't be any target sinks here, cause that would mean\n",
    "# partially observed targets which we want to avoid\n",
    "\n",
    "cost = nf._Netflow__problem._GurobiProblem__cost\n",
    "n = cost.size()\n",
    "\n",
    "print('total cost', cost.getValue())\n",
    "\n",
    "for i in range(cost.size()):\n",
    "    var = cost.getVar(i)\n",
    "    name = var.VarName\n",
    "    value = var.X\n",
    "    coeff = cost.getCoeff(i)\n",
    "    if value != 0 and coeff > 0:\n",
    "        print(name, value, coeff, value * coeff)"
   ]
  },
  {
   "cell_type": "code",
   "execution_count": 0,
   "metadata": {},
   "outputs": [],
   "source": []
  },
  {
   "cell_type": "code",
   "execution_count": 0,
   "metadata": {},
   "outputs": [],
   "source": []
  },
  {
   "cell_type": "code",
   "execution_count": 0,
   "metadata": {},
   "outputs": [],
   "source": []
  }
 ],
 "metadata": {
  "kernelspec": {
   "display_name": "dobos-torch",
   "language": "python",
   "name": "python3"
  },
  "language_info": {
   "codemirror_mode": {
    "name": "ipython",
    "version": 3
   },
   "file_extension": ".py",
   "mimetype": "text/x-python",
   "name": "python",
   "nbconvert_exporter": "python",
   "pygments_lexer": "ipython3",
   "version": "3.10.15"
  }
 },
 "nbformat": 4,
 "nbformat_minor": 4
}