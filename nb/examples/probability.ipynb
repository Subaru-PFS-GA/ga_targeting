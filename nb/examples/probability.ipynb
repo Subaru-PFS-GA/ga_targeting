{
 "cells": [
  {
   "cell_type": "code",
   "execution_count": 0,
   "metadata": {},
   "outputs": [],
   "source": [
    "ISOCHRONES_PATH = '/datascope/subaru/data/cmdfit/isochrones/dartmouth/import/afep0_cfht_sdss_hsc'\n",
    "OBS_PATH = '/datascope/subaru/data/cmdfit/dSph/umi_tpall3e_g24.cat'\n",
    "SIM_PATH = '/datascope/subaru/data/cmdfit/run/umi/sim/bin_chab_250k_001/sample.h5'"
   ]
  },
  {
   "cell_type": "code",
   "execution_count": 0,
   "metadata": {},
   "outputs": [],
   "source": [
    "import os, sys\n",
    "import numpy as np\n",
    "import pandas as pd\n",
    "import matplotlib as mpl\n",
    "import matplotlib.pyplot as plt\n",
    "from matplotlib.gridspec import GridSpec\n",
    "from matplotlib.colors import LinearSegmentedColormap\n",
    "from matplotlib.patches import Ellipse, Circle\n",
    "from scipy.special import logsumexp\n",
    "from scipy.interpolate import interp1d"
   ]
  },
  {
   "cell_type": "code",
   "execution_count": 0,
   "metadata": {},
   "outputs": [],
   "source": [
    "plt.rc('font', size=6) #controls default text size"
   ]
  },
  {
   "cell_type": "code",
   "execution_count": 0,
   "metadata": {},
   "outputs": [],
   "source": [
    "%load_ext autoreload"
   ]
  },
  {
   "cell_type": "code",
   "execution_count": 0,
   "metadata": {},
   "outputs": [],
   "source": [
    "%autoreload 2"
   ]
  },
  {
   "cell_type": "markdown",
   "metadata": {},
   "source": [
    "# Load observations"
   ]
  },
  {
   "cell_type": "code",
   "execution_count": 0,
   "metadata": {},
   "outputs": [],
   "source": [
    "from pfs.ga.targeting.instrument import *\n",
    "from pfs.ga.targeting.diagram import CMD, CCD, ColorAxis, MagnitudeAxis\n",
    "from pfs.ga.targeting.photometry import Photometry, Magnitude, Color"
   ]
  },
  {
   "cell_type": "code",
   "execution_count": 0,
   "metadata": {},
   "outputs": [],
   "source": [
    "obs = SubaruHSC.text_observation_reader().read(OBS_PATH)\n",
    "obs.data.head()"
   ]
  },
  {
   "cell_type": "markdown",
   "metadata": {},
   "source": [
    "# Load simulation"
   ]
  },
  {
   "cell_type": "code",
   "execution_count": 0,
   "metadata": {},
   "outputs": [],
   "source": [
    "from pfs.ga.targeting.instrument import *\n",
    "from pfs.ga.targeting.diagram import CMD, CCD, ColorAxis, MagnitudeAxis\n",
    "from pfs.ga.targeting.photometry import Photometry, Magnitude, Color"
   ]
  },
  {
   "cell_type": "code",
   "execution_count": 0,
   "metadata": {},
   "outputs": [],
   "source": [
    "# Ursa minor\n",
    "if True:\n",
    "    hsc = SubaruHSC.photometry()\n",
    "    cmd = CMD([\n",
    "            ColorAxis(\n",
    "                Color([hsc.magnitudes['g'], hsc.magnitudes['i']]),\n",
    "                limits=(-1, 4)),\n",
    "            MagnitudeAxis(\n",
    "                hsc.magnitudes['g'],\n",
    "                limits=(15.5, 24.5)\n",
    "            )\n",
    "        ])\n",
    "    ccd = CCD([\n",
    "        cmd.axes[0],\n",
    "        ColorAxis(\n",
    "            Color([hsc.magnitudes['g'], hsc.magnitudes['nb515']]),\n",
    "            limits=(-0.5, 0.5)\n",
    "        )\n",
    "    ])"
   ]
  },
  {
   "cell_type": "code",
   "execution_count": 0,
   "metadata": {},
   "outputs": [],
   "source": [
    "# Fornax\n",
    "if False:\n",
    "    hsc = SubaruHSC.photometry()\n",
    "    cmd = CMD([\n",
    "            ColorAxis(\n",
    "                Color([hsc.magnitudes['g'], hsc.magnitudes['i']]),\n",
    "                limits=(-1, 4)),\n",
    "            MagnitudeAxis(\n",
    "                hsc.magnitudes['g'],\n",
    "                limits=(15.5, 24.5)\n",
    "            )\n",
    "        ])\n",
    "    ccd = CCD([\n",
    "        cmd.axes[0],\n",
    "        ColorAxis(\n",
    "            Color([hsc.magnitudes['g'], hsc.magnitudes['nb515']]),\n",
    "            limits=(-0.75, 0.5)\n",
    "        )\n",
    "    ])"
   ]
  },
  {
   "cell_type": "code",
   "execution_count": 0,
   "metadata": {},
   "outputs": [],
   "source": [
    "from pfs.ga.targeting.io import Hdf5SimulationReader"
   ]
  },
  {
   "cell_type": "code",
   "execution_count": 0,
   "metadata": {},
   "outputs": [],
   "source": [
    "r = Hdf5SimulationReader()\n",
    "cm = {}\n",
    "# for prefix in ['', 'obs_', 'err_', 'flux_', 'obs_flux_', 'err_flux_', 'counts_', 'obs_counts_', 'err_counts_']:\n",
    "#     cm[prefix + 'hsc_g2'] = prefix + 'hsc_g'\n",
    "#     cm[prefix + 'hsc_i2'] = prefix + 'hsc_i'\n",
    "r.column_mapping = cm\n",
    "r.append_photometry(SubaruHSC.photometry())\n",
    "sim = r.read(SIM_PATH)"
   ]
  },
  {
   "cell_type": "code",
   "execution_count": 0,
   "metadata": {},
   "outputs": [],
   "source": [
    "for k in sim.data.keys():\n",
    "    print(k, sim.data[k].shape)"
   ]
  },
  {
   "cell_type": "code",
   "execution_count": 0,
   "metadata": {},
   "outputs": [],
   "source": [
    "f, axs = plt.subplots(1, 2, figsize=(6, 4), dpi=120)\n",
    "\n",
    "cmd.plot_simulation(axs[0], sim, s=np.s_[::100], size=0.05)\n",
    "if False:\n",
    "    ccd.plot_simulation(axs[1], sim, s=np.s_[::100], size=0.05)\n",
    "\n",
    "f.tight_layout()"
   ]
  },
  {
   "cell_type": "markdown",
   "metadata": {},
   "source": [
    "# Define selections"
   ]
  },
  {
   "cell_type": "code",
   "execution_count": 0,
   "metadata": {},
   "outputs": [],
   "source": [
    "from pfs.ga.targeting import ProbabilityMap\n",
    "from pfs.ga.targeting.selection import ProbabilityCut, ProbabilitySampling, MagnitudeSelection, ColorSelection, LinearSelection"
   ]
  },
  {
   "cell_type": "code",
   "execution_count": 0,
   "metadata": {},
   "outputs": [],
   "source": [
    "# Ursa Minor selection\n",
    "if True:\n",
    "    def get_selection_mask(catalog, nb=True, blue=False, probcut=None, observed=None, bright=16, faint=23.5):\n",
    "        # Broadband colors\n",
    "        mask = ColorSelection(ccd.axes[0], 0.12, 2.0).apply(catalog, observed=observed)\n",
    "\n",
    "        # Narrow band\n",
    "        if nb:\n",
    "            mask &= (\n",
    "                ColorSelection(ccd.axes[0], 0.12, 0.5).apply(catalog, observed=observed)\n",
    "\n",
    "                | ColorSelection(ccd.axes[1], 0.1, None).apply(catalog, observed=observed)\n",
    "                & ColorSelection(ccd.axes[0], None, 1.65).apply(catalog, observed=observed)\n",
    "                \n",
    "                | LinearSelection(ccd.axes, [-0.25, 1.0], -0.15, None).apply(catalog, observed=observed)\n",
    "            )\n",
    "\n",
    "        # Probability-based cut (map) - nonzero membership probability\n",
    "        if probcut is not None:\n",
    "            mask &= probcut.apply(catalog, observed=observed)\n",
    "\n",
    "        # Allow blue\n",
    "        if blue:\n",
    "            mask |= (\n",
    "                ColorSelection(ccd.axes[0], None, 0.12).apply(catalog, observed=observed)\n",
    "            )\n",
    "\n",
    "        # Always impose faint and bright magnitude cuts\n",
    "        mask &= MagnitudeSelection(cmd.axes[1], bright, faint).apply(catalog, observed=observed)\n",
    "\n",
    "        return mask"
   ]
  },
  {
   "cell_type": "code",
   "execution_count": 0,
   "metadata": {},
   "outputs": [],
   "source": [
    "# Fornax selection\n",
    "if False:\n",
    "    def get_selection_mask(catalog, nb=True, blue=False, probcut=None, observed=None, bright=16, faint=23.5):\n",
    "        # Broadband colors\n",
    "        mask = ColorSelection(ccd.axes[0], -0.75, 2.0).apply(catalog, observed=observed)\n",
    "\n",
    "        # Narrow band\n",
    "        if nb:\n",
    "            mask &= (\n",
    "                ColorSelection(ccd.axes[0], 0.12, 0.5).apply(catalog, observed=observed)\n",
    "\n",
    "                | ColorSelection(ccd.axes[1], 0.1, None).apply(catalog, observed=observed)\n",
    "                & ColorSelection(ccd.axes[0], None, 1.65).apply(catalog, observed=observed)\n",
    "                \n",
    "                | LinearSelection(ccd.axes, [-0.25, 1.0], -0.15, None).apply(catalog, observed=observed)\n",
    "            )\n",
    "\n",
    "        # Probability-based cut (map) - nonzero membership probability\n",
    "        if probcut is not None:\n",
    "            mask &= probcut.apply(catalog, observed=observed)\n",
    "\n",
    "        # Allow blue\n",
    "        if blue:\n",
    "            mask |= (\n",
    "                ColorSelection(ccd.axes[0], None, 0.12).apply(catalog, observed=observed)\n",
    "            )\n",
    "\n",
    "        # Always impose faint and bright magnitude cuts\n",
    "        mask &= MagnitudeSelection(cmd.axes[1], bright, faint).apply(catalog, observed=observed)\n",
    "\n",
    "        return mask"
   ]
  },
  {
   "cell_type": "code",
   "execution_count": 0,
   "metadata": {},
   "outputs": [],
   "source": [
    "f, ax = plt.subplots(1, 1)\n",
    "\n",
    "mask = get_selection_mask(obs, observed=True, nb=False, blue=True)\n",
    "cmd.plot_catalog(ax, obs, observed=True, mask=mask)"
   ]
  },
  {
   "cell_type": "markdown",
   "metadata": {},
   "source": [
    "# Compare simulation to observations"
   ]
  },
  {
   "cell_type": "code",
   "execution_count": 0,
   "metadata": {},
   "outputs": [],
   "source": [
    "# This is for Ursa Minor\n",
    "if True:\n",
    "    # Original weights\n",
    "    print('data.w', sim.data['w'])\n",
    "\n",
    "    w = np.bincount(sim.data['g']) / sim.data['g'].shape\n",
    "    print('w', w, np.sum(w[:-2]), np.sum(w[-2:]))\n",
    "\n",
    "    # New weights, boost thick disk and halo\n",
    "    w1 = np.r_[w[:-2] / 0.4 * 0.5, w[-2:] / 0.6 * 0.5]\n",
    "    w1[2:4] *= 100\n",
    "    # w1[0:6] *= 3  # thin disk 1-3\n",
    "    # w1[4:6] *= 1.2  # thin disk 3\n",
    "    w1[6:8] *= 15  # thick disk\n",
    "    w1[8:10] *= 28   # halo\n",
    "    ##### good for histograms w1[10:12] *= 18  # dSph\n",
    "    ##### good for ghost plot\n",
    "    w1[10:12] *= 50  # dSph\n",
    "    w1 /= w1.sum()\n",
    "    print('w1', w1, np.sum(w1[:-2]), np.sum(w1[-2:]))\n",
    "\n",
    "    # New categories\n",
    "    g1 = np.random.choice(np.arange(w1.size, dtype=int), sim.data['g'].size, p=w1)\n",
    "    print('g1', g1.shape)\n",
    "\n",
    "    # Verify new categories\n",
    "    w2 = np.bincount(g1) / g1.shape\n",
    "    print('w2', w2, np.sum(w2[:-2]), np.sum(w2[-2:]))"
   ]
  },
  {
   "cell_type": "code",
   "execution_count": 0,
   "metadata": {},
   "outputs": [],
   "source": [
    "# This is for Fornax\n",
    "if False:\n",
    "    # Original weights\n",
    "    print('data.w', sim.data['w'])\n",
    "\n",
    "    w = np.bincount(sim.data['g']) / sim.data['g'].shape\n",
    "    print('w', w, np.sum(w[:-2]), np.sum(w[-2:]))\n",
    "\n",
    "    w1 = w.copy()\n",
    "    w1[:-6] * 0.7       # MW foreground\n",
    "    w1[-6:-4] *= 2.0    # broad RGB population\n",
    "    w1[-4:-2] *= 0.3    # old RGB population\n",
    "    w1[-2:] *= 1.0      # member MS population\n",
    "    w1 /= w1.sum()\n",
    "\n",
    "    g1 = np.random.choice(np.arange(w1.size, dtype=int), sim.data['g'].size, p=w1)\n",
    "    print('g1', g1.shape)\n",
    "\n",
    "    # Verify new categories\n",
    "    w2 = np.bincount(g1) / g1.shape\n",
    "    print('w2', w2, np.sum(w2[:-2]), np.sum(w2[-2:]))"
   ]
  },
  {
   "cell_type": "code",
   "execution_count": 0,
   "metadata": {},
   "outputs": [],
   "source": [
    "# Calculate the best combination of weight by fitting the color histogram of observations"
   ]
  },
  {
   "cell_type": "code",
   "execution_count": 0,
   "metadata": {},
   "outputs": [],
   "source": [
    "sim.data['g'], g1"
   ]
  },
  {
   "cell_type": "code",
   "execution_count": 0,
   "metadata": {},
   "outputs": [],
   "source": [
    "# Number of objects inside cuts\n",
    "mask = get_selection_mask(obs, nb=False, observed=True)\n",
    "n_obs = mask.sum()\n",
    "print('obs', n_obs)\n",
    "\n",
    "#(x, x_err), (y, y_err) = obs.get_diagram_values(cmd.axes, observed=True, mask=mask)\n",
    "#mask = (0.1 < x) & (x < 2) & (y < 23.5)\n",
    "#print('obs', n_obs)\n",
    "\n",
    "mask = get_selection_mask(sim, nb=False, observed=True)\n",
    "mask = sim.apply_categories(mask, g=g1)\n",
    "n_sim = mask.sum()\n",
    "print('sim', n_sim)\n",
    "\n",
    "# (x, x_err), (y, y_err) = sim.get_diagram_values(cmd.axes, observed=True)\n",
    "# x = sim.apply_categories(x, g=g1)\n",
    "# y = sim.apply_categories(y, g=g1)\n",
    "# mask = (0.1 < x) & (x < 2) & (y < 23.5)\n",
    "# n_sim = mask.sum()\n",
    "# print('sim', n_sim)\n",
    "\n",
    "n_sim / n_obs"
   ]
  },
  {
   "cell_type": "code",
   "execution_count": 0,
   "metadata": {},
   "outputs": [],
   "source": [
    "NB = False\n",
    "\n",
    "f, axs = plt.subplots(1, 3, figsize=(6, 4), dpi=120)\n",
    "\n",
    "s = np.s_[::1]\n",
    "\n",
    "mask = get_selection_mask(obs, nb=NB, observed=True)\n",
    "cmd.plot_observation(axs[0], obs, size=0.05, mask=mask, s=s)\n",
    "axs[0].set_title('OBS')\n",
    "\n",
    "s = np.s_[::5]\n",
    "\n",
    "mask = get_selection_mask(sim, nb=NB, observed=True)\n",
    "mask = sim.apply_categories(mask, g=g1)\n",
    "cmd.plot_simulation(axs[1], sim, observed=True, apply_categories=True, mask=mask, g=g1, s=s, size=0.05)\n",
    "axs[1].set_title('SIM updated weights')\n",
    "\n",
    "mask = get_selection_mask(sim, nb=NB, observed=True)\n",
    "mask = sim.apply_categories(mask, g=sim.data['g'])\n",
    "cmd.plot_simulation(axs[2], sim, observed=True, apply_categories=True, mask=mask, g=sim.data['g'], s=s, size=0.05)\n",
    "axs[2].set_title('SIM original weights')\n",
    "\n",
    "for ax in axs:\n",
    "    ax.grid()\n",
    "    ax.set_xlim(-1, 2.2)\n",
    "\n",
    "f.tight_layout()"
   ]
  },
  {
   "cell_type": "code",
   "execution_count": 0,
   "metadata": {},
   "outputs": [],
   "source": [
    "w.shape"
   ]
  },
  {
   "cell_type": "code",
   "execution_count": 0,
   "metadata": {},
   "outputs": [],
   "source": [
    "def plot_histogram(ax, obs, sim, axis, plot_populations=True):\n",
    "    ((x, x_err),) = obs.get_diagram_values([axis], observed=True)\n",
    "    mask = get_selection_mask(obs, nb=NB, observed=True)\n",
    "    hist, bins = np.histogram(x[mask], bins=100, density=True)\n",
    "    ax.step(0.5 * (bins[1:] + bins[:-1]), hist, lw=1, label='OBS')\n",
    "    print(x.min(), x.max())\n",
    "\n",
    "    ((x, x_err),) = sim.get_diagram_values([axis], observed=True)\n",
    "    mask = get_selection_mask(sim, nb=NB, observed=True)\n",
    "    mask = sim.apply_categories(mask, g=g1)\n",
    "    x = sim.apply_categories(x, g=g1)\n",
    "    hist, bins = np.histogram(x[mask], bins=100, density=True)\n",
    "    ax.step(0.5 * (bins[1:] + bins[:-1]), hist, lw=1, label='SIM')\n",
    "    \n",
    "    if plot_populations:\n",
    "        for i, name in enumerate(['thin1', 'thin2', 'thin3', 'thick', 'halo', 'dSph']):\n",
    "        # for i, name in enumerate(['thin1', 'thin2', 'thin3', 'thick', 'halo', 'dSph1', 'dSph2', 'dSph3']):\n",
    "            hist, bins = np.histogram(x[mask][(g1[mask[:,0]] == 2 * i) | (g1[mask[:,0]] == 2 * i + 1)], bins=100, density=True)\n",
    "            ax.step(0.5 * (bins[1:] + bins[:-1]), (w1[2 * i] + w1[2 * i + 1]) * hist, lw=0.5, label=name)"
   ]
  },
  {
   "cell_type": "code",
   "execution_count": 0,
   "metadata": {},
   "outputs": [],
   "source": [
    "f, ax = plt.subplots(1, 1, figsize=(3.5, 2.4), dpi=240)\n",
    "\n",
    "plot_histogram(ax, obs, sim, cmd.axes[0])\n",
    "\n",
    "ax.set_xlim(-1, 2.2)\n",
    "ax.set_xlabel('HSC $g - i$')\n",
    "ax.legend()"
   ]
  },
  {
   "cell_type": "code",
   "execution_count": 0,
   "metadata": {},
   "outputs": [],
   "source": [
    "f, ax = plt.subplots(1, 1, figsize=(3.5, 2.4), dpi=240)\n",
    "\n",
    "plot_histogram(ax, obs, sim, cmd.axes[1])\n",
    "\n",
    "ax.set_xlabel('HSC $g$')\n",
    "ax.legend()"
   ]
  },
  {
   "cell_type": "code",
   "execution_count": 0,
   "metadata": {},
   "outputs": [],
   "source": [
    "f, ax = plt.subplots(1, 1, figsize=(3.5, 2.4), dpi=240)\n",
    "\n",
    "plot_histogram(ax, obs, sim, MagnitudeAxis(hsc.magnitudes['i']))\n",
    "\n",
    "ax.set_xlabel('HSC $i$')\n",
    "ax.legend()"
   ]
  },
  {
   "cell_type": "markdown",
   "metadata": {},
   "source": [
    "# Create probability map"
   ]
  },
  {
   "cell_type": "code",
   "execution_count": 0,
   "metadata": {},
   "outputs": [],
   "source": [
    "from pfs.ga.targeting import ProbabilityMap\n",
    "from pfs.ga.targeting.selection import ProbabilityCut, ProbabilitySampling"
   ]
  },
  {
   "cell_type": "code",
   "execution_count": 0,
   "metadata": {},
   "outputs": [],
   "source": [
    "# Ursa Minor dwarf\n",
    "if True:\n",
    "    # Original weights\n",
    "    print('data.w', sim.data['w'])\n",
    "\n",
    "    w = np.bincount(sim.data['g']) / sim.data['g'].shape\n",
    "    print('w', w, np.sum(w[:-2]), np.sum(w[-2:]))\n",
    "\n",
    "    # New weights, boost thick disk and halo\n",
    "    w1 = np.r_[w[:-2] / 0.4 * 0.5, w[-2:] / 0.6 * 0.5]\n",
    "    w1[2:4] *= 100\n",
    "    # w1[0:6] *= 3  # thin disk 1-3\n",
    "    # w1[4:6] *= 1.2  # thin disk 3\n",
    "    w1[6:8] *= 15  # thick disk\n",
    "    w1[8:10] *= 28   # halo\n",
    "    ##### good for histograms w1[10:12] *= 18  # dSph\n",
    "    ##### good for ghost plot\n",
    "    w1[10:12] *= 50  # dSph\n",
    "    w1 /= w1.sum()\n",
    "    print('w1', w1, np.sum(w1[:-2]), np.sum(w1[-2:]))\n",
    "\n",
    "    # New categories\n",
    "    g1 = np.random.choice(np.arange(w1.size, dtype=int), sim.data['g'].size, p=w1)\n",
    "    print('g1', g1.shape)\n",
    "\n",
    "    # Verify new categories\n",
    "    w2 = np.bincount(g1) / g1.shape\n",
    "    print('w2', w2, np.sum(w2[:-2]), np.sum(w2[-2:]))"
   ]
  },
  {
   "cell_type": "code",
   "execution_count": 0,
   "metadata": {},
   "outputs": [],
   "source": [
    "# Fornax dwarf\n",
    "if False:\n",
    "    # Original weights\n",
    "    print('data.w', sim.data['w'])\n",
    "\n",
    "    w = np.bincount(sim.data['g']) / sim.data['g'].shape\n",
    "    print('w', w, np.sum(w[:-2]), np.sum(w[-2:]))\n",
    "\n",
    "    w1 = w.copy()\n",
    "    w1[:-6] * 0.7       # MW foreground\n",
    "    w1[-6:-4] *= 2.0    # broad RGB population\n",
    "    w1[-4:-2] *= 0.3    # old RGB population\n",
    "    w1[-2:] *= 1.0      # member MS population\n",
    "    w1 /= w1.sum()\n",
    "\n",
    "    g1 = np.random.choice(np.arange(w1.size, dtype=int), sim.data['g'].size, p=w1)\n",
    "    print('g1', g1.shape)\n",
    "\n",
    "    # Verify new categories\n",
    "    w2 = np.bincount(g1) / g1.shape\n",
    "    print('w2', w2, np.sum(w2[:-2]), np.sum(w2[-2:]))"
   ]
  },
  {
   "cell_type": "code",
   "execution_count": 0,
   "metadata": {},
   "outputs": [],
   "source": [
    "# The simulation has 10 + 2 * N sub-populations (binaries treated separately for each)\n",
    "# 10 is for 5 MW (3 for the thin disk + 1 thick disk + 1 halo)\n",
    "# Merge foreground populations and members + member binaries when creating the map\n",
    "\n",
    "# Ursa Minor\n",
    "if True:\n",
    "    extents = [[0.1, 2.0], [17.0, 23.5]]\n",
    "\n",
    "# Fornax\n",
    "if False:\n",
    "    extents = [[-0.75, 2.0], [17.0, 23.5]]\n",
    "\n",
    "pmap = ProbabilityMap(cmd.axes)\n",
    "pmap.from_simulation(sim, bins=[100, 100], extents=extents,\n",
    "    merge_list=[np.s_[:10], np.s_[10:]], population_weights=w1, observed=True, mask=None)\n",
    "pmap.maximum_filter()"
   ]
  },
  {
   "cell_type": "code",
   "execution_count": 0,
   "metadata": {},
   "outputs": [],
   "source": [
    "pmap.extents"
   ]
  },
  {
   "cell_type": "code",
   "execution_count": 0,
   "metadata": {},
   "outputs": [],
   "source": [
    "f, axs = plt.subplots(1, 2, figsize=(6, 4), dpi=120)\n",
    "\n",
    "l0 = cmd.plot_probability_map(axs[0], pmap, 0)\n",
    "l1 = cmd.plot_probability_map(axs[1], pmap, 1)\n",
    "\n",
    "f.tight_layout()"
   ]
  },
  {
   "cell_type": "code",
   "execution_count": 0,
   "metadata": {},
   "outputs": [],
   "source": [
    "# Save probability maps\n",
    "\n",
    "pmap.save(os.path.join(os.path.dirname(SIM_PATH), 'pmap.h5'))"
   ]
  },
  {
   "cell_type": "markdown",
   "metadata": {},
   "source": [
    "# Membership probability based on the map"
   ]
  },
  {
   "cell_type": "code",
   "execution_count": 0,
   "metadata": {},
   "outputs": [],
   "source": [
    "lp_member, mask_member = pmap.lookup_lp_member(obs)\n",
    "\n",
    "lp_member.shape, np.isnan(lp_member).sum(), np.isnan(lp_member[mask_member]).sum(), mask_member.shape, mask_member.sum()"
   ]
  },
  {
   "cell_type": "code",
   "execution_count": 0,
   "metadata": {},
   "outputs": [],
   "source": [
    "f, axs = plt.subplots(1, 2, figsize=(6, 4), dpi=120)\n",
    "\n",
    "cmd.plot_observation(axs[0], obs, c=lp_member[...,0])\n",
    "ccd.plot_observation(axs[1], obs, c=lp_member[...,0])\n",
    "\n",
    "f.tight_layout()"
   ]
  },
  {
   "cell_type": "markdown",
   "metadata": {},
   "source": [
    "# Selection based on probability cut"
   ]
  },
  {
   "cell_type": "code",
   "execution_count": 0,
   "metadata": {},
   "outputs": [],
   "source": [
    "pcut = ProbabilityCut(pmap, 1, -3)  # cut at e**-3"
   ]
  },
  {
   "cell_type": "code",
   "execution_count": 0,
   "metadata": {},
   "outputs": [],
   "source": [
    "mask = pcut.apply(obs, observed=True)"
   ]
  },
  {
   "cell_type": "code",
   "execution_count": 0,
   "metadata": {},
   "outputs": [],
   "source": [
    "f, axs = plt.subplots(1, 2, figsize=(6, 4), dpi=120)\n",
    "\n",
    "cmd.plot_observation(axs[0], obs, mask=mask)\n",
    "ccd.plot_observation(axs[1], obs, mask=mask)\n",
    "\n",
    "f.tight_layout()"
   ]
  },
  {
   "cell_type": "code",
   "execution_count": 0,
   "metadata": {},
   "outputs": [],
   "source": []
  }
 ],
 "metadata": {
  "kernelspec": {
   "display_name": "astro-tf211",
   "language": "python",
   "name": "python3"
  },
  "language_info": {
   "codemirror_mode": {
    "name": "ipython",
    "version": 3
   },
   "file_extension": ".py",
   "mimetype": "text/x-python",
   "name": "python",
   "nbconvert_exporter": "python",
   "pygments_lexer": "ipython3",
   "version": "3.10.9"
  }
 },
 "nbformat": 4,
 "nbformat_minor": 2
}