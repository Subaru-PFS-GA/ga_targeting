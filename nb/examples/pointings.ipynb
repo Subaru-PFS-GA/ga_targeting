{
 "cells": [
  {
   "cell_type": "code",
   "execution_count": 0,
   "metadata": {},
   "outputs": [],
   "source": [
    "FIELD = 'ursaminor'\n",
    "OBS_FILE = '$PFS_TARGETING_DATA/data/targeting/dSph/ursaminor/ursaminor_tpall3e_g24.cat'\n",
    "CONFIG_FILES = [\n",
    "    '/home/dobos/project/ga_targeting/configs/netflow/TEST/dSph/_common.py',\n",
    "    '/home/dobos/project/ga_targeting/configs/netflow/TEST/dSph/ursaminor.py'\n",
    "]"
   ]
  },
  {
   "cell_type": "code",
   "execution_count": 0,
   "metadata": {},
   "outputs": [],
   "source": [
    "import os, sys\n",
    "from datetime import datetime\n",
    "import numpy as np\n",
    "import pandas as pd\n",
    "import matplotlib as mpl\n",
    "import matplotlib.pyplot as plt\n",
    "from matplotlib.gridspec import GridSpec\n",
    "from matplotlib.colors import LinearSegmentedColormap\n",
    "from matplotlib.patches import Ellipse, Circle\n",
    "from matplotlib.gridspec import GridSpec"
   ]
  },
  {
   "cell_type": "code",
   "execution_count": 0,
   "metadata": {},
   "outputs": [],
   "source": [
    "plt.rc('font', size=6)"
   ]
  },
  {
   "cell_type": "code",
   "execution_count": 0,
   "metadata": {},
   "outputs": [],
   "source": [
    "%load_ext autoreload\n",
    "%autoreload 2"
   ]
  },
  {
   "cell_type": "code",
   "execution_count": 0,
   "metadata": {},
   "outputs": [],
   "source": [
    "if 'debug' not in globals():\n",
    "    import debugpy\n",
    "    debugpy.listen(('0.0.0.0', 5698))\n",
    "    debug = True"
   ]
  },
  {
   "cell_type": "markdown",
   "metadata": {},
   "source": [
    "# Plot definitions"
   ]
  },
  {
   "cell_type": "code",
   "execution_count": 0,
   "metadata": {},
   "outputs": [],
   "source": [
    "from pfs.ga.targeting.targets.dsph import GALAXIES as DSPH_FIELDS\n",
    "from pfs.ga.targeting.targets.m31 import M31_FIELDS\n",
    "from pfs.ga.targeting.instrument import *\n",
    "from pfs.ga.targeting.diagram import CMD, CCD, FOV, FP, ColorAxis, MagnitudeAxis\n",
    "from pfs.ga.targeting.photometry import Photometry, Magnitude, Color\n",
    "from pfs.ga.targeting.projection import Pointing, WcsProjection"
   ]
  },
  {
   "cell_type": "code",
   "execution_count": 0,
   "metadata": {},
   "outputs": [],
   "source": [
    "field = DSPH_FIELDS[FIELD]\n",
    "hsc = field.get_photometry()\n",
    "cmd = field.get_cmd()\n",
    "ccd = field.get_ccd()"
   ]
  },
  {
   "cell_type": "code",
   "execution_count": 0,
   "metadata": {},
   "outputs": [],
   "source": [
    "pointing = field.get_center()\n",
    "pointing"
   ]
  },
  {
   "cell_type": "code",
   "execution_count": 0,
   "metadata": {},
   "outputs": [],
   "source": [
    "wcs = WcsProjection(pointing, proj='TAN')\n",
    "fov = FOV(projection=wcs)"
   ]
  },
  {
   "cell_type": "markdown",
   "metadata": {},
   "source": [
    "# Load the config files"
   ]
  },
  {
   "cell_type": "code",
   "execution_count": 0,
   "metadata": {},
   "outputs": [],
   "source": [
    "config = field.get_netflow_config()\n",
    "config.load(CONFIG_FILES, ignore_collisions=True)"
   ]
  },
  {
   "cell_type": "code",
   "execution_count": 0,
   "metadata": {},
   "outputs": [],
   "source": [
    "config.pointings"
   ]
  },
  {
   "cell_type": "code",
   "execution_count": 0,
   "metadata": {},
   "outputs": [],
   "source": [
    "config.instrument_options"
   ]
  },
  {
   "cell_type": "markdown",
   "metadata": {},
   "source": [
    "# Load observations"
   ]
  },
  {
   "cell_type": "code",
   "execution_count": 0,
   "metadata": {},
   "outputs": [],
   "source": [
    "from pfs.ga.targeting.io import ObservationSerializer"
   ]
  },
  {
   "cell_type": "code",
   "execution_count": 0,
   "metadata": {},
   "outputs": [],
   "source": [
    "obs = field.get_text_observation_reader().read(os.path.expandvars(OBS_FILE))\n",
    "obs.data.shape"
   ]
  },
  {
   "cell_type": "markdown",
   "metadata": {},
   "source": [
    "# Calculate the whitening matrix\n",
    "\n",
    "This basically determines the second moments of the coordinate distribution\n",
    "and yield the axes of the ellipsoid and the position angle"
   ]
  },
  {
   "cell_type": "code",
   "execution_count": 0,
   "metadata": {},
   "outputs": [],
   "source": [
    "from pfs.ga.targeting.projection import Whitening\n",
    "from pfs.ga.targeting.radialprofile import King"
   ]
  },
  {
   "cell_type": "code",
   "execution_count": 0,
   "metadata": {},
   "outputs": [],
   "source": [
    "# Iteratively determine a whitening matrix that converts the\n",
    "# spherical coordinates into deprojected coordinates\n",
    "\n",
    "w = Whitening(projection=wcs)\n",
    "w_mask = w.create(obs, iterations=20, s_cut=2.2)\n",
    "\n",
    "w.M, w.reverse(w.M), field.pos"
   ]
  },
  {
   "cell_type": "code",
   "execution_count": 0,
   "metadata": {},
   "outputs": [],
   "source": [
    "[dsph_maj, dsph_min] = w.S\n",
    "dsph_pa = np.degrees(np.angle(w.Vh[0, 0] + 1j * w.Vh[1, 0]))\n",
    "dsph_maj, dsph_min, dsph_pa"
   ]
  },
  {
   "cell_type": "code",
   "execution_count": 0,
   "metadata": {},
   "outputs": [],
   "source": [
    "f, ax = plt.subplots(1, 1, figsize=(8, 8), dpi=240)\n",
    "\n",
    "(wx, wy) = w.apply(obs.get_coords())\n",
    "ax.plot(wx, wy, '.', ms=0.1)\n",
    "ax.plot(wx[w_mask], wy[w_mask], '.', ms=0.1)\n",
    "ax.set_aspect('equal')\n",
    "ax.grid()"
   ]
  },
  {
   "cell_type": "code",
   "execution_count": 0,
   "metadata": {},
   "outputs": [],
   "source": [
    "# Fit profile to all stars within the color cut\n",
    "\n",
    "king = King(transformation=w, R_max=3, bins=30)\n",
    "king.histogram(obs) #, mask=w_mask)\n",
    "[S_b, S_0, R_c, R_t], pcov = king.fit()\n",
    "\n",
    "S_b, S_0, R_c, R_t"
   ]
  },
  {
   "cell_type": "code",
   "execution_count": 0,
   "metadata": {},
   "outputs": [],
   "source": [
    "# Verify the King profile fit\n",
    "\n",
    "f, ax = plt.subplots(1, 1, figsize=(3.4, 2.5), dpi=120)\n",
    "\n",
    "R, log_S, log_S_sigma = king.get_log_S()\n",
    "\n",
    "ax.errorbar(R, log_S, 3 * log_S_sigma)\n",
    "ax.set_xlabel('deprojected R')\n",
    "ax.set_ylabel(r'$\\log \\Sigma$')\n",
    "\n",
    "R = np.linspace(0, 3.2, 200)\n",
    "log_S = king.log_eval(R)\n",
    "ax.plot(R, log_S)"
   ]
  },
  {
   "cell_type": "markdown",
   "metadata": {},
   "source": [
    "# Define pointings"
   ]
  },
  {
   "cell_type": "code",
   "execution_count": 0,
   "metadata": {},
   "outputs": [],
   "source": [
    "from astropy.coordinates import SkyCoord\n",
    "from astropy.time import Time\n",
    "from astropy.coordinates import CartesianRepresentation\n",
    "from astropy.coordinates.matrix_utilities import rotation_matrix\n",
    "import astropy.units as u\n",
    "\n",
    "from pfs.ga.targeting.projection import Pointing"
   ]
  },
  {
   "cell_type": "code",
   "execution_count": 0,
   "metadata": {},
   "outputs": [],
   "source": [
    "# Cartesian coordinate system\n",
    "SkyCoord(0, 90, unit='deg').cartesian       # (0, 0, 1)     -> z axis points to north\n",
    "SkyCoord(0, 0, unit='deg').cartesian         # (1, 0, 0)     -> x axis points to us\n",
    "SkyCoord(90, 0, unit='deg').cartesian        # (0, 1, 0)     -> y axis points to east"
   ]
  },
  {
   "cell_type": "code",
   "execution_count": 0,
   "metadata": {},
   "outputs": [],
   "source": [
    "def get_full_rotation(sep, pa, ra, dec):\n",
    "    r1 = rotation_matrix(sep * u.deg, 'z')  # separation of the pointing center from the center of the object\n",
    "    r2 = rotation_matrix(pa * u.deg, 'x')   # position angle of the ellipse\n",
    "    r3 = rotation_matrix(dec * u.deg, 'y')    # declination\n",
    "    r4 = rotation_matrix(-ra * u.deg, 'z')    # right ascension\n",
    "\n",
    "    return r4 @ r3 @ r2 @ r1\n",
    "\n",
    "def calculate_center(sep, pa, ra, dec):\n",
    "    r = get_full_rotation(sep, pa, ra, dec)\n",
    "    c = SkyCoord(CartesianRepresentation(1, 0, 0).transform(r))\n",
    "    return c.ra.value, c.dec.value\n",
    "\n",
    "# print(r1, r2, r3, r4, r4 @ r3 @ r2 @ r1)\n",
    "\n",
    "# print(SkyCoord(CartesianRepresentation(1, 0, 0)))\n",
    "# print(SkyCoord(CartesianRepresentation(1, 0, 0).transform(r1)))\n",
    "# print(SkyCoord(CartesianRepresentation(1, 0, 0).transform(r2 @ r1)))\n",
    "# print(SkyCoord(CartesianRepresentation(1, 0, 0).transform(r3 @ r2 @ r1)))\n",
    "# print(SkyCoord(CartesianRepresentation(1, 0, 0).transform(r4 @ r3 @ r2 @ r1)))"
   ]
  },
  {
   "cell_type": "code",
   "execution_count": 0,
   "metadata": {},
   "outputs": [],
   "source": [
    "field.pos.ra.value, field.pos.dec.value, calculate_center(1.5, 40, field.pos.ra.value, field.pos.dec.value)"
   ]
  },
  {
   "cell_type": "code",
   "execution_count": 0,
   "metadata": {},
   "outputs": [],
   "source": [
    "center = field.get_center()\n",
    "obs_time = Time('2025-03-25T10:00:00')        # midnight in Hawaii\n",
    "\n",
    "# Use the field defaults\n",
    "pointings = field.get_pointings(SubaruPFI)\n",
    "\n",
    "# Use the config file\n",
    "# pointings = [ p.get_pointing(obs_time=obs_time) for p in config.pointings ]\n",
    "\n",
    "# Generate pointings in a pattern\n",
    "# pa = 180 + dsph_pa\n",
    "# pa = -20\n",
    "# pointings = [\n",
    "#     # Pointing(*calculate_center(0.0, 0, field.pos.ra.value, field.pos.dec.value), posang=pa, obs_time=obs_time),\n",
    "    \n",
    "#     # 1\n",
    "#     # Pointing(*calculate_center(0.35, 50, field.pos.ra.value, field.pos.dec.value), posang=pa, obs_time=obs_time),\n",
    "#     # Pointing(*calculate_center(-0.35, 50, field.pos.ra.value, field.pos.dec.value), posang=pa, obs_time=obs_time),\n",
    "#     # Pointing(*calculate_center(0.6, 50, field.pos.ra.value, field.pos.dec.value), posang=pa, obs_time=obs_time),\n",
    "#     # Pointing(*calculate_center(-0.6, 50, field.pos.ra.value, field.pos.dec.value), posang=pa, obs_time=obs_time),\n",
    "\n",
    "#     # Pointing(*calculate_center(0.6, 140, field.pos.ra.value, field.pos.dec.value), posang=pa, obs_time=obs_time),\n",
    "#     # Pointing(*calculate_center(-0.6, 140, field.pos.ra.value, field.pos.dec.value), posang=pa, obs_time=obs_time),\n",
    "\n",
    "#     # Pointing(*calculate_center(1.0, 140, field.pos.ra.value, field.pos.dec.value), posang=pa, obs_time=obs_time),\n",
    "#     # Pointing(*calculate_center(-1.0, 140, field.pos.ra.value, field.pos.dec.value), posang=pa, obs_time=obs_time),\n",
    "\n",
    "#     # 2\n",
    "#     Pointing(*calculate_center(0.35, 50, field.pos.ra.value, field.pos.dec.value), posang=-20, obs_time=obs_time),\n",
    "#     Pointing(*calculate_center(-0.35, 50, field.pos.ra.value, field.pos.dec.value), posang=-20, obs_time=obs_time),\n",
    "\n",
    "#     Pointing(*calculate_center(0.6, 50, field.pos.ra.value, field.pos.dec.value), posang=-20, obs_time=obs_time),\n",
    "#     Pointing(*calculate_center(-0.6, 50, field.pos.ra.value, field.pos.dec.value), posang=-20, obs_time=obs_time),\n",
    "\n",
    "#     Pointing(*calculate_center(0.6, 140, field.pos.ra.value, field.pos.dec.value), posang=-20, obs_time=obs_time),\n",
    "#     Pointing(*calculate_center(-0.6, 140, field.pos.ra.value, field.pos.dec.value), posang=-20, obs_time=obs_time),\n",
    "\n",
    "#     Pointing(*calculate_center(1.0, 140, field.pos.ra.value, field.pos.dec.value), posang=-20, obs_time=obs_time),\n",
    "#     Pointing(*calculate_center(-1.0, 140, field.pos.ra.value, field.pos.dec.value), posang=-20, obs_time=obs_time),\n",
    "# ]\n",
    "\n",
    "# center, pointings"
   ]
  },
  {
   "cell_type": "markdown",
   "metadata": {},
   "source": [
    "# Plot"
   ]
  },
  {
   "cell_type": "code",
   "execution_count": 0,
   "metadata": {},
   "outputs": [],
   "source": [
    "f, ax = plt.subplots(1, 1, figsize=(8, 8), dpi=240, subplot_kw=dict(projection=wcs.wcs))\n",
    "\n",
    "fov.plot_observation(ax, obs, c='lightgrey', size=0.5)\n",
    "\n",
    "# Plot the tidal radius from the King profile fit\n",
    "ell = king.get_ellipse(R_t)\n",
    "fov.plot(ax, ell, native_frame='world', ls='--', lw=1, c='k')\n",
    "ell = king.get_ellipse(R_c)\n",
    "fov.plot(ax, ell, native_frame='world', ls='-', lw=1, c='k')\n",
    "\n",
    "# Plot the poiting center\n",
    "# fov.plot(ax, [field.pos.ra.value], [field.pos.dec.value], fmt='+r', ms=10, native_frame='world')\n",
    "\n",
    "for pp in pointings:\n",
    "    wfc = SubaruWFC(pp)\n",
    "    pfi = SubaruPFI(wfc, instrument_options=config.instrument_options)\n",
    "\n",
    "    pfi.plot_focal_plane(ax, fov, corners=True, c='r', ls='-')\n",
    "    pfi.plot_focal_plane(ax, fov, fill=True, alpha=0.2)\n",
    "\n",
    "ax.set_xlim(1, -3)\n",
    "ax.set_ylim(-3, 1)\n",
    "ax.grid()"
   ]
  },
  {
   "cell_type": "code",
   "execution_count": 0,
   "metadata": {},
   "outputs": [],
   "source": []
  }
 ],
 "metadata": {
  "kernelspec": {
   "display_name": "dobos-torch",
   "language": "python",
   "name": "python3"
  },
  "language_info": {
   "codemirror_mode": {
    "name": "ipython",
    "version": 3
   },
   "file_extension": ".py",
   "mimetype": "text/x-python",
   "name": "python",
   "nbconvert_exporter": "python",
   "pygments_lexer": "ipython3",
   "version": "3.10.15"
  }
 },
 "nbformat": 4,
 "nbformat_minor": 2
}