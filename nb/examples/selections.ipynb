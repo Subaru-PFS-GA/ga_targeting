{
 "cells": [
  {
   "cell_type": "code",
   "execution_count": 0,
   "metadata": {},
   "outputs": [],
   "source": [
    "FIELD = 'dra'\n",
    "ISOCHRONES_PATH = '/datascope/subaru/data/cmdfit/isochrones/dartmouth/import/afep0_cfht_sdss_hsc_nb_bosz'\n",
    "OBS_PATH = '/datascope/subaru/data/targeting/dSph/draco/draco_tpall3e_g24.cat'"
   ]
  },
  {
   "cell_type": "code",
   "execution_count": 0,
   "metadata": {},
   "outputs": [],
   "source": [
    "import os, sys\n",
    "import numpy as np\n",
    "import pandas as pd\n",
    "import matplotlib as mpl\n",
    "import matplotlib.pyplot as plt\n",
    "from matplotlib.gridspec import GridSpec\n",
    "from matplotlib.colors import LinearSegmentedColormap\n",
    "from matplotlib.patches import Ellipse, Circle\n",
    "from scipy.special import logsumexp\n",
    "from scipy.interpolate import interp1d"
   ]
  },
  {
   "cell_type": "code",
   "execution_count": 0,
   "metadata": {},
   "outputs": [],
   "source": [
    "plt.rc('font', size=6) #controls default text size"
   ]
  },
  {
   "cell_type": "code",
   "execution_count": 0,
   "metadata": {},
   "outputs": [],
   "source": [
    "%load_ext autoreload"
   ]
  },
  {
   "cell_type": "code",
   "execution_count": 0,
   "metadata": {},
   "outputs": [],
   "source": [
    "%autoreload 2"
   ]
  },
  {
   "cell_type": "code",
   "execution_count": 0,
   "metadata": {},
   "outputs": [],
   "source": [
    "# import debugpy\n",
    "# debugpy.listen(('0.0.0.0', 5698))"
   ]
  },
  {
   "cell_type": "markdown",
   "metadata": {},
   "source": [
    "# Load isochrones"
   ]
  },
  {
   "cell_type": "code",
   "execution_count": 0,
   "metadata": {},
   "outputs": [],
   "source": [
    "from pfs.ga.isochrones.isogrid import IsoGrid"
   ]
  },
  {
   "cell_type": "code",
   "execution_count": 0,
   "metadata": {},
   "outputs": [],
   "source": [
    "iso = IsoGrid()\n",
    "iso.load(os.path.join(ISOCHRONES_PATH, 'isochrones.h5'))"
   ]
  },
  {
   "cell_type": "code",
   "execution_count": 0,
   "metadata": {},
   "outputs": [],
   "source": [
    "iso.values.keys()"
   ]
  },
  {
   "cell_type": "markdown",
   "metadata": {},
   "source": [
    "# Load observations"
   ]
  },
  {
   "cell_type": "code",
   "execution_count": 0,
   "metadata": {},
   "outputs": [],
   "source": [
    "from pfs.ga.targeting.targets.dsph import GALAXIES\n",
    "field = GALAXIES[FIELD]"
   ]
  },
  {
   "cell_type": "code",
   "execution_count": 0,
   "metadata": {},
   "outputs": [],
   "source": [
    "from pfs.ga.targeting.instrument import *\n",
    "from pfs.ga.targeting.diagram import CMD, CCD, ColorAxis, MagnitudeAxis\n",
    "from pfs.ga.targeting.photometry import Photometry, Magnitude, Color"
   ]
  },
  {
   "cell_type": "code",
   "execution_count": 0,
   "metadata": {},
   "outputs": [],
   "source": [
    "obs = field.get_text_observation_reader().read(OBS_PATH)\n",
    "obs.data.head()"
   ]
  },
  {
   "cell_type": "code",
   "execution_count": 0,
   "metadata": {},
   "outputs": [],
   "source": [
    "hsc = field.get_photometry(SubaruHSC)\n",
    "cmd = field.get_cmd(SubaruHSC)\n",
    "ccd = field.get_ccd(SubaruHSC)"
   ]
  },
  {
   "cell_type": "code",
   "execution_count": 0,
   "metadata": {},
   "outputs": [],
   "source": [
    "f, axs = plt.subplots(1, 2, figsize=(6, 4), dpi=120)\n",
    "\n",
    "cmd.plot_observation(axs[0], obs)\n",
    "ccd.plot_observation(axs[1], obs)\n",
    "\n",
    "f.tight_layout()"
   ]
  },
  {
   "cell_type": "markdown",
   "metadata": {},
   "source": [
    "# Color cuts"
   ]
  },
  {
   "cell_type": "code",
   "execution_count": 0,
   "metadata": {},
   "outputs": [],
   "source": [
    "from pfs.ga.targeting import ProbabilityMap\n",
    "from pfs.ga.targeting.selection import ProbabilityCut, ProbabilitySampling, MagnitudeSelection, ColorSelection, LinearSelection"
   ]
  },
  {
   "cell_type": "markdown",
   "metadata": {},
   "source": [
    "### Broadband color cut"
   ]
  },
  {
   "cell_type": "code",
   "execution_count": 0,
   "metadata": {},
   "outputs": [],
   "source": [
    "mask = field.get_selection_mask(obs, nb=False, blue=False)\n",
    "\n",
    "f, axs = plt.subplots(1, 2, figsize=(6, 4), dpi=120)\n",
    "\n",
    "cmd.plot_observation(axs[0], obs)\n",
    "ccd.plot_observation(axs[1], obs)\n",
    "\n",
    "cmd.plot_observation(axs[0], obs, mask=mask, color='r')\n",
    "ccd.plot_observation(axs[1], obs, mask=mask, color='r')\n",
    "\n",
    "for ax in axs.ravel():\n",
    "    ax.grid(True)\n",
    "\n",
    "f.tight_layout()"
   ]
  },
  {
   "cell_type": "code",
   "execution_count": 0,
   "metadata": {},
   "outputs": [],
   "source": [
    "mask = field.get_selection_mask(obs, nb=False, blue=False)\n",
    "\n",
    "f, axs = plt.subplots(1, 2, figsize=(6, 4), dpi=120)\n",
    "\n",
    "cmd.plot_observation(axs[0], obs, mask=mask)\n",
    "ccd.plot_observation(axs[1], obs, mask=mask)\n",
    "\n",
    "for ax in axs.ravel():\n",
    "    ax.grid(True)\n",
    "\n",
    "f.tight_layout()"
   ]
  },
  {
   "cell_type": "markdown",
   "metadata": {},
   "source": [
    "### Narrow band color cuts"
   ]
  },
  {
   "cell_type": "code",
   "execution_count": 0,
   "metadata": {},
   "outputs": [],
   "source": [
    "mask = field.get_nb_selection_mask(obs)\n",
    "#mask = field.get_selection_mask(obs, nb=True)\n",
    "\n",
    "f, axs = plt.subplots(1, 2, figsize=(6, 4), dpi=120)\n",
    "\n",
    "cmd.plot_observation(axs[0], obs)\n",
    "ccd.plot_observation(axs[1], obs)\n",
    "\n",
    "cmd.plot_observation(axs[0], obs, mask=mask, color='r', size=1)\n",
    "ccd.plot_observation(axs[1], obs, mask=mask, color='r')\n",
    "\n",
    "for ax in axs.ravel():\n",
    "    ax.grid(True)\n",
    "\n",
    "f.tight_layout()"
   ]
  },
  {
   "cell_type": "code",
   "execution_count": 0,
   "metadata": {},
   "outputs": [],
   "source": [
    "mask = field.get_selection_mask(obs, nb=False)\n",
    "mask_nb = field.get_selection_mask(obs, nb=True)\n",
    "\n",
    "f, axs = plt.subplots(1, 2, figsize=(6, 4), dpi=120)\n",
    "\n",
    "cmd.plot_observation(axs[0], obs, mask=mask)\n",
    "ccd.plot_observation(axs[1], obs, mask=mask)\n",
    "\n",
    "cmd.plot_observation(axs[0], obs, mask=mask_nb, color='r', size=1)\n",
    "ccd.plot_observation(axs[1], obs, mask=mask_nb, color='r')\n",
    "\n",
    "for ax in axs.ravel():\n",
    "    ax.grid(True)\n",
    "\n",
    "f.tight_layout()"
   ]
  },
  {
   "cell_type": "code",
   "execution_count": 0,
   "metadata": {},
   "outputs": [],
   "source": [
    "from pfs.ga.targeting import Isochrone\n",
    "from pfs.ga.targeting.selection import IsochroneSelection"
   ]
  },
  {
   "cell_type": "code",
   "execution_count": 0,
   "metadata": {},
   "outputs": [],
   "source": [
    "import pfs.ga.isochrones.tensorlib as tt"
   ]
  },
  {
   "cell_type": "code",
   "execution_count": 0,
   "metadata": {},
   "outputs": [],
   "source": [
    "mask = field.get_selection_mask(obs, nb=False)\n",
    "mask_nb = field.get_selection_mask(obs, nb=True)\n",
    "\n",
    "f, axs = plt.subplots(1, 2, figsize=(6, 4), dpi=120)\n",
    "\n",
    "cmd.plot_observation(axs[0], obs, mask=mask_nb)\n",
    "ccd.plot_observation(axs[1], obs, mask=mask_nb)\n",
    "\n",
    "N = 10000\n",
    "\n",
    "t = tt.tensor(N * [10], dtype=tt.float64)\n",
    "Fe_H = tt.tensor(N * [-2.5], dtype=tt.float64)\n",
    "M = tt.linspace(0.6, 1.0, N, dtype=tt.float64)\n",
    "\n",
    "mi_EEP, mi_M_ini, (hsc_g, hsc_i, hsc_nb515), mask = \\\n",
    "    iso.interp3d(Fe_H, t, M,\n",
    "                  [iso.values['hsc_g'], iso.values['hsc_i'], iso.values['hsc_nb515']])\n",
    "\n",
    "axs[0].plot(hsc_g - hsc_i, hsc_g + 19.557, '-b')\n",
    "axs[1].plot(hsc_g - hsc_i, hsc_g - hsc_nb515, '-b')\n",
    "\n",
    "###\n",
    "\n",
    "t = tt.tensor(N * [10.12], dtype=tt.float64)\n",
    "Fe_H = tt.tensor(N * [-1.8], dtype=tt.float64)\n",
    "M = tt.linspace(0.6, 1.0, N, dtype=tt.float64)\n",
    "\n",
    "mi_EEP, mi_M_ini, (hsc_g, hsc_i, hsc_nb515), mask = \\\n",
    "    iso.interp3d(Fe_H, t, M,\n",
    "                  [iso.values['hsc_g'], iso.values['hsc_i'], iso.values['hsc_nb515']])\n",
    "\n",
    "axs[0].plot(hsc_g - hsc_i, hsc_g + 19.557, '-r')\n",
    "axs[1].plot(hsc_g - hsc_i, hsc_g - hsc_nb515, '-r')\n",
    "\n",
    "for ax in axs.ravel():\n",
    "    ax.grid(True)\n",
    "\n",
    "f.tight_layout()"
   ]
  },
  {
   "cell_type": "markdown",
   "metadata": {},
   "source": [
    "### Select using isochrones"
   ]
  },
  {
   "cell_type": "code",
   "execution_count": 0,
   "metadata": {},
   "outputs": [],
   "source": [
    "iso_blue = Isochrone()\n",
    "iso_blue.from_isogrid(hsc, iso, Fe_H=-2.5, log_t=10.135, DM=19.2)\n",
    "\n",
    "iso_red = Isochrone()\n",
    "iso_red.from_isogrid(hsc, iso, Fe_H=-1.6, log_t=10.11, DM=19.2)"
   ]
  },
  {
   "cell_type": "code",
   "execution_count": 0,
   "metadata": {},
   "outputs": [],
   "source": [
    "mask = IsochroneSelection(iso_blue, cmd.axes, selection_axis=0, selection_direction='+',\n",
    "                          DM=19.2, error_sigma=[-2, 0]).apply(obs)\n",
    "\n",
    "mask &= IsochroneSelection(iso_red, cmd.axes, selection_axis=0, selection_direction='-',\n",
    "                          DM=19.2, error_sigma=[2, 0]).apply(obs)\n",
    "\n",
    "f, axs = plt.subplots(1, 2, figsize=(6, 4), dpi=120)\n",
    "\n",
    "cmd.plot_observation(axs[0], obs, c='gray')\n",
    "ccd.plot_observation(axs[1], obs, c='gray')\n",
    "\n",
    "cmd.plot_observation(axs[0], obs, mask=mask, c='g')\n",
    "ccd.plot_observation(axs[1], obs, mask=mask, c='g')\n",
    "\n",
    "# cmd.plot_isochrone(axs[0], iso_blue, observed=True, error_sigma=[-2.0, -2.0], c='blue', lw=0.5)\n",
    "# cmd.plot_isochrone(axs[0], iso_red, observed=True, error_sigma=[2.0, 2.0], c='red', lw=0.5)\n",
    "cmd.plot_isochrone(axs[0], iso_blue, observed=True, c='blue', lw=0.5)\n",
    "cmd.plot_isochrone(axs[0], iso_red, observed=True, c='red', lw=0.5)\n",
    "\n",
    "f.tight_layout()"
   ]
  },
  {
   "cell_type": "code",
   "execution_count": 0,
   "metadata": {},
   "outputs": [],
   "source": []
  }
 ],
 "metadata": {
  "kernelspec": {
   "display_name": "dobos-torch",
   "language": "python",
   "name": "python3"
  },
  "language_info": {
   "codemirror_mode": {
    "name": "ipython",
    "version": 3
   },
   "file_extension": ".py",
   "mimetype": "text/x-python",
   "name": "python",
   "nbconvert_exporter": "python",
   "pygments_lexer": "ipython3",
   "version": "3.10.15"
  }
 },
 "nbformat": 4,
 "nbformat_minor": 2
}