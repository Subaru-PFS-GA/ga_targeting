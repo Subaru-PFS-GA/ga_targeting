{
 "cells": [
  {
   "cell_type": "code",
   "execution_count": 0,
   "metadata": {},
   "outputs": [],
   "source": [
    "DEBUG = True\n",
    "\n",
    "FIELD = 'draco'\n",
    "PMAP_PATH = '/datascope/subaru/data/targeting/dSph/draco/pmap/draco_nb/pmap.h5'\n",
    "OBS_PATH = '/datascope/subaru/data/targeting/dSph/draco/draco_tpall3e_g24.cat'\n",
    "ISOCHRONES_PATH = '/datascope/subaru/data/cmdfit/isochrones/dartmouth/import/afep0_cfht_sdss_hsc'"
   ]
  },
  {
   "cell_type": "code",
   "execution_count": 0,
   "metadata": {},
   "outputs": [],
   "source": [
    "import os, sys\n",
    "from datetime import datetime\n",
    "import numpy as np\n",
    "import pandas as pd\n",
    "import matplotlib as mpl\n",
    "import matplotlib.pyplot as plt\n",
    "from matplotlib.gridspec import GridSpec\n",
    "from matplotlib.colors import LinearSegmentedColormap\n",
    "from matplotlib.patches import Ellipse, Circle\n",
    "from scipy.special import logsumexp\n",
    "from scipy.interpolate import interp1d\n",
    "\n",
    "from astropy import wcs\n",
    "from astropy import units as u\n",
    "from astropy.coordinates import Angle"
   ]
  },
  {
   "cell_type": "code",
   "execution_count": 0,
   "metadata": {},
   "outputs": [],
   "source": [
    "plt.rc('font', size=6) #controls default text size"
   ]
  },
  {
   "cell_type": "code",
   "execution_count": 0,
   "metadata": {},
   "outputs": [],
   "source": [
    "%load_ext autoreload\n",
    "%autoreload 2"
   ]
  },
  {
   "cell_type": "code",
   "execution_count": 0,
   "metadata": {},
   "outputs": [],
   "source": [
    "if DEBUG and 'debug' not in globals():\n",
    "    import debugpy\n",
    "    debugpy.listen(('0.0.0.0', int(os.environ['PFS_TARGETING_DEBUGPORT'])))\n",
    "    debug = True"
   ]
  },
  {
   "cell_type": "markdown",
   "metadata": {},
   "source": [
    "# Initialize the plots"
   ]
  },
  {
   "cell_type": "code",
   "execution_count": 0,
   "metadata": {},
   "outputs": [],
   "source": [
    "from pfs.ga.targeting.targets.dsph import GALAXIES\n",
    "from pfs.ga.targeting.instrument import *\n",
    "from pfs.ga.targeting.projection import WcsProjection\n",
    "from pfs.ga.targeting.diagram import *"
   ]
  },
  {
   "cell_type": "code",
   "execution_count": 0,
   "metadata": {},
   "outputs": [],
   "source": [
    "field = GALAXIES[FIELD]\n",
    "\n",
    "hsc = field.get_photometry()\n",
    "cmd = field.get_cmd()\n",
    "ccd = field.get_ccd()"
   ]
  },
  {
   "cell_type": "code",
   "execution_count": 0,
   "metadata": {},
   "outputs": [],
   "source": [
    "center = field.get_center()\n",
    "pointings = field.get_pointings(SubaruPFI)\n",
    "center, pointings"
   ]
  },
  {
   "cell_type": "code",
   "execution_count": 0,
   "metadata": {},
   "outputs": [],
   "source": [
    "wcs = WcsProjection(center, proj='TAN')\n",
    "wfc = SubaruWFC(center)\n",
    "fov = FOV(projection=wcs)\n",
    "pfi = SubaruPFI(instrument_options={'layout': 'calibration'})\n",
    "fp = FP(wfc)"
   ]
  },
  {
   "cell_type": "markdown",
   "metadata": {},
   "source": [
    "# Load the isochrones"
   ]
  },
  {
   "cell_type": "code",
   "execution_count": 0,
   "metadata": {},
   "outputs": [],
   "source": [
    "from pfs.ga.isochrones.isogrid import IsoGrid\n",
    "from pfs.ga.targeting import Isochrone"
   ]
  },
  {
   "cell_type": "code",
   "execution_count": 0,
   "metadata": {},
   "outputs": [],
   "source": [
    "iso = IsoGrid()\n",
    "iso.load(os.path.join(ISOCHRONES_PATH, 'isochrones.h5'))"
   ]
  },
  {
   "cell_type": "code",
   "execution_count": 0,
   "metadata": {},
   "outputs": [],
   "source": [
    "iso.values.keys()"
   ]
  },
  {
   "cell_type": "markdown",
   "metadata": {},
   "source": [
    "# Query the GAIA database"
   ]
  },
  {
   "cell_type": "code",
   "execution_count": 0,
   "metadata": {},
   "outputs": [],
   "source": [
    "from pfs.ga.targeting.io import GaiaReader"
   ]
  },
  {
   "cell_type": "code",
   "execution_count": 0,
   "metadata": {},
   "outputs": [],
   "source": [
    "reader = GaiaReader()\n",
    "gaia = reader.cone_search((field.pos.ra, field.pos.dec), field.rad)\n",
    "gaia.data"
   ]
  },
  {
   "cell_type": "markdown",
   "metadata": {},
   "source": [
    "# Load the observations"
   ]
  },
  {
   "cell_type": "code",
   "execution_count": 0,
   "metadata": {},
   "outputs": [],
   "source": [
    "r = field.get_text_observation_reader()\n",
    "obs = r.read(OBS_PATH)\n",
    "obs.data.head()"
   ]
  },
  {
   "cell_type": "code",
   "execution_count": 0,
   "metadata": {},
   "outputs": [],
   "source": [
    "# Cross-match with GAIA\n",
    "\n",
    "hsc_gaia_idx, separation = obs.cross_match(gaia)\n",
    "print(f'GAIA->HSC source median separation: {np.median(separation.arcsec)} arcsec.')\n",
    "hsc_gaia_mask = (separation.arcsec < 0.1)\n",
    "print(f'HSC targets with matching GAIA targets: {hsc_gaia_mask.sum()}')"
   ]
  },
  {
   "cell_type": "code",
   "execution_count": 0,
   "metadata": {},
   "outputs": [],
   "source": [
    "# Merge proper motions from GAIA into HSC\n",
    "\n",
    "columns = ['parallax', 'pm', 'pmdec', 'pmra', 'err_parallax', 'err_pmdec', 'err_pmra']\n",
    "obs.merge(gaia, hsc_gaia_idx, columns=columns, mask=hsc_gaia_mask)"
   ]
  },
  {
   "cell_type": "code",
   "execution_count": 0,
   "metadata": {},
   "outputs": [],
   "source": [
    "obs.columns"
   ]
  },
  {
   "cell_type": "markdown",
   "metadata": {},
   "source": [
    "# Load the pmap"
   ]
  },
  {
   "cell_type": "code",
   "execution_count": 0,
   "metadata": {},
   "outputs": [],
   "source": [
    "from pfs.ga.targeting import ProbabilityMap, Isochrone"
   ]
  },
  {
   "cell_type": "code",
   "execution_count": 0,
   "metadata": {},
   "outputs": [],
   "source": [
    "pmap = ProbabilityMap(cmd.axes)\n",
    "pmap.load(PMAP_PATH)"
   ]
  },
  {
   "cell_type": "code",
   "execution_count": 0,
   "metadata": {},
   "outputs": [],
   "source": [
    "# Bluest possible isochron from the CMD simulation\n",
    "iso_blue = Isochrone()\n",
    "iso_blue.from_isogrid(hsc, iso, Fe_H=-2.0, log_t=10.111, DM=19.2)"
   ]
  },
  {
   "cell_type": "code",
   "execution_count": 0,
   "metadata": {},
   "outputs": [],
   "source": [
    "f, axs = plt.subplots(1, 2, figsize=(6, 4), dpi=120)\n",
    "\n",
    "l0 = cmd.plot_probability_map(axs[0], pmap, 0)\n",
    "# cmd.plot_isochrone(axs[0], iso_blue, observed=True, error_sigma=[-2.0, -2.0], c='blue', lw=0.5)\n",
    "cmd.plot_isochrone(axs[0], iso_blue, observed=True, c='blue', lw=0.5)\n",
    "axs[0].set_title(\"non-member\")\n",
    "axs[0].set_xlim(0, 2)\n",
    "axs[0].grid()\n",
    "\n",
    "l1 = cmd.plot_probability_map(axs[1], pmap, 1)\n",
    "cmd.plot_isochrone(axs[1], iso_blue, observed=True, error_sigma=[-2.0, -2.0], c='blue', lw=0.5)\n",
    "axs[1].set_title(\"member\")\n",
    "axs[1].set_xlim(0, 2)\n",
    "axs[1].grid()\n",
    "\n",
    "f.tight_layout()"
   ]
  },
  {
   "cell_type": "markdown",
   "metadata": {},
   "source": [
    "# Select sample and assign priorities"
   ]
  },
  {
   "cell_type": "code",
   "execution_count": 0,
   "metadata": {},
   "outputs": [],
   "source": [
    "from pfs.ga.targeting.selection import ProbabilityCut"
   ]
  },
  {
   "cell_type": "code",
   "execution_count": 0,
   "metadata": {},
   "outputs": [],
   "source": [
    "obs.data.columns"
   ]
  },
  {
   "cell_type": "code",
   "execution_count": 0,
   "metadata": {},
   "outputs": [],
   "source": [
    "# Apply priorities\n",
    "probcut = ProbabilityCut(pmap, 1, lp_member_limit=np.log(0.001))\n",
    "selection = field.get_selection_mask(obs, probcut)\n",
    "field.assign_probabilities(obs, pmap, mask=selection)\n",
    "field.assign_priorities(obs, isogrid=iso)\n",
    "\n",
    "#field.assign_priorities_old(obs)"
   ]
  },
  {
   "cell_type": "code",
   "execution_count": 0,
   "metadata": {},
   "outputs": [],
   "source": [
    "selection.sum(), np.isfinite(obs.data['p_member']).sum(), np.isnan(obs.data['p_member']).sum()"
   ]
  },
  {
   "cell_type": "code",
   "execution_count": 0,
   "metadata": {},
   "outputs": [],
   "source": [
    "cmap = plt.get_cmap('tab10')\n",
    "\n",
    "f = plt.figure(figsize=(8, 4), dpi=240)\n",
    "gs = f.add_gridspec(2, 3, width_ratios=[2, 2, 3], height_ratios=[4, 1], wspace=0.4, hspace=0.5)\n",
    "\n",
    "axs = [f.add_subplot(gs[0, 0]), f.add_subplot(gs[0, 1]), f.add_subplot(gs[0, 2], projection=wcs.wcs)]\n",
    "cax = f.add_subplot(gs[1, :])\n",
    "\n",
    "# cmd.plot_observation(axs[0], obs, c='gray', observed=True)\n",
    "pp = np.sort(obs.data['priority'][obs.data['priority'] >= 0].unique())[::-1]\n",
    "for p in pp:\n",
    "    mask = (obs.data['priority'] == p)\n",
    "    l = cmd.plot_observation(axs[0], obs, c=obs.data['priority'][mask], mask=mask, observed=True,\n",
    "                             vmin=0, vmax=pp.max(), cmap=cmap)\n",
    "\n",
    "    ccd.plot_observation(axs[1], obs, c=obs.data['priority'][mask], mask=mask, observed=True,\n",
    "                             vmin=0, vmax=pp.max(), cmap=cmap)\n",
    "\n",
    "    fov.plot_observation(axs[2], obs, c=obs.data['priority'][mask], mask=mask, observed=True,\n",
    "                             vmin=0, vmax=pp.max(), cmap=cmap)\n",
    "\n",
    "# xx = np.linspace(0, 1, 20)\n",
    "# axs[0].plot(xx, 19.5 - 1.5 * xx)\n",
    "\n",
    "# xx = np.linspace(0, 1, 20)\n",
    "# axs[1].plot(xx, 0.25 * xx - 0.15)\n",
    "\n",
    "# ccd.plot_observation(axs[1], obs, c='gray', observed=True)\n",
    "\n",
    "# fov.plot_observation(axs[2], obs, c='gray', observed=True)\n",
    "        \n",
    "pp = field.get_pointings(SubaruPFI)\n",
    "for p in pp:\n",
    "    pfi.plot_focal_plane(axs[2], fov, corners=True, projection=SubaruWFC(p))\n",
    "\n",
    "axs[2].set_xlim(0.75, -2.75)\n",
    "axs[2].set_ylim(-2.75, 0.75)\n",
    "\n",
    "f.suptitle('HSC targets')\n",
    "f.colorbar(l, cax=cax, orientation='horizontal')"
   ]
  },
  {
   "cell_type": "code",
   "execution_count": 0,
   "metadata": {},
   "outputs": [],
   "source": [
    "cmap = plt.get_cmap('tab10')\n",
    "\n",
    "pp = np.sort(obs.data['priority'][obs.data['priority'] >= 0].unique())\n",
    "for p in pp:\n",
    "\n",
    "    f = plt.figure(figsize=(8, 4), dpi=240)\n",
    "    gs = f.add_gridspec(1, 3, width_ratios=[2, 2, 3], wspace=0.4, hspace=0.5)\n",
    "\n",
    "    axs = [f.add_subplot(gs[0, 0]), f.add_subplot(gs[0, 1]), f.add_subplot(gs[0, 2], projection=wcs.wcs)]\n",
    "\n",
    "    cmd.plot_observation(axs[0], obs, c='lightgray', mask=selection, observed=True)\n",
    "    ccd.plot_observation(axs[1], obs, c='lightgray', mask=selection, observed=True)\n",
    "\n",
    "    mask = (obs.data['priority'] == p)\n",
    "    l = cmd.plot_observation(axs[0], obs, c='blue', mask=mask, observed=True,\n",
    "                             vmin=0, vmax=pp.max(), cmap=cmap)\n",
    "\n",
    "    ccd.plot_observation(axs[1], obs, c='blue', mask=mask, observed=True,\n",
    "                             vmin=0, vmax=pp.max(), cmap=cmap)\n",
    "\n",
    "    fov.plot_observation(axs[2], obs, c='blue', mask=mask, observed=True,\n",
    "                             vmin=0, vmax=pp.max(), cmap=cmap)\n",
    "\n",
    "\n",
    "    # fov.plot_observation(axs[2], obs, c='gray', observed=True)\n",
    "            \n",
    "    for pointing in field.get_pointings(SubaruPFI):\n",
    "        pfi.plot_focal_plane(axs[2], fov, corners=True, projection=SubaruWFC(pointing))\n",
    "\n",
    "    axs[2].set_xlim(0.75, -2.75)\n",
    "    axs[2].set_ylim(-2.75, 0.75)\n",
    "\n",
    "    f.suptitle(f'HSC targets - priority {p} - N = {mask.sum()}')"
   ]
  },
  {
   "cell_type": "code",
   "execution_count": 0,
   "metadata": {},
   "outputs": [],
   "source": [
    "pp = np.sort(obs.data['priority'][obs.data['priority'] >= 0].unique())[::-1]\n",
    "for p in pp:\n",
    "\n",
    "    f, ax = plt.subplots(1, 1)\n",
    "\n",
    "    mask = selection & (obs.data['priority'] == p) & (~obs.data['p_member'].isna())\n",
    "    bins = np.linspace(0, 1.0, 31)\n",
    "    hist, _ = np.histogram(obs.data['p_member'][mask], bins=bins)\n",
    "    ax.plot(0.5 * (bins[1:] + bins[:-1]), hist)\n",
    "\n",
    "    ax.set_title(f'Priority {p}')"
   ]
  },
  {
   "cell_type": "code",
   "execution_count": 0,
   "metadata": {},
   "outputs": [],
   "source": [
    "obs.get_magnitude(hsc.magnitudes['g'])"
   ]
  },
  {
   "cell_type": "code",
   "execution_count": 0,
   "metadata": {},
   "outputs": [],
   "source": [
    "pp = np.sort(obs.data['priority'][obs.data['priority'] >= 0].unique())[::-1]\n",
    "for p in pp:\n",
    "\n",
    "    f, ax = plt.subplots(1, 1)\n",
    "\n",
    "    mask = selection & (obs.data['priority'] == p) & (~obs.data['p_member'].isna())\n",
    "    bins = np.linspace(17, 23, 31)\n",
    "    g, _ = obs.get_magnitude(hsc.magnitudes['g'])\n",
    "    hist, _ = np.histogram(g[mask], bins=bins)\n",
    "    ax.plot(0.5 * (bins[1:] + bins[:-1]), hist)\n",
    "\n",
    "    ax.set_title(f'Priority {p}')"
   ]
  },
  {
   "cell_type": "code",
   "execution_count": 0,
   "metadata": {},
   "outputs": [],
   "source": []
  }
 ],
 "metadata": {
  "kernelspec": {
   "display_name": "dobos-torch",
   "language": "python",
   "name": "python3"
  },
  "language_info": {
   "codemirror_mode": {
    "name": "ipython",
    "version": 3
   },
   "file_extension": ".py",
   "mimetype": "text/x-python",
   "name": "python",
   "nbconvert_exporter": "python",
   "pygments_lexer": "ipython3",
   "version": "3.10.15"
  }
 },
 "nbformat": 4,
 "nbformat_minor": 2
}