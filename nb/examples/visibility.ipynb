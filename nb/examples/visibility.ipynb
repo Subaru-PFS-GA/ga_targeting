{
 "cells": [
  {
   "cell_type": "code",
   "execution_count": 0,
   "id": "08f41619",
   "metadata": {},
   "outputs": [],
   "source": [
    "DEBUG = False\n",
    "FIELD = None\n",
    "CONFIG_FILES = [\n",
    "    # '/home/dobos/project/ga_targeting/configs/netflow/SSP/MW/outerdisk_common.py',\n",
    "    # '/home/dobos/project/ga_targeting/configs/netflow/SSP/MW/outerdisk_l90_b28.py' \n",
    "    # '/home/dobos/project/ga_targeting/configs/netflow/SSP/MW/outerdisk_l90_bm28.py' \n",
    "    '/home/dobos/project/ga_targeting/configs/netflow/SSP/MW/outerdisk_l90_b25.py' \n",
    "    \n",
    "    # '/home/dobos/project/ga_targeting/configs/netflow/SSP/CC/crosscalib_ra288_dec-11.py'\n",
    "    # '/home/dobos/project/ga_targeting/configs/netflow/SSP/CC/crosscalib_ra288_dec-22.py'\n",
    "]\n",
    "# CENTER = (273.525, 60.88)\n",
    "# CENTER, PA = (340.4, 26.50), 120       # outerdisk_l90_bm28_faint\n",
    "# CENTER = (290.0, -22.0)\n",
    "CENTER = (280.0, 60.5)                   # outerdisk_l90_b25\n",
    "PA = 0                                   # Can be anything, not used in this script\n",
    "\n",
    "# Observation time frame in HST\n",
    "TIME_FROM = '2025-06-27 12:00:00'\n",
    "TIME_TO = '2025-07-02 12:00:00'"
   ]
  },
  {
   "cell_type": "code",
   "execution_count": 0,
   "id": "8721bfbe",
   "metadata": {},
   "outputs": [],
   "source": [
    "import os, sys\n",
    "import dateutil\n",
    "import numpy as np\n",
    "import matplotlib.pyplot as plt\n",
    "from scipy.interpolate import interp1d"
   ]
  },
  {
   "cell_type": "code",
   "execution_count": 0,
   "id": "4cdc1e49",
   "metadata": {},
   "outputs": [],
   "source": [
    "plt.rc('font', size=6)"
   ]
  },
  {
   "cell_type": "code",
   "execution_count": 0,
   "id": "12f5d395",
   "metadata": {},
   "outputs": [],
   "source": [
    "%load_ext autoreload\n",
    "%autoreload 2"
   ]
  },
  {
   "cell_type": "code",
   "execution_count": 0,
   "id": "c51a562b",
   "metadata": {},
   "outputs": [],
   "source": [
    "if DEBUG and 'debug' not in globals():\n",
    "    import debugpy\n",
    "    debugpy.listen(('0.0.0.0', 5698))\n",
    "    debug = True"
   ]
  },
  {
   "cell_type": "code",
   "execution_count": 0,
   "id": "324e8793",
   "metadata": {},
   "outputs": [],
   "source": [
    "from astropy.time import Time, TimeDelta\n",
    "from astropy.coordinates import SkyCoord, EarthLocation, AltAz, get_body\n",
    "from astroplan import Observer\n",
    "from astroplan.moon import moon_phase_angle, moon_illumination\n",
    "import astropy.units as u\n",
    "\n",
    "from pfs.utils.coordinates import Subaru_POPT2_PFS\n",
    "\n",
    "from pfs.ga.targeting.targets.dsph import GALAXIES as DSPH_FIELDS\n",
    "from pfs.ga.targeting.targets.m31 import M31_FIELDS\n",
    "from pfs.ga.targeting.instrument import *\n",
    "from pfs.ga.targeting.diagram import CMD, CCD, FOV, FP, ColorAxis, MagnitudeAxis\n",
    "from pfs.ga.targeting.photometry import Photometry, Magnitude, Color\n",
    "from pfs.ga.targeting.projection import Pointing, WcsProjection\n",
    "from pfs.ga.targeting.config.netflow import NetflowConfig"
   ]
  },
  {
   "cell_type": "code",
   "execution_count": 0,
   "id": "0b3901ce",
   "metadata": {},
   "outputs": [],
   "source": [
    "if FIELD is not None:\n",
    "    field = DSPH_FIELDS[FIELD]\n",
    "    center = field.get_center()\n",
    "else:\n",
    "    center = Pointing(*CENTER, posang=PA)\n",
    "\n",
    "center"
   ]
  },
  {
   "cell_type": "markdown",
   "id": "f990d9b7",
   "metadata": {},
   "source": [
    "# Load the config files"
   ]
  },
  {
   "cell_type": "code",
   "execution_count": 0,
   "id": "fae011e0",
   "metadata": {},
   "outputs": [],
   "source": [
    "if FIELD is not None:\n",
    "    config = field.get_netflow_config()\n",
    "else:\n",
    "    config = NetflowConfig.default()\n",
    "    \n",
    "config.load(CONFIG_FILES, ignore_collisions=True)"
   ]
  },
  {
   "cell_type": "code",
   "execution_count": 0,
   "id": "0c4cb969",
   "metadata": {},
   "outputs": [],
   "source": [
    "config.pointings"
   ]
  },
  {
   "cell_type": "code",
   "execution_count": 0,
   "id": "fae47f68",
   "metadata": {},
   "outputs": [],
   "source": [
    "config.instrument_options"
   ]
  },
  {
   "cell_type": "markdown",
   "id": "7b77df1c",
   "metadata": {},
   "source": [
    "# Plot the pointings"
   ]
  },
  {
   "cell_type": "code",
   "execution_count": 0,
   "id": "9aeb1bb1",
   "metadata": {},
   "outputs": [],
   "source": [
    "wcs = WcsProjection(center, proj='TAN')\n",
    "fov = FOV(projection=wcs)"
   ]
  },
  {
   "cell_type": "code",
   "execution_count": 0,
   "id": "193318a3",
   "metadata": {},
   "outputs": [],
   "source": [
    "f, ax = plt.subplots(1, 1, figsize=(8, 8), dpi=240, subplot_kw=dict(projection=wcs.wcs))\n",
    "\n",
    "# fov.plot_observation(ax, obs, c='lightgrey', size=0.5)\n",
    "\n",
    "# Plot the pointing center\n",
    "# fov.plot(ax, [field.pos.ra.value], [field.pos.dec.value], fmt='+r', ms=10, native_frame='world')\n",
    "\n",
    "for pp in config.pointings:\n",
    "    wfc = SubaruWFC(pp.get_pointing())\n",
    "    pfi = SubaruPFI(wfc, instrument_options=config.instrument_options)\n",
    "\n",
    "    pfi.plot_focal_plane(ax, fov, corners=True, c='r', ls='-')\n",
    "    pfi.plot_focal_plane(ax, fov, fill=True, alpha=0.2)\n",
    "\n",
    "ax.set_xlim(1, -3)\n",
    "ax.set_ylim(-3, 1)\n",
    "ax.grid()"
   ]
  },
  {
   "cell_type": "markdown",
   "id": "eacd5f03",
   "metadata": {},
   "source": [
    "# Calculate and plot the elevation and rotator angle"
   ]
  },
  {
   "cell_type": "code",
   "execution_count": 0,
   "id": "187a569e",
   "metadata": {},
   "outputs": [],
   "source": [
    "obs = Observer.at_site(\"Subaru\", timezone=\"US/Hawaii\")\n",
    "hawaii_tz = TimeDelta(-10 * u.hr)"
   ]
  },
  {
   "cell_type": "code",
   "execution_count": 0,
   "id": "ddae5785",
   "metadata": {},
   "outputs": [],
   "source": [
    "config.pointings"
   ]
  },
  {
   "cell_type": "code",
   "execution_count": 0,
   "id": "b6163b9d",
   "metadata": {},
   "outputs": [],
   "source": [
    "time_from = Time(dateutil.parser.parse(TIME_FROM)) - hawaii_tz\n",
    "time_to = Time(dateutil.parser.parse(TIME_TO)) - hawaii_tz\n",
    "\n",
    "time_from, time_to"
   ]
  },
  {
   "cell_type": "code",
   "execution_count": 0,
   "id": "5edff335",
   "metadata": {},
   "outputs": [],
   "source": [
    "date_from = np.floor(time_from.jd - 0.5)\n",
    "date_to = np.ceil(time_to.jd + 0.5)\n",
    "\n",
    "dates = Time(np.linspace(date_from, date_to + 1, int(date_to - date_from + 2)), format='jd')\n",
    "dates.to_datetime()"
   ]
  },
  {
   "cell_type": "code",
   "execution_count": 0,
   "id": "2e515c4a",
   "metadata": {},
   "outputs": [],
   "source": [
    "sunrise = obs.sun_rise_time(dates, which='previous') + hawaii_tz\n",
    "sunset = obs.sun_set_time(dates, which='next') + hawaii_tz\n",
    "\n",
    "# HST\n",
    "sunrise.to_datetime(), sunset.to_datetime()"
   ]
  },
  {
   "cell_type": "code",
   "execution_count": 0,
   "id": "e0913cff",
   "metadata": {},
   "outputs": [],
   "source": [
    "def radecpa_to_altazinr(pos, pa, obs_time):\n",
    "    altaz = pos.transform_to(AltAz(obstime=obs_time, location=Subaru_POPT2_PFS.Lsbr))\n",
    "    az = altaz.az.deg\n",
    "    alt = altaz.alt.deg\n",
    "\n",
    "    # Instrument rotator angle\n",
    "    subaru = Subaru_POPT2_PFS.Subaru()\n",
    "    paa = subaru.radec2inr(pos.ra, pos.dec, obs_time)\n",
    "    inr = (paa + pa + 180) % 360. - 180.\n",
    "    # inr = paa + pa\n",
    "\n",
    "    return alt, az, inr"
   ]
  },
  {
   "cell_type": "code",
   "execution_count": 0,
   "id": "16f31ffd",
   "metadata": {},
   "outputs": [],
   "source": [
    "obs_time = Time(np.linspace(date_from, date_to, 300), format='jd')\n",
    "obs_time[0], obs_time[-1]"
   ]
  },
  {
   "cell_type": "code",
   "execution_count": 0,
   "id": "6fc17be3",
   "metadata": {},
   "outputs": [],
   "source": [
    "obs_time[0], obs_time[-1]"
   ]
  },
  {
   "cell_type": "code",
   "execution_count": 0,
   "id": "e6e8a9c5",
   "metadata": {},
   "outputs": [],
   "source": [
    "f, ax = plt.subplots(1, 1, figsize=(7, 5), dpi=240)\n",
    "ax2 = ax.twinx()\n",
    "\n",
    "# matplotlib like python datetime\n",
    "xx = (obs_time + hawaii_tz).to_datetime()\n",
    "\n",
    "# Shade areas in black when the Sun is below the horizon\n",
    "for t1, t2 in zip(sunset[:-2].to_datetime(), sunrise[2:].to_datetime()):\n",
    "    ax.axvspan(t1, t2, color='black', alpha=1)\n",
    "\n",
    "# Plot the rotator angle for each pointing\n",
    "for p in config.pointings:\n",
    "    p = p.get_pointing()\n",
    "    alt, az, inr = radecpa_to_altazinr(p.pos, p.posang, obs_time=(obs_time))\n",
    "    # alt, az, inr = radecpa_to_altazinr(p.pos, 0, obs_time=(obs_time))\n",
    "\n",
    "    inr_mask = np.abs(inr) > 178\n",
    "    inr[inr_mask] = np.nan\n",
    "\n",
    "    # Instrument rotator angle\n",
    "    ax2.plot(xx, inr, c='orange', label='INR')\n",
    "\n",
    "    # Plot the azimuth angle\n",
    "    # target_ha = obs.target_hour_angle(obs_time, target=p.pos)\n",
    "    ax2.plot(xx, ((az + 180.) % 360) - 180., c='green', label='AZ')\n",
    "\n",
    "# Plot the elevation of the Moon\n",
    "moon = get_body('Moon', obs_time, Subaru_POPT2_PFS.Lsbr)\n",
    "moon_phase = moon_illumination(obs_time)\n",
    "altaz = moon.transform_to(AltAz(obstime=obs_time, location=Subaru_POPT2_PFS.Lsbr))\n",
    "ax.plot(xx, altaz.alt.degree, '--y', label='MOON')\n",
    "\n",
    "# Plot target elevation\n",
    "alt, az, inr = radecpa_to_altazinr(center.pos, 0, obs_time=(obs_time))\n",
    "ax.plot(xx, alt, '-c', label='ALT')\n",
    "\n",
    "ax.set_xlim((time_from + hawaii_tz).to_datetime(), (time_to + hawaii_tz).to_datetime())\n",
    "\n",
    "ax.set_yticks(np.linspace(0, 90, 7))\n",
    "ax.set_ylim(0, 90)\n",
    "\n",
    "ax.tick_params(axis='x', labelrotation=90)\n",
    "\n",
    "ax.set_xlabel('time [HST]')\n",
    "ax.set_ylabel('elevation')\n",
    "ax.set_title(f'Field: {FIELD}, moon phase: {moon_phase.mean():0.2f}')\n",
    "\n",
    "ax.grid(True)\n",
    "\n",
    "ax2.set_yticks(np.linspace(-180, 180, 7))\n",
    "ax2.set_ylim(-180, 180)\n",
    "\n",
    "ax2.set_ylabel('rotator angle')\n",
    "\n",
    "ax.legend()\n",
    "ax2.legend()"
   ]
  },
  {
   "cell_type": "code",
   "execution_count": 0,
   "id": "c10bfb98",
   "metadata": {},
   "outputs": [],
   "source": []
  }
 ],
 "metadata": {
  "kernelspec": {
   "display_name": "dobos-torch",
   "language": "python",
   "name": "python3"
  },
  "language_info": {
   "codemirror_mode": {
    "name": "ipython",
    "version": 3
   },
   "file_extension": ".py",
   "mimetype": "text/x-python",
   "name": "python",
   "nbconvert_exporter": "python",
   "pygments_lexer": "ipython3",
   "version": "3.10.15"
  }
 },
 "nbformat": 4,
 "nbformat_minor": 5
}