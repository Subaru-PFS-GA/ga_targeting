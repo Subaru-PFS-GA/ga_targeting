{
 "cells": [
  {
   "cell_type": "code",
   "execution_count": 0,
   "metadata": {},
   "outputs": [],
   "source": [
    "DEBUG = False\n",
    "\n",
    "GALAXY = 'booi'\n",
    "GALAXYFULLNAME = 'bootes'\n",
    "\n",
    "CONFIG_FILE = f'../../../configs/netflow/dSph/{GALAXYFULLNAME}.py'"
   ]
  },
  {
   "cell_type": "markdown",
   "metadata": {},
   "source": [
    "# Calibration target distribution\n",
    "\n",
    "Plot the distribution of the calibration targets with cobra regions (sky and instrument) to verify that there are enough flux standards and sky positions to solve the netflow problem."
   ]
  },
  {
   "cell_type": "code",
   "execution_count": 0,
   "metadata": {},
   "outputs": [],
   "source": [
    "import os, sys\n",
    "from glob import glob\n",
    "import numpy as np\n",
    "import matplotlib.pyplot as plt\n",
    "from collections import defaultdict"
   ]
  },
  {
   "cell_type": "code",
   "execution_count": 0,
   "metadata": {},
   "outputs": [],
   "source": [
    "plt.rc('font', size=6)"
   ]
  },
  {
   "cell_type": "code",
   "execution_count": 0,
   "metadata": {},
   "outputs": [],
   "source": [
    "%load_ext autoreload\n",
    "%autoreload 2"
   ]
  },
  {
   "cell_type": "code",
   "execution_count": 0,
   "metadata": {},
   "outputs": [],
   "source": [
    "if DEBUG and 'debug' not in globals():\n",
    "    import debugpy\n",
    "    debugpy.listen(('0.0.0.0', int(os.environ['PFS_TARGETING_DEBUGPORT'])))\n",
    "    debug = True"
   ]
  },
  {
   "cell_type": "markdown",
   "metadata": {},
   "source": [
    "# Plot definitions"
   ]
  },
  {
   "cell_type": "code",
   "execution_count": 0,
   "metadata": {},
   "outputs": [],
   "source": [
    "import pfs.utils\n",
    "from pfs.ga.targeting.targets.dsph import *\n",
    "from pfs.ga.targeting.instrument import *\n",
    "from pfs.ga.targeting.diagram import CMD, CCD, FOV, FP, ColorAxis, MagnitudeAxis\n",
    "from pfs.ga.targeting.photometry import Photometry, Magnitude, Color\n",
    "from pfs.ga.targeting.projection import WcsProjection, Pointing\n",
    "from pfs.ga.targeting.netflow import Netflow\n",
    "from pfs.ga.targeting.io import DataFrameSerializer\n",
    "\n",
    "from astropy.time import Time, TimeDelta"
   ]
  },
  {
   "cell_type": "code",
   "execution_count": 0,
   "metadata": {},
   "outputs": [],
   "source": [
    "galaxy = GALAXIES[GALAXY]\n",
    "hsc = galaxy.get_photometry()\n",
    "cmd = galaxy.get_cmd()\n",
    "ccd = galaxy.get_ccd()\n",
    "gaia_cmd = galaxy.get_cmd(Gaia)"
   ]
  },
  {
   "cell_type": "code",
   "execution_count": 0,
   "metadata": {},
   "outputs": [],
   "source": [
    "pointings = galaxy.get_pointings(SubaruPFI)\n",
    "pointing = pointings[0]\n",
    "\n",
    "for p in pointings:\n",
    "    print(p.ra, p.dec, p.posang)"
   ]
  },
  {
   "cell_type": "code",
   "execution_count": 0,
   "metadata": {},
   "outputs": [],
   "source": [
    "wcs = WcsProjection(Pointing(galaxy.pos), proj='TAN')\n",
    "wfc = SubaruWFC(pointing)\n",
    "fov = FOV(projection=wcs)\n",
    "fp = FP(wfc)"
   ]
  },
  {
   "cell_type": "markdown",
   "metadata": {},
   "source": [
    "# Load the netflow config file"
   ]
  },
  {
   "cell_type": "code",
   "execution_count": 0,
   "metadata": {},
   "outputs": [],
   "source": [
    "# Get the default configuration for the targets\n",
    "config = galaxy.get_netflow_config()\n",
    "\n",
    "# Load the customized configuration on top of the default one\n",
    "config.load(CONFIG_FILE, ignore_collisions=True)"
   ]
  },
  {
   "cell_type": "markdown",
   "metadata": {},
   "source": [
    "# Load the calibration target lists"
   ]
  },
  {
   "cell_type": "code",
   "execution_count": 0,
   "metadata": {},
   "outputs": [],
   "source": [
    "from pfs.ga.targeting.io import ObservationSerializer\n",
    "from pfs.ga.targeting.scripts.netflowscript import NetflowScript\n",
    "\n",
    "from ics.cobraOps.TargetGroup import TargetGroup\n",
    "from ics.cobraOps.TargetSelector import TargetSelector"
   ]
  },
  {
   "cell_type": "code",
   "execution_count": 0,
   "metadata": {},
   "outputs": [],
   "source": [
    "target_lists = {}\n",
    "\n",
    "for k in config.targets:\n",
    "\n",
    "    if config.targets[k].prefix in ['sky', 'cal']:\n",
    "        target_lists[k] = NetflowScript.load_target_list(config.targets[k])\n",
    "        print(k, config.targets[k].prefix, config.targets[k].path)\n"
   ]
  },
  {
   "cell_type": "code",
   "execution_count": 0,
   "metadata": {},
   "outputs": [],
   "source": [
    "config.instrument_options"
   ]
  },
  {
   "cell_type": "code",
   "execution_count": 0,
   "metadata": {},
   "outputs": [],
   "source": [
    "pfi = SubaruPFI(instrument_options=config.instrument_options)"
   ]
  },
  {
   "cell_type": "code",
   "execution_count": 0,
   "metadata": {},
   "outputs": [],
   "source": [
    "# Plot the targets within the field of view\n",
    "for k in target_lists:\n",
    "    f, ax = plt.subplots(1, 1, figsize=(4, 4), dpi=240)\n",
    "    fov.plot_catalog(ax, target_lists[k], size=0.5, color='lightgray')\n",
    "\n",
    "    for p in pointings:\n",
    "        pfi.plot_focal_plane(ax, fov, corners=True, projection=SubaruWFC(p))\n",
    "\n",
    "    f.suptitle(f'{GALAXYFULLNAME} calibration targets {k}')"
   ]
  },
  {
   "cell_type": "code",
   "execution_count": 0,
   "metadata": {},
   "outputs": [],
   "source": [
    "config.field.obs_time"
   ]
  },
  {
   "cell_type": "code",
   "execution_count": 0,
   "metadata": {},
   "outputs": [],
   "source": [
    "def get_visible(pointing, target_list):\n",
    "    # Calculate focal plane coordinates\n",
    "    pointing.obs_time = Time(pointing.obs_time if pointing.obs_time is not None else config.field.obs_time)\n",
    "    # print(pointing.ra, pointing.dec, pointing.obs_time)\n",
    "\n",
    "    fp_pos = pfi.radec_to_fp_pos(pointing, *target_list.get_coords())\n",
    "    fp_mask = np.abs(fp_pos) < 200\n",
    "    # print(fp_pos.shape, (np.abs(fp_pos) < 200).sum())\n",
    "\n",
    "    # Calculate the visibility of the targets\n",
    "    class DummyTargetSelector(TargetSelector):\n",
    "        def run(self):\n",
    "            return\n",
    "\n",
    "        def selectTargets(self):\n",
    "            return\n",
    "        \n",
    "    tgroup = TargetGroup(fp_pos[fp_mask])\n",
    "    tselect = DummyTargetSelector(pfi.bench, tgroup)\n",
    "    tselect.calculateAccessibleTargets()\n",
    "    targets = tselect.accessibleTargetIndices   # shape: (cobras, targets), padded with -1\n",
    "\n",
    "    visible = defaultdict(list)\n",
    "\n",
    "    for cidx in range(targets.shape[0]):\n",
    "        for i, fpidx in enumerate(targets[cidx, :]):\n",
    "            if fpidx >= 0:\n",
    "                visible[cidx].append(fpidx)\n",
    "\n",
    "    # Create a list of all visible targets\n",
    "    visible_targets = []\n",
    "    for cidx in visible:\n",
    "        visible_targets.extend(visible[cidx])\n",
    "    visible_targets = np.unique(np.array(visible_targets))\n",
    "\n",
    "    return visible_targets, fp_pos, fp_mask, visible"
   ]
  },
  {
   "cell_type": "code",
   "execution_count": 0,
   "metadata": {},
   "outputs": [],
   "source": [
    "def plot_visible(pointing, target_list, prefix, title):\n",
    "    visible_targets, fp_pos, fp_mask, visible = get_visible(pointing, target_list)\n",
    "\n",
    "    # print(targets.shape, visible_targets.shape)\n",
    "\n",
    "    # Plot the visible targets on the focal plane\n",
    "    f, axs = plt.subplots(1, 3, figsize=(12, 4), dpi=240)\n",
    "\n",
    "    # Plot the visible targets on the focal plane\n",
    "    fp.plot(axs[0], fp_pos[fp_mask].real[visible_targets], fp_pos[fp_mask].imag[visible_targets], ms=0.5, native_frame='pixel', alpha=0.5)\n",
    "    pfi.plot_focal_plane(axs[0], fp, corners=True, projection=SubaruWFC(p))\n",
    "\n",
    "    # Plot number of visible targets per cobra\n",
    "    visible_count = {cidx: len(visible[cidx]) for cidx in visible}\n",
    "    visible_count.update({ cidx: 0 for cidx in range(pfi.bench.cobras.nCobras) if cidx not in visible_count })\n",
    "    hist = np.bincount(np.array([ v for v in visible_count.values() ]))\n",
    "    axs[1].bar(np.arange(len(hist)), hist)\n",
    "    axs[1].set_xlabel('Number of visible targets by cobra')\n",
    "    axs[1].set_ylabel('Number of cobras')\n",
    "    \n",
    "    # Plot number of visible targets per cobra group\n",
    "    for name, cobra_group in config.netflow_options.cobra_groups.items():\n",
    "        if prefix in cobra_group.target_classes:\n",
    "            # print(cobra_group.groups.min(), cobra_group.groups.max())\n",
    "\n",
    "            # Sum up the number of visible targets per cobra group, ie. where the group identifier is the same\n",
    "            group_visible = defaultdict(list)\n",
    "            for cidx in visible_count:\n",
    "                gidx = cobra_group.groups[cidx]\n",
    "                group_visible[gidx].append(visible_count[cidx])\n",
    "\n",
    "            group_visible_count = [ np.sum(group_visible[g]) for g in sorted(group_visible) ]\n",
    "            # print(len(group_visible_count))\n",
    "\n",
    "            axs[2].bar(np.arange(len(group_visible_count)), group_visible_count, label=name)\n",
    "\n",
    "    axs[2].set_xlabel('Cobra group')\n",
    "    axs[2].set_ylabel('Number of visible targets')\n",
    "    axs[2].legend()\n",
    "\n",
    "    f.suptitle(title)\n",
    "    f.show()"
   ]
  },
  {
   "cell_type": "code",
   "execution_count": 0,
   "metadata": {},
   "outputs": [],
   "source": [
    "for k in config.targets:\n",
    "    for i, p in enumerate(config.pointings):\n",
    "        print(p.ra, p.dec, p.posang, p.obs_time)\n",
    "        if k in target_lists:\n",
    "            plot_visible(p, target_lists[k], prefix=config.targets[k].prefix, title=f'Visible {k} targets for pointing {i}')"
   ]
  },
  {
   "cell_type": "code",
   "execution_count": 0,
   "metadata": {},
   "outputs": [],
   "source": []
  }
 ],
 "metadata": {
  "kernelspec": {
   "display_name": "pfs_ga",
   "language": "python",
   "name": "python3"
  },
  "language_info": {
   "codemirror_mode": {
    "name": "ipython",
    "version": 3
   },
   "file_extension": ".py",
   "mimetype": "text/x-python",
   "name": "python",
   "nbconvert_exporter": "python",
   "pygments_lexer": "ipython3",
   "version": "3.12.4"
  }
 },
 "nbformat": 4,
 "nbformat_minor": 2
}