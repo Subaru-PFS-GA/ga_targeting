{
 "cells": [
  {
   "cell_type": "code",
   "execution_count": 0,
   "metadata": {},
   "outputs": [],
   "source": [
    "DEBUG = False\n",
    "\n",
    "GALAXY = 'm31'\n",
    "GALAXYFULLNAME = 'm31'\n",
    "\n",
    "CONFIG_FILE = f'../../../configs/netflow/{GALAXYFULLNAME}.py'\n",
    "NVISITS = 1"
   ]
  },
  {
   "cell_type": "markdown",
   "metadata": {},
   "source": [
    "# Plot the target lists\n",
    "\n",
    "Load the target lists and plot them."
   ]
  },
  {
   "cell_type": "code",
   "execution_count": 0,
   "metadata": {},
   "outputs": [],
   "source": [
    "import os, sys\n",
    "from glob import glob\n",
    "import numpy as np\n",
    "import matplotlib.pyplot as plt"
   ]
  },
  {
   "cell_type": "code",
   "execution_count": 0,
   "metadata": {},
   "outputs": [],
   "source": [
    "plt.rc('font', size=6) #controls default text size"
   ]
  },
  {
   "cell_type": "code",
   "execution_count": 0,
   "metadata": {},
   "outputs": [],
   "source": [
    "%load_ext autoreload\n",
    "%autoreload 2"
   ]
  },
  {
   "cell_type": "code",
   "execution_count": 0,
   "metadata": {},
   "outputs": [],
   "source": [
    "if DEBUG and 'debug' not in globals():\n",
    "    import debugpy\n",
    "    debugpy.listen(('0.0.0.0', int(os.environ['PFS_TARGETING_DEBUGPORT'])))\n",
    "    debug = True"
   ]
  },
  {
   "cell_type": "markdown",
   "metadata": {},
   "source": [
    "# Plot definitions"
   ]
  },
  {
   "cell_type": "code",
   "execution_count": 0,
   "metadata": {},
   "outputs": [],
   "source": [
    "import pfs.utils\n",
    "from pfs.ga.targeting.targets.m31 import *\n",
    "from pfs.ga.targeting.instrument import *\n",
    "from pfs.ga.targeting.diagram import CMD, CCD, FOV, FP, ColorAxis, MagnitudeAxis\n",
    "from pfs.ga.targeting.photometry import Photometry, Magnitude, Color\n",
    "from pfs.ga.targeting.projection import WcsProjection, Pointing\n",
    "from pfs.ga.targeting.netflow import Netflow\n",
    "from pfs.ga.targeting.io import DataFrameSerializer"
   ]
  },
  {
   "cell_type": "code",
   "execution_count": 0,
   "metadata": {},
   "outputs": [],
   "source": [
    "galaxy = GALAXIES[GALAXY]\n",
    "hsc = galaxy.get_photometry()\n",
    "cmd = galaxy.get_cmd()\n",
    "ccd = galaxy.get_ccd()\n",
    "gaia_cmd = galaxy.get_cmd(Gaia)"
   ]
  },
  {
   "cell_type": "code",
   "execution_count": 0,
   "metadata": {},
   "outputs": [],
   "source": [
    "pointings = galaxy.get_pointings(SubaruPFI)\n",
    "pointing = pointings[0]\n",
    "\n",
    "for p in pointings:\n",
    "    print(p.ra, p.dec, p.posang)"
   ]
  },
  {
   "cell_type": "code",
   "execution_count": 0,
   "metadata": {},
   "outputs": [],
   "source": [
    "pfi = SubaruPFI(instrument_options={ 'layout': 'calibration' })\n",
    "wcs = WcsProjection(Pointing(galaxy.pos), proj='TAN')\n",
    "wfc = SubaruWFC(pointing)\n",
    "fov = FOV(projection=wcs)\n",
    "fp = FP(wfc)"
   ]
  },
  {
   "cell_type": "markdown",
   "metadata": {},
   "source": [
    "# Load the netflow config file"
   ]
  },
  {
   "cell_type": "code",
   "execution_count": 0,
   "metadata": {},
   "outputs": [],
   "source": [
    "# Get the default configuration for the targets\n",
    "config = galaxy.get_netflow_config()\n",
    "\n",
    "# Load the customized configuration on top of the default one\n",
    "config.load(CONFIG_FILE, ignore_collisions=True)"
   ]
  },
  {
   "cell_type": "markdown",
   "metadata": {},
   "source": [
    "# Load the target lists"
   ]
  },
  {
   "cell_type": "code",
   "execution_count": 0,
   "metadata": {},
   "outputs": [],
   "source": [
    "from pfs.ga.targeting.config import NetflowConfig\n",
    "from pfs.ga.targeting.io import ObservationSerializer\n",
    "from pfs.ga.targeting.scripts.netflowscript import NetflowScript"
   ]
  },
  {
   "cell_type": "code",
   "execution_count": 0,
   "metadata": {},
   "outputs": [],
   "source": [
    "# Load the configuration\n",
    "config = NetflowConfig.from_file(CONFIG_FILE, ignore_collisions=True)\n",
    "\n",
    "print(config.targets.keys())"
   ]
  },
  {
   "cell_type": "code",
   "execution_count": 0,
   "metadata": {},
   "outputs": [],
   "source": [
    "target_lists = {}\n",
    "\n",
    "for k in config.targets:\n",
    "    target_lists[k] = NetflowScript.load_target_list(k, config.targets[k])\n",
    "    print(k, config.targets[k].prefix, config.targets[k].path)"
   ]
  },
  {
   "cell_type": "code",
   "execution_count": 0,
   "metadata": {},
   "outputs": [],
   "source": [
    "cmap = plt.get_cmap('tab10')\n",
    "colors = { 'sci': 'lightgray', 'cal': 'red', 'sky': cmap(2) }\n",
    "size = { 'sci': 0.5, 'cal': 2, 'sky': 0.1 }\n",
    "\n",
    "f = plt.figure(figsize=(8, 3), dpi=240)\n",
    "gs = f.add_gridspec(1, 3, width_ratios=[2, 2, 3], wspace=0.4)\n",
    "\n",
    "axs = [f.add_subplot(gs[0, 0]), f.add_subplot(gs[0, 1]), f.add_subplot(gs[0, 2], projection=wcs.wcs)]\n",
    "\n",
    "for i, (k, target_list) in enumerate(target_lists.items()):\n",
    "    if config.targets[k].prefix in ['sci', 'cal']:\n",
    "        if target_lists[k].has_diagram_values(cmd, observed=True):\n",
    "            cmd.plot_observation(axs[0], target_list, c=colors[config.targets[k].prefix], observed=True)\n",
    "\n",
    "for i, (k, target_list) in enumerate(target_lists.items()):\n",
    "    if config.targets[k].prefix in ['sci', 'cal']:\n",
    "        if target_lists[k].has_diagram_values(ccd, observed=True):\n",
    "            ccd.plot_observation(axs[1], target_list, c=colors[config.targets[k].prefix], observed=True)\n",
    "\n",
    "for i, (k, target_list) in enumerate(target_lists.items()):\n",
    "    if config.targets[k].prefix in ['sci', 'cal']:\n",
    "        fov.plot_observation(axs[2], target_list, c=colors[config.targets[k].prefix], size=size[config.targets[k].prefix], observed=True)\n",
    "        \n",
    "pp = galaxy.get_pointings(SubaruPFI)\n",
    "for p in pp:\n",
    "    pfi.plot_focal_plane(axs[2], fov, corners=True, projection=SubaruWFC(p))\n",
    "\n",
    "axs[2].set_aspect('equal', adjustable='datalim')\n",
    "\n",
    "f.suptitle('Science targets and calibration stars')"
   ]
  },
  {
   "cell_type": "code",
   "execution_count": 0,
   "metadata": {},
   "outputs": [],
   "source": [
    "# List the priorities classes defined for each science target list\n",
    "for k in config.targets:\n",
    "    if config.targets[k].prefix in ['sci']:\n",
    "        print(k, np.sort(target_lists['dsph'].data['priority'].unique()))"
   ]
  },
  {
   "cell_type": "code",
   "execution_count": 0,
   "metadata": {},
   "outputs": [],
   "source": [
    "# Plot priority distribution for each target list\n",
    "for k in config.targets:\n",
    "    if config.targets[k].prefix in ['sci']:\n",
    "        f, ax = plt.subplots(1, 1, figsize=(3.5, 2.5), dpi=240)\n",
    "\n",
    "        hist = np.bincount(target_lists[k].data['priority'])\n",
    "        ax.bar(np.arange(hist.size), hist)\n",
    "\n",
    "        ax.set_title(f'Priority class distribution for target list `{k}`')\n",
    "        ax.set_xlabel(f'Priority class')\n",
    "        ax.set_ylabel(f'Target count')"
   ]
  },
  {
   "cell_type": "code",
   "execution_count": 0,
   "metadata": {},
   "outputs": [],
   "source": [
    "# Plot the distribution of required visits for each target list\n",
    "exp_time = 1800 # seconds\n",
    "\n",
    "for k in config.targets:\n",
    "    if config.targets[k].prefix in ['sci']:\n",
    "        f, ax = plt.subplots(1, 1, figsize=(3.5, 2.5), dpi=240)\n",
    "\n",
    "        hist = np.bincount((np.ceil(target_lists[k].data['exp_time'] / exp_time)).astype(int))\n",
    "        ax.bar(np.arange(hist.size), hist)\n",
    "\n",
    "        ax.set_title(f'Distribution of required visit (t_exp = {exp_time} s)')\n",
    "        ax.set_xlabel('Number of required visits')\n",
    "        ax.set_ylabel('Target count')\n"
   ]
  },
  {
   "cell_type": "code",
   "execution_count": 0,
   "metadata": {},
   "outputs": [],
   "source": [
    "cmap = plt.get_cmap('tab10')\n",
    "\n",
    "f = plt.figure(figsize=(8, 3), dpi=240)\n",
    "gs = f.add_gridspec(1, 3, width_ratios=[2, 2, 3], wspace=0.4)\n",
    "\n",
    "axs = [f.add_subplot(gs[0, 0]), f.add_subplot(gs[0, 1]), f.add_subplot(gs[0, 2], projection=wcs.wcs)]\n",
    "\n",
    "for i, (k, target_list) in enumerate(target_lists.items()):\n",
    "    if config.targets[k].prefix in ['sci']:\n",
    "        if target_lists[k].has_diagram_values(cmd, observed=True):\n",
    "            cmd.plot_observation(axs[0], target_list, c=target_lists[k].data['priority'],\n",
    "                                 observed=True, cmap=cmap)\n",
    "\n",
    "        if target_lists[k].has_diagram_values(ccd, observed=True):\n",
    "            ccd.plot_observation(axs[1], target_list, c=target_lists[k].data['priority'], \n",
    "                                 observed=True, cmap=cmap)\n",
    "\n",
    "        if target_lists[k].has_diagram_values(fov):\n",
    "            l = fov.plot_observation(axs[2], target_list, c=target_lists[k].data['priority'], size=size[config.targets[k].prefix],\n",
    "                                 observed=True, cmap=cmap)\n",
    "            \n",
    "pp = galaxy.get_pointings(SubaruPFI)\n",
    "for p in pp:\n",
    "    pfi.plot_focal_plane(axs[2], fov, corners=True, projection=SubaruWFC(p))\n",
    "\n",
    "axs[2].set_aspect('equal', adjustable='datalim')\n",
    "            \n",
    "f.colorbar(l, ax=axs[2], label='target priority')\n",
    "\n",
    "f.suptitle('Stars selected based on color cuts.')"
   ]
  },
  {
   "cell_type": "code",
   "execution_count": 0,
   "metadata": {},
   "outputs": [],
   "source": [
    "f = plt.figure(figsize=(3, 3), dpi=240)\n",
    "gs = f.add_gridspec(1, 1)\n",
    "\n",
    "ax = f.add_subplot(gs[0, 0], projection=wcs.wcs)\n",
    "for name, options in config.targets.items():\n",
    "    if options.prefix in ['sky']:\n",
    "        fov.plot_observation(ax, target_lists[name], c=colors[options.prefix], size=size[options.prefix], observed=True)\n",
    "\n",
    "pp = galaxy.get_pointings(SubaruPFI)\n",
    "for p in pp:\n",
    "    pfi.plot_focal_plane(ax, fov, corners=True, projection=SubaruWFC(p))\n",
    "\n",
    "ax.set_aspect('equal', adjustable='datalim')\n",
    "\n",
    "f.suptitle('Available sky positions')"
   ]
  },
  {
   "cell_type": "code",
   "execution_count": 0,
   "metadata": {},
   "outputs": [],
   "source": []
  }
 ],
 "metadata": {
  "kernelspec": {
   "display_name": "pfs_ga",
   "language": "python",
   "name": "python3"
  },
  "language_info": {
   "codemirror_mode": {
    "name": "ipython",
    "version": 3
   },
   "file_extension": ".py",
   "mimetype": "text/x-python",
   "name": "python",
   "nbconvert_exporter": "python",
   "pygments_lexer": "ipython3",
   "version": "3.12.4"
  }
 },
 "nbformat": 4,
 "nbformat_minor": 2
}