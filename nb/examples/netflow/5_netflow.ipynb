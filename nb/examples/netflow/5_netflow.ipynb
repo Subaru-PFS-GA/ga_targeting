{
 "cells": [
  {
   "cell_type": "code",
   "execution_count": 0,
   "metadata": {},
   "outputs": [],
   "source": [
    "import os\n",
    "\n",
    "DEBUG = False\n",
    "\n",
    "GALAXY = 'm31'\n",
    "GALAXYFULLNAME = 'm31'\n",
    "\n",
    "CONFIG_FILE = f'./configs/netflow/{GALAXYFULLNAME}.py'\n",
    "NVISITS = 10\n",
    "\n",
    "DATA_DIR = \"/raid/pfs\" #os.environ['PFS_DATA_DIR']\n",
    "OUTPUT_PATH = f'{DATA_DIR}/data/targeting/{GALAXYFULLNAME}/netflow'"
   ]
  },
  {
   "cell_type": "markdown",
   "metadata": {},
   "source": [
    "# Run netflow"
   ]
  },
  {
   "cell_type": "code",
   "execution_count": 0,
   "metadata": {},
   "outputs": [],
   "source": [
    "# Generate command for netflow execution\n",
    "\n",
    "f'ga-netflow --dsph {GALAXY} --config {CONFIG_FILE} --nvisits {NVISITS} --out {OUTPUT_PATH}/{GALAXYFULLNAME}_{NVISITS}'"
   ]
  },
  {
   "cell_type": "code",
   "execution_count": 0,
   "metadata": {},
   "outputs": [],
   "source": []
  }
 ],
 "metadata": {
  "kernelspec": {
   "display_name": "pfs_ga",
   "language": "python",
   "name": "python3"
  },
  "language_info": {
   "codemirror_mode": {
    "name": "ipython",
    "version": 3
   },
   "file_extension": ".py",
   "mimetype": "text/x-python",
   "name": "python",
   "nbconvert_exporter": "python",
   "pygments_lexer": "ipython3",
   "version": "3.12.4"
  }
 },
 "nbformat": 4,
 "nbformat_minor": 2
}