{
 "cells": [
  {
   "cell_type": "code",
   "execution_count": 0,
   "metadata": {},
   "outputs": [],
   "source": [
    "DEBUG = False\n",
    "\n",
    "GALAXY = 'umi'\n",
    "GALAXYFULLNAME = 'ursaminor'\n",
    "\n",
    "CONFIG_FILE = f'./configs/netflow/dSph/{GALAXYFULLNAME}.py'\n",
    "NVISITS = 1\n",
    "\n",
    "DATA_DIR = '/datascope/subaru'\n",
    "OUTPUT_PATH = f'{DATA_DIR}/data/targeting/dSph/{GALAXYFULLNAME}/netflow'"
   ]
  },
  {
   "cell_type": "markdown",
   "metadata": {},
   "source": [
    "# Run netflow"
   ]
  },
  {
   "cell_type": "code",
   "execution_count": 0,
   "metadata": {},
   "outputs": [],
   "source": [
    "# Generate command for netflow execution\n",
    "\n",
    "f'ga-netflow --dsph {GALAXY} --config {CONFIG_FILE} --nvisits {NVISITS} --out {OUTPUT_PATH}/{GALAXYFULLNAME}_{NVISITS}'"
   ]
  }
 ],
 "metadata": {
  "kernelspec": {
   "display_name": "dobos-torch",
   "language": "python",
   "name": "python3"
  },
  "language_info": {
   "codemirror_mode": {
    "name": "ipython",
    "version": 3
   },
   "file_extension": ".py",
   "mimetype": "text/x-python",
   "name": "python",
   "nbconvert_exporter": "python",
   "pygments_lexer": "ipython3",
   "version": "3.10.15"
  }
 },
 "nbformat": 4,
 "nbformat_minor": 2
}