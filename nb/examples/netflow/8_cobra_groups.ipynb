{
 "cells": [
  {
   "cell_type": "code",
   "execution_count": 0,
   "metadata": {},
   "outputs": [],
   "source": [
    "import os\n",
    "\n",
    "DEBUG = False\n",
    "\n",
    "GALAXY = 'm31'\n",
    "GALAXYFULLNAME = 'm31'\n",
    "NVISITS = 1\n",
    "\n",
    "DATA_DIR = \"/raid/pfs\" #os.environ['PFS_DATA_DIR']\n",
    "OUTPUT_PATH = DATA_DIR+f'/data/targeting/dSph/{GALAXYFULLNAME}/netflow/{GALAXYFULLNAME}_{NVISITS}'"
   ]
  },
  {
   "cell_type": "markdown",
   "metadata": {},
   "source": [
    "# Plot the instrument configuration\n",
    "\n",
    "Given a netflow run, read back the config files and plot the instrument configuration. This currently consists of the cobra groups that set limits of how many sky fibers to allocate uniformly along the slits and how many flux standards to allocate evenly over the field of view."
   ]
  },
  {
   "cell_type": "code",
   "execution_count": 0,
   "metadata": {},
   "outputs": [],
   "source": [
    "import os, sys\n",
    "from glob import glob\n",
    "from datetime import datetime\n",
    "import numpy as np\n",
    "import pandas as pd\n",
    "import matplotlib as mpl\n",
    "import matplotlib.pyplot as plt"
   ]
  },
  {
   "cell_type": "code",
   "execution_count": 0,
   "metadata": {},
   "outputs": [],
   "source": [
    "plt.rc('font', size=6)"
   ]
  },
  {
   "cell_type": "code",
   "execution_count": 0,
   "metadata": {},
   "outputs": [],
   "source": [
    "%load_ext autoreload\n",
    "%autoreload 2"
   ]
  },
  {
   "cell_type": "code",
   "execution_count": 0,
   "metadata": {},
   "outputs": [],
   "source": [
    "if DEBUG and 'debug' not in globals():\n",
    "    import debugpy\n",
    "    debugpy.listen(('0.0.0.0', int(os.environ['PFS_TARGETING_DEBUGPORT'])))\n",
    "    debug = True"
   ]
  },
  {
   "cell_type": "markdown",
   "metadata": {},
   "source": [
    "# Plot definitions"
   ]
  },
  {
   "cell_type": "code",
   "execution_count": 0,
   "metadata": {},
   "outputs": [],
   "source": [
    "import pfs.utils\n",
    "from pfs.ga.targeting.targets.m31 import *\n",
    "from pfs.ga.targeting.instrument import *\n",
    "from pfs.ga.targeting.diagram import CMD, CCD, FOV, FP, ColorAxis, MagnitudeAxis\n",
    "from pfs.ga.targeting.photometry import Photometry, Magnitude, Color\n",
    "from pfs.ga.targeting.projection import WcsProjection, Pointing\n",
    "from pfs.ga.targeting.netflow import Netflow\n",
    "from pfs.ga.targeting.io import DataFrameSerializer"
   ]
  },
  {
   "cell_type": "code",
   "execution_count": 0,
   "metadata": {},
   "outputs": [],
   "source": [
    "galaxy = GALAXIES[GALAXY]\n",
    "hsc = galaxy.get_photometry()\n",
    "cmd = galaxy.get_cmd()\n",
    "ccd = galaxy.get_ccd()\n",
    "gaia_cmd = galaxy.get_cmd(Gaia)"
   ]
  },
  {
   "cell_type": "code",
   "execution_count": 0,
   "metadata": {},
   "outputs": [],
   "source": [
    "pointings = galaxy.get_pointings(SubaruPFI)\n",
    "pointing = pointings[0]\n",
    "\n",
    "for p in pointings:\n",
    "    print(p.ra, p.dec, p.posang)"
   ]
  },
  {
   "cell_type": "code",
   "execution_count": 0,
   "metadata": {},
   "outputs": [],
   "source": [
    "wcs = WcsProjection(Pointing(galaxy.pos), proj='TAN')\n",
    "wfc = SubaruWFC(pointing)\n",
    "fov = FOV(projection=wcs)\n",
    "fp = FP(wfc)"
   ]
  },
  {
   "cell_type": "markdown",
   "metadata": {},
   "source": [
    "# Load the configuration"
   ]
  },
  {
   "cell_type": "code",
   "execution_count": 0,
   "metadata": {},
   "outputs": [],
   "source": [
    "from pfs.ga.targeting.config import NetflowConfig\n",
    "from pfs.ga.targeting.io import ObservationSerializer"
   ]
  },
  {
   "cell_type": "code",
   "execution_count": 0,
   "metadata": {},
   "outputs": [],
   "source": [
    "# Load the configuration\n",
    "fn = glob(os.path.join(OUTPUT_PATH, 'ga-netflow*.config'))[0]\n",
    "config = NetflowConfig.from_file(fn, format='.yaml', ignore_collisions=True)\n",
    "\n",
    "print(config.targets.keys())"
   ]
  },
  {
   "cell_type": "code",
   "execution_count": 0,
   "metadata": {},
   "outputs": [],
   "source": [
    "pfi = SubaruPFI(instrument_options=config.instrument_options)"
   ]
  },
  {
   "cell_type": "markdown",
   "metadata": {},
   "source": [
    "# Load the assignments"
   ]
  },
  {
   "cell_type": "code",
   "execution_count": 0,
   "metadata": {},
   "outputs": [],
   "source": [
    "from pfs.ga.targeting.io import DataFrameSerializer, ObservationSerializer"
   ]
  },
  {
   "cell_type": "code",
   "execution_count": 0,
   "metadata": {},
   "outputs": [],
   "source": [
    "assignments = DataFrameSerializer().read(f'{OUTPUT_PATH}/{GALAXY}_assignments.feather')\n",
    "\n",
    "print(assignments.shape)\n",
    "for c in assignments.columns:\n",
    "    print(c, assignments[c].dtype)"
   ]
  },
  {
   "cell_type": "code",
   "execution_count": 0,
   "metadata": {},
   "outputs": [],
   "source": [
    "assignments['pointing_idx'].unique(), assignments['visit_idx'].unique()"
   ]
  },
  {
   "cell_type": "markdown",
   "metadata": {},
   "source": [
    "# Plot the cobra groups"
   ]
  },
  {
   "cell_type": "code",
   "execution_count": 0,
   "metadata": {},
   "outputs": [],
   "source": [
    "from pfs.datamodel import TargetType"
   ]
  },
  {
   "cell_type": "code",
   "execution_count": 0,
   "metadata": {},
   "outputs": [],
   "source": [
    "for k, options in config.netflow_options.cobra_groups.items():\n",
    "    print(k, options.target_classes, len(options.groups), np.max(options.groups) + 1, options.min_targets, options.max_targets)"
   ]
  },
  {
   "cell_type": "code",
   "execution_count": 0,
   "metadata": {},
   "outputs": [],
   "source": [
    "# Active configuration options\n",
    "config.debug_options.ignore_cobra_group_minimum, config.debug_options.ignore_cobra_group_maximum"
   ]
  },
  {
   "cell_type": "code",
   "execution_count": 0,
   "metadata": {},
   "outputs": [],
   "source": [
    "def plot_instrument(pointing_idx, visit_idx, cobra_group):\n",
    "     cmap = plt.get_cmap('gist_rainbow')\n",
    "\n",
    "     f, axs = plt.subplots(1, 3, figsize=(12, 3), dpi=240)\n",
    "\n",
    "     cobra_labels = np.array(config.netflow_options.cobra_groups[cobra_group].groups)          # <<<<---- rename to labels everywhere\n",
    "     target_classes = config.netflow_options.cobra_groups[cobra_group].target_classes\n",
    "     cobra_group_count = cobra_labels.max() + 1\n",
    "     spectrograph_count = np.unique(pfi.fiber_map.spectrographId).max()\n",
    "\n",
    "     # print(np.unique(cobra_labels))\n",
    "     # print(target_classes)\n",
    "\n",
    "     colors = np.random.permutation(np.arange(cobra_group_count))\n",
    "\n",
    "     ################\n",
    "     # Plot the focal plane\n",
    "\n",
    "     mask = (assignments['visit_idx'] == visit_idx) & (assignments['cobraid'] != -1)\n",
    "     for ax, coloring in zip(axs[:2], ['spectrograph', 'cobra_group']):\n",
    "\n",
    "          if coloring == 'spectrograph':\n",
    "               c = np.array(assignments[mask].sort_values(['cobraid'])['spectrographid'])\n",
    "          else:\n",
    "               c = colors[cobra_labels] / cobra_group_count\n",
    "\n",
    "          pfi.plot_cobras(ax, fp, data=c, cmap=cmap, alpha=0.3)\n",
    "\n",
    "          # Plot the assigned targets\n",
    "          mask = (assignments['visit_idx'] == visit_idx) \\\n",
    "               & (assignments['class'].isin(target_classes))\n",
    "\n",
    "          x = assignments['fp_x'][mask]\n",
    "          y = assignments['fp_y'][mask]\n",
    "          fp.plot(ax, x, y, native_frame='pixel', marker='o', ms=1)\n",
    "\n",
    "          ax.set_xlim(-250, 250)\n",
    "          ax.set_ylim(-250, 250)\n",
    "\n",
    "          fp.apply(ax)\n",
    "\n",
    "     ##########\n",
    "     # Plot the slits\n",
    "\n",
    "     # Iterate over the spectrographs\n",
    "     for s in np.arange(np.unique(pfi.fiber_map.spectrographId).max()):\n",
    "          slit_mask = (pfi.fiber_map.spectrographId == s + 1) \\\n",
    "                    & (pfi.fiber_map.cobraId != 65535)\n",
    "     \n",
    "          # Plot the fibers along the slit\n",
    "          slit_cobras = pfi.fiber_map.cobraId[slit_mask]\n",
    "          \n",
    "          x = pfi.fiber_map.fiberHoleId[slit_mask]\n",
    "          y = np.zeros_like(x) + s\n",
    "          c = colors[cobra_labels[slit_cobras - 1]] / cobra_group_count\n",
    "\n",
    "          axs[2].scatter(x, y, s=2, c=cmap(c), alpha=0.1)\n",
    "\n",
    "          mask = (assignments['visit_idx'] == visit_idx) \\\n",
    "               & (assignments['spectrographid'] == s + 1) \\\n",
    "               & (assignments['class'].isin(config.netflow_options.cobra_groups[cobra_group].target_classes)) \\\n",
    "\n",
    "          x = assignments['fiberholeid'][mask]\n",
    "          y = np.zeros_like(x) + s + 0.25\n",
    "          \n",
    "          axs[2].plot(x, y, 'o', ms=1, c='k')\n",
    "\n",
    "     f.suptitle(f'Pointing ID {pointing_idx}, visit ID {visit_idx}, Cobra group: `{cobra_group}`, coloring by {coloring}')\n",
    "     f.show()"
   ]
  },
  {
   "cell_type": "code",
   "execution_count": 0,
   "metadata": {},
   "outputs": [],
   "source": [
    "for cobra_group in config.netflow_options.cobra_groups.keys():\n",
    "    for pidx in assignments['pointing_idx'].unique():\n",
    "        for vidx in assignments[assignments['pointing_idx'] == pidx]['visit_idx'].unique():\n",
    "            # print(p.ra, p.dec, p.posang)\n",
    "            plot_instrument(pidx, vidx, cobra_group)"
   ]
  },
  {
   "cell_type": "code",
   "execution_count": 0,
   "metadata": {},
   "outputs": [],
   "source": []
  }
 ],
 "metadata": {
  "kernelspec": {
   "display_name": "pfs_ga",
   "language": "python",
   "name": "python3"
  },
  "language_info": {
   "codemirror_mode": {
    "name": "ipython",
    "version": 3
   },
   "file_extension": ".py",
   "mimetype": "text/x-python",
   "name": "python",
   "nbconvert_exporter": "python",
   "pygments_lexer": "ipython3",
   "version": "3.12.4"
  }
 },
 "nbformat": 4,
 "nbformat_minor": 2
}