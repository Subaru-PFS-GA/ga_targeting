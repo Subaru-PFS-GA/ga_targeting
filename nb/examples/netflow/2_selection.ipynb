{
 "cells": [
  {
   "cell_type": "code",
   "execution_count": 0,
   "metadata": {},
   "outputs": [],
   "source": [
    "DEBUG = False\n",
    "\n",
    "CUT_NB = False\n",
    "KEEP_BLUE = False\n",
    "\n",
    "GALAXY = 'booi'\n",
    "GALAXYFULLNAME = 'bootes'\n",
    "\n",
    "DATA_DIR = '/raid/pfs'\n",
    "\n",
    "HSC_FILE = f'{DATA_DIR}/data/targeting/dSph/{GALAXYFULLNAME}/{GALAXYFULLNAME}_tpalle_g24.cat'\n",
    "PMAP_PATH = f'{DATA_DIR}/data/targeting/dSph/{GALAXYFULLNAME}'\n",
    "GAIA_FILE = f'{DATA_DIR}/data/targeting/dSph/gaia.h5'\n",
    "\n",
    "ISOCHRONES_PATH = f'{DATA_DIR}/data/cmdfit/isochrones/dartmouth/import/afep0_cfht_sdss_hsc'\n",
    "\n",
    "OUTPUT_PATH = f'{DATA_DIR}/data/targeting/dSph/{GALAXYFULLNAME}/'\n",
    "\n",
    "GAIA_CROSSMATCH_RADIUS = 0.1    # in arcsec"
   ]
  },
  {
   "cell_type": "markdown",
   "metadata": {},
   "source": [
    "# Prepare the target lists\n",
    "\n",
    "Pre-process the target list before running netflow. The steps are\n",
    "\n",
    "* apply color and magnitude cuts\n",
    "* cross-match with GAIA to include parallaxes and proper motions\n",
    "* calculate priorities based on a pmap\n",
    "* calculate the necessary exposure times\n",
    "* save the pre-processed target list in a uniform format"
   ]
  },
  {
   "cell_type": "code",
   "execution_count": 0,
   "metadata": {},
   "outputs": [],
   "source": [
    "import os, sys\n",
    "from datetime import datetime\n",
    "import numpy as np\n",
    "import pandas as pd\n",
    "import matplotlib as mpl\n",
    "import matplotlib.pyplot as plt"
   ]
  },
  {
   "cell_type": "code",
   "execution_count": 0,
   "metadata": {},
   "outputs": [],
   "source": [
    "plt.rc('font', size=6) #controls default text size"
   ]
  },
  {
   "cell_type": "code",
   "execution_count": 0,
   "metadata": {},
   "outputs": [],
   "source": [
    "%load_ext autoreload\n",
    "%autoreload 2"
   ]
  },
  {
   "cell_type": "code",
   "execution_count": 0,
   "metadata": {},
   "outputs": [],
   "source": [
    "if DEBUG and 'debug' not in globals():\n",
    "    import debugpy\n",
    "    debugpy.listen(('0.0.0.0', int(os.environ['PFS_TARGETING_DEBUGPORT'])))\n",
    "    debug = True"
   ]
  },
  {
   "cell_type": "markdown",
   "metadata": {},
   "source": [
    "# Plot definitions"
   ]
  },
  {
   "cell_type": "code",
   "execution_count": 0,
   "metadata": {},
   "outputs": [],
   "source": [
    "import pfs.utils\n",
    "from pfs.ga.targeting.targets.dsph import *\n",
    "from pfs.ga.targeting.instrument import *\n",
    "from pfs.ga.targeting.diagram import CMD, CCD, FOV, FP, ColorAxis, MagnitudeAxis\n",
    "from pfs.ga.targeting.photometry import Photometry, Magnitude, Color\n",
    "from pfs.ga.targeting.projection import WcsProjection, Pointing\n",
    "from pfs.ga.targeting.netflow import Netflow\n",
    "from pfs.ga.targeting.io import DataFrameSerializer"
   ]
  },
  {
   "cell_type": "code",
   "execution_count": 0,
   "metadata": {},
   "outputs": [],
   "source": [
    "galaxy = GALAXIES[GALAXY]\n",
    "hsc = galaxy.get_photometry()\n",
    "cmd = galaxy.get_cmd()\n",
    "ccd = galaxy.get_ccd()\n",
    "gaia_cmd = galaxy.get_cmd(Gaia)"
   ]
  },
  {
   "cell_type": "code",
   "execution_count": 0,
   "metadata": {},
   "outputs": [],
   "source": [
    "pointings = galaxy.get_pointings(SubaruPFI)\n",
    "pointing = pointings[0]\n",
    "\n",
    "for p in pointings:\n",
    "    print(p.ra, p.dec, p.posang)"
   ]
  },
  {
   "cell_type": "code",
   "execution_count": 0,
   "metadata": {},
   "outputs": [],
   "source": [
    "wcs = WcsProjection(pointing, proj='TAN')\n",
    "wfc = SubaruWFC(pointing)\n",
    "fov = FOV(projection=wcs)\n",
    "fp = FP(wfc)"
   ]
  },
  {
   "cell_type": "markdown",
   "metadata": {},
   "source": [
    "## Load isochrones"
   ]
  },
  {
   "cell_type": "code",
   "execution_count": 0,
   "metadata": {},
   "outputs": [],
   "source": [
    "from pfs.ga.isochrones.isogrid import IsoGrid"
   ]
  },
  {
   "cell_type": "code",
   "execution_count": 0,
   "metadata": {},
   "outputs": [],
   "source": [
    "iso = IsoGrid()\n",
    "iso.load(os.path.join(ISOCHRONES_PATH, 'isochrones.h5'))"
   ]
  },
  {
   "cell_type": "code",
   "execution_count": 0,
   "metadata": {},
   "outputs": [],
   "source": [
    "iso.values.keys()"
   ]
  },
  {
   "cell_type": "markdown",
   "metadata": {},
   "source": [
    "## Load probability map"
   ]
  },
  {
   "cell_type": "code",
   "execution_count": 0,
   "metadata": {},
   "outputs": [],
   "source": [
    "from pfs.ga.targeting import ProbabilityMap\n",
    "from pfs.ga.targeting.selection import ProbabilityCut, ProbabilitySampling"
   ]
  },
  {
   "cell_type": "code",
   "execution_count": 0,
   "metadata": {},
   "outputs": [],
   "source": [
    "fn = 'pmap'\n",
    "if CUT_NB:\n",
    "    fn += '_nb'\n",
    "if KEEP_BLUE:\n",
    "    fn += '_blue'\n",
    "fn += '.h5'\n",
    "\n",
    "pmap = ProbabilityMap(cmd.axes)\n",
    "pmap.load(os.path.join(PMAP_PATH, fn))"
   ]
  },
  {
   "cell_type": "code",
   "execution_count": 0,
   "metadata": {},
   "outputs": [],
   "source": [
    "f, axs = plt.subplots(1, 2, figsize=(6, 4), dpi=120)\n",
    "\n",
    "l0 = cmd.plot_probability_map(axs[0], pmap, 0)\n",
    "axs[0].set_title(\"non-member\")\n",
    "\n",
    "l1 = cmd.plot_probability_map(axs[1], pmap, 1)\n",
    "axs[0].set_title(\"member\")\n",
    "\n",
    "f.tight_layout()"
   ]
  },
  {
   "cell_type": "code",
   "execution_count": 0,
   "metadata": {},
   "outputs": [],
   "source": [
    "# Define a cut based on probability\n",
    "\n",
    "probcut = ProbabilityCut(pmap, 1, np.log(0.001))"
   ]
  },
  {
   "cell_type": "markdown",
   "metadata": {},
   "source": [
    "## Load observations"
   ]
  },
  {
   "cell_type": "code",
   "execution_count": 0,
   "metadata": {},
   "outputs": [],
   "source": [
    "from pfs.ga.targeting.io import ObservationSerializer\n",
    "from pfs.ga.targeting.util.astro import *"
   ]
  },
  {
   "cell_type": "code",
   "execution_count": 0,
   "metadata": {},
   "outputs": [],
   "source": [
    "obs = SubaruHSC.text_observation_reader(mags=['r', 'g'], ext=['g', 'r']).read(HSC_FILE)\n",
    "obs.data.shape"
   ]
  },
  {
   "cell_type": "code",
   "execution_count": 0,
   "metadata": {},
   "outputs": [],
   "source": [
    "obs.data.columns"
   ]
  },
  {
   "cell_type": "code",
   "execution_count": 0,
   "metadata": {},
   "outputs": [],
   "source": [
    "obs.data"
   ]
  },
  {
   "cell_type": "markdown",
   "metadata": {},
   "source": [
    "### Plot observations with color cuts"
   ]
  },
  {
   "cell_type": "code",
   "execution_count": 0,
   "metadata": {},
   "outputs": [],
   "source": [
    "cmap = plt.get_cmap('tab10')\n",
    "\n",
    "mask = galaxy.get_selection_mask(obs, nb=False)\n",
    "\n",
    "f = plt.figure(figsize=(8, 3), dpi=240)\n",
    "gs = f.add_gridspec(1, 3, width_ratios=[2, 2, 3], wspace=0.4)   \n",
    "\n",
    "ax = f.add_subplot(gs[0])\n",
    "cmd.plot_observation(ax, obs, c='lightgray')\n",
    "cmd.plot_observation(ax, obs, c='r', mask=mask, cmap=cmap)\n",
    "\n",
    "#ax = f.add_subplot(gs[1])\n",
    "#ccd.plot_observation(ax, obs, c='lightgray')\n",
    "#ccd.plot_observation(ax, obs, c='r', mask=mask, cmap=cmap)\n",
    "\n",
    "ax = f.add_subplot(gs[2], projection=fov.projection.wcs)\n",
    "fov.plot_observation(ax, obs, c='lightgray')\n",
    "fov.plot_observation(ax, obs, c='r', mask=mask, cmap=cmap)\n",
    "\n",
    "f.suptitle('Stars selected based on color cuts.')"
   ]
  },
  {
   "cell_type": "markdown",
   "metadata": {},
   "source": [
    "## Get GAIA data"
   ]
  },
  {
   "cell_type": "code",
   "execution_count": 0,
   "metadata": {},
   "outputs": [],
   "source": [
    "import h5py\n",
    "from pfs.ga.targeting.io import GaiaReader"
   ]
  },
  {
   "cell_type": "code",
   "execution_count": 0,
   "metadata": {},
   "outputs": [],
   "source": [
    "GAIA_FILE"
   ]
  },
  {
   "cell_type": "code",
   "execution_count": 0,
   "metadata": {},
   "outputs": [],
   "source": [
    "found = False\n",
    "if os.path.isfile(GAIA_FILE):\n",
    "    with h5py.File(GAIA_FILE, 'r') as f:\n",
    "        found = f'obs/{GALAXY}/gaia' in f\n",
    "\n",
    "if found:\n",
    "    print('GAIA data file found, read from local.')\n",
    "    r = ObservationSerializer()\n",
    "    gaia = r.read(GAIA_FILE, dataset=f'obs/{GALAXY}/gaia')\n",
    "    gaia.frame = 'icrs'\n",
    "    gaia.equinox = 'J2015'\n",
    "    print(gaia.data.shape)\n",
    "else:\n",
    "    print('GAIA data file not found, running query against archive.')\n",
    "    r = GaiaReader()\n",
    "    gaia = r.cone_search(galaxy.pos, galaxy.rad)\n",
    "    print(gaia.data.shape)\n",
    "\n",
    "    w = ObservationSerializer()\n",
    "    w.write(gaia, GAIA_FILE, dataset=f'obs/{GALAXY}/gaia')"
   ]
  },
  {
   "cell_type": "code",
   "execution_count": 0,
   "metadata": {},
   "outputs": [],
   "source": [
    "gaia.data.columns"
   ]
  },
  {
   "cell_type": "code",
   "execution_count": 0,
   "metadata": {},
   "outputs": [],
   "source": [
    "# Cross-match HSC with GAIA\n",
    "gaia_idx, separation = obs.cross_match(gaia)\n",
    "print('median separation', np.median(separation.arcsec))\n",
    "hsc_gaia_mask = (separation.arcsec < GAIA_CROSSMATCH_RADIUS)\n",
    "print(hsc_gaia_mask.sum())"
   ]
  },
  {
   "cell_type": "code",
   "execution_count": 0,
   "metadata": {},
   "outputs": [],
   "source": [
    "# Cross-match HSC with GAIA\n",
    "hsc_idx, separation = gaia.cross_match(obs)\n",
    "print('median separation', np.median(separation.arcsec))\n",
    "gaia_hsc_mask = (separation.arcsec < GAIA_CROSSMATCH_RADIUS)\n",
    "print(gaia_hsc_mask.sum())"
   ]
  },
  {
   "cell_type": "code",
   "execution_count": 0,
   "metadata": {},
   "outputs": [],
   "source": [
    "cmap = plt.get_cmap('tab10')\n",
    "\n",
    "f = plt.figure(figsize=(6, 3), dpi=240)\n",
    "gs = f.add_gridspec(1, 2, width_ratios=[2, 3], wspace=0.4)   \n",
    "\n",
    "ax = f.add_subplot(gs[0])\n",
    "gaia_cmd.plot_observation(ax, gaia, c='lightgray')\n",
    "gaia_cmd.plot_observation(ax, gaia, c='r', mask=gaia_hsc_mask, cmap=cmap)\n",
    "\n",
    "ax = f.add_subplot(gs[1], projection=wcs.wcs)\n",
    "fov.plot_observation(ax, gaia, c='lightgray')\n",
    "fov.plot_observation(ax, gaia, c='r', mask=gaia_hsc_mask, cmap=cmap)\n",
    "\n",
    "f.suptitle('GAIA stars with HSC counterparts within 1\"')"
   ]
  },
  {
   "cell_type": "code",
   "execution_count": 0,
   "metadata": {},
   "outputs": [],
   "source": [
    "cmap = plt.get_cmap('viridis')\n",
    "\n",
    "f = plt.figure(figsize=(8, 3), dpi=240)\n",
    "gs = f.add_gridspec(1, 3, width_ratios=[2, 2, 3], wspace=0.4)   \n",
    "\n",
    "ax = f.add_subplot(gs[0])\n",
    "cmd.plot_observation(ax, obs, c='lightgray')\n",
    "cmd.plot_observation(ax, obs, c='r', mask=hsc_gaia_mask, cmap=cmap)\n",
    "\n",
    "#ax = f.add_subplot(gs[1])\n",
    "#ccd.plot_observation(ax, obs, c='lightgray')\n",
    "#ccd.plot_observation(ax, obs, c='r', mask=hsc_gaia_mask, cmap=cmap)\n",
    "\n",
    "ax = f.add_subplot(gs[2], projection=wcs.wcs)\n",
    "fov.plot_observation(ax, obs, c='lightgray')\n",
    "fov.plot_observation(ax, obs, c='r', mask=hsc_gaia_mask, cmap=cmap)\n",
    "\n",
    "f.suptitle('HSC stars with GAIA counterparts within 1\"')"
   ]
  },
  {
   "cell_type": "markdown",
   "metadata": {},
   "source": [
    "## Merge Gaia proper motions into HSC catalog"
   ]
  },
  {
   "cell_type": "code",
   "execution_count": 0,
   "metadata": {},
   "outputs": [],
   "source": [
    "# Cross-match HSC with GAIA\n",
    "hsc_gaia_idx, separation = obs.cross_match(gaia)\n",
    "print('median separation', np.median(separation.arcsec))\n",
    "hsc_gaia_mask = (separation.arcsec < 1)\n",
    "\n",
    "hsc_gaia_mask.shape, hsc_gaia_mask.sum()"
   ]
  },
  {
   "cell_type": "code",
   "execution_count": 0,
   "metadata": {},
   "outputs": [],
   "source": [
    "gaia.data.columns"
   ]
  },
  {
   "cell_type": "code",
   "execution_count": 0,
   "metadata": {},
   "outputs": [],
   "source": [
    "columns = ['parallax', 'pm', 'pmdec', 'pmra', 'err_parallax', 'err_pmdec', 'err_pmra']\n",
    "obs.merge(gaia, hsc_gaia_idx, columns=columns, mask=hsc_gaia_mask)"
   ]
  },
  {
   "cell_type": "code",
   "execution_count": 0,
   "metadata": {},
   "outputs": [],
   "source": [
    "obs.data.columns"
   ]
  },
  {
   "cell_type": "markdown",
   "metadata": {},
   "source": [
    "## Assign probabilities"
   ]
  },
  {
   "cell_type": "code",
   "execution_count": 0,
   "metadata": {},
   "outputs": [],
   "source": [
    "# Hard cuts on magnitudes\n",
    "\n",
    "selection = galaxy.get_selection_mask(obs, nb=CUT_NB, probcut=probcut)\n",
    "obs.data.shape, selection.size, selection.sum()"
   ]
  },
  {
   "cell_type": "code",
   "execution_count": 0,
   "metadata": {},
   "outputs": [],
   "source": [
    "# Look up membership probability\n",
    "\n",
    "galaxy.assign_probabilities(obs, pmap, mask=selection)\n",
    "(~np.isnan(obs.data['p_member'])).sum()"
   ]
  },
  {
   "cell_type": "code",
   "execution_count": 0,
   "metadata": {},
   "outputs": [],
   "source": [
    "cmap = plt.get_cmap('viridis')\n",
    "\n",
    "mask = selection & ~np.isnan(obs.data['p_member'])\n",
    "\n",
    "f = plt.figure(figsize=(8, 3), dpi=240)\n",
    "gs = f.add_gridspec(1, 3, width_ratios=[2, 2, 4], wspace=0.4)   \n",
    "\n",
    "ax = f.add_subplot(gs[0])\n",
    "cmd.plot_observation(ax, obs, c='lightgray')\n",
    "cmd.plot_observation(ax, obs, c=obs.data['p_member'][mask], mask=mask, cmap=cmap)\n",
    "\n",
    "#ax = f.add_subplot(gs[1])\n",
    "#ccd.plot_observation(ax, obs, c='lightgray')\n",
    "#ccd.plot_observation(ax, obs, c=obs.data['p_member'][mask], mask=mask, cmap=cmap)\n",
    "\n",
    "ax = f.add_subplot(gs[2], projection=wcs.wcs)\n",
    "fov.plot_observation(ax, obs, c='lightgray')\n",
    "l = fov.plot_observation(ax, obs, c=obs.data['p_member'][mask], mask=mask, cmap=cmap)\n",
    "\n",
    "f.colorbar(l, ax=ax, label='membership probability')\n",
    "\n",
    "f.suptitle('Stars selected by color cuts, colored by membersphip probability')"
   ]
  },
  {
   "cell_type": "code",
   "execution_count": 0,
   "metadata": {},
   "outputs": [],
   "source": [
    "hist, bins = np.histogram(obs.data['p_member'][mask])\n",
    "plt.step(0.5 * (bins[1:] + bins[:-1]), hist, where='mid')\n",
    "plt.xlabel('p')\n",
    "plt.ylabel('frequency')\n",
    "plt.title('Distribution of membership probability')"
   ]
  },
  {
   "cell_type": "markdown",
   "metadata": {},
   "source": [
    "## Assign priorities"
   ]
  },
  {
   "cell_type": "code",
   "execution_count": 0,
   "metadata": {},
   "outputs": [],
   "source": [
    "# Calculate priorities and required exposure time\n",
    "# This is implemented differently for every galaxy\n",
    "\n",
    "galaxy.assign_priorities(obs, mask=None)\n",
    "obs.data['priority'].unique()"
   ]
  },
  {
   "cell_type": "code",
   "execution_count": 0,
   "metadata": {},
   "outputs": [],
   "source": [
    "selection.shape, obs.data.shape"
   ]
  },
  {
   "cell_type": "code",
   "execution_count": 0,
   "metadata": {},
   "outputs": [],
   "source": [
    "obs.data['exp_time'][selection]"
   ]
  },
  {
   "cell_type": "code",
   "execution_count": 0,
   "metadata": {},
   "outputs": [],
   "source": [
    "cmap = plt.get_cmap('tab10')\n",
    "\n",
    "obs_mask = obs.data['priority'] >= 0\n",
    "\n",
    "f = plt.figure(figsize=(8, 3), dpi=240)\n",
    "gs = f.add_gridspec(1, 3, width_ratios=[2, 2, 4], wspace=0.4)   \n",
    "\n",
    "ax = f.add_subplot(gs[0])\n",
    "cmd.plot_observation(ax, obs, c='lightgray')\n",
    "cmd.plot_observation(ax, obs, c=obs.data['priority'][obs_mask], mask=obs_mask, cmap=cmap)\n",
    "\n",
    "#ax = f.add_subplot(gs[1])\n",
    "#ccd.plot_observation(ax, obs, c='lightgray')\n",
    "#ccd.plot_observation(ax, obs, c=obs.data['priority'][obs_mask], mask=obs_mask, cmap=cmap)\n",
    "\n",
    "ax = f.add_subplot(gs[2], projection=wcs.wcs)\n",
    "fov.plot_observation(ax, obs, c='lightgray')\n",
    "l = fov.plot_observation(ax, obs, c=obs.data['priority'][obs_mask], mask=obs_mask, cmap=cmap)\n",
    "\n",
    "f.colorbar(l, ax=ax, label='target priority')\n",
    "\n",
    "f.suptitle('Priority class')"
   ]
  },
  {
   "cell_type": "code",
   "execution_count": 0,
   "metadata": {},
   "outputs": [],
   "source": [
    "obs_mask.size, obs_mask.sum()"
   ]
  },
  {
   "cell_type": "code",
   "execution_count": 0,
   "metadata": {},
   "outputs": [],
   "source": [
    "# Plot distribution of priorities\n",
    "\n",
    "f, ax = plt.subplots(1, 1, figsize=(3.5, 2.5), dpi=240)\n",
    "\n",
    "hist = np.bincount(obs.data['priority'][obs_mask])\n",
    "ax.bar(np.arange(hist.size - 1), hist[:-1])\n",
    "\n",
    "# hist = np.bincount(obs.data['priority'][obs_assigned & (obs.data['priority'] >= 0) & (obs.data['priority'] < 9)])\n",
    "# plt.bar(np.arange(hist.size), hist, color='r')\n",
    "\n",
    "\n",
    "ax.set_title('Priority class number distribution')\n",
    "ax.set_xlabel('Priority class')\n",
    "ax.set_ylabel('Target count')\n"
   ]
  },
  {
   "cell_type": "code",
   "execution_count": 0,
   "metadata": {},
   "outputs": [],
   "source": [
    "# Plot distribution of required visits\n",
    "\n",
    "f, ax = plt.subplots(1, 1, figsize=(3.5, 2.5), dpi=240)\n",
    "\n",
    "hist = np.bincount((np.ceil(obs.data['exp_time'][obs_mask & (obs.data['priority'][obs_mask] < 9)] / 1800.0)).astype(int))\n",
    "ax.bar(np.arange(hist.size), hist)\n",
    "\n",
    "# hist = np.bincount(obs.data['priority'][obs_assigned & (obs.data['priority'] >= 0) & (obs.data['priority'] < 9)])\n",
    "# plt.bar(np.arange(hist.size), hist, color='r')\n",
    "\n",
    "\n",
    "ax.set_title('Distribution of required visit (t_exp = 1800 s)')\n",
    "ax.set_xlabel('Number of required visits')\n",
    "ax.set_ylabel('Target count')\n"
   ]
  },
  {
   "cell_type": "markdown",
   "metadata": {},
   "source": [
    "# Save the pre-processed target list"
   ]
  },
  {
   "cell_type": "code",
   "execution_count": 0,
   "metadata": {},
   "outputs": [],
   "source": [
    "# Only save targets with priority >= 0 and valid values from exp_time\n",
    "mask = (obs.data['priority'] >= 0) & ~np.isnan(obs.data['exp_time'])"
   ]
  },
  {
   "cell_type": "code",
   "execution_count": 0,
   "metadata": {},
   "outputs": [],
   "source": [
    "obs.data.columns"
   ]
  },
  {
   "cell_type": "code",
   "execution_count": 0,
   "metadata": {},
   "outputs": [],
   "source": [
    "obs.data[mask]"
   ]
  },
  {
   "cell_type": "code",
   "execution_count": 0,
   "metadata": {},
   "outputs": [],
   "source": [
    "# Save the catalog with p_member and priority\n",
    "\n",
    "fn = os.path.join(OUTPUT_PATH, f'{GALAXYFULLNAME}_obs.feather')\n",
    "print(fn)\n",
    "\n",
    "s = DataFrameSerializer()\n",
    "s.write(obs.data[mask], fn)\n",
    "\n",
    "obs.data[mask].shape"
   ]
  },
  {
   "cell_type": "code",
   "execution_count": 0,
   "metadata": {},
   "outputs": [],
   "source": []
  }
 ],
 "metadata": {
  "kernelspec": {
   "display_name": "pfs_ga",
   "language": "python",
   "name": "python3"
  },
  "language_info": {
   "codemirror_mode": {
    "name": "ipython",
    "version": 3
   },
   "file_extension": ".py",
   "mimetype": "text/x-python",
   "name": "python",
   "nbconvert_exporter": "python",
   "pygments_lexer": "ipython3",
   "version": "3.12.4"
  }
 },
 "nbformat": 4,
 "nbformat_minor": 2
}