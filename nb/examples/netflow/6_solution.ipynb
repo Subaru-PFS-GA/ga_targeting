{
 "cells": [
  {
   "cell_type": "code",
   "execution_count": 0,
   "metadata": {},
   "outputs": [],
   "source": [
    "import os\n",
    "\n",
    "DEBUG = False\n",
    "DATA_DIR = \"/raid/pfs\" #os.environ['PFS_DATA_DIR']\n",
    "OUTPUT_PATH = DATA_DIR+'/data/targeting/m31/netflow/m31_1'"
   ]
  },
  {
   "cell_type": "markdown",
   "metadata": {},
   "source": [
    "# Verify the ILP solution\n",
    "\n",
    "This notebooks helps analyzing the ILP solution. It reads the ILP solution from a file and\n",
    "checks why the solution is suboptimal."
   ]
  },
  {
   "cell_type": "code",
   "execution_count": 0,
   "metadata": {},
   "outputs": [],
   "source": [
    "import os"
   ]
  },
  {
   "cell_type": "code",
   "execution_count": 0,
   "metadata": {},
   "outputs": [],
   "source": [
    "import gurobipy as gbp\n",
    "from gurobipy import Model"
   ]
  },
  {
   "cell_type": "code",
   "execution_count": 0,
   "metadata": {},
   "outputs": [],
   "source": [
    "# Load the problem definition\n",
    "model = gbp.read(os.path.join(OUTPUT_PATH, 'netflow_problem.mps'))"
   ]
  },
  {
   "cell_type": "code",
   "execution_count": 0,
   "metadata": {},
   "outputs": [],
   "source": [
    "model.update()"
   ]
  },
  {
   "cell_type": "code",
   "execution_count": 0,
   "metadata": {},
   "outputs": [],
   "source": [
    "obj = model.getObjective()\n",
    "obj.size()"
   ]
  },
  {
   "cell_type": "code",
   "execution_count": 0,
   "metadata": {},
   "outputs": [],
   "source": [
    "# Print a few terms of the objective function\n",
    "for i in range(20):\n",
    "    print(obj.getVar(i), obj.getCoeff(i))"
   ]
  },
  {
   "cell_type": "code",
   "execution_count": 0,
   "metadata": {},
   "outputs": [],
   "source": [
    "# Load the solution\n",
    "model.read(os.path.join(OUTPUT_PATH, 'netflow_solution.sol'))\n",
    "model.update()"
   ]
  },
  {
   "cell_type": "code",
   "execution_count": 0,
   "metadata": {},
   "outputs": [],
   "source": [
    "# model.optimize()"
   ]
  },
  {
   "cell_type": "code",
   "execution_count": 0,
   "metadata": {},
   "outputs": [],
   "source": [
    "# Print a few variables\n",
    "vars = model.getVars()\n",
    "for i in range(20):\n",
    "    print(vars[i].varName, vars[i].start)"
   ]
  },
  {
   "cell_type": "code",
   "execution_count": 0,
   "metadata": {},
   "outputs": [],
   "source": [
    "obj.getValue()"
   ]
  },
  {
   "cell_type": "code",
   "execution_count": 0,
   "metadata": {},
   "outputs": [],
   "source": []
  }
 ],
 "metadata": {
  "kernelspec": {
   "display_name": "pfs_ga",
   "language": "python",
   "name": "python3"
  },
  "language_info": {
   "codemirror_mode": {
    "name": "ipython",
    "version": 3
   },
   "file_extension": ".py",
   "mimetype": "text/x-python",
   "name": "python",
   "nbconvert_exporter": "python",
   "pygments_lexer": "ipython3",
   "version": "3.12.4"
  }
 },
 "nbformat": 4,
 "nbformat_minor": 2
}