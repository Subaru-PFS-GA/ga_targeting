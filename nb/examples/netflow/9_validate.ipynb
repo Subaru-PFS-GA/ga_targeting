{
 "cells": [
  {
   "cell_type": "code",
   "execution_count": 0,
   "metadata": {},
   "outputs": [],
   "source": [
    "DEBUG = False\n",
    "\n",
    "DESIGN_PATH = '/raid/pfs/data/targeting/dSph/bootes/netflow/bootes_1/'"
   ]
  },
  {
   "cell_type": "markdown",
   "metadata": {},
   "source": [
    "# Validate PFS Design Files"
   ]
  },
  {
   "cell_type": "code",
   "execution_count": 0,
   "metadata": {},
   "outputs": [],
   "source": [
    "import os, sys\n",
    "import re\n",
    "from glob import glob\n",
    "from datetime import datetime, timedelta\n",
    "import numpy as np\n",
    "import matplotlib.pyplot as plt"
   ]
  },
  {
   "cell_type": "code",
   "execution_count": 0,
   "metadata": {},
   "outputs": [],
   "source": [
    "from pfs.datamodel import PfsDesign"
   ]
  },
  {
   "cell_type": "code",
   "execution_count": 0,
   "metadata": {},
   "outputs": [],
   "source": [
    "def get_pfsDesignId(fn):\n",
    "    #fn = design_files[0]\n",
    "    return int(re.search(r'pfsDesign-0x([0-9a-fA-F]{16})\\.fits', fn).group(1), 16)"
   ]
  },
  {
   "cell_type": "code",
   "execution_count": 0,
   "metadata": {},
   "outputs": [],
   "source": [
    "# Find design files\n",
    "design_ids = []\n",
    "for design_file in glob(os.path.join(DESIGN_PATH, 'pfsDesign-*.fits')):\n",
    "    design_ids.append(get_pfsDesignId(design_file))\n",
    "    print(design_file, hex(design_ids[-1]))"
   ]
  },
  {
   "cell_type": "code",
   "execution_count": 0,
   "metadata": {},
   "outputs": [],
   "source": [
    "pfsDesignId = design_ids[0]\n",
    "pfsDesign = PfsDesign.read(pfsDesignId, dirName=DESIGN_PATH)"
   ]
  },
  {
   "cell_type": "code",
   "execution_count": 0,
   "metadata": {},
   "outputs": [],
   "source": [
    "# Verify that the instrument rotator is within limits\n",
    "from pfs.utils.coordinates import DistortionCoefficients as DCoeff\n",
    "\n",
    "ra = pfsDesign.raBoresight\n",
    "dec = pfsDesign.decBoresight\n",
    "posang = pfsDesign.posAng\n",
    "obs_time = datetime(2025, 1, 24, 3, 30, 0) + timedelta(hours=10)\n",
    "\n",
    "az, el, inr = DCoeff.radec_to_subaru(ra, dec, posang, obs_time,\n",
    "                                     epoch=2000.0, pmra=0.0, pmdec=0.0, par=1e-6)\n",
    "\n",
    "if inr < -174 or inr > 174:\n",
    "    raise ValueError(f'Instrument rotator angle {inr} is out of range')\n",
    "\n",
    "print(f'ra={ra}, dec={dec}, posang={posang}, obs_time={obs_time}')\n",
    "print(f'az={az}, el={el}, inr={inr}')"
   ]
  },
  {
   "cell_type": "code",
   "execution_count": 0,
   "metadata": {},
   "outputs": [],
   "source": []
  }
 ],
 "metadata": {
  "kernelspec": {
   "display_name": "pfs_ga",
   "language": "python",
   "name": "python3"
  },
  "language_info": {
   "codemirror_mode": {
    "name": "ipython",
    "version": 3
   },
   "file_extension": ".py",
   "mimetype": "text/x-python",
   "name": "python",
   "nbconvert_exporter": "python",
   "pygments_lexer": "ipython3",
   "version": "3.12.4"
  }
 },
 "nbformat": 4,
 "nbformat_minor": 2
}