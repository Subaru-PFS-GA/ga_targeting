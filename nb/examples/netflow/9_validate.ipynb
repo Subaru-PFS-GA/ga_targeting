{
 "cells": [
  {
   "cell_type": "code",
   "execution_count": 0,
   "metadata": {},
   "outputs": [],
   "source": [
    "DEBUG = False\n",
    "\n",
    "OUTPUT_PATH = '/datascope/subaru/data/targeting/dSph/bootesi/netflow/bootes_1_003'"
   ]
  },
  {
   "cell_type": "code",
   "execution_count": 0,
   "metadata": {},
   "outputs": [],
   "source": [
    "import os, sys\n",
    "import re\n",
    "from glob import glob\n",
    "from datetime import datetime, timedelta\n",
    "import numpy as np\n",
    "import pandas as pd\n",
    "import matplotlib.pyplot as plt"
   ]
  },
  {
   "cell_type": "code",
   "execution_count": 0,
   "metadata": {},
   "outputs": [],
   "source": [
    "plt.rc('font', size=6)"
   ]
  },
  {
   "cell_type": "code",
   "execution_count": 0,
   "metadata": {},
   "outputs": [],
   "source": [
    "%load_ext autoreload\n",
    "%autoreload 2"
   ]
  },
  {
   "cell_type": "code",
   "execution_count": 0,
   "metadata": {},
   "outputs": [],
   "source": [
    "if DEBUG and 'debug' not in globals():\n",
    "    import debugpy\n",
    "    debugpy.listen(('0.0.0.0', int(os.environ['PFS_TARGETING_DEBUGPORT'])))\n",
    "    debug = True"
   ]
  },
  {
   "cell_type": "markdown",
   "metadata": {},
   "source": [
    "### Load config file"
   ]
  },
  {
   "cell_type": "code",
   "execution_count": 0,
   "metadata": {},
   "outputs": [],
   "source": [
    "from pfs.ga.targeting.config import NetflowConfig\n",
    "from pfs.ga.targeting.projection import WcsProjection, Pointing\n",
    "from pfs.ga.targeting.diagram import FOV, FP\n",
    "from pfs.ga.targeting.instrument import *"
   ]
  },
  {
   "cell_type": "code",
   "execution_count": 0,
   "metadata": {},
   "outputs": [],
   "source": [
    "fn = glob(os.path.join(OUTPUT_PATH, 'ga-netflow*.config'))[0]\n",
    "config = NetflowConfig.from_file(fn, format='.yaml', ignore_collisions=True)\n",
    "fn"
   ]
  },
  {
   "cell_type": "code",
   "execution_count": 0,
   "metadata": {},
   "outputs": [],
   "source": [
    "config.instrument_options"
   ]
  },
  {
   "cell_type": "markdown",
   "metadata": {},
   "source": [
    "# Validate web upload files"
   ]
  },
  {
   "cell_type": "code",
   "execution_count": 0,
   "metadata": {},
   "outputs": [],
   "source": [
    "fn = glob(os.path.join(OUTPUT_PATH, f'{config.field.key}_assignments_web_*.feather'))[0]\n",
    "df = pd.read_feather(fn)\n",
    "df.columns"
   ]
  },
  {
   "cell_type": "code",
   "execution_count": 0,
   "metadata": {},
   "outputs": [],
   "source": [
    "pd.options.display.max_columns = None\n",
    "df.head(5)"
   ]
  },
  {
   "cell_type": "code",
   "execution_count": 0,
   "metadata": {},
   "outputs": [],
   "source": [
    "df.tail(5)"
   ]
  },
  {
   "cell_type": "markdown",
   "metadata": {},
   "source": [
    "# Validate PFS Design Files"
   ]
  },
  {
   "cell_type": "markdown",
   "metadata": {},
   "source": [
    "### Load design files"
   ]
  },
  {
   "cell_type": "code",
   "execution_count": 0,
   "metadata": {},
   "outputs": [],
   "source": [
    "from pfs.datamodel import PfsDesign"
   ]
  },
  {
   "cell_type": "code",
   "execution_count": 0,
   "metadata": {},
   "outputs": [],
   "source": [
    "def get_pfsDesignId(fn):\n",
    "    return int(re.search(r'pfsDesign-0x([0-9a-fA-F]{16})\\.fits', fn).group(1), 16)"
   ]
  },
  {
   "cell_type": "code",
   "execution_count": 0,
   "metadata": {},
   "outputs": [],
   "source": [
    "# Find design files\n",
    "design_ids = []\n",
    "for design_file in glob(os.path.join(OUTPUT_PATH, 'pfsDesign-*.fits')):\n",
    "    design_ids.append(get_pfsDesignId(design_file))\n",
    "    print(design_file, hex(design_ids[-1]))"
   ]
  },
  {
   "cell_type": "code",
   "execution_count": 0,
   "metadata": {},
   "outputs": [],
   "source": [
    "pfsDesignId = design_ids[0]\n",
    "pfsDesign = PfsDesign.read(pfsDesignId, dirName=OUTPUT_PATH)"
   ]
  },
  {
   "cell_type": "code",
   "execution_count": 0,
   "metadata": {},
   "outputs": [],
   "source": [
    "# Verify that the instrument rotator is within limits\n",
    "from pfs.utils.coordinates import DistortionCoefficients as DCoeff\n",
    "\n",
    "ra = pfsDesign.raBoresight\n",
    "dec = pfsDesign.decBoresight\n",
    "posang = pfsDesign.posAng\n",
    "obs_time = datetime(2025, 1, 24, 3, 30, 0) + timedelta(hours=10)\n",
    "\n",
    "az, el, inr = DCoeff.radec_to_subaru(ra, dec, posang, obs_time,\n",
    "                                     epoch=2000.0, pmra=0.0, pmdec=0.0, par=1e-6)\n",
    "\n",
    "if inr < -174 or inr > 174:\n",
    "    raise ValueError(f'Instrument rotator angle {inr} is out of range')\n",
    "\n",
    "print(f'ra={ra}, dec={dec}, posang={posang}, obs_time={obs_time}')\n",
    "print(f'az={az}, el={el}, inr={inr}')"
   ]
  },
  {
   "cell_type": "code",
   "execution_count": 0,
   "metadata": {},
   "outputs": [],
   "source": [
    "# Instantiate instrument classes and diagrams\n",
    "\n",
    "pointing = Pointing(ra, dec, posang=posang, obs_time=obs_time)\n",
    "wcs = WcsProjection(pointing, proj='TAN')\n",
    "wfc = SubaruWFC(pointing)\n",
    "pfi = SubaruPFI(instrument_options=config.instrument_options)\n",
    "fov = FOV(projection=wcs)\n",
    "fp = FP(wfc)"
   ]
  },
  {
   "cell_type": "markdown",
   "metadata": {},
   "source": [
    "### Plot design file"
   ]
  },
  {
   "cell_type": "code",
   "execution_count": 0,
   "metadata": {},
   "outputs": [],
   "source": [
    "f, axs = plt.subplots(1, 2, figsize=(12, 6))\n",
    "\n",
    "fp.plot(axs[0], pfsDesign.pfiNominal[..., 0], pfsDesign.pfiNominal[..., 1],\n",
    "        native_frame='pixel', ms=1)\n",
    "\n",
    "fov.plot(axs[1], pfsDesign.ra, pfsDesign.dec,\n",
    "         native_frame='world', ms=1)"
   ]
  },
  {
   "cell_type": "markdown",
   "metadata": {},
   "source": [
    "# Verify endpoint collisions"
   ]
  },
  {
   "cell_type": "code",
   "execution_count": 0,
   "metadata": {},
   "outputs": [],
   "source": []
  },
  {
   "cell_type": "markdown",
   "metadata": {},
   "source": [
    "# Verify trajectory collisions"
   ]
  },
  {
   "cell_type": "code",
   "execution_count": 0,
   "metadata": {},
   "outputs": [],
   "source": [
    "from ics.cobraOps.CollisionSimulator import CollisionSimulator\n",
    "from ics.cobraOps.CollisionSimulator2 import CollisionSimulator2\n",
    "from ics.cobraOps.TargetGroup import TargetGroup\n",
    "from ics.cobraOps.cobraConstants import NULL_TARGET_POSITION, NULL_TARGET_ID\n",
    "from pfs.utils.fiberids import FiberIds\n",
    "from pfs.datamodel import FiberStatus, TargetType"
   ]
  },
  {
   "cell_type": "code",
   "execution_count": 0,
   "metadata": {},
   "outputs": [],
   "source": [
    "pfi.bench, pfi.cobra_coach"
   ]
  },
  {
   "cell_type": "code",
   "execution_count": 0,
   "metadata": {},
   "outputs": [],
   "source": [
    "# Positions are indexed by cobra ID but the design contains fiber IDs\n",
    "# Cobra IDs are 1-based and go from 1..2394\n",
    "# Some of the fibers are not connected to cobras\n",
    "\n",
    "# Convert fiberIds to cobraIds\n",
    "cobraids = pfi.fiber_map.fiberIdToCobraId(pfsDesign.fiberId)\n",
    "cobra_mask = (cobraids != FiberIds.MISSING_VALUE)\n",
    "\n",
    "# Look up line in design file by fiber ID\n",
    "# Both maps are 1-based!\n",
    "fiber_map = { pfsDesign.fiberId[i]: i for i in range(len(pfsDesign.fiberId)) }\n",
    "cobra_map = { cobraids[i]: i for i in range(len(pfsDesign.fiberId)) if cobraids[i] != FiberIds.MISSING_VALUE}\n",
    "\n",
    "print(cobraids, cobraids.min(), cobraids.max())\n",
    "print(pfsDesign.fiberId.shape, cobra_mask.sum())"
   ]
  },
  {
   "cell_type": "code",
   "execution_count": 0,
   "metadata": {},
   "outputs": [],
   "source": [
    "np.unique(pfsDesign.fiberStatus)"
   ]
  },
  {
   "cell_type": "code",
   "execution_count": 0,
   "metadata": {},
   "outputs": [],
   "source": [
    "positions = np.full(pfi.bench.cobras.nCobras, NULL_TARGET_POSITION)\n",
    "positions[cobraids[cobra_mask] - 1] = pfsDesign.pfiNominal[cobra_mask][..., 0] + \\\n",
    "                                      pfsDesign.pfiNominal[cobra_mask][..., 1] * 1j\n",
    "\n",
    "# Remove unassigned fibers, broken fibers or broken cobras\n",
    "mask = pfsDesign.targetType == TargetType.UNASSIGNED\n",
    "positions[cobraids[cobra_mask & mask] - 1] = NULL_TARGET_POSITION\n",
    "\n",
    "mask = pfsDesign.fiberStatus != FiberStatus.GOOD\n",
    "positions[cobraids[cobra_mask & mask] - 1] = NULL_TARGET_POSITION\n",
    "\n",
    "# Some cobras have no target and the focal plane positions given in the design file\n",
    "# are the home position. Detect these because these might cause issues in trajectory\n",
    "# calculations, and set them to the actual 64-bit home position\n",
    "dist = np.abs(positions - pfi.bench.cobras.home0)\n",
    "positions[dist < 1e-5] = pfi.bench.cobras.home0[dist < 1e-5]\n",
    "\n",
    "# Some cobras have problems, for these, set the positions to the home position\n",
    "# Do not set these, because they're already set to NULL_TARGET_POSITION\n",
    "# These fibers are treated as bad by netflow and will be unassigned\n",
    "# positions[pfi.bench.cobras.hasProblem] = pfi.bench.cobras.home0[pfi.bench.cobras.hasProblem]\n",
    "\n",
    "print((dist < 1e-5).sum(), pfi.bench.cobras.hasProblem.sum())\n",
    "print((positions == NULL_TARGET_POSITION).sum(), (pfsDesign.targetType[cobra_mask] == TargetType.UNASSIGNED).sum())"
   ]
  },
  {
   "cell_type": "code",
   "execution_count": 0,
   "metadata": {},
   "outputs": [],
   "source": [
    "# Bad fibers\n",
    "# BROKENFIBER = 2, \"broken; ignore any flux\"\n",
    "# BLOCKED = 3, \"temporarily blocked; ignore any flux\"\n",
    "# BLACKSPOT = 4, \"hidden behind spot; ignore any flux\"\n",
    "# UNILLUMINATED = 5, \"not illuminated; ignore any flux\"\n",
    "# BROKENCOBRA = 6, \"Cobra does not move, but the fiber still carries flux.\"\n",
    "# NOTCONVERGED = 7, \"Cobra did not converge to the target.\"\n",
    "\n",
    "mask = pfsDesign.fiberStatus != FiberStatus.GOOD\n",
    "cobraids[mask], pfsDesign.fiberStatus[mask]"
   ]
  },
  {
   "cell_type": "code",
   "execution_count": 0,
   "metadata": {},
   "outputs": [],
   "source": [
    "np.where(positions == NULL_TARGET_POSITION)"
   ]
  },
  {
   "cell_type": "code",
   "execution_count": 0,
   "metadata": {},
   "outputs": [],
   "source": [
    "positions[46], positions[2223]"
   ]
  },
  {
   "cell_type": "code",
   "execution_count": 0,
   "metadata": {},
   "outputs": [],
   "source": [
    "pfsDesign.pfiNominal[cobra_map[47]], pfsDesign.pfiNominal[cobra_map[2224]]"
   ]
  },
  {
   "cell_type": "code",
   "execution_count": 0,
   "metadata": {},
   "outputs": [],
   "source": [
    "pfsDesign.pfiNominal[cobra_map[47]], pfsDesign.pfiNominal[cobra_map[2224]]"
   ]
  },
  {
   "cell_type": "code",
   "execution_count": 0,
   "metadata": {},
   "outputs": [],
   "source": [
    "pfsDesign.objId[cobra_map[47]], pfsDesign.objId[cobra_map[2224]]"
   ]
  },
  {
   "cell_type": "code",
   "execution_count": 0,
   "metadata": {},
   "outputs": [],
   "source": [
    "pfsDesign.ra[cobra_map[47]], pfsDesign.dec[cobra_map[47]], pfsDesign.ra[cobra_map[2224]], pfsDesign.dec[cobra_map[2224]]"
   ]
  },
  {
   "cell_type": "code",
   "execution_count": 0,
   "metadata": {},
   "outputs": [],
   "source": [
    "pfsDesign.fiberHole[cobra_map[47]], pfsDesign.fiberHole[cobra_map[2224]]"
   ]
  },
  {
   "cell_type": "code",
   "execution_count": 0,
   "metadata": {},
   "outputs": [],
   "source": [
    "pfsDesign.proposalId[cobra_map[47]], pfsDesign.proposalId[cobra_map[2224]]"
   ]
  },
  {
   "cell_type": "code",
   "execution_count": 0,
   "metadata": {},
   "outputs": [],
   "source": [
    "pfsDesign.targetType[cobra_map[47]], pfsDesign.targetType[cobra_map[2224]]"
   ]
  },
  {
   "cell_type": "code",
   "execution_count": 0,
   "metadata": {},
   "outputs": [],
   "source": [
    "# Verify that the positions are within the cobra range and cobras didn't get mis-indexed\n",
    "np.abs((positions - pfi.bench.cobras.centers)[positions != NULL_TARGET_POSITION]).max()"
   ]
  },
  {
   "cell_type": "code",
   "execution_count": 0,
   "metadata": {},
   "outputs": [],
   "source": [
    "# List index of unassigned or otherwise bad fibers\n",
    "np.where(positions == NULL_TARGET_POSITION)[0]"
   ]
  },
  {
   "cell_type": "code",
   "execution_count": 0,
   "metadata": {},
   "outputs": [],
   "source": [
    "# Verify that the final fiber positions are valid\n",
    "\n",
    "theta, phi = pfi.bench.cobras.calculateRotationAngles(positions)\n",
    "bad_positions = np.where((~np.isfinite(theta) | ~np.isfinite(phi)) & (positions != NULL_TARGET_POSITION))[0]\n",
    "\n",
    "bad_positions"
   ]
  },
  {
   "cell_type": "code",
   "execution_count": 0,
   "metadata": {},
   "outputs": [],
   "source": [
    "np.abs(positions[bad_positions] - pfi.bench.cobras.centers[bad_positions])"
   ]
  },
  {
   "cell_type": "code",
   "execution_count": 0,
   "metadata": {},
   "outputs": [],
   "source": [
    "pfi.bench.cobras.L1, pfi.bench.cobras.L2"
   ]
  },
  {
   "cell_type": "code",
   "execution_count": 0,
   "metadata": {},
   "outputs": [],
   "source": [
    "f, ax = plt.subplots(1, 1, figsize=(12, 12), dpi=240)\n",
    "\n",
    "# Plot cobra IDs\n",
    "for i in range(pfi.bench.cobras.nCobras):\n",
    "    ax.text(pfi.bench.cobras.centers.real[i], pfi.bench.cobras.centers.imag[i], str(i + 1), fontsize=4, ha='center', va='center')\n",
    "\n",
    "# Plot cobra centers\n",
    "ax.plot(pfi.bench.cobras.centers.real, pfi.bench.cobras.centers.imag, '.k', ms=0.5, label='cobra  centers')\n",
    "\n",
    "# Plot unassigned fibers\n",
    "ax.plot(pfi.bench.cobras.centers.real[positions == NULL_TARGET_POSITION],\n",
    "        pfi.bench.cobras.centers.imag[positions == NULL_TARGET_POSITION], 'ob', ms=3, label='unassigned')\n",
    "\n",
    "# Plot broken cobras\n",
    "ax.plot(pfi.bench.cobras.centers.real[pfi.bench.cobras.hasProblem],\n",
    "        pfi.bench.cobras.centers.imag[pfi.bench.cobras.hasProblem], 'xr', ms=3, label='broken')\n",
    "\n",
    "# Plot cobra home positions\n",
    "ax.plot(pfi.bench.cobras.home0.real, pfi.bench.cobras.home0.imag, '.b', ms=.5, label='cobra home position')\n",
    "\n",
    "ax.legend()"
   ]
  },
  {
   "cell_type": "code",
   "execution_count": 0,
   "metadata": {},
   "outputs": [],
   "source": [
    "# Run with version 1\n",
    "\n",
    "targets = TargetGroup(positions, ids=None, priorities=None)\n",
    "\n",
    "\n",
    "simulator = CollisionSimulator(pfi.bench, targets, trajectorySteps=1000)\n",
    "\n",
    "simulator.run()\n",
    "if np.any(simulator.endPointCollisions):\n",
    "    print(\"ERROR: detected end point collision, which should be impossible\")\n",
    "    print(np.where(simulator.endPointCollisions))"
   ]
  },
  {
   "cell_type": "code",
   "execution_count": 0,
   "metadata": {},
   "outputs": [],
   "source": [
    "# List of broken cobras\n",
    "np.where(pfi.bench.cobras.hasProblem)"
   ]
  },
  {
   "cell_type": "code",
   "execution_count": 0,
   "metadata": {},
   "outputs": [],
   "source": [
    "# Run with version2\n",
    "\n",
    "targets = TargetGroup(positions, ids=None, priorities=None)\n",
    "simulator = CollisionSimulator2(pfi.bench, pfi.cobra_coach, targets)\n",
    "simulator.run()\n",
    "\n",
    "if np.any(simulator.endPointCollisions):\n",
    "    print(\"ERROR: detected end point collision, which should be impossible\")"
   ]
  },
  {
   "cell_type": "code",
   "execution_count": 0,
   "metadata": {},
   "outputs": [],
   "source": []
  },
  {
   "cell_type": "code",
   "execution_count": 0,
   "metadata": {},
   "outputs": [],
   "source": []
  }
 ],
 "metadata": {
  "kernelspec": {
   "display_name": "dobos-torch",
   "language": "python",
   "name": "python3"
  },
  "language_info": {
   "codemirror_mode": {
    "name": "ipython",
    "version": 3
   },
   "file_extension": ".py",
   "mimetype": "text/x-python",
   "name": "python",
   "nbconvert_exporter": "python",
   "pygments_lexer": "ipython3",
   "version": "3.10.15"
  }
 },
 "nbformat": 4,
 "nbformat_minor": 2
}