{
 "cells": [
  {
   "cell_type": "code",
   "execution_count": 0,
   "metadata": {},
   "outputs": [],
   "source": [
    "DEBUG = False\n",
    "\n",
    "GALAXY = 'booi'\n",
    "GALAXYFULLNAME = 'bootes'\n",
    "NVISITS = 1\n",
    "\n",
    "DATA_DIR = '/datascope/subaru'\n",
    "ISOCHRONES_PATH = f'{DATA_DIR}/data/cmdfit/isochrones/dartmouth/import/afep0_cfht_sdss_hsc'\n",
    "\n",
    "OUTPUT_PATH = f'{DATA_DIR}/data/targeting/dSph/{GALAXYFULLNAME}/netflow/{GALAXYFULLNAME}_{NVISITS}'"
   ]
  },
  {
   "cell_type": "markdown",
   "metadata": {
    "vscode": {
     "languageId": "plaintext"
    }
   },
   "source": [
    "# Plot the assigned targets\n",
    "\n",
    "Load the data and plot the assigned targets for each pointing and visit."
   ]
  },
  {
   "cell_type": "code",
   "execution_count": 0,
   "metadata": {},
   "outputs": [],
   "source": [
    "import os, sys\n",
    "from glob import glob\n",
    "from datetime import datetime\n",
    "import numpy as np\n",
    "import pandas as pd\n",
    "import matplotlib as mpl\n",
    "import matplotlib.pyplot as plt"
   ]
  },
  {
   "cell_type": "code",
   "execution_count": 0,
   "metadata": {},
   "outputs": [],
   "source": [
    "plt.rc('font', size=6)"
   ]
  },
  {
   "cell_type": "code",
   "execution_count": 0,
   "metadata": {},
   "outputs": [],
   "source": [
    "%load_ext autoreload\n",
    "%autoreload 2"
   ]
  },
  {
   "cell_type": "code",
   "execution_count": 0,
   "metadata": {},
   "outputs": [],
   "source": [
    "if DEBUG and 'debug' not in globals():\n",
    "    import debugpy\n",
    "    debugpy.listen(('0.0.0.0', int(os.environ['PFS_TARGETING_DEBUGPORT'])))\n",
    "    debug = True"
   ]
  },
  {
   "cell_type": "markdown",
   "metadata": {},
   "source": [
    "# Plot definitions"
   ]
  },
  {
   "cell_type": "code",
   "execution_count": 0,
   "metadata": {},
   "outputs": [],
   "source": [
    "import pfs.utils\n",
    "from pfs.ga.targeting.targets.dsph import *\n",
    "from pfs.ga.targeting.instrument import *\n",
    "from pfs.ga.targeting.diagram import CMD, CCD, FOV, FP, ColorAxis, MagnitudeAxis\n",
    "from pfs.ga.targeting.photometry import Photometry, Magnitude, Color\n",
    "from pfs.ga.targeting.projection import WcsProjection, Pointing\n",
    "from pfs.ga.targeting.netflow import Netflow\n",
    "from pfs.ga.targeting.io import DataFrameSerializer"
   ]
  },
  {
   "cell_type": "code",
   "execution_count": 0,
   "metadata": {},
   "outputs": [],
   "source": [
    "galaxy = GALAXIES[GALAXY]\n",
    "hsc = galaxy.get_photometry()\n",
    "cmd = galaxy.get_cmd()\n",
    "ccd = galaxy.get_ccd()\n",
    "gaia_cmd = galaxy.get_cmd(Gaia)"
   ]
  },
  {
   "cell_type": "code",
   "execution_count": 0,
   "metadata": {},
   "outputs": [],
   "source": [
    "pointings = galaxy.get_pointings(SubaruPFI)\n",
    "pointing = pointings[0]\n",
    "\n",
    "for p in pointings:\n",
    "    print(p.ra, p.dec, p.posang)"
   ]
  },
  {
   "cell_type": "code",
   "execution_count": 0,
   "metadata": {},
   "outputs": [],
   "source": [
    "wcs = WcsProjection(Pointing(galaxy.pos), proj='TAN')\n",
    "wfc = SubaruWFC(pointing)\n",
    "fov = FOV(projection=wcs)\n",
    "fp = FP(wfc)"
   ]
  },
  {
   "cell_type": "markdown",
   "metadata": {},
   "source": [
    "# Load the assignments"
   ]
  },
  {
   "cell_type": "code",
   "execution_count": 0,
   "metadata": {},
   "outputs": [],
   "source": [
    "from pfs.ga.targeting.io import DataFrameSerializer, ObservationSerializer"
   ]
  },
  {
   "cell_type": "code",
   "execution_count": 0,
   "metadata": {},
   "outputs": [],
   "source": [
    "assignments = DataFrameSerializer().read(f'{OUTPUT_PATH}/{GALAXY}_assignments.feather')\n",
    "\n",
    "print(assignments.shape)\n",
    "for c in assignments.columns:\n",
    "    print(c, assignments[c].dtype)"
   ]
  },
  {
   "cell_type": "code",
   "execution_count": 0,
   "metadata": {},
   "outputs": [],
   "source": [
    "assignments['pointing_idx'].unique(), assignments['visit_idx'].unique()"
   ]
  },
  {
   "cell_type": "code",
   "execution_count": 0,
   "metadata": {},
   "outputs": [],
   "source": [
    "summary = DataFrameSerializer().read(f'{OUTPUT_PATH}/{GALAXY}_summary.feather')\n",
    "summary.shape"
   ]
  },
  {
   "cell_type": "markdown",
   "metadata": {},
   "source": [
    "# Load the target lists"
   ]
  },
  {
   "cell_type": "code",
   "execution_count": 0,
   "metadata": {},
   "outputs": [],
   "source": [
    "from pfs.ga.targeting.config import NetflowConfig\n",
    "from pfs.ga.targeting.io import ObservationSerializer"
   ]
  },
  {
   "cell_type": "code",
   "execution_count": 0,
   "metadata": {},
   "outputs": [],
   "source": [
    "# Load the configuration\n",
    "fn = glob(os.path.join(OUTPUT_PATH, 'ga-netflow*.config'))[0]\n",
    "config = NetflowConfig.from_file(fn, format='.yaml', ignore_collisions=True)\n",
    "\n",
    "print(config.targets.keys())"
   ]
  },
  {
   "cell_type": "code",
   "execution_count": 0,
   "metadata": {},
   "outputs": [],
   "source": [
    "s = ObservationSerializer()\n",
    "\n",
    "target_lists = {}\n",
    "for k in config.targets:\n",
    "    fn = os.path.join(OUTPUT_PATH, f'{GALAXY}_targets_{k}.feather')\n",
    "    target_lists[k] = s.read(fn)\n",
    "    print(k, target_lists[k].data.shape, fn)"
   ]
  },
  {
   "cell_type": "markdown",
   "metadata": {},
   "source": [
    "# Plot all targets"
   ]
  },
  {
   "cell_type": "code",
   "execution_count": 0,
   "metadata": {},
   "outputs": [],
   "source": [
    "def plot_assignments(axs,\n",
    "                     pointing_idx=None, visit_idx=None,\n",
    "                     plot_background=False, plot_assigned=True, plot_unassigned=True,\n",
    "                     title=None):\n",
    "\n",
    "    mask = ((pointing_idx is None) | (assignments['pointing_idx'] == pointing_idx)) \\\n",
    "         & ((visit_idx is None) | (assignments['visit_idx'] == visit_idx))\n",
    "\n",
    "    unique_targets = assignments['targetid'][mask].unique()\n",
    "    # print(unique_targets.shape)\n",
    "\n",
    "    cmap = plt.get_cmap('tab10')\n",
    "\n",
    "    # Plot the full list of science targets in the background in grey\n",
    "    if plot_background:\n",
    "        for k, target_list in target_lists.items():\n",
    "\n",
    "            if target_list.has_diagram_values(cmd, observed=True):\n",
    "                cmd.plot_catalog(axs[0], target_list, observed=True, color='grey', alpha=1.0)\n",
    "\n",
    "            if target_list.has_diagram_values(ccd, observed=True):\n",
    "                ccd.plot_catalog(axs[1], target_list, observed=True, color='grey', alpha=1.0)\n",
    "\n",
    "            if config.targets[k].prefix == 'sci':\n",
    "                fov.plot_catalog(axs[2], target_list, observed=True, color='grey', alpha=1.0)\n",
    "\n",
    "    if plot_unassigned:\n",
    "        for k, target_list in target_lists.items():\n",
    "            if config.targets[k].prefix == 'sci':\n",
    "                mask = ~target_list.data['targetid'].isin(unique_targets)\n",
    "                # print(k, config.targets[k].prefix, mask.sum())\n",
    "\n",
    "                for d, ax in zip([cmd, ccd, fov], axs):\n",
    "                    if target_list.has_diagram_values(d, observed=True):\n",
    "                        d.plot_catalog(ax, target_list, mask=mask, observed=True, color='grey', size=0.5, alpha=1.0)\n",
    "\n",
    "    # Plot the assigned targets in color\n",
    "    if plot_assigned:\n",
    "        for i, (k, target_list) in enumerate(target_lists.items()):\n",
    "            mask = target_list.data['targetid'].isin(unique_targets)\n",
    "            # print(k, config.targets[k].prefix, mask.sum())\n",
    "\n",
    "            if target_list.has_diagram_values(cmd, observed=True):\n",
    "                cmd.plot_catalog(axs[0], target_list, mask=mask, observed=True, size=0.5, color=cmap(i))\n",
    "\n",
    "            if target_list.has_diagram_values(ccd, observed=True):\n",
    "                ccd.plot_catalog(axs[1], target_list, mask=mask, observed=True, size=0.5, color=cmap(i))\n",
    "\n",
    "            fov.plot_catalog(axs[2], target_list, mask=mask, observed=True, size=0.5, color=cmap(i), label=k)\n",
    "\n",
    "    axs[2].set_aspect('equal', adjustable='datalim')\n",
    "    axs[2].legend(loc='upper right', fontsize=6)"
   ]
  },
  {
   "cell_type": "code",
   "execution_count": 0,
   "metadata": {},
   "outputs": [],
   "source": [
    "f = plt.figure(figsize=(9, 7), dpi=240)\n",
    "gs = f.add_gridspec(2, 3, width_ratios=[2, 2, 3], wspace=0.4, hspace=0.2)\n",
    "\n",
    "axs = [f.add_subplot(gs[0, 0]), f.add_subplot(gs[0, 1]), f.add_subplot(gs[0, 2], projection=wcs.wcs)]\n",
    "plot_assignments(axs, plot_background=False, plot_assigned=False, plot_unassigned=True)\n",
    "\n",
    "axs = [f.add_subplot(gs[1, 0]), f.add_subplot(gs[1, 1]), f.add_subplot(gs[1, 2], projection=wcs.wcs)]\n",
    "plot_assignments(axs, plot_background=False, plot_assigned=True, plot_unassigned=False)"
   ]
  },
  {
   "cell_type": "code",
   "execution_count": 0,
   "metadata": {},
   "outputs": [],
   "source": [
    "for i in assignments['pointing_idx'].unique():\n",
    "    f = plt.figure(figsize=(9, 4), dpi=240)\n",
    "    gs = f.add_gridspec(1, 3, width_ratios=[2, 2, 3], wspace=0.4)\n",
    "\n",
    "    axs = [f.add_subplot(gs[0, 0]), f.add_subplot(gs[0, 1]), f.add_subplot(gs[0, 2], projection=wcs.wcs)]\n",
    "\n",
    "    plot_assignments(axs, pointing_idx=i,\n",
    "                     plot_background=True, plot_assigned=True, plot_unassigned=False)\n",
    "\n",
    "    f.suptitle(f'Pointing {i}')"
   ]
  },
  {
   "cell_type": "markdown",
   "metadata": {},
   "source": [
    "# Plot science targets per priority"
   ]
  },
  {
   "cell_type": "code",
   "execution_count": 0,
   "metadata": {},
   "outputs": [],
   "source": [
    "#####"
   ]
  },
  {
   "cell_type": "markdown",
   "metadata": {},
   "source": [
    "# Calculate statistics"
   ]
  },
  {
   "cell_type": "code",
   "execution_count": 0,
   "metadata": {},
   "outputs": [],
   "source": [
    "from pfs.datamodel import TargetType"
   ]
  },
  {
   "cell_type": "code",
   "execution_count": 0,
   "metadata": {},
   "outputs": [],
   "source": [
    "# Total number of unique science targets observed\n",
    "assignments[assignments['prefix'] == 'sci']['targetid'].nunique()"
   ]
  },
  {
   "cell_type": "code",
   "execution_count": 0,
   "metadata": {},
   "outputs": [],
   "source": [
    "# Targets that are partially observed\n",
    "summary[(summary['num_visits'] < summary['req_visits']) & (summary['num_visits'] > 0)]"
   ]
  },
  {
   "cell_type": "code",
   "execution_count": 0,
   "metadata": {},
   "outputs": [],
   "source": [
    "# Science targets that are observed longer than the required number of visits\n",
    "summary[(summary['prefix'] == 'sci') & (summary['num_visits'] > summary['req_visits'])]"
   ]
  },
  {
   "cell_type": "code",
   "execution_count": 0,
   "metadata": {},
   "outputs": [],
   "source": [
    "# Number of unique targets per priority class\n",
    "summary[summary['num_visits'] > 0].groupby('class')['targetid'].nunique()"
   ]
  },
  {
   "cell_type": "code",
   "execution_count": 0,
   "metadata": {},
   "outputs": [],
   "source": [
    "# Number of missed science targets per priority class\n",
    "summary[(summary['prefix'] == 'sci') & (summary['num_visits'] == 0)].groupby('class')['targetid'].nunique()"
   ]
  },
  {
   "cell_type": "code",
   "execution_count": 0,
   "metadata": {},
   "outputs": [],
   "source": [
    "# Number of partially observed science targets per priority class\n",
    "summary[(summary['prefix'] == 'sci') & \n",
    "        (summary['num_visits'] < summary['req_visits']) & \n",
    "        (summary['num_visits'] > 0)].groupby('class')['targetid'].nunique()"
   ]
  },
  {
   "cell_type": "code",
   "execution_count": 0,
   "metadata": {},
   "outputs": [],
   "source": [
    "# Number of unassigned fibers in each visit\n",
    "assignments[assignments['target_type'] == TargetType.UNASSIGNED].groupby('visit_idx')['fiberid'].nunique()"
   ]
  },
  {
   "cell_type": "code",
   "execution_count": 0,
   "metadata": {},
   "outputs": [],
   "source": [
    "# Number of unique calibration targets for each visit\n",
    "assignments[assignments['prefix'] == 'cal'].groupby('visit_idx')['targetid'].nunique()"
   ]
  },
  {
   "cell_type": "code",
   "execution_count": 0,
   "metadata": {},
   "outputs": [],
   "source": [
    "# Number of unique sky positions for each visit\n",
    "assignments[assignments['prefix'] == 'sky'].groupby('visit_idx')['targetid'].nunique()"
   ]
  },
  {
   "cell_type": "code",
   "execution_count": 0,
   "metadata": {},
   "outputs": [],
   "source": [
    "# Number of observed unique science targets for each visit\n",
    "assignments[assignments['prefix'] == 'sci'].groupby('visit_idx')['targetid'].nunique()"
   ]
  },
  {
   "cell_type": "code",
   "execution_count": 0,
   "metadata": {},
   "outputs": [],
   "source": [
    "# of unique science targets assigned\n",
    "for pidx in np.sort(assignments['pointing_idx'].unique()):\n",
    "    for vidx in np.sort(assignments[assignments['pointing_idx'] == pidx]['visit_idx'].unique()):\n",
    "        mask = (assignments['visit_idx'] == vidx) & \\\n",
    "               (assignments['pointing_idx'] == pidx) & \\\n",
    "               (assignments['prefix'] == 'sci')\n",
    "        print(f'Pointing #{pidx}, Visit #{vidx}:', assignments[mask]['targetid'].nunique())\n",
    "\n",
    "print('Grand Total:', assignments[assignments['prefix'] == 'sci']['targetid'].nunique())"
   ]
  },
  {
   "cell_type": "code",
   "execution_count": 0,
   "metadata": {},
   "outputs": [],
   "source": [
    "# total # of sky fibers assigned\n",
    "for pidx in np.sort(assignments['pointing_idx'].unique()):\n",
    "    for vidx in np.sort(assignments[assignments['pointing_idx'] == pidx]['visit_idx'].unique()):\n",
    "        mask = (assignments['visit_idx'] == vidx) & \\\n",
    "               (assignments['pointing_idx'] == pidx) & \\\n",
    "               (assignments['prefix'] == 'sky')\n",
    "        print(f'Pointing #{pidx}, Visit #{vidx}:', assignments[mask]['targetid'].nunique())\n",
    "\n",
    "print('Grand Total:', assignments[assignments['prefix'] == 'sky']['targetid'].nunique())"
   ]
  },
  {
   "cell_type": "code",
   "execution_count": 0,
   "metadata": {},
   "outputs": [],
   "source": [
    "# total # of calibration fibers assigned\n",
    "for pidx in np.sort(assignments['pointing_idx'].unique()):\n",
    "    for vidx in np.sort(assignments[assignments['pointing_idx'] == pidx]['visit_idx'].unique()):\n",
    "        mask = (assignments['visit_idx'] == vidx) & \\\n",
    "               (assignments['pointing_idx'] == pidx) & \\\n",
    "               (assignments['prefix'] == 'cal')\n",
    "        print(f'Pointing #{pidx}, Visit #{vidx}:', assignments[mask]['targetid'].nunique())\n",
    "\n",
    "print('Grand Total:', assignments[assignments['prefix'] == 'cal']['targetid'].nunique())"
   ]
  },
  {
   "cell_type": "markdown",
   "metadata": {},
   "source": [
    "# Plot the distribution of assigned targets"
   ]
  },
  {
   "cell_type": "code",
   "execution_count": 0,
   "metadata": {},
   "outputs": [],
   "source": [
    "# Plot priority distribution for each target list\n",
    "for k in config.targets:\n",
    "    if config.targets[k].prefix in ['sci']:\n",
    "        f, ax = plt.subplots(1, 1, figsize=(3.5, 2.5), dpi=240)\n",
    "\n",
    "        hist = np.bincount(target_lists[k].data['priority'])\n",
    "        ax.bar(np.arange(hist.size), hist)\n",
    "\n",
    "        mask = target_lists[k].data['targetid'].isin(assignments[assignments['prefix'] == config.targets[k].prefix]['targetid'])\n",
    "        hist = np.bincount(target_lists[k].data['priority'][mask])\n",
    "        ax.bar(np.arange(hist.size), hist, color='r')\n",
    "\n",
    "        ax.set_title(f'Priority class distribution for target list `{k}`')\n",
    "        ax.set_xlabel(f'Priority class')\n",
    "        ax.set_ylabel(f'Target count')"
   ]
  },
  {
   "cell_type": "code",
   "execution_count": 0,
   "metadata": {},
   "outputs": [],
   "source": [
    "# Plot the distribution of required visits for each target list\n",
    "exp_time = 1800 # seconds\n",
    "\n",
    "for k in config.targets:\n",
    "    if config.targets[k].prefix in ['sci']:\n",
    "        f, ax = plt.subplots(1, 1, figsize=(3.5, 2.5), dpi=240)\n",
    "\n",
    "        hist = np.bincount((np.ceil(target_lists[k].data['exp_time'] / exp_time)).astype(int))\n",
    "        ax.bar(np.arange(hist.size), hist)\n",
    "\n",
    "        mask = target_lists[k].data['targetid'].isin(assignments[assignments['prefix'] == config.targets[k].prefix]['targetid'])\n",
    "        hist = np.bincount((np.ceil(target_lists[k].data['exp_time'][mask] / exp_time)).astype(int))\n",
    "        ax.bar(np.arange(hist.size), hist, color='r')\n",
    "\n",
    "        ax.set_title(f'Distribution of required visit (t_exp = {exp_time} s)')\n",
    "        ax.set_xlabel('Number of required visits')\n",
    "        ax.set_ylabel('Target count')\n"
   ]
  },
  {
   "cell_type": "code",
   "execution_count": 0,
   "metadata": {},
   "outputs": [],
   "source": []
  }
 ],
 "metadata": {
  "kernelspec": {
   "display_name": "dobos-torch",
   "language": "python",
   "name": "python3"
  },
  "language_info": {
   "codemirror_mode": {
    "name": "ipython",
    "version": 3
   },
   "file_extension": ".py",
   "mimetype": "text/x-python",
   "name": "python",
   "nbconvert_exporter": "python",
   "pygments_lexer": "ipython3",
   "version": "3.10.15"
  }
 },
 "nbformat": 4,
 "nbformat_minor": 2
}