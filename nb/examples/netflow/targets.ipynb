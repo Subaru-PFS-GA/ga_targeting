{
 "cells": [
  {
   "cell_type": "code",
   "execution_count": 0,
   "metadata": {},
   "outputs": [],
   "source": [
    "DEBUG = True\n",
    "\n",
    "GALAXY = 'fornax'"
   ]
  },
  {
   "cell_type": "markdown",
   "metadata": {},
   "source": [
    "# Plot the target lists\n",
    "\n",
    "Load the target lists and plot them. The file names are looked up from the netflow\n",
    "configuration file under `./configs/netflow`."
   ]
  },
  {
   "cell_type": "code",
   "execution_count": 0,
   "metadata": {},
   "outputs": [],
   "source": [
    "import os, sys\n",
    "from datetime import datetime\n",
    "import numpy as np\n",
    "import pandas as pd\n",
    "import matplotlib as mpl\n",
    "import matplotlib.pyplot as plt\n",
    "from matplotlib.gridspec import GridSpec\n",
    "from matplotlib.colors import LinearSegmentedColormap\n",
    "from matplotlib.patches import Ellipse, Circle\n",
    "from matplotlib.gridspec import GridSpec\n",
    "from scipy.special import logsumexp\n",
    "from scipy.interpolate import interp1d\n",
    "\n",
    "from astropy import wcs\n",
    "from astropy import units as u\n",
    "from astropy.coordinates import Angle, SkyCoord\n",
    "from astropy.time import Time"
   ]
  },
  {
   "cell_type": "code",
   "execution_count": 0,
   "metadata": {},
   "outputs": [],
   "source": [
    "plt.rc('font', size=6) #controls default text size"
   ]
  },
  {
   "cell_type": "code",
   "execution_count": 0,
   "metadata": {},
   "outputs": [],
   "source": [
    "%load_ext autoreload\n",
    "%autoreload 2"
   ]
  },
  {
   "cell_type": "code",
   "execution_count": 0,
   "metadata": {},
   "outputs": [],
   "source": [
    "if DEBUG and 'debug' not in globals():\n",
    "    import debugpy\n",
    "    debugpy.listen(('0.0.0.0', int(os.environ['PFS_TARGETING_DEBUGPORT'])))\n",
    "    debug = True"
   ]
  },
  {
   "cell_type": "markdown",
   "metadata": {},
   "source": [
    "# Plot definitions"
   ]
  },
  {
   "cell_type": "code",
   "execution_count": 0,
   "metadata": {},
   "outputs": [],
   "source": [
    "import pfs.utils\n",
    "from pfs.ga.targeting.targets.dsph import *\n",
    "from pfs.ga.targeting.instrument import *\n",
    "from pfs.ga.targeting.diagram import CMD, CCD, FOV, FP, ColorAxis, MagnitudeAxis\n",
    "from pfs.ga.targeting.photometry import Photometry, Magnitude, Color\n",
    "from pfs.ga.targeting.projection import WcsProjection, Pointing\n",
    "from pfs.ga.targeting.netflow import Netflow\n",
    "from pfs.ga.targeting.io import DataFrameSerializer"
   ]
  },
  {
   "cell_type": "code",
   "execution_count": 0,
   "metadata": {},
   "outputs": [],
   "source": [
    "galaxy = GALAXIES[GALAXY]\n",
    "hsc = galaxy.get_photometry()\n",
    "cmd = galaxy.get_cmd()\n",
    "ccd = galaxy.get_ccd()\n",
    "gaia_cmd = galaxy.get_cmd(Gaia)"
   ]
  },
  {
   "cell_type": "code",
   "execution_count": 0,
   "metadata": {},
   "outputs": [],
   "source": [
    "pointings = galaxy.get_pointings(SubaruPFI)\n",
    "pointing = pointings[0]\n",
    "\n",
    "for p in pointings:\n",
    "    print(p.ra, p.dec, p.posang)"
   ]
  },
  {
   "cell_type": "code",
   "execution_count": 0,
   "metadata": {},
   "outputs": [],
   "source": [
    "wcs = WcsProjection(pointing, proj='TAN')\n",
    "wfc = SubaruWFC(pointing)\n",
    "fov = FOV(projection=wcs)\n",
    "fp = FP(wfc)"
   ]
  },
  {
   "cell_type": "markdown",
   "metadata": {},
   "source": [
    "## Load the target lists"
   ]
  },
  {
   "cell_type": "code",
   "execution_count": 0,
   "metadata": {},
   "outputs": [],
   "source": [
    "from pfs.ga.targeting.config import NetflowConfig\n",
    "from pfs.ga.targeting.scripts.netflowscript import NetflowScript\n",
    "from pfs.ga.targeting.data import Catalog, Observation"
   ]
  },
  {
   "cell_type": "code",
   "execution_count": 0,
   "metadata": {},
   "outputs": [],
   "source": [
    "# Put together the netflow configuration. Get the default config and add galaxy-specific\n",
    "# settings, then load the target list configuration and apply it.\n",
    "\n",
    "# Here we instantiate the command-line script class because it has all features\n",
    "# to work with the target lists.\n",
    "\n",
    "config = f'../../../configs/netflow/dSph/{GALAXY}/targets.py'\n",
    "print(os.path.abspath(config))\n",
    "\n",
    "args = {\n",
    "    'dsph': GALAXY,\n",
    "    'config': [ config ],\n",
    "}\n",
    "\n",
    "script = NetflowScript()\n",
    "script._init_from_args(args)\n",
    "\n",
    "netflow_config = script.config"
   ]
  },
  {
   "cell_type": "code",
   "execution_count": 0,
   "metadata": {},
   "outputs": [],
   "source": [
    "for name, target_list in netflow_config.targets.items():\n",
    "    print(name, target_list.prefix, target_list.path)"
   ]
  },
  {
   "cell_type": "code",
   "execution_count": 0,
   "metadata": {},
   "outputs": [],
   "source": [
    "target_lists = script.load_source_target_lists()"
   ]
  },
  {
   "cell_type": "code",
   "execution_count": 0,
   "metadata": {},
   "outputs": [],
   "source": [
    "cmap = plt.get_cmap('tab10')\n",
    "colors = { 'sci': 'lightgray', 'cal': 'red', 'sky': cmap(2) }\n",
    "size = { 'sci': 0.5, 'cal': 2, 'sky': 0.1 }\n",
    "\n",
    "f = plt.figure(figsize=(8, 3), dpi=240)\n",
    "gs = f.add_gridspec(1, 3, width_ratios=[2, 2, 3], wspace=0.4)\n",
    "\n",
    "ax = f.add_subplot(gs[0])\n",
    "for name, options in script._NetflowScript__config.targets.items():\n",
    "    if options.prefix in ['sci', 'cal']:\n",
    "        if target_lists[name].has_diagram_values(cmd, observed=True):\n",
    "            cmd.plot_observation(ax, target_lists[name], c=colors[options.prefix], observed=True)\n",
    "\n",
    "ax = f.add_subplot(gs[1])\n",
    "for name, options in script._NetflowScript__config.targets.items():\n",
    "    if options.prefix in ['sci', 'cal']:\n",
    "        if target_lists[name].has_diagram_values(ccd, observed=True):\n",
    "            ccd.plot_observation(ax, target_lists[name], c=colors[options.prefix], observed=True)\n",
    "\n",
    "ax = f.add_subplot(gs[2], projection=wcs.wcs)\n",
    "for name, options in script._NetflowScript__config.targets.items():\n",
    "    if options.prefix in ['sci', 'cal']:\n",
    "        fov.plot_observation(ax, target_lists[name], c=colors[options.prefix], size=size[options.prefix], observed=True)\n",
    "\n",
    "f.suptitle('Stars selected based on color cuts.')"
   ]
  },
  {
   "cell_type": "code",
   "execution_count": 0,
   "metadata": {},
   "outputs": [],
   "source": [
    "f = plt.figure(figsize=(3, 3), dpi=240)\n",
    "gs = f.add_gridspec(1, 1)\n",
    "\n",
    "ax = f.add_subplot(gs[0, 0], projection=wcs.wcs)\n",
    "for name, options in script._NetflowScript__config.targets.items():\n",
    "    if options.prefix in ['sky']:\n",
    "        fov.plot_observation(ax, target_lists[name], c=colors[options.prefix], size=size[options.prefix], observed=True)\n",
    "\n",
    "f.suptitle('Available sky positions')"
   ]
  },
  {
   "cell_type": "code",
   "execution_count": 0,
   "metadata": {},
   "outputs": [],
   "source": []
  }
 ],
 "metadata": {
  "kernelspec": {
   "display_name": "dobos-torch",
   "language": "python",
   "name": "python3"
  },
  "language_info": {
   "codemirror_mode": {
    "name": "ipython",
    "version": 3
   },
   "file_extension": ".py",
   "mimetype": "text/x-python",
   "name": "python",
   "nbconvert_exporter": "python",
   "pygments_lexer": "ipython3",
   "version": "3.10.15"
  }
 },
 "nbformat": 4,
 "nbformat_minor": 2
}