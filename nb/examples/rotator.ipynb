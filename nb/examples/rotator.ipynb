{
 "cells": [
  {
   "cell_type": "code",
   "execution_count": 0,
   "metadata": {},
   "outputs": [],
   "source": [
    "FIELD = 'ursaminor'\n",
    "CONFIG_FILES = [\n",
    "    '/home/dobos/project/ga_targeting/configs/netflow/SSP/dSph/_common.py',\n",
    "    f'/home/dobos/project/ga_targeting/configs/netflow/SSP/dSph/{FIELD}.py'\n",
    "]\n",
    "\n",
    "TIME_FROM = '2025-04-01 12:00:00'       # HST\n",
    "TIME_TO = '2025-04-02 12:00:00'"
   ]
  },
  {
   "cell_type": "markdown",
   "metadata": {},
   "source": [
    "# Calculate the rotator angle as a function of time"
   ]
  },
  {
   "cell_type": "code",
   "execution_count": 0,
   "metadata": {},
   "outputs": [],
   "source": [
    "from datetime import datetime, timedelta\n",
    "import dateutil.parser\n",
    "import numpy as np\n",
    "import matplotlib.pyplot as plt\n",
    "\n",
    "from astropy.time import Time, TimeDelta\n",
    "from astropy.coordinates import SkyCoord, EarthLocation, AltAz\n",
    "from astroplan import Observer\n",
    "import astropy.units as u\n",
    "\n",
    "from pfs.utils.coordinates import Subaru_POPT2_PFS\n",
    "\n",
    "from pfs.ga.targeting.config.netflow import NetflowConfig\n",
    "from pfs.ga.targeting.targets.dsph import GALAXIES"
   ]
  },
  {
   "cell_type": "code",
   "execution_count": 0,
   "metadata": {},
   "outputs": [],
   "source": [
    "%load_ext autoreload\n",
    "%autoreload 2"
   ]
  },
  {
   "cell_type": "code",
   "execution_count": 0,
   "metadata": {},
   "outputs": [],
   "source": [
    "obs = Observer.at_site(\"Subaru\", timezone=\"US/Hawaii\")\n",
    "hawaii_tz = TimeDelta(-10 * u.hr)"
   ]
  },
  {
   "cell_type": "code",
   "execution_count": 0,
   "metadata": {},
   "outputs": [],
   "source": [
    "# Load config\n",
    "field = GALAXIES[FIELD]\n",
    "config = field.get_netflow_config()\n",
    "config.load(CONFIG_FILES, ignore_collisions=True)"
   ]
  },
  {
   "cell_type": "code",
   "execution_count": 0,
   "metadata": {},
   "outputs": [],
   "source": [
    "config.pointings"
   ]
  },
  {
   "cell_type": "code",
   "execution_count": 0,
   "metadata": {},
   "outputs": [],
   "source": [
    "time_from = np.min([ p.obs_time for p in config.pointings ])\n",
    "time_to = np.max([ p.obs_time for p in config.pointings ])\n",
    "\n",
    "time_from, time_to"
   ]
  },
  {
   "cell_type": "code",
   "execution_count": 0,
   "metadata": {},
   "outputs": [],
   "source": [
    "time_from = Time(dateutil.parser.parse(TIME_FROM)) - hawaii_tz\n",
    "time_to = Time(dateutil.parser.parse(TIME_TO)) - hawaii_tz\n",
    "\n",
    "time_from, time_to"
   ]
  },
  {
   "cell_type": "code",
   "execution_count": 0,
   "metadata": {},
   "outputs": [],
   "source": [
    "date_from = np.floor(time_from.jd - 0.5)\n",
    "date_to = np.ceil(time_to.jd + 0.5)\n",
    "\n",
    "dates = Time(np.linspace(date_from, date_to + 1, int(date_to - date_from + 2)), format='jd')\n",
    "dates.to_datetime()"
   ]
  },
  {
   "cell_type": "code",
   "execution_count": 0,
   "metadata": {},
   "outputs": [],
   "source": []
  },
  {
   "cell_type": "code",
   "execution_count": 0,
   "metadata": {},
   "outputs": [],
   "source": [
    "sunrise = obs.sun_rise_time(dates, which='previous') + hawaii_tz\n",
    "sunset = obs.sun_set_time(dates, which='next') + hawaii_tz\n",
    "\n",
    "# HST\n",
    "sunrise.to_datetime(), sunset.to_datetime()"
   ]
  },
  {
   "cell_type": "code",
   "execution_count": 0,
   "metadata": {},
   "outputs": [],
   "source": [
    "def radecpa_to_altazinr(pos, pa, obs_time):\n",
    "    altaz = pos.transform_to(AltAz(obstime=obs_time, location=Subaru_POPT2_PFS.Lsbr))\n",
    "    az = altaz.az.deg\n",
    "    alt = altaz.alt.deg\n",
    "\n",
    "    # Instrument rotator angle\n",
    "    subaru = Subaru_POPT2_PFS.Subaru()\n",
    "    paa = subaru.radec2inr(pos.ra, pos.dec, obs_time)\n",
    "    inr = (paa + pa + 180) % 360. - 180.\n",
    "    # inr = paa + pa\n",
    "\n",
    "    return alt, az, inr"
   ]
  },
  {
   "cell_type": "code",
   "execution_count": 0,
   "metadata": {},
   "outputs": [],
   "source": [
    "obs_time = Time(np.linspace(date_from, date_to, 300), format='jd')\n",
    "obs_time[0], obs_time[-1]"
   ]
  },
  {
   "cell_type": "code",
   "execution_count": 0,
   "metadata": {},
   "outputs": [],
   "source": [
    "obs_time[0], obs_time[-1]"
   ]
  },
  {
   "cell_type": "code",
   "execution_count": 0,
   "metadata": {},
   "outputs": [],
   "source": [
    "f, ax = plt.subplots(1, 1, figsize=(7, 5), dpi=240)\n",
    "ax2 = ax.twinx()\n",
    "\n",
    "xx = (obs_time + hawaii_tz).to_datetime()\n",
    "\n",
    "# Sun up\n",
    "for t1, t2 in zip(sunset[:-2].to_datetime(), sunrise[2:].to_datetime()):\n",
    "    ax.axvspan(t1, t2, color='black', alpha=1)\n",
    "\n",
    "\n",
    "for p in config.pointings:\n",
    "    p = p.get_pointing()\n",
    "    alt, az, inr = radecpa_to_altazinr(p.pos, p.posang, obs_time=(obs_time))\n",
    "    # alt, az, inr = radecpa_to_altazinr(p.pos, 0, obs_time=(obs_time))\n",
    "\n",
    "    # Instrument rotator angle\n",
    "    ax2.plot(xx, inr, c='y')\n",
    "\n",
    "# Target elevation - plot once\n",
    "p = field.get_center_pointing(include_motion=False)\n",
    "alt, az, inr = radecpa_to_altazinr(p.pos, 0, obs_time=(obs_time))\n",
    "ax.plot(xx, alt)\n",
    "\n",
    "ax.set_xlim((time_from + hawaii_tz).to_datetime(), (time_to + hawaii_tz).to_datetime())\n",
    "\n",
    "ax.set_yticks(np.linspace(0, 90, 7))\n",
    "ax.set_ylim(0, 90)\n",
    "\n",
    "ax.tick_params(axis='x', labelrotation=90)\n",
    "\n",
    "ax.set_xlabel('time [HST]')\n",
    "ax.set_ylabel('elevation')\n",
    "ax.set_title(FIELD)\n",
    "\n",
    "ax.grid(True)\n",
    "\n",
    "ax2.set_yticks(np.linspace(-180, 180, 7))\n",
    "ax2.set_ylim(-180, 180)\n",
    "\n",
    "ax2.set_ylabel('rotator angle')"
   ]
  },
  {
   "cell_type": "code",
   "execution_count": 0,
   "metadata": {},
   "outputs": [],
   "source": [
    "from pfs.utils.coordinates.DistortionCoefficients import radec_to_subaru"
   ]
  },
  {
   "cell_type": "code",
   "execution_count": 0,
   "metadata": {},
   "outputs": [],
   "source": [
    "az, el, inr = radec_to_subaru(227.2833, +67.2225, -20, datetime(2025, 3, 25, 0, 0, 0), 2016.0, 0, 0, 1e-7)\n",
    "az, el, inr"
   ]
  },
  {
   "cell_type": "code",
   "execution_count": 0,
   "metadata": {},
   "outputs": [],
   "source": [
    "from pfs.ga.targeting.util.args import *\n",
    "normalize_angle(-20)"
   ]
  },
  {
   "cell_type": "code",
   "execution_count": 0,
   "metadata": {},
   "outputs": [],
   "source": [
    "alt, az, inr = radecpa_to_altazinr(normalize_pos(227.2833, +67.2225), -20, datetime(2025, 3, 25, 0, 0, 0))\n",
    "az, alt, inr"
   ]
  },
  {
   "cell_type": "code",
   "execution_count": 0,
   "metadata": {},
   "outputs": [],
   "source": []
  }
 ],
 "metadata": {
  "kernelspec": {
   "display_name": "dobos-torch",
   "language": "python",
   "name": "python3"
  },
  "language_info": {
   "codemirror_mode": {
    "name": "ipython",
    "version": 3
   },
   "file_extension": ".py",
   "mimetype": "text/x-python",
   "name": "python",
   "nbconvert_exporter": "python",
   "pygments_lexer": "ipython3",
   "version": "3.10.15"
  }
 },
 "nbformat": 4,
 "nbformat_minor": 2
}