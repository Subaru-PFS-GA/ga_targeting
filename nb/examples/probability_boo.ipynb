{
 "cells": [
  {
   "cell_type": "code",
   "execution_count": 0,
   "metadata": {},
   "outputs": [],
   "source": [
    "ISOCHRONES_PATH = '/datascope/subaru/data/cmdfit/isochrones/dartmouth/import/afep0_cfht_sdss_hsc'\n",
    "OBS_PATH = '/datascope/subaru/data/cmdfit/dSph/bootes_tpalle_g24.cat'\n",
    "SIM_PATH = '/datascope/subaru/data/cmdfit/run/boo/sim/nobin_250k_006/sample.h5'"
   ]
  },
  {
   "cell_type": "code",
   "execution_count": 0,
   "metadata": {},
   "outputs": [],
   "source": [
    "import os, sys\n",
    "import numpy as np\n",
    "import pandas as pd\n",
    "import matplotlib as mpl\n",
    "import matplotlib.pyplot as plt\n",
    "from matplotlib.gridspec import GridSpec\n",
    "from matplotlib.colors import LinearSegmentedColormap\n",
    "from matplotlib.patches import Ellipse, Circle\n",
    "from scipy.special import logsumexp\n",
    "from scipy.interpolate import interp1d"
   ]
  },
  {
   "cell_type": "code",
   "execution_count": 0,
   "metadata": {},
   "outputs": [],
   "source": [
    "plt.rc('font', size=6) #controls default text size"
   ]
  },
  {
   "cell_type": "code",
   "execution_count": 0,
   "metadata": {},
   "outputs": [],
   "source": [
    "%load_ext autoreload"
   ]
  },
  {
   "cell_type": "code",
   "execution_count": 0,
   "metadata": {},
   "outputs": [],
   "source": [
    "%autoreload 2"
   ]
  },
  {
   "cell_type": "markdown",
   "metadata": {},
   "source": [
    "# Load observations"
   ]
  },
  {
   "cell_type": "code",
   "execution_count": 0,
   "metadata": {},
   "outputs": [],
   "source": [
    "from pfs.ga.targeting.instrument import *\n",
    "from pfs.ga.targeting.diagram import CMD, CCD, ColorAxis, MagnitudeAxis\n",
    "from pfs.ga.targeting.photometry import Photometry, Magnitude, Color"
   ]
  },
  {
   "cell_type": "code",
   "execution_count": 0,
   "metadata": {},
   "outputs": [],
   "source": [
    "obs = SubaruHSC.text_observation_reader(mags=['r', 'g'], ext=['g', 'r', 'n']).read(OBS_PATH)\n",
    "obs.data.head()"
   ]
  },
  {
   "cell_type": "markdown",
   "metadata": {},
   "source": [
    "# Load simulation"
   ]
  },
  {
   "cell_type": "code",
   "execution_count": 0,
   "metadata": {},
   "outputs": [],
   "source": [
    "from pfs.ga.targeting.instrument import *\n",
    "from pfs.ga.targeting.diagram import CMD, CCD, ColorAxis, MagnitudeAxis\n",
    "from pfs.ga.targeting.photometry import Photometry, Magnitude, Color"
   ]
  },
  {
   "cell_type": "code",
   "execution_count": 0,
   "metadata": {},
   "outputs": [],
   "source": [
    "# Bootes\n",
    "if True:\n",
    "    hsc = SubaruHSC.photometry()\n",
    "    cmd = CMD([\n",
    "            ColorAxis(\n",
    "                Color([hsc.magnitudes['g'], hsc.magnitudes['r']]),\n",
    "                limits=(-1, 4)),\n",
    "            MagnitudeAxis(\n",
    "                hsc.magnitudes['g'],\n",
    "                limits=(15.5, 24.5)\n",
    "            )\n",
    "        ])\n",
    "    ccd = None\n",
    "    # ccd = CCD([\n",
    "    #     cmd.axes[0],\n",
    "    #     ColorAxis(\n",
    "    #         Color([hsc.magnitudes['g'], hsc.magnitudes['nb515']]),\n",
    "    #         limits=(-0.5, 0.5)\n",
    "    #     )\n",
    "    # ])"
   ]
  },
  {
   "cell_type": "code",
   "execution_count": 0,
   "metadata": {},
   "outputs": [],
   "source": [
    "from pfs.ga.targeting.io import Hdf5SimulationReader"
   ]
  },
  {
   "cell_type": "code",
   "execution_count": 0,
   "metadata": {},
   "outputs": [],
   "source": [
    "r = Hdf5SimulationReader()\n",
    "r.append_photometry(SubaruHSC.photometry())\n",
    "sim = r.read(SIM_PATH)"
   ]
  },
  {
   "cell_type": "code",
   "execution_count": 0,
   "metadata": {},
   "outputs": [],
   "source": [
    "for k in sim.data.keys():\n",
    "    print(k, sim.data[k].shape)"
   ]
  },
  {
   "cell_type": "code",
   "execution_count": 0,
   "metadata": {},
   "outputs": [],
   "source": [
    "f, axs = plt.subplots(1, 2, figsize=(6, 4), dpi=120)\n",
    "\n",
    "cmd.plot_simulation(axs[0], sim, s=np.s_[::100], size=0.05)\n",
    "# ccd.plot_simulation(axs[1], sim, s=np.s_[::100], size=0.05)\n",
    "\n",
    "f.tight_layout()"
   ]
  },
  {
   "cell_type": "markdown",
   "metadata": {},
   "source": [
    "# Create probability map"
   ]
  },
  {
   "cell_type": "code",
   "execution_count": 0,
   "metadata": {},
   "outputs": [],
   "source": [
    "from pfs.ga.targeting import ProbabilityMap\n",
    "from pfs.ga.targeting.selection import ProbabilityCut, ProbabilitySampling"
   ]
  },
  {
   "cell_type": "code",
   "execution_count": 0,
   "metadata": {},
   "outputs": [],
   "source": [
    "# Fornax dwarf\n",
    "if True:\n",
    "    # Original weights\n",
    "    print('data.w', sim.data['w'])\n",
    "\n",
    "    w = np.bincount(sim.data['g']) / sim.data['g'].shape\n",
    "    print('w', w, np.sum(w[:-2]), np.sum(w[-2:]))\n",
    "\n",
    "    w1 = w.copy()\n",
    "    w1[:-6] * 0.7       # MW foreground\n",
    "    w1[-6:-4] *= 2.0    # broad RGB population\n",
    "    w1[-4:-2] *= 0.3    # old RGB population\n",
    "    w1[-2:] *= 1.0      # member MS population\n",
    "    w1 /= w1.sum()\n",
    "\n",
    "    g1 = np.random.choice(np.arange(w1.size, dtype=int), sim.data['g'].size, p=w1)\n",
    "    print('g1', g1.shape)\n",
    "\n",
    "    # Verify new categories\n",
    "    w2 = np.bincount(g1) / g1.shape\n",
    "    print('w2', w2, np.sum(w2[:-2]), np.sum(w2[-2:]))"
   ]
  },
  {
   "cell_type": "code",
   "execution_count": 0,
   "metadata": {},
   "outputs": [],
   "source": [
    "# Bootes I\n",
    "if True:\n",
    "    # Weights found by eye\n",
    "    w1 = np.array([0, 0, 0, 0.017, 0.014, 0.005])\n",
    "    w1 /= w1.sum()\n",
    "\n",
    "    print(w1)"
   ]
  },
  {
   "cell_type": "code",
   "execution_count": 0,
   "metadata": {},
   "outputs": [],
   "source": [
    "# The simulation has 10 + 2 * N sub-populations (binaries treated separately for each)\n",
    "# 10 is for 5 MW (3 for the thin disk + 1 thick disk + 1 halo)\n",
    "# Merge foreground populations and members + member binaries when creating the map\n",
    "\n",
    "# Ursa Minor\n",
    "if False:\n",
    "    extents = [[0.1, 2.0], [17.0, 23.5]]\n",
    "\n",
    "# Fornax\n",
    "if False:\n",
    "    extents = [[-0.75, 2.0], [17.0, 23.5]]\n",
    "\n",
    "# Bootes\n",
    "if True:\n",
    "    extents = [[0, 1.5], [17.5, 23.0]]\n",
    "\n",
    "pmap = ProbabilityMap(cmd.axes)\n",
    "pmap.from_simulation(sim, bins=[100, 100], extents=extents,\n",
    "    # merge_list=[np.s_[:10], np.s_[10:]], population_weights=w1, observed=True, mask=None)\n",
    "    merge_list=[np.s_[:5], np.s_[5:]], population_weights=w1, observed=True, mask=None)\n",
    "pmap.maximum_filter()"
   ]
  },
  {
   "cell_type": "code",
   "execution_count": 0,
   "metadata": {},
   "outputs": [],
   "source": [
    "pmap.extents"
   ]
  },
  {
   "cell_type": "code",
   "execution_count": 0,
   "metadata": {},
   "outputs": [],
   "source": [
    "f, axs = plt.subplots(1, 2, figsize=(6, 4), dpi=120)\n",
    "\n",
    "l0 = cmd.plot_probability_map(axs[0], pmap, 0)\n",
    "l1 = cmd.plot_probability_map(axs[1], pmap, 1)\n",
    "\n",
    "f.tight_layout()"
   ]
  },
  {
   "cell_type": "markdown",
   "metadata": {},
   "source": [
    "# Membership probability based on the map"
   ]
  },
  {
   "cell_type": "code",
   "execution_count": 0,
   "metadata": {},
   "outputs": [],
   "source": [
    "lp_member, mask_member = pmap.lookup_lp_member(obs)\n",
    "\n",
    "lp_member.shape, np.isnan(lp_member).sum(), np.isnan(lp_member[mask_member]).sum(), mask_member.shape, mask_member.sum()"
   ]
  },
  {
   "cell_type": "code",
   "execution_count": 0,
   "metadata": {},
   "outputs": [],
   "source": [
    "f, axs = plt.subplots(1, 2, figsize=(6, 4), dpi=120)\n",
    "\n",
    "cmd.plot_observation(axs[0], obs, c=lp_member[...,0])\n",
    "# ccd.plot_observation(axs[1], obs, c=lp_member[...,0])\n",
    "\n",
    "f.tight_layout()"
   ]
  },
  {
   "cell_type": "markdown",
   "metadata": {},
   "source": [
    "# Selection based on probability cut"
   ]
  },
  {
   "cell_type": "code",
   "execution_count": 0,
   "metadata": {},
   "outputs": [],
   "source": [
    "pcut = ProbabilityCut(pmap, 1, -3)  # cut at e**-3"
   ]
  },
  {
   "cell_type": "code",
   "execution_count": 0,
   "metadata": {},
   "outputs": [],
   "source": [
    "mask = pcut.apply(obs, observed=True)"
   ]
  },
  {
   "cell_type": "code",
   "execution_count": 0,
   "metadata": {},
   "outputs": [],
   "source": [
    "f, axs = plt.subplots(1, 2, figsize=(6, 4), dpi=120)\n",
    "\n",
    "cmd.plot_observation(axs[0], obs, mask=mask)\n",
    "# ccd.plot_observation(axs[1], obs, mask=mask)\n",
    "\n",
    "f.tight_layout()"
   ]
  },
  {
   "cell_type": "code",
   "execution_count": 0,
   "metadata": {},
   "outputs": [],
   "source": []
  }
 ],
 "metadata": {
  "kernelspec": {
   "display_name": "astro-tf211",
   "language": "python",
   "name": "python3"
  },
  "language_info": {
   "codemirror_mode": {
    "name": "ipython",
    "version": 3
   },
   "file_extension": ".py",
   "mimetype": "text/x-python",
   "name": "python",
   "nbconvert_exporter": "python",
   "pygments_lexer": "ipython3",
   "version": "3.10.9"
  }
 },
 "nbformat": 4,
 "nbformat_minor": 2
}