{
 "cells": [
  {
   "cell_type": "code",
   "execution_count": 0,
   "metadata": {},
   "outputs": [],
   "source": [
    "DEBUG = False\n",
    "SECTOR = 'all'\n",
    "FIELD = 'm31'\n",
    "OBS_FILE = f'$PFS_TARGETING_DATA/data/targeting/m31/M31Catalog_forPFS.csv'\n",
    "PROJECT_DIR = '/home/dobos/project'\n",
    "CONFIG_FILES = [\n",
    "    f'{PROJECT_DIR}/ga_targeting/configs/netflow/SSP/m31/_common.py',\n",
    "    f'{PROJECT_DIR}/ga_targeting/configs/netflow/SSP/m31/{FIELD}.py'\n",
    "]\n",
    "ASSIGNMENTS_FILE = ''\n",
    "\n",
    "# Observation time frame in HST\n",
    "TIME_FROM = '2025-09-13 12:00:00'\n",
    "TIME_TO = '2025-09-25 12:00:00'"
   ]
  },
  {
   "cell_type": "code",
   "execution_count": 0,
   "metadata": {},
   "outputs": [],
   "source": [
    "import os, sys\n",
    "from datetime import datetime\n",
    "import dateutil.parser\n",
    "import numpy as np\n",
    "import pandas as pd\n",
    "import matplotlib as mpl\n",
    "import matplotlib.pyplot as plt\n",
    "from scipy.interpolate import interp1d\n",
    "from matplotlib.gridspec import GridSpec\n",
    "from matplotlib.colors import LinearSegmentedColormap\n",
    "from matplotlib.patches import Ellipse, Circle\n",
    "from matplotlib.gridspec import GridSpec"
   ]
  },
  {
   "cell_type": "code",
   "execution_count": 0,
   "metadata": {},
   "outputs": [],
   "source": [
    "plt.rc('font', size=6)"
   ]
  },
  {
   "cell_type": "code",
   "execution_count": 0,
   "metadata": {},
   "outputs": [],
   "source": [
    "%load_ext autoreload\n",
    "%autoreload 2"
   ]
  },
  {
   "cell_type": "code",
   "execution_count": 0,
   "metadata": {},
   "outputs": [],
   "source": [
    "if DEBUG and 'debug' not in globals():\n",
    "    import debugpy\n",
    "    debugpy.listen(('0.0.0.0', 5698))\n",
    "    debug = True"
   ]
  },
  {
   "cell_type": "markdown",
   "metadata": {},
   "source": [
    "# Plot definitions"
   ]
  },
  {
   "cell_type": "code",
   "execution_count": 0,
   "metadata": {},
   "outputs": [],
   "source": [
    "from astropy.time import Time, TimeDelta\n",
    "from astropy.coordinates import SkyCoord, EarthLocation, AltAz, get_body\n",
    "from astroplan import Observer\n",
    "from astroplan.moon import moon_phase_angle, moon_illumination\n",
    "import astropy.units as u\n",
    "\n",
    "from pfs.utils.coordinates import Subaru_POPT2_PFS\n",
    "\n",
    "from pfs.ga.targeting.targets.m31 import M31_SECTORS #, M31_FIELDS\n",
    "from pfs.ga.targeting.instrument import *\n",
    "from pfs.ga.targeting.diagram import CMD, CCD, FOV, FP, ColorAxis, MagnitudeAxis\n",
    "from pfs.ga.targeting.photometry import Photometry, Magnitude, Color\n",
    "from pfs.ga.targeting.projection import Pointing, WcsProjection\n",
    "from pfs.ga.targeting.config.netflow import NetflowConfig"
   ]
  },
  {
   "cell_type": "code",
   "execution_count": 0,
   "metadata": {},
   "outputs": [],
   "source": [
    "field = M31_SECTORS[SECTOR]\n",
    "hsc = field.get_photometry()\n",
    "cmd = field.get_cmd()\n",
    "ccd = field.get_ccd()"
   ]
  },
  {
   "cell_type": "code",
   "execution_count": 0,
   "metadata": {},
   "outputs": [],
   "source": [
    "pointing = field.get_center()\n",
    "pointing"
   ]
  },
  {
   "cell_type": "code",
   "execution_count": 0,
   "metadata": {},
   "outputs": [],
   "source": [
    "wcs = WcsProjection(pointing, proj='TAN')\n",
    "fov = FOV(projection=wcs)"
   ]
  },
  {
   "cell_type": "markdown",
   "metadata": {},
   "source": [
    "# Load the config files"
   ]
  },
  {
   "cell_type": "code",
   "execution_count": 0,
   "metadata": {},
   "outputs": [],
   "source": [
    "config = field.get_netflow_config()\n",
    "config.load(CONFIG_FILES, ignore_collisions=True)"
   ]
  },
  {
   "cell_type": "code",
   "execution_count": 0,
   "metadata": {},
   "outputs": [],
   "source": [
    "config.pointings"
   ]
  },
  {
   "cell_type": "code",
   "execution_count": 0,
   "metadata": {},
   "outputs": [],
   "source": [
    "config.instrument_options"
   ]
  },
  {
   "cell_type": "markdown",
   "metadata": {},
   "source": [
    "# Load observations"
   ]
  },
  {
   "cell_type": "code",
   "execution_count": 0,
   "metadata": {},
   "outputs": [],
   "source": [
    "from pfs.ga.targeting.io import ObservationSerializer"
   ]
  },
  {
   "cell_type": "code",
   "execution_count": 0,
   "metadata": {},
   "outputs": [],
   "source": [
    "obs = field.get_text_observation_reader().read(os.path.expandvars(OBS_FILE))\n",
    "obs.data.shape"
   ]
  },
  {
   "cell_type": "markdown",
   "metadata": {},
   "source": [
    "# Calculate the whitening matrix\n",
    "\n",
    "This basically determines the second moments of the coordinate distribution\n",
    "and yield the axes of the ellipsoid and the position angle"
   ]
  },
  {
   "cell_type": "code",
   "execution_count": 0,
   "metadata": {},
   "outputs": [],
   "source": [
    "from pfs.ga.targeting.projection import Whitening\n",
    "from pfs.ga.targeting.radialprofile import King"
   ]
  },
  {
   "cell_type": "code",
   "execution_count": 0,
   "metadata": {},
   "outputs": [],
   "source": [
    "# Iteratively determine a whitening matrix that converts the\n",
    "# spherical coordinates into deprojected coordinates\n",
    "\n",
    "w = Whitening(projection=wcs)\n",
    "\n",
    "if FIELD == 'm31':\n",
    "    w_mask = w.create(obs, iterations=30, s_cut=2.2)\n",
    "else:\n",
    "    raise NotImplementedError()\n",
    "\n",
    "w.M, w.reverse(w.M), field.pos"
   ]
  },
  {
   "cell_type": "code",
   "execution_count": 0,
   "metadata": {},
   "outputs": [],
   "source": [
    "[dsph_maj, dsph_min] = w.S\n",
    "dsph_pa = np.degrees(np.angle(w.Vh[0, 0] + 1j * w.Vh[1, 0]))\n",
    "dsph_maj, dsph_min, dsph_pa"
   ]
  },
  {
   "cell_type": "code",
   "execution_count": 0,
   "metadata": {},
   "outputs": [],
   "source": [
    "f, ax = plt.subplots(1, 1, figsize=(8, 8), dpi=240)\n",
    "\n",
    "(wx, wy) = w.apply(obs.get_coords())\n",
    "ax.plot(wx, wy, '.', ms=0.1)\n",
    "ax.plot(wx[w_mask], wy[w_mask], '.', ms=0.1)\n",
    "ax.set_aspect('equal')\n",
    "ax.grid()"
   ]
  },
  {
   "cell_type": "code",
   "execution_count": 0,
   "metadata": {},
   "outputs": [],
   "source": [
    "w.M, w.W, w.reverse(w.M)"
   ]
  },
  {
   "cell_type": "code",
   "execution_count": 0,
   "metadata": {},
   "outputs": [],
   "source": [
    "w.M, w.reverse(w.M), field.pos"
   ]
  },
  {
   "cell_type": "markdown",
   "metadata": {},
   "source": [
    "# Define pointings"
   ]
  },
  {
   "cell_type": "code",
   "execution_count": 0,
   "metadata": {},
   "outputs": [],
   "source": [
    "from astropy.coordinates import SkyCoord\n",
    "from astropy.time import Time\n",
    "from astropy.coordinates import CartesianRepresentation\n",
    "from astropy.coordinates.matrix_utilities import rotation_matrix\n",
    "import astropy.units as u\n",
    "\n",
    "from pfs.ga.targeting.projection import Pointing"
   ]
  },
  {
   "cell_type": "code",
   "execution_count": 0,
   "metadata": {},
   "outputs": [],
   "source": [
    "# Cartesian coordinate system\n",
    "SkyCoord(0, 90, unit='deg').cartesian       # (0, 0, 1)     -> z axis points to north\n",
    "SkyCoord(0, 0, unit='deg').cartesian         # (1, 0, 0)     -> x axis points to us\n",
    "SkyCoord(90, 0, unit='deg').cartesian        # (0, 1, 0)     -> y axis points to east"
   ]
  },
  {
   "cell_type": "code",
   "execution_count": 0,
   "metadata": {},
   "outputs": [],
   "source": [
    "def get_full_rotation(sep, pa, ra, dec):\n",
    "    r1 = rotation_matrix(sep * u.deg, 'z')  # separation of the pointing center from the center of the object\n",
    "    r2 = rotation_matrix(pa * u.deg, 'x')   # position angle of the ellipse\n",
    "    r3 = rotation_matrix(dec * u.deg, 'y')    # declination\n",
    "    r4 = rotation_matrix(-ra * u.deg, 'z')    # right ascension\n",
    "\n",
    "    return r4 @ r3 @ r2 @ r1\n",
    "\n",
    "def calculate_center(sep, pa, ra, dec):\n",
    "    r = get_full_rotation(sep, pa, ra, dec)\n",
    "    c = SkyCoord(CartesianRepresentation(1, 0, 0).transform(r))\n",
    "    return c.ra.value, c.dec.value\n",
    "\n",
    "# print(r1, r2, r3, r4, r4 @ r3 @ r2 @ r1)\n",
    "\n",
    "# print(SkyCoord(CartesianRepresentation(1, 0, 0)))\n",
    "# print(SkyCoord(CartesianRepresentation(1, 0, 0).transform(r1)))\n",
    "# print(SkyCoord(CartesianRepresentation(1, 0, 0).transform(r2 @ r1)))\n",
    "# print(SkyCoord(CartesianRepresentation(1, 0, 0).transform(r3 @ r2 @ r1)))\n",
    "# print(SkyCoord(CartesianRepresentation(1, 0, 0).transform(r4 @ r3 @ r2 @ r1)))"
   ]
  },
  {
   "cell_type": "code",
   "execution_count": 0,
   "metadata": {},
   "outputs": [],
   "source": [
    "field.pos.ra.value, field.pos.dec.value, calculate_center(1.5, 40, field.pos.ra.value, field.pos.dec.value)"
   ]
  },
  {
   "cell_type": "code",
   "execution_count": 0,
   "metadata": {},
   "outputs": [],
   "source": [
    "center = field.get_center()\n",
    "obs_time = Time('2025-09-13T10:00:00')        # midnight in Hawaii\n",
    "\n",
    "# Use the field defaults\n",
    "pointings = field.get_pointings(SubaruPFI)\n",
    "\n",
    "# Use the config file\n",
    "# pointings = [ p.get_pointing(obs_time=obs_time) for p in config.pointings ]\n",
    "\n",
    "center, pointings"
   ]
  },
  {
   "cell_type": "code",
   "execution_count": 0,
   "metadata": {},
   "outputs": [],
   "source": [
    "field"
   ]
  },
  {
   "cell_type": "code",
   "execution_count": 0,
   "metadata": {},
   "outputs": [],
   "source": [
    "# Generate pointings in a pattern\n",
    "# Use constants for the center of M31 in decimal degrees\n",
    "\n",
    "SEP = 1.15\n",
    "\n",
    "dec = 41.2687 - 0.1*SEP\n",
    "ra = 10.6847 + 0.35*SEP/np.cos(np.deg2rad(dec))\n",
    "# pa = 0 # 180 + dsph_pa\n",
    "pa = -20\n",
    "pointings = [\n",
    "    #Pointing(ra, dec, posang=30-pa, obs_time=obs_time, stage=0, priority=0),\n",
    "\n",
    "    #Pointing(*calculate_center(SEP, pa+0, ra, dec), posang=30-pa, obs_time=obs_time, stage=0, priority=0),\n",
    "    #Pointing(*calculate_center(SEP, pa+60, ra, dec), posang=30-pa, obs_time=obs_time, stage=0, priority=0),\n",
    "    #Pointing(*calculate_center(SEP, pa+120, ra, dec), posang=30-pa, obs_time=obs_time, stage=0, priority=0),\n",
    "    Pointing(*calculate_center(SEP, pa+180, ra, dec), posang=30-pa, obs_time=obs_time, stage=0, priority=0),\n",
    "    Pointing(*calculate_center(SEP, pa+240, ra-0.25*SEP/np.cos(np.deg2rad(dec))*np.sin(np.deg2rad(pa)), dec-0.0*SEP*np.cos(np.deg2rad(pa))), posang=30-pa, obs_time=obs_time, stage=0, priority=0),\n",
    "    Pointing(*calculate_center(SEP, pa+300, ra-0.3*SEP/np.cos(np.deg2rad(dec))*np.sin(np.deg2rad(pa)), dec-0.3*SEP*np.cos(np.deg2rad(pa))), posang=30-pa, obs_time=obs_time, stage=0, priority=0),\n",
    "\n",
    "    #Pointing(*calculate_center(2 * SEP, pa+0, ra, dec), posang=30-pa, obs_time=obs_time, stage=0, priority=0),\n",
    "    #Pointing(*calculate_center(2 * SEP, pa+60, ra, dec), posang=30-pa, obs_time=obs_time, stage=0, priority=0),\n",
    "    #Pointing(*calculate_center(2 * SEP, pa+120, ra, dec), posang=30-pa, obs_time=obs_time, stage=0, priority=0),\n",
    "    Pointing(*calculate_center(2 * SEP, pa+180, ra, dec), posang=30-pa, obs_time=obs_time, stage=0, priority=0),\n",
    "    Pointing(*calculate_center(2 * SEP, pa+240, ra, dec), posang=30-pa, obs_time=obs_time, stage=0, priority=0),\n",
    "    Pointing(*calculate_center(2 * SEP, pa+300, ra, dec), posang=30-pa, obs_time=obs_time, stage=0, priority=0),\n",
    "\n",
    "    #Pointing(*calculate_center(np.sqrt(3) * SEP, pa+30, ra, dec), posang=30-pa, obs_time=obs_time, stage=0, priority=0),\n",
    "    #Pointing(*calculate_center(np.sqrt(3) * SEP, pa+90, ra, dec), posang=30-pa, obs_time=obs_time, stage=0, priority=0),\n",
    "    Pointing(*calculate_center(np.sqrt(3) * SEP, pa+150, ra, dec), posang=30-pa, obs_time=obs_time, stage=0, priority=0),\n",
    "    Pointing(*calculate_center(np.sqrt(3) * SEP, pa+210, ra, dec), posang=30-pa, obs_time=obs_time, stage=0, priority=0),\n",
    "    Pointing(*calculate_center(np.sqrt(3) * SEP, pa+270, ra, dec), posang=30-pa, obs_time=obs_time, stage=0, priority=0),\n",
    "    Pointing(*calculate_center(np.sqrt(3) * SEP, pa+330, ra-0.35*SEP/np.cos(np.deg2rad(dec))*np.sin(np.deg2rad(pa)), dec-0.35*SEP*np.cos(np.deg2rad(pa))), posang=30-pa, obs_time=obs_time, stage=0, priority=0),\n",
    "\n",
    "    #Pointing(*calculate_center(3 * SEP, pa+0, ra, dec), posang=30-pa, obs_time=obs_time, stage=0, priority=0),\n",
    "    #Pointing(*calculate_center(3 * SEP, pa+60, ra, dec), posang=30-pa, obs_time=obs_time, stage=0, priority=0),\n",
    "    #Pointing(*calculate_center(3 * SEP, pa+120, ra, dec), posang=30-pa, obs_time=obs_time, stage=0, priority=0),\n",
    "    #Pointing(*calculate_center(3 * SEP, pa+180, ra, dec), posang=30-pa, obs_time=obs_time, stage=0, priority=0),\n",
    "    Pointing(*calculate_center(3 * SEP, pa+240, ra, dec), posang=30-pa, obs_time=obs_time, stage=0, priority=0),\n",
    "    #Pointing(*calculate_center(3 * SEP, pa+300, ra, dec), posang=30-pa, obs_time=obs_time, stage=0, priority=0),\n",
    "\n",
    "    #Pointing(*calculate_center(np.sqrt(7) * SEP, pa+20, ra, dec), posang=30-pa, obs_time=obs_time, stage=0, priority=0),\n",
    "    #Pointing(*calculate_center(np.sqrt(7) * SEP, pa+40, ra, dec), posang=30-pa, obs_time=obs_time, stage=0, priority=0),\n",
    "    #Pointing(*calculate_center(np.sqrt(7) * SEP, pa+80, ra, dec), posang=30-pa, obs_time=obs_time, stage=0, priority=0),\n",
    "    #Pointing(*calculate_center(np.sqrt(7) * SEP, pa+100, ra, dec), posang=30-pa, obs_time=obs_time, stage=0, priority=0),\n",
    "    #Pointing(*calculate_center(np.sqrt(7) * SEP, pa+140, ra, dec), posang=30-pa, obs_time=obs_time, stage=0, priority=0),\n",
    "    #Pointing(*calculate_center(np.sqrt(7) * SEP, pa+160, ra, dec), posang=30-pa, obs_time=obs_time, stage=0, priority=0),\n",
    "    Pointing(*calculate_center(np.sqrt(7) * SEP, pa+200, ra, dec), posang=30-pa, obs_time=obs_time, stage=0, priority=0),\n",
    "    Pointing(*calculate_center(np.sqrt(7) * SEP, pa+220, ra, dec), posang=30-pa, obs_time=obs_time, stage=0, priority=0),\n",
    "    Pointing(*calculate_center(np.sqrt(7) * SEP, pa+260, ra, dec), posang=30-pa, obs_time=obs_time, stage=0, priority=0),\n",
    "    Pointing(*calculate_center(np.sqrt(7) * SEP, pa+280, ra, dec), posang=30-pa, obs_time=obs_time, stage=0, priority=0),\n",
    "    #Pointing(*calculate_center(np.sqrt(7) * SEP, pa+320, ra, dec), posang=30-pa, obs_time=obs_time, stage=0, priority=0),\n",
    "    #Pointing(*calculate_center(np.sqrt(7) * SEP, pa+340, ra, dec), posang=30-pa, obs_time=obs_time, stage=0, priority=0),\n",
    "]"
   ]
  },
  {
   "cell_type": "markdown",
   "metadata": {},
   "source": [
    "# Plot the pointings"
   ]
  },
  {
   "cell_type": "code",
   "execution_count": 0,
   "metadata": {},
   "outputs": [],
   "source": [
    "pointings"
   ]
  },
  {
   "cell_type": "code",
   "execution_count": 0,
   "metadata": {},
   "outputs": [],
   "source": [
    "cmap = plt.get_cmap('tab20')\n",
    "\n",
    "f, ax = plt.subplots(1, 1, figsize=(8, 8), dpi=240, subplot_kw=dict(projection=wcs.wcs))\n",
    "\n",
    "fov.plot_observation(ax, obs, c='lightgrey', size=0.5, s=np.s_[::50])\n",
    "\n",
    "# Plot the tidal radius from the King profile fit\n",
    "#ell = king.get_ellipse(R_t)\n",
    "#fov.plot(ax, ell, native_frame='world', ls='--', lw=1, c='k')\n",
    "#ell = king.get_ellipse(R_c)\n",
    "#fov.plot(ax, ell, native_frame='world', ls='-', lw=1, c='k')\n",
    "\n",
    "# Plot the poiting center\n",
    "# fov.plot(ax, [field.pos.ra.value], [field.pos.dec.value], fmt='+r', ms=10, native_frame='world')\n",
    "\n",
    "for i, pp in enumerate(pointings):\n",
    "    wfc = SubaruWFC(pp)\n",
    "    pfi = SubaruPFI(wfc, instrument_options=config.instrument_options)\n",
    "\n",
    "    pfi.plot_focal_plane(ax, fov, corners=True, c=cmap(i + 1), ls='-', label=f'Field {i}')\n",
    "    pfi.plot_focal_plane(ax, fov, fill=True, alpha=0.2, c=cmap(i + 1))\n",
    "\n",
    "ax.set_xlim(10, -10)\n",
    "ax.set_ylim(-10, 10)\n",
    "ax.grid()\n",
    "ax.legend()"
   ]
  },
  {
   "cell_type": "markdown",
   "metadata": {},
   "source": [
    "# Calculate and plot the elevation and rotator angle"
   ]
  },
  {
   "cell_type": "code",
   "execution_count": 0,
   "metadata": {},
   "outputs": [],
   "source": [
    "obs = Observer.at_site(\"Subaru\", timezone=\"US/Hawaii\")\n",
    "hawaii_tz = TimeDelta(-10 * u.hr)"
   ]
  },
  {
   "cell_type": "code",
   "execution_count": 0,
   "metadata": {},
   "outputs": [],
   "source": [
    "config.pointings"
   ]
  },
  {
   "cell_type": "code",
   "execution_count": 0,
   "metadata": {},
   "outputs": [],
   "source": [
    "time_from = Time(dateutil.parser.parse(TIME_FROM)) - hawaii_tz\n",
    "time_to = Time(dateutil.parser.parse(TIME_TO)) - hawaii_tz\n",
    "\n",
    "time_from, time_to"
   ]
  },
  {
   "cell_type": "code",
   "execution_count": 0,
   "metadata": {},
   "outputs": [],
   "source": [
    "date_from = np.floor(time_from.jd - 0.5)\n",
    "date_to = np.ceil(time_to.jd + 0.5)\n",
    "\n",
    "dates = Time(np.linspace(date_from, date_to + 1, int(date_to - date_from + 2)), format='jd')\n",
    "dates.to_datetime()"
   ]
  },
  {
   "cell_type": "code",
   "execution_count": 0,
   "metadata": {},
   "outputs": [],
   "source": [
    "sunrise = obs.sun_rise_time(dates, which='previous') + hawaii_tz\n",
    "sunset = obs.sun_set_time(dates, which='next') + hawaii_tz\n",
    "\n",
    "# HST\n",
    "sunrise.to_datetime(), sunset.to_datetime()"
   ]
  },
  {
   "cell_type": "code",
   "execution_count": 0,
   "metadata": {},
   "outputs": [],
   "source": [
    "def radecpa_to_altazinr(pos, pa, obs_time):\n",
    "    altaz = pos.transform_to(AltAz(obstime=obs_time, location=Subaru_POPT2_PFS.Lsbr))\n",
    "    az = altaz.az.deg\n",
    "    alt = altaz.alt.deg\n",
    "\n",
    "    # Instrument rotator angle\n",
    "    subaru = Subaru_POPT2_PFS.Subaru()\n",
    "    paa = subaru.radec2inr(pos.ra, pos.dec, obs_time)\n",
    "    inr = (paa + pa + 180) % 360. - 180.\n",
    "    # inr = paa + pa\n",
    "\n",
    "    return alt, az, inr"
   ]
  },
  {
   "cell_type": "code",
   "execution_count": 0,
   "metadata": {},
   "outputs": [],
   "source": [
    "obs_time = Time(np.linspace(date_from, date_to, 300), format='jd')\n",
    "obs_time[0], obs_time[-1]"
   ]
  },
  {
   "cell_type": "code",
   "execution_count": 0,
   "metadata": {},
   "outputs": [],
   "source": [
    "obs_time[0], obs_time[-1]"
   ]
  },
  {
   "cell_type": "code",
   "execution_count": 0,
   "metadata": {},
   "outputs": [],
   "source": [
    "f, ax = plt.subplots(1, 1, figsize=(7, 5), dpi=240)\n",
    "ax2 = ax.twinx()\n",
    "\n",
    "# matplotlib like python datetime\n",
    "xx = (obs_time + hawaii_tz).to_datetime()\n",
    "\n",
    "# Shade areas in black when the Sun is below the horizon\n",
    "for t1, t2 in zip(sunset[:-2].to_datetime(), sunrise[2:].to_datetime()):\n",
    "    ax.axvspan(t1, t2, color='black', alpha=1)\n",
    "\n",
    "# Plot the rotator angle for each pointing\n",
    "for p in config.pointings:\n",
    "    p = p.get_pointing()\n",
    "    alt, az, inr = radecpa_to_altazinr(p.pos, p.posang, obs_time=(obs_time))\n",
    "    # alt, az, inr = radecpa_to_altazinr(p.pos, 0, obs_time=(obs_time))\n",
    "\n",
    "    inr_mask = np.abs(inr) > 178\n",
    "    inr[inr_mask] = np.nan\n",
    "\n",
    "    # Instrument rotator angle\n",
    "    ax2.plot(xx, inr, c='orange')\n",
    "\n",
    "    # Plot the azimuth angle\n",
    "    # target_ha = obs.target_hour_angle(obs_time, target=p.pos)\n",
    "    ax2.plot(xx, ((az + 180.) % 360) - 180., c='green')\n",
    "\n",
    "# Plot the elevation of the Moon\n",
    "moon = get_body('Moon', obs_time, Subaru_POPT2_PFS.Lsbr)\n",
    "moon_phase = moon_illumination(obs_time)\n",
    "altaz = moon.transform_to(AltAz(obstime=obs_time, location=Subaru_POPT2_PFS.Lsbr))\n",
    "ax.plot(xx, altaz.alt.degree, '--y')\n",
    "\n",
    "# Plot target elevation\n",
    "p = field.get_center_pointing(include_motion=False)\n",
    "alt, az, inr = radecpa_to_altazinr(p.pos, 0, obs_time=(obs_time))\n",
    "ax.plot(xx, alt, '-c')\n",
    "\n",
    "ax.set_xlim((time_from + hawaii_tz).to_datetime(), (time_to + hawaii_tz).to_datetime())\n",
    "\n",
    "ax.set_yticks(np.linspace(0, 90, 7))\n",
    "ax.set_ylim(0, 90)\n",
    "\n",
    "ax.tick_params(axis='x', labelrotation=90)\n",
    "\n",
    "ax.set_xlabel('time [HST]')\n",
    "ax.set_ylabel('elevation')\n",
    "ax.set_title(f'Field: {FIELD}, moon phase: {moon_phase.mean():0.2f}')\n",
    "\n",
    "ax.grid(True)\n",
    "\n",
    "ax2.set_yticks(np.linspace(-180, 180, 7))\n",
    "ax2.set_ylim(-180, 180)\n",
    "\n",
    "ax2.set_ylabel('rotator angle')"
   ]
  },
  {
   "cell_type": "code",
   "execution_count": 0,
   "metadata": {},
   "outputs": [],
   "source": [
    "# Calculate the precise time of meridian crossing for each pointing\n",
    "\n",
    "# Sample time at minute resolution\n",
    "# Time constants are HST, t_fr and t_to are GMT\n",
    "t_fr = Time('2025-04-01T18:00:00') - hawaii_tz\n",
    "t_to = Time('2025-04-02T06:00:00') - hawaii_tz\n",
    "td = TimeDelta(1 * u.min)\n",
    "t_fr.jd, t_to.jd, td.jd"
   ]
  },
  {
   "cell_type": "code",
   "execution_count": 0,
   "metadata": {},
   "outputs": [],
   "source": [
    "t = Time(np.arange(t_fr.jd, t_to.jd, td.jd), format='jd')\n",
    "tt = (t + hawaii_tz).to_datetime()\n",
    "t.shape"
   ]
  },
  {
   "cell_type": "markdown",
   "metadata": {},
   "source": [
    "# Meridian crossing for each pointing in HST"
   ]
  },
  {
   "cell_type": "code",
   "execution_count": 0,
   "metadata": {},
   "outputs": [],
   "source": [
    "for i, p in enumerate(config.pointings):\n",
    "    p = p.get_pointing()\n",
    "    alt, az, inr = radecpa_to_altazinr(p.pos, p.posang, obs_time=(t))\n",
    "\n",
    "    # Wrap around az so it crossed 0 at the meridian\n",
    "    az = ((az + 180.) % 360) - 180.\n",
    "\n",
    "    # Find the zero crossing\n",
    "    m = (-10 <= az) & (az <= 10)\n",
    "    ip = interp1d(az[m], t[m].jd)\n",
    "    t_m = ip(0)\n",
    "\n",
    "    # Print the meridian-crossing in HST for each pointing\n",
    "    print(i, p.ra, p.dec, p.posang, (Time(t_m, format='jd') + hawaii_tz).iso)"
   ]
  },
  {
   "cell_type": "code",
   "execution_count": 0,
   "metadata": {},
   "outputs": [],
   "source": [
    "plt.plot(tt, az)\n",
    "plt.plot(tt[m], az[m])\n",
    "plt.axhline(0, c='r')\n",
    "plt.grid()"
   ]
  },
  {
   "cell_type": "code",
   "execution_count": 0,
   "metadata": {},
   "outputs": [],
   "source": []
  }
 ],
 "metadata": {
  "kernelspec": {
   "display_name": "enk-torch",
   "language": "python",
   "name": "python3"
  },
  "language_info": {
   "codemirror_mode": {
    "name": "ipython",
    "version": 3
   },
   "file_extension": ".py",
   "mimetype": "text/x-python",
   "name": "python",
   "nbconvert_exporter": "python",
   "pygments_lexer": "ipython3",
   "version": "3.13.5"
  }
 },
 "nbformat": 4,
 "nbformat_minor": 2
}