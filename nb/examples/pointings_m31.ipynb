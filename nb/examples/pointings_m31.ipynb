{
 "cells": [
  {
   "cell_type": "code",
   "execution_count": 0,
   "metadata": {},
   "outputs": [],
   "source": [
    "DEBUG = False\n",
    "SECTOR = 'all'\n",
    "FIELD = 'm31'\n",
    "OBS_FILE = f'$PFS_TARGETING_DATA/data/targeting/m31/M31Catalog_forPFS.csv'\n",
    "PROJECT_DIR = '/home/dobos/project'\n",
    "CONFIG_FILES = [\n",
    "    f'{PROJECT_DIR}/ga_targeting/configs/netflow/SSP/m31/_common.py',\n",
    "    f'{PROJECT_DIR}/ga_targeting/configs/netflow/SSP/m31/{FIELD}.py'\n",
    "]\n",
    "ASSIGNMENTS_FILE = ''\n",
    "\n",
    "# Observation time frame in HST\n",
    "TIME_FROM = '2025-09-13 12:00:00'\n",
    "TIME_TO = '2025-09-15 12:00:00'"
   ]
  },
  {
   "cell_type": "code",
   "execution_count": 0,
   "metadata": {},
   "outputs": [],
   "source": [
    "import os, sys\n",
    "from datetime import datetime\n",
    "import dateutil.parser\n",
    "import numpy as np\n",
    "import pandas as pd\n",
    "import matplotlib as mpl\n",
    "import matplotlib.pyplot as plt\n",
    "from scipy.interpolate import interp1d\n",
    "from matplotlib.gridspec import GridSpec\n",
    "from matplotlib.colors import LinearSegmentedColormap\n",
    "from matplotlib.patches import Ellipse, Circle\n",
    "from matplotlib.gridspec import GridSpec"
   ]
  },
  {
   "cell_type": "code",
   "execution_count": 0,
   "metadata": {},
   "outputs": [],
   "source": [
    "plt.rc('font', size=6)"
   ]
  },
  {
   "cell_type": "code",
   "execution_count": 0,
   "metadata": {},
   "outputs": [],
   "source": [
    "%load_ext autoreload\n",
    "%autoreload 2"
   ]
  },
  {
   "cell_type": "code",
   "execution_count": 0,
   "metadata": {},
   "outputs": [],
   "source": [
    "if DEBUG and 'debug' not in globals():\n",
    "    import debugpy\n",
    "    debugpy.listen(('0.0.0.0', 5698))\n",
    "    debug = True"
   ]
  },
  {
   "cell_type": "markdown",
   "metadata": {},
   "source": [
    "# Plot definitions"
   ]
  },
  {
   "cell_type": "code",
   "execution_count": 0,
   "metadata": {},
   "outputs": [],
   "source": [
    "from astropy.time import Time, TimeDelta\n",
    "from astropy.coordinates import SkyCoord, EarthLocation, AltAz, get_body\n",
    "from astroplan import Observer\n",
    "from astroplan.moon import moon_phase_angle, moon_illumination\n",
    "import astropy.units as u\n",
    "\n",
    "from pfs.utils.coordinates import Subaru_POPT2_PFS\n",
    "\n",
    "from pfs.ga.targeting.targets.m31 import M31_SECTORS #, M31_FIELDS\n",
    "from pfs.ga.targeting.instrument import *\n",
    "from pfs.ga.common.diagram import CMD, CCD, FOV, FP, ColorAxis, MagnitudeAxis\n",
    "from pfs.ga.common.photometry import Photometry, Magnitude, Color\n",
    "from pfs.ga.targeting.projection import Pointing, WcsProjection\n",
    "from pfs.ga.targeting.config.netflow import NetflowConfig"
   ]
  },
  {
   "cell_type": "code",
   "execution_count": 0,
   "metadata": {},
   "outputs": [],
   "source": [
    "field = M31_SECTORS[SECTOR]\n",
    "hsc = field.get_photometry()\n",
    "cmd = field.get_cmd()\n",
    "ccd = field.get_ccd()"
   ]
  },
  {
   "cell_type": "code",
   "execution_count": 0,
   "metadata": {},
   "outputs": [],
   "source": [
    "pointing = field.get_center()\n",
    "pointing"
   ]
  },
  {
   "cell_type": "code",
   "execution_count": 0,
   "metadata": {},
   "outputs": [],
   "source": [
    "wcs = WcsProjection(pointing, proj='TAN')\n",
    "fov = FOV(projection=wcs)"
   ]
  },
  {
   "cell_type": "markdown",
   "metadata": {},
   "source": [
    "# Load the config files"
   ]
  },
  {
   "cell_type": "code",
   "execution_count": 0,
   "metadata": {},
   "outputs": [],
   "source": [
    "config = field.get_netflow_config()\n",
    "config.load(CONFIG_FILES, ignore_collisions=True)"
   ]
  },
  {
   "cell_type": "code",
   "execution_count": 0,
   "metadata": {},
   "outputs": [],
   "source": [
    "config.pointings"
   ]
  },
  {
   "cell_type": "code",
   "execution_count": 0,
   "metadata": {},
   "outputs": [],
   "source": [
    "config.instrument_options"
   ]
  },
  {
   "cell_type": "markdown",
   "metadata": {},
   "source": [
    "# Load observations"
   ]
  },
  {
   "cell_type": "code",
   "execution_count": 0,
   "metadata": {},
   "outputs": [],
   "source": [
    "from pfs.ga.targeting.io import ObservationSerializer"
   ]
  },
  {
   "cell_type": "code",
   "execution_count": 0,
   "metadata": {},
   "outputs": [],
   "source": [
    "obs = field.get_text_observation_reader().read(os.path.expandvars(OBS_FILE))\n",
    "obs.data.shape"
   ]
  },
  {
   "cell_type": "markdown",
   "metadata": {},
   "source": [
    "# Calculate the whitening matrix\n",
    "\n",
    "This basically determines the second moments of the coordinate distribution\n",
    "and yield the axes of the ellipsoid and the position angle"
   ]
  },
  {
   "cell_type": "code",
   "execution_count": 0,
   "metadata": {},
   "outputs": [],
   "source": [
    "from pfs.ga.targeting.projection import Whitening\n",
    "from pfs.ga.targeting.radialprofile import King"
   ]
  },
  {
   "cell_type": "code",
   "execution_count": 0,
   "metadata": {},
   "outputs": [],
   "source": [
    "# Iteratively determine a whitening matrix that converts the\n",
    "# spherical coordinates into deprojected coordinates\n",
    "\n",
    "w = Whitening(projection=wcs)\n",
    "\n",
    "if FIELD == 'm31':\n",
    "    w_mask = w.create(obs, iterations=30, s_cut=2.2)\n",
    "else:\n",
    "    raise NotImplementedError()\n",
    "\n",
    "w.M, w.reverse(w.M), field.pos"
   ]
  },
  {
   "cell_type": "code",
   "execution_count": 0,
   "metadata": {},
   "outputs": [],
   "source": [
    "[dsph_maj, dsph_min] = w.S\n",
    "dsph_pa = np.degrees(np.angle(w.Vh[0, 0] + 1j * w.Vh[1, 0]))\n",
    "dsph_maj, dsph_min, dsph_pa"
   ]
  },
  {
   "cell_type": "code",
   "execution_count": 0,
   "metadata": {},
   "outputs": [],
   "source": [
    "f, ax = plt.subplots(1, 1, figsize=(8, 8), dpi=240)\n",
    "\n",
    "(wx, wy) = w.apply(obs.get_coords())\n",
    "ax.plot(wx, wy, '.', ms=0.1)\n",
    "ax.plot(wx[w_mask], wy[w_mask], '.', ms=0.1)\n",
    "ax.set_aspect('equal')\n",
    "ax.grid()"
   ]
  },
  {
   "cell_type": "code",
   "execution_count": 0,
   "metadata": {},
   "outputs": [],
   "source": [
    "w.M, w.W, w.reverse(w.M)"
   ]
  },
  {
   "cell_type": "code",
   "execution_count": 0,
   "metadata": {},
   "outputs": [],
   "source": [
    "w.M, w.reverse(w.M), field.pos"
   ]
  },
  {
   "cell_type": "markdown",
   "metadata": {},
   "source": [
    "# Define pointings"
   ]
  },
  {
   "cell_type": "code",
   "execution_count": 0,
   "metadata": {},
   "outputs": [],
   "source": [
    "from astropy.coordinates import SkyCoord\n",
    "from astropy.time import Time\n",
    "from astropy.coordinates import CartesianRepresentation\n",
    "from astropy.coordinates.matrix_utilities import rotation_matrix\n",
    "import astropy.units as u\n",
    "\n",
    "from pfs.ga.targeting.projection import Pointing"
   ]
  },
  {
   "cell_type": "code",
   "execution_count": 0,
   "metadata": {},
   "outputs": [],
   "source": [
    "# Cartesian coordinate system\n",
    "SkyCoord(0, 90, unit='deg').cartesian       # (0, 0, 1)     -> z axis points to north\n",
    "SkyCoord(0, 0, unit='deg').cartesian         # (1, 0, 0)     -> x axis points to us\n",
    "SkyCoord(90, 0, unit='deg').cartesian        # (0, 1, 0)     -> y axis points to east"
   ]
  },
  {
   "cell_type": "code",
   "execution_count": 0,
   "metadata": {},
   "outputs": [],
   "source": [
    "def get_full_rotation(sep, pa, ra, dec):\n",
    "    r1 = rotation_matrix(sep * u.deg, 'z')  # separation of the pointing center from the center of the object\n",
    "    r2 = rotation_matrix(pa * u.deg, 'x')   # position angle of the ellipse\n",
    "    r3 = rotation_matrix(dec * u.deg, 'y')    # declination\n",
    "    r4 = rotation_matrix(-ra * u.deg, 'z')    # right ascension\n",
    "\n",
    "    return r4 @ r3 @ r2 @ r1\n",
    "\n",
    "def calculate_center(sep, pa, ra, dec):\n",
    "    r = get_full_rotation(sep, pa, ra, dec)\n",
    "    c = SkyCoord(CartesianRepresentation(1, 0, 0).transform(r))\n",
    "    return c.ra.value, c.dec.value\n",
    "\n",
    "# print(r1, r2, r3, r4, r4 @ r3 @ r2 @ r1)\n",
    "\n",
    "# print(SkyCoord(CartesianRepresentation(1, 0, 0)))\n",
    "# print(SkyCoord(CartesianRepresentation(1, 0, 0).transform(r1)))\n",
    "# print(SkyCoord(CartesianRepresentation(1, 0, 0).transform(r2 @ r1)))\n",
    "# print(SkyCoord(CartesianRepresentation(1, 0, 0).transform(r3 @ r2 @ r1)))\n",
    "# print(SkyCoord(CartesianRepresentation(1, 0, 0).transform(r4 @ r3 @ r2 @ r1)))"
   ]
  },
  {
   "cell_type": "code",
   "execution_count": 0,
   "metadata": {},
   "outputs": [],
   "source": [
    "field.pos.ra.value, field.pos.dec.value, calculate_center(1.5, 40, field.pos.ra.value, field.pos.dec.value)"
   ]
  },
  {
   "cell_type": "code",
   "execution_count": 0,
   "metadata": {},
   "outputs": [],
   "source": [
    "center = field.get_center()\n",
    "obs_time = Time('2025-09-13T10:00:00')        # midnight in Hawaii\n",
    "\n",
    "# Use the field defaults\n",
    "pointings = field.get_pointings(SubaruPFI)\n",
    "\n",
    "# Use the config file\n",
    "# pointings = [ p.get_pointing(obs_time=obs_time) for p in config.pointings ]\n",
    "\n",
    "center, pointings"
   ]
  },
  {
   "cell_type": "code",
   "execution_count": 0,
   "metadata": {},
   "outputs": [],
   "source": [
    "field"
   ]
  },
  {
   "cell_type": "code",
   "execution_count": 0,
   "metadata": {},
   "outputs": [],
   "source": [
    "# Generate pointings in a pattern\n",
    "# Use constants for the center of M31 in decimal degrees\n",
    "\n",
    "def hex(u,v):\n",
    "    r = np.sqrt(u**2 + u*v + v**2)\n",
    "    theta1 = np.rad2deg(np.arctan2(np.sqrt(3)*v, 2*u + v)) % 360\n",
    "    theta2 = np.rad2deg(np.arctan2(np.sqrt(3)*u, 2*v + u)) % 360\n",
    "    theta3 = np.rad2deg(np.arctan2(-np.sqrt(3)*v, -2*u - v)) % 360\n",
    "    theta4 = np.rad2deg(np.arctan2(-np.sqrt(3)*u, -2*v - u)) % 360\n",
    "    theta = [theta1, theta2, theta3, theta4]\n",
    "    theta = np.unique(theta)\n",
    "    theta = np.sort(theta)\n",
    "    return r, theta\n",
    "\n",
    "print(hex(4, 1))\n"
   ]
  },
  {
   "cell_type": "code",
   "execution_count": 0,
   "metadata": {},
   "outputs": [],
   "source": [
    "\n",
    "SEP = 1.15\n",
    "\n",
    "decE = 41.2687 - 0.1*SEP\n",
    "raE = 10.6847 + 0.35*SEP/np.cos(np.deg2rad(decE))\n",
    "paE = -20\n",
    "fieldpaE = (70 - paE) % 360\n",
    "decW = 41.2687 + 0.3*SEP\n",
    "raW = 10.6847 - 0.45*SEP/np.cos(np.deg2rad(decW))\n",
    "paW = -25\n",
    "fieldpaW = (70 - paW) % 360\n",
    "pointings = [\n",
    "    #Pointing(raE, decE, posang=fieldpaE-paE, obs_time=obs_time, stage=0, priority=0),\n",
    "\n",
    "    #Pointing(*calculate_center(SEP, paE+0, raE, decE), posang=fieldpaE-paE, obs_time=obs_time, stage=0, priority=0),\n",
    "    #Pointing(*calculate_center(SEP, paE+60, raE, decE), posang=fieldpaE-paE, obs_time=obs_time, stage=0, priority=0),\n",
    "    #Pointing(*calculate_center(SEP, paE+120, raE, decE), posang=fieldpaE-paE, obs_time=obs_time, stage=0, priority=0),\n",
    "    Pointing(*calculate_center(SEP, paE+180, raE, decE), posang=fieldpaE-paE, obs_time=obs_time, stage=0, priority=0, label='diskE_2'),\n",
    "    Pointing(*calculate_center(SEP, paE+240, raE-0.25*SEP/np.cos(np.deg2rad(decE))*np.sin(np.deg2rad(paE)), decE-0.0*SEP*np.cos(np.deg2rad(paE))), posang=fieldpaE-paE, obs_time=obs_time, stage=0, priority=0, label='diskE_3'),\n",
    "    Pointing(*calculate_center(SEP, paE+300, raE-0.3*SEP/np.cos(np.deg2rad(decE))*np.sin(np.deg2rad(paE)), decE-0.3*SEP*np.cos(np.deg2rad(paE))), posang=fieldpaE-paE, obs_time=obs_time, stage=0, priority=0, label='GSS_1'),\n",
    "\n",
    "    #Pointing(*calculate_center(2 * SEP, paE+0, raE, decE), posang=fieldpaE-paE, obs_time=obs_time, stage=0, priority=0),\n",
    "    #Pointing(*calculate_center(2 * SEP, paE+60, raE, decE), posang=fieldpaE-paE, obs_time=obs_time, stage=0, priority=0),\n",
    "    #Pointing(*calculate_center(2 * SEP, paE+120, raE, decE), posang=fieldpaE-paE, obs_time=obs_time, stage=0, priority=0),\n",
    "    Pointing(*calculate_center(2 * SEP, paE+180, raE, decE), posang=fieldpaE-paE, obs_time=obs_time, stage=0, priority=0, label='haloE_1'),\n",
    "    Pointing(*calculate_center(2 * SEP, paE+240, raE, decE), posang=fieldpaE-paE, obs_time=obs_time, stage=0, priority=0, label='haloE_3'),\n",
    "    Pointing(*calculate_center(2 * SEP, paE+300, raE, decE), posang=fieldpaE-paE, obs_time=obs_time, stage=0, priority=0, label='GSS_4'),\n",
    "\n",
    "    #Pointing(*calculate_center(np.sqrt(3) * SEP, paE+30, raE, decE), posang=fieldpaE-paE, obs_time=obs_time, stage=0, priority=0),\n",
    "    #Pointing(*calculate_center(np.sqrt(3) * SEP, paE+90, raE, decE), posang=fieldpaE-paE, obs_time=obs_time, stage=0, priority=0),\n",
    "    Pointing(*calculate_center(np.sqrt(3) * SEP, paE+150, raE, decE), posang=fieldpaE-paE, obs_time=obs_time, stage=0, priority=0, label='diskE_1'),\n",
    "    Pointing(*calculate_center(np.sqrt(3) * SEP, paE+210, raE, decE), posang=fieldpaE-paE, obs_time=obs_time, stage=0, priority=0, label='haloE_2'),\n",
    "    Pointing(*calculate_center(np.sqrt(3) * SEP, paE+270, raE, decE), posang=fieldpaE-paE, obs_time=obs_time, stage=0, priority=0, label='GSS_3'),\n",
    "    Pointing(*calculate_center(np.sqrt(3) * SEP, paE+330, raE-0.35*SEP/np.cos(np.deg2rad(decE))*np.sin(np.deg2rad(paE)), decE-0.35*SEP*np.cos(np.deg2rad(paE))), posang=fieldpaE-paE, obs_time=obs_time, stage=0, priority=0, label='GSS_2'),\n",
    "\n",
    "    #Pointing(*calculate_center(3 * SEP, paE+0, raE, decE), posang=fieldpaE-paE, obs_time=obs_time, stage=0, priority=0),\n",
    "    #Pointing(*calculate_center(3 * SEP, paE+60, raE, decE), posang=fieldpaE-paE, obs_time=obs_time, stage=0, priority=0),\n",
    "    #Pointing(*calculate_center(3 * SEP, paE+120, raE, decE), posang=fieldpaE-paE, obs_time=obs_time, stage=0, priority=0),\n",
    "    #Pointing(*calculate_center(3 * SEP, paE+180, raE, decE), posang=fieldpaE-paE, obs_time=obs_time, stage=0, priority=0),\n",
    "    Pointing(*calculate_center(3 * SEP, paE+240, raE, decE), posang=fieldpaE-paE, obs_time=obs_time, stage=0, priority=0, label='haloE_6'),\n",
    "    #Pointing(*calculate_center(3 * SEP, paE+300, raE, decE), posang=fieldpaE-paE, obs_time=obs_time, stage=0, priority=0),\n",
    "\n",
    "    #Pointing(*calculate_center(np.sqrt(7) * SEP, paE+20, raE, decE), posang=fieldpaE-paE, obs_time=obs_time, stage=0, priority=0),\n",
    "    #Pointing(*calculate_center(np.sqrt(7) * SEP, paE+40, raE, decE), posang=fieldpaE-paE, obs_time=obs_time, stage=0, priority=0),\n",
    "    #Pointing(*calculate_center(np.sqrt(7) * SEP, paE+80, raE, decE), posang=fieldpaE-paE, obs_time=obs_time, stage=0, priority=0),\n",
    "    #Pointing(*calculate_center(np.sqrt(7) * SEP, paE+100, raE, decE), posang=fieldpaE-paE, obs_time=obs_time, stage=0, priority=0),\n",
    "    #Pointing(*calculate_center(np.sqrt(7) * SEP, paE+140, raE, decE), posang=fieldpaE-paE, obs_time=obs_time, stage=0, priority=0),\n",
    "    #Pointing(*calculate_center(np.sqrt(7) * SEP, paE+160, raE, decE), posang=fieldpaE-paE, obs_time=obs_time, stage=0, priority=0),\n",
    "    Pointing(*calculate_center(np.sqrt(7) * SEP, paE+200, raE, decE), posang=fieldpaE-paE, obs_time=obs_time, stage=0, priority=0, label='haloE_4'),\n",
    "    Pointing(*calculate_center(np.sqrt(7) * SEP, paE+220, raE, decE), posang=fieldpaE-paE, obs_time=obs_time, stage=0, priority=0, label='haloE_5'),\n",
    "    Pointing(*calculate_center(np.sqrt(7) * SEP, paE+260, raE, decE), posang=fieldpaE-paE, obs_time=obs_time, stage=0, priority=0, label='GSS_5'),\n",
    "    Pointing(*calculate_center(np.sqrt(7) * SEP, paE+280, raE, decE), posang=fieldpaE-paE, obs_time=obs_time, stage=0, priority=0, label='GSS_6'),\n",
    "    #Pointing(*calculate_center(np.sqrt(7) * SEP, paE+320, raE, decE), posang=fieldpaE-paE, obs_time=obs_time, stage=0, priority=0),\n",
    "    #Pointing(*calculate_center(np.sqrt(7) * SEP, paE+340, raE, decE), posang=fieldpaE-paE, obs_time=obs_time, stage=0, priority=0),\n",
    "\n",
    "    Pointing(*calculate_center(SEP, paW+0, raW, decW), posang=fieldpaW-paW, obs_time=obs_time, stage=0, priority=0, label='diskW_4'),\n",
    "    Pointing(*calculate_center(SEP, paW+60, raW, decW), posang=fieldpaW-paW, obs_time=obs_time, stage=0, priority=0, label='diskW_3'),\n",
    "    Pointing(*calculate_center(SEP, paW+120, raW, decW), posang=fieldpaW-paW, obs_time=obs_time, stage=0, priority=0, label='diskW_2'),\n",
    "    #Pointing(*calculate_center(SEP, paW+180, raW, decW), posang=fieldpaW-paW, obs_time=obs_time, stage=0, priority=0),\n",
    "    #Pointing(*calculate_center(SEP, paW+240, raW-0.25*SEP/np.cos(np.deg2rad(decW))*np.sin(np.deg2rad(paW)), decW-0.0*SEP*np.cos(np.deg2rad(paW))), posang=fieldpaW-paW, obs_time=obs_time, stage=0, priority=0),\n",
    "    #Pointing(*calculate_center(SEP, paW+300, raW-0.3*SEP/np.cos(np.deg2rad(decW))*np.sin(np.deg2rad(paW)), decW-0.3*SEP*np.cos(np.deg2rad(paW))), posang=fieldpaW-paW, obs_time=obs_time, stage=0, priority=0),\n",
    "\n",
    "    #Pointing(*calculate_center(2 * SEP, paW+0, raW, decW), posang=fieldpaW-paW, obs_time=obs_time, stage=0, priority=0),\n",
    "    Pointing(*calculate_center(2 * SEP, paW+60, raW, decW), posang=fieldpaW-paW, obs_time=obs_time, stage=0, priority=0, label='haloW_6'),\n",
    "    Pointing(*calculate_center(2 * SEP, paW+120, raW, decW), posang=fieldpaW-paW, obs_time=obs_time, stage=0, priority=0, label='diskW_1'),\n",
    "    #Pointing(*calculate_center(2 * SEP, paW+180, raW, decW), posang=fieldpaW-paW, obs_time=obs_time, stage=0, priority=0),\n",
    "    #Pointing(*calculate_center(2 * SEP, paW+240, raW, decW), posang=fieldpaW-paW, obs_time=obs_time, stage=0, priority=0),\n",
    "    #Pointing(*calculate_center(2 * SEP, paW+300, raW, decW), posang=fieldpaW-paW, obs_time=obs_time, stage=0, priority=0),\n",
    "\n",
    "    Pointing(*calculate_center(np.sqrt(3) * SEP, paW+30, raW, decW), posang=fieldpaW-paW, obs_time=obs_time, stage=0, priority=0, label='haloW_7'),\n",
    "    Pointing(*calculate_center(np.sqrt(3) * SEP, paW+90, raW, decW), posang=fieldpaW-paW, obs_time=obs_time, stage=0, priority=0, label='haloW_4'),\n",
    "    #Pointing(*calculate_center(np.sqrt(3) * SEP, paW+150, raW, decW), posang=fieldpaW-paW, obs_time=obs_time, stage=0, priority=0),\n",
    "    #Pointing(*calculate_center(np.sqrt(3) * SEP, paW+210, raW, decW), posang=fieldpaW-paW, obs_time=obs_time, stage=0, priority=0),\n",
    "    #Pointing(*calculate_center(np.sqrt(3) * SEP, paW+270, raW, decW), posang=fieldpaW-paW, obs_time=obs_time, stage=0, priority=0),\n",
    "    #Pointing(*calculate_center(np.sqrt(3) * SEP, paW+330, raW-0.35*SEP/np.cos(np.deg2rad(decW))*np.sin(np.deg2rad(paW)), decW-0.35*SEP*np.cos(np.deg2rad(paW))), posang=fieldpaW-paW, obs_time=obs_time, stage=0, priority=0),\n",
    "\n",
    "    #Pointing(*calculate_center(3 * SEP, paW+0, raW, decW), posang=fieldpaW-paW, obs_time=obs_time, stage=0, priority=0),\n",
    "    Pointing(*calculate_center(3 * SEP, paW+60, raW, decW), posang=fieldpaW-paW, obs_time=obs_time, stage=0, priority=0, label='haloW_9'),\n",
    "    #Pointing(*calculate_center(3 * SEP, paW+120, raW, decW), posang=fieldpaW-paW, obs_time=obs_time, stage=0, priority=0),\n",
    "    #Pointing(*calculate_center(3 * SEP, paW+180, raW, decW), posang=fieldpaW-paW, obs_time=obs_time, stage=0, priority=0),\n",
    "    #Pointing(*calculate_center(3 * SEP, paW+240, raW, decW), posang=fieldpaW-paW, obs_time=obs_time, stage=0, priority=0),\n",
    "    #Pointing(*calculate_center(3 * SEP, paW+300, raW, decW), posang=fieldpaW-paW, obs_time=obs_time, stage=0, priority=0),\n",
    "\n",
    "    #Pointing(*calculate_center(np.sqrt(7) * SEP, paW+20, raW, decW), posang=fieldpaW-paW, obs_time=obs_time, stage=0, priority=0),\n",
    "    Pointing(*calculate_center(np.sqrt(7) * SEP, paW+40, raW + 0.1*SEP/np.cos(np.deg2rad(decW)), decW + 0.1*SEP), posang=fieldpaW-paW, obs_time=obs_time, stage=0, priority=0, label='haloW_10'),\n",
    "    Pointing(*calculate_center(np.sqrt(7) * SEP, paW+80, raW, decW), posang=fieldpaW-paW, obs_time=obs_time, stage=0, priority=0, label='haloW_5'),\n",
    "    Pointing(*calculate_center(np.sqrt(7) * SEP, paW+100, raW+0.1*SEP/np.cos(np.deg2rad(decW)), decW-0.3*SEP), posang=fieldpaW-paW, obs_time=obs_time, stage=0, priority=0, label='haloW_3'),\n",
    "    #Pointing(*calculate_center(np.sqrt(7) * SEP, paW+140, raW, decW), posang=fieldpaW-paW, obs_time=obs_time, stage=0, priority=0),\n",
    "    #Pointing(*calculate_center(np.sqrt(7) * SEP, paW+160, raW, decW), posang=fieldpaW-paW, obs_time=obs_time, stage=0, priority=0),\n",
    "    #Pointing(*calculate_center(np.sqrt(7) * SEP, paW+200, raW, decW), posang=fieldpaW-paW, obs_time=obs_time, stage=0, priority=0),\n",
    "    #Pointing(*calculate_center(np.sqrt(7) * SEP, paW+220, raW, decW), posang=fieldpaW-paW, obs_time=obs_time, stage=0, priority=0),\n",
    "    #Pointing(*calculate_center(np.sqrt(7) * SEP, paW+260, raW, decW), posang=fieldpaW-paW, obs_time=obs_time, stage=0, priority=0),\n",
    "    #Pointing(*calculate_center(np.sqrt(7) * SEP, paW+280, raW, decW), posang=fieldpaW-paW, obs_time=obs_time, stage=0, priority=0),\n",
    "    #Pointing(*calculate_center(np.sqrt(7) * SEP, paW+320, raW, decW), posang=fieldpaW-paW, obs_time=obs_time, stage=0, priority=0),\n",
    "    #Pointing(*calculate_center(np.sqrt(7) * SEP, paW+340, raW, decW), posang=fieldpaW-paW, obs_time=obs_time, stage=0, priority=0),\n",
    "    \n",
    "    Pointing(*calculate_center(np.sqrt(13) * SEP, paW+46.102, raW, decW), posang=fieldpaW-paW, obs_time=obs_time, stage=0, priority=0, label='haloW_12'),\n",
    "    Pointing(*calculate_center(np.sqrt(13) * SEP, paW+73.898, raW, decW), posang=fieldpaW-paW, obs_time=obs_time, stage=0, priority=0, label='haloW_8'),\n",
    "    Pointing(*calculate_center(np.sqrt(13) * SEP, paW+106.102, raW+0.1*SEP/np.cos(np.deg2rad(decW)), decW-0.4*SEP), posang=fieldpaW-paW, obs_time=obs_time, stage=0, priority=0, label='haloW_2'),\n",
    "    Pointing(*calculate_center(np.sqrt(13) * SEP, paW+106.102, raW+0.2*SEP/np.cos(np.deg2rad(decW)), decW+0.6*SEP), posang=fieldpaW-paW, obs_time=obs_time, stage=0, priority=0, label='haloW_1'),\n",
    "\n",
    "    Pointing(*calculate_center(4 * SEP, paW+60, raW, decW), posang=fieldpaW-paW, obs_time=obs_time, stage=0, priority=0, label='haloW_11'),\n",
    "    \n",
    "    Pointing(*calculate_center(np.sqrt(21) * SEP, paW+49.107, raW, decW), posang=fieldpaW-paW, obs_time=obs_time, stage=0, priority=0, label='NWstream_1'),\n",
    "    Pointing(*calculate_center(5.45 * SEP, paW+52, raW, decW), posang=fieldpaW-paW, obs_time=obs_time, stage=0, priority=0, label='NWstream_2'),\n",
    "    Pointing(*calculate_center(5 * SEP, paW+60, raW, decW), posang=fieldpaW-paW, obs_time=obs_time, stage=0, priority=0, label='NWstream_3'),\n",
    "    Pointing(*calculate_center(6 * SEP, paW+60, raW+0.42*SEP/np.cos(np.deg2rad(decW)), decW+0.35*SEP), posang=fieldpaW-paW, obs_time=obs_time, stage=0, priority=0, label='NWstream_4'),\n",
    "    Pointing(*calculate_center(6 * SEP, paW+60, raW+0.6*SEP/np.cos(np.deg2rad(decW)), decW+1.35*SEP), posang=fieldpaW-paW, obs_time=obs_time, stage=0, priority=0, label='NWstream_5'),\n",
    "]"
   ]
  },
  {
   "cell_type": "markdown",
   "metadata": {},
   "source": [
    "# Plot the pointings"
   ]
  },
  {
   "cell_type": "code",
   "execution_count": 0,
   "metadata": {},
   "outputs": [],
   "source": [
    "from astropy.coordinates import SkyCoord as sc\n",
    "for i, p in enumerate(pointings):\n",
    "    scp = sc(ra=p.ra, dec=p.dec, unit=\"deg\")\n",
    "    rastr = scp.ra.to_string(unit='hourangle', sep=':', precision=2, pad=2)\n",
    "    decstr = scp.dec.to_string(sep=':', precision=1, pad=2, alwayssign=True)\n",
    "    print(f\"        ('sector_0', '{p.label}',   '{rastr}',  '{decstr}', {p.posang}, {p.stage}, 0),\")"
   ]
  },
  {
   "cell_type": "code",
   "execution_count": 0,
   "metadata": {},
   "outputs": [],
   "source": [
    "obs"
   ]
  },
  {
   "cell_type": "code",
   "execution_count": 0,
   "metadata": {},
   "outputs": [],
   "source": [
    "cmap = plt.get_cmap('tab20')\n",
    "\n",
    "f, ax = plt.subplots(1, 1, figsize=(8, 8), dpi=240, subplot_kw=dict(projection=wcs.wcs))\n",
    "\n",
    "obs.plot(ax, fov, c='lightgrey', size=0.5, s=np.s_[::50])\n",
    "\n",
    "# Plot the tidal radius from the King profile fit\n",
    "#ell = king.get_ellipse(R_t)\n",
    "#fov.plot(ax, ell, native_frame='world', ls='--', lw=1, c='k')\n",
    "#ell = king.get_ellipse(R_c)\n",
    "#fov.plot(ax, ell, native_frame='world', ls='-', lw=1, c='k')\n",
    "\n",
    "# Plot the poiting center\n",
    "# fov.plot(ax, [field.pos.ra.value], [field.pos.dec.value], fmt='+r', ms=10, native_frame='world')\n",
    "\n",
    "for i, pp in enumerate(pointings):\n",
    "    wfc = SubaruWFC(pp)\n",
    "    pfi = SubaruPFI(wfc, instrument_options=config.instrument_options)\n",
    "\n",
    "    pfi.plot_focal_plane(ax, fov, corners=True, c=cmap((pp.stage + 1) % 20), ls='-', label=pp.label)\n",
    "    pfi.plot_focal_plane(ax, fov, fill=True, alpha=0.2, c=cmap((pp.stage + 1) % 20))\n",
    "\n",
    "    if pp.label in ['diskE_1', 'diskE_2', 'NWstream_5', 'GSS_1', 'haloE_1', 'diskW_2', 'diskW_3', 'haloW_4']:\n",
    "        color = 'red'\n",
    "    else:\n",
    "        color = 'black'\n",
    "\n",
    "    ax.text(pp.ra, pp.dec,\n",
    "            f'{pp.label}\\n{pp.priority}',\n",
    "            color=color, fontsize=8, ha='center', va='center', transform=ax.get_transform('world'))\n",
    "\n",
    "ax.set_xlim(10, -10)\n",
    "ax.set_ylim(-10, 10)\n",
    "ax.grid()\n",
    "#ax.legend()"
   ]
  },
  {
   "cell_type": "markdown",
   "metadata": {},
   "source": [
    "# Calculate and plot the elevation and rotator angle"
   ]
  },
  {
   "cell_type": "code",
   "execution_count": 0,
   "metadata": {},
   "outputs": [],
   "source": [
    "obs = Observer.at_site(\"Subaru\", timezone=\"US/Hawaii\")\n",
    "hawaii_tz = TimeDelta(-10 * u.hr)"
   ]
  },
  {
   "cell_type": "code",
   "execution_count": 0,
   "metadata": {},
   "outputs": [],
   "source": [
    "config.pointings"
   ]
  },
  {
   "cell_type": "code",
   "execution_count": 0,
   "metadata": {},
   "outputs": [],
   "source": [
    "time_from = Time(dateutil.parser.parse(TIME_FROM)) - hawaii_tz\n",
    "time_to = Time(dateutil.parser.parse(TIME_TO)) - hawaii_tz\n",
    "\n",
    "time_from, time_to"
   ]
  },
  {
   "cell_type": "code",
   "execution_count": 0,
   "metadata": {},
   "outputs": [],
   "source": [
    "date_from = np.floor(time_from.jd - 0.5)\n",
    "date_to = np.ceil(time_to.jd + 0.5)\n",
    "\n",
    "dates = Time(np.linspace(date_from, date_to + 1, int(date_to - date_from + 2)), format='jd')\n",
    "dates.to_datetime()"
   ]
  },
  {
   "cell_type": "code",
   "execution_count": 0,
   "metadata": {},
   "outputs": [],
   "source": [
    "sunrise = obs.sun_rise_time(dates, which='previous') + hawaii_tz\n",
    "sunset = obs.sun_set_time(dates, which='next') + hawaii_tz\n",
    "\n",
    "# HST\n",
    "sunrise.to_datetime(), sunset.to_datetime()"
   ]
  },
  {
   "cell_type": "code",
   "execution_count": 0,
   "metadata": {},
   "outputs": [],
   "source": [
    "def radecpa_to_altazinr(pos, pa, obs_time):\n",
    "    altaz = pos.transform_to(AltAz(obstime=obs_time, location=Subaru_POPT2_PFS.Lsbr))\n",
    "    az = altaz.az.deg\n",
    "    alt = altaz.alt.deg\n",
    "\n",
    "    # Instrument rotator angle\n",
    "    subaru = Subaru_POPT2_PFS.Subaru()\n",
    "    paa = subaru.radec2inr(pos.ra, pos.dec, obs_time)\n",
    "    inr = (paa + pa + 180) % 360. - 180.\n",
    "    # inr = paa + pa\n",
    "\n",
    "    return alt, az, inr"
   ]
  },
  {
   "cell_type": "code",
   "execution_count": 0,
   "metadata": {},
   "outputs": [],
   "source": [
    "obs_time = Time(np.linspace(date_from, date_to, 300), format='jd')\n",
    "obs_time[0], obs_time[-1]"
   ]
  },
  {
   "cell_type": "code",
   "execution_count": 0,
   "metadata": {},
   "outputs": [],
   "source": [
    "obs_time[0], obs_time[-1]"
   ]
  },
  {
   "cell_type": "code",
   "execution_count": 0,
   "metadata": {},
   "outputs": [],
   "source": [
    "f, ax = plt.subplots(1, 1, figsize=(7, 5), dpi=240)\n",
    "ax2 = ax.twinx()\n",
    "\n",
    "# matplotlib like python datetime\n",
    "xx = (obs_time + hawaii_tz).to_datetime()\n",
    "\n",
    "# Shade areas in black when the Sun is below the horizon\n",
    "for t1, t2 in zip(sunset[:-2].to_datetime(), sunrise[2:].to_datetime()):\n",
    "    ax.axvspan(t1, t2, color='black', alpha=1)\n",
    "\n",
    "# Plot the rotator angle for each pointing\n",
    "for p in pointings:\n",
    "    if p.label in ['diskE_1', 'diskE_2', 'NWstream_5', 'GSS_1', 'haloE_1', 'diskW_2', 'diskW_3', 'haloW_4']:\n",
    "        #p = p.get_pointing()\n",
    "        alt, az, inr = radecpa_to_altazinr(p.pos, p.posang, obs_time=(obs_time))\n",
    "        # alt, az, inr = radecpa_to_altazinr(p.pos, 0, obs_time=(obs_time))\n",
    "\n",
    "        inr_mask = np.abs(inr) > 178\n",
    "        inr[inr_mask] = np.nan\n",
    "\n",
    "        # Instrument rotator angle\n",
    "        ax2.plot(xx, inr, c='orange')\n",
    "\n",
    "        # Plot the azimuth angle\n",
    "        # target_ha = obs.target_hour_angle(obs_time, target=p.pos)\n",
    "        ax2.plot(xx, ((az + 180.) % 360) - 180., c='green')\n",
    "\n",
    "# Plot the elevation of the Moon\n",
    "moon = get_body('Moon', obs_time, Subaru_POPT2_PFS.Lsbr)\n",
    "moon_phase = moon_illumination(obs_time)\n",
    "altaz = moon.transform_to(AltAz(obstime=obs_time, location=Subaru_POPT2_PFS.Lsbr))\n",
    "ax.plot(xx, altaz.alt.degree, '--y')\n",
    "\n",
    "# Plot target elevation\n",
    "p = field.get_center_pointing(include_motion=False)\n",
    "alt, az, inr = radecpa_to_altazinr(p.pos, 0, obs_time=(obs_time))\n",
    "ax.plot(xx, alt, '-c')\n",
    "\n",
    "ax.set_xlim((time_from + hawaii_tz).to_datetime(), (time_to + hawaii_tz).to_datetime())\n",
    "\n",
    "ax.set_yticks(np.linspace(0, 90, 7))\n",
    "ax.set_ylim(0, 90)\n",
    "\n",
    "ax.tick_params(axis='x', labelrotation=90)\n",
    "\n",
    "ax.set_xlabel('time [HST]')\n",
    "ax.set_ylabel('elevation')\n",
    "ax.set_title(f'Field: {FIELD}, moon phase: {moon_phase.mean():0.2f}')\n",
    "\n",
    "ax.grid(True)\n",
    "\n",
    "ax2.set_yticks(np.linspace(-180, 180, 7))\n",
    "ax2.set_ylim(-180, 180)\n",
    "\n",
    "ax2.set_ylabel('rotator angle')"
   ]
  },
  {
   "cell_type": "code",
   "execution_count": 0,
   "metadata": {},
   "outputs": [],
   "source": [
    "# Calculate the precise time of meridian crossing for each pointing\n",
    "\n",
    "# Sample time at minute resolution\n",
    "# Time constants are HST, t_fr and t_to are GMT\n",
    "t_fr = Time('2025-04-01T18:00:00') - hawaii_tz\n",
    "t_to = Time('2025-04-02T06:00:00') - hawaii_tz\n",
    "td = TimeDelta(1 * u.min)\n",
    "t_fr.jd, t_to.jd, td.jd"
   ]
  },
  {
   "cell_type": "code",
   "execution_count": 0,
   "metadata": {},
   "outputs": [],
   "source": [
    "t = Time(np.arange(t_fr.jd, t_to.jd, td.jd), format='jd')\n",
    "tt = (t + hawaii_tz).to_datetime()\n",
    "t.shape"
   ]
  },
  {
   "cell_type": "markdown",
   "metadata": {},
   "source": [
    "# Meridian crossing for each pointing in HST"
   ]
  },
  {
   "cell_type": "code",
   "execution_count": 0,
   "metadata": {},
   "outputs": [],
   "source": [
    "for i, p in enumerate(config.pointings):\n",
    "    p = p.get_pointing()\n",
    "    alt, az, inr = radecpa_to_altazinr(p.pos, p.posang, obs_time=(t))\n",
    "\n",
    "    # Wrap around az so it crossed 0 at the meridian\n",
    "    az = ((az + 180.) % 360) - 180.\n",
    "\n",
    "    # Find the zero crossing\n",
    "    m = (-10 <= az) & (az <= 10)\n",
    "    ip = interp1d(az[m], t[m].jd)\n",
    "    t_m = ip(0)\n",
    "\n",
    "    # Print the meridian-crossing in HST for each pointing\n",
    "    print(i, p.ra, p.dec, p.posang, (Time(t_m, format='jd') + hawaii_tz).iso)"
   ]
  },
  {
   "cell_type": "code",
   "execution_count": 0,
   "metadata": {},
   "outputs": [],
   "source": [
    "plt.plot(tt, az)\n",
    "plt.plot(tt[m], az[m])\n",
    "plt.axhline(0, c='r')\n",
    "plt.grid()"
   ]
  },
  {
   "cell_type": "code",
   "execution_count": 0,
   "metadata": {},
   "outputs": [],
   "source": []
  }
 ],
 "metadata": {
  "kernelspec": {
   "display_name": "dobos-torch",
   "language": "python",
   "name": "python3"
  },
  "language_info": {
   "codemirror_mode": {
    "name": "ipython",
    "version": 3
   },
   "file_extension": ".py",
   "mimetype": "text/x-python",
   "name": "python",
   "nbconvert_exporter": "python",
   "pygments_lexer": "ipython3",
   "version": "3.10.15"
  }
 },
 "nbformat": 4,
 "nbformat_minor": 2
}