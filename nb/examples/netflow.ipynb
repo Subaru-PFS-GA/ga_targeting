{
 "cells": [
  {
   "cell_type": "code",
   "execution_count": 0,
   "metadata": {},
   "outputs": [],
   "source": [
    "GALAXY = 'umi'\n",
    "\n",
    "OBS_PATH = '/datascope/subaru/data/cmdfit/dSph'\n",
    "HSC_FILE = '/datascope/subaru/data/cmdfit/dSph/umi_tpall3e_g24.cat'\n",
    "GAIA_FILE = '/datascope/subaru/data/cmdfit/dSph/gaia.h5'\n",
    "SKY_FILE = '/datascope/subaru/data/cmdfit/dSph/sky_ursaminor.feather'\n",
    "FLUXSTD_FILE = '/datascope/subaru/data/cmdfit/dSph/fluxstd_ursaminor.feather'\n",
    "MLCLASS_FILE = '/datascope/subaru/data/targeting/dSph/umi/ursaminor_mlclass.csv'\n",
    "PMAP_FILE = '/datascope/subaru/data/cmdfit/run/umi/sim/nobin_chab_nb_250k_001/pmap.h5'\n",
    "OUTPUT_PATH = '/datascope/subaru/user/dobos/netflow'\n",
    "ISOCHRONES_PATH = '/datascope/subaru/data/cmdfit/isochrones/dartmouth/import/afep0_cfht_sdss_hsc'\n",
    "\n",
    "GAIA_CROSSMATCH_RADIUS = 0.1    # in arcsec\n",
    "\n",
    "NVISITS = 1\n",
    "OUTPUT_PATH = f'/datascope/subaru/user/dobos/netflow/{GALAXY}_{NVISITS}_visit'"
   ]
  },
  {
   "cell_type": "code",
   "execution_count": 0,
   "metadata": {},
   "outputs": [],
   "source": [
    "import os, sys\n",
    "from datetime import datetime\n",
    "import numpy as np\n",
    "import pandas as pd\n",
    "import matplotlib as mpl\n",
    "import matplotlib.pyplot as plt\n",
    "from matplotlib.gridspec import GridSpec\n",
    "from matplotlib.colors import LinearSegmentedColormap\n",
    "from matplotlib.patches import Ellipse, Circle\n",
    "from matplotlib.gridspec import GridSpec\n",
    "from scipy.special import logsumexp\n",
    "from scipy.interpolate import interp1d\n",
    "\n",
    "from astropy import wcs\n",
    "from astropy import units as u\n",
    "from astropy.coordinates import Angle, SkyCoord\n",
    "from astropy.time import Time"
   ]
  },
  {
   "cell_type": "code",
   "execution_count": 0,
   "metadata": {},
   "outputs": [],
   "source": [
    "plt.rc('font', size=6) #controls default text size"
   ]
  },
  {
   "cell_type": "code",
   "execution_count": 0,
   "metadata": {},
   "outputs": [],
   "source": [
    "if 'debug' not in globals():\n",
    "    import debugpy\n",
    "    debugpy.listen(('0.0.0.0', 5698))\n",
    "    debug = True"
   ]
  },
  {
   "cell_type": "code",
   "execution_count": 0,
   "metadata": {},
   "outputs": [],
   "source": [
    "%load_ext autoreload"
   ]
  },
  {
   "cell_type": "code",
   "execution_count": 0,
   "metadata": {},
   "outputs": [],
   "source": [
    "%autoreload 2"
   ]
  },
  {
   "cell_type": "markdown",
   "metadata": {},
   "source": [
    "# Compile data"
   ]
  },
  {
   "cell_type": "markdown",
   "metadata": {},
   "source": [
    "## Plot definitions"
   ]
  },
  {
   "cell_type": "code",
   "execution_count": 0,
   "metadata": {},
   "outputs": [],
   "source": [
    "from pfs.ga.targeting.targets.dsph import *\n",
    "from pfs.ga.targeting.instrument import *\n",
    "from pfs.ga.targeting.diagram import CMD, CCD, FOV, FP, ColorAxis, MagnitudeAxis\n",
    "from pfs.ga.targeting.photometry import Photometry, Magnitude, Color\n",
    "from pfs.ga.targeting.projection import WcsProjection\n",
    "from pfs.ga.targeting.netflow import Netflow, Pointing"
   ]
  },
  {
   "cell_type": "code",
   "execution_count": 0,
   "metadata": {},
   "outputs": [],
   "source": [
    "galaxy = GALAXIES[GALAXY]\n",
    "hsc = galaxy.get_photometry()\n",
    "cmd = galaxy.get_cmd()\n",
    "ccd = galaxy.get_ccd()\n",
    "gaia_cmd = galaxy.get_cmd(Gaia)"
   ]
  },
  {
   "cell_type": "code",
   "execution_count": 0,
   "metadata": {},
   "outputs": [],
   "source": [
    "pointings = galaxy.get_pointings(SubaruPFI)\n",
    "pointing = pointings[0]\n",
    "pointings"
   ]
  },
  {
   "cell_type": "code",
   "execution_count": 0,
   "metadata": {},
   "outputs": [],
   "source": [
    "wcs = WcsProjection(pointing, proj='TAN')\n",
    "wfc = SubaruWFC(pointing)\n",
    "fov = FOV(projection=wcs)\n",
    "fp = FP(wfc)"
   ]
  },
  {
   "cell_type": "markdown",
   "metadata": {},
   "source": [
    "## Load isochrones"
   ]
  },
  {
   "cell_type": "code",
   "execution_count": 0,
   "metadata": {},
   "outputs": [],
   "source": [
    "from pfs.ga.isochrones.isogrid import IsoGrid"
   ]
  },
  {
   "cell_type": "code",
   "execution_count": 0,
   "metadata": {},
   "outputs": [],
   "source": [
    "iso = IsoGrid()\n",
    "iso.load(os.path.join(ISOCHRONES_PATH, 'isochrones.h5'))"
   ]
  },
  {
   "cell_type": "code",
   "execution_count": 0,
   "metadata": {},
   "outputs": [],
   "source": [
    "iso.values.keys()"
   ]
  },
  {
   "cell_type": "markdown",
   "metadata": {},
   "source": [
    "## Load probability map"
   ]
  },
  {
   "cell_type": "code",
   "execution_count": 0,
   "metadata": {},
   "outputs": [],
   "source": [
    "from pfs.ga.targeting import ProbabilityMap\n",
    "from pfs.ga.targeting.selection import ProbabilityCut, ProbabilitySampling"
   ]
  },
  {
   "cell_type": "code",
   "execution_count": 0,
   "metadata": {},
   "outputs": [],
   "source": [
    "pmap = ProbabilityMap(cmd.axes)\n",
    "pmap.load(PMAP_FILE)"
   ]
  },
  {
   "cell_type": "code",
   "execution_count": 0,
   "metadata": {},
   "outputs": [],
   "source": [
    "f, axs = plt.subplots(1, 2, figsize=(6, 4), dpi=120)\n",
    "\n",
    "l0 = cmd.plot_probability_map(axs[0], pmap, 0)\n",
    "axs[0].set_title(\"non-member\")\n",
    "\n",
    "l1 = cmd.plot_probability_map(axs[1], pmap, 1)\n",
    "axs[0].set_title(\"member\")\n",
    "\n",
    "f.tight_layout()"
   ]
  },
  {
   "cell_type": "code",
   "execution_count": 0,
   "metadata": {},
   "outputs": [],
   "source": [
    "# Define a cut based on probability\n",
    "\n",
    "probcut = ProbabilityCut(pmap, 1, np.log(0.001))"
   ]
  },
  {
   "cell_type": "markdown",
   "metadata": {},
   "source": [
    "## Load observations"
   ]
  },
  {
   "cell_type": "code",
   "execution_count": 0,
   "metadata": {},
   "outputs": [],
   "source": [
    "from pfs.ga.targeting.io import TextObservationReader\n",
    "from pfs.ga.targeting.util.astro import *"
   ]
  },
  {
   "cell_type": "code",
   "execution_count": 0,
   "metadata": {},
   "outputs": [],
   "source": [
    "obs = SubaruHSC.text_observation_reader().read(HSC_FILE)\n",
    "obs.data.shape"
   ]
  },
  {
   "cell_type": "code",
   "execution_count": 0,
   "metadata": {},
   "outputs": [],
   "source": [
    "obs.data.columns"
   ]
  },
  {
   "cell_type": "markdown",
   "metadata": {},
   "source": [
    "### Plot observations with color cuts"
   ]
  },
  {
   "cell_type": "code",
   "execution_count": 0,
   "metadata": {},
   "outputs": [],
   "source": [
    "cmap = plt.get_cmap('tab10')\n",
    "\n",
    "mask = galaxy.get_selection_mask(obs, nb=True)\n",
    "\n",
    "f = plt.figure(figsize=(8, 3), dpi=240)\n",
    "gs = f.add_gridspec(1, 3, width_ratios=[2, 2, 3], wspace=0.4)   \n",
    "\n",
    "ax = f.add_subplot(gs[0])\n",
    "cmd.plot_observation(ax, obs, c='lightgray')\n",
    "cmd.plot_observation(ax, obs, c='r', mask=mask, cmap=cmap)\n",
    "\n",
    "ax = f.add_subplot(gs[1])\n",
    "ccd.plot_observation(ax, obs, c='lightgray')\n",
    "ccd.plot_observation(ax, obs, c='r', mask=mask, cmap=cmap)\n",
    "\n",
    "ax = f.add_subplot(gs[2], projection=wcs.wcs)\n",
    "fov.plot_observation(ax, obs, c='lightgray')\n",
    "fov.plot_observation(ax, obs, c='r', mask=mask, cmap=cmap)\n",
    "\n",
    "f.suptitle('Stars selected based on color cuts.')"
   ]
  },
  {
   "cell_type": "markdown",
   "metadata": {},
   "source": [
    "## Get GAIA data"
   ]
  },
  {
   "cell_type": "code",
   "execution_count": 0,
   "metadata": {},
   "outputs": [],
   "source": [
    "from pfs.ga.targeting.io import Hdf5ObservationReader, Hdf5ObservationWriter, GaiaReader"
   ]
  },
  {
   "cell_type": "code",
   "execution_count": 0,
   "metadata": {},
   "outputs": [],
   "source": [
    "if os.path.isfile(GAIA_FILE):\n",
    "    print('GAIA data file found, read from local.')\n",
    "    r = Hdf5ObservationReader()\n",
    "    gaia = r.read(GAIA_FILE, GALAXY, 'gaia')\n",
    "    gaia.frame = 'icrs'\n",
    "    gaia.equinox = 'J2015'\n",
    "    print(gaia.data.shape)\n",
    "else:\n",
    "    print('GAIA data file not found, running query against archive.')\n",
    "    r = GaiaReader()\n",
    "    gaia = r.cone_search(galaxy.pos, galaxy.rad)\n",
    "    print(gaia.data.shape)\n",
    "\n",
    "    w = Hdf5ObservationWriter()\n",
    "    w.write(gaia, GAIA_FILE, GALAXY, 'gaia')"
   ]
  },
  {
   "cell_type": "code",
   "execution_count": 0,
   "metadata": {},
   "outputs": [],
   "source": [
    "gaia.data.columns"
   ]
  },
  {
   "cell_type": "code",
   "execution_count": 0,
   "metadata": {},
   "outputs": [],
   "source": [
    "# Cross-match HSC with GAIA\n",
    "gaia_idx, separation = obs.cross_match(gaia)\n",
    "print('median separation', np.median(separation.arcsec))\n",
    "hsc_gaia_mask = (separation.arcsec < GAIA_CROSSMATCH_RADIUS)\n",
    "print(hsc_gaia_mask.sum())"
   ]
  },
  {
   "cell_type": "code",
   "execution_count": 0,
   "metadata": {},
   "outputs": [],
   "source": [
    "# Cross-match HSC with GAIA\n",
    "hsc_idx, separation = gaia.cross_match(obs)\n",
    "print('median separation', np.median(separation.arcsec))\n",
    "gaia_hsc_mask = (separation.arcsec < GAIA_CROSSMATCH_RADIUS)\n",
    "print(gaia_hsc_mask.sum())"
   ]
  },
  {
   "cell_type": "code",
   "execution_count": 0,
   "metadata": {},
   "outputs": [],
   "source": [
    "cmap = plt.get_cmap('tab10')\n",
    "\n",
    "f = plt.figure(figsize=(6, 3), dpi=240)\n",
    "gs = f.add_gridspec(1, 2, width_ratios=[2, 3], wspace=0.4)   \n",
    "\n",
    "ax = f.add_subplot(gs[0])\n",
    "gaia_cmd.plot_observation(ax, gaia, c='lightgray')\n",
    "gaia_cmd.plot_observation(ax, gaia, c='r', mask=gaia_hsc_mask, cmap=cmap)\n",
    "\n",
    "ax = f.add_subplot(gs[1], projection=wcs.wcs)\n",
    "fov.plot_observation(ax, gaia, c='lightgray')\n",
    "fov.plot_observation(ax, gaia, c='r', mask=gaia_hsc_mask, cmap=cmap)\n",
    "\n",
    "f.suptitle('GAIA stars with HSC counterparts within 1\"')"
   ]
  },
  {
   "cell_type": "code",
   "execution_count": 0,
   "metadata": {},
   "outputs": [],
   "source": [
    "cmap = plt.get_cmap('viridis')\n",
    "\n",
    "f = plt.figure(figsize=(8, 3), dpi=240)\n",
    "gs = f.add_gridspec(1, 3, width_ratios=[2, 2, 3], wspace=0.4)   \n",
    "\n",
    "ax = f.add_subplot(gs[0])\n",
    "cmd.plot_observation(ax, obs, c='lightgray')\n",
    "cmd.plot_observation(ax, obs, c='r', mask=hsc_gaia_mask, cmap=cmap)\n",
    "\n",
    "ax = f.add_subplot(gs[1])\n",
    "ccd.plot_observation(ax, obs, c='lightgray')\n",
    "ccd.plot_observation(ax, obs, c='r', mask=hsc_gaia_mask, cmap=cmap)\n",
    "\n",
    "ax = f.add_subplot(gs[2], projection=wcs.wcs)\n",
    "fov.plot_observation(ax, obs, c='lightgray')\n",
    "fov.plot_observation(ax, obs, c='r', mask=hsc_gaia_mask, cmap=cmap)\n",
    "\n",
    "f.suptitle('HSC stars with GAIA counterparts within 1\"')"
   ]
  },
  {
   "cell_type": "markdown",
   "metadata": {},
   "source": [
    "## Merge Gaia proper motions into HSC catalog"
   ]
  },
  {
   "cell_type": "code",
   "execution_count": 0,
   "metadata": {},
   "outputs": [],
   "source": [
    "# Cross-match HSC with GAIA\n",
    "hsc_gaia_idx, separation = obs.cross_match(gaia)\n",
    "print('median separation', np.median(separation.arcsec))\n",
    "hsc_gaia_mask = (separation.arcsec < 1)\n",
    "\n",
    "hsc_gaia_mask.shape, hsc_gaia_mask.sum()"
   ]
  },
  {
   "cell_type": "code",
   "execution_count": 0,
   "metadata": {},
   "outputs": [],
   "source": [
    "gaia.data.columns"
   ]
  },
  {
   "cell_type": "code",
   "execution_count": 0,
   "metadata": {},
   "outputs": [],
   "source": [
    "columns = ['parallax', 'pm', 'pmdec', 'pmra', 'err_parallax', 'err_pmdec', 'err_pmra']\n",
    "obs.merge(gaia, hsc_gaia_idx, columns=columns, mask=hsc_gaia_mask)"
   ]
  },
  {
   "cell_type": "code",
   "execution_count": 0,
   "metadata": {},
   "outputs": [],
   "source": [
    "obs.data.columns"
   ]
  },
  {
   "cell_type": "markdown",
   "metadata": {},
   "source": [
    "## Assign probabilities"
   ]
  },
  {
   "cell_type": "code",
   "execution_count": 0,
   "metadata": {},
   "outputs": [],
   "source": [
    "# Hard cuts on magnitudes\n",
    "\n",
    "selection = galaxy.get_selection_mask(obs, nb=True, probcut=probcut)\n",
    "obs.data.shape, selection.size, selection.sum()"
   ]
  },
  {
   "cell_type": "code",
   "execution_count": 0,
   "metadata": {},
   "outputs": [],
   "source": [
    "# Look up membership probability\n",
    "\n",
    "galaxy.assign_probabilities(obs, pmap, mask=selection)\n",
    "(~np.isnan(obs.data['p_member'])).sum()"
   ]
  },
  {
   "cell_type": "code",
   "execution_count": 0,
   "metadata": {},
   "outputs": [],
   "source": [
    "cmap = plt.get_cmap('viridis')\n",
    "\n",
    "mask = selection & ~np.isnan(obs.data['p_member'])\n",
    "\n",
    "f = plt.figure(figsize=(8, 3), dpi=240)\n",
    "gs = f.add_gridspec(1, 3, width_ratios=[2, 2, 4], wspace=0.4)   \n",
    "\n",
    "ax = f.add_subplot(gs[0])\n",
    "cmd.plot_observation(ax, obs, c='lightgray')\n",
    "cmd.plot_observation(ax, obs, c=obs.data['p_member'][mask], mask=mask, cmap=cmap)\n",
    "\n",
    "ax = f.add_subplot(gs[1])\n",
    "ccd.plot_observation(ax, obs, c='lightgray')\n",
    "ccd.plot_observation(ax, obs, c=obs.data['p_member'][mask], mask=mask, cmap=cmap)\n",
    "\n",
    "ax = f.add_subplot(gs[2], projection=wcs.wcs)\n",
    "fov.plot_observation(ax, obs, c='lightgray')\n",
    "l = fov.plot_observation(ax, obs, c=obs.data['p_member'][mask], mask=mask, cmap=cmap)\n",
    "\n",
    "f.colorbar(l, ax=ax, label='membership probability')\n",
    "\n",
    "f.suptitle('Stars selected by color cuts, colored by membersphip probability')"
   ]
  },
  {
   "cell_type": "code",
   "execution_count": 0,
   "metadata": {},
   "outputs": [],
   "source": [
    "hist, bins = np.histogram(obs.data['p_member'][mask])\n",
    "plt.step(0.5 * (bins[1:] + bins[:-1]), hist, where='mid')\n",
    "plt.xlabel('p')\n",
    "plt.ylabel('frequency')\n",
    "plt.title('Distribution of membership probability')"
   ]
  },
  {
   "cell_type": "markdown",
   "metadata": {},
   "source": [
    "## Assign priorities"
   ]
  },
  {
   "cell_type": "code",
   "execution_count": 0,
   "metadata": {},
   "outputs": [],
   "source": [
    "galaxy.assign_priorities(obs, mask=None) # , mask=selection)\n",
    "obs.data['priority'].unique()"
   ]
  },
  {
   "cell_type": "code",
   "execution_count": 0,
   "metadata": {},
   "outputs": [],
   "source": [
    "cmap = plt.get_cmap('tab10')\n",
    "\n",
    "obs_mask = obs.data['priority'] >= 0\n",
    "\n",
    "f = plt.figure(figsize=(8, 3), dpi=240)\n",
    "gs = f.add_gridspec(1, 3, width_ratios=[2, 2, 4], wspace=0.4)   \n",
    "\n",
    "ax = f.add_subplot(gs[0])\n",
    "cmd.plot_observation(ax, obs, c='lightgray')\n",
    "cmd.plot_observation(ax, obs, c=obs.data['priority'][obs_mask], mask=obs_mask, cmap=cmap)\n",
    "\n",
    "ax = f.add_subplot(gs[1])\n",
    "ccd.plot_observation(ax, obs, c='lightgray')\n",
    "ccd.plot_observation(ax, obs, c=obs.data['priority'][obs_mask], mask=obs_mask, cmap=cmap)\n",
    "\n",
    "ax = f.add_subplot(gs[2], projection=wcs.wcs)\n",
    "fov.plot_observation(ax, obs, c='lightgray')\n",
    "l = fov.plot_observation(ax, obs, c=obs.data['priority'][obs_mask], mask=obs_mask, cmap=cmap)\n",
    "\n",
    "f.colorbar(l, ax=ax, label='target priority')\n",
    "\n",
    "f.suptitle('Priority class')"
   ]
  },
  {
   "cell_type": "code",
   "execution_count": 0,
   "metadata": {},
   "outputs": [],
   "source": [
    "obs_mask.size, obs_mask.sum()"
   ]
  },
  {
   "cell_type": "code",
   "execution_count": 0,
   "metadata": {},
   "outputs": [],
   "source": [
    "# Plot distribution of priorities\n",
    "\n",
    "f, ax = plt.subplots(1, 1, figsize=(3.5, 2.5), dpi=240)\n",
    "\n",
    "hist = np.bincount(obs.data['priority'][obs_mask])\n",
    "ax.bar(np.arange(hist.size - 1), hist[:-1])\n",
    "\n",
    "# hist = np.bincount(obs.data['priority'][obs_assigned & (obs.data['priority'] >= 0) & (obs.data['priority'] < 9)])\n",
    "# plt.bar(np.arange(hist.size), hist, color='r')\n",
    "\n",
    "\n",
    "ax.set_title('Priority class number distribution')\n",
    "ax.set_xlabel('Priority class')\n",
    "ax.set_ylabel('Target count')\n"
   ]
  },
  {
   "cell_type": "code",
   "execution_count": 0,
   "metadata": {},
   "outputs": [],
   "source": [
    "# Plot distribution of required visits\n",
    "\n",
    "f, ax = plt.subplots(1, 1, figsize=(3.5, 2.5), dpi=240)\n",
    "\n",
    "hist = np.bincount((np.ceil(obs.data['exp_time'][obs_mask & (obs.data['priority'][obs_mask] < 9)] / 1800.0)).astype(int))\n",
    "ax.bar(np.arange(hist.size), hist)\n",
    "\n",
    "# hist = np.bincount(obs.data['priority'][obs_assigned & (obs.data['priority'] >= 0) & (obs.data['priority'] < 9)])\n",
    "# plt.bar(np.arange(hist.size), hist, color='r')\n",
    "\n",
    "\n",
    "ax.set_title('Distribution of required visit (t_exp = 1800 s)')\n",
    "ax.set_xlabel('Number of required visits')\n",
    "ax.set_ylabel('Target count')\n"
   ]
  },
  {
   "cell_type": "markdown",
   "metadata": {},
   "source": [
    "## Load sky and flux standards"
   ]
  },
  {
   "cell_type": "code",
   "execution_count": 0,
   "metadata": {},
   "outputs": [],
   "source": [
    "from pfs.ga.targeting.io import FeatherSkyReader, FeatherFluxStdReader"
   ]
  },
  {
   "cell_type": "code",
   "execution_count": 0,
   "metadata": {},
   "outputs": [],
   "source": [
    "r = FeatherSkyReader()\n",
    "sky = r.read(SKY_FILE)\n",
    "sky.data.shape"
   ]
  },
  {
   "cell_type": "code",
   "execution_count": 0,
   "metadata": {},
   "outputs": [],
   "source": [
    "r = FeatherFluxStdReader()\n",
    "fluxstd = r.read(FLUXSTD_FILE)\n",
    "fluxstd.data.shape"
   ]
  },
  {
   "cell_type": "code",
   "execution_count": 0,
   "metadata": {},
   "outputs": [],
   "source": [
    "cmap = plt.get_cmap('tab10')\n",
    "\n",
    "f = plt.figure(figsize=(3, 3), dpi=240)\n",
    "gs = f.add_gridspec(1, 1)\n",
    "\n",
    "ax = f.add_subplot(gs[0], projection=wcs.wcs)\n",
    "fov.plot_observation(ax, obs, c='b')\n",
    "fov.plot_observation(ax, sky, c='lightgray')\n",
    "\n",
    "ax.set_title(f'Sky positions (count={len(sky)})')\n",
    "\n",
    "# f.tight_layout()"
   ]
  },
  {
   "cell_type": "code",
   "execution_count": 0,
   "metadata": {},
   "outputs": [],
   "source": [
    "cmap = plt.get_cmap('tab10')\n",
    "\n",
    "f = plt.figure(figsize=(3, 3), dpi=240)\n",
    "gs = f.add_gridspec(1, 1)\n",
    "\n",
    "ax = f.add_subplot(gs[0], projection=wcs.wcs)\n",
    "fov.plot_observation(ax, obs, c='lightgray')\n",
    "fov.plot_observation(ax, fluxstd, c='r')\n",
    "\n",
    "ax.set_title(f'Flux standards, count={len(fluxstd)}')\n",
    "\n",
    "# f.tight_layout()"
   ]
  },
  {
   "cell_type": "markdown",
   "metadata": {},
   "source": [
    "# Define the netflow problem"
   ]
  },
  {
   "cell_type": "code",
   "execution_count": 0,
   "metadata": {},
   "outputs": [],
   "source": [
    "# r = Angle(50, u.arcmin)\n",
    "\n",
    "# Filter flux standards around pointing\n",
    "# obs_mask = galaxy.get_selection_mask(obs, nb=True)\n",
    "# obs_mask &= obs.cone_search(p.pos, r)\n",
    "# obs_mask[obs_mask] &= (obs.data['priority'][obs_mask] >= 0) & \\\n",
    "#                       (obs.data['priority'][obs_mask] <= 9) & \\\n",
    "#                       ~np.isnan(obs.data['exp_time'][obs_mask])\n",
    "\n",
    "print('obs_mask', obs_mask.size, obs_mask.sum())"
   ]
  },
  {
   "cell_type": "code",
   "execution_count": 0,
   "metadata": {},
   "outputs": [],
   "source": [
    "# Reduce number of sky fibers\n",
    "sky_mask = np.full(sky.shape, True)\n",
    "# sky_mask = sky.cone_search(p.pos, r)\n",
    "# sky_mask &= sky.random_sample(0.3)\n",
    "\n",
    "print('sky_mask', sky_mask.size, sky_mask.sum())"
   ]
  },
  {
   "cell_type": "code",
   "execution_count": 0,
   "metadata": {},
   "outputs": [],
   "source": [
    "# Filter flux standards around pointing\n",
    "fluxstd_mask = np.full(fluxstd.shape, True)\n",
    "# fluxstd_mask = fluxstd.cone_search(p.pos, r)\n",
    "\n",
    "print('fluxstd_mask', fluxstd_mask.size, fluxstd_mask.sum())"
   ]
  },
  {
   "cell_type": "code",
   "execution_count": 0,
   "metadata": {},
   "outputs": [],
   "source": [
    "cmap = plt.get_cmap('tab10')\n",
    "\n",
    "f = plt.figure(figsize=(3, 3), dpi=240)\n",
    "gs = f.add_gridspec(1, 1)\n",
    "\n",
    "ax = f.add_subplot(gs[0], projection=wcs.wcs)\n",
    "# fov.plot_observation(ax, obs, c='lightgray')\n",
    "fov.plot_observation(ax, obs, c='b', mask=obs_mask)\n",
    "fov.plot_observation(ax, sky, c='lightgray', mask=sky_mask)\n",
    "fov.plot_observation(ax, fluxstd, c='r', mask=fluxstd_mask)\n",
    "\n",
    "for p in galaxy.get_pointings(SubaruPFI)[:]:\n",
    "    SubaruPFI(SubaruWFC(p)).plot_focal_plane(ax, fov, corners=True)\n",
    "\n",
    "# f.tight_layout()"
   ]
  },
  {
   "cell_type": "code",
   "execution_count": 0,
   "metadata": {},
   "outputs": [],
   "source": [
    "ncobras = SubaruPFI().bench.cobras.nCobras\n",
    "ncobras"
   ]
  },
  {
   "cell_type": "code",
   "execution_count": 0,
   "metadata": {},
   "outputs": [],
   "source": [
    "obs.data.columns"
   ]
  },
  {
   "cell_type": "code",
   "execution_count": 0,
   "metadata": {},
   "outputs": [],
   "source": [
    "# Construct the netflow problem\n",
    "\n",
    "gurobi_options = dict(\n",
    "    seed=0,                 # random seed\n",
    "    presolve=2,             # agressiveness of presolve which tries to eliminate variables from the LP problem\n",
    "    method=3,               # 3 means concurrent, 4 means deterministic concurrent\n",
    "    degenmoves=0,           # degenerate simplex moves, set to 0 to prevent too much time to be spent on trying to improve the current solution\n",
    "    heuristics=0.5,         # how much of the time to spend by performing heuristics\n",
    "    mipfocus=1,             # mipfocus=1 is balanced toward finding more feasible solutions\n",
    "                            # mipfocus=2 is balanced toward proving that the current solution is the best\n",
    "                            # mipfocus=3 is to be used when the objection bound is moving very slowly\n",
    "    mipgap=0.01,            # relative stopping criterion for bounds on the objective\n",
    "    LogToConsole=1,         # \n",
    "    timelimit=300           # in sec\n",
    ")\n",
    "\n",
    "target_classes = {\n",
    "    'sky': dict(\n",
    "        prefix = 'sky',\n",
    "        min_targets = 240,\n",
    "        max_targets = 320,\n",
    "        non_observation_cost = 0,\n",
    "    ),\n",
    "    'cal': dict(\n",
    "        prefix = 'cal',\n",
    "        min_targets = 40,\n",
    "        max_targets = 240,\n",
    "        non_observation_cost = 0,\n",
    "        calib = True,\n",
    "    ),\n",
    "}\n",
    "    \n",
    "for i in range(10):\n",
    "    target_classes[f'sci_P{i}'] = dict(\n",
    "        prefix = 'sci',\n",
    "        min_targets = None,\n",
    "        max_targets = None,\n",
    "        non_observation_cost = max(20 - 2 * i, 1),\n",
    "        partial_observation_cost = 1e5,\n",
    "    )\n",
    "\n",
    "target_classes[f'sci_P0']['non_observation_cost'] = 1000\n",
    "target_classes[f'sci_P1']['non_observation_cost'] = 500\n",
    "target_classes[f'sci_P2']['non_observation_cost'] = 200\n",
    "target_classes[f'sci_P3']['non_observation_cost'] = 100\n",
    "target_classes[f'sci_P4']['non_observation_cost'] = 100\n",
    "target_classes[f'sci_P5']['non_observation_cost'] = 100\n",
    "target_classes[f'sci_P6']['non_observation_cost'] = 100\n",
    "target_classes[f'sci_P7']['non_observation_cost'] = 50\n",
    "target_classes[f'sci_P8']['non_observation_cost'] = 10\n",
    "target_classes[f'sci_P9']['non_observation_cost'] = 0\n",
    "    \n",
    "########\n",
    "    \n",
    "cobra_groups = {\n",
    "        'location': dict(\n",
    "            groups = np.random.randint(4, size=ncobras),\n",
    "            target_classes = [ 'sky' ],\n",
    "            min_targets = 40,\n",
    "            max_targets = 80,\n",
    "            non_observation_cost = 10,\n",
    "        ),\n",
    "        'instrument': dict(\n",
    "            groups = np.random.randint(4, size=ncobras),\n",
    "            target_classes = [ 'sky' ],\n",
    "            min_targets = 10,\n",
    "            max_targets = 25,\n",
    "            non_observation_cost = 10,\n",
    "        )\n",
    "    }\n",
    "\n",
    "#######\n",
    "\n",
    "netflow_options = dict(\n",
    "    # Add a penalty if the target is too close to a black dot\n",
    "    black_dot_penalty = None,\n",
    "    # black_dot_penalty = lambda dist: 0,\n",
    "\n",
    "    fiber_non_allocation_cost = 1e5,\n",
    "\n",
    "    collision_distance = 2.0,\n",
    "    elbow_collisions = True,\n",
    "    # forbidden_targets = [\n",
    "    #     43218108431\n",
    "    # ],\n",
    "    # forbidden_pairs = [\n",
    "    #     [43486543901, 43218108431],\n",
    "    # ],\n",
    "\n",
    "    target_classes = target_classes,\n",
    "    cobra_groups = cobra_groups,\n",
    "\n",
    "    # time_budgets = {\n",
    "    #     'science': dict(\n",
    "    #         target_classes = [ 'sci_P0', 'sci_P1', 'sci_p2' ],\n",
    "    #         budget = 5  # hr\n",
    "    #     )\n",
    "    # },\n",
    "\n",
    "    # Do not penalize cobra moves with respect to cobra center\n",
    "    cobra_move_cost = lambda dist: 0,\n",
    "\n",
    "    num_reserved_fibers = 0,\n",
    "\n",
    "    # This will only be used when netflow is rewritten to step-by-step fiber assignment\n",
    "    # constrain_already_observed = False,\n",
    "\n",
    "    # Allow more visits than minimally required\n",
    "    allow_more_visits = True,\n",
    "\n",
    "    epoch = 2016, # all catalogs must match\n",
    "    ignore_proper_motion = False,\n",
    "\n",
    "    # FPI configuration\n",
    "    fiberids_path = '/home/dobos/project/Subaru-PFS/pfs_utils/data/fiberids'\n",
    ")\n",
    "\n",
    "debug_options = dict(\n",
    "    ignoreEndpointCollisions = False,\n",
    "    ignoreElbowCollisions = False,\n",
    "    ignoreForbiddenPairs = False,\n",
    "    ignoreForbiddenSingles = False,\n",
    "    ignoreCalibTargetClassMinimum = False,\n",
    "    ignoreCalibTargetClassMaximum = False,\n",
    "    ignoreScienceTargetClassMinimum = False,\n",
    "    ignoreScienceTargetClassMaximum = False,\n",
    "    ignoreTimeBudget = False,\n",
    "    ignoreCobraGroupMinimum = False,\n",
    "    ignoreCobraGroupMaximum = False,\n",
    "    ignoreReservedFibers = False,\n",
    ")\n",
    "\n",
    "pointings = []\n",
    "exp_time = 12 / NVISITS * 900\n",
    "\n",
    "# Observation time is the next day from now at midnight\n",
    "obs_time = datetime.now() + pd.Timedelta(days=1)\n",
    "obs_time = obs_time.replace(hour=0, minute=0, second=0, microsecond=0)\n",
    "obs_time = Time(obs_time)\n",
    "print('obs_time', obs_time)\n",
    "\n",
    "for p in galaxy.get_pointings(SubaruPFI)[:]:\n",
    "    # Need to convert targeting.pointing to netflow.pointing\n",
    "    pointings.append(Pointing(\n",
    "        ra=p.ra,\n",
    "        dec=p.dec,\n",
    "        posang=p.posang,\n",
    "        obs_time=Time(datetime.now()),\n",
    "        exp_time = exp_time,\n",
    "        nvisits=NVISITS\n",
    "    ))\n",
    "\n",
    "nf = Netflow(f'{GALAXY}', pointings, workdir=OUTPUT_PATH,\n",
    "             netflow_options=netflow_options,\n",
    "             solver_options=gurobi_options,\n",
    "             debug_options=debug_options)\n",
    "\n",
    "# nf.append_science_targets(obs, mask=(obs.data['priority'] <= 9), exp_time=visits * p.exp_time)    ## All targets with priority\n",
    "# nf.append_science_targets(obs, mask=(obs.data['priority'] <= 9))    ## All targets with priority\n",
    "# nf.append_science_targets(obs, mask=obs_mask)    ## Only selected targets with priority\n",
    "# nf.append_science_targets(obs, mask=obs_mask, exp_time=visits * p.exp_time)\n",
    "# nf.append_science_targets(obs, mask=(obs.data['priority'] <= 9), exp_time=visits * p.exp_time)\n",
    "\n",
    "nf.append_science_targets(obs, mask=obs_mask)\n",
    "nf.append_sky_targets(sky, mask=sky_mask)\n",
    "nf.append_fluxstd_targets(fluxstd, mask=fluxstd_mask)\n",
    "\n",
    "len(nf.targets)"
   ]
  },
  {
   "cell_type": "code",
   "execution_count": 0,
   "metadata": {},
   "outputs": [],
   "source": [
    "nf.targets.columns"
   ]
  },
  {
   "cell_type": "code",
   "execution_count": 0,
   "metadata": {},
   "outputs": [],
   "source": [
    "import cProfile\n",
    "profiler = cProfile.Profile()\n",
    "profiler.enable()"
   ]
  },
  {
   "cell_type": "code",
   "execution_count": 0,
   "metadata": {},
   "outputs": [],
   "source": [
    "nf.build()"
   ]
  },
  {
   "cell_type": "code",
   "execution_count": 0,
   "metadata": {},
   "outputs": [],
   "source": [
    "profiler.disable()"
   ]
  },
  {
   "cell_type": "code",
   "execution_count": 0,
   "metadata": {},
   "outputs": [],
   "source": [
    "profiler.print_stats(sort='cumtime')"
   ]
  },
  {
   "cell_type": "code",
   "execution_count": 0,
   "metadata": {},
   "outputs": [],
   "source": [
    "nf.save_problem()"
   ]
  },
  {
   "cell_type": "code",
   "execution_count": 0,
   "metadata": {},
   "outputs": [],
   "source": [
    "nf._Netflow__solver_options['timelimit'] = 900"
   ]
  },
  {
   "cell_type": "code",
   "execution_count": 0,
   "metadata": {},
   "outputs": [],
   "source": [
    "nf.solve()"
   ]
  },
  {
   "cell_type": "code",
   "execution_count": 0,
   "metadata": {},
   "outputs": [],
   "source": [
    "nf.save_solution()"
   ]
  },
  {
   "cell_type": "markdown",
   "metadata": {},
   "source": [
    "### Extract results"
   ]
  },
  {
   "cell_type": "code",
   "execution_count": 0,
   "metadata": {},
   "outputs": [],
   "source": [
    "assignments = nf.get_target_assignments(include_target_columns=True)\n",
    "assignments"
   ]
  },
  {
   "cell_type": "code",
   "execution_count": 0,
   "metadata": {},
   "outputs": [],
   "source": [
    "# Plot focal plane coordinates\n",
    "\n",
    "f, axs = plt.subplots(1, 2, figsize=(6, 3), dpi=240)\n",
    "\n",
    "axs[0].plot(assignments['fp_x'], assignments['fp_y'], 'o', ms=1, markeredgewidth=0)\n",
    "axs[0].plot(assignments['fp_x'][100], assignments['fp_y'][100], 'or', ms=1, markeredgewidth=0)\n",
    "axs[0].set_aspect('equal', adjustable='datalim')\n",
    "\n",
    "axs[1].plot(assignments['RA'], assignments['Dec'], 'o', ms=1, markeredgewidth=0)\n",
    "axs[1].plot(assignments['RA'][100], assignments['Dec'][100], 'or', ms=1, markeredgewidth=0)\n",
    "# axs[1].set_aspect('equal', adjustable='datalim')"
   ]
  },
  {
   "cell_type": "code",
   "execution_count": 0,
   "metadata": {},
   "outputs": [],
   "source": [
    "# Number of unique calibration targets for each visit\n",
    "assignments[assignments['prefix'] == 'cal'].groupby('visit_idx')['targetid'].nunique()"
   ]
  },
  {
   "cell_type": "code",
   "execution_count": 0,
   "metadata": {},
   "outputs": [],
   "source": [
    "# Number of unique sky positions for each visit\n",
    "assignments[assignments['prefix'] == 'sky'].groupby('visit_idx')['targetid'].nunique()"
   ]
  },
  {
   "cell_type": "code",
   "execution_count": 0,
   "metadata": {},
   "outputs": [],
   "source": [
    "# Number of observed unique science targets for each visit\n",
    "assignments[assignments['prefix'] == 'sci'].groupby('visit_idx')['targetid'].nunique()"
   ]
  },
  {
   "cell_type": "code",
   "execution_count": 0,
   "metadata": {},
   "outputs": [],
   "source": [
    "# Total number of unique science targets observed\n",
    "assignments[assignments['prefix'] == 'sci']['targetid'].nunique()"
   ]
  },
  {
   "cell_type": "code",
   "execution_count": 0,
   "metadata": {},
   "outputs": [],
   "source": [
    "summary = nf.get_target_assignment_summary()"
   ]
  },
  {
   "cell_type": "code",
   "execution_count": 0,
   "metadata": {},
   "outputs": [],
   "source": [
    "# All targets observed at least once\n",
    "summary[summary['num_visits'] > 0]"
   ]
  },
  {
   "cell_type": "code",
   "execution_count": 0,
   "metadata": {},
   "outputs": [],
   "source": [
    "# Targets that are partially observed\n",
    "summary[(summary['num_visits'] < summary['req_visits']) & (summary['num_visits'] > 0)]"
   ]
  },
  {
   "cell_type": "code",
   "execution_count": 0,
   "metadata": {},
   "outputs": [],
   "source": [
    "# Science targets that are observed longer than the required number of visits\n",
    "summary[(summary['prefix'] == 'sci') & (summary['num_visits'] > summary['req_visits'])]"
   ]
  },
  {
   "cell_type": "code",
   "execution_count": 0,
   "metadata": {},
   "outputs": [],
   "source": [
    "# Number of unique targets per priority class\n",
    "summary[summary['num_visits'] > 0].groupby('class')['targetid'].nunique()"
   ]
  },
  {
   "cell_type": "code",
   "execution_count": 0,
   "metadata": {},
   "outputs": [],
   "source": [
    "# Number of missed science targets per priority class\n",
    "summary[(summary['prefix'] == 'sci') & (summary['num_visits'] == 0)].groupby('class')['targetid'].nunique()"
   ]
  },
  {
   "cell_type": "code",
   "execution_count": 0,
   "metadata": {},
   "outputs": [],
   "source": [
    "# Number of partially observed science targets per priority class\n",
    "summary[(summary['prefix'] == 'sci') & \n",
    "        (summary['num_visits'] < summary['req_visits']) & \n",
    "        (summary['num_visits'] > 0)].groupby('class')['targetid'].nunique()"
   ]
  },
  {
   "cell_type": "code",
   "execution_count": 0,
   "metadata": {},
   "outputs": [],
   "source": [
    "cobra_assignments = nf.get_cobra_assignments()\n",
    "cobra_assignments"
   ]
  },
  {
   "cell_type": "code",
   "execution_count": 0,
   "metadata": {},
   "outputs": [],
   "source": [
    "# Number of unassigned fibers\n",
    "print('Unassigned fibers:')\n",
    "for i, a in enumerate(cobra_assignments):\n",
    "    print(i, (a == -1).sum())"
   ]
  },
  {
   "cell_type": "code",
   "execution_count": 0,
   "metadata": {},
   "outputs": [],
   "source": [
    "# Fibers that have moved between targets\n",
    "# Note: when scheduling multiple pointings, the fiber assignment is done for each pointing separately\n",
    "cobra_moved = np.any(np.diff(np.stack(cobra_assignments, axis=-1), axis=-1) != 0, axis=-1)\n",
    "cobra_moved, cobra_moved.sum(), np.where(cobra_moved)"
   ]
  },
  {
   "cell_type": "code",
   "execution_count": 0,
   "metadata": {},
   "outputs": [],
   "source": [
    "# total # of science targets assigned\n",
    "\n",
    "obs_assigments, obs_fiberids = nf.get_catalog_assignments_masks(obs)\n",
    "\n",
    "for i, a in enumerate(obs_assigments):\n",
    "    print(i, a.sum())"
   ]
  },
  {
   "cell_type": "code",
   "execution_count": 0,
   "metadata": {},
   "outputs": [],
   "source": [
    "# total # of sky fibers assigned\n",
    "\n",
    "sky_assigments, sky_fiberids = nf.get_catalog_assignments_masks(sky)\n",
    "\n",
    "for i, a in enumerate(sky_assigments):\n",
    "    print(i, a.sum())"
   ]
  },
  {
   "cell_type": "code",
   "execution_count": 0,
   "metadata": {},
   "outputs": [],
   "source": [
    "# total # of calib targets assigned\n",
    "\n",
    "fluxstd_assigments, fluxstd_fiberids = nf.get_catalog_assignments_masks(fluxstd)\n",
    "\n",
    "for i, a in enumerate(fluxstd_assigments):\n",
    "    print(i, a.sum())"
   ]
  },
  {
   "cell_type": "markdown",
   "metadata": {},
   "source": [
    "# Look at the ILP constraints to find any issues"
   ]
  },
  {
   "cell_type": "code",
   "execution_count": 0,
   "metadata": {},
   "outputs": [],
   "source": [
    "model = nf._Netflow__problem._GurobiProblem__model\n",
    "constrs = model.getConstrs()\n",
    "len(constrs)"
   ]
  },
  {
   "cell_type": "code",
   "execution_count": 0,
   "metadata": {},
   "outputs": [],
   "source": [
    "len(nf._Netflow__constraints.all)"
   ]
  },
  {
   "cell_type": "code",
   "execution_count": 0,
   "metadata": {},
   "outputs": [],
   "source": [
    "q = 0\n",
    "for i in range(len(constrs)):\n",
    "    name = constrs[i].ConstrName\n",
    "    sense = constrs[i].Sense\n",
    "    slack = constrs[i].Slack\n",
    "    rhs = constrs[i].RHS\n",
    "\n",
    "    #if slack == 0.0 and rhs > 1:\n",
    "    if sense != '=' and rhs > 1:\n",
    "        print(name, sense, rhs, slack)\n",
    "\n",
    "        q += 1\n",
    "        if q == 300:\n",
    "            break"
   ]
  },
  {
   "cell_type": "code",
   "execution_count": 0,
   "metadata": {},
   "outputs": [],
   "source": [
    "# Edges adding significant terms to the cost\n",
    "# There shouldn't be any target sinks here, cause that would mean\n",
    "# partially observed targets which we want to avoid\n",
    "\n",
    "cost = nf._Netflow__problem._GurobiProblem__cost\n",
    "n = cost.size()\n",
    "\n",
    "print('total cost', cost.getValue())\n",
    "\n",
    "for i in range(cost.size()):\n",
    "    var = cost.getVar(i)\n",
    "    name = var.VarName\n",
    "    value = var.X\n",
    "    coeff = cost.getCoeff(i)\n",
    "    if value != 0 and coeff > 0:\n",
    "        print(name, value, coeff, value * coeff)"
   ]
  },
  {
   "cell_type": "markdown",
   "metadata": {},
   "source": [
    "# Get assignments"
   ]
  },
  {
   "cell_type": "code",
   "execution_count": 0,
   "metadata": {},
   "outputs": [],
   "source": [
    "# Get assignments\n",
    "assignment_masks, _ = nf.get_catalog_assignments_masks(obs)\n",
    "obs_assigned = np.any(np.stack(assignment_masks, axis=-1), axis=-1)"
   ]
  },
  {
   "cell_type": "code",
   "execution_count": 0,
   "metadata": {},
   "outputs": [],
   "source": [
    "# Plot distribution of priorities\n",
    "\n",
    "f, ax = plt.subplots(1, 1, figsize=(3.5, 2.5), dpi=240)\n",
    "\n",
    "hist = np.bincount(obs.data['priority'][obs_mask])\n",
    "ax.bar(np.arange(hist.size - 1), hist[:-1])\n",
    "\n",
    "hist = np.bincount(obs.data['priority'][obs_assigned & (obs.data['priority'] >= 0) & (obs.data['priority'] < 9)])\n",
    "ax.bar(np.arange(hist.size), hist, color='r')\n",
    "\n",
    "\n",
    "ax.set_title('Priority class number distribution')\n",
    "ax.set_xlabel('Priority class')\n",
    "ax.set_ylabel('Target count')\n"
   ]
  },
  {
   "cell_type": "code",
   "execution_count": 0,
   "metadata": {},
   "outputs": [],
   "source": [
    "# Plot distribution of required visits\n",
    "\n",
    "f, ax = plt.subplots(1, 1, figsize=(3.5, 2.5), dpi=240)\n",
    "\n",
    "hist = np.bincount((np.ceil(obs.data['exp_time'][obs_mask & (obs.data['priority'][obs_mask] < 9)] / 1800.0)).astype(int))\n",
    "ax.bar(np.arange(hist.size), hist)\n",
    "\n",
    "hist = np.bincount((np.ceil(obs.data['exp_time'][obs_assigned & (obs.data['priority'] >= 0) & (obs.data['priority'] < 9)] / 1800.0)).astype(int))\n",
    "ax.bar(np.arange(hist.size), hist, color='r')\n",
    "\n",
    "\n",
    "ax.set_title('Distribution of required visit (t_exp = 1800 s)')\n",
    "ax.set_xlabel('Number of required visits')\n",
    "ax.set_ylabel('Target count')\n"
   ]
  },
  {
   "cell_type": "code",
   "execution_count": 0,
   "metadata": {},
   "outputs": [],
   "source": [
    "# Make a plot that shows the difference of a single design vs moving fiber design"
   ]
  },
  {
   "cell_type": "code",
   "execution_count": 0,
   "metadata": {},
   "outputs": [],
   "source": [
    "np.bincount(obs.data['exp_time'][(obs.data['priority'] >= 0) & (obs.data['priority'] < 9)] / 1800)"
   ]
  },
  {
   "cell_type": "code",
   "execution_count": 0,
   "metadata": {},
   "outputs": [],
   "source": [
    "np.bincount(np.ceil(obs.data['exp_time'][(obs.data['priority'] >= 0) & (obs.data['priority'] < 9)] / 1800))"
   ]
  },
  {
   "cell_type": "code",
   "execution_count": 0,
   "metadata": {},
   "outputs": [],
   "source": [
    "hist = np.bincount(np.ceil(obs.data['exp_time'][(obs.data['priority'] >= 0) & (obs.data['priority'] < 9)] / 1800))\n",
    "plt.bar(np.arange(hist.size), hist)\n",
    "\n",
    "hist = np.bincount(np.ceil(obs.data['exp_time'][obs_assigned & (obs.data['priority'] >= 0) & (obs.data['priority'] < 9)] / 1800))\n",
    "plt.bar(np.arange(hist.size), hist, color='r')\n",
    "\n",
    "plt.title('Distribution of required visit')"
   ]
  },
  {
   "cell_type": "code",
   "execution_count": 0,
   "metadata": {},
   "outputs": [],
   "source": [
    "cmap = plt.get_cmap('tab10')\n",
    "\n",
    "f = plt.figure(figsize=(8, 3), dpi=240)\n",
    "gs = f.add_gridspec(1, 3, width_ratios=[2, 2, 4], wspace=0.4)   \n",
    "\n",
    "axs = [None, None, None]\n",
    "ax = axs[0] = f.add_subplot(gs[0])\n",
    "cmd.plot_observation(ax, obs, c='lightgray')\n",
    "\n",
    "ax = axs[1] = f.add_subplot(gs[1])\n",
    "ccd.plot_observation(ax, obs, c='lightgray')\n",
    "\n",
    "ax = axs[2] = f.add_subplot(gs[2], projection=wcs.wcs)\n",
    "fov.plot_observation(ax, obs, c='lightgray')\n",
    "\n",
    "for i, a in enumerate(obs_assigments):\n",
    "    cmd.plot_observation(axs[0], obs, c=obs.data['priority'][obs_assigments[i]], mask=obs_assigments[i], cmap=cmap)\n",
    "    ccd.plot_observation(axs[1], obs, c=obs.data['priority'][obs_assigments[i]], mask=obs_assigments[i], cmap=cmap)\n",
    "    l = fov.plot_observation(axs[2], obs, c=obs.data['priority'][obs_assigments[i]], size=0.5, mask=obs_assigments[i], cmap=cmap)\n",
    "\n",
    "f.colorbar(l, ax=axs[2], label='target priority')\n",
    "\n",
    "f.suptitle(f'Observed stars')"
   ]
  },
  {
   "cell_type": "code",
   "execution_count": 0,
   "metadata": {},
   "outputs": [],
   "source": [
    "cmap = plt.get_cmap('tab10')\n",
    "\n",
    "f = plt.figure(figsize=(8, 3), dpi=240)\n",
    "gs = f.add_gridspec(1, 3, width_ratios=[2, 2, 3], wspace=0.4)   \n",
    "\n",
    "ax = f.add_subplot(gs[2], projection=wcs.wcs)\n",
    "fov.plot_observation(ax, obs, c='lightgray')\n",
    "\n",
    "for i, a in enumerate(sky_assigments):\n",
    "    \n",
    "    fov.plot_observation(ax, sky, c='b', mask=sky_assigments[i], size=0.5, cmap=cmap)\n",
    "    fov.plot_observation(ax, fluxstd, c='r', mask=fluxstd_assigments[i], size=0.5, cmap=cmap)\n",
    "    fov.plot_observation(ax, obs, c='k', mask=obs_assigments[i], size=0.2, cmap=cmap)\n",
    "\n",
    "f.suptitle(f'Fiber assignments')"
   ]
  },
  {
   "cell_type": "code",
   "execution_count": 0,
   "metadata": {},
   "outputs": [],
   "source": []
  },
  {
   "cell_type": "code",
   "execution_count": 0,
   "metadata": {},
   "outputs": [],
   "source": []
  },
  {
   "cell_type": "code",
   "execution_count": 0,
   "metadata": {},
   "outputs": [],
   "source": []
  },
  {
   "cell_type": "code",
   "execution_count": 0,
   "metadata": {},
   "outputs": [],
   "source": [
    "cmap = plt.get_cmap('tab10')\n",
    "\n",
    "for i, a in enumerate(obs_assigments):\n",
    "    f = plt.figure(figsize=(8, 3), dpi=240)\n",
    "    gs = f.add_gridspec(1, 3, width_ratios=[2, 2, 3], wspace=0.4)   \n",
    "\n",
    "    ax = f.add_subplot(gs[0])\n",
    "    cmd.plot_observation(ax, obs, c='lightgray')\n",
    "    cmd.plot_observation(ax, obs, c=obs.data['priority'][obs_assigments[i]], mask=obs_assigments[i], cmap=cmap)\n",
    "\n",
    "    ax = f.add_subplot(gs[1])\n",
    "    ccd.plot_observation(ax, obs, c='lightgray')\n",
    "    ccd.plot_observation(ax, obs, c=obs.data['priority'][obs_assigments[i]], mask=obs_assigments[i], cmap=cmap)\n",
    "\n",
    "    ax = f.add_subplot(gs[2], projection=wcs.wcs)\n",
    "    fov.plot_observation(ax, obs, c='lightgray')\n",
    "    fov.plot_observation(ax, obs, c=obs.data['priority'][obs_assigments[i]], mask=obs_assigments[i], cmap=cmap)\n",
    "\n",
    "    f.suptitle(f'Pointing {i}')"
   ]
  },
  {
   "cell_type": "code",
   "execution_count": 0,
   "metadata": {},
   "outputs": [],
   "source": [
    "cmap = plt.get_cmap('tab10')\n",
    "\n",
    "for i, a in enumerate(sky_assigments):\n",
    "    f = plt.figure(figsize=(8, 3), dpi=240)\n",
    "    gs = f.add_gridspec(1, 3, width_ratios=[2, 2, 3], wspace=0.4)   \n",
    "\n",
    "    ax = f.add_subplot(gs[2], projection=wcs.wcs)\n",
    "    fov.plot_observation(ax, obs, c='lightgray')\n",
    "    fov.plot_observation(ax, obs, c=obs.data['priority'][obs_assigments[i]], mask=obs_assigments[i], size=0.5, cmap=cmap)\n",
    "\n",
    "    f.suptitle(f'Pointing {i}')"
   ]
  },
  {
   "cell_type": "code",
   "execution_count": 0,
   "metadata": {},
   "outputs": [],
   "source": [
    "cmap = plt.get_cmap('tab10')\n",
    "\n",
    "f = plt.figure(figsize=(8, 3), dpi=240)\n",
    "gs = f.add_gridspec(1, 3, width_ratios=[2, 2, 3], wspace=0.4)   \n",
    "\n",
    "ax = f.add_subplot(gs[2], projection=wcs.wcs)\n",
    "fov.plot_observation(ax, obs, c='lightgray')\n",
    "\n",
    "for i, a in enumerate(sky_assigments):\n",
    "    fov.plot_observation(ax, obs, c=obs.data['priority'][obs_assigments[i]], mask=obs_assigments[i], size=0.5, cmap=cmap)\n",
    "\n",
    "f.suptitle(f'Pointing {i}')"
   ]
  },
  {
   "cell_type": "code",
   "execution_count": 0,
   "metadata": {},
   "outputs": [],
   "source": [
    "cmap = plt.get_cmap('tab10')\n",
    "\n",
    "for i, a in enumerate(sky_assigments):\n",
    "    f = plt.figure(figsize=(8, 3), dpi=240)\n",
    "    gs = f.add_gridspec(1, 3, width_ratios=[2, 2, 3], wspace=0.4)   \n",
    "\n",
    "    # ax = f.add_subplot(gs[0])\n",
    "    # cmd.plot_observation(ax, obs, c='lightgray')\n",
    "    # cmd.plot_observation(ax, obs, c=obs.data['priority'][sky_assigments[i]], mask=obs_assigments[i], cmap=cmap)\n",
    "\n",
    "    # ax = f.add_subplot(gs[1])\n",
    "    # ccd.plot_observation(ax, obs, c='lightgray')\n",
    "    # ccd.plot_observation(ax, obs, c=obs.data['priority'][obs_assigments[i]], mask=obs_assigments[i], cmap=cmap)\n",
    "\n",
    "    ax = f.add_subplot(gs[2], projection=wcs.wcs)\n",
    "    fov.plot_observation(ax, obs, c='lightgray')\n",
    "    fov.plot_observation(ax, sky, c='b', mask=sky_assigments[i], size=2, cmap=cmap)\n",
    "    fov.plot_observation(ax, fluxstd, c='r', mask=fluxstd_assigments[i], size=2, cmap=cmap)\n",
    "    fov.plot_observation(ax, obs, c='k', mask=obs_assigments[i], size=0.5, cmap=cmap)\n",
    "\n",
    "    f.suptitle(f'Pointing {i}')"
   ]
  },
  {
   "cell_type": "code",
   "execution_count": 0,
   "metadata": {},
   "outputs": [],
   "source": [
    "cmap = plt.get_cmap('tab10')\n",
    "\n",
    "f = plt.figure(figsize=(8, 3), dpi=240)\n",
    "gs = f.add_gridspec(1, 3, width_ratios=[2, 2, 3], wspace=0.4)   \n",
    "\n",
    "ax = f.add_subplot(gs[2], projection=wcs.wcs)\n",
    "fov.plot_observation(ax, obs, c='lightgray')\n",
    "\n",
    "for i, a in enumerate(sky_assigments):\n",
    "    \n",
    "    fov.plot_observation(ax, sky, c='b', mask=sky_assigments[i], size=0.5, cmap=cmap)\n",
    "    fov.plot_observation(ax, fluxstd, c='r', mask=fluxstd_assigments[i], size=0.5, cmap=cmap)\n",
    "    fov.plot_observation(ax, obs, c='k', mask=obs_assigments[i], size=0.5, cmap=cmap)\n",
    "\n",
    "f.suptitle(f'Pointing {i}')"
   ]
  },
  {
   "cell_type": "code",
   "execution_count": 0,
   "metadata": {},
   "outputs": [],
   "source": [
    "# Find cobras that have to move between exposures\n",
    "cobra_assignments = nf.get_cobra_assignments()"
   ]
  },
  {
   "cell_type": "code",
   "execution_count": 0,
   "metadata": {},
   "outputs": [],
   "source": [
    "cobra_moves = np.sign(np.abs(np.diff(np.stack(cobra_assignments, axis=-1), axis=-1)))\n",
    "cobra_moves"
   ]
  },
  {
   "cell_type": "code",
   "execution_count": 0,
   "metadata": {},
   "outputs": [],
   "source": [
    "# All cobras, moving cobras\n",
    "cobra_moves.shape[0], np.sum(np.any(cobra_moves == 1, axis=-1))"
   ]
  },
  {
   "cell_type": "markdown",
   "metadata": {},
   "source": [
    "# Generate pfsDesign files"
   ]
  },
  {
   "cell_type": "code",
   "execution_count": 0,
   "metadata": {},
   "outputs": [],
   "source": [
    "galaxy.ID"
   ]
  },
  {
   "cell_type": "code",
   "execution_count": 0,
   "metadata": {},
   "outputs": [],
   "source": [
    "nf.visits"
   ]
  },
  {
   "cell_type": "code",
   "execution_count": 0,
   "metadata": {},
   "outputs": [],
   "source": [
    "# Get the assignments\n",
    "\n",
    "assignments = nf.get_target_assignments(include_target_columns=True,\n",
    "                                        include_unassigned_fibers=True,\n",
    "                                        include_engineering_fibers=True)\n",
    "\n",
    "assignments.shape"
   ]
  },
  {
   "cell_type": "code",
   "execution_count": 0,
   "metadata": {},
   "outputs": [],
   "source": [
    "assignments.columns"
   ]
  },
  {
   "cell_type": "markdown",
   "metadata": {},
   "source": [
    "### Calculate the fluxes for the observations\n",
    "\n",
    "The design files need the fluxes which are not processed though netflow, so we need to join them here.\n",
    "\n",
    "Fluxes are represented as a list of numbers, one list for each target, along with a list of filter names.\n",
    "\n",
    "Filter names are postfixed with the filter system, e.g. \"r_ps1\".\n",
    "\n",
    "pfsDesign expects three difference fluxes:\n",
    "* PSF flux\n",
    "* Total flux\n",
    "* Fiber flux\n",
    "\n",
    "We are going to store the lists in the DataFrame we pass to `get_pfsDesign`"
   ]
  },
  {
   "cell_type": "code",
   "execution_count": 0,
   "metadata": {},
   "outputs": [],
   "source": [
    "# The HSC dSph data files only contain PSF magnitudes, we need to calculate the fluxes\n",
    "# This will create columns like `obs_flux_hsc_g`, 'err_flux_hsc_g', etc.\n",
    "obs.calculate_flux(force=False)"
   ]
  },
  {
   "cell_type": "code",
   "execution_count": 0,
   "metadata": {},
   "outputs": [],
   "source": [
    "obs.data.columns"
   ]
  },
  {
   "cell_type": "code",
   "execution_count": 0,
   "metadata": {},
   "outputs": [],
   "source": [
    "# Join the HSC data with the assignments\n",
    "assignments_obs = obs.data.set_index('objid').join(assignments[['targetid']].set_index('targetid'), how='inner')\n",
    "\n",
    "# Convert index back to `objid` column\n",
    "assignments_obs.reset_index(inplace=True, names='objid')\n",
    "\n",
    "# Set additional, missing columns\n",
    "assignments_obs['epoch'] = 'J2000.0'\n",
    "assignments_obs['tract'] = 0\n",
    "assignments_obs['patch'] = '0,0'\n",
    "assignments_obs['catid'] = 15001\n",
    "assignments_obs['proposalid'] = 'SSP_GA_dSph'\n",
    "\n",
    "assignments_obs"
   ]
  },
  {
   "cell_type": "code",
   "execution_count": 0,
   "metadata": {},
   "outputs": [],
   "source": [
    "for c in assignments_obs.columns:\n",
    "    print(c, assignments_obs[c].dtype)"
   ]
  },
  {
   "cell_type": "code",
   "execution_count": 0,
   "metadata": {},
   "outputs": [],
   "source": [
    "# Convert flux columns into columns of lists\n",
    "\n",
    "def flux_to_list(row, prefix='obs'):\n",
    "    return [ row[f'{prefix}_hsc_{b}'] for b in [ 'g', 'i', 'nb515'] ]\n",
    "\n",
    "def filter_to_list(row):\n",
    "    return [ 'hsc_g', 'hsc_i', 'hsc_nb515' ]\n",
    "\n",
    "for prefix in [ 'psf', 'fiber', 'total' ]:\n",
    "    assignments_obs[f'{prefix}_flux'] = assignments_obs.apply(lambda row: flux_to_list(row, 'obs_flux'), axis=1)\n",
    "    assignments_obs[f'{prefix}_flux_err'] = assignments_obs.apply(lambda row: flux_to_list(row, 'err_flux'), axis=1)\n",
    "\n",
    "assignments_obs['filter'] = assignments_obs.apply(filter_to_list, axis=1)"
   ]
  },
  {
   "cell_type": "code",
   "execution_count": 0,
   "metadata": {},
   "outputs": [],
   "source": [
    "assignments_obs.columns"
   ]
  },
  {
   "cell_type": "markdown",
   "metadata": {},
   "source": [
    "### Convert the columns of flux standards"
   ]
  },
  {
   "cell_type": "code",
   "execution_count": 0,
   "metadata": {},
   "outputs": [],
   "source": [
    "fluxstd.data.columns"
   ]
  },
  {
   "cell_type": "code",
   "execution_count": 0,
   "metadata": {},
   "outputs": [],
   "source": [
    "# Join the flux standards with the assignments to work with a smaller dataset\n",
    "assignments_fluxstd = fluxstd.data.set_index('objid').join(assignments[['targetid']].set_index('targetid'), how='inner')\n",
    "\n",
    "# Convert index back to `objid` column\n",
    "assignments_fluxstd.reset_index(inplace=True, names='objid')\n",
    "\n",
    "# Set additional, missing columns'\n",
    "assignments_fluxstd['catid'] = -1\n",
    "assignments_fluxstd['tract'] = 0\n",
    "assignments_fluxstd['patch'] = '0,0'\n",
    "assignments_fluxstd['catid'] = 15001\n",
    "assignments_fluxstd['proposalid'] = ''\n",
    "\n",
    "assignments_fluxstd"
   ]
  },
  {
   "cell_type": "code",
   "execution_count": 0,
   "metadata": {},
   "outputs": [],
   "source": [
    "assignments_fluxstd[[ f'filter_{f}' for f in 'grizyj' ]]"
   ]
  },
  {
   "cell_type": "code",
   "execution_count": 0,
   "metadata": {},
   "outputs": [],
   "source": [
    "# Convert flux columns into columns of lists\n",
    "\n",
    "def flux_to_list(row, prefix='psf_flux'):\n",
    "    fluxes = []\n",
    "    for f in 'grizyj':\n",
    "        if row[f'filter_{f}'] is not None:\n",
    "            fluxes.append(row[f'{prefix}_{f}'])\n",
    "    return fluxes\n",
    "        \n",
    "\n",
    "def filter_to_list(row):\n",
    "    filters = []\n",
    "    for f in 'grizyj':\n",
    "        if row[f'filter_{f}'] is not None:\n",
    "            filters.append(row[f'filter_{f}'])\n",
    "    return filters\n",
    "\n",
    "for prefix in [ 'psf', 'fiber', 'total' ]:\n",
    "    assignments_fluxstd[f'{prefix}_flux'] = assignments_fluxstd.apply(lambda row: flux_to_list(row, 'psf_flux'), axis=1)\n",
    "    assignments_fluxstd[f'{prefix}_flux_err'] = assignments_fluxstd.apply(lambda row: flux_to_list(row, 'psf_flux_error'), axis=1)\n",
    "\n",
    "assignments_fluxstd['filter'] = assignments_fluxstd.apply(filter_to_list, axis=1)"
   ]
  },
  {
   "cell_type": "code",
   "execution_count": 0,
   "metadata": {},
   "outputs": [],
   "source": [
    "assignments_fluxstd.columns"
   ]
  },
  {
   "cell_type": "code",
   "execution_count": 0,
   "metadata": {},
   "outputs": [],
   "source": [
    "assignments_fluxstd[['filter', 'psf_flux', 'psf_flux_err', 'total_flux', 'total_flux_err']]"
   ]
  },
  {
   "cell_type": "markdown",
   "metadata": {},
   "source": [
    "### List of all targets"
   ]
  },
  {
   "cell_type": "code",
   "execution_count": 0,
   "metadata": {},
   "outputs": [],
   "source": [
    "# Pick only columns required for PfsDesign\n",
    "columns = [ 'objid', 'epoch', 'proposalid', 'tract', 'patch', 'catid',\n",
    "           'filter', 'psf_flux', 'psf_flux_err', 'fiber_flux', 'fiber_flux_err', 'total_flux', 'total_flux_err' ]\n",
    "\n",
    "all_targets = pd.concat([ assignments_obs[columns], assignments_fluxstd[columns] ])"
   ]
  },
  {
   "cell_type": "code",
   "execution_count": 0,
   "metadata": {},
   "outputs": [],
   "source": [
    "for c in all_targets.columns:\n",
    "    print(c, all_targets[c].dtype)"
   ]
  },
  {
   "cell_type": "code",
   "execution_count": 0,
   "metadata": {},
   "outputs": [],
   "source": [
    "all_targets"
   ]
  },
  {
   "cell_type": "markdown",
   "metadata": {},
   "source": [
    "### Merge the assignments with the fluxes etc. calculated above"
   ]
  },
  {
   "cell_type": "code",
   "execution_count": 0,
   "metadata": {},
   "outputs": [],
   "source": [
    "# assignments.join(obs.data[cols], on=['targetid', 'objid'], how='left')\n",
    "\n",
    "a = assignments.set_index('targetid')\n",
    "b = all_targets.set_index('objid')\n",
    "\n",
    "# Only include columns that are not in a\n",
    "cols = b.columns.difference(a.columns)\n",
    "print(cols)\n",
    "\n",
    "all_assignments = a.join(b[cols], how='left')\n",
    "all_assignments.reset_index(inplace=True, names='targetid')\n",
    "print(all_assignments.columns)"
   ]
  },
  {
   "cell_type": "code",
   "execution_count": 0,
   "metadata": {},
   "outputs": [],
   "source": [
    "b['filter']"
   ]
  },
  {
   "cell_type": "code",
   "execution_count": 0,
   "metadata": {},
   "outputs": [],
   "source": [
    "# The missing filters are the sky fibers\n",
    "all_assignments[['targetid', 'filter']]"
   ]
  },
  {
   "cell_type": "code",
   "execution_count": 0,
   "metadata": {},
   "outputs": [],
   "source": [
    "all_assignments"
   ]
  },
  {
   "cell_type": "code",
   "execution_count": 0,
   "metadata": {},
   "outputs": [],
   "source": [
    "for c in all_assignments.columns:\n",
    "    print(c, all_assignments[c].dtype)"
   ]
  },
  {
   "cell_type": "code",
   "execution_count": 0,
   "metadata": {},
   "outputs": [],
   "source": [
    "# Do some final polishing\n",
    "\n",
    "# TODO: determine tract and patch from the coordinates\n",
    "all_assignments['tract'] = 0\n",
    "all_assignments['patch'] = '0,0'\n",
    "all_assignments['obcode'] = '-1'\n",
    "\n",
    "all_assignments['filter'] = all_assignments['filter'].apply(lambda x: x if isinstance(x, list) else [])\n",
    "for prefix in ['fiber', 'psf', 'total']:\n",
    "    all_assignments[f'{prefix}_flux'] = all_assignments[f'{prefix}_flux'].apply(lambda x: x if isinstance(x, list) else [])\n",
    "    all_assignments[f'{prefix}_flux_err'] = all_assignments[f'{prefix}_flux_err'].apply(lambda x: x if isinstance(x, list) else [])"
   ]
  },
  {
   "cell_type": "code",
   "execution_count": 0,
   "metadata": {},
   "outputs": [],
   "source": [
    "from pfs.ga.targeting.netflow import Design\n",
    "\n",
    "Design.get_pfsDesign_visit(nf.visits[0], all_assignments)"
   ]
  },
  {
   "cell_type": "markdown",
   "metadata": {},
   "source": [
    "### Read back the file"
   ]
  },
  {
   "cell_type": "code",
   "execution_count": 0,
   "metadata": {},
   "outputs": [],
   "source": [
    "from astropy.io import fits\n",
    "from astropy.table import Table\n",
    "\n",
    "# Load back the design file with astropy for direct inspection\n",
    "with fits.open('pfsDesign-0x0000000000000000.fits', memmap=False) as hdul:\n",
    "    hdul.info()\n",
    "    # print(hdul[0].header)\n",
    "    # print(hdul[1].header)\n",
    "    # print(hdul[2].header)\n",
    "\n",
    "    data = Table(hdul[1].data)\n",
    "    \n",
    "data.info()"
   ]
  },
  {
   "cell_type": "code",
   "execution_count": 0,
   "metadata": {},
   "outputs": [],
   "source": [
    "data"
   ]
  },
  {
   "cell_type": "code",
   "execution_count": 0,
   "metadata": {},
   "outputs": [],
   "source": []
  }
 ],
 "metadata": {
  "kernelspec": {
   "display_name": "astro-tf211",
   "language": "python",
   "name": "python3"
  },
  "language_info": {
   "codemirror_mode": {
    "name": "ipython",
    "version": 3
   },
   "file_extension": ".py",
   "mimetype": "text/x-python",
   "name": "python",
   "nbconvert_exporter": "python",
   "pygments_lexer": "ipython3",
   "version": "3.10.9"
  }
 },
 "nbformat": 4,
 "nbformat_minor": 4
}