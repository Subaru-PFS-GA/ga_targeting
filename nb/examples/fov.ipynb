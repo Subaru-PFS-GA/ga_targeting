{
 "cells": [
  {
   "cell_type": "code",
   "execution_count": 0,
   "metadata": {},
   "outputs": [],
   "source": [
    "OBS_PATH = '/datascope/subaru/data/cmdfit/dSph/umi_tpall3e_g24.cat'"
   ]
  },
  {
   "cell_type": "code",
   "execution_count": 0,
   "metadata": {},
   "outputs": [],
   "source": [
    "import os, sys\n",
    "import numpy as np\n",
    "import pandas as pd\n",
    "import matplotlib as mpl\n",
    "import matplotlib.pyplot as plt\n",
    "from matplotlib.gridspec import GridSpec\n",
    "from matplotlib.colors import LinearSegmentedColormap\n",
    "from matplotlib.patches import Ellipse, Circle\n",
    "from scipy.special import logsumexp\n",
    "from scipy.interpolate import interp1d\n",
    "\n",
    "from astropy import wcs\n",
    "from astropy import units as u\n",
    "from astropy.coordinates import Angle"
   ]
  },
  {
   "cell_type": "code",
   "execution_count": 0,
   "metadata": {},
   "outputs": [],
   "source": [
    "plt.rc('font', size=6) #controls default text size"
   ]
  },
  {
   "cell_type": "code",
   "execution_count": 0,
   "metadata": {},
   "outputs": [],
   "source": [
    "%load_ext autoreload"
   ]
  },
  {
   "cell_type": "code",
   "execution_count": 0,
   "metadata": {},
   "outputs": [],
   "source": [
    "%autoreload 2"
   ]
  },
  {
   "cell_type": "markdown",
   "metadata": {},
   "source": [
    "# Load observations"
   ]
  },
  {
   "cell_type": "code",
   "execution_count": 0,
   "metadata": {},
   "outputs": [],
   "source": [
    "from pfs.ga.targeting.instrument import *\n",
    "from pfs.ga.targeting.diagram import CMD, CCD, ColorAxis, MagnitudeAxis\n",
    "from pfs.ga.targeting.photometry import Photometry, Magnitude, Color"
   ]
  },
  {
   "cell_type": "code",
   "execution_count": 0,
   "metadata": {},
   "outputs": [],
   "source": [
    "obs = SubaruHSC.text_observation_reader().read(OBS_PATH)\n",
    "obs.data.head()"
   ]
  },
  {
   "cell_type": "markdown",
   "metadata": {},
   "source": [
    "# Plot color-magnitude diagrams"
   ]
  },
  {
   "cell_type": "code",
   "execution_count": 0,
   "metadata": {},
   "outputs": [],
   "source": [
    "hsc = SubaruHSC.photometry()\n",
    "cmd = CMD([\n",
    "        ColorAxis(\n",
    "            Color([hsc.magnitudes['g'], hsc.magnitudes['i']]),\n",
    "            limits=(-1, 4)),\n",
    "        MagnitudeAxis(\n",
    "            hsc.magnitudes['g'],\n",
    "            limits=(15.5, 24.5)\n",
    "        )\n",
    "    ])\n",
    "ccd = CCD([\n",
    "    cmd.axes[0],\n",
    "    ColorAxis(\n",
    "        Color([hsc.magnitudes['g'], hsc.magnitudes['nb515']]),\n",
    "        limits=(-0.5, 0.5)\n",
    "    )\n",
    "])"
   ]
  },
  {
   "cell_type": "code",
   "execution_count": 0,
   "metadata": {},
   "outputs": [],
   "source": [
    "f, axs = plt.subplots(1, 2, figsize=(6, 4), dpi=120)\n",
    "\n",
    "cmd.plot_observation(axs[0], obs)\n",
    "ccd.plot_observation(axs[1], obs)\n",
    "\n",
    "f.tight_layout()"
   ]
  },
  {
   "cell_type": "markdown",
   "metadata": {},
   "source": [
    "# Plot field of view of instrument"
   ]
  },
  {
   "cell_type": "code",
   "execution_count": 0,
   "metadata": {},
   "outputs": [],
   "source": [
    "from pfs.ga.targeting.projection import Pointing, WcsProjection\n",
    "from pfs.ga.targeting.instrument import SubaruWFC, SubaruPFI\n",
    "from pfs.ga.targeting.diagram import FOV, FP"
   ]
  },
  {
   "cell_type": "code",
   "execution_count": 0,
   "metadata": {},
   "outputs": [],
   "source": [
    "pointing = Pointing(Angle('15h 09m 08.5s').degree, Angle('+67d 13m 21s').degree)\n",
    "print(pointing.ra, pointing.dec)\n",
    "wcs = WcsProjection(pointing, proj='TAN')\n",
    "wfc = SubaruWFC(wcs.pointing)\n",
    "fov = FOV(projection=wcs)"
   ]
  },
  {
   "cell_type": "code",
   "execution_count": 0,
   "metadata": {},
   "outputs": [],
   "source": [
    "f, ax = plt.subplots(1, 1, figsize=(4, 4), dpi=120, subplot_kw=dict(projection=fov.projection.wcs))\n",
    "fov.plot_catalog(ax, obs)\n",
    "\n",
    "for pp in [(228.2, 67.5, 0),\n",
    "           (226.3, 67.5, 0),\n",
    "           (226.0, 66.9, 0),\n",
    "           (228.1, 66.955, 40)]:\n",
    "    wfc = SubaruWFC(Pointing(*pp))\n",
    "    pfi = SubaruPFI(wfc)\n",
    "    pfi.plot_focal_plane(ax, fov, blocks=True, c='b', ls='-')\n",
    "    pfi.plot_focal_plane(ax, fov, corners=True, c='r', ls='-')"
   ]
  },
  {
   "cell_type": "markdown",
   "metadata": {},
   "source": [
    "# Plot focal plane"
   ]
  },
  {
   "cell_type": "code",
   "execution_count": 0,
   "metadata": {},
   "outputs": [],
   "source": [
    "f, ax = plt.subplots(1, 1, figsize=(4, 4), dpi=240)\n",
    "\n",
    "fp = FP()\n",
    "wfc = SubaruWFC(Pointing(228.2, 67.5, 0))\n",
    "pfi = SubaruPFI(wfc)\n",
    "pfi.plot_focal_plane(ax, fp, blocks=True, c='b', ls='-')\n",
    "pfi.plot_cobras(ax, fp)\n",
    "\n",
    "ax.set_xlim(-250, 250)\n",
    "ax.set_ylim(-250, 250)"
   ]
  },
  {
   "cell_type": "code",
   "execution_count": 0,
   "metadata": {},
   "outputs": [],
   "source": [
    "wfc = SubaruWFC(Pointing(228.2, 67.5, 0))\n",
    "pfi = SubaruPFI(wfc)\n",
    "centers, radec = pfi.get_cobra_centers()\n",
    "radec.shape"
   ]
  },
  {
   "cell_type": "code",
   "execution_count": 0,
   "metadata": {},
   "outputs": [],
   "source": [
    "f, ax = plt.subplots(1, 1, figsize=(4, 4), dpi=120)\n",
    "\n",
    "r = np.random.rand(radec.shape[0])\n",
    "\n",
    "fp = FP()\n",
    "wfc = SubaruWFC(Pointing(228.2, 67.5, 0))\n",
    "pfi = SubaruPFI(wfc)\n",
    "pfi.plot_focal_plane(ax, fp, outline=True, c='b', ls='-')\n",
    "pfi.plot_cobras(ax, fp, r)\n",
    "\n",
    "ax.set_xlim(-250, 250)\n",
    "ax.set_ylim(-250, 250)"
   ]
  },
  {
   "cell_type": "code",
   "execution_count": 0,
   "metadata": {},
   "outputs": [],
   "source": []
  }
 ],
 "metadata": {
  "kernelspec": {
   "display_name": "astro-tf211",
   "language": "python",
   "name": "python3"
  },
  "language_info": {
   "codemirror_mode": {
    "name": "ipython",
    "version": 3
   },
   "file_extension": ".py",
   "mimetype": "text/x-python",
   "name": "python",
   "nbconvert_exporter": "python",
   "pygments_lexer": "ipython3",
   "version": "3.10.9"
  }
 },
 "nbformat": 4,
 "nbformat_minor": 2
}